{
 "cells": [
  {
   "cell_type": "code",
   "id": "initial_id",
   "metadata": {
    "collapsed": true,
    "ExecuteTime": {
     "end_time": "2025-01-08T07:09:17.732657Z",
     "start_time": "2025-01-08T07:09:17.729871Z"
    }
   },
   "source": [
    "import numpy as np\n",
    "import matplotlib.pyplot as plt"
   ],
   "outputs": [],
   "execution_count": 187
  },
  {
   "metadata": {},
   "cell_type": "markdown",
   "source": "# list转ndarray",
   "id": "6b14e362a1b9b003"
  },
  {
   "metadata": {
    "ExecuteTime": {
     "end_time": "2025-01-08T07:09:17.878370Z",
     "start_time": "2025-01-08T07:09:17.874683Z"
    }
   },
   "cell_type": "code",
   "source": [
    "# list转ndarray\n",
    "my_list = list(range(1, 11))\n",
    "print(my_list)\n",
    "print(type(my_list))\n",
    "\n",
    "my_ndarray = np.array(my_list)\n",
    "print(my_ndarray)\n",
    "print(type(my_ndarray))"
   ],
   "id": "e5deabe33ba5cca0",
   "outputs": [
    {
     "name": "stdout",
     "output_type": "stream",
     "text": [
      "[1, 2, 3, 4, 5, 6, 7, 8, 9, 10]\n",
      "<class 'list'>\n",
      "[ 1  2  3  4  5  6  7  8  9 10]\n",
      "<class 'numpy.ndarray'>\n"
     ]
    }
   ],
   "execution_count": 188
  },
  {
   "metadata": {},
   "cell_type": "markdown",
   "source": "# list与ndarray的运算效率对比",
   "id": "a1fbce977926d95"
  },
  {
   "metadata": {
    "ExecuteTime": {
     "end_time": "2025-01-08T07:09:19.591603Z",
     "start_time": "2025-01-08T07:09:17.884372Z"
    }
   },
   "cell_type": "code",
   "source": [
    "import random\n",
    "import time\n",
    "\n",
    "a = []\n",
    "for i in range(10 ** 7):\n",
    "    a.append(random.random())\n",
    "print(\"随机生成10^7个随机数的列表\")\n",
    "\n",
    "b = np.array(a)\n",
    "print(\"转换为ndarray\")\n",
    "\n",
    "t1 = time.time()\n",
    "sum_list = np.sum(a)\n",
    "t2 = time.time()\n",
    "\n",
    "t3 = time.time()\n",
    "sum_ndarray = np.sum(b)\n",
    "t4 = time.time()\n",
    "\n",
    "# ndarray的计算效率优于python的list\n",
    "print(f\"list求和耗时：{t2 - t1}秒, ndarray求和耗时：{t4 - t3}秒\")"
   ],
   "id": "4112f8bc17718126",
   "outputs": [
    {
     "name": "stdout",
     "output_type": "stream",
     "text": [
      "随机生成10^7个随机数的列表\n",
      "转换为ndarray\n",
      "list求和耗时：0.33391380310058594秒, ndarray求和耗时：0.009996891021728516秒\n"
     ]
    }
   ],
   "execution_count": 189
  },
  {
   "metadata": {},
   "cell_type": "markdown",
   "source": "# ndarray的基本操作 ",
   "id": "342c04f36060463e"
  },
  {
   "metadata": {
    "ExecuteTime": {
     "end_time": "2025-01-08T07:09:19.596785Z",
     "start_time": "2025-01-08T07:09:19.592610Z"
    }
   },
   "cell_type": "code",
   "source": [
    "# 创建ndarray\n",
    "t1 = np.array([1, 2, 3])\n",
    "print(t1)\n",
    "print(type(t1))"
   ],
   "id": "79eeabcedde15ee2",
   "outputs": [
    {
     "name": "stdout",
     "output_type": "stream",
     "text": [
      "[1 2 3]\n",
      "<class 'numpy.ndarray'>\n"
     ]
    }
   ],
   "execution_count": 190
  },
  {
   "metadata": {
    "ExecuteTime": {
     "end_time": "2025-01-08T07:09:19.600376Z",
     "start_time": "2025-01-08T07:09:19.596785Z"
    }
   },
   "cell_type": "code",
   "source": [
    "# range转ndarray\n",
    "print(type(range(10)))  # range返回的是一个range对象，不能直接转换为ndarray\n",
    "t2 = np.array(range(10))\n",
    "print(t2)\n",
    "print(type(t2))"
   ],
   "id": "8aa792aad2fb099",
   "outputs": [
    {
     "name": "stdout",
     "output_type": "stream",
     "text": [
      "<class 'range'>\n",
      "[0 1 2 3 4 5 6 7 8 9]\n",
      "<class 'numpy.ndarray'>\n"
     ]
    }
   ],
   "execution_count": 191
  },
  {
   "metadata": {
    "ExecuteTime": {
     "end_time": "2025-01-08T07:09:19.604327Z",
     "start_time": "2025-01-08T07:09:19.601381Z"
    }
   },
   "cell_type": "code",
   "source": [
    "# arange\n",
    "t3 = np.arange(0, 10, 2)  # 等价于range(0,10,2),返回ndarray\n",
    "print(t3)\n",
    "print(type(t3))  # "
   ],
   "id": "43fbd63f87b1b475",
   "outputs": [
    {
     "name": "stdout",
     "output_type": "stream",
     "text": [
      "[0 2 4 6 8]\n",
      "<class 'numpy.ndarray'>\n"
     ]
    }
   ],
   "execution_count": 192
  },
  {
   "metadata": {
    "ExecuteTime": {
     "end_time": "2025-01-08T07:09:19.608143Z",
     "start_time": "2025-01-08T07:09:19.605331Z"
    }
   },
   "cell_type": "code",
   "source": [
    "# 二维列表转ndarray\n",
    "list2 = [[1, 2], [3, 4], [5, 6]]\n",
    "twoArray = np.array(list2)\n",
    "print(type(twoArray))\n",
    "print(twoArray)  # ndarray的输出是没有逗号的\n",
    "print(list2)  #列表的输出是有逗号的"
   ],
   "id": "4b504606a01abfe7",
   "outputs": [
    {
     "name": "stdout",
     "output_type": "stream",
     "text": [
      "<class 'numpy.ndarray'>\n",
      "[[1 2]\n",
      " [3 4]\n",
      " [5 6]]\n",
      "[[1, 2], [3, 4], [5, 6]]\n"
     ]
    }
   ],
   "execution_count": 193
  },
  {
   "metadata": {
    "ExecuteTime": {
     "end_time": "2025-01-08T07:09:19.611344Z",
     "start_time": "2025-01-08T07:09:19.608143Z"
    }
   },
   "cell_type": "code",
   "source": [
    "# ndarray转换为列表\n",
    "twoArray.tolist()\n",
    "print(list2)"
   ],
   "id": "48b552f9c0e4f29c",
   "outputs": [
    {
     "name": "stdout",
     "output_type": "stream",
     "text": [
      "[[1, 2], [3, 4], [5, 6]]\n"
     ]
    }
   ],
   "execution_count": 194
  },
  {
   "metadata": {},
   "cell_type": "markdown",
   "source": "# ndarray的常用属性",
   "id": "7cde1eb67cb66d8a"
  },
  {
   "metadata": {
    "ExecuteTime": {
     "end_time": "2025-01-08T07:09:19.614585Z",
     "start_time": "2025-01-08T07:09:19.611344Z"
    }
   },
   "cell_type": "code",
   "source": [
    "list2 = [[1, 2], [3, 4], [5, 6]]\n",
    "twoArray = np.array(list2)\n",
    "\n",
    "# ndim属性，维度\n",
    "print(twoArray.ndim)\n",
    "\n",
    "#  shape属性，形状（行，列） (0 axis,1 axis)\n",
    "print(twoArray.shape)\n",
    "\n",
    "# size属性，元素个数\n",
    "print(twoArray.size)\n",
    "\n",
    "# dtype属性，数据类型\n",
    "print(twoArray.dtype)  #默认int32,4个字节，数据范围 -21亿到21亿(?)"
   ],
   "id": "f7ef08a5c6f4dd0",
   "outputs": [
    {
     "name": "stdout",
     "output_type": "stream",
     "text": [
      "2\n",
      "(3, 2)\n",
      "6\n",
      "int64\n"
     ]
    }
   ],
   "execution_count": 195
  },
  {
   "metadata": {},
   "cell_type": "markdown",
   "source": "# 调整数组形状",
   "id": "3eb1c70e4c62f7e9"
  },
  {
   "metadata": {
    "ExecuteTime": {
     "end_time": "2025-01-08T07:09:19.618904Z",
     "start_time": "2025-01-08T07:09:19.615588Z"
    }
   },
   "cell_type": "code",
   "source": [
    "four = np.array([[1, 2, 3], [4, 5, 6]])\n",
    "print(four)\n",
    "\n",
    "# 对数组的修改是在原数组上进行的\n",
    "four1 = four\n",
    "print(id(four))\n",
    "print(id(four1))\n",
    "\n",
    "four.shape = (3, 2)  # 改变形状\n",
    "print(id(four))  # 地址没有发生变化\n",
    "print(id(four1))  # 地址没有发生变化\n",
    "print(four)"
   ],
   "id": "808e66746bce164c",
   "outputs": [
    {
     "name": "stdout",
     "output_type": "stream",
     "text": [
      "[[1 2 3]\n",
      " [4 5 6]]\n",
      "2004378166512\n",
      "2004378166512\n",
      "2004378166512\n",
      "2004378166512\n",
      "[[1 2]\n",
      " [3 4]\n",
      " [5 6]]\n"
     ]
    }
   ],
   "execution_count": 196
  },
  {
   "metadata": {
    "ExecuteTime": {
     "end_time": "2025-01-08T07:09:19.622176Z",
     "start_time": "2025-01-08T07:09:19.618904Z"
    }
   },
   "cell_type": "code",
   "source": [
    "# 返回一个新的数组，reshape后id和之前的不一样\n",
    "four2 = four.reshape(2, 3)\n",
    "print(four)\n",
    "print(id(four))\n",
    "print(id(four2))\n",
    "print(four2)"
   ],
   "id": "b346c3dbb8b3f58b",
   "outputs": [
    {
     "name": "stdout",
     "output_type": "stream",
     "text": [
      "[[1 2]\n",
      " [3 4]\n",
      " [5 6]]\n",
      "2004378166512\n",
      "2004666451984\n",
      "[[1 2 3]\n",
      " [4 5 6]]\n"
     ]
    }
   ],
   "execution_count": 197
  },
  {
   "metadata": {
    "ExecuteTime": {
     "end_time": "2025-01-08T07:09:19.626890Z",
     "start_time": "2025-01-08T07:09:19.623178Z"
    }
   },
   "cell_type": "code",
   "source": [
    "# 将多维变成一维数组\n",
    "# 默认情况下‘C’以行为主的顺序展开，‘F’（Fortran风格）意味着以列的顺序展开\n",
    "print(four)\n",
    "five = four.reshape((6,), order='C')  # 元组必须加逗号\n",
    "six = four.flatten()  # flatten()返回一个一维数组\n",
    "print(five)\n",
    "print('-' * 50)\n",
    "print(six)"
   ],
   "id": "67cf55fefb14491a",
   "outputs": [
    {
     "name": "stdout",
     "output_type": "stream",
     "text": [
      "[[1 2]\n",
      " [3 4]\n",
      " [5 6]]\n",
      "[1 2 3 4 5 6]\n",
      "--------------------------------------------------\n",
      "[1 2 3 4 5 6]\n"
     ]
    }
   ],
   "execution_count": 198
  },
  {
   "metadata": {
    "ExecuteTime": {
     "end_time": "2025-01-08T07:09:19.630074Z",
     "start_time": "2025-01-08T07:09:19.626890Z"
    }
   },
   "cell_type": "code",
   "source": [
    "seven = five.reshape(3, 2)  # 改变形状\n",
    "print(seven)"
   ],
   "id": "ed6c94a81434834c",
   "outputs": [
    {
     "name": "stdout",
     "output_type": "stream",
     "text": [
      "[[1 2]\n",
      " [3 4]\n",
      " [5 6]]\n"
     ]
    }
   ],
   "execution_count": 199
  },
  {
   "metadata": {
    "ExecuteTime": {
     "end_time": "2025-01-08T07:09:19.634249Z",
     "start_time": "2025-01-08T07:09:19.630074Z"
    }
   },
   "cell_type": "code",
   "source": [
    "# 拓展：数组的形状\n",
    "t = np.arange(24)  #和列表的range函数一样，生成一个数组\n",
    "print(t)\n",
    "print(f'shape{t.shape}')\n",
    "print(t.ndim)\n",
    "# 转换成二维\n",
    "t1 = t.reshape((4, 6))\n",
    "print(t1)\n",
    "print(t1.shape)"
   ],
   "id": "ede116c3cb07fda0",
   "outputs": [
    {
     "name": "stdout",
     "output_type": "stream",
     "text": [
      "[ 0  1  2  3  4  5  6  7  8  9 10 11 12 13 14 15 16 17 18 19 20 21 22 23]\n",
      "shape(24,)\n",
      "1\n",
      "[[ 0  1  2  3  4  5]\n",
      " [ 6  7  8  9 10 11]\n",
      " [12 13 14 15 16 17]\n",
      " [18 19 20 21 22 23]]\n",
      "(4, 6)\n"
     ]
    }
   ],
   "execution_count": 200
  },
  {
   "metadata": {
    "ExecuteTime": {
     "end_time": "2025-01-08T07:09:19.637872Z",
     "start_time": "2025-01-08T07:09:19.634249Z"
    }
   },
   "cell_type": "code",
   "source": [
    "# 转成三维\n",
    "#最前面的是零轴，轴越小，越靠外，最小的轴是最外层\n",
    "# 0轴，1轴，2轴\n",
    "t2 = t.reshape((2, 3, 4))\n",
    "print(t2)\n",
    "print(t2.shape)\n",
    "print(t2.ndim)"
   ],
   "id": "fc2b3e95e187f191",
   "outputs": [
    {
     "name": "stdout",
     "output_type": "stream",
     "text": [
      "[[[ 0  1  2  3]\n",
      "  [ 4  5  6  7]\n",
      "  [ 8  9 10 11]]\n",
      "\n",
      " [[12 13 14 15]\n",
      "  [16 17 18 19]\n",
      "  [20 21 22 23]]]\n",
      "(2, 3, 4)\n",
      "3\n"
     ]
    }
   ],
   "execution_count": 201
  },
  {
   "metadata": {
    "ExecuteTime": {
     "end_time": "2025-01-08T07:09:19.641175Z",
     "start_time": "2025-01-08T07:09:19.637872Z"
    }
   },
   "cell_type": "code",
   "source": [
    "# 转成四维\n",
    "t3 = t.reshape((2, 3, 2, 2))\n",
    "print(t3)\n",
    "print(t3.shape)\n",
    "print(t3.ndim)"
   ],
   "id": "2b28d8506a012f50",
   "outputs": [
    {
     "name": "stdout",
     "output_type": "stream",
     "text": [
      "[[[[ 0  1]\n",
      "   [ 2  3]]\n",
      "\n",
      "  [[ 4  5]\n",
      "   [ 6  7]]\n",
      "\n",
      "  [[ 8  9]\n",
      "   [10 11]]]\n",
      "\n",
      "\n",
      " [[[12 13]\n",
      "   [14 15]]\n",
      "\n",
      "  [[16 17]\n",
      "   [18 19]]\n",
      "\n",
      "  [[20 21]\n",
      "   [22 23]]]]\n",
      "(2, 3, 2, 2)\n",
      "4\n"
     ]
    }
   ],
   "execution_count": 202
  },
  {
   "metadata": {
    "ExecuteTime": {
     "end_time": "2025-01-08T07:09:19.720249Z",
     "start_time": "2025-01-08T07:09:19.641175Z"
    }
   },
   "cell_type": "code",
   "source": [
    "#将数组转换为列表 tolist\n",
    "a = np.array([9, 12, 88, 14, 25])\n",
    "print(type(a))\n",
    "list_a = a.tolist()  # tolist()方法将数组转换为列表\n",
    "print(list_a)\n",
    "print(type(list_a))\n"
   ],
   "id": "96a7369e32e7267d",
   "outputs": [
    {
     "name": "stdout",
     "output_type": "stream",
     "text": [
      "<class 'numpy.ndarray'>\n",
      "[9, 12, 88, 14, 25]\n",
      "<class 'list'>\n"
     ]
    }
   ],
   "execution_count": 203
  },
  {
   "metadata": {},
   "cell_type": "markdown",
   "source": "# numpy的数据类型",
   "id": "77fbb6bb461452bd"
  },
  {
   "metadata": {
    "ExecuteTime": {
     "end_time": "2025-01-08T07:09:19.724500Z",
     "start_time": "2025-01-08T07:09:19.721336Z"
    }
   },
   "cell_type": "code",
   "source": [
    "f = np.array([1, 2, 3, 4, 127], dtype=np.int8)  # dtype参数指定数据类型 int8 1个字节\n",
    "print(f.itemsize)  #  itemsize属性获取数据类型占用字节数\n",
    "print(f.dtype)  # 获取数据类型"
   ],
   "id": "b9825d618f1300c2",
   "outputs": [
    {
     "name": "stdout",
     "output_type": "stream",
     "text": [
      "1\n",
      "int8\n"
     ]
    }
   ],
   "execution_count": 204
  },
  {
   "metadata": {
    "ExecuteTime": {
     "end_time": "2025-01-08T07:09:19.728626Z",
     "start_time": "2025-01-08T07:09:19.724500Z"
    }
   },
   "cell_type": "code",
   "source": [
    "# 溢出，超出数据类型范围\n",
    "f[4] = f[4] + 1  # int8 范围是-128到127\n",
    "print(f[4])"
   ],
   "id": "a3db6b3a431d4105",
   "outputs": [
    {
     "name": "stdout",
     "output_type": "stream",
     "text": [
      "-128\n"
     ]
    },
    {
     "name": "stderr",
     "output_type": "stream",
     "text": [
      "C:\\Users\\klklklk\\AppData\\Local\\Temp\\ipykernel_48536\\3134143905.py:2: RuntimeWarning: overflow encountered in scalar add\n",
      "  f[4] = f[4] + 1  # int8 范围是-128到127\n"
     ]
    }
   ],
   "execution_count": 205
  },
  {
   "metadata": {
    "ExecuteTime": {
     "end_time": "2025-01-08T07:09:19.732692Z",
     "start_time": "2025-01-08T07:09:19.729642Z"
    }
   },
   "cell_type": "code",
   "source": [
    "# 调整数据类型\n",
    "f1 = f.astype(np.int64)  # astype()方法可以调整数据类型\n",
    "print(f1.dtype)\n",
    "print(f1.itemsize)  #显示字节数"
   ],
   "id": "3675fc8a0a496bc8",
   "outputs": [
    {
     "name": "stdout",
     "output_type": "stream",
     "text": [
      "int64\n",
      "8\n"
     ]
    }
   ],
   "execution_count": 206
  },
  {
   "metadata": {
    "ExecuteTime": {
     "end_time": "2025-01-08T07:09:19.737022Z",
     "start_time": "2025-01-08T07:09:19.732692Z"
    }
   },
   "cell_type": "code",
   "source": [
    "# 拓展随机生成小数\n",
    "import random\n",
    "\n",
    "# 使用python语法，保留两位\n",
    "print(round(random.random(), 2))  # round()函数可以保留小数\n",
    "# np.float16 半精度 2个字节\n",
    "arr = np.array([random.random() for i in range(10)])\n",
    "print(arr)\n",
    "print(arr.itemsize)\n",
    "print(arr.dtype)\n",
    "# 取小数点后两位\n",
    "print(np.round(arr, 2))"
   ],
   "id": "bad4769ab12d5071",
   "outputs": [
    {
     "name": "stdout",
     "output_type": "stream",
     "text": [
      "0.54\n",
      "[0.54398535 0.54851987 0.79566462 0.13828196 0.15595342 0.25556789\n",
      " 0.86357695 0.20840382 0.92889151 0.39712841]\n",
      "8\n",
      "float64\n",
      "[0.54 0.55 0.8  0.14 0.16 0.26 0.86 0.21 0.93 0.4 ]\n"
     ]
    }
   ],
   "execution_count": 207
  },
  {
   "metadata": {},
   "cell_type": "markdown",
   "source": "# 数组和数的运算",
   "id": "43985a81299f670e"
  },
  {
   "metadata": {
    "ExecuteTime": {
     "end_time": "2025-01-08T07:09:19.741517Z",
     "start_time": "2025-01-08T07:09:19.738030Z"
    }
   },
   "cell_type": "code",
   "source": [
    "# 由于numpy的广播机机制在运算过程中，加减乘除的值被广播到所有的元素上面\n",
    "t1 = np.arange(24).reshape((6, 4))\n",
    "print(t1)\n",
    "\n",
    "print(\"-\" * 20)\n",
    "\n",
    "t2 = t1.tolist()\n",
    "print(t1 + 2)  # 对t1每一个元素加2\n",
    "# print(t2+2) 不能对列表进行直接加整数操作\n",
    "\n",
    "print(\"-\" * 20)\n",
    "\n",
    "print(t1 * 2)  # 对t1每一个元素乘2\n",
    "\n",
    "print(\"-\" * 20)\n",
    "\n",
    "print(t1 / 2)  # 对t1每一个元素除2\n",
    "#无论多少维的ndarray都可以直接和一个常数进行运算"
   ],
   "id": "848fe147aba3ef66",
   "outputs": [
    {
     "name": "stdout",
     "output_type": "stream",
     "text": [
      "[[ 0  1  2  3]\n",
      " [ 4  5  6  7]\n",
      " [ 8  9 10 11]\n",
      " [12 13 14 15]\n",
      " [16 17 18 19]\n",
      " [20 21 22 23]]\n",
      "--------------------\n",
      "[[ 2  3  4  5]\n",
      " [ 6  7  8  9]\n",
      " [10 11 12 13]\n",
      " [14 15 16 17]\n",
      " [18 19 20 21]\n",
      " [22 23 24 25]]\n",
      "--------------------\n",
      "[[ 0  2  4  6]\n",
      " [ 8 10 12 14]\n",
      " [16 18 20 22]\n",
      " [24 26 28 30]\n",
      " [32 34 36 38]\n",
      " [40 42 44 46]]\n",
      "--------------------\n",
      "[[ 0.   0.5  1.   1.5]\n",
      " [ 2.   2.5  3.   3.5]\n",
      " [ 4.   4.5  5.   5.5]\n",
      " [ 6.   6.5  7.   7.5]\n",
      " [ 8.   8.5  9.   9.5]\n",
      " [10.  10.5 11.  11.5]]\n"
     ]
    }
   ],
   "execution_count": 208
  },
  {
   "metadata": {},
   "cell_type": "markdown",
   "source": "# ndarray与ndarray的运算",
   "id": "c35212a101c2eb9d"
  },
  {
   "metadata": {
    "ExecuteTime": {
     "end_time": "2025-01-08T07:09:19.745531Z",
     "start_time": "2025-01-08T07:09:19.741517Z"
    }
   },
   "cell_type": "code",
   "source": [
    "#形状相同,才可以进行加减乘除\n",
    "t1 = np.arange(24).reshape((6, 4))\n",
    "t2 = np.arange(100, 124).reshape((6, 4))\n",
    "print(t1)\n",
    "print(t2)\n",
    "print('-' * 50)\n",
    "print(t1 + t2)\n",
    "print('-' * 50)\n",
    "print(t1 * t2)  #是否是矩阵乘法？不是"
   ],
   "id": "dddf0efd5f53d6d5",
   "outputs": [
    {
     "name": "stdout",
     "output_type": "stream",
     "text": [
      "[[ 0  1  2  3]\n",
      " [ 4  5  6  7]\n",
      " [ 8  9 10 11]\n",
      " [12 13 14 15]\n",
      " [16 17 18 19]\n",
      " [20 21 22 23]]\n",
      "[[100 101 102 103]\n",
      " [104 105 106 107]\n",
      " [108 109 110 111]\n",
      " [112 113 114 115]\n",
      " [116 117 118 119]\n",
      " [120 121 122 123]]\n",
      "--------------------------------------------------\n",
      "[[100 102 104 106]\n",
      " [108 110 112 114]\n",
      " [116 118 120 122]\n",
      " [124 126 128 130]\n",
      " [132 134 136 138]\n",
      " [140 142 144 146]]\n",
      "--------------------------------------------------\n",
      "[[   0  101  204  309]\n",
      " [ 416  525  636  749]\n",
      " [ 864  981 1100 1221]\n",
      " [1344 1469 1596 1725]\n",
      " [1856 1989 2124 2261]\n",
      " [2400 2541 2684 2829]]\n"
     ]
    }
   ],
   "execution_count": 209
  },
  {
   "metadata": {
    "ExecuteTime": {
     "end_time": "2025-01-08T07:09:19.748481Z",
     "start_time": "2025-01-08T07:09:19.745531Z"
    }
   },
   "cell_type": "code",
   "source": [
    "# #shape不同，不能进行运算\n",
    "# t1 = np.arange(24).reshape((4, 6))\n",
    "# t2 = np.arange(6).reshape((3, 6))\n",
    "# print(t1)\n",
    "# print(t2)\n",
    "# print(t1 - t2)"
   ],
   "id": "690eca9239ddbcd5",
   "outputs": [],
   "execution_count": 210
  },
  {
   "metadata": {
    "ExecuteTime": {
     "end_time": "2025-01-08T07:09:19.752585Z",
     "start_time": "2025-01-08T07:09:19.749495Z"
    }
   },
   "cell_type": "code",
   "source": [
    "#一维数组和二维数组进行运算时，一维的元素个数和列数相等\n",
    "t1 = np.arange(24).reshape((4, 6))\n",
    "t2 = np.arange(6).reshape((1, 6))\n",
    "print(t2.shape)\n",
    "print(t1)\n",
    "print(t2)\n",
    "print(t1 + t2)  # NumPy 会自动将其扩展到与 t1 相同的形状，即4x6"
   ],
   "id": "dc257fec95c349db",
   "outputs": [
    {
     "name": "stdout",
     "output_type": "stream",
     "text": [
      "(1, 6)\n",
      "[[ 0  1  2  3  4  5]\n",
      " [ 6  7  8  9 10 11]\n",
      " [12 13 14 15 16 17]\n",
      " [18 19 20 21 22 23]]\n",
      "[[0 1 2 3 4 5]]\n",
      "[[ 0  2  4  6  8 10]\n",
      " [ 6  8 10 12 14 16]\n",
      " [12 14 16 18 20 22]\n",
      " [18 20 22 24 26 28]]\n"
     ]
    }
   ],
   "execution_count": 211
  },
  {
   "metadata": {
    "ExecuteTime": {
     "end_time": "2025-01-08T07:09:19.755050Z",
     "start_time": "2025-01-08T07:09:19.752585Z"
    }
   },
   "cell_type": "code",
   "source": [
    "# t1 = np.arange(24).reshape((4, 6))\n",
    "# t2 = np.arange(6).reshape((1, 5))\n",
    "# print(t1 - t2)  # 列数不同，不能进行运算"
   ],
   "id": "ff2fb874e59b5c19",
   "outputs": [],
   "execution_count": 212
  },
  {
   "metadata": {
    "ExecuteTime": {
     "end_time": "2025-01-08T07:09:19.759883Z",
     "start_time": "2025-01-08T07:09:19.755050Z"
    }
   },
   "cell_type": "code",
   "source": [
    "t1 = np.arange(24).reshape((4, 6))\n",
    "t2 = np.arange(4).reshape((4, 1))\n",
    "print(t2)\n",
    "print(t1)\n",
    "print(t1 - t2)\n",
    "(t1 - t2).shape"
   ],
   "id": "c3840353fd9f365",
   "outputs": [
    {
     "name": "stdout",
     "output_type": "stream",
     "text": [
      "[[0]\n",
      " [1]\n",
      " [2]\n",
      " [3]]\n",
      "[[ 0  1  2  3  4  5]\n",
      " [ 6  7  8  9 10 11]\n",
      " [12 13 14 15 16 17]\n",
      " [18 19 20 21 22 23]]\n",
      "[[ 0  1  2  3  4  5]\n",
      " [ 5  6  7  8  9 10]\n",
      " [10 11 12 13 14 15]\n",
      " [15 16 17 18 19 20]]\n"
     ]
    },
    {
     "data": {
      "text/plain": [
       "(4, 6)"
      ]
     },
     "execution_count": 213,
     "metadata": {},
     "output_type": "execute_result"
    }
   ],
   "execution_count": 213
  },
  {
   "metadata": {},
   "cell_type": "markdown",
   "source": "# 轴的练习",
   "id": "5dd5f819a770c95c"
  },
  {
   "metadata": {
    "ExecuteTime": {
     "end_time": "2025-01-08T07:09:19.764126Z",
     "start_time": "2025-01-08T07:09:19.759883Z"
    }
   },
   "cell_type": "code",
   "source": [
    "import numpy as np\n",
    "\n",
    "a = np.array([[1, 2, 3], [4, 5, 6]])  # （2，3）\n",
    "print(a)\n",
    "print(\"-\" * 20)\n",
    "print(np.sum(a, axis=0))  # [5 7 9]，按哪个轴求和，哪个轴没了 （3，） 把轴0的元素相加\n",
    "print(\"-\" * 20)\n",
    "print(np.sum(a, axis=1))  # [ 6 15]，按哪个轴求和，哪个轴没了 （2，） 把轴1的元素相加\n",
    "print(\"-\" * 20)\n",
    "print(np.sum(a))  # 21，没有指定轴，所有元素相加\n",
    "print(\"-\" * 20)"
   ],
   "id": "8196a65a80cfe646",
   "outputs": [
    {
     "name": "stdout",
     "output_type": "stream",
     "text": [
      "[[1 2 3]\n",
      " [4 5 6]]\n",
      "--------------------\n",
      "[5 7 9]\n",
      "--------------------\n",
      "[ 6 15]\n",
      "--------------------\n",
      "21\n",
      "--------------------\n"
     ]
    }
   ],
   "execution_count": 214
  },
  {
   "metadata": {
    "ExecuteTime": {
     "end_time": "2025-01-08T07:09:19.771495Z",
     "start_time": "2025-01-08T07:09:19.764126Z"
    }
   },
   "cell_type": "code",
   "source": [
    "a = np.arange(24).reshape((2, 3, 4))\n",
    "b = np.sum(a, axis=0)  # 按0轴求和，（3，4）\n",
    "print(\"-\" * 20)\n",
    "print(b.shape)\n",
    "c = np.sum(a, axis=1)  # 按1轴求和，（2，4）\n",
    "print(\"-\" * 20)\n",
    "print(c.shape)\n",
    "d = np.sum(a, axis=2)  # 按2轴求和，（2，3）\n",
    "print(\"-\" * 20)\n",
    "print(d.shape)"
   ],
   "id": "14d670f50680681c",
   "outputs": [
    {
     "name": "stdout",
     "output_type": "stream",
     "text": [
      "--------------------\n",
      "(3, 4)\n",
      "--------------------\n",
      "(2, 4)\n",
      "--------------------\n",
      "(2, 3)\n"
     ]
    }
   ],
   "execution_count": 215
  },
  {
   "metadata": {},
   "cell_type": "markdown",
   "source": "# 索引和切片",
   "id": "fe115b4c6fc44b85"
  },
  {
   "metadata": {
    "ExecuteTime": {
     "end_time": "2025-01-08T07:09:19.776612Z",
     "start_time": "2025-01-08T07:09:19.773497Z"
    }
   },
   "cell_type": "code",
   "source": [
    "import numpy as np\n",
    "\n",
    "# 一维数组的索引和切片\n",
    "a = np.arange(10)\n",
    "print(a)\n",
    "\n",
    "print(a[0])  # 如果只放置一个参数，如 [2]，将返回与该索引相对应的单个元素\n",
    "\n",
    "print(a[2:])  # 如果为 [2:]，表示从该索引开始以后的所有项都将被提取\n",
    "\n",
    "print(a[2:8:2])  #切片是左闭右开 从索引 2 开始到索引 7 停止，间隔为 2"
   ],
   "id": "3ed4541bc3b9b4f3",
   "outputs": [
    {
     "name": "stdout",
     "output_type": "stream",
     "text": [
      "[0 1 2 3 4 5 6 7 8 9]\n",
      "0\n",
      "[2 3 4 5 6 7 8 9]\n",
      "[2 4 6]\n"
     ]
    }
   ],
   "execution_count": 216
  },
  {
   "metadata": {
    "ExecuteTime": {
     "end_time": "2025-01-08T07:09:19.780793Z",
     "start_time": "2025-01-08T07:09:19.776612Z"
    }
   },
   "cell_type": "code",
   "source": [
    "import numpy as np\n",
    "\n",
    "# 二维数组的索引和切片\n",
    "t1 = np.arange(24).reshape(4, 6)\n",
    "print(t1)\n",
    "print('*' * 20)\n",
    "print(t1[1])  # 取一行(一行代表是一条数据，索引也是从0开始的) print(t1[1,:]) # 取一行\n",
    "print('*' * 20)\n",
    "print(t1[1:])  # 取连续的多行\n",
    "print('*' * 20)\n",
    "print(t1[1:3, :])  # 取连续的多行 \n",
    "\"\"\"\n",
    "1:3：表示选择从第 2 行（索引 1）到第 3 行（索引 2），不包括索引 3。所以它取的是第 2 行和第 3 行。\n",
    ":：表示取所有列\n",
    "\"\"\"\n",
    "print('*' * 20)\n",
    "print(t1[[0, 2, 3]])  # 取不连续的多行"
   ],
   "id": "7bdf464af736b652",
   "outputs": [
    {
     "name": "stdout",
     "output_type": "stream",
     "text": [
      "[[ 0  1  2  3  4  5]\n",
      " [ 6  7  8  9 10 11]\n",
      " [12 13 14 15 16 17]\n",
      " [18 19 20 21 22 23]]\n",
      "********************\n",
      "[ 6  7  8  9 10 11]\n",
      "********************\n",
      "[[ 6  7  8  9 10 11]\n",
      " [12 13 14 15 16 17]\n",
      " [18 19 20 21 22 23]]\n",
      "********************\n",
      "[[ 6  7  8  9 10 11]\n",
      " [12 13 14 15 16 17]]\n",
      "********************\n",
      "[[ 0  1  2  3  4  5]\n",
      " [12 13 14 15 16 17]\n",
      " [18 19 20 21 22 23]]\n"
     ]
    }
   ],
   "execution_count": 217
  },
  {
   "metadata": {
    "ExecuteTime": {
     "end_time": "2025-01-08T07:09:19.783108Z",
     "start_time": "2025-01-08T07:09:19.780793Z"
    }
   },
   "cell_type": "code",
   "source": [
    "# # 列表不支持索引\n",
    "# t2 = np.arange(24).reshape(4, 6).tolist()\n",
    "# t2[[0, 2, 3]]"
   ],
   "id": "69b26927ebb848c",
   "outputs": [],
   "execution_count": 218
  },
  {
   "metadata": {
    "ExecuteTime": {
     "end_time": "2025-01-08T07:09:19.787881Z",
     "start_time": "2025-01-08T07:09:19.783108Z"
    }
   },
   "cell_type": "code",
   "source": [
    "print(t1[:, 1])  # 取一列\n",
    "print('*' * 20)\n",
    "print(t1[:, 1:])  # 连续的多列\n",
    "print('*' * 20)\n",
    "print(t1[:, [0, 2, 3]])  # 取不连续的多列\n",
    "print('*' * 20)\n",
    "print(t1[2, 3])  # # 取某一个值,三行四列  py是t1[2][3]\n",
    "print('*' * 20)\n",
    "print(t1[[0, 1, 1], [0, 1, 3]])  # 取多个不连续的值，[[行，行。。。],[列，列。。。]]\n",
    "print('*' * 20)\n",
    "print(t1[1:3, 1:4])  #取1-3行，1-4列"
   ],
   "id": "463fe9d9ef57bb42",
   "outputs": [
    {
     "name": "stdout",
     "output_type": "stream",
     "text": [
      "[ 1  7 13 19]\n",
      "********************\n",
      "[[ 1  2  3  4  5]\n",
      " [ 7  8  9 10 11]\n",
      " [13 14 15 16 17]\n",
      " [19 20 21 22 23]]\n",
      "********************\n",
      "[[ 0  2  3]\n",
      " [ 6  8  9]\n",
      " [12 14 15]\n",
      " [18 20 21]]\n",
      "********************\n",
      "15\n",
      "********************\n",
      "[0 7 9]\n",
      "********************\n",
      "[[ 7  8  9]\n",
      " [13 14 15]]\n"
     ]
    }
   ],
   "execution_count": 219
  },
  {
   "metadata": {},
   "cell_type": "markdown",
   "source": "# 修改数组元素",
   "id": "74ee00b9435ea1ee"
  },
  {
   "metadata": {
    "ExecuteTime": {
     "end_time": "2025-01-08T07:09:19.791901Z",
     "start_time": "2025-01-08T07:09:19.787881Z"
    }
   },
   "cell_type": "code",
   "source": [
    "import numpy as np\n",
    "\n",
    "t = np.arange(24).reshape(4, 6)\n",
    "print(t)\n",
    "print(id(t))\n",
    "print('-' * 50)\n",
    "# # 修改某一行的值\n",
    "#t[1,:]=0\n",
    "#\n",
    "# # 修改某一列的值\n",
    "# t[:,1]=0\n",
    "#\n",
    "# # 修改连续多行\n",
    "# t[1:3,:]=0\n",
    "#\n",
    "# # 修改连续多列\n",
    "# t[:,1:4]=0\n",
    "#\n",
    "# # 修改多行多列，取第二行到第四行，第三列到第五列\n",
    "# t[1:3,2:5]=0\n",
    "#\n",
    "# # 修改多个不相邻的点\n",
    "# t[[0,1],[1,3]]=0\n",
    "\n",
    "# 可以根据条件修改，比如讲小于10的值改掉\n",
    "# t[t<10]=0\n",
    "\n",
    "# 使用逻辑判断\n",
    "# np.logical_and\t& # np.logical_or\t|\n",
    "# np.logical_not\t\t~\n",
    "# t[(t>2)&(t<6)]=0\t# 逻辑与，and\n",
    "# t[(t<2)|(t>6)]=0\t# 逻辑或，or\n",
    "# t[~(t>6)]=0\t# 逻辑非\n",
    "# print(t)\n",
    "# t = t.clip(10, 18)\n",
    "print(id(t))\n",
    "print(t)"
   ],
   "id": "208ec1d1cbba9f36",
   "outputs": [
    {
     "name": "stdout",
     "output_type": "stream",
     "text": [
      "[[ 0  1  2  3  4  5]\n",
      " [ 6  7  8  9 10 11]\n",
      " [12 13 14 15 16 17]\n",
      " [18 19 20 21 22 23]]\n",
      "2004377950832\n",
      "--------------------------------------------------\n",
      "2004377950832\n",
      "[[ 0  1  2  3  4  5]\n",
      " [ 6  7  8  9 10 11]\n",
      " [12 13 14 15 16 17]\n",
      " [18 19 20 21 22 23]]\n"
     ]
    }
   ],
   "execution_count": 220
  },
  {
   "metadata": {
    "ExecuteTime": {
     "end_time": "2025-01-08T07:09:19.795352Z",
     "start_time": "2025-01-08T07:09:19.791901Z"
    }
   },
   "cell_type": "code",
   "source": [
    "# 返回布尔型数组\n",
    "t = np.arange(24).reshape(4, 6)\n",
    "print(t < 10)"
   ],
   "id": "13623a8354a4bdd3",
   "outputs": [
    {
     "name": "stdout",
     "output_type": "stream",
     "text": [
      "[[ True  True  True  True  True  True]\n",
      " [ True  True  True  True False False]\n",
      " [False False False False False False]\n",
      " [False False False False False False]]\n"
     ]
    }
   ],
   "execution_count": 221
  },
  {
   "metadata": {
    "ExecuteTime": {
     "end_time": "2025-01-08T07:09:19.799738Z",
     "start_time": "2025-01-08T07:09:19.796357Z"
    }
   },
   "cell_type": "code",
   "source": [
    "#python的三目运算\n",
    "a = 10\n",
    "b = 15\n",
    "c = a if a > b else b\n",
    "c"
   ],
   "id": "3a8e8ff5f1dfd959",
   "outputs": [
    {
     "data": {
      "text/plain": [
       "15"
      ]
     },
     "execution_count": 222,
     "metadata": {},
     "output_type": "execute_result"
    }
   ],
   "execution_count": 222
  },
  {
   "metadata": {
    "ExecuteTime": {
     "end_time": "2025-01-08T07:09:19.804564Z",
     "start_time": "2025-01-08T07:09:19.799738Z"
    }
   },
   "cell_type": "code",
   "source": [
    "# # 拓 展\n",
    "# # 三目运算（ np.where(condition, x, y)满足条件(condition)，输出x，不满足输出y。)）\n",
    "score = np.array([[80, 88], [82, 81], [75, 81]])\n",
    "print(score)\n",
    "result = np.where(score < 80, True, False)  #类似于if else\n",
    "print(result)\n",
    "score[result] = 100  # 给满足条件的元素赋值\n",
    "score"
   ],
   "id": "e52d63370a9bbe48",
   "outputs": [
    {
     "name": "stdout",
     "output_type": "stream",
     "text": [
      "[[80 88]\n",
      " [82 81]\n",
      " [75 81]]\n",
      "[[False False]\n",
      " [False False]\n",
      " [ True False]]\n"
     ]
    },
    {
     "data": {
      "text/plain": [
       "array([[ 80,  88],\n",
       "       [ 82,  81],\n",
       "       [100,  81]])"
      ]
     },
     "execution_count": 223,
     "metadata": {},
     "output_type": "execute_result"
    }
   ],
   "execution_count": 223
  },
  {
   "metadata": {},
   "cell_type": "markdown",
   "source": "# 数据的添加，删除，去重",
   "id": "51b35c59769ee74a"
  },
  {
   "metadata": {
    "ExecuteTime": {
     "end_time": "2025-01-08T07:09:19.808390Z",
     "start_time": "2025-01-08T07:09:19.804564Z"
    }
   },
   "cell_type": "code",
   "source": [
    "import numpy as np\n",
    "\n",
    "a = np.array([[1, 2, 3], [4, 5, 6]])\n",
    "\n",
    "print('第一个数组：')\n",
    "print(a)\n",
    "print('\\n')\n",
    "\n",
    "print(' 向数组添加元素：')\n",
    "print(np.append(a, [7, 8, 9]))  #ndarray会被展平\n",
    "print('\\n')\n",
    "print(a)\n",
    "print('-' * 50)"
   ],
   "id": "75a3a5cecce9048e",
   "outputs": [
    {
     "name": "stdout",
     "output_type": "stream",
     "text": [
      "第一个数组：\n",
      "[[1 2 3]\n",
      " [4 5 6]]\n",
      "\n",
      "\n",
      " 向数组添加元素：\n",
      "[1 2 3 4 5 6 7 8 9]\n",
      "\n",
      "\n",
      "[[1 2 3]\n",
      " [4 5 6]]\n",
      "--------------------------------------------------\n"
     ]
    }
   ],
   "execution_count": 224
  },
  {
   "metadata": {
    "ExecuteTime": {
     "end_time": "2025-01-08T07:09:19.811636Z",
     "start_time": "2025-01-08T07:09:19.808390Z"
    }
   },
   "cell_type": "code",
   "source": [
    "b = np.array([[7, 8, 9]])\n",
    "print(b.ndim)\n",
    "print(b)"
   ],
   "id": "ea6e961faa3c1ae1",
   "outputs": [
    {
     "name": "stdout",
     "output_type": "stream",
     "text": [
      "2\n",
      "[[7 8 9]]\n"
     ]
    }
   ],
   "execution_count": 225
  },
  {
   "metadata": {
    "ExecuteTime": {
     "end_time": "2025-01-08T07:09:19.815611Z",
     "start_time": "2025-01-08T07:09:19.811636Z"
    }
   },
   "cell_type": "code",
   "source": [
    "# 延轴拼接\n",
    "print('沿轴 0 添加元素：')  #往哪个轴添加，那个轴size就变大\n",
    "print(np.append(a, [[7, 8, 9]], axis=0))\n",
    "print('\\n')\n",
    "print(a)\n",
    "print('沿轴 1 添加元素：')\n",
    "print(np.append(a, [[5, 5, 5], [7, 8, 9]], axis=1))\n",
    "print(a)\n",
    "print('-' * 50)\n",
    "\"\"\"\n",
    "参 数 说 明：\n",
    "arr：输入数组，表示要在此数组的基础上添加元素\n",
    "values：要向 arr 添加的值，需要和 arr 的形状相同，除了要添加的轴（例如，添加到行方向时，列数必须一致；添加到列方向时，行数必须一致）\n",
    "axis：默认为 None。当 axis 未定义时，表示横向添加（即结果会变成一维数组）。如果 axis 定义为 0，则表示按行添加元素；如果 axis 定义为 1，则表示按列添加元素。\n",
    "    - 当 axis=0 时，values 中的元素会作为新行添加到 arr 的底部，要求 values 的列数与 arr 的列数相同。\n",
    "    - 当 axis=1 时，values 中的元素会作为新列添加到 arr 的右侧，要求 values 的行数与 arr 的行数相同。\n",
    "\"\"\""
   ],
   "id": "b357aacffcc8d4a",
   "outputs": [
    {
     "name": "stdout",
     "output_type": "stream",
     "text": [
      "沿轴 0 添加元素：\n",
      "[[1 2 3]\n",
      " [4 5 6]\n",
      " [7 8 9]]\n",
      "\n",
      "\n",
      "[[1 2 3]\n",
      " [4 5 6]]\n",
      "沿轴 1 添加元素：\n",
      "[[1 2 3 5 5 5]\n",
      " [4 5 6 7 8 9]]\n",
      "[[1 2 3]\n",
      " [4 5 6]]\n",
      "--------------------------------------------------\n"
     ]
    }
   ],
   "execution_count": 226
  },
  {
   "metadata": {
    "ExecuteTime": {
     "end_time": "2025-01-08T07:13:09.967446Z",
     "start_time": "2025-01-08T07:13:09.962321Z"
    }
   },
   "cell_type": "code",
   "source": [
    "# 插入元素\n",
    "a = np.array([[1, 2], [3, 4], [5, 6]])\n",
    "\n",
    "print('第一个数组：')\n",
    "print(a)\n",
    "print('\\n')\n",
    "\n",
    "print('未传递 Axis 参数。 在插入之前输入数组会被展开。')\n",
    "print(np.insert(a, 1, [11, 22]))\n",
    "print('-' * 50)\n",
    "print(np.insert(a, 1, [11, 12], axis=0))  #那个轴插入，哪个轴size变大\n",
    "# print('传递了 Axis 参数。 会广播值数组来配输入数组。')\n",
    "\n",
    "print('沿轴  0 广播：')\n",
    "print(np.insert(a, 1, 11, axis=0))\n",
    "print('\\n')\n",
    "\n",
    "print('沿轴  1 广播：')\n",
    "print(np.insert(a, 1, [1, 2, 5], axis=1))\n",
    "\"\"\"\n",
    "numpy.insert\n",
    "函数在给定索引之前，沿给定轴在输入数组中插入值。如果值的类型转换为要插入的数组，则它与输入数组不同。\n",
    "插入操作没有原地修改（in-place），该函数会返回一个新数组。此外，如果未提供轴（axis），则输入数组会被展平（即转换为一维数组）。\n",
    "\"\"\""
   ],
   "id": "700d9349e6291277",
   "outputs": [
    {
     "name": "stdout",
     "output_type": "stream",
     "text": [
      "第一个数组：\n",
      "[[1 2]\n",
      " [3 4]\n",
      " [5 6]]\n",
      "\n",
      "\n",
      "未传递 Axis 参数。 在插入之前输入数组会被展开。\n",
      "[ 1 11 22  2  3  4  5  6]\n",
      "--------------------------------------------------\n",
      "[[ 1  2]\n",
      " [11 12]\n",
      " [ 3  4]\n",
      " [ 5  6]]\n",
      "沿轴  0 广播：\n",
      "[[ 1  2]\n",
      " [11 11]\n",
      " [ 3  4]\n",
      " [ 5  6]]\n",
      "\n",
      "\n",
      "沿轴  1 广播：\n",
      "[[1 1 2]\n",
      " [3 2 4]\n",
      " [5 5 6]]\n"
     ]
    }
   ],
   "execution_count": 227
  },
  {
   "metadata": {},
   "cell_type": "code",
   "outputs": [],
   "execution_count": null,
   "source": [
    "# numpy.delete 函数返回从输入数组中删除指定子数组的新数组。 与 insert() 函数的情况一样，\n",
    "# 如果未提供轴参数， 则输入数组将展开。\n",
    "import numpy as np\n",
    "\n",
    "a = np.arange(12).reshape(3, 4)\n",
    "\n",
    "print('第一个数组：')\n",
    "print(a)\n",
    "print('\\n')\n",
    "\n",
    "print('未传递 Axis 参数。 在删除之前输入数组会被展开。')\n",
    "print(np.delete(a, 5))\n",
    "print('\\n')\n",
    "print(a)\n",
    "print('删除第一行：')\n",
    "print(np.delete(a, 1, axis=0))\n",
    "print('\\n')\n",
    "\n",
    "print('删除第一列：')\n",
    "print(np.delete(a, 1, axis=1))\n",
    "'''\n",
    "参 数 说 明 ： \n",
    "arr： 输 入 数 组\n",
    "obj：可以被切片，整数或者整数数组，表明要从输入数组删除的子数组axis：\n",
    "沿着它删除给定子数组的轴，如果未提供，则输入数组会被展开\n",
    "'''"
   ],
   "id": "26df415fb5f35d2c"
  },
  {
   "metadata": {
    "ExecuteTime": {
     "end_time": "2025-01-08T07:20:42.875180Z",
     "start_time": "2025-01-08T07:20:42.869772Z"
    }
   },
   "cell_type": "code",
   "source": [
    "# numpy.unique 函数用于去除数组中的重复元素\n",
    "import numpy as np\n",
    "\n",
    "a = np.array([5, 2, 6, 2, 7, 5, 6, 9, 8, 2])\n",
    "\n",
    "print('第一个数组：')\n",
    "print(a)\n",
    "print('\\n')\n",
    "\n",
    "#去除重复元素，输出的是有序序列\n",
    "# print ('第一个数组的去重值：')\n",
    "# u = np.unique(a)\n",
    "# print (u)\n",
    "# print ('\\n')\n",
    "\n",
    "# print ('去重数组的索引数组：')\n",
    "# u,indices = np.unique(a, return_index = True)\n",
    "# print(u)\n",
    "# print (indices)\n",
    "# print ('\\n')\n",
    "\n",
    "# print ('我们可以看到每个和原数组下标对应的数值：')\n",
    "# print ('去重数组的下标：')\n",
    "# u,indices = np.unique(a,return_inverse = True)\n",
    "# print (u)\n",
    "# print (indices)\n",
    "# print ('\\n')\n",
    "\n",
    "print('返回去重元素的重复数量：')\n",
    "u, indices = np.unique(a, return_counts=True)\n",
    "print(u)\n",
    "print(indices)\n",
    "u\n",
    "\n",
    "'''\n",
    "arr：输入数组，如果不是一维数组则会展平\n",
    "return_index：如果为true，返回新列表元素在旧列表中的位置（下标），并以列表形式储\n",
    "return_inverse：如果为true，返回旧列表元素在新列表中的位置（下标），并以列表形式储\n",
    "return_counts：如果为true，返回去重数组中的元素在原数组中的出现次数\n",
    "'''"
   ],
   "id": "a095a1fe4652f05f",
   "outputs": [
    {
     "name": "stdout",
     "output_type": "stream",
     "text": [
      "第一个数组：\n",
      "[5 2 6 2 7 5 6 9 8 2]\n",
      "\n",
      "\n",
      "返回去重元素的重复数量：\n",
      "[2 5 6 7 8 9]\n",
      "[3 2 2 1 1 1]\n"
     ]
    },
    {
     "data": {
      "text/plain": [
       "'\\narr：输入数组，如果不是一维数组则会展平\\nreturn_index：如果为true，返回新列表元素在旧列表中的位置（下标），并以列表形式储\\nreturn_inverse：如果为true，返回旧列表元素在新列表中的位置（下标），并以列表形式储\\nreturn_counts：如果为true，返回去重数组中的元素在原数组中的出现次数\\n'"
      ]
     },
     "execution_count": 228,
     "metadata": {},
     "output_type": "execute_result"
    }
   ],
   "execution_count": 228
  },
  {
   "metadata": {},
   "cell_type": "markdown",
   "source": "# numpy 数学计算",
   "id": "b0fa80672a2e4653"
  },
  {
   "metadata": {
    "ExecuteTime": {
     "end_time": "2025-01-08T07:26:08.340938Z",
     "start_time": "2025-01-08T07:26:08.335054Z"
    }
   },
   "cell_type": "code",
   "source": [
    "import numpy as np\n",
    "\n",
    "score = np.array([[80, 88], [82, 81], [75, 81]])\n",
    "print(score)\n",
    "\n",
    "# 1. 获取所有数据最大值\n",
    "print(\"np.max()获取 score 数组中的所有数据最大值：\")\n",
    "result = np.max(score)\n",
    "print(result)\n",
    "# 2. 获取某一个轴上的数据最大值，对应的轴就消失\n",
    "print(\"axis 获取 score 数组中一列的最大值：\")\n",
    "result = np.max(score, axis=1)\n",
    "print(result)\n",
    "# 3. 获取最小值\n",
    "print(\"np.min()获取 score 数组中的所有数据最小值：\")\n",
    "result = np.min(score)\n",
    "print(result)\n",
    "# 4. 获取某一个轴上的数据最小值\n",
    "print(\"axis 获取 score 数组中一行的最小值：\")\n",
    "result = np.min(score, axis=0)\n",
    "print(result)\n",
    "# 5. 数据的比较\n",
    "print(\"np.argmax()获取 score 数组中每一行的最大值的索引：\")\n",
    "result = np.argmax(score, axis=1)\n",
    "print(result)\n",
    "result = np.maximum([-2, -1, 0, 1, 2], 0)  # 第一个参数中的每一个数与第二个参数比较返回大的\n",
    "print(result)\n",
    "result = np.minimum([-2, -1, 0, 1, 2], 0)  # 第一个参数中的每一个数与第二个参数比较返回小的\n",
    "print(result)\n",
    "result = np.maximum([-2, -1, 4, 1, 2], [1, 2, 3, 4, 5])\n",
    "print(result)\n",
    "# 接受的两个参数，也可以大小一致;第二个参数只是一个单独的值时，其实是用到了维度的广播机制；"
   ],
   "id": "6fdc9c295a638ea6",
   "outputs": [
    {
     "name": "stdout",
     "output_type": "stream",
     "text": [
      "[[80 88]\n",
      " [82 81]\n",
      " [75 81]]\n",
      "np.max()获取 score 数组中的所有数据最大值：\n",
      "88\n",
      "axis 获取 score 数组中一列的最大值：\n",
      "[88 82 81]\n",
      "np.min()获取 score 数组中的所有数据最小值：\n",
      "75\n",
      "axis 获取 score 数组中一行的最小值：\n",
      "[75 81]\n",
      "np.argmax()获取 score 数组中每一行的最大值的索引：\n",
      "[1 0 1]\n",
      "[0 0 0 1 2]\n",
      "[-2 -1  0  0  0]\n",
      "[1 2 4 4 5]\n"
     ]
    }
   ],
   "execution_count": 232
  },
  {
   "metadata": {},
   "cell_type": "code",
   "outputs": [],
   "execution_count": null,
   "source": [
    "'''通用函数：\n",
    "numpy.sqrt(array)\t平方根函数\n",
    "numpy.exp(array)\te^array[i]的数组\n",
    "numpy.abs/fabs(array)\t计算绝对值\n",
    "numpy.square(array)\t计算各元素的平方 等于array\t2\n",
    "numpy.log/log10/log2(array)\t计算各元素的各种对数\n",
    "numpy.sign(array)\t计算各元素正负号\n",
    "numpy.isnan(array)\t计算各元素是否为NaN\n",
    "numpy.isinf(array)\t计算各元素是否为NaN\n",
    "numpy.cos/cosh/sin/sinh/tan/tanh(array) 三角函数\n",
    "numpy.modf(array)\t将array中值得整数和小数分离，作两个数组返回\n",
    "numpy.ceil(array)\t向上取整,也就是取比这个数大的整数\n",
    "numpy.floor(array)\t向下取整,也就是取比这个数小的整数\n",
    "numpy.rint(array)\t四舍五入\n",
    "numpy.trunc(array)\t向0取整\n",
    "numpy.cos(array)\t正弦值\n",
    "numpy.sin(array)\t余弦值\n",
    "numpy.tan(array)\t正切值\n",
    "\n",
    "numpy.add(array1,array2)\t元素级加法\n",
    "numpy.subtract(array1,array2)\t元素级减法\n",
    "numpy.multiply(array1,array2)\t元素级乘法\n",
    "numpy.divide(array1,array2)\t元素级除法 array1./array2\n",
    "numpy.power(array1,array2)\t元素级指数 array1.^array2\n",
    "numpy.maximum/minimum(array1,aray2) 元素级最大值\n",
    "numpy.fmax/fmin(array1,array2)\t元素级最大值，忽略NaN\n",
    "numpy.mod(array1,array2)\t元素级求模\n",
    "numpy.copysign(array1,array2)\t将第二个数组中值得符号复制给第一个数组中值\n",
    "numpy.greater/greater_equal/less/less_equal/equal/not_equal (array1,array2)\n",
    "元素级比较运算，产生布尔数组\n",
    "numpy.logical_end/logical_or/logic_xor(array1,array2)元素级的真值逻辑运算\n",
    "'''"
   ],
   "id": "7509dd2df2307ca6"
  },
  {
   "metadata": {
    "ExecuteTime": {
     "end_time": "2025-01-08T07:27:01.185062Z",
     "start_time": "2025-01-08T07:27:01.178642Z"
    }
   },
   "cell_type": "code",
   "source": [
    "# 6. 求平均值\n",
    "result = np.mean(score)  # 获取所有数据的平均值\n",
    "print(result)\n",
    "result = np.mean(score, axis=0)  # 获取某一行或者某一列的平均值\n",
    "print(result)\n",
    "\n",
    "# 7. 求前缀和\n",
    "arr = np.array([[1, 2, 3], [4, 5, 6]])\n",
    "print(arr)\n",
    "print(arr.cumsum(axis=0))\n",
    "'''\n",
    "[1, 2, 3]------>\t|1\t|2\t|3\t|\n",
    "[4, 5, 6]------>\t|5=1+4 |7=2+5 |9=3+6|\n",
    "'''\n",
    "print(arr.cumsum(axis=1))\n",
    "'''\n",
    "[1, 2, 3]------>\t|1\t|2+1\t|3+2+1\t|\n",
    "[4, 5, 6]------>\t|4\t|4+5\t|4+5+6\t|\n",
    "'''\n",
    "# 拓展：方差var, 协方差cov, 计算平均值 average, 计算中位数 median"
   ],
   "id": "6bb59a1f00a374f9",
   "outputs": [
    {
     "name": "stdout",
     "output_type": "stream",
     "text": [
      "81.16666666666667\n",
      "[79.         83.33333333]\n",
      "[[1 2 3]\n",
      " [4 5 6]]\n",
      "[[1 2 3]\n",
      " [5 7 9]]\n",
      "[[ 1  3  6]\n",
      " [ 4  9 15]]\n"
     ]
    },
    {
     "data": {
      "text/plain": [
       "'\\n[1, 2, 3]------>\\t|1\\t|2+1\\t|3+2+1\\t|\\n[4, 5, 6]------>\\t|4\\t|4+5\\t|4+5+6\\t|\\n'"
      ]
     },
     "execution_count": 233,
     "metadata": {},
     "output_type": "execute_result"
    }
   ],
   "execution_count": 233
  },
  {
   "metadata": {
    "ExecuteTime": {
     "end_time": "2025-01-08T07:28:36.428016Z",
     "start_time": "2025-01-08T07:28:36.423571Z"
    }
   },
   "cell_type": "code",
   "source": [
    "# 8. argmin求最小值索引\n",
    "result = np.argmin(score, axis=0)\n",
    "res = np.min(score, axis=0)  #这样我们就可以知道最小的81是第二排的，是从前往后遍历的\n",
    "print(result, res)\n",
    "\n",
    "# 9. 求每一列的标准差（这里是总体标准差）\n",
    "# 标准差是一组数据平均值分散程度的一种度量。一个较大的标准差，代表大部分数值和其平均值之间差异较大；\n",
    "# 一个较小的标准差，代表这些数据较接近平均值反应出数据的波动稳定情况，越大表示波动越大，越不稳定。\n",
    "result = np.std(score, axis=0)\n",
    "print(result)\n",
    "\n",
    "# 10. 极 值\n",
    "result = np.ptp(score, axis=None)  #就是最大值和最小值的差\n",
    "print(result)"
   ],
   "id": "e5dc113a558a52ac",
   "outputs": [
    {
     "name": "stdout",
     "output_type": "stream",
     "text": [
      "[2 1] [75 81]\n",
      "[2.94392029 3.29983165]\n",
      "13\n"
     ]
    }
   ],
   "execution_count": 234
  },
  {
   "metadata": {
    "ExecuteTime": {
     "end_time": "2025-01-08T07:29:16.883468Z",
     "start_time": "2025-01-08T07:29:16.879174Z"
    }
   },
   "cell_type": "code",
   "source": [
    "t = np.arange(30).reshape(10, 3)\n",
    "np.mean(t, axis=0)  # 计算每一列的平均值"
   ],
   "id": "f0bdfe1774645f43",
   "outputs": [
    {
     "data": {
      "text/plain": [
       "array([13.5, 14.5, 15.5])"
      ]
     },
     "execution_count": 235,
     "metadata": {},
     "output_type": "execute_result"
    }
   ],
   "execution_count": 235
  }
 ],
 "metadata": {
  "kernelspec": {
   "display_name": "Python 3",
   "language": "python",
   "name": "python3"
  },
  "language_info": {
   "codemirror_mode": {
    "name": "ipython",
    "version": 2
   },
   "file_extension": ".py",
   "mimetype": "text/x-python",
   "name": "python",
   "nbconvert_exporter": "python",
   "pygments_lexer": "ipython2",
   "version": "2.7.6"
  }
 },
 "nbformat": 4,
 "nbformat_minor": 5
}
