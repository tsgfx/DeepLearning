{
 "cells": [
  {
   "metadata": {},
   "cell_type": "markdown",
   "source": "# 拼接与分割",
   "id": "3508dcc473609533"
  },
  {
   "metadata": {
    "ExecuteTime": {
     "end_time": "2025-01-08T08:24:56.798775Z",
     "start_time": "2025-01-08T08:24:56.794124Z"
    }
   },
   "cell_type": "code",
   "source": [
    "# 有的时候我们需要将两个数据加起来一起研究分析，我们就可以将其进行拼接然后分析\n",
    "import numpy as np\n",
    "\n",
    "# 1. 根据轴拼接的数组序列，concatenate没有改变数组的维度\n",
    "a = np.array([[1, 2], [3, 4]])\n",
    "b = np.array([[5, 6], [7, 8]])\n",
    "c = np.array([[9, 10], [11, 12]])\n",
    "# 要求a,b两个数组的维度相同\n",
    "print('沿轴 0 连接两个数组：')\n",
    "print(np.concatenate((a, b), axis=0))  #写哪个轴，哪个轴就变化\n",
    "print('-' * 50)\n",
    "# 要求a,b,c三个数组的维度相同\n",
    "print('沿轴 1 连接两个数组：')\n",
    "print(np.concatenate((a, b,c), axis=1))"
   ],
   "id": "8d1d21e0cb9cbe28",
   "outputs": [
    {
     "name": "stdout",
     "output_type": "stream",
     "text": [
      "沿轴 0 连接两个数组：\n",
      "[[1 2]\n",
      " [3 4]\n",
      " [5 6]\n",
      " [7 8]]\n",
      "--------------------------------------------------\n",
      "沿轴 1 连接两个数组：\n",
      "[[ 1  2  5  6  9 10]\n",
      " [ 3  4  7  8 11 12]]\n"
     ]
    }
   ],
   "execution_count": 37
  },
  {
   "metadata": {
    "ExecuteTime": {
     "end_time": "2025-01-08T08:24:56.803750Z",
     "start_time": "2025-01-08T08:24:56.799777Z"
    }
   },
   "cell_type": "code",
   "source": [
    "# 2. 根据轴进行堆叠的数组序列，stack会增加数组的维度\n",
    "print('沿轴 1 堆叠三个数组：')\n",
    "print(np.stack((a, b,c), axis=1).shape)  #stack会增加维度\n",
    "\n",
    "print('-' * 50)\n",
    "arrays = [np.arange(12).reshape(3, 4) for _ in range(10)]\n",
    "# print(arrays)\n",
    "print(len(arrays))\n",
    "print('沿轴 0 连接两个数组：')\n",
    "result0 = np.stack(arrays, axis=0)\n",
    "print(result0.shape)  #(10,3,4)\n",
    "\n",
    "print('-' * 50)\n",
    "print('沿轴 1 连接两个数组：')\n",
    "print(arrays[0])\n",
    "result1 = np.stack(arrays, axis=1)\n",
    "print(result1.shape)  #(3,10,4)\n",
    "\n",
    "print('-' * 50)\n",
    "print('沿轴 2连接两个数组：这里-1和2是等价的')\n",
    "result2 = np.stack(arrays, axis=-1)\n",
    "print(arrays[0])\n",
    "print(result2.shape)\n",
    "# print(result2)"
   ],
   "id": "50cf81b37c5ce00",
   "outputs": [
    {
     "name": "stdout",
     "output_type": "stream",
     "text": [
      "沿轴 1 堆叠三个数组：\n",
      "(2, 3, 2)\n",
      "--------------------------------------------------\n",
      "10\n",
      "沿轴 0 连接两个数组：\n",
      "(10, 3, 4)\n",
      "--------------------------------------------------\n",
      "沿轴 1 连接两个数组：\n",
      "[[ 0  1  2  3]\n",
      " [ 4  5  6  7]\n",
      " [ 8  9 10 11]]\n",
      "(3, 10, 4)\n",
      "--------------------------------------------------\n",
      "沿轴 2连接两个数组：这里-1和2是等价的\n",
      "[[ 0  1  2  3]\n",
      " [ 4  5  6  7]\n",
      " [ 8  9 10 11]]\n",
      "(3, 4, 10)\n"
     ]
    }
   ],
   "execution_count": 38
  },
  {
   "metadata": {
    "ExecuteTime": {
     "end_time": "2025-01-08T08:24:56.808055Z",
     "start_time": "2025-01-08T08:24:56.803750Z"
    }
   },
   "cell_type": "code",
   "source": [
    "# 3. 矩阵垂直拼接，vstack没有增加维数，类似于concatenate   ---vertical\n",
    "v1 = [[0, 1, 2, 3, 4, 5],\n",
    "      [6, 7, 8, 9, 10, 11]]\n",
    "v2 = [[12, 13, 14, 15, 16, 17],\n",
    "      [18, 19, 20, 21, 22, 23]]\n",
    "result = np.vstack((v1, v2))\n",
    "print(result)\n",
    "\n",
    "print('-' * 50)\n",
    "\n",
    "# 4. 矩阵水平拼接，类似于concatenate  horizontal\n",
    "v1 = [[0, 1, 2, 3, 4, 5],\n",
    "      [6, 7, 8, 9, 10, 11]]\n",
    "v2 = [[12, 13, 14, 15, 16, 17],\n",
    "      [18, 19, 20, 21, 22, 23]]\n",
    "result = np.hstack((v1, v2))\n",
    "print(result)"
   ],
   "id": "caac90442f73f22d",
   "outputs": [
    {
     "name": "stdout",
     "output_type": "stream",
     "text": [
      "[[ 0  1  2  3  4  5]\n",
      " [ 6  7  8  9 10 11]\n",
      " [12 13 14 15 16 17]\n",
      " [18 19 20 21 22 23]]\n",
      "--------------------------------------------------\n",
      "[[ 0  1  2  3  4  5 12 13 14 15 16 17]\n",
      " [ 6  7  8  9 10 11 18 19 20 21 22 23]]\n"
     ]
    }
   ],
   "execution_count": 39
  },
  {
   "metadata": {
    "ExecuteTime": {
     "end_time": "2025-01-08T08:24:56.813247Z",
     "start_time": "2025-01-08T08:24:56.809072Z"
    }
   },
   "cell_type": "code",
   "source": [
    "# 1. 将一个数组分割为多个子数组\n",
    "import numpy as np\n",
    "\n",
    "arr = np.arange(12).reshape(4, 3)\n",
    "print(arr)\n",
    "print('将数组分为三个大小相等的子数组：b是一个列表')\n",
    "b = np.split(arr, 3, axis=1) #按那个轴，那个轴发生变化\n",
    "print(b)\n",
    "'''\n",
    "参数说明：\n",
    "ary：被分割的数组\n",
    "indices_or_sections：是一个整数，就用该数平均切分，如果是一个数组，为沿轴切分的位置（左开右闭）\n",
    "axis：沿着哪个维度进行切向，默认为0，横向切分。为1时，纵向切分\n",
    "'''"
   ],
   "id": "450383553711df4",
   "outputs": [
    {
     "name": "stdout",
     "output_type": "stream",
     "text": [
      "[[ 0  1  2]\n",
      " [ 3  4  5]\n",
      " [ 6  7  8]\n",
      " [ 9 10 11]]\n",
      "将数组分为三个大小相等的子数组：b是一个列表\n",
      "[array([[0],\n",
      "       [3],\n",
      "       [6],\n",
      "       [9]]), array([[ 1],\n",
      "       [ 4],\n",
      "       [ 7],\n",
      "       [10]]), array([[ 2],\n",
      "       [ 5],\n",
      "       [ 8],\n",
      "       [11]])]\n"
     ]
    },
    {
     "data": {
      "text/plain": [
       "'\\n参数说明：\\nary：被分割的数组\\nindices_or_sections：是一个整数，就用该数平均切分，如果是一个数组，为沿轴切分的位置（左开右闭）\\naxis：沿着哪个维度进行切向，默认为0，横向切分。为1时，纵向切分\\n'"
      ]
     },
     "execution_count": 40,
     "metadata": {},
     "output_type": "execute_result"
    }
   ],
   "execution_count": 40
  },
  {
   "metadata": {
    "ExecuteTime": {
     "end_time": "2025-01-08T08:24:56.816957Z",
     "start_time": "2025-01-08T08:24:56.813247Z"
    }
   },
   "cell_type": "code",
   "source": [
    "# 2.numpy.hsplit 函数用于水平分割数组，通过指定要返回的相同形状的数组数量来拆分原数组。\n",
    "# 创建一个 2 行 6 列的随机数组\n",
    "harr = np.floor(10 * np.random.random((2, 6)))  # 生成一个 2x6 的数组，每个元素都在 0 到 9 之间\n",
    "print('原array：')\n",
    "print(harr)\n",
    "\n",
    "# 使用 numpy.hsplit 将数组按列进行拆分，指定拆分为 3 个子数组\n",
    "result = np.hsplit(harr, 3)\n",
    "print(result)"
   ],
   "id": "c012e183b8b80332",
   "outputs": [
    {
     "name": "stdout",
     "output_type": "stream",
     "text": [
      "原array：\n",
      "[[8. 4. 9. 5. 9. 4.]\n",
      " [1. 6. 5. 2. 2. 5.]]\n",
      "[array([[8., 4.],\n",
      "       [1., 6.]]), array([[9., 5.],\n",
      "       [5., 2.]]), array([[9., 4.],\n",
      "       [2., 5.]])]\n"
     ]
    }
   ],
   "execution_count": 41
  },
  {
   "metadata": {
    "ExecuteTime": {
     "end_time": "2025-01-08T08:24:56.821225Z",
     "start_time": "2025-01-08T08:24:56.816957Z"
    }
   },
   "cell_type": "code",
   "source": [
    "# # 3.numpy.vsplit 沿着垂直轴分割\n",
    "a = np.arange(16).reshape(4, 4)\n",
    "\n",
    "print('第一个数组：')\n",
    "print(a)\n",
    "print('\\n')\n",
    "\n",
    "print('竖直分割：')\n",
    "b = np.vsplit(a, 2)\n",
    "print(b)"
   ],
   "id": "b66e44ed0e52193",
   "outputs": [
    {
     "name": "stdout",
     "output_type": "stream",
     "text": [
      "第一个数组：\n",
      "[[ 0  1  2  3]\n",
      " [ 4  5  6  7]\n",
      " [ 8  9 10 11]\n",
      " [12 13 14 15]]\n",
      "\n",
      "\n",
      "竖直分割：\n",
      "[array([[0, 1, 2, 3],\n",
      "       [4, 5, 6, 7]]), array([[ 8,  9, 10, 11],\n",
      "       [12, 13, 14, 15]])]\n"
     ]
    }
   ],
   "execution_count": 42
  },
  {
   "metadata": {
    "ExecuteTime": {
     "end_time": "2025-01-08T08:24:56.825555Z",
     "start_time": "2025-01-08T08:24:56.821225Z"
    }
   },
   "cell_type": "code",
   "source": [
    "# 3.numpy.vsplit 沿着垂直轴分割\n",
    "a = np.arange(16).reshape(4, 4)\n",
    "\n",
    "print('第一个数组：')\n",
    "print(a)\n",
    "print('\\n')\n",
    "\n",
    "print('竖直分割：')\n",
    "b = np.vsplit(a, 2)\n",
    "print(b)"
   ],
   "id": "ee9f54e535bf36b7",
   "outputs": [
    {
     "name": "stdout",
     "output_type": "stream",
     "text": [
      "第一个数组：\n",
      "[[ 0  1  2  3]\n",
      " [ 4  5  6  7]\n",
      " [ 8  9 10 11]\n",
      " [12 13 14 15]]\n",
      "\n",
      "\n",
      "竖直分割：\n",
      "[array([[0, 1, 2, 3],\n",
      "       [4, 5, 6, 7]]), array([[ 8,  9, 10, 11],\n",
      "       [12, 13, 14, 15]])]\n"
     ]
    }
   ],
   "execution_count": 43
  },
  {
   "metadata": {
    "ExecuteTime": {
     "end_time": "2025-01-08T08:24:56.830471Z",
     "start_time": "2025-01-08T08:24:56.826558Z"
    }
   },
   "cell_type": "code",
   "source": [
    "import numpy as np\n",
    "#nan 是not a number的缩写，表示非数字，在numpy中表示一个非数字值，可以用来表示缺失数据\n",
    "# 创建一个nan和inf #\n",
    "a = np.nan\n",
    "b = np.inf\n",
    "print(a, type(a))\n",
    "print(b, type(b))\n",
    "'''\n",
    "C 语言中表示最大的正整数值是 0x7FFF FFFF，最小的负整数是 0x8000 0000。\n",
    "查阅资料后，发现 inf 表示无穷大，需要使用 float(‘inf’) 函数来转化，那么对应的就有\tfloat('-inf') 表示无穷小了。\n",
    "这样你就可以使用任意数来判断和它的关系了。\n",
    "那什么时候会出现inf呢？ 比如一个数字除以0，Python中会报错，但是numpy中会是一个inf或者-inf\n",
    "另外还有 nan，这种写法在 pandans 中常见，表示缺失的数据，所以一般用 nan 来表示。任何与其做运算结果都是 nan\n",
    "'''"
   ],
   "id": "f0a3368eacba7347",
   "outputs": [
    {
     "name": "stdout",
     "output_type": "stream",
     "text": [
      "nan <class 'float'>\n",
      "inf <class 'float'>\n"
     ]
    },
    {
     "data": {
      "text/plain": [
       "\"\\nC 语言中表示最大的正整数值是 0x7FFF FFFF，最小的负整数是 0x8000 0000。\\n查阅资料后，发现 inf 表示无穷大，需要使用 float(‘inf’) 函数来转化，那么对应的就有\\tfloat('-inf') 表示无穷小了。\\n这样你就可以使用任意数来判断和它的关系了。\\n那什么时候会出现inf呢？ 比如一个数字除以0，Python中会报错，但是numpy中会是一个inf或者-inf\\n另外还有 nan，这种写法在 pandans 中常见，表示缺失的数据，所以一般用 nan 来表示。任何与其做运算结果都是 nan\\n\""
      ]
     },
     "execution_count": 44,
     "metadata": {},
     "output_type": "execute_result"
    }
   ],
   "execution_count": 44
  },
  {
   "metadata": {
    "ExecuteTime": {
     "end_time": "2025-01-08T08:24:56.834947Z",
     "start_time": "2025-01-08T08:24:56.831474Z"
    }
   },
   "cell_type": "code",
   "source": [
    "# 并 且  np.nan != np.nan\t结果 是TRUE\n",
    "# 所以我们可以使用这两个结合使用判断nan的个数\n",
    "print(np.nan == np.nan)\n",
    "print(True == 1)\n",
    "print(False == 0)\n",
    "np.nan + 1  #nan和其他数运算的结果都是nan"
   ],
   "id": "1fd1a95eb2f5a978",
   "outputs": [
    {
     "name": "stdout",
     "output_type": "stream",
     "text": [
      "False\n",
      "True\n",
      "True\n"
     ]
    },
    {
     "data": {
      "text/plain": [
       "nan"
      ]
     },
     "execution_count": 45,
     "metadata": {},
     "output_type": "execute_result"
    }
   ],
   "execution_count": 45
  },
  {
   "metadata": {
    "ExecuteTime": {
     "end_time": "2025-01-08T08:24:56.838763Z",
     "start_time": "2025-01-08T08:24:56.834947Z"
    }
   },
   "cell_type": "code",
   "source": [
    "# --判断数组中为nan的个数\n",
    "t = np.arange(24, dtype=float).reshape(4, 6)\n",
    "\n",
    "# 将三行四列的数改成nan\n",
    "t[3, 4] = np.nan\n",
    "t[2, 4] = np.nan\n",
    "print(t)\n",
    "\n",
    "# 可以使用np.count_nonzero() 来判断非零的个数\n",
    "# print(np.count_nonzero(t))\n",
    "print('-' * 50)\n",
    "print(t != t)\n",
    "\n",
    "print('-' * 50)\n",
    "print(np.count_nonzero(t != t))  # 统计nan的个数"
   ],
   "id": "ecc5498879ea344b",
   "outputs": [
    {
     "name": "stdout",
     "output_type": "stream",
     "text": [
      "[[ 0.  1.  2.  3.  4.  5.]\n",
      " [ 6.  7.  8.  9. 10. 11.]\n",
      " [12. 13. 14. 15. nan 17.]\n",
      " [18. 19. 20. 21. nan 23.]]\n",
      "--------------------------------------------------\n",
      "[[False False False False False False]\n",
      " [False False False False False False]\n",
      " [False False False False  True False]\n",
      " [False False False False  True False]]\n",
      "--------------------------------------------------\n",
      "2\n"
     ]
    }
   ],
   "execution_count": 46
  },
  {
   "metadata": {
    "ExecuteTime": {
     "end_time": "2025-01-08T08:24:56.842552Z",
     "start_time": "2025-01-08T08:24:56.839772Z"
    }
   },
   "cell_type": "code",
   "source": [
    "# 将nan替换为0\n",
    "t[np.isnan(t)] = 0\n",
    "print(t)"
   ],
   "id": "3ba72eb2bf8a360f",
   "outputs": [
    {
     "name": "stdout",
     "output_type": "stream",
     "text": [
      "[[ 0.  1.  2.  3.  4.  5.]\n",
      " [ 6.  7.  8.  9. 10. 11.]\n",
      " [12. 13. 14. 15.  0. 17.]\n",
      " [18. 19. 20. 21.  0. 23.]]\n"
     ]
    }
   ],
   "execution_count": 47
  },
  {
   "metadata": {
    "ExecuteTime": {
     "end_time": "2025-01-08T08:24:56.853745Z",
     "start_time": "2025-01-08T08:24:56.848555Z"
    }
   },
   "cell_type": "code",
   "source": [
    "# 练习： 处理数组中nan\n",
    "t = np.arange(24).reshape(4, 6).astype('float')\n",
    "print(t)\n",
    "\n",
    "print('-' * 50)\n",
    "# 将数组中的一部分替换nan\n",
    "t[1, 3:] = np.nan\n",
    "print(t)\n",
    "\n",
    "\n",
    "print('-' * 50)\n",
    "print(t.shape)\n",
    "print(id(t))\n",
    "# 遍历每一列，然后判断每一列是否有nan\n",
    "for i in range(t.shape[1]):\n",
    "    #获取当前列数据\n",
    "    temp_col = t[:, i]\n",
    "\n",
    "    # 判断当前列的数据中是否含有nan\n",
    "    nan_num = np.count_nonzero(temp_col != temp_col) # 不等说明为nan, nan_num为1\n",
    "    # 条件成立说明含有nan\n",
    "    if nan_num != 0:\n",
    "        # 将这一列不为nan的数据拿出来,并计算平均值\n",
    "        temp_col_not_nan = temp_col[temp_col == temp_col] # 有nan的元素会为false, 所以只取出不为nan的元素\n",
    "        print(temp_col_not_nan)\n",
    "        # 将nan替换成这一列的平均值\n",
    "        temp_col[np.isnan(temp_col)] = np.mean(temp_col_not_nan)\n",
    "\n",
    "print(t)\n",
    "print(id(t))"
   ],
   "id": "3cb5c7d9be9968fb",
   "outputs": [
    {
     "name": "stdout",
     "output_type": "stream",
     "text": [
      "[[ 0.  1.  2.  3.  4.  5.]\n",
      " [ 6.  7.  8.  9. 10. 11.]\n",
      " [12. 13. 14. 15. 16. 17.]\n",
      " [18. 19. 20. 21. 22. 23.]]\n",
      "--------------------------------------------------\n",
      "[[ 0.  1.  2.  3.  4.  5.]\n",
      " [ 6.  7.  8. nan nan nan]\n",
      " [12. 13. 14. 15. 16. 17.]\n",
      " [18. 19. 20. 21. 22. 23.]]\n",
      "--------------------------------------------------\n",
      "(4, 6)\n",
      "2973273079600\n",
      "[ 3. 15. 21.]\n",
      "[ 4. 16. 22.]\n",
      "[ 5. 17. 23.]\n",
      "[[ 0.  1.  2.  3.  4.  5.]\n",
      " [ 6.  7.  8. 13. 14. 15.]\n",
      " [12. 13. 14. 15. 16. 17.]\n",
      " [18. 19. 20. 21. 22. 23.]]\n",
      "2973273079600\n"
     ]
    }
   ],
   "execution_count": 48
  },
  {
   "metadata": {
    "ExecuteTime": {
     "end_time": "2025-01-08T08:24:56.865221Z",
     "start_time": "2025-01-08T08:24:56.860748Z"
    }
   },
   "cell_type": "code",
   "source": [
    "print(np.inf == np.inf) # inf 和 inf 相等\n",
    "np.inf"
   ],
   "id": "97d6a28db447bcb8",
   "outputs": [
    {
     "name": "stdout",
     "output_type": "stream",
     "text": [
      "True\n"
     ]
    },
    {
     "data": {
      "text/plain": [
       "inf"
      ]
     },
     "execution_count": 49,
     "metadata": {},
     "output_type": "execute_result"
    }
   ],
   "execution_count": 49
  },
  {
   "metadata": {
    "ExecuteTime": {
     "end_time": "2025-01-08T08:24:56.894054Z",
     "start_time": "2025-01-08T08:24:56.889230Z"
    }
   },
   "cell_type": "code",
   "source": [
    "# np.nan和任何数据运算的结果都是nan\n",
    "t = np.arange(24).reshape(4, 6).astype('float')\n",
    "#\n",
    "# 将数组中的一部分替换nan\n",
    "t[1, 3:] = np.nan\n",
    "\n",
    "t1 = np.arange(24).reshape(4, 6).astype('float')\n",
    "t + t1"
   ],
   "id": "abda962e5f1c8ee",
   "outputs": [
    {
     "data": {
      "text/plain": [
       "array([[ 0.,  2.,  4.,  6.,  8., 10.],\n",
       "       [12., 14., 16., nan, nan, nan],\n",
       "       [24., 26., 28., 30., 32., 34.],\n",
       "       [36., 38., 40., 42., 44., 46.]])"
      ]
     },
     "execution_count": 50,
     "metadata": {},
     "output_type": "execute_result"
    }
   ],
   "execution_count": 50
  },
  {
   "metadata": {
    "ExecuteTime": {
     "end_time": "2025-01-08T08:24:56.898168Z",
     "start_time": "2025-01-08T08:24:56.895060Z"
    }
   },
   "cell_type": "code",
   "source": [
    "arr = np.array([-1, 0])\n",
    "print(arr)\n",
    "print(arr[0] / arr[1])  #1除0就会得到inf"
   ],
   "id": "bfd81f5e3ab9119d",
   "outputs": [
    {
     "name": "stdout",
     "output_type": "stream",
     "text": [
      "[-1  0]\n",
      "-inf\n"
     ]
    },
    {
     "name": "stderr",
     "output_type": "stream",
     "text": [
      "C:\\Users\\klklklk\\AppData\\Local\\Temp\\ipykernel_21100\\773640058.py:3: RuntimeWarning: divide by zero encountered in scalar divide\n",
      "  print(arr[0] / arr[1])  #1除0就会得到inf\n"
     ]
    }
   ],
   "execution_count": 51
  },
  {
   "metadata": {
    "ExecuteTime": {
     "end_time": "2025-01-08T08:25:18.510939Z",
     "start_time": "2025-01-08T08:25:18.506198Z"
    }
   },
   "cell_type": "code",
   "source": "np.nan + np.inf # nan + inf 结果还是nan",
   "id": "2fe1d507bcae8eef",
   "outputs": [
    {
     "data": {
      "text/plain": [
       "nan"
      ]
     },
     "execution_count": 52,
     "metadata": {},
     "output_type": "execute_result"
    }
   ],
   "execution_count": 52
  },
  {
   "metadata": {},
   "cell_type": "markdown",
   "source": "# 转置和轴滚动",
   "id": "5b764379c814d44d"
  },
  {
   "metadata": {
    "ExecuteTime": {
     "end_time": "2025-01-08T08:35:17.946914Z",
     "start_time": "2025-01-08T08:35:17.941372Z"
    }
   },
   "cell_type": "code",
   "source": [
    "#对换数组的维度\n",
    "import numpy as np\n",
    "\n",
    "a = np.arange(12).reshape(3, 4)\n",
    "print('原数组：')\n",
    "print(a)\n",
    "\n",
    "print('-' * 50)\n",
    "print('对换数组：')\n",
    "print(np.transpose(a))\n",
    "print(a)\n",
    "\n",
    "# 与transpose一致\n",
    "print('-' * 50)\n",
    "a = np.arange(12).reshape(3, 4)\n",
    "\n",
    "print('原数组：')\n",
    "print(a)\n",
    "\n",
    "print('-' * 50)\n",
    "print('转置数组：')\n",
    "print(a.T)"
   ],
   "id": "96ec79d93ad8f71b",
   "outputs": [
    {
     "name": "stdout",
     "output_type": "stream",
     "text": [
      "原数组：\n",
      "[[ 0  1  2  3]\n",
      " [ 4  5  6  7]\n",
      " [ 8  9 10 11]]\n",
      "--------------------------------------------------\n",
      "对换数组：\n",
      "[[ 0  4  8]\n",
      " [ 1  5  9]\n",
      " [ 2  6 10]\n",
      " [ 3  7 11]]\n",
      "[[ 0  1  2  3]\n",
      " [ 4  5  6  7]\n",
      " [ 8  9 10 11]]\n",
      "--------------------------------------------------\n",
      "原数组：\n",
      "[[ 0  1  2  3]\n",
      " [ 4  5  6  7]\n",
      " [ 8  9 10 11]]\n",
      "--------------------------------------------------\n",
      "转置数组：\n",
      "[[ 0  4  8]\n",
      " [ 1  5  9]\n",
      " [ 2  6 10]\n",
      " [ 3  7 11]]\n"
     ]
    }
   ],
   "execution_count": 54
  },
  {
   "metadata": {
    "ExecuteTime": {
     "end_time": "2025-01-08T08:37:42.586364Z",
     "start_time": "2025-01-08T08:37:42.582788Z"
    }
   },
   "cell_type": "code",
   "source": [
    "# 函数用于交换数组的两个轴\n",
    "t1 = np.arange(24).reshape(4, 6)\n",
    "re1 = t1.swapaxes(1, 0) # （0， 1) -> (1, 0) 对于二维就是转置 \n",
    "\n",
    "print(' 原 数 组 ：')\n",
    "print(t1)\n",
    "print('-' * 50)\n",
    "print(re1.shape)\n",
    "print('调用 swapaxes 函数后的数组：')\n",
    "print(re1)\n"
   ],
   "id": "918dd534f251fb46",
   "outputs": [
    {
     "name": "stdout",
     "output_type": "stream",
     "text": [
      " 原 数 组 ：\n",
      "[[ 0  1  2  3  4  5]\n",
      " [ 6  7  8  9 10 11]\n",
      " [12 13 14 15 16 17]\n",
      " [18 19 20 21 22 23]]\n",
      "--------------------------------------------------\n",
      "(6, 4)\n",
      "调用 swapaxes 函数后的数组：\n",
      "[[ 0  6 12 18]\n",
      " [ 1  7 13 19]\n",
      " [ 2  8 14 20]\n",
      " [ 3  9 15 21]\n",
      " [ 4 10 16 22]\n",
      " [ 5 11 17 23]]\n"
     ]
    }
   ],
   "execution_count": 56
  },
  {
   "metadata": {
    "ExecuteTime": {
     "end_time": "2025-01-08T08:37:53.367180Z",
     "start_time": "2025-01-08T08:37:53.362919Z"
    }
   },
   "cell_type": "code",
   "source": [
    "t3 = np.arange(60).reshape(3, 4, 5)\n",
    "print(t3.shape)\n",
    "print('-' * 50)\n",
    "t3 = np.swapaxes(t3, 1, 2)\n",
    "print(t3.shape)\n",
    "# print(t3) 数据不用记住，不用观察"
   ],
   "id": "ae34fbd84d065322",
   "outputs": [
    {
     "name": "stdout",
     "output_type": "stream",
     "text": [
      "(3, 4, 5)\n",
      "--------------------------------------------------\n",
      "(3, 5, 4)\n"
     ]
    }
   ],
   "execution_count": 57
  },
  {
   "metadata": {
    "ExecuteTime": {
     "end_time": "2025-01-08T08:52:47.841392Z",
     "start_time": "2025-01-08T08:52:47.837949Z"
    }
   },
   "cell_type": "code",
   "source": [
    "# 数组的轴滚动,swapaxes每次只能交换两个轴，没有rollaxis方便，默认情况下轴滚动最前面\n",
    "a = np.ones((3, 4, 5, 6))\n",
    "print(a.shape)\n",
    "# np.rollaxis(a, 2).shape\n",
    "np.rollaxis(a, 3, 1).shape # 轴3滚动到轴1的位置之前\n",
    "b = np.rollaxis(a, 3, 1)\n",
    "print(b.shape)\n",
    "c = np.rollaxis(b, 1, 4)  # 轴1滚动到轴4（不存在）的位置之前，即可还原\n",
    "print(c.shape)"
   ],
   "id": "f8fd5961e9fe47d8",
   "outputs": [
    {
     "name": "stdout",
     "output_type": "stream",
     "text": [
      "(3, 4, 5, 6)\n",
      "(3, 6, 4, 5)\n",
      "(3, 4, 5, 6)\n"
     ]
    }
   ],
   "execution_count": 63
  },
  {
   "metadata": {
    "ExecuteTime": {
     "end_time": "2025-01-08T08:55:55.186863Z",
     "start_time": "2025-01-08T08:55:55.181728Z"
    }
   },
   "cell_type": "code",
   "source": [
    "#数据拷贝，copy()和赋值的区别\n",
    "b = np.array([[1, 2, 3], [1, 2, 3]])\n",
    "a = b.copy()\n",
    "print(a) \n",
    "b[0, 0] = 3\n",
    "print(b)\n",
    "print(a) # b和a是两个不同的数组，互不影响"
   ],
   "id": "8b5fb873d9abb56a",
   "outputs": [
    {
     "name": "stdout",
     "output_type": "stream",
     "text": [
      "[[1 2 3]\n",
      " [1 2 3]]\n",
      "[[3 2 3]\n",
      " [1 2 3]]\n",
      "[[1 2 3]\n",
      " [1 2 3]]\n"
     ]
    }
   ],
   "execution_count": 66
  },
  {
   "metadata": {
    "ExecuteTime": {
     "end_time": "2025-01-08T09:11:42.952491Z",
     "start_time": "2025-01-08T09:11:42.948270Z"
    }
   },
   "cell_type": "code",
   "source": [
    "#随机数生成\n",
    "arr = np.random.rand(2, 3, 4)\n",
    "print(arr)"
   ],
   "id": "838d2912f3296e3f",
   "outputs": [
    {
     "name": "stdout",
     "output_type": "stream",
     "text": [
      "[[[0.2519077  0.6856707  0.41359152 0.09469635]\n",
      "  [0.43585053 0.97294784 0.97070878 0.96155648]\n",
      "  [0.36150185 0.60911439 0.3454313  0.88482718]]\n",
      "\n",
      " [[0.73234598 0.45501292 0.87051543 0.98863186]\n",
      "  [0.65752339 0.33489365 0.38589257 0.24734108]\n",
      "  [0.56438604 0.2042601  0.43735965 0.58409069]]]\n"
     ]
    }
   ],
   "execution_count": 67
  },
  {
   "metadata": {
    "ExecuteTime": {
     "end_time": "2025-01-08T09:18:11.754006Z",
     "start_time": "2025-01-08T09:18:11.749515Z"
    }
   },
   "cell_type": "code",
   "source": [
    "# 读取数据\n",
    "names = 'zhangsan,lisi,wangwu,zhaoliu,sunqi'\n",
    "#写入文件\n",
    "with open('names.csv', 'w') as f: # 用 with open() 语句打开一个文件，这样可以自动管理文件的打开和关闭\n",
    "    f.write(names)\n",
    "    f.write('\\n')\n",
    "    f.write('12,23,34,45,56')"
   ],
   "id": "8d8bfa88d6c31bdf",
   "outputs": [],
   "execution_count": 69
  },
  {
   "metadata": {
    "ExecuteTime": {
     "end_time": "2025-01-08T09:18:54.387005Z",
     "start_time": "2025-01-08T09:18:54.307324Z"
    }
   },
   "cell_type": "code",
   "source": [
    "#!/usr/bin/python\n",
    "# author luke\n",
    "\n",
    "import numpy as np\n",
    "from matplotlib import pyplot as plt\n",
    "\n",
    "us_file_path = \"./youtube_video_data/US_video_data_numbers.csv\"\n",
    "uk_file_path = \"./youtube_video_data/GB_video_data_numbers.csv\"\n",
    "\n",
    "# t1 = np.loadtxt(us_file_path,delimiter=\",\",dtype=\"int\",unpack=True)\n",
    "#unpack实现转置的效果\n",
    "t_uk = np.loadtxt(uk_file_path,delimiter=\",\",dtype=\"int\")\n",
    "\n",
    "#取出来英国的youtube评论数和喜欢数,第1列是like数，第3列是comment数\n",
    "\n",
    "t_uk=t_uk[t_uk[:,1]<=250000] #筛选like数小于等于250000的视频\n",
    "print(t_uk.shape)\n",
    "t_uk_like=t_uk[:,1]\n",
    "\n",
    "t_uk_comment = t_uk[:,-1]\n",
    "\n",
    "plt.figure(figsize=(20,8),dpi=80)\n",
    "#打印横轴纵轴标签\n",
    "plt.xlabel(\"like\")\n",
    "plt.ylabel(\"comment\")\n",
    "plt.scatter(t_uk_like,t_uk_comment)  #画散点图,观察横轴和纵轴的关系\n",
    "\n",
    "plt.show()"
   ],
   "id": "63600a7c5e2c025d",
   "outputs": [
    {
     "name": "stdout",
     "output_type": "stream",
     "text": [
      "(1556, 4)\n"
     ]
    },
    {
     "data": {
      "text/plain": [
       "<Figure size 1600x640 with 1 Axes>"
      ],
      "image/png": "[encoded data removed]"
     },
     "metadata": {},
     "output_type": "display_data"
    }
   ],
   "execution_count": 73
  },
  {
   "metadata": {
    "ExecuteTime": {
     "end_time": "2025-01-08T09:18:33.284755Z",
     "start_time": "2025-01-08T09:18:33.281241Z"
    }
   },
   "cell_type": "code",
   "source": [
    "import os\n",
    "os.getcwd() #获取当前工作目录"
   ],
   "id": "61545fdb8dee72a1",
   "outputs": [
    {
     "data": {
      "text/plain": [
       "'C:\\\\Users\\\\klklklk\\\\Desktop\\\\王道python短期班\\\\DeepLearning\\\\Day12_data_analysis3'"
      ]
     },
     "execution_count": 71,
     "metadata": {},
     "output_type": "execute_result"
    }
   ],
   "execution_count": 71
  }
 ],
 "metadata": {
  "kernelspec": {
   "display_name": "Python 3",
   "language": "python",
   "name": "python3"
  },
  "language_info": {
   "codemirror_mode": {
    "name": "ipython",
    "version": 2
   },
   "file_extension": ".py",
   "mimetype": "text/x-python",
   "name": "python",
   "nbconvert_exporter": "python",
   "pygments_lexer": "ipython2",
   "version": "2.7.6"
  }
 },
 "nbformat": 4,
 "nbformat_minor": 5
}
