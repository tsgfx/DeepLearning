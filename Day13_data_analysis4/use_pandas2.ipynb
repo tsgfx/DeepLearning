{
 "cells": [
  {
   "metadata": {},
   "cell_type": "markdown",
   "source": "# 函数应用",
   "id": "4f68e9f6804999ad"
  },
  {
   "cell_type": "code",
   "id": "initial_id",
   "metadata": {
    "collapsed": true,
    "ExecuteTime": {
     "end_time": "2025-01-10T13:49:57.916652Z",
     "start_time": "2025-01-10T13:49:57.910302Z"
    }
   },
   "source": [
    "import pandas as pd\n",
    "import numpy as np\n",
    "# Numpy ufunc 函数，randn跟的是维数\n",
    "df = pd.DataFrame(np.random.randn(5,4) - 1)  \n",
    "print(df)   \n",
    "print(np.abs(df)) #绝对值 "
   ],
   "outputs": [
    {
     "name": "stdout",
     "output_type": "stream",
     "text": [
      "          0         1         2         3\n",
      "0 -1.823654 -2.217253 -1.905701 -3.346511\n",
      "1 -0.394204 -0.437067  0.067901 -1.748860\n",
      "2 -0.597289 -2.327537 -0.593009 -0.154756\n",
      "3  0.949637 -0.957908 -1.821659  0.067857\n",
      "4 -0.321981 -1.047882 -2.765389 -2.245926\n",
      "          0         1         2         3\n",
      "0  1.823654  2.217253  1.905701  3.346511\n",
      "1  0.394204  0.437067  0.067901  1.748860\n",
      "2  0.597289  2.327537  0.593009  0.154756\n",
      "3  0.949637  0.957908  1.821659  0.067857\n",
      "4  0.321981  1.047882  2.765389  2.245926\n"
     ]
    }
   ],
   "execution_count": 64
  },
  {
   "metadata": {
    "ExecuteTime": {
     "end_time": "2025-01-10T13:49:57.927862Z",
     "start_time": "2025-01-10T13:49:57.923401Z"
    }
   },
   "cell_type": "code",
   "source": [
    "# apply默认作用在列上,x是每一列,因为axis=0\n",
    "print(df.apply(lambda x : x.max())) #每一列的最大值"
   ],
   "id": "f0d56759d4c6becc",
   "outputs": [
    {
     "name": "stdout",
     "output_type": "stream",
     "text": [
      "0    0.949637\n",
      "1   -0.437067\n",
      "2    0.067901\n",
      "3    0.067857\n",
      "dtype: float64\n"
     ]
    }
   ],
   "execution_count": 65
  },
  {
   "metadata": {
    "ExecuteTime": {
     "end_time": "2025-01-10T13:49:57.964695Z",
     "start_time": "2025-01-10T13:49:57.958749Z"
    }
   },
   "cell_type": "code",
   "source": [
    "# apply作用在行上,x是每一行,因为axis=1\n",
    "print(df.apply(lambda x : x.max(), axis=1))"
   ],
   "id": "3f7ea72a08f2b3fc",
   "outputs": [
    {
     "name": "stdout",
     "output_type": "stream",
     "text": [
      "0   -1.823654\n",
      "1    0.067901\n",
      "2   -0.154756\n",
      "3    0.949637\n",
      "4   -0.321981\n",
      "dtype: float64\n"
     ]
    }
   ],
   "execution_count": 66
  },
  {
   "metadata": {
    "ExecuteTime": {
     "end_time": "2025-01-10T13:49:57.970108Z",
     "start_time": "2025-01-10T13:49:57.965701Z"
    }
   },
   "cell_type": "code",
   "source": [
    "# 使用applymap应用到每个数据\n",
    "print(df.map(lambda x : '%.2f' % x))\n",
    "print(df.dtypes)"
   ],
   "id": "83c447c637dfdc9e",
   "outputs": [
    {
     "name": "stdout",
     "output_type": "stream",
     "text": [
      "       0      1      2      3\n",
      "0  -1.82  -2.22  -1.91  -3.35\n",
      "1  -0.39  -0.44   0.07  -1.75\n",
      "2  -0.60  -2.33  -0.59  -0.15\n",
      "3   0.95  -0.96  -1.82   0.07\n",
      "4  -0.32  -1.05  -2.77  -2.25\n",
      "0    float64\n",
      "1    float64\n",
      "2    float64\n",
      "3    float64\n",
      "dtype: object\n"
     ]
    }
   ],
   "execution_count": 67
  },
  {
   "metadata": {},
   "cell_type": "markdown",
   "source": "# 索引排序",
   "id": "15958a3c62d7dc4"
  },
  {
   "metadata": {
    "ExecuteTime": {
     "end_time": "2025-01-10T13:49:57.978107Z",
     "start_time": "2025-01-10T13:49:57.971627Z"
    }
   },
   "cell_type": "code",
   "source": [
    "# Series\n",
    "print(np.random.randint(5, size=5))\n",
    "print('-'*50)\n",
    "s4 = pd.Series(range(10, 15), index = np.random.randint(5, size=5)) #索引随机生成\n",
    "print(s4)\n",
    "print('-'*50)\n",
    "# 索引排序,sort_index返回一个新的排好索引的series\n",
    "print(s4.sort_index())\n",
    "print(s4)\n",
    "# s4.loc[0:3]  loc索引值不唯一时直接报错\n",
    "print(s4.iloc[0:3])\n",
    "s4[0:3]  #默认用的位置索引"
   ],
   "id": "68c0a72f1fda7aba",
   "outputs": [
    {
     "name": "stdout",
     "output_type": "stream",
     "text": [
      "[4 0 2 4 0]\n",
      "--------------------------------------------------\n",
      "4    10\n",
      "2    11\n",
      "0    12\n",
      "4    13\n",
      "4    14\n",
      "dtype: int64\n",
      "--------------------------------------------------\n",
      "0    12\n",
      "2    11\n",
      "4    10\n",
      "4    13\n",
      "4    14\n",
      "dtype: int64\n",
      "4    10\n",
      "2    11\n",
      "0    12\n",
      "4    13\n",
      "4    14\n",
      "dtype: int64\n",
      "4    10\n",
      "2    11\n",
      "0    12\n",
      "dtype: int64\n"
     ]
    },
    {
     "data": {
      "text/plain": [
       "4    10\n",
       "2    11\n",
       "0    12\n",
       "dtype: int64"
      ]
     },
     "execution_count": 68,
     "metadata": {},
     "output_type": "execute_result"
    }
   ],
   "execution_count": 68
  },
  {
   "metadata": {
    "ExecuteTime": {
     "end_time": "2025-01-10T13:49:57.985591Z",
     "start_time": "2025-01-10T13:49:57.979118Z"
    }
   },
   "cell_type": "code",
   "source": [
    "# DataFrame\n",
    "df4 = pd.DataFrame(np.random.randn(5, 5),\n",
    "                   index=np.random.randint(5, size=5),\n",
    "                   columns=np.random.randint(5, size=5))\n",
    "print(df4)\n",
    "#轴零是行索引排序\n",
    "df4_isort = df4.sort_index(axis=0, ascending=False)  # 按行索引排序\n",
    "print(df4_isort)"
   ],
   "id": "e8c7753b9258d28d",
   "outputs": [
    {
     "name": "stdout",
     "output_type": "stream",
     "text": [
      "          1         1         0         4         0\n",
      "4 -0.025873  0.237141  0.165074 -1.134153  0.694082\n",
      "1  0.371933 -2.368624  0.292611 -1.573073  0.217457\n",
      "1 -0.216396  0.689673 -0.194823  0.195863  1.790911\n",
      "0  0.631698 -0.606620  1.827383 -0.048728 -0.487976\n",
      "1  1.444932  1.624664  0.042855 -0.139360  1.678678\n",
      "          1         1         0         4         0\n",
      "4 -0.025873  0.237141  0.165074 -1.134153  0.694082\n",
      "1  0.371933 -2.368624  0.292611 -1.573073  0.217457\n",
      "1 -0.216396  0.689673 -0.194823  0.195863  1.790911\n",
      "1  1.444932  1.624664  0.042855 -0.139360  1.678678\n",
      "0  0.631698 -0.606620  1.827383 -0.048728 -0.487976\n"
     ]
    }
   ],
   "execution_count": 69
  },
  {
   "metadata": {
    "ExecuteTime": {
     "end_time": "2025-01-10T13:49:57.991197Z",
     "start_time": "2025-01-10T13:49:57.986602Z"
    }
   },
   "cell_type": "code",
   "source": [
    "#轴1是列索引排序\n",
    "df4_isort = df4.sort_index(axis=1, ascending=True)\n",
    "print(df4_isort)"
   ],
   "id": "19315fb6da844bc2",
   "outputs": [
    {
     "name": "stdout",
     "output_type": "stream",
     "text": [
      "          0         0         1         1         4\n",
      "4  0.165074  0.694082  0.237141 -0.025873 -1.134153\n",
      "1  0.292611  0.217457 -2.368624  0.371933 -1.573073\n",
      "1 -0.194823  1.790911  0.689673 -0.216396  0.195863\n",
      "0  1.827383 -0.487976 -0.606620  0.631698 -0.048728\n",
      "1  0.042855  1.678678  1.624664  1.444932 -0.139360\n"
     ]
    }
   ],
   "execution_count": 70
  },
  {
   "metadata": {
    "ExecuteTime": {
     "end_time": "2025-01-10T13:49:58.011771Z",
     "start_time": "2025-01-10T13:49:58.005769Z"
    }
   },
   "cell_type": "code",
   "source": [
    "# 按值排序,by后是column的值\n",
    "import random\n",
    "l=[random.randint(0,100) for i in range(24)] #生成24个随机数\n",
    "df4 = pd.DataFrame(np.array(l).reshape(6,4)) #生成6行4列的dataframe\n",
    "# print(df4) #查看数据,ndarray\n",
    "# print('-'*50)\n",
    "print(df4)\n",
    "print('-'*50)\n",
    "#按轴零排序，by后是列名,交换的是行\n",
    "df4_vsort = df4.sort_values(by=3,axis=0, ascending=False) #寻找的是columns里的3,重要\n",
    "print(df4_vsort)\n"
   ],
   "id": "f9f35a179a68457c",
   "outputs": [
    {
     "name": "stdout",
     "output_type": "stream",
     "text": [
      "    0   1   2   3\n",
      "0  20  29  58  22\n",
      "1  93  52  12  64\n",
      "2  46  78  33  44\n",
      "3  82  71  55  47\n",
      "4  71  66  53   1\n",
      "5   1  24  39  63\n",
      "--------------------------------------------------\n",
      "    0   1   2   3\n",
      "1  93  52  12  64\n",
      "5   1  24  39  63\n",
      "3  82  71  55  47\n",
      "2  46  78  33  44\n",
      "0  20  29  58  22\n",
      "4  71  66  53   1\n"
     ]
    }
   ],
   "execution_count": 71
  },
  {
   "metadata": {
    "ExecuteTime": {
     "end_time": "2025-01-10T13:49:58.019981Z",
     "start_time": "2025-01-10T13:49:58.016248Z"
    }
   },
   "cell_type": "code",
   "source": [
    "#按轴1排序，by后行索引名，交换的是列\n",
    "df4_vsort = df4.sort_values(by=3,axis=1, ascending=False) #寻找的是index里的3\n",
    "print(df4_vsort)"
   ],
   "id": "e155fcaf18f1de",
   "outputs": [
    {
     "name": "stdout",
     "output_type": "stream",
     "text": [
      "    0   1   2   3\n",
      "0  20  29  58  22\n",
      "1  93  52  12  64\n",
      "2  46  78  33  44\n",
      "3  82  71  55  47\n",
      "4  71  66  53   1\n",
      "5   1  24  39  63\n"
     ]
    }
   ],
   "execution_count": 72
  },
  {
   "metadata": {},
   "cell_type": "markdown",
   "source": "# 处理缺失数据",
   "id": "c256ae110124cb5e"
  },
  {
   "metadata": {
    "ExecuteTime": {
     "end_time": "2025-01-10T13:49:58.026327Z",
     "start_time": "2025-01-10T13:49:58.021128Z"
    }
   },
   "cell_type": "code",
   "source": [
    "df_data = pd.DataFrame([np.random.randn(3), [1., 2., np.nan],\n",
    "                       [np.nan, 4., np.nan], [1., 2., 3.]])\n",
    "print(df_data.head())"
   ],
   "id": "d6f412ad438a81bc",
   "outputs": [
    {
     "name": "stdout",
     "output_type": "stream",
     "text": [
      "          0        1        2\n",
      "0  0.787574  0.01204  1.50148\n",
      "1  1.000000  2.00000      NaN\n",
      "2       NaN  4.00000      NaN\n",
      "3  1.000000  2.00000  3.00000\n"
     ]
    }
   ],
   "execution_count": 73
  },
  {
   "metadata": {
    "ExecuteTime": {
     "end_time": "2025-01-10T13:49:58.031464Z",
     "start_time": "2025-01-10T13:49:58.027337Z"
    }
   },
   "cell_type": "code",
   "source": [
    "#isnull来判断是否有空的数据\n",
    "print(df_data.isnull())"
   ],
   "id": "b8b94c7146e26486",
   "outputs": [
    {
     "name": "stdout",
     "output_type": "stream",
     "text": [
      "       0      1      2\n",
      "0  False  False  False\n",
      "1  False  False   True\n",
      "2   True  False   True\n",
      "3  False  False  False\n"
     ]
    }
   ],
   "execution_count": 74
  },
  {
   "metadata": {
    "ExecuteTime": {
     "end_time": "2025-01-10T13:49:58.057649Z",
     "start_time": "2025-01-10T13:49:58.053448Z"
    }
   },
   "cell_type": "code",
   "source": [
    "# 计算df_data缺失率\n",
    "print(df_data.isnull().sum()/len(df_data))"
   ],
   "id": "144c42518a6150a3",
   "outputs": [
    {
     "name": "stdout",
     "output_type": "stream",
     "text": [
      "0    0.25\n",
      "1    0.00\n",
      "2    0.50\n",
      "dtype: float64\n"
     ]
    }
   ],
   "execution_count": 75
  },
  {
   "metadata": {
    "ExecuteTime": {
     "end_time": "2025-01-10T13:49:58.067519Z",
     "start_time": "2025-01-10T13:49:58.062208Z"
    }
   },
   "cell_type": "code",
   "source": [
    "#默认一个样本，任何一个特征缺失，就删除\n",
    "#inplace True是修改的是原有的df\n",
    "#subset=[0]是指按第一列来删除,第一列有空值就删除对应的行\n",
    "print(df_data.dropna(subset=[0]))\n",
    "# df_data"
   ],
   "id": "fd33445a899c6b3c",
   "outputs": [
    {
     "name": "stdout",
     "output_type": "stream",
     "text": [
      "          0        1        2\n",
      "0  0.787574  0.01204  1.50148\n",
      "1  1.000000  2.00000      NaN\n",
      "3  1.000000  2.00000  3.00000\n"
     ]
    }
   ],
   "execution_count": 76
  },
  {
   "metadata": {
    "ExecuteTime": {
     "end_time": "2025-01-10T13:49:58.072046Z",
     "start_time": "2025-01-10T13:49:58.068540Z"
    }
   },
   "cell_type": "code",
   "source": [
    "#用的不多，用在某个特征缺失太多时，才会进行删除\n",
    "print(df_data.dropna(axis=1))  #某列有nan就删除该列"
   ],
   "id": "65037aa3777b409b",
   "outputs": [
    {
     "name": "stdout",
     "output_type": "stream",
     "text": [
      "         1\n",
      "0  0.01204\n",
      "1  2.00000\n",
      "2  4.00000\n",
      "3  2.00000\n"
     ]
    }
   ],
   "execution_count": 77
  },
  {
   "metadata": {
    "ExecuteTime": {
     "end_time": "2025-01-10T13:49:58.077720Z",
     "start_time": "2025-01-10T13:49:58.072046Z"
    }
   },
   "cell_type": "code",
   "source": "print(df_data)",
   "id": "3d55da380432d7be",
   "outputs": [
    {
     "name": "stdout",
     "output_type": "stream",
     "text": [
      "          0        1        2\n",
      "0  0.787574  0.01204  1.50148\n",
      "1  1.000000  2.00000      NaN\n",
      "2       NaN  4.00000      NaN\n",
      "3  1.000000  2.00000  3.00000\n"
     ]
    }
   ],
   "execution_count": 78
  },
  {
   "metadata": {},
   "cell_type": "markdown",
   "source": "# 填充缺失值",
   "id": "9d9e63cc7acce3ba"
  },
  {
   "metadata": {
    "ExecuteTime": {
     "end_time": "2025-01-10T13:49:58.095297Z",
     "start_time": "2025-01-10T13:49:58.090744Z"
    }
   },
   "cell_type": "code",
   "source": [
    "#给零列的空值填为-100，按特征（按列）去填充\n",
    "print(df_data.iloc[:,0].fillna(-100.))\n",
    "print(df_data)"
   ],
   "id": "27004e687255791b",
   "outputs": [
    {
     "name": "stdout",
     "output_type": "stream",
     "text": [
      "0      0.787574\n",
      "1      1.000000\n",
      "2   -100.000000\n",
      "3      1.000000\n",
      "Name: 0, dtype: float64\n",
      "          0        1        2\n",
      "0  0.787574  0.01204  1.50148\n",
      "1  1.000000  2.00000      NaN\n",
      "2       NaN  4.00000      NaN\n",
      "3  1.000000  2.00000  3.00000\n"
     ]
    }
   ],
   "execution_count": 79
  },
  {
   "metadata": {
    "ExecuteTime": {
     "end_time": "2025-01-10T13:49:58.111095Z",
     "start_time": "2025-01-10T13:49:58.100811Z"
    }
   },
   "cell_type": "code",
   "source": [
    "#依次拿到每一列\n",
    "for i in df_data.columns:\n",
    "    print(df_data.loc[:,i])"
   ],
   "id": "7b54a6a8091c0956",
   "outputs": [
    {
     "name": "stdout",
     "output_type": "stream",
     "text": [
      "0    0.787574\n",
      "1    1.000000\n",
      "2         NaN\n",
      "3    1.000000\n",
      "Name: 0, dtype: float64\n",
      "0    0.01204\n",
      "1    2.00000\n",
      "2    4.00000\n",
      "3    2.00000\n",
      "Name: 1, dtype: float64\n",
      "0    1.50148\n",
      "1        NaN\n",
      "2        NaN\n",
      "3    3.00000\n",
      "Name: 2, dtype: float64\n"
     ]
    }
   ],
   "execution_count": 80
  },
  {
   "metadata": {
    "ExecuteTime": {
     "end_time": "2025-01-10T14:34:40.713952Z",
     "start_time": "2025-01-10T14:34:40.707572Z"
    }
   },
   "cell_type": "code",
   "source": [
    "df_data.iloc[:, 0] = df_data.iloc[:, 0].fillna(-100.)\n",
    "# # 填充第 0 列的缺失值为 -100"
   ],
   "id": "f3943fef8725a2e6",
   "outputs": [],
   "execution_count": 86
  },
  {
   "metadata": {
    "ExecuteTime": {
     "end_time": "2025-01-10T13:50:25.128644Z",
     "start_time": "2025-01-10T13:50:25.124960Z"
    }
   },
   "cell_type": "code",
   "source": "df_data.iloc[:,2]=df_data.iloc[:,2].fillna(df_data.iloc[:,2].mean()) #用均值填充空值",
   "id": "ba4cd9673c1f8911",
   "outputs": [],
   "execution_count": 83
  },
  {
   "metadata": {
    "ExecuteTime": {
     "end_time": "2025-01-10T13:50:37.302632Z",
     "start_time": "2025-01-10T13:50:37.295958Z"
    }
   },
   "cell_type": "code",
   "source": "df_data",
   "id": "728df3bb64725218",
   "outputs": [
    {
     "data": {
      "text/plain": [
       "          0        1        2\n",
       "0  0.787574  0.01204  1.50148\n",
       "1  1.000000  2.00000  2.25074\n",
       "2       NaN  4.00000  2.25074\n",
       "3  1.000000  2.00000  3.00000"
      ],
      "text/html": [
       "<div>\n",
       "<style scoped>\n",
       "    .dataframe tbody tr th:only-of-type {\n",
       "        vertical-align: middle;\n",
       "    }\n",
       "\n",
       "    .dataframe tbody tr th {\n",
       "        vertical-align: top;\n",
       "    }\n",
       "\n",
       "    .dataframe thead th {\n",
       "        text-align: right;\n",
       "    }\n",
       "</style>\n",
       "<table border=\"1\" class=\"dataframe\">\n",
       "  <thead>\n",
       "    <tr style=\"text-align: right;\">\n",
       "      <th></th>\n",
       "      <th>0</th>\n",
       "      <th>1</th>\n",
       "      <th>2</th>\n",
       "    </tr>\n",
       "  </thead>\n",
       "  <tbody>\n",
       "    <tr>\n",
       "      <th>0</th>\n",
       "      <td>0.787574</td>\n",
       "      <td>0.01204</td>\n",
       "      <td>1.50148</td>\n",
       "    </tr>\n",
       "    <tr>\n",
       "      <th>1</th>\n",
       "      <td>1.000000</td>\n",
       "      <td>2.00000</td>\n",
       "      <td>2.25074</td>\n",
       "    </tr>\n",
       "    <tr>\n",
       "      <th>2</th>\n",
       "      <td>NaN</td>\n",
       "      <td>4.00000</td>\n",
       "      <td>2.25074</td>\n",
       "    </tr>\n",
       "    <tr>\n",
       "      <th>3</th>\n",
       "      <td>1.000000</td>\n",
       "      <td>2.00000</td>\n",
       "      <td>3.00000</td>\n",
       "    </tr>\n",
       "  </tbody>\n",
       "</table>\n",
       "</div>"
      ]
     },
     "execution_count": 84,
     "metadata": {},
     "output_type": "execute_result"
    }
   ],
   "execution_count": 84
  },
  {
   "metadata": {},
   "cell_type": "markdown",
   "source": "# 层级索引",
   "id": "3d42c9128de19b21"
  },
  {
   "metadata": {
    "ExecuteTime": {
     "end_time": "2025-01-10T14:44:10.384153Z",
     "start_time": "2025-01-10T14:44:10.372853Z"
    }
   },
   "cell_type": "code",
   "source": [
    "import pandas as pd\n",
    "import numpy as np\n",
    "\n",
    "#MultiIndex是层级索引，索引类型的一种\n",
    "index1 = pd.MultiIndex.from_arrays([['a', 'a', 'a', 'b', 'b', 'b', 'c', 'c', 'c', 'd', 'd', 'd'],\n",
    "                [0, 1, 2, 0, 1, 2, 0, 1, 2, 0, 1, 2]], names=['cloth', 'size'])\n",
    "\n",
    "ser_obj = pd.Series(np.random.randn(12),index=index1)\n",
    "print(ser_obj)\n",
    "print(type(ser_obj)) #Series\n",
    "print(type(ser_obj.index)) #索引类型，MultiIndex\n",
    "print(ser_obj.index)\n",
    "print(ser_obj.index.levels) #层级索引的索引值\n",
    "ser_obj.index.codes  #没那么重要，代表索引的位置"
   ],
   "id": "5605a73d820884b",
   "outputs": [
    {
     "name": "stdout",
     "output_type": "stream",
     "text": [
      "cloth  size\n",
      "a      0       0.321609\n",
      "       1       0.718668\n",
      "       2       0.674320\n",
      "b      0       0.641929\n",
      "       1      -0.294042\n",
      "       2      -0.171909\n",
      "c      0       0.313592\n",
      "       1       0.557552\n",
      "       2       1.317587\n",
      "d      0      -0.258273\n",
      "       1      -1.849511\n",
      "       2      -2.166140\n",
      "dtype: float64\n",
      "<class 'pandas.core.series.Series'>\n",
      "<class 'pandas.core.indexes.multi.MultiIndex'>\n",
      "MultiIndex([('a', 0),\n",
      "            ('a', 1),\n",
      "            ('a', 2),\n",
      "            ('b', 0),\n",
      "            ('b', 1),\n",
      "            ('b', 2),\n",
      "            ('c', 0),\n",
      "            ('c', 1),\n",
      "            ('c', 2),\n",
      "            ('d', 0),\n",
      "            ('d', 1),\n",
      "            ('d', 2)],\n",
      "           names=['cloth', 'size'])\n",
      "[['a', 'b', 'c', 'd'], [0, 1, 2]]\n"
     ]
    },
    {
     "data": {
      "text/plain": [
       "FrozenList([[0, 0, 0, 1, 1, 1, 2, 2, 2, 3, 3, 3], [0, 1, 2, 0, 1, 2, 0, 1, 2, 0, 1, 2]])"
      ]
     },
     "execution_count": 87,
     "metadata": {},
     "output_type": "execute_result"
    }
   ],
   "execution_count": 87
  },
  {
   "metadata": {},
   "cell_type": "code",
   "outputs": [],
   "execution_count": null,
   "source": "",
   "id": "d73930e1d9fa8e1"
  }
 ],
 "metadata": {
  "kernelspec": {
   "display_name": "Python 3",
   "language": "python",
   "name": "python3"
  },
  "language_info": {
   "codemirror_mode": {
    "name": "ipython",
    "version": 2
   },
   "file_extension": ".py",
   "mimetype": "text/x-python",
   "name": "python",
   "nbconvert_exporter": "python",
   "pygments_lexer": "ipython2",
   "version": "2.7.6"
  }
 },
 "nbformat": 4,
 "nbformat_minor": 5
}
