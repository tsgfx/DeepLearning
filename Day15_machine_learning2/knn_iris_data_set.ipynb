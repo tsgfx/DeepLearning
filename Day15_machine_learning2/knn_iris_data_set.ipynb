{
 "cells": [
  {
   "cell_type": "code",
   "id": "initial_id",
   "metadata": {
    "collapsed": true,
    "ExecuteTime": {
     "end_time": "2025-01-12T15:19:25.964910Z",
     "start_time": "2025-01-12T15:19:24.436538Z"
    }
   },
   "source": [
    "from sklearn.datasets import load_iris, fetch_20newsgroups, fetch_california_housing\n",
    "from sklearn.model_selection import train_test_split, GridSearchCV\n",
    "from sklearn.neighbors import KNeighborsClassifier"
   ],
   "outputs": [],
   "execution_count": 1
  },
  {
   "metadata": {
    "ExecuteTime": {
     "end_time": "2025-01-12T15:19:26.099158Z",
     "start_time": "2025-01-12T15:19:25.965917Z"
    }
   },
   "cell_type": "code",
   "source": [
    "# 加载鸢尾花数据集\n",
    "li = load_iris()\n",
    "# 划分训练集和测试集\n",
    "x_train, x_test, y_train, y_test = train_test_split(li.data, li.target, test_size=0.2, random_state=42)\n",
    "# 算法流程\n",
    "knn = KNeighborsClassifier()\n",
    "# 构造超参\n",
    "param = {'n_neighbors': [1, 2, 3, 4, 5, 6, 7, 8, 9, 10], 'weights': ['uniform', 'distance']}\n",
    "# 网格搜索\n",
    "grid_search = GridSearchCV(knn, param_grid=param, cv=3)\n",
    "grid_search.fit(x_train, y_train)\n",
    "# 准确率最佳的是\n",
    "print(\"准确率是:\", grid_search.score(x_train, y_train)) \n",
    "print(\"交叉验证中最好的结果是:\", grid_search.best_score_)\n",
    "print(\"最佳参数是:\", grid_search.best_params_)"
   ],
   "id": "562e08ad6956f2e1",
   "outputs": [
    {
     "name": "stdout",
     "output_type": "stream",
     "text": [
      "准确率是: 1.0\n",
      "交叉验证中最好的结果是: 0.9583333333333334\n",
      "最佳参数是: {'n_neighbors': 3, 'weights': 'distance'}\n"
     ]
    }
   ],
   "execution_count": 2
  }
 ],
 "metadata": {
  "kernelspec": {
   "display_name": "Python 3",
   "language": "python",
   "name": "python3"
  },
  "language_info": {
   "codemirror_mode": {
    "name": "ipython",
    "version": 2
   },
   "file_extension": ".py",
   "mimetype": "text/x-python",
   "name": "python",
   "nbconvert_exporter": "python",
   "pygments_lexer": "ipython2",
   "version": "2.7.6"
  }
 },
 "nbformat": 4,
 "nbformat_minor": 5
}
