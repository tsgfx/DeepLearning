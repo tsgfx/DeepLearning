{
 "cells": [
  {
   "cell_type": "code",
   "id": "initial_id",
   "metadata": {
    "collapsed": true,
    "ExecuteTime": {
     "end_time": "2025-01-13T09:20:47.055417Z",
     "start_time": "2025-01-13T09:20:45.728962Z"
    }
   },
   "source": [
    "import time\n",
    "from sklearn.datasets import load_iris, fetch_20newsgroups, fetch_california_housing\n",
    "from sklearn.model_selection import train_test_split, GridSearchCV \n",
    "from sklearn.neighbors import KNeighborsClassifier # KNN分类器\n",
    "from sklearn.preprocessing import StandardScaler\n",
    "from sklearn.feature_extraction.text import TfidfVectorizer\n",
    "from sklearn.naive_bayes import MultinomialNB\n",
    "from sklearn.metrics import classification_report\n",
    "from sklearn.feature_extraction import DictVectorizer\n",
    "from sklearn.tree import DecisionTreeClassifier, export_graphviz\n",
    "from sklearn.ensemble import RandomForestClassifier\n",
    "import pandas as pd\n",
    "import numpy as np\n",
    "from sklearn.metrics import roc_auc_score"
   ],
   "outputs": [],
   "execution_count": 1
  },
  {
   "metadata": {},
   "cell_type": "markdown",
   "source": [
    "load直接加载的内存的，数据集比较小，并不会保存到本地磁盘\n",
    "fetch数据集比较大，下载下来后会存在本地磁盘，下一次就不会再连接sklearn的服务器"
   ],
   "id": "c646a2d0395e3e4b"
  },
  {
   "metadata": {
    "ExecuteTime": {
     "end_time": "2025-01-13T09:20:47.065617Z",
     "start_time": "2025-01-13T09:20:47.056422Z"
    }
   },
   "cell_type": "code",
   "source": [
    "from sklearn.datasets import load_iris\n",
    "\n",
    "# 加载鸢尾花数据集\n",
    "li = load_iris()\n",
    "\n",
    "# 打印特征数据的类型\n",
    "print(\"获取特征值\")\n",
    "print(type(li.data))  # 输出特征数据的类型，应该是 numpy.ndarray 类型\n",
    "print('-' * 50)\n",
    "\n",
    "# 打印数据集的形状，展示样本量和特征数量\n",
    "print(li.data.shape)  # 输出数据的形状：150个样本，4个特征\n",
    "# 150行，每行代表一个样本，每列代表一个特征"
   ],
   "id": "71d3100204bf6c39",
   "outputs": [
    {
     "name": "stdout",
     "output_type": "stream",
     "text": [
      "获取特征值\n",
      "<class 'numpy.ndarray'>\n",
      "--------------------------------------------------\n",
      "(150, 4)\n"
     ]
    }
   ],
   "execution_count": 2
  },
  {
   "metadata": {
    "ExecuteTime": {
     "end_time": "2025-01-13T09:20:47.069867Z",
     "start_time": "2025-01-13T09:20:47.066619Z"
    }
   },
   "cell_type": "code",
   "source": [
    "print(\"目标值：\")\n",
    "print(li.target) # 输出目标值\n",
    "print('-' * 50)\n",
    "print(li.DESCR)  # 数据集的描述\n",
    "print('-' * 50)\n",
    "print(li.feature_names)  # 重点,特征名字\n",
    "print('-' * 50)\n",
    "print(li.target_names) # 目标名字"
   ],
   "id": "58e74d5ee621f9c1",
   "outputs": [
    {
     "name": "stdout",
     "output_type": "stream",
     "text": [
      "目标值：\n",
      "[0 0 0 0 0 0 0 0 0 0 0 0 0 0 0 0 0 0 0 0 0 0 0 0 0 0 0 0 0 0 0 0 0 0 0 0 0\n",
      " 0 0 0 0 0 0 0 0 0 0 0 0 0 1 1 1 1 1 1 1 1 1 1 1 1 1 1 1 1 1 1 1 1 1 1 1 1\n",
      " 1 1 1 1 1 1 1 1 1 1 1 1 1 1 1 1 1 1 1 1 1 1 1 1 1 1 2 2 2 2 2 2 2 2 2 2 2\n",
      " 2 2 2 2 2 2 2 2 2 2 2 2 2 2 2 2 2 2 2 2 2 2 2 2 2 2 2 2 2 2 2 2 2 2 2 2 2\n",
      " 2 2]\n",
      "--------------------------------------------------\n",
      ".. _iris_dataset:\n",
      "\n",
      "Iris plants dataset\n",
      "--------------------\n",
      "\n",
      "**Data Set Characteristics:**\n",
      "\n",
      ":Number of Instances: 150 (50 in each of three classes)\n",
      ":Number of Attributes: 4 numeric, predictive attributes and the class\n",
      ":Attribute Information:\n",
      "    - sepal length in cm\n",
      "    - sepal width in cm\n",
      "    - petal length in cm\n",
      "    - petal width in cm\n",
      "    - class:\n",
      "            - Iris-Setosa\n",
      "            - Iris-Versicolour\n",
      "            - Iris-Virginica\n",
      "\n",
      ":Summary Statistics:\n",
      "\n",
      "============== ==== ==== ======= ===== ====================\n",
      "                Min  Max   Mean    SD   Class Correlation\n",
      "============== ==== ==== ======= ===== ====================\n",
      "sepal length:   4.3  7.9   5.84   0.83    0.7826\n",
      "sepal width:    2.0  4.4   3.05   0.43   -0.4194\n",
      "petal length:   1.0  6.9   3.76   1.76    0.9490  (high!)\n",
      "petal width:    0.1  2.5   1.20   0.76    0.9565  (high!)\n",
      "============== ==== ==== ======= ===== ====================\n",
      "\n",
      ":Missing Attribute Values: None\n",
      ":Class Distribution: 33.3% for each of 3 classes.\n",
      ":Creator: R.A. Fisher\n",
      ":Donor: Michael Marshall (MARSHALL%PLU@io.arc.nasa.gov)\n",
      ":Date: July, 1988\n",
      "\n",
      "The famous Iris database, first used by Sir R.A. Fisher. The dataset is taken\n",
      "from Fisher's paper. Note that it's the same as in R, but not as in the UCI\n",
      "Machine Learning Repository, which has two wrong data points.\n",
      "\n",
      "This is perhaps the best known database to be found in the\n",
      "pattern recognition literature.  Fisher's paper is a classic in the field and\n",
      "is referenced frequently to this day.  (See Duda & Hart, for example.)  The\n",
      "data set contains 3 classes of 50 instances each, where each class refers to a\n",
      "type of iris plant.  One class is linearly separable from the other 2; the\n",
      "latter are NOT linearly separable from each other.\n",
      "\n",
      ".. dropdown:: References\n",
      "\n",
      "  - Fisher, R.A. \"The use of multiple measurements in taxonomic problems\"\n",
      "    Annual Eugenics, 7, Part II, 179-188 (1936); also in \"Contributions to\n",
      "    Mathematical Statistics\" (John Wiley, NY, 1950).\n",
      "  - Duda, R.O., & Hart, P.E. (1973) Pattern Classification and Scene Analysis.\n",
      "    (Q327.D83) John Wiley & Sons.  ISBN 0-471-22361-1.  See page 218.\n",
      "  - Dasarathy, B.V. (1980) \"Nosing Around the Neighborhood: A New System\n",
      "    Structure and Classification Rule for Recognition in Partially Exposed\n",
      "    Environments\".  IEEE Transactions on Pattern Analysis and Machine\n",
      "    Intelligence, Vol. PAMI-2, No. 1, 67-71.\n",
      "  - Gates, G.W. (1972) \"The Reduced Nearest Neighbor Rule\".  IEEE Transactions\n",
      "    on Information Theory, May 1972, 431-433.\n",
      "  - See also: 1988 MLC Proceedings, 54-64.  Cheeseman et al\"s AUTOCLASS II\n",
      "    conceptual clustering system finds 3 classes in the data.\n",
      "  - Many, many more ...\n",
      "\n",
      "--------------------------------------------------\n",
      "['sepal length (cm)', 'sepal width (cm)', 'petal length (cm)', 'petal width (cm)']\n",
      "--------------------------------------------------\n",
      "['setosa' 'versicolor' 'virginica']\n"
     ]
    }
   ],
   "execution_count": 3
  },
  {
   "metadata": {
    "ExecuteTime": {
     "end_time": "2025-01-13T09:20:47.079023Z",
     "start_time": "2025-01-13T09:20:47.069867Z"
    }
   },
   "cell_type": "code",
   "source": [
    "from sklearn.model_selection import train_test_split\n",
    "from sklearn.datasets import load_iris\n",
    "\n",
    "# 加载鸢尾花数据集\n",
    "li = load_iris()\n",
    "\n",
    "# 使用train_test_split将数据集拆分为训练集和测试集\n",
    "# test_size=0.25 表示将25%的数据用作测试集，剩余的75%作为训练集\n",
    "# random_state=1 确保每次分割时得到相同的随机数据（便于复现）\n",
    "x_train, x_test, y_train, y_test = train_test_split(li.data, li.target, test_size=0.25, random_state=1)\n",
    "\n",
    "# 输出训练集特征数据的形状\n",
    "print(\"训练集特征值shape：\", x_train.shape)\n",
    "print('-' * 50)\n",
    "\n",
    "# 输出测试集特征数据的形状\n",
    "print(\"测试集特征值shape：\", x_test.shape)"
   ],
   "id": "1831dcddeeaa0b5a",
   "outputs": [
    {
     "name": "stdout",
     "output_type": "stream",
     "text": [
      "训练集特征值shape： (112, 4)\n",
      "--------------------------------------------------\n",
      "测试集特征值shape： (38, 4)\n"
     ]
    }
   ],
   "execution_count": 4
  },
  {
   "metadata": {
    "ExecuteTime": {
     "end_time": "2025-01-13T09:20:47.279222Z",
     "start_time": "2025-01-13T09:20:47.080025Z"
    }
   },
   "cell_type": "code",
   "source": [
    "# 下面是比较大的数据，需要下载一会，20类新闻\n",
    "#subset代表下载的数据集类型，默认是train，只有训练集\n",
    "news = fetch_20newsgroups(subset='all', data_home='G:\\\\wangdao_python_short_class\\\\python_ml\\\\data')\n",
    "# print(news.feature_names)  #这个数据集是没有的，因为没有特征，只有文本数据\n",
    "# print(news.DESCR)\n",
    "print('第一个样本')\n",
    "print(news.data[0])"
   ],
   "id": "f528aa25ed0893cd",
   "outputs": [
    {
     "name": "stdout",
     "output_type": "stream",
     "text": [
      "第一个样本\n",
      "From: Mamatha Devineni Ratnam <mr47+@andrew.cmu.edu>\n",
      "Subject: Pens fans reactions\n",
      "Organization: Post Office, Carnegie Mellon, Pittsburgh, PA\n",
      "Lines: 12\n",
      "NNTP-Posting-Host: po4.andrew.cmu.edu\n",
      "\n",
      "\n",
      "\n",
      "I am sure some bashers of Pens fans are pretty confused about the lack\n",
      "of any kind of posts about the recent Pens massacre of the Devils. Actually,\n",
      "I am  bit puzzled too and a bit relieved. However, I am going to put an end\n",
      "to non-PIttsburghers' relief with a bit of praise for the Pens. Man, they\n",
      "are killing those Devils worse than I thought. Jagr just showed you why\n",
      "he is much better than his regular season stats. He is also a lot\n",
      "fo fun to watch in the playoffs. Bowman should let JAgr have a lot of\n",
      "fun in the next couple of games since the Pens are going to beat the pulp out of Jersey anyway. I was very disappointed not to see the Islanders lose the final\n",
      "regular season game.          PENS RULE!!!\n",
      "\n",
      "\n"
     ]
    }
   ],
   "execution_count": 5
  },
  {
   "metadata": {
    "ExecuteTime": {
     "end_time": "2025-01-13T09:20:47.284206Z",
     "start_time": "2025-01-13T09:20:47.280224Z"
    }
   },
   "cell_type": "code",
   "source": [
    "# 打印特征数据的类型\n",
    "print('特征类型')\n",
    "print(type(news.data))  # 输出新闻数据类型，应该是一个列表（list）类型\n",
    "print('-' * 50)\n",
    "\n",
    "print(len(news.target_names))\n",
    "print('-' * 50)\n",
    "\n",
    "# 打印前15个目标标签\n",
    "print(news.target[0:15])  # 打印前15个样本的目标标签（类别）\n",
    "print('-' * 50)\n",
    "\n",
    "# 使用pprint打印所有目标类别的名称\n",
    "print(list(news.target_names))  # 输出20类新闻的类别名称"
   ],
   "id": "e1b8feba59292935",
   "outputs": [
    {
     "name": "stdout",
     "output_type": "stream",
     "text": [
      "特征类型\n",
      "<class 'list'>\n",
      "--------------------------------------------------\n",
      "20\n",
      "--------------------------------------------------\n",
      "[10  3 17  3  4 12  4 10 10 19 19 11 19 13  0]\n",
      "--------------------------------------------------\n",
      "['alt.atheism', 'comp.graphics', 'comp.os.ms-windows.misc', 'comp.sys.ibm.pc.hardware', 'comp.sys.mac.hardware', 'comp.windows.x', 'misc.forsale', 'rec.autos', 'rec.motorcycles', 'rec.sport.baseball', 'rec.sport.hockey', 'sci.crypt', 'sci.electronics', 'sci.med', 'sci.space', 'soc.religion.christian', 'talk.politics.guns', 'talk.politics.mideast', 'talk.politics.misc', 'talk.religion.misc']\n"
     ]
    }
   ],
   "execution_count": 6
  },
  {
   "metadata": {
    "ExecuteTime": {
     "end_time": "2025-01-13T09:20:47.293572Z",
     "start_time": "2025-01-13T09:20:47.284206Z"
    }
   },
   "cell_type": "code",
   "source": [
    "print('-' * 50)\n",
    "print(len(news.data))\n",
    "print('新闻所有的标签')\n",
    "print(news.target)\n",
    "print('-' * 50)\n",
    "print(min(news.target), max(news.target))"
   ],
   "id": "1006b45798b8d4d3",
   "outputs": [
    {
     "name": "stdout",
     "output_type": "stream",
     "text": [
      "--------------------------------------------------\n",
      "18846\n",
      "新闻所有的标签\n",
      "[10  3 17 ...  3  1  7]\n",
      "--------------------------------------------------\n",
      "0 19\n"
     ]
    }
   ],
   "execution_count": 7
  },
  {
   "metadata": {
    "ExecuteTime": {
     "end_time": "2025-01-13T09:20:47.307347Z",
     "start_time": "2025-01-13T09:20:47.293572Z"
    }
   },
   "cell_type": "code",
   "source": [
    "# california housing数据集\n",
    "house = fetch_california_housing(data_home='G:\\\\wangdao_python_short_class\\\\python_ml\\\\data')\n",
    "print(\"获取特征值\")\n",
    "print(house.data[0])  #第一个样本特征值\n",
    "print('样本的形状')\n",
    "print(house.data.shape)\n",
    "print('-' * 50)"
   ],
   "id": "9b65a28dc9b6b900",
   "outputs": [
    {
     "name": "stdout",
     "output_type": "stream",
     "text": [
      "获取特征值\n",
      "[   8.3252       41.            6.98412698    1.02380952  322.\n",
      "    2.55555556   37.88       -122.23      ]\n",
      "样本的形状\n",
      "(20640, 8)\n",
      "--------------------------------------------------\n"
     ]
    }
   ],
   "execution_count": 8
  },
  {
   "metadata": {
    "ExecuteTime": {
     "end_time": "2025-01-13T09:20:47.311213Z",
     "start_time": "2025-01-13T09:20:47.307347Z"
    }
   },
   "cell_type": "code",
   "source": [
    "print(\"目标值\")\n",
    "print(house.target[0:10])\n",
    "print('-' * 50)\n",
    "print(house.DESCR)\n",
    "print('-' * 50)\n",
    "print(house.feature_names)\n",
    "print('-' * 50)"
   ],
   "id": "1f12e88d9fcead2a",
   "outputs": [
    {
     "name": "stdout",
     "output_type": "stream",
     "text": [
      "目标值\n",
      "[4.526 3.585 3.521 3.413 3.422 2.697 2.992 2.414 2.267 2.611]\n",
      "--------------------------------------------------\n",
      ".. _california_housing_dataset:\n",
      "\n",
      "California Housing dataset\n",
      "--------------------------\n",
      "\n",
      "**Data Set Characteristics:**\n",
      "\n",
      ":Number of Instances: 20640\n",
      "\n",
      ":Number of Attributes: 8 numeric, predictive attributes and the target\n",
      "\n",
      ":Attribute Information:\n",
      "    - MedInc        median income in block group\n",
      "    - HouseAge      median house age in block group\n",
      "    - AveRooms      average number of rooms per household\n",
      "    - AveBedrms     average number of bedrooms per household\n",
      "    - Population    block group population\n",
      "    - AveOccup      average number of household members\n",
      "    - Latitude      block group latitude\n",
      "    - Longitude     block group longitude\n",
      "\n",
      ":Missing Attribute Values: None\n",
      "\n",
      "This dataset was obtained from the StatLib repository.\n",
      "https://www.dcc.fc.up.pt/~ltorgo/Regression/cal_housing.html\n",
      "\n",
      "The target variable is the median house value for California districts,\n",
      "expressed in hundreds of thousands of dollars ($100,000).\n",
      "\n",
      "This dataset was derived from the 1990 U.S. census, using one row per census\n",
      "block group. A block group is the smallest geographical unit for which the U.S.\n",
      "Census Bureau publishes sample data (a block group typically has a population\n",
      "of 600 to 3,000 people).\n",
      "\n",
      "A household is a group of people residing within a home. Since the average\n",
      "number of rooms and bedrooms in this dataset are provided per household, these\n",
      "columns may take surprisingly large values for block groups with few households\n",
      "and many empty houses, such as vacation resorts.\n",
      "\n",
      "It can be downloaded/loaded using the\n",
      ":func:`sklearn.datasets.fetch_california_housing` function.\n",
      "\n",
      ".. rubric:: References\n",
      "\n",
      "- Pace, R. Kelley and Ronald Barry, Sparse Spatial Autoregressions,\n",
      "  Statistics and Probability Letters, 33 (1997) 291-297\n",
      "\n",
      "--------------------------------------------------\n",
      "['MedInc', 'HouseAge', 'AveRooms', 'AveBedrms', 'Population', 'AveOccup', 'Latitude', 'Longitude']\n",
      "--------------------------------------------------\n"
     ]
    }
   ],
   "execution_count": 9
  },
  {
   "metadata": {},
   "cell_type": "markdown",
   "source": "## 分类器和预估器",
   "id": "f783144d138258fd"
  },
  {
   "metadata": {},
   "cell_type": "markdown",
   "source": [
    "### K近邻算法\n",
    "- 欧式距离：勾股定理 \n",
    "- 脱敏： 去除敏感信息，如手机号，身份证号等\n",
    "- 当axis=1时，数组的变化是横向的，体现出列的增加或者减少。反之，当axis=0时，数组的变化是纵向的，体现出行的增加或减少。"
   ],
   "id": "b50ff97a735b10f5"
  },
  {
   "metadata": {
    "ExecuteTime": {
     "end_time": "2025-01-13T09:20:57.185751Z",
     "start_time": "2025-01-13T09:20:47.311213Z"
    }
   },
   "cell_type": "code",
   "source": [
    "# K近邻\n",
    "\"\"\"\n",
    "K-近邻预测用户签到位置\n",
    ":return:None\n",
    "\"\"\"\n",
    "# 读取数据\n",
    "data = pd.read_csv(\"G:/wangdao_python_short_class/python_ml/data/FBlocation/train.csv\")\n",
    "print(data.head(10))\n",
    "print(data.shape)\n",
    "print(data.info())\n",
    "\n",
    "# 处理数据\n",
    "# 缩小数据,查询数据,为了减少计算时间\n",
    "data = data.query(\"x > 1.0 &  x < 1.25 & y > 2.5 & y < 2.75\")"
   ],
   "id": "4fa4d80605648f81",
   "outputs": [
    {
     "name": "stdout",
     "output_type": "stream",
     "text": [
      "   row_id       x       y  accuracy    time    place_id\n",
      "0       0  0.7941  9.0809        54  470702  8523065625\n",
      "1       1  5.9567  4.7968        13  186555  1757726713\n",
      "2       2  8.3078  7.0407        74  322648  1137537235\n",
      "3       3  7.3665  2.5165        65  704587  6567393236\n",
      "4       4  4.0961  1.1307        31  472130  7440663949\n",
      "5       5  3.8099  1.9586        75  178065  6289802927\n",
      "6       6  6.3336  4.3720        13  666829  9931249544\n",
      "7       7  5.7409  6.7697        85  369002  5662813655\n",
      "8       8  4.3114  6.9410         3  166384  8471780938\n",
      "9       9  6.3414  0.0758        65  400060  1253803156\n",
      "(29118021, 6)\n",
      "<class 'pandas.core.frame.DataFrame'>\n",
      "RangeIndex: 29118021 entries, 0 to 29118020\n",
      "Data columns (total 6 columns):\n",
      " #   Column    Dtype  \n",
      "---  ------    -----  \n",
      " 0   row_id    int64  \n",
      " 1   x         float64\n",
      " 2   y         float64\n",
      " 3   accuracy  int64  \n",
      " 4   time      int64  \n",
      " 5   place_id  int64  \n",
      "dtypes: float64(2), int64(4)\n",
      "memory usage: 1.3 GB\n",
      "None\n"
     ]
    }
   ],
   "execution_count": 10
  },
  {
   "metadata": {
    "ExecuteTime": {
     "end_time": "2025-01-13T09:20:57.203238Z",
     "start_time": "2025-01-13T09:20:57.185751Z"
    }
   },
   "cell_type": "code",
   "source": [
    "print(data.shape)\n",
    "data.describe()"
   ],
   "id": "b6a50d6223a0d7b3",
   "outputs": [
    {
     "name": "stdout",
     "output_type": "stream",
     "text": [
      "(17710, 6)\n"
     ]
    },
    {
     "data": {
      "text/plain": [
       "             row_id             x             y      accuracy           time  \\\n",
       "count  1.771000e+04  17710.000000  17710.000000  17710.000000   17710.000000   \n",
       "mean   1.450569e+07      1.122538      2.632309     82.482101  397551.263128   \n",
       "std    8.353805e+06      0.077086      0.070144    113.613227  234601.097883   \n",
       "min    6.000000e+02      1.000100      2.500100      1.000000     119.000000   \n",
       "25%    7.327816e+06      1.049200      2.573800     25.000000  174069.750000   \n",
       "50%    1.443071e+07      1.123300      2.642300     62.000000  403387.500000   \n",
       "75%    2.163463e+07      1.190500      2.687800     75.000000  602111.750000   \n",
       "max    2.911215e+07      1.249900      2.749900   1004.000000  786218.000000   \n",
       "\n",
       "           place_id  \n",
       "count  1.771000e+04  \n",
       "mean   5.129895e+09  \n",
       "std    2.357399e+09  \n",
       "min    1.012024e+09  \n",
       "25%    3.312464e+09  \n",
       "50%    5.261906e+09  \n",
       "75%    6.766325e+09  \n",
       "max    9.980711e+09  "
      ],
      "text/html": [
       "<div>\n",
       "<style scoped>\n",
       "    .dataframe tbody tr th:only-of-type {\n",
       "        vertical-align: middle;\n",
       "    }\n",
       "\n",
       "    .dataframe tbody tr th {\n",
       "        vertical-align: top;\n",
       "    }\n",
       "\n",
       "    .dataframe thead th {\n",
       "        text-align: right;\n",
       "    }\n",
       "</style>\n",
       "<table border=\"1\" class=\"dataframe\">\n",
       "  <thead>\n",
       "    <tr style=\"text-align: right;\">\n",
       "      <th></th>\n",
       "      <th>row_id</th>\n",
       "      <th>x</th>\n",
       "      <th>y</th>\n",
       "      <th>accuracy</th>\n",
       "      <th>time</th>\n",
       "      <th>place_id</th>\n",
       "    </tr>\n",
       "  </thead>\n",
       "  <tbody>\n",
       "    <tr>\n",
       "      <th>count</th>\n",
       "      <td>1.771000e+04</td>\n",
       "      <td>17710.000000</td>\n",
       "      <td>17710.000000</td>\n",
       "      <td>17710.000000</td>\n",
       "      <td>17710.000000</td>\n",
       "      <td>1.771000e+04</td>\n",
       "    </tr>\n",
       "    <tr>\n",
       "      <th>mean</th>\n",
       "      <td>1.450569e+07</td>\n",
       "      <td>1.122538</td>\n",
       "      <td>2.632309</td>\n",
       "      <td>82.482101</td>\n",
       "      <td>397551.263128</td>\n",
       "      <td>5.129895e+09</td>\n",
       "    </tr>\n",
       "    <tr>\n",
       "      <th>std</th>\n",
       "      <td>8.353805e+06</td>\n",
       "      <td>0.077086</td>\n",
       "      <td>0.070144</td>\n",
       "      <td>113.613227</td>\n",
       "      <td>234601.097883</td>\n",
       "      <td>2.357399e+09</td>\n",
       "    </tr>\n",
       "    <tr>\n",
       "      <th>min</th>\n",
       "      <td>6.000000e+02</td>\n",
       "      <td>1.000100</td>\n",
       "      <td>2.500100</td>\n",
       "      <td>1.000000</td>\n",
       "      <td>119.000000</td>\n",
       "      <td>1.012024e+09</td>\n",
       "    </tr>\n",
       "    <tr>\n",
       "      <th>25%</th>\n",
       "      <td>7.327816e+06</td>\n",
       "      <td>1.049200</td>\n",
       "      <td>2.573800</td>\n",
       "      <td>25.000000</td>\n",
       "      <td>174069.750000</td>\n",
       "      <td>3.312464e+09</td>\n",
       "    </tr>\n",
       "    <tr>\n",
       "      <th>50%</th>\n",
       "      <td>1.443071e+07</td>\n",
       "      <td>1.123300</td>\n",
       "      <td>2.642300</td>\n",
       "      <td>62.000000</td>\n",
       "      <td>403387.500000</td>\n",
       "      <td>5.261906e+09</td>\n",
       "    </tr>\n",
       "    <tr>\n",
       "      <th>75%</th>\n",
       "      <td>2.163463e+07</td>\n",
       "      <td>1.190500</td>\n",
       "      <td>2.687800</td>\n",
       "      <td>75.000000</td>\n",
       "      <td>602111.750000</td>\n",
       "      <td>6.766325e+09</td>\n",
       "    </tr>\n",
       "    <tr>\n",
       "      <th>max</th>\n",
       "      <td>2.911215e+07</td>\n",
       "      <td>1.249900</td>\n",
       "      <td>2.749900</td>\n",
       "      <td>1004.000000</td>\n",
       "      <td>786218.000000</td>\n",
       "      <td>9.980711e+09</td>\n",
       "    </tr>\n",
       "  </tbody>\n",
       "</table>\n",
       "</div>"
      ]
     },
     "execution_count": 11,
     "metadata": {},
     "output_type": "execute_result"
    }
   ],
   "execution_count": 11
  },
  {
   "metadata": {
    "ExecuteTime": {
     "end_time": "2025-01-13T09:20:57.208880Z",
     "start_time": "2025-01-13T09:20:57.203238Z"
    }
   },
   "cell_type": "code",
   "source": [
    "# 处理时间的数据\n",
    "time_value = pd.to_datetime(data['time'], unit='s') # uint是单位，s是秒\n",
    "print(time_value.head(10))  # 最大时间是1月10号"
   ],
   "id": "6afc89a51af2a6c8",
   "outputs": [
    {
     "name": "stdout",
     "output_type": "stream",
     "text": [
      "600    1970-01-01 18:09:40\n",
      "957    1970-01-10 02:11:10\n",
      "4345   1970-01-05 15:08:02\n",
      "4735   1970-01-06 23:03:03\n",
      "5580   1970-01-09 11:26:50\n",
      "6090   1970-01-02 16:25:07\n",
      "6234   1970-01-04 15:52:57\n",
      "6350   1970-01-01 10:13:36\n",
      "7468   1970-01-09 15:26:06\n",
      "8478   1970-01-08 23:52:02\n",
      "Name: time, dtype: datetime64[ns]\n"
     ]
    }
   ],
   "execution_count": 12
  },
  {
   "metadata": {
    "ExecuteTime": {
     "end_time": "2025-01-13T09:20:57.216547Z",
     "start_time": "2025-01-13T09:20:57.208880Z"
    }
   },
   "cell_type": "code",
   "source": [
    "# 把日期格式转换成 字典格式，把年，月，日，时，分，秒转换为字典格式\n",
    "time_value = pd.DatetimeIndex(time_value)\n",
    "print(time_value[0:10])"
   ],
   "id": "30de50623dded935",
   "outputs": [
    {
     "name": "stdout",
     "output_type": "stream",
     "text": [
      "DatetimeIndex(['1970-01-01 18:09:40', '1970-01-10 02:11:10',\n",
      "               '1970-01-05 15:08:02', '1970-01-06 23:03:03',\n",
      "               '1970-01-09 11:26:50', '1970-01-02 16:25:07',\n",
      "               '1970-01-04 15:52:57', '1970-01-01 10:13:36',\n",
      "               '1970-01-09 15:26:06', '1970-01-08 23:52:02'],\n",
      "              dtype='datetime64[ns]', name='time', freq=None)\n"
     ]
    }
   ],
   "execution_count": 13
  },
  {
   "metadata": {
    "ExecuteTime": {
     "end_time": "2025-01-13T09:20:57.224818Z",
     "start_time": "2025-01-13T09:20:57.218549Z"
    }
   },
   "cell_type": "code",
   "source": "data.shape",
   "id": "1adca1f1edac90da",
   "outputs": [
    {
     "data": {
      "text/plain": [
       "(17710, 6)"
      ]
     },
     "execution_count": 14,
     "metadata": {},
     "output_type": "execute_result"
    }
   ],
   "execution_count": 14
  },
  {
   "metadata": {
    "ExecuteTime": {
     "end_time": "2025-01-13T09:20:57.238377Z",
     "start_time": "2025-01-13T09:20:57.226821Z"
    }
   },
   "cell_type": "code",
   "source": [
    "print('-' * 50)\n",
    "# 构造一些特征，执行的警告是因为我们的操作是复制，loc是直接放入\n",
    "print(type(data))\n",
    "# data['day'] = time_value.day\n",
    "# data['hour'] = time_value.hour\n",
    "# data['weekday'] = time_value.weekday\n",
    "# 日期，是否是周末，小时对于个人行为的影响是较大的(例如吃饭时间去饭店，看电影时间去电影院等),所以才做下面的处理\n",
    "data.insert(data.shape[1], 'day', time_value.day) # data.shape[1]是代表插入到最后的意思,一个月的哪一天\n",
    "data.insert(data.shape[1], 'hour', time_value.hour) # 是否去一个地方打卡，早上，中午，晚上是有影响的\n",
    "data.insert(data.shape[1], 'weekday', time_value.weekday) # 0代表周一，6代表周日，星期几\n",
    "\n",
    "# 把时间戳特征删除\n",
    "data = data.drop(['time'], axis=1)\n",
    "print('-' * 50)\n",
    "data.head()"
   ],
   "id": "22baded5d39a5ebc",
   "outputs": [
    {
     "name": "stdout",
     "output_type": "stream",
     "text": [
      "--------------------------------------------------\n",
      "<class 'pandas.core.frame.DataFrame'>\n",
      "--------------------------------------------------\n"
     ]
    },
    {
     "data": {
      "text/plain": [
       "      row_id       x       y  accuracy    place_id  day  hour  weekday\n",
       "600      600  1.2214  2.7023        17  6683426742    1    18        3\n",
       "957      957  1.1832  2.6891        58  6683426742   10     2        5\n",
       "4345    4345  1.1935  2.6550        11  6889790653    5    15        0\n",
       "4735    4735  1.1452  2.6074        49  6822359752    6    23        1\n",
       "5580    5580  1.0089  2.7287        19  1527921905    9    11        4"
      ],
      "text/html": [
       "<div>\n",
       "<style scoped>\n",
       "    .dataframe tbody tr th:only-of-type {\n",
       "        vertical-align: middle;\n",
       "    }\n",
       "\n",
       "    .dataframe tbody tr th {\n",
       "        vertical-align: top;\n",
       "    }\n",
       "\n",
       "    .dataframe thead th {\n",
       "        text-align: right;\n",
       "    }\n",
       "</style>\n",
       "<table border=\"1\" class=\"dataframe\">\n",
       "  <thead>\n",
       "    <tr style=\"text-align: right;\">\n",
       "      <th></th>\n",
       "      <th>row_id</th>\n",
       "      <th>x</th>\n",
       "      <th>y</th>\n",
       "      <th>accuracy</th>\n",
       "      <th>place_id</th>\n",
       "      <th>day</th>\n",
       "      <th>hour</th>\n",
       "      <th>weekday</th>\n",
       "    </tr>\n",
       "  </thead>\n",
       "  <tbody>\n",
       "    <tr>\n",
       "      <th>600</th>\n",
       "      <td>600</td>\n",
       "      <td>1.2214</td>\n",
       "      <td>2.7023</td>\n",
       "      <td>17</td>\n",
       "      <td>6683426742</td>\n",
       "      <td>1</td>\n",
       "      <td>18</td>\n",
       "      <td>3</td>\n",
       "    </tr>\n",
       "    <tr>\n",
       "      <th>957</th>\n",
       "      <td>957</td>\n",
       "      <td>1.1832</td>\n",
       "      <td>2.6891</td>\n",
       "      <td>58</td>\n",
       "      <td>6683426742</td>\n",
       "      <td>10</td>\n",
       "      <td>2</td>\n",
       "      <td>5</td>\n",
       "    </tr>\n",
       "    <tr>\n",
       "      <th>4345</th>\n",
       "      <td>4345</td>\n",
       "      <td>1.1935</td>\n",
       "      <td>2.6550</td>\n",
       "      <td>11</td>\n",
       "      <td>6889790653</td>\n",
       "      <td>5</td>\n",
       "      <td>15</td>\n",
       "      <td>0</td>\n",
       "    </tr>\n",
       "    <tr>\n",
       "      <th>4735</th>\n",
       "      <td>4735</td>\n",
       "      <td>1.1452</td>\n",
       "      <td>2.6074</td>\n",
       "      <td>49</td>\n",
       "      <td>6822359752</td>\n",
       "      <td>6</td>\n",
       "      <td>23</td>\n",
       "      <td>1</td>\n",
       "    </tr>\n",
       "    <tr>\n",
       "      <th>5580</th>\n",
       "      <td>5580</td>\n",
       "      <td>1.0089</td>\n",
       "      <td>2.7287</td>\n",
       "      <td>19</td>\n",
       "      <td>1527921905</td>\n",
       "      <td>9</td>\n",
       "      <td>11</td>\n",
       "      <td>4</td>\n",
       "    </tr>\n",
       "  </tbody>\n",
       "</table>\n",
       "</div>"
      ]
     },
     "execution_count": 15,
     "metadata": {},
     "output_type": "execute_result"
    }
   ],
   "execution_count": 15
  },
  {
   "metadata": {
    "ExecuteTime": {
     "end_time": "2025-01-13T09:20:57.242933Z",
     "start_time": "2025-01-13T09:20:57.239385Z"
    }
   },
   "cell_type": "code",
   "source": [
    "#星期天，实际weekday的值是6\n",
    "per = pd.Period('1970-01-01 18:00', 'h')\n",
    "per.weekday"
   ],
   "id": "4475f35312ddb927",
   "outputs": [
    {
     "data": {
      "text/plain": [
       "3"
      ]
     },
     "execution_count": 16,
     "metadata": {},
     "output_type": "execute_result"
    }
   ],
   "execution_count": 16
  },
  {
   "metadata": {
    "ExecuteTime": {
     "end_time": "2025-01-13T09:20:57.263997Z",
     "start_time": "2025-01-13T09:20:57.242933Z"
    }
   },
   "cell_type": "code",
   "source": [
    "#观察数据，看下是否有空值，异常值\n",
    "data.describe()"
   ],
   "id": "534030aaa2555bc8",
   "outputs": [
    {
     "data": {
      "text/plain": [
       "             row_id             x             y      accuracy      place_id  \\\n",
       "count  1.771000e+04  17710.000000  17710.000000  17710.000000  1.771000e+04   \n",
       "mean   1.450569e+07      1.122538      2.632309     82.482101  5.129895e+09   \n",
       "std    8.353805e+06      0.077086      0.070144    113.613227  2.357399e+09   \n",
       "min    6.000000e+02      1.000100      2.500100      1.000000  1.012024e+09   \n",
       "25%    7.327816e+06      1.049200      2.573800     25.000000  3.312464e+09   \n",
       "50%    1.443071e+07      1.123300      2.642300     62.000000  5.261906e+09   \n",
       "75%    2.163463e+07      1.190500      2.687800     75.000000  6.766325e+09   \n",
       "max    2.911215e+07      1.249900      2.749900   1004.000000  9.980711e+09   \n",
       "\n",
       "                day          hour       weekday  \n",
       "count  17710.000000  17710.000000  17710.000000  \n",
       "mean       5.101863     11.485545      3.092377  \n",
       "std        2.709287      6.932195      1.680218  \n",
       "min        1.000000      0.000000      0.000000  \n",
       "25%        3.000000      6.000000      2.000000  \n",
       "50%        5.000000     12.000000      3.000000  \n",
       "75%        7.000000     17.000000      4.000000  \n",
       "max       10.000000     23.000000      6.000000  "
      ],
      "text/html": [
       "<div>\n",
       "<style scoped>\n",
       "    .dataframe tbody tr th:only-of-type {\n",
       "        vertical-align: middle;\n",
       "    }\n",
       "\n",
       "    .dataframe tbody tr th {\n",
       "        vertical-align: top;\n",
       "    }\n",
       "\n",
       "    .dataframe thead th {\n",
       "        text-align: right;\n",
       "    }\n",
       "</style>\n",
       "<table border=\"1\" class=\"dataframe\">\n",
       "  <thead>\n",
       "    <tr style=\"text-align: right;\">\n",
       "      <th></th>\n",
       "      <th>row_id</th>\n",
       "      <th>x</th>\n",
       "      <th>y</th>\n",
       "      <th>accuracy</th>\n",
       "      <th>place_id</th>\n",
       "      <th>day</th>\n",
       "      <th>hour</th>\n",
       "      <th>weekday</th>\n",
       "    </tr>\n",
       "  </thead>\n",
       "  <tbody>\n",
       "    <tr>\n",
       "      <th>count</th>\n",
       "      <td>1.771000e+04</td>\n",
       "      <td>17710.000000</td>\n",
       "      <td>17710.000000</td>\n",
       "      <td>17710.000000</td>\n",
       "      <td>1.771000e+04</td>\n",
       "      <td>17710.000000</td>\n",
       "      <td>17710.000000</td>\n",
       "      <td>17710.000000</td>\n",
       "    </tr>\n",
       "    <tr>\n",
       "      <th>mean</th>\n",
       "      <td>1.450569e+07</td>\n",
       "      <td>1.122538</td>\n",
       "      <td>2.632309</td>\n",
       "      <td>82.482101</td>\n",
       "      <td>5.129895e+09</td>\n",
       "      <td>5.101863</td>\n",
       "      <td>11.485545</td>\n",
       "      <td>3.092377</td>\n",
       "    </tr>\n",
       "    <tr>\n",
       "      <th>std</th>\n",
       "      <td>8.353805e+06</td>\n",
       "      <td>0.077086</td>\n",
       "      <td>0.070144</td>\n",
       "      <td>113.613227</td>\n",
       "      <td>2.357399e+09</td>\n",
       "      <td>2.709287</td>\n",
       "      <td>6.932195</td>\n",
       "      <td>1.680218</td>\n",
       "    </tr>\n",
       "    <tr>\n",
       "      <th>min</th>\n",
       "      <td>6.000000e+02</td>\n",
       "      <td>1.000100</td>\n",
       "      <td>2.500100</td>\n",
       "      <td>1.000000</td>\n",
       "      <td>1.012024e+09</td>\n",
       "      <td>1.000000</td>\n",
       "      <td>0.000000</td>\n",
       "      <td>0.000000</td>\n",
       "    </tr>\n",
       "    <tr>\n",
       "      <th>25%</th>\n",
       "      <td>7.327816e+06</td>\n",
       "      <td>1.049200</td>\n",
       "      <td>2.573800</td>\n",
       "      <td>25.000000</td>\n",
       "      <td>3.312464e+09</td>\n",
       "      <td>3.000000</td>\n",
       "      <td>6.000000</td>\n",
       "      <td>2.000000</td>\n",
       "    </tr>\n",
       "    <tr>\n",
       "      <th>50%</th>\n",
       "      <td>1.443071e+07</td>\n",
       "      <td>1.123300</td>\n",
       "      <td>2.642300</td>\n",
       "      <td>62.000000</td>\n",
       "      <td>5.261906e+09</td>\n",
       "      <td>5.000000</td>\n",
       "      <td>12.000000</td>\n",
       "      <td>3.000000</td>\n",
       "    </tr>\n",
       "    <tr>\n",
       "      <th>75%</th>\n",
       "      <td>2.163463e+07</td>\n",
       "      <td>1.190500</td>\n",
       "      <td>2.687800</td>\n",
       "      <td>75.000000</td>\n",
       "      <td>6.766325e+09</td>\n",
       "      <td>7.000000</td>\n",
       "      <td>17.000000</td>\n",
       "      <td>4.000000</td>\n",
       "    </tr>\n",
       "    <tr>\n",
       "      <th>max</th>\n",
       "      <td>2.911215e+07</td>\n",
       "      <td>1.249900</td>\n",
       "      <td>2.749900</td>\n",
       "      <td>1004.000000</td>\n",
       "      <td>9.980711e+09</td>\n",
       "      <td>10.000000</td>\n",
       "      <td>23.000000</td>\n",
       "      <td>6.000000</td>\n",
       "    </tr>\n",
       "  </tbody>\n",
       "</table>\n",
       "</div>"
      ]
     },
     "execution_count": 17,
     "metadata": {},
     "output_type": "execute_result"
    }
   ],
   "execution_count": 17
  },
  {
   "metadata": {
    "ExecuteTime": {
     "end_time": "2025-01-13T09:20:57.272929Z",
     "start_time": "2025-01-13T09:20:57.265002Z"
    }
   },
   "cell_type": "code",
   "source": [
    "# # 把签到数量少于n个目标位置删除，place_id是标签，即目标值\n",
    "place_count = data.groupby('place_id').count()\n",
    "place_count"
   ],
   "id": "19055aedec86c48e",
   "outputs": [
    {
     "data": {
      "text/plain": [
       "            row_id     x     y  accuracy   day  hour  weekday\n",
       "place_id                                                     \n",
       "1012023972       1     1     1         1     1     1        1\n",
       "1057182134       1     1     1         1     1     1        1\n",
       "1059958036       3     3     3         3     3     3        3\n",
       "1085266789       1     1     1         1     1     1        1\n",
       "1097200869    1044  1044  1044      1044  1044  1044     1044\n",
       "...            ...   ...   ...       ...   ...   ...      ...\n",
       "9904182060       1     1     1         1     1     1        1\n",
       "9915093501       1     1     1         1     1     1        1\n",
       "9946198589       1     1     1         1     1     1        1\n",
       "9950190890       1     1     1         1     1     1        1\n",
       "9980711012       5     5     5         5     5     5        5\n",
       "\n",
       "[805 rows x 7 columns]"
      ],
      "text/html": [
       "<div>\n",
       "<style scoped>\n",
       "    .dataframe tbody tr th:only-of-type {\n",
       "        vertical-align: middle;\n",
       "    }\n",
       "\n",
       "    .dataframe tbody tr th {\n",
       "        vertical-align: top;\n",
       "    }\n",
       "\n",
       "    .dataframe thead th {\n",
       "        text-align: right;\n",
       "    }\n",
       "</style>\n",
       "<table border=\"1\" class=\"dataframe\">\n",
       "  <thead>\n",
       "    <tr style=\"text-align: right;\">\n",
       "      <th></th>\n",
       "      <th>row_id</th>\n",
       "      <th>x</th>\n",
       "      <th>y</th>\n",
       "      <th>accuracy</th>\n",
       "      <th>day</th>\n",
       "      <th>hour</th>\n",
       "      <th>weekday</th>\n",
       "    </tr>\n",
       "    <tr>\n",
       "      <th>place_id</th>\n",
       "      <th></th>\n",
       "      <th></th>\n",
       "      <th></th>\n",
       "      <th></th>\n",
       "      <th></th>\n",
       "      <th></th>\n",
       "      <th></th>\n",
       "    </tr>\n",
       "  </thead>\n",
       "  <tbody>\n",
       "    <tr>\n",
       "      <th>1012023972</th>\n",
       "      <td>1</td>\n",
       "      <td>1</td>\n",
       "      <td>1</td>\n",
       "      <td>1</td>\n",
       "      <td>1</td>\n",
       "      <td>1</td>\n",
       "      <td>1</td>\n",
       "    </tr>\n",
       "    <tr>\n",
       "      <th>1057182134</th>\n",
       "      <td>1</td>\n",
       "      <td>1</td>\n",
       "      <td>1</td>\n",
       "      <td>1</td>\n",
       "      <td>1</td>\n",
       "      <td>1</td>\n",
       "      <td>1</td>\n",
       "    </tr>\n",
       "    <tr>\n",
       "      <th>1059958036</th>\n",
       "      <td>3</td>\n",
       "      <td>3</td>\n",
       "      <td>3</td>\n",
       "      <td>3</td>\n",
       "      <td>3</td>\n",
       "      <td>3</td>\n",
       "      <td>3</td>\n",
       "    </tr>\n",
       "    <tr>\n",
       "      <th>1085266789</th>\n",
       "      <td>1</td>\n",
       "      <td>1</td>\n",
       "      <td>1</td>\n",
       "      <td>1</td>\n",
       "      <td>1</td>\n",
       "      <td>1</td>\n",
       "      <td>1</td>\n",
       "    </tr>\n",
       "    <tr>\n",
       "      <th>1097200869</th>\n",
       "      <td>1044</td>\n",
       "      <td>1044</td>\n",
       "      <td>1044</td>\n",
       "      <td>1044</td>\n",
       "      <td>1044</td>\n",
       "      <td>1044</td>\n",
       "      <td>1044</td>\n",
       "    </tr>\n",
       "    <tr>\n",
       "      <th>...</th>\n",
       "      <td>...</td>\n",
       "      <td>...</td>\n",
       "      <td>...</td>\n",
       "      <td>...</td>\n",
       "      <td>...</td>\n",
       "      <td>...</td>\n",
       "      <td>...</td>\n",
       "    </tr>\n",
       "    <tr>\n",
       "      <th>9904182060</th>\n",
       "      <td>1</td>\n",
       "      <td>1</td>\n",
       "      <td>1</td>\n",
       "      <td>1</td>\n",
       "      <td>1</td>\n",
       "      <td>1</td>\n",
       "      <td>1</td>\n",
       "    </tr>\n",
       "    <tr>\n",
       "      <th>9915093501</th>\n",
       "      <td>1</td>\n",
       "      <td>1</td>\n",
       "      <td>1</td>\n",
       "      <td>1</td>\n",
       "      <td>1</td>\n",
       "      <td>1</td>\n",
       "      <td>1</td>\n",
       "    </tr>\n",
       "    <tr>\n",
       "      <th>9946198589</th>\n",
       "      <td>1</td>\n",
       "      <td>1</td>\n",
       "      <td>1</td>\n",
       "      <td>1</td>\n",
       "      <td>1</td>\n",
       "      <td>1</td>\n",
       "      <td>1</td>\n",
       "    </tr>\n",
       "    <tr>\n",
       "      <th>9950190890</th>\n",
       "      <td>1</td>\n",
       "      <td>1</td>\n",
       "      <td>1</td>\n",
       "      <td>1</td>\n",
       "      <td>1</td>\n",
       "      <td>1</td>\n",
       "      <td>1</td>\n",
       "    </tr>\n",
       "    <tr>\n",
       "      <th>9980711012</th>\n",
       "      <td>5</td>\n",
       "      <td>5</td>\n",
       "      <td>5</td>\n",
       "      <td>5</td>\n",
       "      <td>5</td>\n",
       "      <td>5</td>\n",
       "      <td>5</td>\n",
       "    </tr>\n",
       "  </tbody>\n",
       "</table>\n",
       "<p>805 rows × 7 columns</p>\n",
       "</div>"
      ]
     },
     "execution_count": 18,
     "metadata": {},
     "output_type": "execute_result"
    }
   ],
   "execution_count": 18
  },
  {
   "metadata": {
    "ExecuteTime": {
     "end_time": "2025-01-13T09:20:57.278630Z",
     "start_time": "2025-01-13T09:20:57.273931Z"
    }
   },
   "cell_type": "code",
   "source": "place_count['x'].describe() #打卡地点总计805个，50%打卡小于2次",
   "id": "d5a56f90480a4caa",
   "outputs": [
    {
     "data": {
      "text/plain": [
       "count     805.000000\n",
       "mean       22.000000\n",
       "std        88.955632\n",
       "min         1.000000\n",
       "25%         1.000000\n",
       "50%         2.000000\n",
       "75%         5.000000\n",
       "max      1044.000000\n",
       "Name: x, dtype: float64"
      ]
     },
     "execution_count": 19,
     "metadata": {},
     "output_type": "execute_result"
    }
   ],
   "execution_count": 19
  },
  {
   "metadata": {
    "ExecuteTime": {
     "end_time": "2025-01-13T09:20:57.289094Z",
     "start_time": "2025-01-13T09:20:57.278630Z"
    }
   },
   "cell_type": "code",
   "source": [
    "# 把index变为0,1,2，3,4,5,6这种效果，从零开始排，原来的index是row_id\n",
    "# 只选择去的人大于3的数据，认为1,2,3的是噪音，这个地方去的人很少，不用推荐给其他人\n",
    "tf = place_count[place_count.row_id > 3].reset_index()\n",
    "tf  #剩余的签到地点"
   ],
   "id": "7d0908f38c526c88",
   "outputs": [
    {
     "data": {
      "text/plain": [
       "       place_id  row_id     x     y  accuracy   day  hour  weekday\n",
       "0    1097200869    1044  1044  1044      1044  1044  1044     1044\n",
       "1    1228935308     120   120   120       120   120   120      120\n",
       "2    1267801529      58    58    58        58    58    58       58\n",
       "3    1278040507      15    15    15        15    15    15       15\n",
       "4    1285051622      21    21    21        21    21    21       21\n",
       "..          ...     ...   ...   ...       ...   ...   ...      ...\n",
       "234  9741307878       5     5     5         5     5     5        5\n",
       "235  9753855529      21    21    21        21    21    21       21\n",
       "236  9806043737       6     6     6         6     6     6        6\n",
       "237  9809476069      23    23    23        23    23    23       23\n",
       "238  9980711012       5     5     5         5     5     5        5\n",
       "\n",
       "[239 rows x 8 columns]"
      ],
      "text/html": [
       "<div>\n",
       "<style scoped>\n",
       "    .dataframe tbody tr th:only-of-type {\n",
       "        vertical-align: middle;\n",
       "    }\n",
       "\n",
       "    .dataframe tbody tr th {\n",
       "        vertical-align: top;\n",
       "    }\n",
       "\n",
       "    .dataframe thead th {\n",
       "        text-align: right;\n",
       "    }\n",
       "</style>\n",
       "<table border=\"1\" class=\"dataframe\">\n",
       "  <thead>\n",
       "    <tr style=\"text-align: right;\">\n",
       "      <th></th>\n",
       "      <th>place_id</th>\n",
       "      <th>row_id</th>\n",
       "      <th>x</th>\n",
       "      <th>y</th>\n",
       "      <th>accuracy</th>\n",
       "      <th>day</th>\n",
       "      <th>hour</th>\n",
       "      <th>weekday</th>\n",
       "    </tr>\n",
       "  </thead>\n",
       "  <tbody>\n",
       "    <tr>\n",
       "      <th>0</th>\n",
       "      <td>1097200869</td>\n",
       "      <td>1044</td>\n",
       "      <td>1044</td>\n",
       "      <td>1044</td>\n",
       "      <td>1044</td>\n",
       "      <td>1044</td>\n",
       "      <td>1044</td>\n",
       "      <td>1044</td>\n",
       "    </tr>\n",
       "    <tr>\n",
       "      <th>1</th>\n",
       "      <td>1228935308</td>\n",
       "      <td>120</td>\n",
       "      <td>120</td>\n",
       "      <td>120</td>\n",
       "      <td>120</td>\n",
       "      <td>120</td>\n",
       "      <td>120</td>\n",
       "      <td>120</td>\n",
       "    </tr>\n",
       "    <tr>\n",
       "      <th>2</th>\n",
       "      <td>1267801529</td>\n",
       "      <td>58</td>\n",
       "      <td>58</td>\n",
       "      <td>58</td>\n",
       "      <td>58</td>\n",
       "      <td>58</td>\n",
       "      <td>58</td>\n",
       "      <td>58</td>\n",
       "    </tr>\n",
       "    <tr>\n",
       "      <th>3</th>\n",
       "      <td>1278040507</td>\n",
       "      <td>15</td>\n",
       "      <td>15</td>\n",
       "      <td>15</td>\n",
       "      <td>15</td>\n",
       "      <td>15</td>\n",
       "      <td>15</td>\n",
       "      <td>15</td>\n",
       "    </tr>\n",
       "    <tr>\n",
       "      <th>4</th>\n",
       "      <td>1285051622</td>\n",
       "      <td>21</td>\n",
       "      <td>21</td>\n",
       "      <td>21</td>\n",
       "      <td>21</td>\n",
       "      <td>21</td>\n",
       "      <td>21</td>\n",
       "      <td>21</td>\n",
       "    </tr>\n",
       "    <tr>\n",
       "      <th>...</th>\n",
       "      <td>...</td>\n",
       "      <td>...</td>\n",
       "      <td>...</td>\n",
       "      <td>...</td>\n",
       "      <td>...</td>\n",
       "      <td>...</td>\n",
       "      <td>...</td>\n",
       "      <td>...</td>\n",
       "    </tr>\n",
       "    <tr>\n",
       "      <th>234</th>\n",
       "      <td>9741307878</td>\n",
       "      <td>5</td>\n",
       "      <td>5</td>\n",
       "      <td>5</td>\n",
       "      <td>5</td>\n",
       "      <td>5</td>\n",
       "      <td>5</td>\n",
       "      <td>5</td>\n",
       "    </tr>\n",
       "    <tr>\n",
       "      <th>235</th>\n",
       "      <td>9753855529</td>\n",
       "      <td>21</td>\n",
       "      <td>21</td>\n",
       "      <td>21</td>\n",
       "      <td>21</td>\n",
       "      <td>21</td>\n",
       "      <td>21</td>\n",
       "      <td>21</td>\n",
       "    </tr>\n",
       "    <tr>\n",
       "      <th>236</th>\n",
       "      <td>9806043737</td>\n",
       "      <td>6</td>\n",
       "      <td>6</td>\n",
       "      <td>6</td>\n",
       "      <td>6</td>\n",
       "      <td>6</td>\n",
       "      <td>6</td>\n",
       "      <td>6</td>\n",
       "    </tr>\n",
       "    <tr>\n",
       "      <th>237</th>\n",
       "      <td>9809476069</td>\n",
       "      <td>23</td>\n",
       "      <td>23</td>\n",
       "      <td>23</td>\n",
       "      <td>23</td>\n",
       "      <td>23</td>\n",
       "      <td>23</td>\n",
       "      <td>23</td>\n",
       "    </tr>\n",
       "    <tr>\n",
       "      <th>238</th>\n",
       "      <td>9980711012</td>\n",
       "      <td>5</td>\n",
       "      <td>5</td>\n",
       "      <td>5</td>\n",
       "      <td>5</td>\n",
       "      <td>5</td>\n",
       "      <td>5</td>\n",
       "      <td>5</td>\n",
       "    </tr>\n",
       "  </tbody>\n",
       "</table>\n",
       "<p>239 rows × 8 columns</p>\n",
       "</div>"
      ]
     },
     "execution_count": 20,
     "metadata": {},
     "output_type": "execute_result"
    }
   ],
   "execution_count": 20
  },
  {
   "metadata": {
    "ExecuteTime": {
     "end_time": "2025-01-13T09:20:57.295127Z",
     "start_time": "2025-01-13T09:20:57.290102Z"
    }
   },
   "cell_type": "code",
   "source": [
    "# 根据设定的地点目标值，对原本的样本进行过滤\n",
    "#isin可以过滤某一列要在一组值\n",
    "data = data[data['place_id'].isin(tf.place_id)]\n",
    "data.shape"
   ],
   "id": "f011bd1e77e714e9",
   "outputs": [
    {
     "data": {
      "text/plain": [
       "(16918, 8)"
      ]
     },
     "execution_count": 21,
     "metadata": {},
     "output_type": "execute_result"
    }
   ],
   "execution_count": 21
  },
  {
   "metadata": {
    "ExecuteTime": {
     "end_time": "2025-01-13T09:20:57.301813Z",
     "start_time": "2025-01-13T09:20:57.296130Z"
    }
   },
   "cell_type": "code",
   "source": [
    "# 取出数据当中的特征值和目标值\n",
    "y = data['place_id']\n",
    "# 删除目标值，保留特征值\n",
    "x = data.drop(['place_id'], axis=1)\n",
    "# 删除无用的特征值，row_id是索引，这就是噪音\n",
    "x = x.drop(['row_id'], axis=1)\n",
    "print(x.shape)\n",
    "print(x.columns)\n",
    "# 预处理完成"
   ],
   "id": "da8a15dca4497b27",
   "outputs": [
    {
     "name": "stdout",
     "output_type": "stream",
     "text": [
      "(16918, 6)\n",
      "Index(['x', 'y', 'accuracy', 'day', 'hour', 'weekday'], dtype='object')\n"
     ]
    }
   ],
   "execution_count": 22
  },
  {
   "metadata": {
    "ExecuteTime": {
     "end_time": "2025-01-13T09:20:57.317888Z",
     "start_time": "2025-01-13T09:20:57.301813Z"
    }
   },
   "cell_type": "code",
   "source": [
    "# 进行数据的分割训练集合测试集\n",
    "x_train, x_test, y_train, y_test = train_test_split(x, y, test_size=0.25, random_state=1) # y为目标值\n",
    "\n",
    "# 特征工程（标准化）,下面3行注释，一开始我们不进行标准化，看下效果，目标值要不要标准化？\n",
    "std = StandardScaler()\n",
    "\n",
    "# 对训练集的特征值进行标准化,服务于knn fit\n",
    "x_train = std.fit_transform(x_train)\n",
    "# transform返回的是copy，不在原有的输入对象中去修改\n",
    "# print(id(x_test))\n",
    "print(std.mean_)\n",
    "print(std.var_)\n",
    "\n",
    "# 对测试集的特征值进行标准化\n",
    "x_test = std.transform(x_test)  #transfrom不再进行均值和方差的计算，是在原有的基础上去标准化\n",
    "print('-' * 50)\n",
    "# print(id(x_test))\n",
    "print(std.mean_)\n",
    "print(std.var_)"
   ],
   "id": "262cfc77e5735b37",
   "outputs": [
    {
     "name": "stdout",
     "output_type": "stream",
     "text": [
      "[ 1.12295735  2.63237278 81.34938525  5.10064628 11.44293821  3.10135561]\n",
      "[5.98489138e-03 4.86857391e-03 1.19597480e+04 7.32837915e+00\n",
      " 4.83742660e+01 2.81838404e+00]\n",
      "--------------------------------------------------\n",
      "[ 1.12295735  2.63237278 81.34938525  5.10064628 11.44293821  3.10135561]\n",
      "[5.98489138e-03 4.86857391e-03 1.19597480e+04 7.32837915e+00\n",
      " 4.83742660e+01 2.81838404e+00]\n"
     ]
    }
   ],
   "execution_count": 23
  },
  {
   "metadata": {
    "ExecuteTime": {
     "end_time": "2025-01-13T09:20:57.323007Z",
     "start_time": "2025-01-13T09:20:57.318893Z"
    }
   },
   "cell_type": "code",
   "source": "x_train.shape",
   "id": "19e6859190522a7d",
   "outputs": [
    {
     "data": {
      "text/plain": [
       "(12688, 6)"
      ]
     },
     "execution_count": 24,
     "metadata": {},
     "output_type": "execute_result"
    }
   ],
   "execution_count": 24
  },
  {
   "metadata": {
    "ExecuteTime": {
     "end_time": "2025-01-13T09:20:57.599143Z",
     "start_time": "2025-01-13T09:20:57.324011Z"
    }
   },
   "cell_type": "code",
   "source": [
    "# 进行算法流程 \n",
    "# 超参数，可以通过设置n_neighbors=5，来调整结果好坏\n",
    "knn = KNeighborsClassifier(n_neighbors=5) \n",
    "\n",
    "# fit， predict,score，训练，knn的fit是不训练的，只是把训练集的特征值和目标值放入到内存中\n",
    "knn.fit(x_train, y_train)\n",
    "\n",
    "# 得出预测结果\n",
    "y_predict = knn.predict(x_test)\n",
    "print(\"预测的目标签到位置为：\", y_predict[0:10]) \n",
    "\n",
    "# 得出准确率,是评估指标\n",
    "print(\"预测的准确率:\", knn.score(x_test, y_test))\n",
    "# print(y_predict)\n",
    "# y_test"
   ],
   "id": "a810fc2095625376",
   "outputs": [
    {
     "name": "stdout",
     "output_type": "stream",
     "text": [
      "预测的目标签到位置为： [5689129232 1097200869 2355236719 9632980559 6424972551 4022692381\n",
      " 8048985799 3533177779 1435128522 3312463746]\n",
      "预测的准确率: 0.4806146572104019\n"
     ]
    }
   ],
   "execution_count": 25
  },
  {
   "metadata": {
    "ExecuteTime": {
     "end_time": "2025-01-13T09:20:57.612939Z",
     "start_time": "2025-01-13T09:20:57.600147Z"
    }
   },
   "cell_type": "code",
   "source": "print(max(time_value))",
   "id": "53dbea488906da8e",
   "outputs": [
    {
     "name": "stdout",
     "output_type": "stream",
     "text": [
      "1970-01-10 02:23:38\n"
     ]
    }
   ],
   "execution_count": 26
  },
  {
   "metadata": {},
   "cell_type": "markdown",
   "source": [
    "近似误差：对现有训练集的训练误差，对训练输入的数据进行预测，也会有误差\n",
    "<br>\n",
    "估计误差：对测试集的测试误差\n",
    "<br>\n",
    "过拟合： 训练集的误差很小，但是测试集的误差很大，模型过于复杂，无法泛化到新的数据\n",
    "<br>\n",
    "k值的影响（调超参）：\n",
    "- 过小：容易受到异常点的影响\n",
    "- 过大：容易受最近数据的影响，导致比例变化\n",
    "<br>\n",
    "优点：训练时间复杂度为0\n",
    "<br>\n",
    "缺点：预测时间复杂度高，内存占用大"
   ],
   "id": "a5c19ec372fe7b8"
  },
  {
   "metadata": {},
   "cell_type": "markdown",
   "source": "### 网格搜索",
   "id": "327e02d2ea68d782"
  },
  {
   "metadata": {
    "ExecuteTime": {
     "end_time": "2025-01-13T09:21:01.304703Z",
     "start_time": "2025-01-13T09:20:57.612939Z"
    }
   },
   "cell_type": "code",
   "source": [
    "# 网格搜索时讲解\n",
    "# 构造一些参数（超参）的值进行搜索\n",
    "param = {\"n_neighbors\": [3, 5, 10, 12, 15],'weights':['uniform', 'distance']} # weights是权重的选择，uniform是均匀权重，distance是距离权重\n",
    "\n",
    "# 进行网格搜索，cv=3是3折交叉验证（用其中2折训练，1折验证）\n",
    "gc = GridSearchCV(knn, param_grid=param, cv=3)\n",
    "\n",
    "gc.fit(x_train, y_train)  \n",
    "\n",
    "# 预测准确率，为了给大家看看\n",
    "print(\"在测试集上准确率：\", gc.score(x_test, y_test))\n",
    "\n",
    "print(\"在交叉验证当中最好的结果：\", gc.best_score_) #最好的结果\n",
    "\n",
    "print(\"选择最好的模型是：\", gc.best_estimator_) #最好的模型,告诉你用了哪些参数\n",
    "\n",
    "print(\"每个超参数每次交叉验证的结果：\", gc.cv_results_) #每个超参数每次交叉验证的结果"
   ],
   "id": "b8547f72ca2ea55a",
   "outputs": [
    {
     "name": "stderr",
     "output_type": "stream",
     "text": [
      "C:\\Users\\klklklk\\AppData\\Roaming\\Python\\Python312\\site-packages\\sklearn\\model_selection\\_split.py:805: UserWarning: The least populated class in y has only 1 members, which is less than n_splits=3.\n",
      "  warnings.warn(\n"
     ]
    },
    {
     "name": "stdout",
     "output_type": "stream",
     "text": [
      "在测试集上准确率： 0.49763593380614657\n",
      "在交叉验证当中最好的结果： 0.4816362349278435\n",
      "选择最好的模型是： KNeighborsClassifier(n_neighbors=12, weights='distance')\n",
      "每个超参数每次交叉验证的结果： {'mean_fit_time': array([0.00699862, 0.00849517, 0.00835848, 0.0091575 , 0.00785613,\n",
      "       0.00666674, 0.0063351 , 0.00633399, 0.00666936, 0.00700013]), 'std_fit_time': array([2.97996732e-06, 1.46926450e-03, 5.84729654e-04, 1.62229212e-03,\n",
      "       1.96489956e-03, 4.71595499e-04, 4.69973935e-04, 4.71089867e-04,\n",
      "       4.70419466e-04, 1.12391596e-07]), 'mean_score_time': array([0.12224325, 0.05468035, 0.1473    , 0.09738692, 0.14430706,\n",
      "       0.07766612, 0.13986429, 0.081333  , 0.14520264, 0.10575755]), 'std_score_time': array([0.0061324 , 0.00608711, 0.01891237, 0.0190368 , 0.01630402,\n",
      "       0.00205409, 0.00146997, 0.00046778, 0.00246448, 0.01080078]), 'param_n_neighbors': masked_array(data=[3, 3, 5, 5, 10, 10, 12, 12, 15, 15],\n",
      "             mask=[False, False, False, False, False, False, False, False,\n",
      "                   False, False],\n",
      "       fill_value=999999), 'param_weights': masked_array(data=['uniform', 'distance', 'uniform', 'distance',\n",
      "                   'uniform', 'distance', 'uniform', 'distance',\n",
      "                   'uniform', 'distance'],\n",
      "             mask=[False, False, False, False, False, False, False, False,\n",
      "                   False, False],\n",
      "       fill_value=np.str_('?'),\n",
      "            dtype=object), 'params': [{'n_neighbors': 3, 'weights': 'uniform'}, {'n_neighbors': 3, 'weights': 'distance'}, {'n_neighbors': 5, 'weights': 'uniform'}, {'n_neighbors': 5, 'weights': 'distance'}, {'n_neighbors': 10, 'weights': 'uniform'}, {'n_neighbors': 10, 'weights': 'distance'}, {'n_neighbors': 12, 'weights': 'uniform'}, {'n_neighbors': 12, 'weights': 'distance'}, {'n_neighbors': 15, 'weights': 'uniform'}, {'n_neighbors': 15, 'weights': 'distance'}], 'split0_test_score': array([0.44468085, 0.4534279 , 0.4607565 , 0.47399527, 0.46170213,\n",
      "       0.48014184, 0.45650118, 0.48108747, 0.45508274, 0.47895981]), 'split1_test_score': array([0.43390873, 0.4542445 , 0.45660913, 0.47528967, 0.45542681,\n",
      "       0.48238354, 0.45329865, 0.48049184, 0.44809648, 0.47623552]), 'split2_test_score': array([0.43982029, 0.4561362 , 0.45684559, 0.47221565, 0.4618113 ,\n",
      "       0.48191062, 0.45897375, 0.48332939, 0.46062899, 0.48049184]), 'mean_test_score': array([0.43946996, 0.45460287, 0.45807041, 0.47383353, 0.45964675,\n",
      "       0.48147867, 0.45625786, 0.48163623, 0.45460274, 0.47856239]), 'std_test_score': array([0.00440467, 0.00113433, 0.00190181, 0.00126016, 0.00298428,\n",
      "       0.00096479, 0.00232323, 0.00122169, 0.00512762, 0.00176021]), 'rank_test_score': array([10,  8,  6,  4,  5,  2,  7,  1,  9,  3], dtype=int32)}\n"
     ]
    }
   ],
   "execution_count": 27
  },
  {
   "metadata": {},
   "cell_type": "markdown",
   "source": [
    "### 准确率、精确率和召回率\n",
    "准确率（accuracy）：所有预测正确的样本数除以总样本数((TP+TN)/(TP+TN+FP+FN))\n",
    "<br>\n",
    "精确率（precision）：预测为正的样本中真正为正的样本数除以所有预测为正的样本数(TP/(TP+FP))\n",
    "<br>\n",
    "召回率（recall）：真正为正的样本中预测为正的样本数除以所有真正为正的样本数(TP/(TP+FN))\n",
    "<br>\n",
    "F1-score：精确率和召回率的调和平均数，F1-score= 2TP/(2TP+FP+FN) 既考虑精确率又考虑召回率\n",
    "\n",
    "|       | 正例       | 假例       |\n",
    "|-------|------------|------------|\n",
    "| 正例  | 真正例 TP  | 伪反例 FN |\n",
    "| 假例  | 伪正例 FP  | 真反例 TN |"
   ],
   "id": "60f9269136e93150"
  },
  {
   "metadata": {},
   "cell_type": "markdown",
   "source": "### 朴素贝叶斯",
   "id": "cf3fecb4b2cb7181"
  },
  {
   "metadata": {
    "ExecuteTime": {
     "end_time": "2025-01-13T09:21:01.495145Z",
     "start_time": "2025-01-13T09:21:01.305704Z"
    }
   },
   "cell_type": "code",
   "source": [
    "\"\"\"\n",
    "朴素贝叶斯进行文本分类\n",
    ":return: None\n",
    "\"\"\"\n",
    "# 二十类新闻数据集\n",
    "news = fetch_20newsgroups(subset='all', data_home='G:/wangdao_python_short_class/python_ml/data')\n",
    "\n",
    "print(len(news.data))  #样本数，包含的特征\n",
    "print('-'*50)\n",
    "print(news.data[0]) #第一个样本 特征\n",
    "print('-'*50)\n",
    "print(news.target) #标签\n",
    "print(np.unique(news.target)) #标签的类别\n",
    "print(news.target_names) #标签的名字"
   ],
   "id": "49e9e227ad0524ad",
   "outputs": [
    {
     "name": "stdout",
     "output_type": "stream",
     "text": [
      "18846\n",
      "--------------------------------------------------\n",
      "From: Mamatha Devineni Ratnam <mr47+@andrew.cmu.edu>\n",
      "Subject: Pens fans reactions\n",
      "Organization: Post Office, Carnegie Mellon, Pittsburgh, PA\n",
      "Lines: 12\n",
      "NNTP-Posting-Host: po4.andrew.cmu.edu\n",
      "\n",
      "\n",
      "\n",
      "I am sure some bashers of Pens fans are pretty confused about the lack\n",
      "of any kind of posts about the recent Pens massacre of the Devils. Actually,\n",
      "I am  bit puzzled too and a bit relieved. However, I am going to put an end\n",
      "to non-PIttsburghers' relief with a bit of praise for the Pens. Man, they\n",
      "are killing those Devils worse than I thought. Jagr just showed you why\n",
      "he is much better than his regular season stats. He is also a lot\n",
      "fo fun to watch in the playoffs. Bowman should let JAgr have a lot of\n",
      "fun in the next couple of games since the Pens are going to beat the pulp out of Jersey anyway. I was very disappointed not to see the Islanders lose the final\n",
      "regular season game.          PENS RULE!!!\n",
      "\n",
      "\n",
      "--------------------------------------------------\n",
      "[10  3 17 ...  3  1  7]\n",
      "[ 0  1  2  3  4  5  6  7  8  9 10 11 12 13 14 15 16 17 18 19]\n",
      "['alt.atheism', 'comp.graphics', 'comp.os.ms-windows.misc', 'comp.sys.ibm.pc.hardware', 'comp.sys.mac.hardware', 'comp.windows.x', 'misc.forsale', 'rec.autos', 'rec.motorcycles', 'rec.sport.baseball', 'rec.sport.hockey', 'sci.crypt', 'sci.electronics', 'sci.med', 'sci.space', 'soc.religion.christian', 'talk.politics.guns', 'talk.politics.mideast', 'talk.politics.misc', 'talk.religion.misc']\n"
     ]
    }
   ],
   "execution_count": 28
  },
  {
   "metadata": {
    "ExecuteTime": {
     "end_time": "2025-01-13T09:21:04.173855Z",
     "start_time": "2025-01-13T09:21:01.495145Z"
    }
   },
   "cell_type": "code",
   "source": [
    "print('-'*50)\n",
    "# 进行数据分割\n",
    "x_train, x_test, y_train, y_test = train_test_split(news.data, news.target, test_size=0.25, random_state=1)\n",
    "\n",
    "# 对数据集进行特征抽取\n",
    "tf = TfidfVectorizer()\n",
    "\n",
    "# 以训练集当中的词的列表进行每篇文章重要性统计['a','b','c','d']\n",
    "x_train = tf.fit_transform(x_train)\n",
    "\n",
    "#针对特征内容，可以自行打印，下面的打印可以得到特征数目，总计有15万特征\n",
    "print(len(tf.get_feature_names_out()))"
   ],
   "id": "702fae71c5c70ff",
   "outputs": [
    {
     "name": "stdout",
     "output_type": "stream",
     "text": [
      "--------------------------------------------------\n",
      "153196\n"
     ]
    }
   ],
   "execution_count": 29
  },
  {
   "metadata": {
    "ExecuteTime": {
     "end_time": "2025-01-13T09:21:04.468482Z",
     "start_time": "2025-01-13T09:21:04.174859Z"
    }
   },
   "cell_type": "code",
   "source": [
    "print(tf.get_feature_names_out()[100000])\n",
    "print(tf.get_feature_names_out()[0:10])\n",
    "print(tf.get_feature_names_out()[100000:100000+10])"
   ],
   "id": "ad1dd8d1ea5ed6e5",
   "outputs": [
    {
     "name": "stdout",
     "output_type": "stream",
     "text": [
      "murky\n",
      "['00' '000' '0000' '00000' '0000000004' '0000000005' '0000000667'\n",
      " '0000001200' '000003' '000005102000']\n",
      "['murky' 'murmurs' 'murnane' 'murph' 'murphey' 'murphy' 'murr11' 'murray'\n",
      " 'murray_craven' 'murrayfield']\n"
     ]
    }
   ],
   "execution_count": 30
  },
  {
   "metadata": {
    "ExecuteTime": {
     "end_time": "2025-01-13T09:21:04.563620Z",
     "start_time": "2025-01-13T09:21:04.469558Z"
    }
   },
   "cell_type": "code",
   "source": [
    "import time\n",
    "# 进行朴素贝叶斯算法的预测,alpha是拉普拉斯平滑系数，分子和分母加上一个系数，分母加alpha*特征词数目\n",
    "mlt = MultinomialNB(alpha=1.0)\n",
    "\n",
    "# print(x_train.toarray())\n",
    "#统计训练时间\n",
    "start=time.time()\n",
    "mlt.fit(x_train, y_train) # 训练模型\n",
    "end=time.time()\n",
    "end-start "
   ],
   "id": "ac7e1a226e13c1cb",
   "outputs": [
    {
     "data": {
      "text/plain": [
       "0.0889890193939209"
      ]
     },
     "execution_count": 31,
     "metadata": {},
     "output_type": "execute_result"
    }
   ],
   "execution_count": 31
  },
  {
   "metadata": {
    "ExecuteTime": {
     "end_time": "2025-01-13T09:21:05.326186Z",
     "start_time": "2025-01-13T09:21:04.564631Z"
    }
   },
   "cell_type": "code",
   "source": [
    "x_transform_test = tf.transform(x_test)  #特征数目不发生改变\n",
    "print(len(tf.get_feature_names_out())) #查看特征数目"
   ],
   "id": "1a3e0ec18eec70e5",
   "outputs": [
    {
     "name": "stdout",
     "output_type": "stream",
     "text": [
      "153196\n"
     ]
    }
   ],
   "execution_count": 32
  },
  {
   "metadata": {
    "ExecuteTime": {
     "end_time": "2025-01-13T09:21:05.369158Z",
     "start_time": "2025-01-13T09:21:05.327192Z"
    }
   },
   "cell_type": "code",
   "source": [
    "start=time.time()\n",
    "y_predict = mlt.predict(x_transform_test)\n",
    "\n",
    "print(\"预测的前面10篇文章类别为：\", y_predict[0:10])\n",
    "\n",
    "# 得出准确率,这个是很难提高准确率，为什么呢？\n",
    "print(\"准确率为：\", mlt.score(x_transform_test, y_test))\n",
    "end=time.time()\n",
    "print(\"预测时间：\", end-start)"
   ],
   "id": "c3c3a2db7ed1da1e",
   "outputs": [
    {
     "name": "stdout",
     "output_type": "stream",
     "text": [
      "预测的前面10篇文章类别为： [16 19 18  1  9 15  1  2 16 13]\n",
      "准确率为： 0.8518675721561969\n",
      "预测时间： 0.0379946231842041\n"
     ]
    }
   ],
   "execution_count": 33
  },
  {
   "metadata": {
    "ExecuteTime": {
     "end_time": "2025-01-13T09:21:05.375137Z",
     "start_time": "2025-01-13T09:21:05.370165Z"
    }
   },
   "cell_type": "code",
   "source": [
    "#预测的文章数目\n",
    "len(y_predict)"
   ],
   "id": "bffbfd793f9fd20e",
   "outputs": [
    {
     "data": {
      "text/plain": [
       "4712"
      ]
     },
     "execution_count": 34,
     "metadata": {},
     "output_type": "execute_result"
    }
   ],
   "execution_count": 34
  },
  {
   "metadata": {
    "ExecuteTime": {
     "end_time": "2025-01-13T09:21:05.387781Z",
     "start_time": "2025-01-13T09:21:05.375137Z"
    }
   },
   "cell_type": "code",
   "source": [
    "# 目前这个场景我们不需要召回率，support是真实的为那个类别的有多少个样本\n",
    "print(classification_report(y_test, y_predict,target_names=news.target_names))"
   ],
   "id": "2c18deabdbd9b5cd",
   "outputs": [
    {
     "name": "stdout",
     "output_type": "stream",
     "text": [
      "                          precision    recall  f1-score   support\n",
      "\n",
      "             alt.atheism       0.91      0.77      0.83       199\n",
      "           comp.graphics       0.83      0.79      0.81       242\n",
      " comp.os.ms-windows.misc       0.89      0.83      0.86       263\n",
      "comp.sys.ibm.pc.hardware       0.80      0.83      0.81       262\n",
      "   comp.sys.mac.hardware       0.90      0.88      0.89       234\n",
      "          comp.windows.x       0.92      0.85      0.88       230\n",
      "            misc.forsale       0.96      0.67      0.79       257\n",
      "               rec.autos       0.90      0.87      0.88       265\n",
      "         rec.motorcycles       0.90      0.95      0.92       251\n",
      "      rec.sport.baseball       0.89      0.96      0.93       226\n",
      "        rec.sport.hockey       0.95      0.98      0.96       262\n",
      "               sci.crypt       0.76      0.97      0.85       257\n",
      "         sci.electronics       0.84      0.80      0.82       229\n",
      "                 sci.med       0.97      0.86      0.91       249\n",
      "               sci.space       0.92      0.96      0.94       256\n",
      "  soc.religion.christian       0.55      0.98      0.70       243\n",
      "      talk.politics.guns       0.76      0.96      0.85       234\n",
      "   talk.politics.mideast       0.93      0.99      0.96       224\n",
      "      talk.politics.misc       0.98      0.56      0.72       197\n",
      "      talk.religion.misc       0.97      0.26      0.41       132\n",
      "\n",
      "                accuracy                           0.85      4712\n",
      "               macro avg       0.88      0.84      0.84      4712\n",
      "            weighted avg       0.87      0.85      0.85      4712\n",
      "\n"
     ]
    }
   ],
   "execution_count": 35
  },
  {
   "metadata": {
    "ExecuteTime": {
     "end_time": "2025-01-13T09:21:05.392087Z",
     "start_time": "2025-01-13T09:21:05.387781Z"
    }
   },
   "cell_type": "code",
   "source": [
    "print(y_test.shape) # 测试集中有多少 样本\n",
    "y_test1 = np.where(y_test == 0, 1, 0)\n",
    "print(y_test1.sum()) # label为0的样本数，即真实结果为正例(TP+FN)\n",
    "y_predict1 = np.where(y_predict == 0, 1, 0)\n",
    "print(y_predict1.sum()) # 预测结果为正例的样本数(TP+FP)"
   ],
   "id": "530b1e642f8ce757",
   "outputs": [
    {
     "name": "stdout",
     "output_type": "stream",
     "text": [
      "(4712,)\n",
      "199\n",
      "168\n"
     ]
    }
   ],
   "execution_count": 36
  },
  {
   "metadata": {
    "ExecuteTime": {
     "end_time": "2025-01-13T09:21:05.399332Z",
     "start_time": "2025-01-13T09:21:05.392087Z"
    }
   },
   "cell_type": "code",
   "source": "print((y_test1*y_predict1).sum()) # 真实结果为正例，预测结果为正例的样本数,即真正例数(TP)",
   "id": "ca43cc5c8d8568c9",
   "outputs": [
    {
     "name": "stdout",
     "output_type": "stream",
     "text": [
      "153\n"
     ]
    }
   ],
   "execution_count": 37
  },
  {
   "metadata": {
    "ExecuteTime": {
     "end_time": "2025-01-13T09:21:05.406235Z",
     "start_time": "2025-01-13T09:21:05.400336Z"
    }
   },
   "cell_type": "code",
   "source": [
    "#                            precision  recall  f1-score   support\n",
    "#            alt.atheism       0.91      0.77      0.83       199\n",
    "# 计算精确率\n",
    "print(153/168) \n",
    "# 计算召回率\n",
    "print(153/199)\n",
    "# 计算F1-score\n",
    "print(2*153/(199+168))"
   ],
   "id": "e78b6a2adce37613",
   "outputs": [
    {
     "name": "stdout",
     "output_type": "stream",
     "text": [
      "0.9107142857142857\n",
      "0.7688442211055276\n",
      "0.8337874659400545\n"
     ]
    }
   ],
   "execution_count": 38
  },
  {
   "metadata": {},
   "cell_type": "markdown",
   "source": "",
   "id": "c4dc8f9356af0dcf"
  },
  {
   "metadata": {
    "ExecuteTime": {
     "end_time": "2025-01-13T09:21:05.414972Z",
     "start_time": "2025-01-13T09:21:05.407237Z"
    }
   },
   "cell_type": "code",
   "source": [
    "max(y_test),min(y_test) # 目标值最大最小值\n",
    "# 把0-19总计20个分类，变为0和1\n",
    "# 第一个参数：类别是以改为0到19的\n",
    "y_test1 = np.where(y_test == 0, 1, 0)\n",
    "print(y_test1.sum()) #label为0的样本数\n",
    "y_predict1 = np.where(y_predict == 0, 1, 0)\n",
    "print(y_predict1.sum())\n",
    "# roc_auc_score的y_test只能是二分类,针对多分类如何计算AUC\n",
    "print(\"AUC指标：\", roc_auc_score(y_test1, y_predict1))"
   ],
   "id": "f40a0721004a056c",
   "outputs": [
    {
     "name": "stdout",
     "output_type": "stream",
     "text": [
      "199\n",
      "168\n",
      "AUC指标： 0.8827602448315142\n"
     ]
    }
   ],
   "execution_count": 39
  },
  {
   "metadata": {},
   "cell_type": "markdown",
   "source": [
    "* 优点：\n",
    "- 计算简单，速度快\n",
    "- 适用于文本分类\n",
    "<br>\n",
    "* 缺点：\n",
    "- 需要知道先验概率，如果先验概率不准确，会影响预测结果\n",
    "- 对缺失值不敏感"
   ],
   "id": "2ab9352c933080c6"
  },
  {
   "metadata": {},
   "cell_type": "markdown",
   "source": "### 决策树",
   "id": "a836f9ec0b025725"
  },
  {
   "metadata": {
    "ExecuteTime": {
     "end_time": "2025-01-13T09:21:05.420088Z",
     "start_time": "2025-01-13T09:21:05.414972Z"
    }
   },
   "cell_type": "code",
   "source": [
    "from sklearn.model_selection import train_test_split, GridSearchCV\n",
    "from sklearn.feature_extraction import DictVectorizer\n",
    "from sklearn.tree import DecisionTreeClassifier, export_graphviz\n",
    "from sklearn.ensemble import RandomForestClassifier\n",
    "import pandas as pd\n",
    "import numpy as np"
   ],
   "id": "7c55eea7fad425c7",
   "outputs": [],
   "execution_count": 40
  },
  {
   "metadata": {
    "ExecuteTime": {
     "end_time": "2025-01-13T09:21:05.427828Z",
     "start_time": "2025-01-13T09:21:05.423092Z"
    }
   },
   "cell_type": "code",
   "source": [
    "# 熵越小，确定性越大，把信息增益大的特征放到靠上的叶子节点\n",
    "# 信息增益：信息增益=熵-条件熵\n",
    "print(np.log2(1/32))\n",
    "print(1 / 2 * np.log2(1 /2) + 1 / 2 * np.log2(1 /2))\n",
    "print(1 / 3 * np.log2(1 / 3) + 2 / 3 * np.log2(2 / 3))\n",
    "print(0.01 * np.log2(0.01) + 0.99 * np.log2(0.99))"
   ],
   "id": "1db0aa8b93c57fc",
   "outputs": [
    {
     "name": "stdout",
     "output_type": "stream",
     "text": [
      "-5.0\n",
      "-1.0\n",
      "-0.9182958340544896\n",
      "-0.08079313589591118\n"
     ]
    }
   ],
   "execution_count": 41
  },
  {
   "metadata": {
    "ExecuteTime": {
     "end_time": "2025-01-13T09:21:05.440418Z",
     "start_time": "2025-01-13T09:21:05.427828Z"
    }
   },
   "cell_type": "code",
   "source": [
    "\"\"\"\n",
    "决策树对泰坦尼克号进行预测生死\n",
    ":return: None\n",
    "\"\"\"\n",
    "# 获取数据\n",
    "titan = pd.read_csv(\"G:/wangdao_python_short_class/python_ml/data/titanic.txt\")\n",
    "titan.info()"
   ],
   "id": "ecb7d8d6a3cd3cbd",
   "outputs": [
    {
     "name": "stdout",
     "output_type": "stream",
     "text": [
      "<class 'pandas.core.frame.DataFrame'>\n",
      "RangeIndex: 1313 entries, 0 to 1312\n",
      "Data columns (total 11 columns):\n",
      " #   Column     Non-Null Count  Dtype  \n",
      "---  ------     --------------  -----  \n",
      " 0   row.names  1313 non-null   int64  \n",
      " 1   pclass     1313 non-null   object \n",
      " 2   survived   1313 non-null   int64  \n",
      " 3   name       1313 non-null   object \n",
      " 4   age        633 non-null    float64\n",
      " 5   embarked   821 non-null    object \n",
      " 6   home.dest  754 non-null    object \n",
      " 7   room       77 non-null     object \n",
      " 8   ticket     69 non-null     object \n",
      " 9   boat       347 non-null    object \n",
      " 10  sex        1313 non-null   object \n",
      "dtypes: float64(1), int64(2), object(8)\n",
      "memory usage: 113.0+ KB\n"
     ]
    }
   ],
   "execution_count": 42
  },
  {
   "metadata": {
    "ExecuteTime": {
     "end_time": "2025-01-13T09:21:05.451180Z",
     "start_time": "2025-01-13T09:21:05.441422Z"
    }
   },
   "cell_type": "code",
   "source": [
    "# 处理数据，找出特征值和目标值\n",
    "x = titan[['pclass', 'age', 'sex']]\n",
    "y = titan['survived']\n",
    "print(x.info())  # 用来判断是否有空值\n",
    "print(x.describe(include='all'))"
   ],
   "id": "1f81285d09c1d6cd",
   "outputs": [
    {
     "name": "stdout",
     "output_type": "stream",
     "text": [
      "<class 'pandas.core.frame.DataFrame'>\n",
      "RangeIndex: 1313 entries, 0 to 1312\n",
      "Data columns (total 3 columns):\n",
      " #   Column  Non-Null Count  Dtype  \n",
      "---  ------  --------------  -----  \n",
      " 0   pclass  1313 non-null   object \n",
      " 1   age     633 non-null    float64\n",
      " 2   sex     1313 non-null   object \n",
      "dtypes: float64(1), object(2)\n",
      "memory usage: 30.9+ KB\n",
      "None\n",
      "       pclass         age   sex\n",
      "count    1313  633.000000  1313\n",
      "unique      3         NaN     2\n",
      "top       3rd         NaN  male\n",
      "freq      711         NaN   850\n",
      "mean      NaN   31.194181   NaN\n",
      "std       NaN   14.747525   NaN\n",
      "min       NaN    0.166700   NaN\n",
      "25%       NaN   21.000000   NaN\n",
      "50%       NaN   30.000000   NaN\n",
      "75%       NaN   41.000000   NaN\n",
      "max       NaN   71.000000   NaN\n"
     ]
    }
   ],
   "execution_count": 43
  },
  {
   "metadata": {
    "ExecuteTime": {
     "end_time": "2025-01-13T09:21:05.456127Z",
     "start_time": "2025-01-13T09:21:05.452185Z"
    }
   },
   "cell_type": "code",
   "source": [
    "# 一定要进行缺失值处理,填为均值\n",
    "mean=x['age'].mean()\n",
    "x.loc[:,'age']=x.loc[:,'age'].fillna(mean)"
   ],
   "id": "291ec1369322384b",
   "outputs": [],
   "execution_count": 44
  },
  {
   "metadata": {
    "ExecuteTime": {
     "end_time": "2025-01-13T09:21:05.465574Z",
     "start_time": "2025-01-13T09:21:05.456127Z"
    }
   },
   "cell_type": "code",
   "source": "print(x.info())",
   "id": "277eacf3a02d44cf",
   "outputs": [
    {
     "name": "stdout",
     "output_type": "stream",
     "text": [
      "<class 'pandas.core.frame.DataFrame'>\n",
      "RangeIndex: 1313 entries, 0 to 1312\n",
      "Data columns (total 3 columns):\n",
      " #   Column  Non-Null Count  Dtype  \n",
      "---  ------  --------------  -----  \n",
      " 0   pclass  1313 non-null   object \n",
      " 1   age     1313 non-null   float64\n",
      " 2   sex     1313 non-null   object \n",
      "dtypes: float64(1), object(2)\n",
      "memory usage: 30.9+ KB\n",
      "None\n"
     ]
    }
   ],
   "execution_count": 45
  },
  {
   "metadata": {
    "ExecuteTime": {
     "end_time": "2025-01-13T09:21:05.473717Z",
     "start_time": "2025-01-13T09:21:05.466578Z"
    }
   },
   "cell_type": "code",
   "source": [
    "# 分割数据集到训练集和测试集\n",
    "x_train, x_test, y_train, y_test = train_test_split(x, y, test_size=0.25, random_state=4)\n",
    "print(x_train.head())"
   ],
   "id": "581b9a6c9e395a0c",
   "outputs": [
    {
     "name": "stdout",
     "output_type": "stream",
     "text": [
      "    pclass        age     sex\n",
      "598    2nd  30.000000    male\n",
      "246    1st  62.000000    male\n",
      "905    3rd  31.194181  female\n",
      "300    1st  31.194181  female\n",
      "509    2nd  64.000000    male\n"
     ]
    }
   ],
   "execution_count": 46
  },
  {
   "metadata": {
    "ExecuteTime": {
     "end_time": "2025-01-13T09:21:05.478836Z",
     "start_time": "2025-01-13T09:21:05.473717Z"
    }
   },
   "cell_type": "code",
   "source": [
    "#性别是女性的数量\n",
    "x_train[x_train['sex'] == 'female'].count()"
   ],
   "id": "a0bb3aca59905acd",
   "outputs": [
    {
     "data": {
      "text/plain": [
       "pclass    341\n",
       "age       341\n",
       "sex       341\n",
       "dtype: int64"
      ]
     },
     "execution_count": 47,
     "metadata": {},
     "output_type": "execute_result"
    }
   ],
   "execution_count": 47
  },
  {
   "metadata": {
    "ExecuteTime": {
     "end_time": "2025-01-13T09:21:05.487887Z",
     "start_time": "2025-01-13T09:21:05.478836Z"
    }
   },
   "cell_type": "code",
   "source": [
    "#女性中存活的情况对比\n",
    "z=x_train.copy() #z是为了把特征和目标存储到一起\n",
    "z['survived'] = y_train #把目标值存储到z中\n",
    "z[z['sex'] == 'female']['survived'].value_counts() #女性中存活的情况"
   ],
   "id": "95567721e1688c42",
   "outputs": [
    {
     "data": {
      "text/plain": [
       "survived\n",
       "1    230\n",
       "0    111\n",
       "Name: count, dtype: int64"
      ]
     },
     "execution_count": 48,
     "metadata": {},
     "output_type": "execute_result"
    }
   ],
   "execution_count": 48
  },
  {
   "metadata": {
    "ExecuteTime": {
     "end_time": "2025-01-13T09:21:05.496434Z",
     "start_time": "2025-01-13T09:21:05.488891Z"
    }
   },
   "cell_type": "code",
   "source": "z[z['sex'] == 'male']['survived'].value_counts() #男性中存活的情况",
   "id": "67c0603cad064bd6",
   "outputs": [
    {
     "data": {
      "text/plain": [
       "survived\n",
       "0    539\n",
       "1    104\n",
       "Name: count, dtype: int64"
      ]
     },
     "execution_count": 49,
     "metadata": {},
     "output_type": "execute_result"
    }
   ],
   "execution_count": 49
  },
  {
   "metadata": {
    "ExecuteTime": {
     "end_time": "2025-01-13T09:21:05.503710Z",
     "start_time": "2025-01-13T09:21:05.496434Z"
    }
   },
   "cell_type": "code",
   "source": "y_train.value_counts() #没存活的是650，存活的是334",
   "id": "975b1fbacb814c75",
   "outputs": [
    {
     "data": {
      "text/plain": [
       "survived\n",
       "0    650\n",
       "1    334\n",
       "Name: count, dtype: int64"
      ]
     },
     "execution_count": 50,
     "metadata": {},
     "output_type": "execute_result"
    }
   ],
   "execution_count": 50
  },
  {
   "metadata": {
    "ExecuteTime": {
     "end_time": "2025-01-13T09:21:05.543956Z",
     "start_time": "2025-01-13T09:21:05.503710Z"
    }
   },
   "cell_type": "code",
   "source": "x_train.to_dict(orient=\"records\") #把df变为字典，样本变为一个一个的字典，字典中列名变为键， record是按行存储",
   "id": "58319a86408857a2",
   "outputs": [
    {
     "data": {
      "text/plain": [
       "[{'pclass': '2nd', 'age': 30.0, 'sex': 'male'},\n",
       " {'pclass': '1st', 'age': 62.0, 'sex': 'male'},\n",
       " {'pclass': '3rd', 'age': 31.19418104265403, 'sex': 'female'},\n",
       " {'pclass': '1st', 'age': 31.19418104265403, 'sex': 'female'},\n",
       " {'pclass': '2nd', 'age': 64.0, 'sex': 'male'},\n",
       " {'pclass': '1st', 'age': 31.19418104265403, 'sex': 'female'},\n",
       " {'pclass': '3rd', 'age': 24.0, 'sex': 'female'},\n",
       " {'pclass': '3rd', 'age': 31.19418104265403, 'sex': 'male'},\n",
       " {'pclass': '2nd', 'age': 31.19418104265403, 'sex': 'male'},\n",
       " {'pclass': '3rd', 'age': 31.19418104265403, 'sex': 'male'},\n",
       " {'pclass': '3rd', 'age': 21.0, 'sex': 'male'},\n",
       " {'pclass': '3rd', 'age': 31.19418104265403, 'sex': 'male'},\n",
       " {'pclass': '3rd', 'age': 31.19418104265403, 'sex': 'male'},\n",
       " {'pclass': '2nd', 'age': 23.0, 'sex': 'female'},\n",
       " {'pclass': '3rd', 'age': 31.19418104265403, 'sex': 'male'},\n",
       " {'pclass': '3rd', 'age': 31.19418104265403, 'sex': 'female'},\n",
       " {'pclass': '3rd', 'age': 31.19418104265403, 'sex': 'female'},\n",
       " {'pclass': '1st', 'age': 44.0, 'sex': 'female'},\n",
       " {'pclass': '3rd', 'age': 31.19418104265403, 'sex': 'female'},\n",
       " {'pclass': '3rd', 'age': 31.19418104265403, 'sex': 'male'},\n",
       " {'pclass': '3rd', 'age': 31.19418104265403, 'sex': 'female'},\n",
       " {'pclass': '1st', 'age': 37.0, 'sex': 'male'},\n",
       " {'pclass': '3rd', 'age': 31.19418104265403, 'sex': 'male'},\n",
       " {'pclass': '3rd', 'age': 6.0, 'sex': 'male'},\n",
       " {'pclass': '3rd', 'age': 31.19418104265403, 'sex': 'male'},\n",
       " {'pclass': '3rd', 'age': 31.19418104265403, 'sex': 'male'},\n",
       " {'pclass': '3rd', 'age': 31.19418104265403, 'sex': 'male'},\n",
       " {'pclass': '3rd', 'age': 31.19418104265403, 'sex': 'female'},\n",
       " {'pclass': '1st', 'age': 41.0, 'sex': 'male'},\n",
       " {'pclass': '1st', 'age': 30.0, 'sex': 'male'},\n",
       " {'pclass': '3rd', 'age': 31.19418104265403, 'sex': 'male'},\n",
       " {'pclass': '3rd', 'age': 31.19418104265403, 'sex': 'female'},\n",
       " {'pclass': '2nd', 'age': 25.0, 'sex': 'female'},\n",
       " {'pclass': '1st', 'age': 31.19418104265403, 'sex': 'female'},\n",
       " {'pclass': '2nd', 'age': 24.0, 'sex': 'female'},\n",
       " {'pclass': '2nd', 'age': 57.0, 'sex': 'male'},\n",
       " {'pclass': '2nd', 'age': 25.0, 'sex': 'male'},\n",
       " {'pclass': '3rd', 'age': 31.19418104265403, 'sex': 'male'},\n",
       " {'pclass': '2nd', 'age': 36.0, 'sex': 'male'},\n",
       " {'pclass': '3rd', 'age': 31.19418104265403, 'sex': 'male'},\n",
       " {'pclass': '3rd', 'age': 31.19418104265403, 'sex': 'female'},\n",
       " {'pclass': '2nd', 'age': 51.0, 'sex': 'male'},\n",
       " {'pclass': '3rd', 'age': 31.19418104265403, 'sex': 'male'},\n",
       " {'pclass': '1st', 'age': 43.0, 'sex': 'female'},\n",
       " {'pclass': '3rd', 'age': 16.0, 'sex': 'male'},\n",
       " {'pclass': '3rd', 'age': 19.0, 'sex': 'male'},\n",
       " {'pclass': '1st', 'age': 13.0, 'sex': 'male'},\n",
       " {'pclass': '1st', 'age': 31.19418104265403, 'sex': 'female'},\n",
       " {'pclass': '3rd', 'age': 31.19418104265403, 'sex': 'female'},\n",
       " {'pclass': '1st', 'age': 45.0, 'sex': 'female'},\n",
       " {'pclass': '2nd', 'age': 36.0, 'sex': 'female'},\n",
       " {'pclass': '3rd', 'age': 31.19418104265403, 'sex': 'male'},\n",
       " {'pclass': '3rd', 'age': 31.19418104265403, 'sex': 'male'},\n",
       " {'pclass': '2nd', 'age': 22.0, 'sex': 'male'},\n",
       " {'pclass': '3rd', 'age': 31.19418104265403, 'sex': 'male'},\n",
       " {'pclass': '1st', 'age': 30.0, 'sex': 'male'},\n",
       " {'pclass': '3rd', 'age': 31.19418104265403, 'sex': 'male'},\n",
       " {'pclass': '3rd', 'age': 31.19418104265403, 'sex': 'male'},\n",
       " {'pclass': '3rd', 'age': 31.19418104265403, 'sex': 'male'},\n",
       " {'pclass': '3rd', 'age': 16.0, 'sex': 'male'},\n",
       " {'pclass': '3rd', 'age': 31.19418104265403, 'sex': 'male'},\n",
       " {'pclass': '3rd', 'age': 31.19418104265403, 'sex': 'male'},\n",
       " {'pclass': '3rd', 'age': 47.0, 'sex': 'male'},\n",
       " {'pclass': '2nd', 'age': 20.0, 'sex': 'male'},\n",
       " {'pclass': '2nd', 'age': 57.0, 'sex': 'female'},\n",
       " {'pclass': '3rd', 'age': 31.19418104265403, 'sex': 'male'},\n",
       " {'pclass': '3rd', 'age': 31.19418104265403, 'sex': 'female'},\n",
       " {'pclass': '1st', 'age': 58.0, 'sex': 'female'},\n",
       " {'pclass': '3rd', 'age': 31.19418104265403, 'sex': 'male'},\n",
       " {'pclass': '3rd', 'age': 31.0, 'sex': 'male'},\n",
       " {'pclass': '2nd', 'age': 30.0, 'sex': 'female'},\n",
       " {'pclass': '3rd', 'age': 31.19418104265403, 'sex': 'male'},\n",
       " {'pclass': '1st', 'age': 61.0, 'sex': 'male'},\n",
       " {'pclass': '2nd', 'age': 38.0, 'sex': 'male'},\n",
       " {'pclass': '1st', 'age': 31.19418104265403, 'sex': 'male'},\n",
       " {'pclass': '3rd', 'age': 27.0, 'sex': 'male'},\n",
       " {'pclass': '3rd', 'age': 35.0, 'sex': 'male'},\n",
       " {'pclass': '3rd', 'age': 31.19418104265403, 'sex': 'female'},\n",
       " {'pclass': '1st', 'age': 31.19418104265403, 'sex': 'female'},\n",
       " {'pclass': '1st', 'age': 58.0, 'sex': 'male'},\n",
       " {'pclass': '2nd', 'age': 40.0, 'sex': 'female'},\n",
       " {'pclass': '3rd', 'age': 31.19418104265403, 'sex': 'male'},\n",
       " {'pclass': '1st', 'age': 32.0, 'sex': 'male'},\n",
       " {'pclass': '3rd', 'age': 31.19418104265403, 'sex': 'male'},\n",
       " {'pclass': '3rd', 'age': 31.19418104265403, 'sex': 'male'},\n",
       " {'pclass': '3rd', 'age': 31.19418104265403, 'sex': 'male'},\n",
       " {'pclass': '3rd', 'age': 31.19418104265403, 'sex': 'female'},\n",
       " {'pclass': '3rd', 'age': 21.0, 'sex': 'male'},\n",
       " {'pclass': '1st', 'age': 54.0, 'sex': 'male'},\n",
       " {'pclass': '1st', 'age': 31.19418104265403, 'sex': 'male'},\n",
       " {'pclass': '3rd', 'age': 31.19418104265403, 'sex': 'male'},\n",
       " {'pclass': '3rd', 'age': 19.0, 'sex': 'male'},\n",
       " {'pclass': '1st', 'age': 38.0, 'sex': 'male'},\n",
       " {'pclass': '1st', 'age': 39.0, 'sex': 'male'},\n",
       " {'pclass': '1st', 'age': 52.0, 'sex': 'female'},\n",
       " {'pclass': '1st', 'age': 31.19418104265403, 'sex': 'male'},\n",
       " {'pclass': '1st', 'age': 60.0, 'sex': 'female'},\n",
       " {'pclass': '3rd', 'age': 31.19418104265403, 'sex': 'male'},\n",
       " {'pclass': '3rd', 'age': 31.19418104265403, 'sex': 'female'},\n",
       " {'pclass': '3rd', 'age': 31.19418104265403, 'sex': 'male'},\n",
       " {'pclass': '3rd', 'age': 31.19418104265403, 'sex': 'male'},\n",
       " {'pclass': '3rd', 'age': 31.19418104265403, 'sex': 'male'},\n",
       " {'pclass': '1st', 'age': 31.19418104265403, 'sex': 'male'},\n",
       " {'pclass': '1st', 'age': 11.0, 'sex': 'male'},\n",
       " {'pclass': '1st', 'age': 31.19418104265403, 'sex': 'male'},\n",
       " {'pclass': '1st', 'age': 21.0, 'sex': 'male'},\n",
       " {'pclass': '3rd', 'age': 45.0, 'sex': 'female'},\n",
       " {'pclass': '3rd', 'age': 31.19418104265403, 'sex': 'male'},\n",
       " {'pclass': '3rd', 'age': 31.19418104265403, 'sex': 'female'},\n",
       " {'pclass': '2nd', 'age': 31.19418104265403, 'sex': 'male'},\n",
       " {'pclass': '3rd', 'age': 31.19418104265403, 'sex': 'male'},\n",
       " {'pclass': '3rd', 'age': 31.19418104265403, 'sex': 'female'},\n",
       " {'pclass': '2nd', 'age': 18.0, 'sex': 'female'},\n",
       " {'pclass': '3rd', 'age': 28.0, 'sex': 'female'},\n",
       " {'pclass': '3rd', 'age': 31.19418104265403, 'sex': 'male'},\n",
       " {'pclass': '3rd', 'age': 31.19418104265403, 'sex': 'female'},\n",
       " {'pclass': '2nd', 'age': 19.0, 'sex': 'male'},\n",
       " {'pclass': '2nd', 'age': 21.0, 'sex': 'male'},\n",
       " {'pclass': '3rd', 'age': 31.19418104265403, 'sex': 'male'},\n",
       " {'pclass': '1st', 'age': 21.0, 'sex': 'male'},\n",
       " {'pclass': '1st', 'age': 65.0, 'sex': 'male'},\n",
       " {'pclass': '1st', 'age': 31.19418104265403, 'sex': 'female'},\n",
       " {'pclass': '3rd', 'age': 31.19418104265403, 'sex': 'male'},\n",
       " {'pclass': '2nd', 'age': 30.0, 'sex': 'male'},\n",
       " {'pclass': '3rd', 'age': 31.19418104265403, 'sex': 'female'},\n",
       " {'pclass': '3rd', 'age': 31.19418104265403, 'sex': 'male'},\n",
       " {'pclass': '3rd', 'age': 28.0, 'sex': 'male'},\n",
       " {'pclass': '3rd', 'age': 31.19418104265403, 'sex': 'male'},\n",
       " {'pclass': '3rd', 'age': 31.19418104265403, 'sex': 'male'},\n",
       " {'pclass': '3rd', 'age': 31.19418104265403, 'sex': 'female'},\n",
       " {'pclass': '3rd', 'age': 31.19418104265403, 'sex': 'female'},\n",
       " {'pclass': '3rd', 'age': 31.19418104265403, 'sex': 'male'},\n",
       " {'pclass': '1st', 'age': 55.0, 'sex': 'male'},\n",
       " {'pclass': '3rd', 'age': 31.19418104265403, 'sex': 'male'},\n",
       " {'pclass': '3rd', 'age': 31.19418104265403, 'sex': 'male'},\n",
       " {'pclass': '3rd', 'age': 22.0, 'sex': 'male'},\n",
       " {'pclass': '1st', 'age': 31.19418104265403, 'sex': 'male'},\n",
       " {'pclass': '3rd', 'age': 31.19418104265403, 'sex': 'male'},\n",
       " {'pclass': '3rd', 'age': 31.19418104265403, 'sex': 'male'},\n",
       " {'pclass': '1st', 'age': 36.0, 'sex': 'male'},\n",
       " {'pclass': '1st', 'age': 45.0, 'sex': 'male'},\n",
       " {'pclass': '3rd', 'age': 31.19418104265403, 'sex': 'female'},\n",
       " {'pclass': '2nd', 'age': 31.19418104265403, 'sex': 'female'},\n",
       " {'pclass': '3rd', 'age': 31.19418104265403, 'sex': 'male'},\n",
       " {'pclass': '3rd', 'age': 31.19418104265403, 'sex': 'male'},\n",
       " {'pclass': '3rd', 'age': 24.0, 'sex': 'male'},\n",
       " {'pclass': '2nd', 'age': 20.0, 'sex': 'male'},\n",
       " {'pclass': '2nd', 'age': 31.19418104265403, 'sex': 'female'},\n",
       " {'pclass': '3rd', 'age': 24.0, 'sex': 'female'},\n",
       " {'pclass': '3rd', 'age': 31.19418104265403, 'sex': 'male'},\n",
       " {'pclass': '3rd', 'age': 31.19418104265403, 'sex': 'male'},\n",
       " {'pclass': '3rd', 'age': 31.19418104265403, 'sex': 'male'},\n",
       " {'pclass': '3rd', 'age': 31.19418104265403, 'sex': 'female'},\n",
       " {'pclass': '3rd', 'age': 31.19418104265403, 'sex': 'female'},\n",
       " {'pclass': '2nd', 'age': 15.0, 'sex': 'female'},\n",
       " {'pclass': '3rd', 'age': 26.0, 'sex': 'male'},\n",
       " {'pclass': '3rd', 'age': 45.0, 'sex': 'male'},\n",
       " {'pclass': '3rd', 'age': 31.19418104265403, 'sex': 'male'},\n",
       " {'pclass': '2nd', 'age': 35.0, 'sex': 'male'},\n",
       " {'pclass': '3rd', 'age': 31.19418104265403, 'sex': 'male'},\n",
       " {'pclass': '2nd', 'age': 22.0, 'sex': 'female'},\n",
       " {'pclass': '3rd', 'age': 31.19418104265403, 'sex': 'male'},\n",
       " {'pclass': '3rd', 'age': 31.19418104265403, 'sex': 'male'},\n",
       " {'pclass': '3rd', 'age': 31.19418104265403, 'sex': 'male'},\n",
       " {'pclass': '1st', 'age': 31.19418104265403, 'sex': 'male'},\n",
       " {'pclass': '1st', 'age': 48.0, 'sex': 'female'},\n",
       " {'pclass': '2nd', 'age': 48.0, 'sex': 'female'},\n",
       " {'pclass': '3rd', 'age': 31.19418104265403, 'sex': 'male'},\n",
       " {'pclass': '3rd', 'age': 30.0, 'sex': 'male'},\n",
       " {'pclass': '3rd', 'age': 31.19418104265403, 'sex': 'male'},\n",
       " {'pclass': '2nd', 'age': 8.0, 'sex': 'female'},\n",
       " {'pclass': '2nd', 'age': 21.0, 'sex': 'male'},\n",
       " {'pclass': '3rd', 'age': 27.0, 'sex': 'female'},\n",
       " {'pclass': '3rd', 'age': 31.19418104265403, 'sex': 'male'},\n",
       " {'pclass': '3rd', 'age': 31.19418104265403, 'sex': 'male'},\n",
       " {'pclass': '1st', 'age': 45.0, 'sex': 'female'},\n",
       " {'pclass': '3rd', 'age': 31.19418104265403, 'sex': 'male'},\n",
       " {'pclass': '3rd', 'age': 31.19418104265403, 'sex': 'male'},\n",
       " {'pclass': '1st', 'age': 31.19418104265403, 'sex': 'male'},\n",
       " {'pclass': '2nd', 'age': 30.0, 'sex': 'male'},\n",
       " {'pclass': '1st', 'age': 25.0, 'sex': 'male'},\n",
       " {'pclass': '3rd', 'age': 31.19418104265403, 'sex': 'male'},\n",
       " {'pclass': '3rd', 'age': 31.19418104265403, 'sex': 'female'},\n",
       " {'pclass': '3rd', 'age': 31.19418104265403, 'sex': 'female'},\n",
       " {'pclass': '3rd', 'age': 31.19418104265403, 'sex': 'female'},\n",
       " {'pclass': '3rd', 'age': 31.19418104265403, 'sex': 'female'},\n",
       " {'pclass': '3rd', 'age': 31.19418104265403, 'sex': 'male'},\n",
       " {'pclass': '3rd', 'age': 31.19418104265403, 'sex': 'male'},\n",
       " {'pclass': '1st', 'age': 18.0, 'sex': 'female'},\n",
       " {'pclass': '3rd', 'age': 5.0, 'sex': 'female'},\n",
       " {'pclass': '3rd', 'age': 25.0, 'sex': 'male'},\n",
       " {'pclass': '3rd', 'age': 31.19418104265403, 'sex': 'male'},\n",
       " {'pclass': '3rd', 'age': 39.0, 'sex': 'male'},\n",
       " {'pclass': '3rd', 'age': 19.0, 'sex': 'male'},\n",
       " {'pclass': '2nd', 'age': 36.0, 'sex': 'female'},\n",
       " {'pclass': '2nd', 'age': 31.19418104265403, 'sex': 'male'},\n",
       " {'pclass': '3rd', 'age': 33.0, 'sex': 'male'},\n",
       " {'pclass': '3rd', 'age': 31.19418104265403, 'sex': 'male'},\n",
       " {'pclass': '3rd', 'age': 31.19418104265403, 'sex': 'male'},\n",
       " {'pclass': '3rd', 'age': 9.0, 'sex': 'male'},\n",
       " {'pclass': '3rd', 'age': 31.19418104265403, 'sex': 'male'},\n",
       " {'pclass': '2nd', 'age': 26.0, 'sex': 'male'},\n",
       " {'pclass': '3rd', 'age': 31.19418104265403, 'sex': 'male'},\n",
       " {'pclass': '1st', 'age': 23.0, 'sex': 'female'},\n",
       " {'pclass': '1st', 'age': 17.0, 'sex': 'female'},\n",
       " {'pclass': '3rd', 'age': 31.19418104265403, 'sex': 'female'},\n",
       " {'pclass': '1st', 'age': 36.0, 'sex': 'female'},\n",
       " {'pclass': '3rd', 'age': 31.19418104265403, 'sex': 'male'},\n",
       " {'pclass': '1st', 'age': 58.0, 'sex': 'female'},\n",
       " {'pclass': '2nd', 'age': 12.0, 'sex': 'female'},\n",
       " {'pclass': '3rd', 'age': 23.0, 'sex': 'male'},\n",
       " {'pclass': '2nd', 'age': 28.0, 'sex': 'female'},\n",
       " {'pclass': '2nd', 'age': 31.19418104265403, 'sex': 'female'},\n",
       " {'pclass': '2nd', 'age': 31.19418104265403, 'sex': 'female'},\n",
       " {'pclass': '3rd', 'age': 31.19418104265403, 'sex': 'male'},\n",
       " {'pclass': '3rd', 'age': 31.19418104265403, 'sex': 'male'},\n",
       " {'pclass': '3rd', 'age': 31.19418104265403, 'sex': 'male'},\n",
       " {'pclass': '3rd', 'age': 18.0, 'sex': 'female'},\n",
       " {'pclass': '2nd', 'age': 36.0, 'sex': 'male'},\n",
       " {'pclass': '1st', 'age': 31.19418104265403, 'sex': 'male'},\n",
       " {'pclass': '3rd', 'age': 32.0, 'sex': 'female'},\n",
       " {'pclass': '3rd', 'age': 37.0, 'sex': 'male'},\n",
       " {'pclass': '3rd', 'age': 31.19418104265403, 'sex': 'male'},\n",
       " {'pclass': '1st', 'age': 31.19418104265403, 'sex': 'female'},\n",
       " {'pclass': '2nd', 'age': 25.0, 'sex': 'male'},\n",
       " {'pclass': '1st', 'age': 49.0, 'sex': 'male'},\n",
       " {'pclass': '3rd', 'age': 18.0, 'sex': 'male'},\n",
       " {'pclass': '1st', 'age': 31.19418104265403, 'sex': 'male'},\n",
       " {'pclass': '2nd', 'age': 44.0, 'sex': 'female'},\n",
       " {'pclass': '1st', 'age': 17.0, 'sex': 'female'},\n",
       " {'pclass': '1st', 'age': 23.0, 'sex': 'male'},\n",
       " {'pclass': '3rd', 'age': 31.19418104265403, 'sex': 'male'},\n",
       " {'pclass': '3rd', 'age': 32.0, 'sex': 'male'},\n",
       " {'pclass': '3rd', 'age': 26.0, 'sex': 'male'},\n",
       " {'pclass': '2nd', 'age': 52.0, 'sex': 'male'},\n",
       " {'pclass': '3rd', 'age': 31.19418104265403, 'sex': 'female'},\n",
       " {'pclass': '2nd', 'age': 28.0, 'sex': 'male'},\n",
       " {'pclass': '1st', 'age': 40.0, 'sex': 'male'},\n",
       " {'pclass': '2nd', 'age': 34.0, 'sex': 'male'},\n",
       " {'pclass': '1st', 'age': 27.0, 'sex': 'female'},\n",
       " {'pclass': '3rd', 'age': 31.19418104265403, 'sex': 'male'},\n",
       " {'pclass': '3rd', 'age': 20.0, 'sex': 'male'},\n",
       " {'pclass': '2nd', 'age': 22.0, 'sex': 'male'},\n",
       " {'pclass': '3rd', 'age': 31.19418104265403, 'sex': 'female'},\n",
       " {'pclass': '3rd', 'age': 40.0, 'sex': 'male'},\n",
       " {'pclass': '3rd', 'age': 33.0, 'sex': 'female'},\n",
       " {'pclass': '3rd', 'age': 31.19418104265403, 'sex': 'male'},\n",
       " {'pclass': '3rd', 'age': 31.19418104265403, 'sex': 'male'},\n",
       " {'pclass': '3rd', 'age': 18.0, 'sex': 'female'},\n",
       " {'pclass': '1st', 'age': 37.0, 'sex': 'male'},\n",
       " {'pclass': '1st', 'age': 31.19418104265403, 'sex': 'female'},\n",
       " {'pclass': '2nd', 'age': 24.0, 'sex': 'male'},\n",
       " {'pclass': '3rd', 'age': 15.0, 'sex': 'female'},\n",
       " {'pclass': '2nd', 'age': 28.0, 'sex': 'male'},\n",
       " {'pclass': '3rd', 'age': 31.19418104265403, 'sex': 'male'},\n",
       " {'pclass': '3rd', 'age': 21.0, 'sex': 'female'},\n",
       " {'pclass': '3rd', 'age': 31.19418104265403, 'sex': 'male'},\n",
       " {'pclass': '3rd', 'age': 30.0, 'sex': 'female'},\n",
       " {'pclass': '3rd', 'age': 31.19418104265403, 'sex': 'male'},\n",
       " {'pclass': '3rd', 'age': 31.19418104265403, 'sex': 'female'},\n",
       " {'pclass': '3rd', 'age': 31.19418104265403, 'sex': 'female'},\n",
       " {'pclass': '3rd', 'age': 20.0, 'sex': 'male'},\n",
       " {'pclass': '1st', 'age': 44.0, 'sex': 'female'},\n",
       " {'pclass': '2nd', 'age': 36.0, 'sex': 'female'},\n",
       " {'pclass': '3rd', 'age': 31.19418104265403, 'sex': 'female'},\n",
       " {'pclass': '1st', 'age': 39.0, 'sex': 'female'},\n",
       " {'pclass': '3rd', 'age': 31.19418104265403, 'sex': 'male'},\n",
       " {'pclass': '3rd', 'age': 13.0, 'sex': 'male'},\n",
       " {'pclass': '3rd', 'age': 31.19418104265403, 'sex': 'male'},\n",
       " {'pclass': '3rd', 'age': 31.19418104265403, 'sex': 'female'},\n",
       " {'pclass': '3rd', 'age': 36.0, 'sex': 'female'},\n",
       " {'pclass': '2nd', 'age': 12.0, 'sex': 'female'},\n",
       " {'pclass': '1st', 'age': 31.19418104265403, 'sex': 'male'},\n",
       " {'pclass': '2nd', 'age': 2.0, 'sex': 'male'},\n",
       " {'pclass': '3rd', 'age': 31.19418104265403, 'sex': 'male'},\n",
       " {'pclass': '3rd', 'age': 26.0, 'sex': 'male'},\n",
       " {'pclass': '1st', 'age': 27.0, 'sex': 'male'},\n",
       " {'pclass': '3rd', 'age': 31.19418104265403, 'sex': 'male'},\n",
       " {'pclass': '3rd', 'age': 31.19418104265403, 'sex': 'male'},\n",
       " {'pclass': '1st', 'age': 64.0, 'sex': 'male'},\n",
       " {'pclass': '2nd', 'age': 31.19418104265403, 'sex': 'male'},\n",
       " {'pclass': '3rd', 'age': 40.0, 'sex': 'male'},\n",
       " {'pclass': '2nd', 'age': 42.0, 'sex': 'male'},\n",
       " {'pclass': '3rd', 'age': 31.19418104265403, 'sex': 'female'},\n",
       " {'pclass': '3rd', 'age': 31.19418104265403, 'sex': 'female'},\n",
       " {'pclass': '3rd', 'age': 31.19418104265403, 'sex': 'male'},\n",
       " {'pclass': '2nd', 'age': 3.0, 'sex': 'male'},\n",
       " {'pclass': '3rd', 'age': 5.0, 'sex': 'male'},\n",
       " {'pclass': '1st', 'age': 31.19418104265403, 'sex': 'male'},\n",
       " {'pclass': '3rd', 'age': 31.19418104265403, 'sex': 'female'},\n",
       " {'pclass': '1st', 'age': 22.0, 'sex': 'female'},\n",
       " {'pclass': '2nd', 'age': 36.0, 'sex': 'female'},\n",
       " {'pclass': '1st', 'age': 33.0, 'sex': 'female'},\n",
       " {'pclass': '3rd', 'age': 31.19418104265403, 'sex': 'male'},\n",
       " {'pclass': '3rd', 'age': 31.19418104265403, 'sex': 'male'},\n",
       " {'pclass': '3rd', 'age': 31.19418104265403, 'sex': 'male'},\n",
       " {'pclass': '1st', 'age': 45.0, 'sex': 'female'},\n",
       " {'pclass': '3rd', 'age': 31.19418104265403, 'sex': 'male'},\n",
       " {'pclass': '3rd', 'age': 31.19418104265403, 'sex': 'female'},\n",
       " {'pclass': '3rd', 'age': 31.19418104265403, 'sex': 'female'},\n",
       " {'pclass': '3rd', 'age': 31.19418104265403, 'sex': 'male'},\n",
       " {'pclass': '3rd', 'age': 31.19418104265403, 'sex': 'male'},\n",
       " {'pclass': '2nd', 'age': 26.0, 'sex': 'male'},\n",
       " {'pclass': '3rd', 'age': 31.19418104265403, 'sex': 'male'},\n",
       " {'pclass': '2nd', 'age': 20.0, 'sex': 'female'},\n",
       " {'pclass': '1st', 'age': 31.19418104265403, 'sex': 'male'},\n",
       " {'pclass': '3rd', 'age': 18.0, 'sex': 'male'},\n",
       " {'pclass': '3rd', 'age': 31.19418104265403, 'sex': 'female'},\n",
       " {'pclass': '3rd', 'age': 22.0, 'sex': 'male'},\n",
       " {'pclass': '2nd', 'age': 54.0, 'sex': 'male'},\n",
       " {'pclass': '3rd', 'age': 31.19418104265403, 'sex': 'male'},\n",
       " {'pclass': '3rd', 'age': 31.19418104265403, 'sex': 'male'},\n",
       " {'pclass': '3rd', 'age': 11.0, 'sex': 'female'},\n",
       " {'pclass': '3rd', 'age': 31.19418104265403, 'sex': 'male'},\n",
       " {'pclass': '1st', 'age': 49.0, 'sex': 'male'},\n",
       " {'pclass': '3rd', 'age': 39.0, 'sex': 'female'},\n",
       " {'pclass': '3rd', 'age': 31.19418104265403, 'sex': 'female'},\n",
       " {'pclass': '3rd', 'age': 22.0, 'sex': 'male'},\n",
       " {'pclass': '2nd', 'age': 32.0, 'sex': 'female'},\n",
       " {'pclass': '1st', 'age': 45.0, 'sex': 'male'},\n",
       " {'pclass': '3rd', 'age': 10.0, 'sex': 'female'},\n",
       " {'pclass': '3rd', 'age': 36.0, 'sex': 'male'},\n",
       " {'pclass': '3rd', 'age': 31.19418104265403, 'sex': 'male'},\n",
       " {'pclass': '3rd', 'age': 31.19418104265403, 'sex': 'male'},\n",
       " {'pclass': '3rd', 'age': 18.0, 'sex': 'female'},\n",
       " {'pclass': '3rd', 'age': 31.19418104265403, 'sex': 'male'},\n",
       " {'pclass': '3rd', 'age': 31.19418104265403, 'sex': 'male'},\n",
       " {'pclass': '3rd', 'age': 31.19418104265403, 'sex': 'male'},\n",
       " {'pclass': '3rd', 'age': 31.19418104265403, 'sex': 'male'},\n",
       " {'pclass': '3rd', 'age': 31.19418104265403, 'sex': 'male'},\n",
       " {'pclass': '3rd', 'age': 31.19418104265403, 'sex': 'male'},\n",
       " {'pclass': '1st', 'age': 31.19418104265403, 'sex': 'female'},\n",
       " {'pclass': '1st', 'age': 18.0, 'sex': 'female'},\n",
       " {'pclass': '2nd', 'age': 22.0, 'sex': 'female'},\n",
       " {'pclass': '3rd', 'age': 20.0, 'sex': 'male'},\n",
       " {'pclass': '1st', 'age': 44.0, 'sex': 'male'},\n",
       " {'pclass': '3rd', 'age': 31.19418104265403, 'sex': 'female'},\n",
       " {'pclass': '2nd', 'age': 30.0, 'sex': 'male'},\n",
       " {'pclass': '3rd', 'age': 38.0, 'sex': 'female'},\n",
       " {'pclass': '3rd', 'age': 31.19418104265403, 'sex': 'male'},\n",
       " {'pclass': '2nd', 'age': 27.0, 'sex': 'male'},\n",
       " {'pclass': '1st', 'age': 36.0, 'sex': 'male'},\n",
       " {'pclass': '1st', 'age': 20.0, 'sex': 'female'},\n",
       " {'pclass': '2nd', 'age': 31.19418104265403, 'sex': 'male'},\n",
       " {'pclass': '3rd', 'age': 31.19418104265403, 'sex': 'male'},\n",
       " {'pclass': '2nd', 'age': 6.0, 'sex': 'female'},\n",
       " {'pclass': '3rd', 'age': 16.0, 'sex': 'female'},\n",
       " {'pclass': '3rd', 'age': 31.19418104265403, 'sex': 'male'},\n",
       " {'pclass': '2nd', 'age': 31.19418104265403, 'sex': 'male'},\n",
       " {'pclass': '3rd', 'age': 0.3333, 'sex': 'male'},\n",
       " {'pclass': '3rd', 'age': 31.19418104265403, 'sex': 'male'},\n",
       " {'pclass': '1st', 'age': 31.19418104265403, 'sex': 'female'},\n",
       " {'pclass': '2nd', 'age': 31.19418104265403, 'sex': 'male'},\n",
       " {'pclass': '3rd', 'age': 31.19418104265403, 'sex': 'female'},\n",
       " {'pclass': '3rd', 'age': 31.19418104265403, 'sex': 'female'},\n",
       " {'pclass': '3rd', 'age': 31.19418104265403, 'sex': 'female'},\n",
       " {'pclass': '3rd', 'age': 25.0, 'sex': 'male'},\n",
       " {'pclass': '3rd', 'age': 31.19418104265403, 'sex': 'male'},\n",
       " {'pclass': '3rd', 'age': 31.19418104265403, 'sex': 'male'},\n",
       " {'pclass': '2nd', 'age': 31.19418104265403, 'sex': 'female'},\n",
       " {'pclass': '2nd', 'age': 18.0, 'sex': 'male'},\n",
       " {'pclass': '1st', 'age': 31.0, 'sex': 'female'},\n",
       " {'pclass': '1st', 'age': 21.0, 'sex': 'female'},\n",
       " {'pclass': '3rd', 'age': 31.19418104265403, 'sex': 'female'},\n",
       " {'pclass': '3rd', 'age': 17.0, 'sex': 'female'},\n",
       " {'pclass': '1st', 'age': 55.0, 'sex': 'male'},\n",
       " {'pclass': '3rd', 'age': 31.19418104265403, 'sex': 'male'},\n",
       " {'pclass': '2nd', 'age': 30.0, 'sex': 'male'},\n",
       " {'pclass': '3rd', 'age': 21.0, 'sex': 'male'},\n",
       " {'pclass': '1st', 'age': 23.0, 'sex': 'female'},\n",
       " {'pclass': '3rd', 'age': 31.19418104265403, 'sex': 'male'},\n",
       " {'pclass': '3rd', 'age': 40.0, 'sex': 'male'},\n",
       " {'pclass': '1st', 'age': 48.0, 'sex': 'female'},\n",
       " {'pclass': '3rd', 'age': 31.19418104265403, 'sex': 'male'},\n",
       " {'pclass': '3rd', 'age': 33.0, 'sex': 'male'},\n",
       " {'pclass': '1st', 'age': 49.0, 'sex': 'female'},\n",
       " {'pclass': '3rd', 'age': 31.19418104265403, 'sex': 'female'},\n",
       " {'pclass': '3rd', 'age': 31.19418104265403, 'sex': 'male'},\n",
       " {'pclass': '1st', 'age': 47.0, 'sex': 'male'},\n",
       " {'pclass': '3rd', 'age': 31.19418104265403, 'sex': 'male'},\n",
       " {'pclass': '3rd', 'age': 31.19418104265403, 'sex': 'female'},\n",
       " {'pclass': '1st', 'age': 31.19418104265403, 'sex': 'female'},\n",
       " {'pclass': '3rd', 'age': 31.19418104265403, 'sex': 'male'},\n",
       " {'pclass': '2nd', 'age': 36.0, 'sex': 'female'},\n",
       " {'pclass': '2nd', 'age': 31.19418104265403, 'sex': 'female'},\n",
       " {'pclass': '2nd', 'age': 31.19418104265403, 'sex': 'male'},\n",
       " {'pclass': '3rd', 'age': 31.19418104265403, 'sex': 'male'},\n",
       " {'pclass': '1st', 'age': 48.0, 'sex': 'female'},\n",
       " {'pclass': '1st', 'age': 31.19418104265403, 'sex': 'male'},\n",
       " {'pclass': '3rd', 'age': 31.19418104265403, 'sex': 'male'},\n",
       " {'pclass': '1st', 'age': 45.0, 'sex': 'male'},\n",
       " {'pclass': '3rd', 'age': 31.19418104265403, 'sex': 'female'},\n",
       " {'pclass': '1st', 'age': 43.0, 'sex': 'female'},\n",
       " {'pclass': '3rd', 'age': 31.19418104265403, 'sex': 'female'},\n",
       " {'pclass': '3rd', 'age': 31.19418104265403, 'sex': 'female'},\n",
       " {'pclass': '3rd', 'age': 31.19418104265403, 'sex': 'male'},\n",
       " {'pclass': '3rd', 'age': 31.19418104265403, 'sex': 'female'},\n",
       " {'pclass': '3rd', 'age': 31.19418104265403, 'sex': 'male'},\n",
       " {'pclass': '2nd', 'age': 31.19418104265403, 'sex': 'male'},\n",
       " {'pclass': '1st', 'age': 52.0, 'sex': 'male'},\n",
       " {'pclass': '1st', 'age': 28.0, 'sex': 'male'},\n",
       " {'pclass': '1st', 'age': 39.0, 'sex': 'male'},\n",
       " {'pclass': '3rd', 'age': 9.0, 'sex': 'male'},\n",
       " {'pclass': '3rd', 'age': 31.19418104265403, 'sex': 'female'},\n",
       " {'pclass': '3rd', 'age': 31.19418104265403, 'sex': 'male'},\n",
       " {'pclass': '2nd', 'age': 34.0, 'sex': 'female'},\n",
       " {'pclass': '3rd', 'age': 31.19418104265403, 'sex': 'male'},\n",
       " {'pclass': '3rd', 'age': 31.19418104265403, 'sex': 'female'},\n",
       " {'pclass': '3rd', 'age': 31.19418104265403, 'sex': 'male'},\n",
       " {'pclass': '3rd', 'age': 23.0, 'sex': 'female'},\n",
       " {'pclass': '1st', 'age': 49.0, 'sex': 'male'},\n",
       " {'pclass': '1st', 'age': 27.0, 'sex': 'male'},\n",
       " {'pclass': '2nd', 'age': 59.0, 'sex': 'male'},\n",
       " {'pclass': '1st', 'age': 28.0, 'sex': 'female'},\n",
       " {'pclass': '2nd', 'age': 41.0, 'sex': 'male'},\n",
       " {'pclass': '3rd', 'age': 31.19418104265403, 'sex': 'male'},\n",
       " {'pclass': '3rd', 'age': 31.19418104265403, 'sex': 'male'},\n",
       " {'pclass': '3rd', 'age': 31.19418104265403, 'sex': 'female'},\n",
       " {'pclass': '3rd', 'age': 18.0, 'sex': 'female'},\n",
       " {'pclass': '1st', 'age': 27.0, 'sex': 'female'},\n",
       " {'pclass': '3rd', 'age': 31.19418104265403, 'sex': 'male'},\n",
       " {'pclass': '1st', 'age': 33.0, 'sex': 'female'},\n",
       " {'pclass': '2nd', 'age': 39.0, 'sex': 'male'},\n",
       " {'pclass': '2nd', 'age': 8.0, 'sex': 'male'},\n",
       " {'pclass': '3rd', 'age': 43.0, 'sex': 'male'},\n",
       " {'pclass': '1st', 'age': 44.0, 'sex': 'male'},\n",
       " {'pclass': '3rd', 'age': 31.19418104265403, 'sex': 'male'},\n",
       " {'pclass': '2nd', 'age': 30.0, 'sex': 'female'},\n",
       " {'pclass': '2nd', 'age': 31.0, 'sex': 'female'},\n",
       " {'pclass': '1st', 'age': 36.0, 'sex': 'male'},\n",
       " {'pclass': '2nd', 'age': 25.0, 'sex': 'male'},\n",
       " {'pclass': '3rd', 'age': 31.19418104265403, 'sex': 'male'},\n",
       " {'pclass': '3rd', 'age': 26.0, 'sex': 'male'},\n",
       " {'pclass': '2nd', 'age': 30.0, 'sex': 'male'},\n",
       " {'pclass': '2nd', 'age': 31.19418104265403, 'sex': 'female'},\n",
       " {'pclass': '1st', 'age': 31.19418104265403, 'sex': 'male'},\n",
       " {'pclass': '1st', 'age': 31.19418104265403, 'sex': 'female'},\n",
       " {'pclass': '1st', 'age': 31.0, 'sex': 'male'},\n",
       " {'pclass': '1st', 'age': 31.19418104265403, 'sex': 'female'},\n",
       " {'pclass': '3rd', 'age': 26.0, 'sex': 'male'},\n",
       " {'pclass': '2nd', 'age': 31.19418104265403, 'sex': 'male'},\n",
       " {'pclass': '3rd', 'age': 32.0, 'sex': 'male'},\n",
       " {'pclass': '1st', 'age': 31.19418104265403, 'sex': 'female'},\n",
       " {'pclass': '2nd', 'age': 18.0, 'sex': 'male'},\n",
       " {'pclass': '1st', 'age': 61.0, 'sex': 'male'},\n",
       " {'pclass': '3rd', 'age': 29.0, 'sex': 'male'},\n",
       " {'pclass': '2nd', 'age': 29.0, 'sex': 'female'},\n",
       " {'pclass': '3rd', 'age': 20.0, 'sex': 'male'},\n",
       " {'pclass': '1st', 'age': 31.19418104265403, 'sex': 'male'},\n",
       " {'pclass': '1st', 'age': 31.19418104265403, 'sex': 'male'},\n",
       " {'pclass': '3rd', 'age': 31.19418104265403, 'sex': 'female'},\n",
       " {'pclass': '3rd', 'age': 31.19418104265403, 'sex': 'female'},\n",
       " {'pclass': '1st', 'age': 52.0, 'sex': 'female'},\n",
       " {'pclass': '2nd', 'age': 42.0, 'sex': 'female'},\n",
       " {'pclass': '3rd', 'age': 31.19418104265403, 'sex': 'male'},\n",
       " {'pclass': '3rd', 'age': 31.19418104265403, 'sex': 'male'},\n",
       " {'pclass': '1st', 'age': 31.19418104265403, 'sex': 'female'},\n",
       " {'pclass': '3rd', 'age': 31.19418104265403, 'sex': 'male'},\n",
       " {'pclass': '3rd', 'age': 31.19418104265403, 'sex': 'male'},\n",
       " {'pclass': '2nd', 'age': 2.0, 'sex': 'female'},\n",
       " {'pclass': '3rd', 'age': 31.19418104265403, 'sex': 'male'},\n",
       " {'pclass': '3rd', 'age': 31.19418104265403, 'sex': 'male'},\n",
       " {'pclass': '1st', 'age': 31.19418104265403, 'sex': 'male'},\n",
       " {'pclass': '3rd', 'age': 18.0, 'sex': 'male'},\n",
       " {'pclass': '3rd', 'age': 31.19418104265403, 'sex': 'male'},\n",
       " {'pclass': '1st', 'age': 25.0, 'sex': 'male'},\n",
       " {'pclass': '3rd', 'age': 17.0, 'sex': 'female'},\n",
       " {'pclass': '1st', 'age': 15.0, 'sex': 'female'},\n",
       " {'pclass': '3rd', 'age': 31.19418104265403, 'sex': 'male'},\n",
       " {'pclass': '3rd', 'age': 31.19418104265403, 'sex': 'male'},\n",
       " {'pclass': '3rd', 'age': 19.0, 'sex': 'male'},\n",
       " {'pclass': '3rd', 'age': 31.19418104265403, 'sex': 'male'},\n",
       " {'pclass': '2nd', 'age': 49.0, 'sex': 'female'},\n",
       " {'pclass': '2nd', 'age': 45.0, 'sex': 'male'},\n",
       " {'pclass': '3rd', 'age': 31.19418104265403, 'sex': 'male'},\n",
       " {'pclass': '3rd', 'age': 31.19418104265403, 'sex': 'female'},\n",
       " {'pclass': '2nd', 'age': 20.0, 'sex': 'female'},\n",
       " {'pclass': '3rd', 'age': 3.0, 'sex': 'female'},\n",
       " {'pclass': '3rd', 'age': 28.0, 'sex': 'male'},\n",
       " {'pclass': '3rd', 'age': 31.19418104265403, 'sex': 'female'},\n",
       " {'pclass': '2nd', 'age': 31.19418104265403, 'sex': 'male'},\n",
       " {'pclass': '1st', 'age': 37.0, 'sex': 'male'},\n",
       " {'pclass': '3rd', 'age': 31.19418104265403, 'sex': 'male'},\n",
       " {'pclass': '1st', 'age': 57.0, 'sex': 'male'},\n",
       " {'pclass': '3rd', 'age': 31.19418104265403, 'sex': 'female'},\n",
       " {'pclass': '2nd', 'age': 24.0, 'sex': 'female'},\n",
       " {'pclass': '2nd', 'age': 30.0, 'sex': 'female'},\n",
       " {'pclass': '3rd', 'age': 31.19418104265403, 'sex': 'female'},\n",
       " {'pclass': '3rd', 'age': 31.19418104265403, 'sex': 'male'},\n",
       " {'pclass': '2nd', 'age': 31.19418104265403, 'sex': 'male'},\n",
       " {'pclass': '1st', 'age': 54.0, 'sex': 'female'},\n",
       " {'pclass': '3rd', 'age': 31.19418104265403, 'sex': 'male'},\n",
       " {'pclass': '3rd', 'age': 31.19418104265403, 'sex': 'male'},\n",
       " {'pclass': '2nd', 'age': 31.19418104265403, 'sex': 'male'},\n",
       " {'pclass': '3rd', 'age': 3.0, 'sex': 'male'},\n",
       " {'pclass': '3rd', 'age': 31.19418104265403, 'sex': 'female'},\n",
       " {'pclass': '3rd', 'age': 31.19418104265403, 'sex': 'male'},\n",
       " {'pclass': '3rd', 'age': 31.19418104265403, 'sex': 'female'},\n",
       " {'pclass': '2nd', 'age': 24.0, 'sex': 'male'},\n",
       " {'pclass': '1st', 'age': 28.0, 'sex': 'male'},\n",
       " {'pclass': '3rd', 'age': 31.19418104265403, 'sex': 'female'},\n",
       " {'pclass': '3rd', 'age': 31.19418104265403, 'sex': 'male'},\n",
       " {'pclass': '3rd', 'age': 24.0, 'sex': 'male'},\n",
       " {'pclass': '2nd', 'age': 31.19418104265403, 'sex': 'male'},\n",
       " {'pclass': '3rd', 'age': 31.19418104265403, 'sex': 'male'},\n",
       " {'pclass': '1st', 'age': 25.0, 'sex': 'female'},\n",
       " {'pclass': '1st', 'age': 17.0, 'sex': 'male'},\n",
       " {'pclass': '2nd', 'age': 45.0, 'sex': 'female'},\n",
       " {'pclass': '3rd', 'age': 31.19418104265403, 'sex': 'male'},\n",
       " {'pclass': '2nd', 'age': 48.0, 'sex': 'male'},\n",
       " {'pclass': '3rd', 'age': 23.0, 'sex': 'male'},\n",
       " {'pclass': '3rd', 'age': 31.19418104265403, 'sex': 'male'},\n",
       " {'pclass': '2nd', 'age': 30.0, 'sex': 'male'},\n",
       " {'pclass': '3rd', 'age': 31.19418104265403, 'sex': 'female'},\n",
       " {'pclass': '1st', 'age': 49.0, 'sex': 'male'},\n",
       " {'pclass': '3rd', 'age': 0.1667, 'sex': 'female'},\n",
       " {'pclass': '2nd', 'age': 8.0, 'sex': 'male'},\n",
       " {'pclass': '3rd', 'age': 35.0, 'sex': 'female'},\n",
       " {'pclass': '3rd', 'age': 31.19418104265403, 'sex': 'male'},\n",
       " {'pclass': '1st', 'age': 34.0, 'sex': 'male'},\n",
       " {'pclass': '2nd', 'age': 23.0, 'sex': 'male'},\n",
       " {'pclass': '2nd', 'age': 33.0, 'sex': 'female'},\n",
       " {'pclass': '2nd', 'age': 31.19418104265403, 'sex': 'male'},\n",
       " {'pclass': '3rd', 'age': 31.19418104265403, 'sex': 'male'},\n",
       " {'pclass': '2nd', 'age': 7.0, 'sex': 'female'},\n",
       " {'pclass': '3rd', 'age': 31.19418104265403, 'sex': 'female'},\n",
       " {'pclass': '3rd', 'age': 27.0, 'sex': 'male'},\n",
       " {'pclass': '1st', 'age': 31.19418104265403, 'sex': 'female'},\n",
       " {'pclass': '1st', 'age': 18.0, 'sex': 'male'},\n",
       " {'pclass': '2nd', 'age': 50.0, 'sex': 'female'},\n",
       " {'pclass': '1st', 'age': 39.0, 'sex': 'female'},\n",
       " {'pclass': '3rd', 'age': 31.19418104265403, 'sex': 'male'},\n",
       " {'pclass': '1st', 'age': 31.19418104265403, 'sex': 'male'},\n",
       " {'pclass': '3rd', 'age': 31.19418104265403, 'sex': 'male'},\n",
       " {'pclass': '1st', 'age': 50.0, 'sex': 'male'},\n",
       " {'pclass': '3rd', 'age': 31.19418104265403, 'sex': 'male'},\n",
       " {'pclass': '2nd', 'age': 26.0, 'sex': 'male'},\n",
       " {'pclass': '3rd', 'age': 31.19418104265403, 'sex': 'female'},\n",
       " {'pclass': '1st', 'age': 46.0, 'sex': 'male'},\n",
       " {'pclass': '1st', 'age': 35.0, 'sex': 'female'},\n",
       " {'pclass': '2nd', 'age': 25.0, 'sex': 'male'},\n",
       " {'pclass': '3rd', 'age': 31.19418104265403, 'sex': 'male'},\n",
       " {'pclass': '3rd', 'age': 30.0, 'sex': 'male'},\n",
       " {'pclass': '1st', 'age': 24.0, 'sex': 'female'},\n",
       " {'pclass': '2nd', 'age': 31.19418104265403, 'sex': 'male'},\n",
       " {'pclass': '2nd', 'age': 31.19418104265403, 'sex': 'male'},\n",
       " {'pclass': '3rd', 'age': 17.0, 'sex': 'male'},\n",
       " {'pclass': '2nd', 'age': 31.19418104265403, 'sex': 'female'},\n",
       " {'pclass': '3rd', 'age': 31.19418104265403, 'sex': 'female'},\n",
       " {'pclass': '1st', 'age': 27.0, 'sex': 'male'},\n",
       " {'pclass': '3rd', 'age': 31.19418104265403, 'sex': 'male'},\n",
       " {'pclass': '2nd', 'age': 31.0, 'sex': 'male'},\n",
       " {'pclass': '1st', 'age': 33.0, 'sex': 'male'},\n",
       " {'pclass': '1st', 'age': 31.19418104265403, 'sex': 'male'},\n",
       " {'pclass': '1st', 'age': 60.0, 'sex': 'female'},\n",
       " {'pclass': '3rd', 'age': 31.19418104265403, 'sex': 'male'},\n",
       " {'pclass': '2nd', 'age': 31.19418104265403, 'sex': 'male'},\n",
       " {'pclass': '1st', 'age': 58.0, 'sex': 'female'},\n",
       " {'pclass': '3rd', 'age': 20.0, 'sex': 'male'},\n",
       " {'pclass': '3rd', 'age': 33.0, 'sex': 'female'},\n",
       " {'pclass': '3rd', 'age': 31.19418104265403, 'sex': 'female'},\n",
       " {'pclass': '3rd', 'age': 31.19418104265403, 'sex': 'male'},\n",
       " {'pclass': '2nd', 'age': 31.19418104265403, 'sex': 'male'},\n",
       " {'pclass': '1st', 'age': 31.19418104265403, 'sex': 'male'},\n",
       " {'pclass': '3rd', 'age': 38.0, 'sex': 'female'},\n",
       " {'pclass': '3rd', 'age': 31.19418104265403, 'sex': 'female'},\n",
       " {'pclass': '1st', 'age': 31.19418104265403, 'sex': 'male'},\n",
       " {'pclass': '2nd', 'age': 31.19418104265403, 'sex': 'male'},\n",
       " {'pclass': '1st', 'age': 30.0, 'sex': 'male'},\n",
       " {'pclass': '2nd', 'age': 31.19418104265403, 'sex': 'female'},\n",
       " {'pclass': '3rd', 'age': 31.19418104265403, 'sex': 'female'},\n",
       " {'pclass': '2nd', 'age': 21.0, 'sex': 'male'},\n",
       " {'pclass': '1st', 'age': 54.0, 'sex': 'male'},\n",
       " {'pclass': '1st', 'age': 63.0, 'sex': 'female'},\n",
       " {'pclass': '3rd', 'age': 31.19418104265403, 'sex': 'female'},\n",
       " {'pclass': '1st', 'age': 0.9167, 'sex': 'male'},\n",
       " {'pclass': '3rd', 'age': 11.0, 'sex': 'male'},\n",
       " {'pclass': '3rd', 'age': 31.19418104265403, 'sex': 'male'},\n",
       " {'pclass': '2nd', 'age': 21.0, 'sex': 'male'},\n",
       " {'pclass': '3rd', 'age': 31.19418104265403, 'sex': 'male'},\n",
       " {'pclass': '1st', 'age': 31.19418104265403, 'sex': 'male'},\n",
       " {'pclass': '1st', 'age': 19.0, 'sex': 'female'},\n",
       " {'pclass': '3rd', 'age': 24.0, 'sex': 'male'},\n",
       " {'pclass': '3rd', 'age': 43.0, 'sex': 'female'},\n",
       " {'pclass': '1st', 'age': 2.0, 'sex': 'female'},\n",
       " {'pclass': '3rd', 'age': 25.0, 'sex': 'male'},\n",
       " {'pclass': '2nd', 'age': 45.0, 'sex': 'male'},\n",
       " {'pclass': '3rd', 'age': 31.19418104265403, 'sex': 'male'},\n",
       " {'pclass': '3rd', 'age': 31.19418104265403, 'sex': 'male'},\n",
       " {'pclass': '3rd', 'age': 31.19418104265403, 'sex': 'female'},\n",
       " {'pclass': '1st', 'age': 26.0, 'sex': 'female'},\n",
       " {'pclass': '2nd', 'age': 31.19418104265403, 'sex': 'male'},\n",
       " {'pclass': '3rd', 'age': 31.19418104265403, 'sex': 'female'},\n",
       " {'pclass': '3rd', 'age': 31.19418104265403, 'sex': 'female'},\n",
       " {'pclass': '1st', 'age': 31.19418104265403, 'sex': 'female'},\n",
       " {'pclass': '1st', 'age': 56.0, 'sex': 'male'},\n",
       " {'pclass': '3rd', 'age': 19.0, 'sex': 'male'},\n",
       " {'pclass': '1st', 'age': 19.0, 'sex': 'male'},\n",
       " {'pclass': '3rd', 'age': 31.19418104265403, 'sex': 'male'},\n",
       " {'pclass': '3rd', 'age': 31.19418104265403, 'sex': 'male'},\n",
       " {'pclass': '1st', 'age': 31.19418104265403, 'sex': 'female'},\n",
       " {'pclass': '3rd', 'age': 31.19418104265403, 'sex': 'male'},\n",
       " {'pclass': '2nd', 'age': 4.0, 'sex': 'female'},\n",
       " {'pclass': '2nd', 'age': 31.19418104265403, 'sex': 'male'},\n",
       " {'pclass': '3rd', 'age': 45.0, 'sex': 'male'},\n",
       " {'pclass': '2nd', 'age': 22.0, 'sex': 'female'},\n",
       " {'pclass': '1st', 'age': 64.0, 'sex': 'male'},\n",
       " {'pclass': '1st', 'age': 31.19418104265403, 'sex': 'male'},\n",
       " {'pclass': '3rd', 'age': 31.19418104265403, 'sex': 'female'},\n",
       " {'pclass': '3rd', 'age': 31.19418104265403, 'sex': 'male'},\n",
       " {'pclass': '2nd', 'age': 31.19418104265403, 'sex': 'male'},\n",
       " {'pclass': '2nd', 'age': 32.0, 'sex': 'male'},\n",
       " {'pclass': '3rd', 'age': 31.19418104265403, 'sex': 'male'},\n",
       " {'pclass': '3rd', 'age': 21.0, 'sex': 'male'},\n",
       " {'pclass': '3rd', 'age': 31.19418104265403, 'sex': 'female'},\n",
       " {'pclass': '1st', 'age': 31.19418104265403, 'sex': 'male'},\n",
       " {'pclass': '2nd', 'age': 31.19418104265403, 'sex': 'male'},\n",
       " {'pclass': '3rd', 'age': 31.19418104265403, 'sex': 'male'},\n",
       " {'pclass': '3rd', 'age': 17.0, 'sex': 'male'},\n",
       " {'pclass': '1st', 'age': 55.0, 'sex': 'male'},\n",
       " {'pclass': '3rd', 'age': 31.19418104265403, 'sex': 'female'},\n",
       " {'pclass': '2nd', 'age': 34.0, 'sex': 'male'},\n",
       " {'pclass': '3rd', 'age': 43.0, 'sex': 'male'},\n",
       " {'pclass': '2nd', 'age': 31.19418104265403, 'sex': 'male'},\n",
       " {'pclass': '3rd', 'age': 31.19418104265403, 'sex': 'male'},\n",
       " {'pclass': '3rd', 'age': 17.0, 'sex': 'male'},\n",
       " {'pclass': '1st', 'age': 31.19418104265403, 'sex': 'male'},\n",
       " {'pclass': '1st', 'age': 51.0, 'sex': 'female'},\n",
       " {'pclass': '2nd', 'age': 35.0, 'sex': 'male'},\n",
       " {'pclass': '1st', 'age': 31.19418104265403, 'sex': 'female'},\n",
       " {'pclass': '1st', 'age': 31.19418104265403, 'sex': 'male'},\n",
       " {'pclass': '1st', 'age': 31.19418104265403, 'sex': 'female'},\n",
       " {'pclass': '3rd', 'age': 22.0, 'sex': 'male'},\n",
       " {'pclass': '2nd', 'age': 31.19418104265403, 'sex': 'female'},\n",
       " {'pclass': '3rd', 'age': 31.19418104265403, 'sex': 'male'},\n",
       " {'pclass': '2nd', 'age': 24.0, 'sex': 'female'},\n",
       " {'pclass': '2nd', 'age': 31.19418104265403, 'sex': 'male'},\n",
       " {'pclass': '1st', 'age': 21.0, 'sex': 'female'},\n",
       " {'pclass': '1st', 'age': 31.19418104265403, 'sex': 'male'},\n",
       " {'pclass': '2nd', 'age': 26.0, 'sex': 'male'},\n",
       " {'pclass': '3rd', 'age': 26.0, 'sex': 'male'},\n",
       " {'pclass': '1st', 'age': 27.0, 'sex': 'female'},\n",
       " {'pclass': '3rd', 'age': 31.19418104265403, 'sex': 'male'},\n",
       " {'pclass': '1st', 'age': 53.0, 'sex': 'female'},\n",
       " {'pclass': '3rd', 'age': 40.0, 'sex': 'female'},\n",
       " {'pclass': '3rd', 'age': 31.19418104265403, 'sex': 'male'},\n",
       " {'pclass': '3rd', 'age': 41.0, 'sex': 'male'},\n",
       " {'pclass': '1st', 'age': 31.19418104265403, 'sex': 'male'},\n",
       " {'pclass': '1st', 'age': 36.0, 'sex': 'female'},\n",
       " {'pclass': '3rd', 'age': 31.19418104265403, 'sex': 'female'},\n",
       " {'pclass': '1st', 'age': 69.0, 'sex': 'female'},\n",
       " {'pclass': '1st', 'age': 24.0, 'sex': 'male'},\n",
       " {'pclass': '3rd', 'age': 31.19418104265403, 'sex': 'female'},\n",
       " {'pclass': '1st', 'age': 31.19418104265403, 'sex': 'female'},\n",
       " {'pclass': '2nd', 'age': 30.0, 'sex': 'male'},\n",
       " {'pclass': '3rd', 'age': 31.19418104265403, 'sex': 'male'},\n",
       " {'pclass': '1st', 'age': 28.0, 'sex': 'male'},\n",
       " {'pclass': '2nd', 'age': 29.0, 'sex': 'male'},\n",
       " {'pclass': '3rd', 'age': 31.19418104265403, 'sex': 'male'},\n",
       " {'pclass': '1st', 'age': 24.0, 'sex': 'male'},\n",
       " {'pclass': '1st', 'age': 31.19418104265403, 'sex': 'male'},\n",
       " {'pclass': '1st', 'age': 31.19418104265403, 'sex': 'male'},\n",
       " {'pclass': '1st', 'age': 49.0, 'sex': 'male'},\n",
       " {'pclass': '2nd', 'age': 22.0, 'sex': 'male'},\n",
       " {'pclass': '2nd', 'age': 26.0, 'sex': 'male'},\n",
       " {'pclass': '1st', 'age': 48.0, 'sex': 'male'},\n",
       " {'pclass': '1st', 'age': 47.0, 'sex': 'male'},\n",
       " {'pclass': '3rd', 'age': 24.0, 'sex': 'male'},\n",
       " {'pclass': '2nd', 'age': 32.0, 'sex': 'male'},\n",
       " {'pclass': '3rd', 'age': 31.19418104265403, 'sex': 'female'},\n",
       " {'pclass': '3rd', 'age': 31.19418104265403, 'sex': 'female'},\n",
       " {'pclass': '1st', 'age': 53.0, 'sex': 'female'},\n",
       " {'pclass': '2nd', 'age': 45.0, 'sex': 'female'},\n",
       " {'pclass': '3rd', 'age': 31.19418104265403, 'sex': 'male'},\n",
       " {'pclass': '1st', 'age': 67.0, 'sex': 'male'},\n",
       " {'pclass': '3rd', 'age': 31.19418104265403, 'sex': 'male'},\n",
       " {'pclass': '3rd', 'age': 31.19418104265403, 'sex': 'male'},\n",
       " {'pclass': '3rd', 'age': 2.0, 'sex': 'female'},\n",
       " {'pclass': '2nd', 'age': 32.0, 'sex': 'male'},\n",
       " {'pclass': '2nd', 'age': 2.0, 'sex': 'male'},\n",
       " {'pclass': '1st', 'age': 28.0, 'sex': 'male'},\n",
       " {'pclass': '3rd', 'age': 31.19418104265403, 'sex': 'male'},\n",
       " {'pclass': '2nd', 'age': 35.0, 'sex': 'female'},\n",
       " {'pclass': '2nd', 'age': 28.0, 'sex': 'male'},\n",
       " {'pclass': '1st', 'age': 6.0, 'sex': 'male'},\n",
       " {'pclass': '3rd', 'age': 31.19418104265403, 'sex': 'male'},\n",
       " {'pclass': '1st', 'age': 31.0, 'sex': 'male'},\n",
       " {'pclass': '2nd', 'age': 50.0, 'sex': 'female'},\n",
       " {'pclass': '3rd', 'age': 31.19418104265403, 'sex': 'male'},\n",
       " {'pclass': '1st', 'age': 36.0, 'sex': 'male'},\n",
       " {'pclass': '2nd', 'age': 31.19418104265403, 'sex': 'female'},\n",
       " {'pclass': '3rd', 'age': 31.19418104265403, 'sex': 'male'},\n",
       " {'pclass': '1st', 'age': 26.0, 'sex': 'male'},\n",
       " {'pclass': '3rd', 'age': 31.19418104265403, 'sex': 'male'},\n",
       " {'pclass': '3rd', 'age': 31.19418104265403, 'sex': 'male'},\n",
       " {'pclass': '1st', 'age': 56.0, 'sex': 'female'},\n",
       " {'pclass': '3rd', 'age': 31.19418104265403, 'sex': 'male'},\n",
       " {'pclass': '3rd', 'age': 31.19418104265403, 'sex': 'male'},\n",
       " {'pclass': '2nd', 'age': 19.0, 'sex': 'male'},\n",
       " {'pclass': '1st', 'age': 48.0, 'sex': 'female'},\n",
       " {'pclass': '3rd', 'age': 31.19418104265403, 'sex': 'male'},\n",
       " {'pclass': '1st', 'age': 31.0, 'sex': 'male'},\n",
       " {'pclass': '3rd', 'age': 31.19418104265403, 'sex': 'female'},\n",
       " {'pclass': '3rd', 'age': 31.19418104265403, 'sex': 'male'},\n",
       " {'pclass': '2nd', 'age': 1.0, 'sex': 'male'},\n",
       " {'pclass': '3rd', 'age': 31.19418104265403, 'sex': 'male'},\n",
       " {'pclass': '3rd', 'age': 27.0, 'sex': 'male'},\n",
       " {'pclass': '1st', 'age': 31.19418104265403, 'sex': 'female'},\n",
       " {'pclass': '1st', 'age': 31.19418104265403, 'sex': 'male'},\n",
       " {'pclass': '3rd', 'age': 16.0, 'sex': 'female'},\n",
       " {'pclass': '3rd', 'age': 21.0, 'sex': 'male'},\n",
       " {'pclass': '3rd', 'age': 21.0, 'sex': 'male'},\n",
       " {'pclass': '3rd', 'age': 1.0, 'sex': 'male'},\n",
       " {'pclass': '3rd', 'age': 31.19418104265403, 'sex': 'female'},\n",
       " {'pclass': '1st', 'age': 31.19418104265403, 'sex': 'female'},\n",
       " {'pclass': '3rd', 'age': 31.19418104265403, 'sex': 'female'},\n",
       " {'pclass': '3rd', 'age': 30.0, 'sex': 'female'},\n",
       " {'pclass': '3rd', 'age': 16.0, 'sex': 'female'},\n",
       " {'pclass': '3rd', 'age': 25.0, 'sex': 'male'},\n",
       " {'pclass': '3rd', 'age': 31.19418104265403, 'sex': 'female'},\n",
       " {'pclass': '3rd', 'age': 4.0, 'sex': 'male'},\n",
       " {'pclass': '2nd', 'age': 30.0, 'sex': 'female'},\n",
       " {'pclass': '1st', 'age': 31.19418104265403, 'sex': 'male'},\n",
       " {'pclass': '3rd', 'age': 31.19418104265403, 'sex': 'male'},\n",
       " {'pclass': '3rd', 'age': 31.19418104265403, 'sex': 'male'},\n",
       " {'pclass': '3rd', 'age': 31.19418104265403, 'sex': 'male'},\n",
       " {'pclass': '3rd', 'age': 31.19418104265403, 'sex': 'female'},\n",
       " {'pclass': '3rd', 'age': 23.0, 'sex': 'male'},\n",
       " {'pclass': '1st', 'age': 16.0, 'sex': 'female'},\n",
       " {'pclass': '3rd', 'age': 31.19418104265403, 'sex': 'female'},\n",
       " {'pclass': '1st', 'age': 36.0, 'sex': 'female'},\n",
       " {'pclass': '3rd', 'age': 31.19418104265403, 'sex': 'male'},\n",
       " {'pclass': '3rd', 'age': 31.19418104265403, 'sex': 'male'},\n",
       " {'pclass': '3rd', 'age': 23.0, 'sex': 'male'},\n",
       " {'pclass': '1st', 'age': 40.0, 'sex': 'female'},\n",
       " {'pclass': '1st', 'age': 58.0, 'sex': 'female'},\n",
       " {'pclass': '3rd', 'age': 31.19418104265403, 'sex': 'male'},\n",
       " {'pclass': '3rd', 'age': 31.19418104265403, 'sex': 'male'},\n",
       " {'pclass': '1st', 'age': 31.19418104265403, 'sex': 'female'},\n",
       " {'pclass': '3rd', 'age': 31.19418104265403, 'sex': 'female'},\n",
       " {'pclass': '3rd', 'age': 31.19418104265403, 'sex': 'female'},\n",
       " {'pclass': '3rd', 'age': 31.19418104265403, 'sex': 'female'},\n",
       " {'pclass': '1st', 'age': 31.19418104265403, 'sex': 'female'},\n",
       " {'pclass': '3rd', 'age': 31.19418104265403, 'sex': 'male'},\n",
       " {'pclass': '2nd', 'age': 31.19418104265403, 'sex': 'male'},\n",
       " {'pclass': '1st', 'age': 60.0, 'sex': 'male'},\n",
       " {'pclass': '3rd', 'age': 31.19418104265403, 'sex': 'female'},\n",
       " {'pclass': '3rd', 'age': 32.0, 'sex': 'male'},\n",
       " {'pclass': '3rd', 'age': 31.19418104265403, 'sex': 'male'},\n",
       " {'pclass': '1st', 'age': 39.0, 'sex': 'female'},\n",
       " {'pclass': '3rd', 'age': 31.19418104265403, 'sex': 'female'},\n",
       " {'pclass': '3rd', 'age': 31.19418104265403, 'sex': 'male'},\n",
       " {'pclass': '3rd', 'age': 31.19418104265403, 'sex': 'male'},\n",
       " {'pclass': '2nd', 'age': 18.0, 'sex': 'male'},\n",
       " {'pclass': '3rd', 'age': 16.0, 'sex': 'female'},\n",
       " {'pclass': '2nd', 'age': 18.0, 'sex': 'male'},\n",
       " {'pclass': '2nd', 'age': 25.0, 'sex': 'male'},\n",
       " {'pclass': '1st', 'age': 31.19418104265403, 'sex': 'male'},\n",
       " {'pclass': '3rd', 'age': 31.19418104265403, 'sex': 'male'},\n",
       " {'pclass': '3rd', 'age': 31.19418104265403, 'sex': 'male'},\n",
       " {'pclass': '3rd', 'age': 31.19418104265403, 'sex': 'male'},\n",
       " {'pclass': '2nd', 'age': 27.0, 'sex': 'male'},\n",
       " {'pclass': '2nd', 'age': 42.0, 'sex': 'female'},\n",
       " {'pclass': '3rd', 'age': 38.0, 'sex': 'male'},\n",
       " {'pclass': '3rd', 'age': 31.19418104265403, 'sex': 'female'},\n",
       " {'pclass': '3rd', 'age': 32.0, 'sex': 'male'},\n",
       " {'pclass': '2nd', 'age': 20.0, 'sex': 'male'},\n",
       " {'pclass': '3rd', 'age': 31.19418104265403, 'sex': 'male'},\n",
       " {'pclass': '1st', 'age': 31.19418104265403, 'sex': 'male'},\n",
       " {'pclass': '3rd', 'age': 13.0, 'sex': 'male'},\n",
       " {'pclass': '3rd', 'age': 31.19418104265403, 'sex': 'male'},\n",
       " {'pclass': '3rd', 'age': 31.19418104265403, 'sex': 'male'},\n",
       " {'pclass': '3rd', 'age': 31.19418104265403, 'sex': 'male'},\n",
       " {'pclass': '2nd', 'age': 31.19418104265403, 'sex': 'female'},\n",
       " {'pclass': '2nd', 'age': 32.0, 'sex': 'male'},\n",
       " {'pclass': '2nd', 'age': 45.0, 'sex': 'male'},\n",
       " {'pclass': '3rd', 'age': 18.0, 'sex': 'male'},\n",
       " {'pclass': '3rd', 'age': 29.0, 'sex': 'male'},\n",
       " {'pclass': '3rd', 'age': 20.0, 'sex': 'male'},\n",
       " {'pclass': '2nd', 'age': 40.0, 'sex': 'male'},\n",
       " {'pclass': '3rd', 'age': 31.19418104265403, 'sex': 'female'},\n",
       " {'pclass': '3rd', 'age': 31.19418104265403, 'sex': 'male'},\n",
       " {'pclass': '2nd', 'age': 32.0, 'sex': 'female'},\n",
       " {'pclass': '2nd', 'age': 32.0, 'sex': 'female'},\n",
       " {'pclass': '3rd', 'age': 31.19418104265403, 'sex': 'male'},\n",
       " {'pclass': '2nd', 'age': 23.0, 'sex': 'male'},\n",
       " {'pclass': '3rd', 'age': 31.19418104265403, 'sex': 'female'},\n",
       " {'pclass': '3rd', 'age': 31.19418104265403, 'sex': 'male'},\n",
       " {'pclass': '3rd', 'age': 31.19418104265403, 'sex': 'female'},\n",
       " {'pclass': '3rd', 'age': 31.19418104265403, 'sex': 'male'},\n",
       " {'pclass': '1st', 'age': 31.19418104265403, 'sex': 'male'},\n",
       " {'pclass': '3rd', 'age': 31.19418104265403, 'sex': 'male'},\n",
       " {'pclass': '3rd', 'age': 31.19418104265403, 'sex': 'male'},\n",
       " {'pclass': '2nd', 'age': 31.19418104265403, 'sex': 'female'},\n",
       " {'pclass': '2nd', 'age': 3.0, 'sex': 'male'},\n",
       " {'pclass': '3rd', 'age': 31.19418104265403, 'sex': 'male'},\n",
       " {'pclass': '3rd', 'age': 31.19418104265403, 'sex': 'female'},\n",
       " {'pclass': '3rd', 'age': 35.0, 'sex': 'male'},\n",
       " {'pclass': '1st', 'age': 37.0, 'sex': 'female'},\n",
       " {'pclass': '3rd', 'age': 31.19418104265403, 'sex': 'female'},\n",
       " {'pclass': '3rd', 'age': 31.19418104265403, 'sex': 'male'},\n",
       " {'pclass': '1st', 'age': 47.0, 'sex': 'male'},\n",
       " {'pclass': '2nd', 'age': 21.0, 'sex': 'male'},\n",
       " {'pclass': '3rd', 'age': 22.0, 'sex': 'male'},\n",
       " {'pclass': '3rd', 'age': 22.0, 'sex': 'female'},\n",
       " {'pclass': '3rd', 'age': 25.0, 'sex': 'male'},\n",
       " {'pclass': '3rd', 'age': 31.19418104265403, 'sex': 'male'},\n",
       " {'pclass': '2nd', 'age': 48.0, 'sex': 'male'},\n",
       " {'pclass': '1st', 'age': 31.19418104265403, 'sex': 'female'},\n",
       " {'pclass': '3rd', 'age': 31.19418104265403, 'sex': 'female'},\n",
       " {'pclass': '2nd', 'age': 24.0, 'sex': 'male'},\n",
       " {'pclass': '3rd', 'age': 31.19418104265403, 'sex': 'male'},\n",
       " {'pclass': '2nd', 'age': 31.19418104265403, 'sex': 'female'},\n",
       " {'pclass': '3rd', 'age': 25.0, 'sex': 'male'},\n",
       " {'pclass': '3rd', 'age': 31.19418104265403, 'sex': 'male'},\n",
       " {'pclass': '3rd', 'age': 31.19418104265403, 'sex': 'male'},\n",
       " {'pclass': '3rd', 'age': 31.19418104265403, 'sex': 'male'},\n",
       " {'pclass': '1st', 'age': 45.0, 'sex': 'female'},\n",
       " {'pclass': '1st', 'age': 31.19418104265403, 'sex': 'male'},\n",
       " {'pclass': '3rd', 'age': 9.0, 'sex': 'male'},\n",
       " {'pclass': '3rd', 'age': 31.19418104265403, 'sex': 'male'},\n",
       " {'pclass': '3rd', 'age': 31.19418104265403, 'sex': 'male'},\n",
       " {'pclass': '3rd', 'age': 31.19418104265403, 'sex': 'male'},\n",
       " {'pclass': '1st', 'age': 59.0, 'sex': 'female'},\n",
       " {'pclass': '3rd', 'age': 31.19418104265403, 'sex': 'male'},\n",
       " {'pclass': '2nd', 'age': 19.0, 'sex': 'female'},\n",
       " {'pclass': '1st', 'age': 19.0, 'sex': 'female'},\n",
       " {'pclass': '3rd', 'age': 42.0, 'sex': 'male'},\n",
       " {'pclass': '3rd', 'age': 31.19418104265403, 'sex': 'female'},\n",
       " {'pclass': '3rd', 'age': 31.19418104265403, 'sex': 'female'},\n",
       " {'pclass': '2nd', 'age': 34.0, 'sex': 'male'},\n",
       " {'pclass': '3rd', 'age': 31.19418104265403, 'sex': 'male'},\n",
       " {'pclass': '1st', 'age': 31.19418104265403, 'sex': 'male'},\n",
       " {'pclass': '1st', 'age': 42.0, 'sex': 'male'},\n",
       " {'pclass': '3rd', 'age': 31.19418104265403, 'sex': 'male'},\n",
       " {'pclass': '2nd', 'age': 29.0, 'sex': 'male'},\n",
       " {'pclass': '3rd', 'age': 31.19418104265403, 'sex': 'male'},\n",
       " {'pclass': '1st', 'age': 38.0, 'sex': 'male'},\n",
       " {'pclass': '3rd', 'age': 31.19418104265403, 'sex': 'male'},\n",
       " {'pclass': '2nd', 'age': 33.0, 'sex': 'male'},\n",
       " {'pclass': '2nd', 'age': 19.0, 'sex': 'female'},\n",
       " {'pclass': '3rd', 'age': 31.19418104265403, 'sex': 'male'},\n",
       " {'pclass': '2nd', 'age': 41.0, 'sex': 'female'},\n",
       " {'pclass': '3rd', 'age': 24.0, 'sex': 'male'},\n",
       " {'pclass': '3rd', 'age': 31.19418104265403, 'sex': 'male'},\n",
       " {'pclass': '2nd', 'age': 34.0, 'sex': 'female'},\n",
       " {'pclass': '3rd', 'age': 31.19418104265403, 'sex': 'male'},\n",
       " {'pclass': '2nd', 'age': 33.0, 'sex': 'female'},\n",
       " {'pclass': '3rd', 'age': 31.19418104265403, 'sex': 'female'},\n",
       " {'pclass': '3rd', 'age': 31.19418104265403, 'sex': 'male'},\n",
       " {'pclass': '3rd', 'age': 5.0, 'sex': 'female'},\n",
       " {'pclass': '3rd', 'age': 31.19418104265403, 'sex': 'male'},\n",
       " {'pclass': '3rd', 'age': 31.19418104265403, 'sex': 'male'},\n",
       " {'pclass': '3rd', 'age': 31.19418104265403, 'sex': 'male'},\n",
       " {'pclass': '3rd', 'age': 31.19418104265403, 'sex': 'male'},\n",
       " {'pclass': '2nd', 'age': 31.19418104265403, 'sex': 'male'},\n",
       " {'pclass': '1st', 'age': 31.19418104265403, 'sex': 'male'},\n",
       " {'pclass': '3rd', 'age': 31.19418104265403, 'sex': 'male'},\n",
       " {'pclass': '3rd', 'age': 18.0, 'sex': 'male'},\n",
       " {'pclass': '3rd', 'age': 31.19418104265403, 'sex': 'male'},\n",
       " {'pclass': '2nd', 'age': 31.19418104265403, 'sex': 'male'},\n",
       " {'pclass': '3rd', 'age': 31.19418104265403, 'sex': 'male'},\n",
       " {'pclass': '2nd', 'age': 31.19418104265403, 'sex': 'male'},\n",
       " {'pclass': '3rd', 'age': 31.19418104265403, 'sex': 'female'},\n",
       " {'pclass': '3rd', 'age': 31.19418104265403, 'sex': 'male'},\n",
       " {'pclass': '3rd', 'age': 31.19418104265403, 'sex': 'male'},\n",
       " {'pclass': '3rd', 'age': 31.19418104265403, 'sex': 'male'},\n",
       " {'pclass': '2nd', 'age': 30.0, 'sex': 'male'},\n",
       " {'pclass': '1st', 'age': 42.0, 'sex': 'male'},\n",
       " {'pclass': '2nd', 'age': 14.0, 'sex': 'male'},\n",
       " {'pclass': '2nd', 'age': 29.0, 'sex': 'female'},\n",
       " {'pclass': '3rd', 'age': 31.19418104265403, 'sex': 'male'},\n",
       " {'pclass': '3rd', 'age': 31.19418104265403, 'sex': 'male'},\n",
       " {'pclass': '3rd', 'age': 30.0, 'sex': 'male'},\n",
       " {'pclass': '2nd', 'age': 31.19418104265403, 'sex': 'female'},\n",
       " {'pclass': '1st', 'age': 48.0, 'sex': 'male'},\n",
       " {'pclass': '1st', 'age': 31.19418104265403, 'sex': 'female'},\n",
       " {'pclass': '2nd', 'age': 18.0, 'sex': 'female'},\n",
       " {'pclass': '3rd', 'age': 31.19418104265403, 'sex': 'female'},\n",
       " {'pclass': '3rd', 'age': 35.0, 'sex': 'male'},\n",
       " {'pclass': '3rd', 'age': 31.19418104265403, 'sex': 'male'},\n",
       " {'pclass': '3rd', 'age': 31.19418104265403, 'sex': 'male'},\n",
       " {'pclass': '1st', 'age': 31.19418104265403, 'sex': 'female'},\n",
       " {'pclass': '3rd', 'age': 31.19418104265403, 'sex': 'male'},\n",
       " {'pclass': '3rd', 'age': 31.19418104265403, 'sex': 'female'},\n",
       " {'pclass': '3rd', 'age': 20.0, 'sex': 'female'},\n",
       " {'pclass': '2nd', 'age': 42.0, 'sex': 'male'},\n",
       " {'pclass': '1st', 'age': 31.19418104265403, 'sex': 'female'},\n",
       " {'pclass': '1st', 'age': 31.19418104265403, 'sex': 'female'},\n",
       " {'pclass': '2nd', 'age': 31.19418104265403, 'sex': 'male'},\n",
       " {'pclass': '2nd', 'age': 31.19418104265403, 'sex': 'male'},\n",
       " {'pclass': '3rd', 'age': 17.0, 'sex': 'female'},\n",
       " {'pclass': '3rd', 'age': 31.19418104265403, 'sex': 'male'},\n",
       " {'pclass': '3rd', 'age': 24.0, 'sex': 'male'},\n",
       " {'pclass': '1st', 'age': 71.0, 'sex': 'male'},\n",
       " {'pclass': '3rd', 'age': 31.19418104265403, 'sex': 'male'},\n",
       " {'pclass': '1st', 'age': 29.0, 'sex': 'female'},\n",
       " {'pclass': '3rd', 'age': 23.0, 'sex': 'male'},\n",
       " {'pclass': '1st', 'age': 4.0, 'sex': 'male'},\n",
       " {'pclass': '1st', 'age': 31.19418104265403, 'sex': 'male'},\n",
       " {'pclass': '3rd', 'age': 31.19418104265403, 'sex': 'female'},\n",
       " {'pclass': '1st', 'age': 30.0, 'sex': 'female'},\n",
       " {'pclass': '3rd', 'age': 22.0, 'sex': 'female'},\n",
       " {'pclass': '3rd', 'age': 19.0, 'sex': 'male'},\n",
       " {'pclass': '3rd', 'age': 30.0, 'sex': 'female'},\n",
       " {'pclass': '2nd', 'age': 40.0, 'sex': 'female'},\n",
       " {'pclass': '2nd', 'age': 25.0, 'sex': 'female'},\n",
       " {'pclass': '3rd', 'age': 31.19418104265403, 'sex': 'male'},\n",
       " {'pclass': '3rd', 'age': 31.19418104265403, 'sex': 'male'},\n",
       " {'pclass': '3rd', 'age': 31.19418104265403, 'sex': 'female'},\n",
       " {'pclass': '3rd', 'age': 6.0, 'sex': 'female'},\n",
       " {'pclass': '2nd', 'age': 50.0, 'sex': 'female'},\n",
       " {'pclass': '3rd', 'age': 31.19418104265403, 'sex': 'female'},\n",
       " {'pclass': '1st', 'age': 71.0, 'sex': 'male'},\n",
       " {'pclass': '3rd', 'age': 31.19418104265403, 'sex': 'male'},\n",
       " {'pclass': '3rd', 'age': 31.19418104265403, 'sex': 'male'},\n",
       " {'pclass': '3rd', 'age': 9.0, 'sex': 'female'},\n",
       " {'pclass': '2nd', 'age': 23.0, 'sex': 'male'},\n",
       " {'pclass': '2nd', 'age': 31.19418104265403, 'sex': 'female'},\n",
       " {'pclass': '3rd', 'age': 31.19418104265403, 'sex': 'male'},\n",
       " {'pclass': '2nd', 'age': 28.0, 'sex': 'male'},\n",
       " {'pclass': '1st', 'age': 31.19418104265403, 'sex': 'male'},\n",
       " {'pclass': '2nd', 'age': 53.0, 'sex': 'female'},\n",
       " {'pclass': '1st', 'age': 31.19418104265403, 'sex': 'male'},\n",
       " {'pclass': '2nd', 'age': 71.0, 'sex': 'male'},\n",
       " {'pclass': '1st', 'age': 46.0, 'sex': 'male'},\n",
       " {'pclass': '1st', 'age': 49.0, 'sex': 'male'},\n",
       " {'pclass': '1st', 'age': 31.19418104265403, 'sex': 'female'},\n",
       " {'pclass': '3rd', 'age': 31.19418104265403, 'sex': 'female'},\n",
       " {'pclass': '2nd', 'age': 1.0, 'sex': 'female'},\n",
       " {'pclass': '2nd', 'age': 46.0, 'sex': 'male'},\n",
       " {'pclass': '3rd', 'age': 31.19418104265403, 'sex': 'male'},\n",
       " {'pclass': '3rd', 'age': 31.19418104265403, 'sex': 'male'},\n",
       " {'pclass': '2nd', 'age': 31.19418104265403, 'sex': 'male'},\n",
       " {'pclass': '3rd', 'age': 31.19418104265403, 'sex': 'male'},\n",
       " {'pclass': '3rd', 'age': 37.0, 'sex': 'female'},\n",
       " {'pclass': '3rd', 'age': 31.19418104265403, 'sex': 'male'},\n",
       " {'pclass': '3rd', 'age': 34.0, 'sex': 'male'},\n",
       " {'pclass': '1st', 'age': 22.0, 'sex': 'male'},\n",
       " {'pclass': '3rd', 'age': 31.19418104265403, 'sex': 'male'},\n",
       " {'pclass': '1st', 'age': 19.0, 'sex': 'female'},\n",
       " {'pclass': '3rd', 'age': 31.19418104265403, 'sex': 'male'},\n",
       " {'pclass': '3rd', 'age': 31.19418104265403, 'sex': 'male'},\n",
       " {'pclass': '3rd', 'age': 31.19418104265403, 'sex': 'male'},\n",
       " {'pclass': '1st', 'age': 46.0, 'sex': 'male'},\n",
       " {'pclass': '1st', 'age': 58.0, 'sex': 'male'},\n",
       " {'pclass': '3rd', 'age': 31.19418104265403, 'sex': 'male'},\n",
       " {'pclass': '3rd', 'age': 22.0, 'sex': 'female'},\n",
       " {'pclass': '1st', 'age': 45.0, 'sex': 'male'},\n",
       " {'pclass': '1st', 'age': 35.0, 'sex': 'male'},\n",
       " {'pclass': '2nd', 'age': 41.0, 'sex': 'male'},\n",
       " {'pclass': '1st', 'age': 46.0, 'sex': 'female'},\n",
       " {'pclass': '1st', 'age': 36.0, 'sex': 'female'},\n",
       " {'pclass': '2nd', 'age': 24.0, 'sex': 'female'},\n",
       " {'pclass': '3rd', 'age': 31.19418104265403, 'sex': 'male'},\n",
       " {'pclass': '2nd', 'age': 44.0, 'sex': 'male'},\n",
       " {'pclass': '1st', 'age': 57.0, 'sex': 'male'},\n",
       " {'pclass': '3rd', 'age': 9.0, 'sex': 'female'},\n",
       " {'pclass': '2nd', 'age': 23.0, 'sex': 'male'},\n",
       " {'pclass': '3rd', 'age': 31.19418104265403, 'sex': 'male'},\n",
       " {'pclass': '3rd', 'age': 31.19418104265403, 'sex': 'male'},\n",
       " {'pclass': '3rd', 'age': 31.19418104265403, 'sex': 'female'},\n",
       " {'pclass': '3rd', 'age': 24.0, 'sex': 'male'},\n",
       " {'pclass': '1st', 'age': 47.0, 'sex': 'female'},\n",
       " {'pclass': '2nd', 'age': 50.0, 'sex': 'male'},\n",
       " {'pclass': '1st', 'age': 50.0, 'sex': 'female'},\n",
       " {'pclass': '2nd', 'age': 34.0, 'sex': 'male'},\n",
       " {'pclass': '1st', 'age': 31.19418104265403, 'sex': 'male'},\n",
       " {'pclass': '3rd', 'age': 31.19418104265403, 'sex': 'male'},\n",
       " {'pclass': '3rd', 'age': 31.19418104265403, 'sex': 'male'},\n",
       " {'pclass': '3rd', 'age': 31.19418104265403, 'sex': 'female'},\n",
       " {'pclass': '3rd', 'age': 31.19418104265403, 'sex': 'female'},\n",
       " {'pclass': '3rd', 'age': 31.19418104265403, 'sex': 'male'},\n",
       " {'pclass': '3rd', 'age': 38.0, 'sex': 'male'},\n",
       " {'pclass': '1st', 'age': 22.0, 'sex': 'female'},\n",
       " {'pclass': '3rd', 'age': 31.19418104265403, 'sex': 'female'},\n",
       " {'pclass': '2nd', 'age': 18.0, 'sex': 'female'},\n",
       " {'pclass': '3rd', 'age': 31.19418104265403, 'sex': 'female'},\n",
       " {'pclass': '2nd', 'age': 31.19418104265403, 'sex': 'male'},\n",
       " {'pclass': '2nd', 'age': 31.19418104265403, 'sex': 'male'},\n",
       " {'pclass': '3rd', 'age': 28.0, 'sex': 'male'},\n",
       " {'pclass': '2nd', 'age': 34.0, 'sex': 'male'},\n",
       " {'pclass': '1st', 'age': 46.0, 'sex': 'male'},\n",
       " {'pclass': '3rd', 'age': 31.19418104265403, 'sex': 'male'}]"
      ]
     },
     "execution_count": 51,
     "metadata": {},
     "output_type": "execute_result"
    }
   ],
   "execution_count": 51
  },
  {
   "metadata": {
    "ExecuteTime": {
     "end_time": "2025-01-13T09:21:05.554615Z",
     "start_time": "2025-01-13T09:21:05.544959Z"
    }
   },
   "cell_type": "code",
   "source": [
    "# 进行处理（特征工程）特征-》类别-》one_hot编码\n",
    "dict = DictVectorizer(sparse=False) # sparse=False表示不用稀疏矩阵\n",
    "\n",
    "# 这一步是对字典进行特征抽取,to_dict可以把df变为字典，records代表列名变为键\n",
    "x_train = dict.fit_transform(x_train.to_dict(orient=\"records\"))\n",
    "print(type(x_train)) \n",
    "print(dict.get_feature_names_out())\n",
    "print('-' * 50)\n",
    "x_test = dict.transform(x_test.to_dict(orient=\"records\"))\n",
    "print(x_train)"
   ],
   "id": "9f43542a22a5851e",
   "outputs": [
    {
     "name": "stdout",
     "output_type": "stream",
     "text": [
      "<class 'numpy.ndarray'>\n",
      "['age' 'pclass=1st' 'pclass=2nd' 'pclass=3rd' 'sex=female' 'sex=male']\n",
      "--------------------------------------------------\n",
      "[[30.          0.          1.          0.          0.          1.        ]\n",
      " [62.          1.          0.          0.          0.          1.        ]\n",
      " [31.19418104  0.          0.          1.          1.          0.        ]\n",
      " ...\n",
      " [34.          0.          1.          0.          0.          1.        ]\n",
      " [46.          1.          0.          0.          0.          1.        ]\n",
      " [31.19418104  0.          0.          1.          0.          1.        ]]\n"
     ]
    }
   ],
   "execution_count": 52
  },
  {
   "metadata": {
    "ExecuteTime": {
     "end_time": "2025-01-13T09:21:05.573455Z",
     "start_time": "2025-01-13T09:21:05.554615Z"
    }
   },
   "cell_type": "code",
   "source": [
    "# 用决策树进行预测，修改max_depth试试,修改criterion为entropy\n",
    "#树过于复杂，就会产生过拟合\n",
    "dec = DecisionTreeClassifier()\n",
    "\n",
    "#训练\n",
    "dec.fit(x_train, y_train)\n",
    "\n",
    "# 预测准确率\n",
    "print(\"预测的准确率：\", dec.score(x_test, y_test))\n",
    "\n",
    "# 导出决策树的结构\n",
    "export_graphviz(dec, out_file=\"tree.dot\",feature_names=['age', 'pclass=1st', 'pclass=2nd', 'pclass=3rd', 'female', 'male'])"
   ],
   "id": "77a025f6cc8c2188",
   "outputs": [
    {
     "name": "stdout",
     "output_type": "stream",
     "text": [
      "预测的准确率： 0.8085106382978723\n"
     ]
    }
   ],
   "execution_count": 53
  },
  {
   "metadata": {},
   "cell_type": "markdown",
   "source": [
    "### sklearn.tree.DecisionTreeClassifier\n",
    "\n",
    "```\n",
    "python\n",
    "class sklearn.tree.DecisionTreeClassifier(criterion='gini', max_depth=None, random_state=None)\n",
    "```\n",
    "\n",
    "### 参数说明\n",
    "\n",
    "#### `criterion` （特征选择标准）\n",
    "- 可选值：`\"gini\"` 或 `\"entropy\"`\n",
    "- 默认值：`\"gini\"`，即基于基尼系数（CART算法）\n",
    "- 说明：\n",
    "  - `\"gini\"`：基尼系数\n",
    "  - `\"entropy\"`：信息增益\n",
    "\n",
    "#### `min_samples_split` （内部节点再划分所需最小样本数）\n",
    "- 默认值：`2`\n",
    "- 说明：\n",
    "  - 限制了子树继续划分的条件。如果某节点的样本数少于 `min_samples_split`，则不会继续选择最优特征进行划分。\n",
    "  - 样本量不大时可以使用默认值；若样本量非常大，则推荐增大此值。\n",
    "  - 示例：对于10万样本的数据，可以设置 `min_samples_split=10` 作为参考。\n",
    "\n",
    "#### `min_samples_leaf` （叶子节点最少样本数）\n",
    "- 默认值：`1`\n",
    "- 说明：\n",
    "  - 限制了叶子节点的最小样本数。如果某叶子节点的样本数小于此值，则会与其兄弟节点一起被剪枝。\n",
    "  - 可输入一个整数表示样本数，或小数表示占样本总数的百分比。\n",
    "  - 示例：对于10万样本的数据，可以设置 `min_samples_leaf=5` 作为参考。\n",
    "\n",
    "#### `max_depth` （决策树最大深度）\n",
    "- 默认值：`None` （不限制深度）\n",
    "- 说明：\n",
    "  - 限制决策树的最大深度。如果数据量或特征数量较大，建议设置此值以防止过拟合。\n",
    "  - 常用值范围：`10-100` 之间，根据具体数据分布调整。\n",
    "\n",
    "#### `random_state` （随机数种子）\n",
    "- 说明：\n",
    "  - 用于控制算法运行时的随机性，确保结果可复现。\n",
    "\n",
    "---"
   ],
   "id": "1e7f19579d439f96"
  },
  {
   "metadata": {
    "ExecuteTime": {
     "end_time": "2025-01-13T09:56:09.354620Z",
     "start_time": "2025-01-13T09:56:09.336006Z"
    }
   },
   "cell_type": "code",
   "source": [
    "#调整决策树的参数\n",
    "# 分割数据集到训练集合测试集\n",
    "x_train, x_test, y_train, y_test = train_test_split(x, y, test_size=0.25, random_state=4)\n",
    "# 进行处理（特征工程）特征-》类别-》one_hot编码\n",
    "dict = DictVectorizer(sparse=False)\n",
    "\n",
    "# 这一步是对字典进行特征抽取\n",
    "x_train = dict.fit_transform(x_train.to_dict(orient=\"records\"))\n",
    "x_test = dict.transform(x_test.to_dict(orient=\"records\"))\n",
    "\n",
    "# print(x_train)\n",
    "# 用决策树进行预测，修改max_depth为10，发现提升了,min_impurity_decrease带来的增益要大于0.01才会进行划分\n",
    "dec = DecisionTreeClassifier(max_depth=7,min_impurity_decrease=0.01,min_samples_split=20)\n",
    "\n",
    "dec.fit(x_train, y_train)\n",
    "\n",
    "# 预测准确率\n",
    "print(\"预测的准确率：\", dec.score(x_test, y_test))\n",
    "\n",
    "# 导出决策树的结构\n",
    "export_graphviz(dec, out_file=\"tree1.dot\", feature_names=dict.get_feature_names_out())"
   ],
   "id": "1f159280ee0b53e4",
   "outputs": [
    {
     "name": "stdout",
     "output_type": "stream",
     "text": [
      "预测的准确率： 0.8206686930091185\n"
     ]
    }
   ],
   "execution_count": 54
  },
  {
   "metadata": {},
   "cell_type": "markdown",
   "source": [
    "* 优点：\n",
    "- 简单的理解和解释，树木可视化。\n",
    "- 需要很少的数据准备，其他技术通常需要数据归一化，标准化（决策树不需要进行归一化和标准化）\n",
    "* 缺点：\n",
    "- 决策树学习者可以创建不能很好地推广数据的过于复杂的树，这被称为过拟合。\n",
    "- 决策树可能不稳定，因为数据的小变化可能会导致完全不同的树被生成（弱分类器）"
   ],
   "id": "8f4d0b8e88ac287"
  },
  {
   "metadata": {},
   "cell_type": "markdown",
   "source": [
    "### 随机森林\n",
    "在机器学习中，随机森林是一个包含多个决策树的分类器，并且其输出的类别是由个别树输出的类别的众数而定"
   ],
   "id": "a32a6dcc1af70465"
  },
  {
   "metadata": {
    "ExecuteTime": {
     "end_time": "2025-01-13T10:10:59.355486Z",
     "start_time": "2025-01-13T10:08:03.168228Z"
    }
   },
   "cell_type": "code",
   "source": [
    "# 随机森林进行预测 （超参数调优），n_jobs充分利用多核的一个参数\n",
    "rf = RandomForestClassifier(n_jobs=-1)\n",
    "# 120, 200, 300, 500, 800, 1200,n_estimators森林中决策树的数目，也就是分类器的数目\n",
    "# max_samples  是最大样本数\n",
    "#bagging类型\n",
    "param = {\"n_estimators\": [1500,2000, 5000], \"max_depth\": [2, 3, 5, 8, 15, 25]}\n",
    "\n",
    "# 网格搜索与交叉验证\n",
    "gc = GridSearchCV(rf, param_grid=param, cv=3)\n",
    "\n",
    "gc.fit(x_train, y_train)\n",
    "\n",
    "print(\"准确率：\", gc.score(x_test, y_test))\n",
    "\n",
    "print(\"查看选择的参数模型：\", gc.best_params_)\n",
    "\n",
    "print(\"选择最好的模型是：\", gc.best_estimator_)"
   ],
   "id": "f0137964d65aebb2",
   "outputs": [
    {
     "name": "stdout",
     "output_type": "stream",
     "text": [
      "准确率： 0.8328267477203647\n",
      "查看选择的参数模型： {'max_depth': 3, 'n_estimators': 1500}\n",
      "选择最好的模型是： RandomForestClassifier(max_depth=3, n_estimators=1500, n_jobs=-1)\n"
     ]
    }
   ],
   "execution_count": 55
  },
  {
   "metadata": {
    "ExecuteTime": {
     "end_time": "2025-01-13T10:11:14.524446Z",
     "start_time": "2025-01-13T10:11:14.520424Z"
    }
   },
   "cell_type": "code",
   "source": "print(\"每个超参数每次交叉验证的结果：\", gc.cv_results_)",
   "id": "55a07976b3c8f3b6",
   "outputs": [
    {
     "name": "stdout",
     "output_type": "stream",
     "text": [
      "每个超参数每次交叉验证的结果： {'mean_fit_time': array([1.53045042, 2.02830839, 5.07205017, 1.53012013, 2.04756331,\n",
      "       5.11021352, 1.54488961, 2.04744474, 5.11406994, 1.54032962,\n",
      "       2.06378675, 5.17004418, 1.55411267, 2.2410535 , 5.20420702,\n",
      "       1.52999679, 2.09405859, 5.16317932]), 'std_fit_time': array([0.01688135, 0.00866311, 0.05436627, 0.00933741, 0.00853653,\n",
      "       0.03394131, 0.01324001, 0.01162367, 0.01661884, 0.00306726,\n",
      "       0.00549089, 0.04053249, 0.00093875, 0.14319464, 0.05249656,\n",
      "       0.01168311, 0.06614526, 0.0487279 ]), 'mean_score_time': array([0.16769179, 0.21574179, 0.52160756, 0.16409111, 0.21601836,\n",
      "       0.52855094, 0.16393654, 0.23636556, 0.5215981 , 0.16609478,\n",
      "       0.21871098, 0.54130363, 0.17016832, 0.23139437, 0.52047968,\n",
      "       0.16340605, 0.2339433 , 0.53352563]), 'std_score_time': array([0.00370046, 0.00106293, 0.00059051, 0.00052359, 0.00061155,\n",
      "       0.00464492, 0.00063767, 0.02216718, 0.00177232, 0.00404266,\n",
      "       0.0046698 , 0.01486683, 0.00489894, 0.01390867, 0.00871911,\n",
      "       0.00077765, 0.02596329, 0.00862494]), 'param_max_depth': masked_array(data=[2, 2, 2, 3, 3, 3, 5, 5, 5, 8, 8, 8, 15, 15, 15, 25, 25,\n",
      "                   25],\n",
      "             mask=[False, False, False, False, False, False, False, False,\n",
      "                   False, False, False, False, False, False, False, False,\n",
      "                   False, False],\n",
      "       fill_value=999999), 'param_n_estimators': masked_array(data=[1500, 2000, 5000, 1500, 2000, 5000, 1500, 2000, 5000,\n",
      "                   1500, 2000, 5000, 1500, 2000, 5000, 1500, 2000, 5000],\n",
      "             mask=[False, False, False, False, False, False, False, False,\n",
      "                   False, False, False, False, False, False, False, False,\n",
      "                   False, False],\n",
      "       fill_value=999999), 'params': [{'max_depth': 2, 'n_estimators': 1500}, {'max_depth': 2, 'n_estimators': 2000}, {'max_depth': 2, 'n_estimators': 5000}, {'max_depth': 3, 'n_estimators': 1500}, {'max_depth': 3, 'n_estimators': 2000}, {'max_depth': 3, 'n_estimators': 5000}, {'max_depth': 5, 'n_estimators': 1500}, {'max_depth': 5, 'n_estimators': 2000}, {'max_depth': 5, 'n_estimators': 5000}, {'max_depth': 8, 'n_estimators': 1500}, {'max_depth': 8, 'n_estimators': 2000}, {'max_depth': 8, 'n_estimators': 5000}, {'max_depth': 15, 'n_estimators': 1500}, {'max_depth': 15, 'n_estimators': 2000}, {'max_depth': 15, 'n_estimators': 5000}, {'max_depth': 25, 'n_estimators': 1500}, {'max_depth': 25, 'n_estimators': 2000}, {'max_depth': 25, 'n_estimators': 5000}], 'split0_test_score': array([0.73780488, 0.73780488, 0.73780488, 0.80182927, 0.80182927,\n",
      "       0.80182927, 0.81097561, 0.81097561, 0.81097561, 0.82012195,\n",
      "       0.82012195, 0.82012195, 0.81402439, 0.81402439, 0.82012195,\n",
      "       0.81402439, 0.82012195, 0.82012195]), 'split1_test_score': array([0.82621951, 0.82621951, 0.82621951, 0.82317073, 0.82317073,\n",
      "       0.82317073, 0.81402439, 0.81402439, 0.81402439, 0.80792683,\n",
      "       0.81097561, 0.80792683, 0.81402439, 0.81402439, 0.81402439,\n",
      "       0.81707317, 0.81097561, 0.81402439]), 'split2_test_score': array([0.81707317, 0.81707317, 0.81707317, 0.82926829, 0.82926829,\n",
      "       0.82926829, 0.82317073, 0.82317073, 0.82317073, 0.79268293,\n",
      "       0.79268293, 0.79268293, 0.79573171, 0.79573171, 0.79573171,\n",
      "       0.79573171, 0.79573171, 0.79573171]), 'mean_test_score': array([0.79369919, 0.79369919, 0.79369919, 0.81808943, 0.81808943,\n",
      "       0.81808943, 0.81605691, 0.81605691, 0.81605691, 0.80691057,\n",
      "       0.80792683, 0.80691057, 0.80792683, 0.80792683, 0.80995935,\n",
      "       0.80894309, 0.80894309, 0.80995935]), 'std_test_score': array([0.03969924, 0.03969924, 0.03969924, 0.01176406, 0.01176406,\n",
      "       0.01176406, 0.00518193, 0.00518193, 0.00518193, 0.01122496,\n",
      "       0.01140749, 0.01122496, 0.00862325, 0.00862325, 0.01036386,\n",
      "       0.00942441, 0.01006046, 0.01036386]), 'rank_test_score': array([16, 16, 16,  1,  1,  1,  4,  4,  4, 14, 11, 14, 11, 11,  7,  9,  9,\n",
      "        7], dtype=int32)}\n"
     ]
    }
   ],
   "execution_count": 56
  }
 ],
 "metadata": {
  "kernelspec": {
   "display_name": "Python 3",
   "language": "python",
   "name": "python3"
  },
  "language_info": {
   "codemirror_mode": {
    "name": "ipython",
    "version": 2
   },
   "file_extension": ".py",
   "mimetype": "text/x-python",
   "name": "python",
   "nbconvert_exporter": "python",
   "pygments_lexer": "ipython2",
   "version": "2.7.6"
  }
 },
 "nbformat": 4,
 "nbformat_minor": 5
}
