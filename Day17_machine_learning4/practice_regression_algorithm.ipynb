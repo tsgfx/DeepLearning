{
 "cells": [
  {
   "cell_type": "code",
   "id": "initial_id",
   "metadata": {
    "collapsed": true,
    "ExecuteTime": {
     "end_time": "2025-01-14T13:08:04.845017Z",
     "start_time": "2025-01-14T13:08:04.841268Z"
    }
   },
   "source": [
    "import os\n",
    "from sklearn.datasets import fetch_california_housing\n",
    "from sklearn.linear_model import LinearRegression, SGDRegressor, Ridge, LogisticRegression, Lasso\n",
    "from sklearn.model_selection import train_test_split\n",
    "from sklearn.preprocessing import StandardScaler\n",
    "from sklearn.metrics import mean_squared_error, classification_report, roc_auc_score\n",
    "import joblib\n",
    "import pandas as pd\n",
    "import numpy as np"
   ],
   "outputs": [],
   "execution_count": 65
  },
  {
   "metadata": {},
   "cell_type": "markdown",
   "source": "",
   "id": "c85b30309d21dec8"
  },
  {
   "metadata": {},
   "cell_type": "markdown",
   "source": [
    "# 回归算法\n",
    "## 线性回归"
   ],
   "id": "8736fc94ba37ee41"
  },
  {
   "metadata": {
    "ExecuteTime": {
     "end_time": "2025-01-14T13:08:04.955511Z",
     "start_time": "2025-01-14T13:08:04.942986Z"
    }
   },
   "cell_type": "code",
   "source": [
    "\"\"\"\n",
    "线性回归直接预测房子价格\n",
    ":return: None\n",
    "\"\"\"\n",
    "# 加利福尼亚房价数据集\n",
    "fe_cal = fetch_california_housing(data_home='G:\\\\wangdao_python_short_class\\\\python_ml\\\\data')\n",
    "\n",
    "print(\"获取特征值\")\n",
    "print(fe_cal.data.shape)\n",
    "print('-' * 50)\n",
    "print(fe_cal.data[0])\n",
    "print(\"目标值\")\n",
    "print(fe_cal.target)  #单位是10万美金\n",
    "# print(fe_cal.DESCR)\n",
    "print('-' * 50)\n",
    "print(fe_cal.feature_names)  #特征列的名字"
   ],
   "id": "587a4c100eed64b2",
   "outputs": [
    {
     "name": "stdout",
     "output_type": "stream",
     "text": [
      "获取特征值\n",
      "(20640, 8)\n",
      "--------------------------------------------------\n",
      "[   8.3252       41.            6.98412698    1.02380952  322.\n",
      "    2.55555556   37.88       -122.23      ]\n",
      "目标值\n",
      "[4.526 3.585 3.521 ... 0.923 0.847 0.894]\n",
      "--------------------------------------------------\n",
      "['MedInc', 'HouseAge', 'AveRooms', 'AveBedrms', 'Population', 'AveOccup', 'Latitude', 'Longitude']\n"
     ]
    }
   ],
   "execution_count": 66
  },
  {
   "metadata": {
    "ExecuteTime": {
     "end_time": "2025-01-14T13:08:04.962989Z",
     "start_time": "2025-01-14T13:08:04.959501Z"
    }
   },
   "cell_type": "code",
   "source": "fe_cal.target.shape",
   "id": "bb22f22640204fd3",
   "outputs": [
    {
     "data": {
      "text/plain": [
       "(20640,)"
      ]
     },
     "execution_count": 67,
     "metadata": {},
     "output_type": "execute_result"
    }
   ],
   "execution_count": 67
  },
  {
   "metadata": {
    "ExecuteTime": {
     "end_time": "2025-01-14T13:08:04.979554Z",
     "start_time": "2025-01-14T13:08:04.970964Z"
    }
   },
   "cell_type": "code",
   "source": [
    "# 分割数据集到训练集和测试集\n",
    "x_train, x_test, y_train, y_test = train_test_split(fe_cal.data, fe_cal.target, test_size=0.25, random_state=1)\n",
    "\n",
    "print(x_train.shape)\n",
    "\n",
    "# 特征值和目标值是都必须进行标准化处理, 实例化两个标准化API\n",
    "std_x = StandardScaler()\n",
    "\n",
    "x_train = std_x.fit_transform(x_train)  #训练集标准化\n",
    "x_test = std_x.transform(x_test)  #测试集标准化\n",
    "\n",
    "print(y_train.shape)\n",
    "# 目标值进行了标准化，暂时没有对目标值进行标准化处理\n",
    "std_y = StandardScaler()\n",
    "\n",
    "# 标签进行标准化\n",
    "# 目标值是一维的，这里需要传进去2维的\n",
    "# y_train = std_y.fit_transform(y_train.reshape(-1, 1)) # -1表示不指定行数，1表示指定列数\n",
    "# print(y_train.shape)\n",
    "\n",
    "# y_test = std_y.transform(y_test.reshape(-1, 1)) # y_test不需要标准化, 因为x_test已经标准化过了,输出y_test时只需要inverse_transform即可\n",
    "# print(y_test.shape)"
   ],
   "id": "d57d846846866353",
   "outputs": [
    {
     "name": "stdout",
     "output_type": "stream",
     "text": [
      "(15480, 8)\n",
      "(15480,)\n"
     ]
    }
   ],
   "execution_count": 68
  },
  {
   "metadata": {},
   "cell_type": "markdown",
   "source": "### 未对目标值进行标准化处理的训练代码",
   "id": "dab7babf5b58e618"
  },
  {
   "metadata": {
    "ExecuteTime": {
     "end_time": "2025-01-14T13:08:05.005390Z",
     "start_time": "2025-01-14T13:08:04.996503Z"
    }
   },
   "cell_type": "code",
   "source": [
    "import os\n",
    "\n",
    "# estimator预测\n",
    "# 正规方程求解方式预测结果，正规方程进行线性回归\n",
    "lr = LinearRegression()\n",
    "\n",
    "# fit是耗时的\n",
    "lr.fit(x_train, y_train)\n",
    "\n",
    "# 回归系数可以看特征与目标之间的相关性\n",
    "print('回归系数', lr.coef_)\n",
    "\n",
    "# 预测值\n",
    "y_predict = lr.predict(x_test)\n",
    "\n",
    "# 保存训练好的模型，模型中保存的是w的值，也保存了模型结构\n",
    "# 保存模型放在fit之后即可\n",
    "os.unlink('./tmp/test.pkl')  # 删除之前的模型文件\n",
    "joblib.dump(lr, \"./tmp/test.pkl\")\n",
    "print(\"正规方程测试集里面每个房子的预测价格：\", y_predict[0:10])\n",
    "\n",
    "#下面是求测试集的损失，用均方误差，公式是(y_test-y_predict)^2/n\n",
    "print(\"正规方程的均方误差：\", mean_squared_error(y_test, y_predict))"
   ],
   "id": "32453177448e36ac",
   "outputs": [
    {
     "name": "stdout",
     "output_type": "stream",
     "text": [
      "回归系数 [ 0.83167028  0.12159502 -0.26758589  0.30983997 -0.00518054 -0.04040421\n",
      " -0.90736902 -0.88212727]\n",
      "正规方程测试集里面每个房子的预测价格： [2.12391852 0.93825754 2.7088455  1.70873764 2.82954754 3.50376456\n",
      " 3.0147162  1.62781292 1.74317518 2.01897806]\n",
      "正规方程的均方误差： 0.5356532845422556\n"
     ]
    }
   ],
   "execution_count": 69
  },
  {
   "metadata": {},
   "cell_type": "markdown",
   "source": "### 对目标值进行标准化处理的训练代码",
   "id": "7e1828486e498234"
  },
  {
   "metadata": {
    "ExecuteTime": {
     "end_time": "2025-01-14T13:08:05.010718Z",
     "start_time": "2025-01-14T13:08:05.007386Z"
    }
   },
   "cell_type": "code",
   "source": [
    "# lr = LinearRegression()\n",
    "# # fit是耗时的\n",
    "# lr.fit(x_train, y_train)\n",
    "# \n",
    "# # 回归系数可以看特征与目标之间的相关性\n",
    "# print('回归系数', lr.coef_)\n",
    "# \n",
    "# y_predict = lr.predict(x_test)  # 预测值\n",
    "# \n",
    "# # 保存训练好的模型，模型中保存的是w的值，也保存了模型结构\n",
    "# # 预测测试集的房子价格，通过inverse得到真正的房子价格\n",
    "# y_lr_predict = std_y.inverse_transform(y_predict)\n",
    "# \n",
    "# #保存模型放在fit之后即可\n",
    "# os.unlink('./tmp/test.pkl')  # 删除之前的模型文件\n",
    "# joblib.dump(lr, \"./tmp/test.pkl\")\n",
    "# print(\"正规方程测试集里面每个房子的预测价格：\", y_lr_predict[0:10])\n",
    "# print(\"正规方程的均方误差：\", mean_squared_error(y_test, y_lr_predict))"
   ],
   "id": "af7e2fde42d21990",
   "outputs": [],
   "execution_count": 70
  },
  {
   "metadata": {},
   "cell_type": "markdown",
   "source": "### 加载保存的模型",
   "id": "9a1dc84d44214aaf"
  },
  {
   "metadata": {
    "ExecuteTime": {
     "end_time": "2025-01-14T13:08:05.036014Z",
     "start_time": "2025-01-14T13:08:05.011716Z"
    }
   },
   "cell_type": "code",
   "source": [
    "#模拟上线时加载模型\n",
    "model = joblib.load(\"./tmp/test.pkl\")\n",
    "# # 因为目标值进行了标准化，一定要把预测后的值逆向转换回来\n",
    "y_predict = model.predict(x_test)\n",
    "\n",
    "# print(\"保存的模型预测的结果：\", y_predict[0:10])\n",
    "# print(\"正规方程的均方误差：\", mean_squared_error(y_test, y_predict))\n",
    "print(\"保存的y标准化后的模型预测的结果：\", std_y.inverse_transform(y_predict)[0:10])\n",
    "print(\"正规方程inverse后的均方误差：\", mean_squared_error(y_test, std_y.inverse_transform(y_predict)))"
   ],
   "id": "98c4b9bd5ce0e57d",
   "outputs": [
    {
     "ename": "NotFittedError",
     "evalue": "This StandardScaler instance is not fitted yet. Call 'fit' with appropriate arguments before using this estimator.",
     "output_type": "error",
     "traceback": [
      "\u001B[1;31m---------------------------------------------------------------------------\u001B[0m",
      "\u001B[1;31mNotFittedError\u001B[0m                            Traceback (most recent call last)",
      "Cell \u001B[1;32mIn[71], line 8\u001B[0m\n\u001B[0;32m      4\u001B[0m y_predict \u001B[38;5;241m=\u001B[39m model\u001B[38;5;241m.\u001B[39mpredict(x_test)\n\u001B[0;32m      6\u001B[0m \u001B[38;5;66;03m# print(\"保存的模型预测的结果：\", y_predict[0:10])\u001B[39;00m\n\u001B[0;32m      7\u001B[0m \u001B[38;5;66;03m# print(\"正规方程的均方误差：\", mean_squared_error(y_test, y_predict))\u001B[39;00m\n\u001B[1;32m----> 8\u001B[0m \u001B[38;5;28mprint\u001B[39m(\u001B[38;5;124m\"\u001B[39m\u001B[38;5;124m保存的y标准化后的模型预测的结果：\u001B[39m\u001B[38;5;124m\"\u001B[39m, \u001B[43mstd_y\u001B[49m\u001B[38;5;241;43m.\u001B[39;49m\u001B[43minverse_transform\u001B[49m\u001B[43m(\u001B[49m\u001B[43my_predict\u001B[49m\u001B[43m)\u001B[49m[\u001B[38;5;241m0\u001B[39m:\u001B[38;5;241m10\u001B[39m])\n\u001B[0;32m      9\u001B[0m \u001B[38;5;28mprint\u001B[39m(\u001B[38;5;124m\"\u001B[39m\u001B[38;5;124m正规方程inverse后的均方误差：\u001B[39m\u001B[38;5;124m\"\u001B[39m, mean_squared_error(y_test, std_y\u001B[38;5;241m.\u001B[39minverse_transform(y_predict)))\n",
      "File \u001B[1;32m~\\AppData\\Roaming\\Python\\Python312\\site-packages\\sklearn\\preprocessing\\_data.py:1103\u001B[0m, in \u001B[0;36mStandardScaler.inverse_transform\u001B[1;34m(self, X, copy)\u001B[0m\n\u001B[0;32m   1088\u001B[0m \u001B[38;5;28;01mdef\u001B[39;00m \u001B[38;5;21minverse_transform\u001B[39m(\u001B[38;5;28mself\u001B[39m, X, copy\u001B[38;5;241m=\u001B[39m\u001B[38;5;28;01mNone\u001B[39;00m):\n\u001B[0;32m   1089\u001B[0m \u001B[38;5;250m    \u001B[39m\u001B[38;5;124;03m\"\"\"Scale back the data to the original representation.\u001B[39;00m\n\u001B[0;32m   1090\u001B[0m \n\u001B[0;32m   1091\u001B[0m \u001B[38;5;124;03m    Parameters\u001B[39;00m\n\u001B[1;32m   (...)\u001B[0m\n\u001B[0;32m   1101\u001B[0m \u001B[38;5;124;03m        Transformed array.\u001B[39;00m\n\u001B[0;32m   1102\u001B[0m \u001B[38;5;124;03m    \"\"\"\u001B[39;00m\n\u001B[1;32m-> 1103\u001B[0m     \u001B[43mcheck_is_fitted\u001B[49m\u001B[43m(\u001B[49m\u001B[38;5;28;43mself\u001B[39;49m\u001B[43m)\u001B[49m\n\u001B[0;32m   1105\u001B[0m     copy \u001B[38;5;241m=\u001B[39m copy \u001B[38;5;28;01mif\u001B[39;00m copy \u001B[38;5;129;01mis\u001B[39;00m \u001B[38;5;129;01mnot\u001B[39;00m \u001B[38;5;28;01mNone\u001B[39;00m \u001B[38;5;28;01melse\u001B[39;00m \u001B[38;5;28mself\u001B[39m\u001B[38;5;241m.\u001B[39mcopy\n\u001B[0;32m   1106\u001B[0m     X \u001B[38;5;241m=\u001B[39m check_array(\n\u001B[0;32m   1107\u001B[0m         X,\n\u001B[0;32m   1108\u001B[0m         accept_sparse\u001B[38;5;241m=\u001B[39m\u001B[38;5;124m\"\u001B[39m\u001B[38;5;124mcsr\u001B[39m\u001B[38;5;124m\"\u001B[39m,\n\u001B[1;32m   (...)\u001B[0m\n\u001B[0;32m   1112\u001B[0m         ensure_all_finite\u001B[38;5;241m=\u001B[39m\u001B[38;5;124m\"\u001B[39m\u001B[38;5;124mallow-nan\u001B[39m\u001B[38;5;124m\"\u001B[39m,\n\u001B[0;32m   1113\u001B[0m     )\n",
      "File \u001B[1;32m~\\AppData\\Roaming\\Python\\Python312\\site-packages\\sklearn\\utils\\validation.py:1757\u001B[0m, in \u001B[0;36mcheck_is_fitted\u001B[1;34m(estimator, attributes, msg, all_or_any)\u001B[0m\n\u001B[0;32m   1754\u001B[0m     \u001B[38;5;28;01mreturn\u001B[39;00m\n\u001B[0;32m   1756\u001B[0m \u001B[38;5;28;01mif\u001B[39;00m \u001B[38;5;129;01mnot\u001B[39;00m _is_fitted(estimator, attributes, all_or_any):\n\u001B[1;32m-> 1757\u001B[0m     \u001B[38;5;28;01mraise\u001B[39;00m NotFittedError(msg \u001B[38;5;241m%\u001B[39m {\u001B[38;5;124m\"\u001B[39m\u001B[38;5;124mname\u001B[39m\u001B[38;5;124m\"\u001B[39m: \u001B[38;5;28mtype\u001B[39m(estimator)\u001B[38;5;241m.\u001B[39m\u001B[38;5;18m__name__\u001B[39m})\n",
      "\u001B[1;31mNotFittedError\u001B[0m: This StandardScaler instance is not fitted yet. Call 'fit' with appropriate arguments before using this estimator."
     ]
    }
   ],
   "execution_count": 71
  },
  {
   "metadata": {
    "ExecuteTime": {
     "end_time": "2025-01-14T13:08:05.037026Z",
     "start_time": "2025-01-14T13:08:05.037026Z"
    }
   },
   "cell_type": "code",
   "source": [
    "y_true = [3, -0.5, 2, 7]\n",
    "y_pred = [2.5, 0.0, 2, 8]\n",
    "print(mean_squared_error(y_true, y_pred))\n",
    "#人工求均方误差\n",
    "print((np.square(3 - 2.5) + np.square(0.5) + 1) / 4)"
   ],
   "id": "1b7cfe6761716058",
   "outputs": [],
   "execution_count": null
  },
  {
   "metadata": {},
   "cell_type": "markdown",
   "source": "### 线性回归——梯度下降进行房价预测",
   "id": "2e626bfde42a4ea0"
  },
  {
   "metadata": {
    "ExecuteTime": {
     "end_time": "2025-01-14T13:08:05.086041Z",
     "start_time": "2025-01-14T13:08:05.069903Z"
    }
   },
   "cell_type": "code",
   "source": [
    "# 梯度下降去进行房价预测,数据量大要用这个\n",
    "# learning_rate的不同方式，代表学习率变化的算法不一样,比如constant,invscaling,adaptive\n",
    "# 默认可以去调 eta0 = 0.008，会改变learning_rate的初始值\n",
    "# learning_rate='optimal',alpha是正则化力度，但是会影响学习率的值，由alpha来算学习率\n",
    "# penalty代表正则化，分为l1和l2\n",
    "# eta0=0.01, penalty='l2',max_iter=1000\n",
    "sgd = SGDRegressor(eta0=0.01, penalty='l2', max_iter=1000)\n",
    "\n",
    "# 训练\n",
    "sgd.fit(x_train, y_train)\n",
    "\n",
    "print('梯度下降的回归系数', sgd.coef_)\n",
    "\n",
    "# 预测测试集的房子价格\n",
    "# y_sgd_predict = std_y.inverse_transform(sgd.predict(x_test).reshape(-1, 1))\n",
    "y_predict = sgd.predict(x_test)\n",
    "# print(\"梯度下降测试集里面每个房子的预测价格：\", y_sgd_predict)\n",
    "print(\"梯度下降的均方误差：\", mean_squared_error(y_test, y_predict))\n",
    "# print(\"梯度下降的原始房价量纲均方误差：\", mean_squared_error(std_y.inverse_transform(y_test), y_sgd_predict))"
   ],
   "id": "a92be20b3e95def2",
   "outputs": [
    {
     "name": "stdout",
     "output_type": "stream",
     "text": [
      "梯度下降的回归系数 [ 0.81734007  0.08205921 -0.18716923  0.35843099 -0.01811783 -0.03743787\n",
      " -0.88172522 -0.84981291]\n",
      "梯度下降的均方误差： 0.5457861309468977\n"
     ]
    }
   ],
   "execution_count": 72
  },
  {
   "metadata": {
    "ExecuteTime": {
     "end_time": "2025-01-14T13:08:05.099376Z",
     "start_time": "2025-01-14T13:08:05.095013Z"
    }
   },
   "cell_type": "code",
   "source": [
    "# 梯度下降模拟\n",
    "w = 1\n",
    "alpha = 0.1\n",
    "\n",
    "\n",
    "def loss(w):\n",
    "    return 2 * w ** 2 + 3 * w + 2\n",
    "\n",
    "\n",
    "def dao_shu(w):\n",
    "    return 4 * w + 3\n",
    "\n",
    "\n",
    "for i in range(30):\n",
    "    w = w - alpha * dao_shu(w)\n",
    "    print(f'w {w} 损失{loss(w)}')"
   ],
   "id": "610924bd1ad89e9f",
   "outputs": [
    {
     "name": "stdout",
     "output_type": "stream",
     "text": [
      "w 0.29999999999999993 损失3.0799999999999996\n",
      "w -0.12 损失1.6688\n",
      "w -0.372 损失1.160768\n",
      "w -0.5232 损失0.9778764800000002\n",
      "w -0.61392 损失0.9120355328\n",
      "w -0.6683520000000001 损失0.888332791808\n",
      "w -0.7010112000000001 损失0.87979980505088\n",
      "w -0.72060672 损失0.8767279298183168\n",
      "w -0.732364032 损失0.8756220547345941\n",
      "w -0.7394184192 损失0.8752239397044537\n",
      "w -0.74365105152 损失0.8750806182936035\n",
      "w -0.746190630912 损失0.8750290225856971\n",
      "w -0.7477143785472 损失0.8750104481308509\n",
      "w -0.74862862712832 损失0.8750037613271064\n",
      "w -0.749177176276992 损失0.8750013540777584\n",
      "w -0.7495063057661951 损失0.8750004874679931\n",
      "w -0.7497037834597171 损失0.8750001754884773\n",
      "w -0.7498222700758302 损失0.8750000631758519\n",
      "w -0.7498933620454982 损失0.8750000227433066\n",
      "w -0.7499360172272989 损失0.8750000081875902\n",
      "w -0.7499616103363793 损失0.8750000029475327\n",
      "w -0.7499769662018276 损失0.8750000010611116\n",
      "w -0.7499861797210966 损失0.8750000003820002\n",
      "w -0.749991707832658 损失0.87500000013752\n",
      "w -0.7499950246995948 损失0.8750000000495071\n",
      "w -0.7499970148197569 损失0.8750000000178226\n",
      "w -0.7499982088918541 损失0.8750000000064162\n",
      "w -0.7499989253351125 损失0.8750000000023095\n",
      "w -0.7499993552010675 损失0.8750000000008316\n",
      "w -0.7499996131206406 损失0.8750000000002991\n"
     ]
    }
   ],
   "execution_count": 73
  },
  {
   "metadata": {},
   "cell_type": "markdown",
   "source": "## 岭回归",
   "id": "f3704dc49de54aa5"
  },
  {
   "metadata": {
    "ExecuteTime": {
     "end_time": "2025-01-14T13:08:05.154391Z",
     "start_time": "2025-01-14T13:08:05.146044Z"
    }
   },
   "cell_type": "code",
   "source": [
    "# 岭回归去进行房价预测\n",
    "# 岭回归是对线性回归加入L2正则化，L2正则化是对系数的平方和进行惩罚\n",
    "# alpha就是补偿的系数\n",
    "# 正规方程求解，加补偿就可以让正规方程可逆\n",
    "rd = Ridge(alpha=0.02)\n",
    "\n",
    "rd.fit(x_train, y_train)\n",
    "\n",
    "print(rd.coef_)\n",
    "\n",
    "# 预测测试集的房子价格\n",
    "print(rd.predict(x_test).shape)\n",
    "# y_rd_predict = std_y.inverse_transform(rd.predict(x_test))\n",
    "y_predict = rd.predict(x_test)\n",
    "# print(\"岭回归里面每个房子的预测价格：\", y_rd_predict)\n",
    "\n",
    "print(\"岭回归的均方误差：\", mean_squared_error(y_test, y_predict))\n",
    "# print(\"岭回归的均方误差：\", mean_squared_error(std_y.inverse_transform(y_test), y_rd_predict))"
   ],
   "id": "ca85305313c5f292",
   "outputs": [
    {
     "name": "stdout",
     "output_type": "stream",
     "text": [
      "[ 0.83166963  0.12159681 -0.26758236  0.30983534 -0.00517992 -0.04040432\n",
      " -0.90735215 -0.88211025]\n",
      "(5160,)\n",
      "岭回归的均方误差： 0.5356531179270398\n"
     ]
    }
   ],
   "execution_count": 74
  },
  {
   "metadata": {},
   "cell_type": "markdown",
   "source": "## Lasso回归",
   "id": "a95ed395780b0625"
  },
  {
   "metadata": {
    "ExecuteTime": {
     "end_time": "2025-01-14T13:08:05.332320Z",
     "start_time": "2025-01-14T13:08:05.162830Z"
    }
   },
   "cell_type": "code",
   "source": [
    "# Lasso回归去进行房价预测\n",
    "# Lasso回归是对线性回归加入L1正则化\n",
    "# alpha就是补偿的系数\n",
    "print(x_train.shape)\n",
    "print(y_train.shape)\n",
    "ls = Lasso(alpha=0.001)\n",
    "\n",
    "ls.fit(x_train, y_train)\n",
    "\n",
    "print(ls.coef_)\n",
    "\n",
    "# 预测测试集的房子价格\n",
    "print(ls.predict(x_test).shape)\n",
    "print('-' * 50)\n",
    "# y_ls_predict = std_y.inverse_transform(ls.predict(x_test).reshape(-1,1))\n",
    "y_predict = ls.predict(x_test)\n",
    "# print(\"Lasso回归里面每个房子的预测价格：\", y_rd_predict)\n",
    "\n",
    "print(\"Lasso回归的均方误差：\", mean_squared_error(y_test, y_predict))\n",
    "# print(\"Lasso回归的均方误差：\", mean_squared_error(std_y.inverse_transform(y_test), y_ls_predict))"
   ],
   "id": "7cb759a2d68f319a",
   "outputs": [
    {
     "name": "stdout",
     "output_type": "stream",
     "text": [
      "(15480, 8)\n",
      "(15480,)\n",
      "[ 0.82655827  0.1225482  -0.25369194  0.29596304 -0.00381001 -0.03948424\n",
      " -0.89646842 -0.87060253]\n",
      "(5160,)\n",
      "--------------------------------------------------\n",
      "Lasso回归的均方误差： 0.5356324125105497\n"
     ]
    }
   ],
   "execution_count": 75
  },
  {
   "metadata": {},
   "cell_type": "markdown",
   "source": "## 逻辑回归",
   "id": "adee136ccb4b45e7"
  },
  {
   "metadata": {
    "ExecuteTime": {
     "end_time": "2025-01-14T13:08:05.393084Z",
     "start_time": "2025-01-14T13:08:05.333319Z"
    }
   },
   "cell_type": "code",
   "source": [
    "x = np.arange(0.001, 1, 0.01)  #0-1之间，步长0.01\n",
    "import matplotlib.pyplot as plt\n",
    "\n",
    "plt.plot(x, -np.log(x))  #以e为底部\n",
    "plt.show()  # x越接近1时，对数似然损失越小"
   ],
   "id": "243ad3389642ea68",
   "outputs": [
    {
     "data": {
      "text/plain": [
       "<Figure size 640x480 with 1 Axes>"
      ],
      "image/png": "[encoded data removed]"
     },
     "metadata": {},
     "output_type": "display_data"
    }
   ],
   "execution_count": 76
  },
  {
   "metadata": {
    "ExecuteTime": {
     "end_time": "2025-01-14T13:08:05.447066Z",
     "start_time": "2025-01-14T13:08:05.394203Z"
    }
   },
   "cell_type": "code",
   "source": [
    "x = np.arange(0, 1, 0.01)\n",
    "import matplotlib.pyplot as plt\n",
    "\n",
    "plt.plot(x, -np.log(1 - x))\n",
    "plt.show()  # x越接近1时，对数似然损失越大"
   ],
   "id": "d46ad1d8458f627a",
   "outputs": [
    {
     "data": {
      "text/plain": [
       "<Figure size 640x480 with 1 Axes>"
      ],
      "image/png": "[encoded data removed]"
     },
     "metadata": {},
     "output_type": "display_data"
    }
   ],
   "execution_count": 77
  },
  {
   "metadata": {
    "ExecuteTime": {
     "end_time": "2025-01-14T13:08:05.467228Z",
     "start_time": "2025-01-14T13:08:05.448238Z"
    }
   },
   "cell_type": "code",
   "source": [
    "\"\"\"\n",
    "逻辑回归做二分类进行癌症预测（根据细胞的属性特征）\n",
    ":return: NOne\n",
    "\"\"\"\n",
    "# 构造列标签名字\n",
    "column = ['Sample code number', 'Clump Thickness', 'Uniformity of Cell Size', 'Uniformity of Cell Shape',\n",
    "          'Marginal Adhesion', 'Single Epithelial Cell Size', 'Bare Nuclei', 'Bland Chromatin', 'Normal Nucleoli',\n",
    "          'Mitoses', 'Class']\n",
    "\n",
    "# 读取数据\n",
    "# data = pd.read_csv(\n",
    "#     \"https://archive.ics.uci.edu/ml/machine-learning-databases/breast-cancer-wisconsin/breast-cancer-wisconsin.data\",\n",
    "#     names=column)\n",
    "data = pd.read_csv(\"G:/wangdao_python_short_class/python_ml/data/breast-cancer-wisconsin.csv\", names=column)\n",
    "# print(data) #想看可以解除\n",
    "#当你读取数据时，看上去是数值的列，读进来是字符串，说明里边\n",
    "# 存在了非数值情况\n",
    "print(data.info())\n",
    "print(data.describe(include='all'))"
   ],
   "id": "7b2529bf42b5c7a3",
   "outputs": [
    {
     "name": "stdout",
     "output_type": "stream",
     "text": [
      "<class 'pandas.core.frame.DataFrame'>\n",
      "RangeIndex: 699 entries, 0 to 698\n",
      "Data columns (total 11 columns):\n",
      " #   Column                       Non-Null Count  Dtype \n",
      "---  ------                       --------------  ----- \n",
      " 0   Sample code number           699 non-null    int64 \n",
      " 1   Clump Thickness              699 non-null    int64 \n",
      " 2   Uniformity of Cell Size      699 non-null    int64 \n",
      " 3   Uniformity of Cell Shape     699 non-null    int64 \n",
      " 4   Marginal Adhesion            699 non-null    int64 \n",
      " 5   Single Epithelial Cell Size  699 non-null    int64 \n",
      " 6   Bare Nuclei                  699 non-null    object\n",
      " 7   Bland Chromatin              699 non-null    int64 \n",
      " 8   Normal Nucleoli              699 non-null    int64 \n",
      " 9   Mitoses                      699 non-null    int64 \n",
      " 10  Class                        699 non-null    int64 \n",
      "dtypes: int64(10), object(1)\n",
      "memory usage: 60.2+ KB\n",
      "None\n",
      "        Sample code number  Clump Thickness  Uniformity of Cell Size  \\\n",
      "count         6.990000e+02       699.000000               699.000000   \n",
      "unique                 NaN              NaN                      NaN   \n",
      "top                    NaN              NaN                      NaN   \n",
      "freq                   NaN              NaN                      NaN   \n",
      "mean          1.071704e+06         4.417740                 3.134478   \n",
      "std           6.170957e+05         2.815741                 3.051459   \n",
      "min           6.163400e+04         1.000000                 1.000000   \n",
      "25%           8.706885e+05         2.000000                 1.000000   \n",
      "50%           1.171710e+06         4.000000                 1.000000   \n",
      "75%           1.238298e+06         6.000000                 5.000000   \n",
      "max           1.345435e+07        10.000000                10.000000   \n",
      "\n",
      "        Uniformity of Cell Shape  Marginal Adhesion  \\\n",
      "count                 699.000000         699.000000   \n",
      "unique                       NaN                NaN   \n",
      "top                          NaN                NaN   \n",
      "freq                         NaN                NaN   \n",
      "mean                    3.207439           2.806867   \n",
      "std                     2.971913           2.855379   \n",
      "min                     1.000000           1.000000   \n",
      "25%                     1.000000           1.000000   \n",
      "50%                     1.000000           1.000000   \n",
      "75%                     5.000000           4.000000   \n",
      "max                    10.000000          10.000000   \n",
      "\n",
      "        Single Epithelial Cell Size Bare Nuclei  Bland Chromatin  \\\n",
      "count                    699.000000         699       699.000000   \n",
      "unique                          NaN          11              NaN   \n",
      "top                             NaN           1              NaN   \n",
      "freq                            NaN         402              NaN   \n",
      "mean                       3.216023         NaN         3.437768   \n",
      "std                        2.214300         NaN         2.438364   \n",
      "min                        1.000000         NaN         1.000000   \n",
      "25%                        2.000000         NaN         2.000000   \n",
      "50%                        2.000000         NaN         3.000000   \n",
      "75%                        4.000000         NaN         5.000000   \n",
      "max                       10.000000         NaN        10.000000   \n",
      "\n",
      "        Normal Nucleoli     Mitoses       Class  \n",
      "count        699.000000  699.000000  699.000000  \n",
      "unique              NaN         NaN         NaN  \n",
      "top                 NaN         NaN         NaN  \n",
      "freq                NaN         NaN         NaN  \n",
      "mean           2.866953    1.589413    2.689557  \n",
      "std            3.053634    1.715078    0.951273  \n",
      "min            1.000000    1.000000    2.000000  \n",
      "25%            1.000000    1.000000    2.000000  \n",
      "50%            1.000000    1.000000    2.000000  \n",
      "75%            4.000000    1.000000    4.000000  \n",
      "max           10.000000   10.000000    4.000000  \n"
     ]
    }
   ],
   "execution_count": 78
  },
  {
   "metadata": {
    "ExecuteTime": {
     "end_time": "2025-01-14T13:08:05.472998Z",
     "start_time": "2025-01-14T13:08:05.468677Z"
    }
   },
   "cell_type": "code",
   "source": "data['Bare Nuclei'].unique() #因为上面发现它是object类型",
   "id": "2ceeef7495e85146",
   "outputs": [
    {
     "data": {
      "text/plain": [
       "array(['1', '10', '2', '4', '3', '9', '7', '?', '5', '8', '6'],\n",
       "      dtype=object)"
      ]
     },
     "execution_count": 79,
     "metadata": {},
     "output_type": "execute_result"
    }
   ],
   "execution_count": 79
  },
  {
   "metadata": {
    "ExecuteTime": {
     "end_time": "2025-01-14T13:08:05.478296Z",
     "start_time": "2025-01-14T13:08:05.472998Z"
    }
   },
   "cell_type": "code",
   "source": [
    "# 缺失值进行处理\n",
    "data = data.replace(to_replace='?', value=np.nan)\n",
    "#直接删除，哪一行有空值，就删除对应的样本\n",
    "data = data.dropna()\n",
    "print('-' * 50)\n",
    "print(data.shape)"
   ],
   "id": "8ff0b1655715e123",
   "outputs": [
    {
     "name": "stdout",
     "output_type": "stream",
     "text": [
      "--------------------------------------------------\n",
      "(683, 11)\n"
     ]
    }
   ],
   "execution_count": 80
  },
  {
   "metadata": {
    "ExecuteTime": {
     "end_time": "2025-01-14T13:08:05.486723Z",
     "start_time": "2025-01-14T13:08:05.479314Z"
    }
   },
   "cell_type": "code",
   "source": "data.info()",
   "id": "e5011fff61efa81d",
   "outputs": [
    {
     "name": "stdout",
     "output_type": "stream",
     "text": [
      "<class 'pandas.core.frame.DataFrame'>\n",
      "Index: 683 entries, 0 to 698\n",
      "Data columns (total 11 columns):\n",
      " #   Column                       Non-Null Count  Dtype \n",
      "---  ------                       --------------  ----- \n",
      " 0   Sample code number           683 non-null    int64 \n",
      " 1   Clump Thickness              683 non-null    int64 \n",
      " 2   Uniformity of Cell Size      683 non-null    int64 \n",
      " 3   Uniformity of Cell Shape     683 non-null    int64 \n",
      " 4   Marginal Adhesion            683 non-null    int64 \n",
      " 5   Single Epithelial Cell Size  683 non-null    int64 \n",
      " 6   Bare Nuclei                  683 non-null    object\n",
      " 7   Bland Chromatin              683 non-null    int64 \n",
      " 8   Normal Nucleoli              683 non-null    int64 \n",
      " 9   Mitoses                      683 non-null    int64 \n",
      " 10  Class                        683 non-null    int64 \n",
      "dtypes: int64(10), object(1)\n",
      "memory usage: 64.0+ KB\n"
     ]
    }
   ],
   "execution_count": 81
  },
  {
   "metadata": {
    "ExecuteTime": {
     "end_time": "2025-01-14T13:08:05.491121Z",
     "start_time": "2025-01-14T13:08:05.487808Z"
    }
   },
   "cell_type": "code",
   "source": [
    "#分类的类别是2和4,对应 \"良性\", \"恶性\"\n",
    "data[column[10]].unique()"
   ],
   "id": "54ceda60702520e3",
   "outputs": [
    {
     "data": {
      "text/plain": [
       "array([2, 4])"
      ]
     },
     "execution_count": 82,
     "metadata": {},
     "output_type": "execute_result"
    }
   ],
   "execution_count": 82
  },
  {
   "metadata": {
    "ExecuteTime": {
     "end_time": "2025-01-14T13:08:05.494231Z",
     "start_time": "2025-01-14T13:08:05.491121Z"
    }
   },
   "cell_type": "code",
   "source": [
    "#把第6列的字符串转化为数字类型\n",
    "data[column[6]] = data[column[6]].astype('int16')"
   ],
   "id": "cfe60e2547cd7c51",
   "outputs": [],
   "execution_count": 83
  },
  {
   "metadata": {
    "ExecuteTime": {
     "end_time": "2025-01-14T13:08:05.501294Z",
     "start_time": "2025-01-14T13:08:05.495498Z"
    }
   },
   "cell_type": "code",
   "source": "data.info()",
   "id": "c2b38590b47d0b6c",
   "outputs": [
    {
     "name": "stdout",
     "output_type": "stream",
     "text": [
      "<class 'pandas.core.frame.DataFrame'>\n",
      "Index: 683 entries, 0 to 698\n",
      "Data columns (total 11 columns):\n",
      " #   Column                       Non-Null Count  Dtype\n",
      "---  ------                       --------------  -----\n",
      " 0   Sample code number           683 non-null    int64\n",
      " 1   Clump Thickness              683 non-null    int64\n",
      " 2   Uniformity of Cell Size      683 non-null    int64\n",
      " 3   Uniformity of Cell Shape     683 non-null    int64\n",
      " 4   Marginal Adhesion            683 non-null    int64\n",
      " 5   Single Epithelial Cell Size  683 non-null    int64\n",
      " 6   Bare Nuclei                  683 non-null    int16\n",
      " 7   Bland Chromatin              683 non-null    int64\n",
      " 8   Normal Nucleoli              683 non-null    int64\n",
      " 9   Mitoses                      683 non-null    int64\n",
      " 10  Class                        683 non-null    int64\n",
      "dtypes: int16(1), int64(10)\n",
      "memory usage: 60.0 KB\n"
     ]
    }
   ],
   "execution_count": 84
  },
  {
   "metadata": {
    "ExecuteTime": {
     "end_time": "2025-01-14T13:08:05.511200Z",
     "start_time": "2025-01-14T13:08:05.502420Z"
    }
   },
   "cell_type": "code",
   "source": [
    "# 进行数据的分割,第零列是编号，不可以作为特征，把第1-9列作为特征，第10列作为标签\n",
    "x_train, x_test, y_train, y_test = train_test_split(data[column[1:10]], data[column[10]], test_size=0.25,random_state=1)\n",
    "\n",
    "# 进行标准化处理\n",
    "std = StandardScaler()\n",
    "\n",
    "x_train = std.fit_transform(x_train) #训练集标准化\n",
    "x_test = std.transform(x_test) #测试集标准化\n",
    "x_train[0]"
   ],
   "id": "dab8d255997c4974",
   "outputs": [
    {
     "data": {
      "text/plain": [
       "array([-1.21629973, -0.70863282, -0.75174943,  0.04301674, -0.55657068,\n",
       "       -0.71054972, -0.99312055, -0.62911518, -0.36280962])"
      ]
     },
     "execution_count": 85,
     "metadata": {},
     "output_type": "execute_result"
    }
   ],
   "execution_count": 85
  },
  {
   "metadata": {
    "ExecuteTime": {
     "end_time": "2025-01-14T13:08:31.227986Z",
     "start_time": "2025-01-14T13:08:31.217614Z"
    }
   },
   "cell_type": "code",
   "source": [
    "#\n",
    "# # 逻辑回归预测\n",
    "# C正则化力度\n",
    "# solver = 'liblinear'  solver是学习率优化算法，就是学习率会随着epoch的变化而变化\n",
    "#epoch就代表第几次迭代\n",
    "#max_iter 最大迭代次数\n",
    "lg = LogisticRegression(C=0.5, solver='lbfgs')\n",
    "#\n",
    "lg.fit(x_train, y_train)\n",
    "# 逻辑回归的权重参数，了解，没那么重要\n",
    "print(lg.coef_)\n",
    "\n",
    "y_predict = lg.predict(x_test)\n",
    "print(y_predict) #预测的标签\n",
    "print(\"准确率：\", lg.score(x_test, y_test))\n",
    "print(y_test[0:5])\n",
    "print('-'*50)\n",
    "print(lg.predict_proba(x_test)[0:5])  #得出对应分类的概率"
   ],
   "id": "d7b2305dc00e6ce6",
   "outputs": [
    {
     "name": "stdout",
     "output_type": "stream",
     "text": [
      "[[1.11400191 0.25293086 0.78938469 0.60986034 0.0728013  1.10834397\n",
      "  0.7794668  0.64312128 0.67692658]]\n",
      "[2 2 2 4 2 4 2 2 4 4 2 2 4 2 2 4 2 2 2 2 2 2 2 4 4 2 2 2 4 4 2 2 4 4 2 4 2\n",
      " 2 4 4 4 2 2 4 2 2 2 2 4 2 2 2 4 2 2 2 4 2 2 2 2 4 2 2 2 4 2 4 4 2 2 4 2 2\n",
      " 4 2 2 2 2 2 2 2 4 2 4 4 2 2 2 4 2 2 4 2 2 4 4 2 2 4 2 2 4 4 2 2 2 2 4 2 4\n",
      " 4 2 4 2 4 2 2 2 2 4 2 4 2 2 2 2 2 4 2 2 2 2 2 2 2 4 2 4 4 2 2 4 2 2 2 2 4\n",
      " 2 2 2 2 2 4 2 4 2 4 2 2 4 2 4 2 4 4 2 4 2 2 2]\n",
      "准确率： 0.9824561403508771\n",
      "444    2\n",
      "24     2\n",
      "195    2\n",
      "49     4\n",
      "375    2\n",
      "Name: Class, dtype: int64\n",
      "--------------------------------------------------\n",
      "[[0.94893919 0.05106081]\n",
      " [0.99494175 0.00505825]\n",
      " [0.98365149 0.01634851]\n",
      " [0.02707911 0.97292089]\n",
      " [0.99732446 0.00267554]]\n"
     ]
    }
   ],
   "execution_count": 86
  },
  {
   "metadata": {
    "ExecuteTime": {
     "end_time": "2025-01-14T13:09:52.315578Z",
     "start_time": "2025-01-14T13:09:52.295784Z"
    }
   },
   "cell_type": "code",
   "source": [
    "# 为什么还要看下召回率，labels和target_names对应\n",
    "# macro avg 平均值  weighted avg 加权平均值\n",
    "print(classification_report(y_test, y_predict, labels=[2, 4], target_names=[\"良性\", \"恶性\"]))\n",
    "#AUC计算要求是二分类，不需要是0和1\n",
    "print(\"AUC指标：\", roc_auc_score(y_test, y_predict))"
   ],
   "id": "f521a1c4fb34982e",
   "outputs": [
    {
     "name": "stdout",
     "output_type": "stream",
     "text": [
      "              precision    recall  f1-score   support\n",
      "\n",
      "          良性       0.97      1.00      0.99       111\n",
      "          恶性       1.00      0.95      0.97        60\n",
      "\n",
      "    accuracy                           0.98       171\n",
      "   macro avg       0.99      0.97      0.98       171\n",
      "weighted avg       0.98      0.98      0.98       171\n",
      "\n",
      "AUC指标： 0.975\n"
     ]
    }
   ],
   "execution_count": 87
  },
  {
   "metadata": {
    "ExecuteTime": {
     "end_time": "2025-01-14T13:10:05.434645Z",
     "start_time": "2025-01-14T13:10:05.430752Z"
    }
   },
   "cell_type": "code",
   "source": [
    "print(x_train.shape)\n",
    "print(x_test.shape)"
   ],
   "id": "94383319b1f5d5fb",
   "outputs": [
    {
     "name": "stdout",
     "output_type": "stream",
     "text": [
      "(512, 9)\n",
      "(171, 9)\n"
     ]
    }
   ],
   "execution_count": 88
  },
  {
   "metadata": {
    "ExecuteTime": {
     "end_time": "2025-01-14T13:10:12.622111Z",
     "start_time": "2025-01-14T13:10:12.618131Z"
    }
   },
   "cell_type": "code",
   "source": "print(-np.log(0.1))",
   "id": "bf6a69f4912b705a",
   "outputs": [
    {
     "name": "stdout",
     "output_type": "stream",
     "text": [
      "2.3025850929940455\n"
     ]
    }
   ],
   "execution_count": 89
  },
  {
   "metadata": {
    "ExecuteTime": {
     "end_time": "2025-01-14T13:10:55.710672Z",
     "start_time": "2025-01-14T13:10:55.707299Z"
    }
   },
   "cell_type": "code",
   "source": "print(-np.log(0.9))",
   "id": "1c1c9ee560d65ed7",
   "outputs": [
    {
     "name": "stdout",
     "output_type": "stream",
     "text": [
      "0.10536051565782628\n"
     ]
    }
   ],
   "execution_count": 91
  }
 ],
 "metadata": {
  "kernelspec": {
   "display_name": "Python 3",
   "language": "python",
   "name": "python3"
  },
  "language_info": {
   "codemirror_mode": {
    "name": "ipython",
    "version": 2
   },
   "file_extension": ".py",
   "mimetype": "text/x-python",
   "name": "python",
   "nbconvert_exporter": "python",
   "pygments_lexer": "ipython2",
   "version": "2.7.6"
  }
 },
 "nbformat": 4,
 "nbformat_minor": 5
}
