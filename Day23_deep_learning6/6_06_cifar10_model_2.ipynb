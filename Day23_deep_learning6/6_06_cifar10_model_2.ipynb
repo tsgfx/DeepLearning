{
 "cells": [
  {
   "attachments": {},
   "cell_type": "markdown",
   "metadata": {},
   "source": [
    "<font color=\"red\">注</font>: 使用 tensorboard 可视化需要安装 tensorflow (TensorBoard依赖于tensorflow库，可以任意安装tensorflow的gpu/cpu版本)\n",
    "\n",
    "```shell\n",
    "pip install tensorflow-cpu\n",
    "```"
   ]
  },
  {
   "cell_type": "code",
   "metadata": {
    "ExecuteTime": {
     "end_time": "2025-01-25T04:56:15.207425Z",
     "start_time": "2025-01-25T04:56:11.498757Z"
    }
   },
   "source": [
    "import matplotlib as mpl\n",
    "import matplotlib.pyplot as plt\n",
    "%matplotlib inline\n",
    "import numpy as np\n",
    "import sklearn\n",
    "import pandas as pd\n",
    "import os\n",
    "import sys\n",
    "import time\n",
    "from tqdm.auto import tqdm\n",
    "import torch\n",
    "import torch.nn as nn\n",
    "import torch.nn.functional as F\n",
    "\n",
    "print(sys.version_info)\n",
    "for module in mpl, np, pd, sklearn, torch:\n",
    "    print(module.__name__, module.__version__)\n",
    "    \n",
    "device = torch.device(\"cuda:0\") if torch.cuda.is_available() else torch.device(\"cpu\")\n",
    "print(device)\n",
    "\n",
    "seed = 42"
   ],
   "outputs": [
    {
     "name": "stdout",
     "output_type": "stream",
     "text": [
      "sys.version_info(major=3, minor=12, micro=3, releaselevel='final', serial=0)\n",
      "matplotlib 3.10.0\n",
      "numpy 2.0.2\n",
      "pandas 2.2.3\n",
      "sklearn 1.6.0\n",
      "torch 2.5.1+cu118\n",
      "cuda:0\n"
     ]
    }
   ],
   "execution_count": 2
  },
  {
   "attachments": {},
   "cell_type": "markdown",
   "metadata": {},
   "source": [
    "## 数据准备\n",
    "\n",
    "```shell\n",
    "$ tree -L 1 cifar-10                                    \n",
    "cifar-10\n",
    "├── sampleSubmission.csv\n",
    "├── test\n",
    "├── train\n",
    "└── trainLabels.csv\n",
    "```"
   ]
  },
  {
   "cell_type": "code",
   "metadata": {
    "ExecuteTime": {
     "end_time": "2025-01-25T04:56:16.568209Z",
     "start_time": "2025-01-25T04:56:15.208426Z"
    }
   },
   "source": [
    "from pathlib import Path\n",
    "\n",
    "DATA_DIR = Path(\"F:/BaiduNetdiskDownload/cifar-10\")\n",
    "\n",
    "train_lables_file = DATA_DIR / \"trainLabels.csv\"\n",
    "test_csv_file = DATA_DIR / \"sampleSubmission.csv\" #测试集模板csv文件\n",
    "train_folder = DATA_DIR / \"train\"\n",
    "test_folder = DATA_DIR / \"test\"\n",
    "\n",
    "#所有的类别\n",
    "class_names = [\n",
    "    'airplane',\n",
    "    'automobile',\n",
    "    'bird',\n",
    "    'cat',\n",
    "    'deer',\n",
    "    'dog',\n",
    "    'frog',\n",
    "    'horse',\n",
    "    'ship',\n",
    "    'truck',\n",
    "]\n",
    "\n",
    "def parse_csv_file(filepath, folder): #filepath:csv文件路径，folder:图片所在文件夹\n",
    "    \"\"\"Parses csv files into (filename(path), label) format\"\"\"\n",
    "    results = []\n",
    "    #读取所有行\n",
    "    with open(filepath, 'r') as f:\n",
    "#         lines = f.readlines()  为什么加[1:]，可以试这个\n",
    "        #第一行不需要，因为第一行是标题\n",
    "        lines = f.readlines()[1:] \n",
    "    for line in lines:#依次去取每一行\n",
    "        image_id, label_str = line.strip('\\n').split(',') #图片id 和标签分离\n",
    "        image_full_path = folder / f\"{image_id}.png\"\n",
    "        results.append((image_full_path, label_str)) #得到对应图片的路径和分类\n",
    "    return results\n",
    "\n",
    "#解析对应的文件夹\n",
    "train_labels_info = parse_csv_file(train_lables_file, train_folder)\n",
    "test_csv_info = parse_csv_file(test_csv_file, test_folder)\n",
    "#打印\n",
    "import pprint\n",
    "pprint.pprint(train_labels_info[0:5])\n",
    "pprint.pprint(test_csv_info[0:5])\n",
    "print(len(train_labels_info), len(test_csv_info))"
   ],
   "outputs": [
    {
     "name": "stdout",
     "output_type": "stream",
     "text": [
      "[(WindowsPath('F:/BaiduNetdiskDownload/cifar-10/train/1.png'), 'frog'),\n",
      " (WindowsPath('F:/BaiduNetdiskDownload/cifar-10/train/2.png'), 'truck'),\n",
      " (WindowsPath('F:/BaiduNetdiskDownload/cifar-10/train/3.png'), 'truck'),\n",
      " (WindowsPath('F:/BaiduNetdiskDownload/cifar-10/train/4.png'), 'deer'),\n",
      " (WindowsPath('F:/BaiduNetdiskDownload/cifar-10/train/5.png'), 'automobile')]\n",
      "[(WindowsPath('F:/BaiduNetdiskDownload/cifar-10/test/1.png'), 'cat'),\n",
      " (WindowsPath('F:/BaiduNetdiskDownload/cifar-10/test/2.png'), 'cat'),\n",
      " (WindowsPath('F:/BaiduNetdiskDownload/cifar-10/test/3.png'), 'cat'),\n",
      " (WindowsPath('F:/BaiduNetdiskDownload/cifar-10/test/4.png'), 'cat'),\n",
      " (WindowsPath('F:/BaiduNetdiskDownload/cifar-10/test/5.png'), 'cat')]\n",
      "50000 300000\n"
     ]
    }
   ],
   "execution_count": 3
  },
  {
   "cell_type": "code",
   "metadata": {
    "ExecuteTime": {
     "end_time": "2025-01-25T04:56:16.623300Z",
     "start_time": "2025-01-25T04:56:16.568209Z"
    }
   },
   "source": [
    "# train_df = pd.DataFrame(train_labels_info)\n",
    "train_df = pd.DataFrame(train_labels_info[0:45000]) # 取前45000张图片作为训练集\n",
    "valid_df = pd.DataFrame(train_labels_info[45000:]) # 取后5000张图片作为验证集\n",
    "test_df = pd.DataFrame(test_csv_info)\n",
    "\n",
    "train_df.columns = ['filepath', 'class']\n",
    "valid_df.columns = ['filepath', 'class']\n",
    "test_df.columns = ['filepath', 'class']\n",
    "\n",
    "print(train_df.head())\n",
    "print(valid_df.head())\n",
    "print(test_df.head())"
   ],
   "outputs": [
    {
     "name": "stdout",
     "output_type": "stream",
     "text": [
      "                                       filepath       class\n",
      "0  F:\\BaiduNetdiskDownload\\cifar-10\\train\\1.png        frog\n",
      "1  F:\\BaiduNetdiskDownload\\cifar-10\\train\\2.png       truck\n",
      "2  F:\\BaiduNetdiskDownload\\cifar-10\\train\\3.png       truck\n",
      "3  F:\\BaiduNetdiskDownload\\cifar-10\\train\\4.png        deer\n",
      "4  F:\\BaiduNetdiskDownload\\cifar-10\\train\\5.png  automobile\n",
      "                                           filepath       class\n",
      "0  F:\\BaiduNetdiskDownload\\cifar-10\\train\\45001.png       horse\n",
      "1  F:\\BaiduNetdiskDownload\\cifar-10\\train\\45002.png  automobile\n",
      "2  F:\\BaiduNetdiskDownload\\cifar-10\\train\\45003.png        deer\n",
      "3  F:\\BaiduNetdiskDownload\\cifar-10\\train\\45004.png  automobile\n",
      "4  F:\\BaiduNetdiskDownload\\cifar-10\\train\\45005.png    airplane\n",
      "                                      filepath class\n",
      "0  F:\\BaiduNetdiskDownload\\cifar-10\\test\\1.png   cat\n",
      "1  F:\\BaiduNetdiskDownload\\cifar-10\\test\\2.png   cat\n",
      "2  F:\\BaiduNetdiskDownload\\cifar-10\\test\\3.png   cat\n",
      "3  F:\\BaiduNetdiskDownload\\cifar-10\\test\\4.png   cat\n",
      "4  F:\\BaiduNetdiskDownload\\cifar-10\\test\\5.png   cat\n"
     ]
    }
   ],
   "execution_count": 4
  },
  {
   "cell_type": "code",
   "metadata": {
    "ExecuteTime": {
     "end_time": "2025-01-25T04:56:18.133533Z",
     "start_time": "2025-01-25T04:56:16.624300Z"
    }
   },
   "source": [
    "from PIL import Image\n",
    "from torch.utils.data import Dataset, DataLoader\n",
    "from torchvision import transforms\n",
    "\n",
    "class Cifar10Dataset(Dataset):\n",
    "    df_map = {\n",
    "        \"train\": train_df,\n",
    "        \"eval\": valid_df,\n",
    "        \"test\": test_df\n",
    "    }\n",
    "    label_to_idx = {label: idx for idx, label in enumerate(class_names)} # 类别映射为idx\n",
    "    idx_to_label = {idx: label for idx, label in enumerate(class_names)} # idx映射为类别,为了test测试集使用\n",
    "    def __init__(self, mode, transform=None):\n",
    "        self.df = self.df_map.get(mode, None) # 获取对应模式的df，不同字符串对应不同模式\n",
    "        if self.df is None:\n",
    "            raise ValueError(\"mode should be one of train, val, test, but got {}\".format(mode))\n",
    "        # assert self.df, \"df is None\"\n",
    "        self.transform = transform\n",
    "        \n",
    "    def __getitem__(self, index):\n",
    "        img_path, label = self.df.iloc[index] # 获取图片路径和标签\n",
    "        img = Image.open(img_path).convert('RGB')\n",
    "        # # img 转换为 channel first\n",
    "        # img = img.transpose((2, 0, 1))\n",
    "        # transform\n",
    "        img = self.transform(img) # 数据增强\n",
    "        # label 转换为 idx\n",
    "        label = self.label_to_idx[label]\n",
    "        return img, label\n",
    "    \n",
    "    def __len__(self):\n",
    "        return self.df.shape[0] # 返回df的行数,样本数\n",
    "    \n",
    "IMAGE_SIZE = 32\n",
    "mean, std = [0.4914, 0.4822, 0.4465], [0.247, 0.243, 0.261]\n",
    "\n",
    "transforms_train = transforms.Compose([\n",
    "        # resize\n",
    "        transforms.Resize((IMAGE_SIZE, IMAGE_SIZE)), #缩放\n",
    "        # random rotation 40\n",
    "        transforms.RandomRotation(40), #随机旋转\n",
    "        # horizaontal flip\n",
    "        transforms.RandomHorizontalFlip(),  #随机水平翻转\n",
    "        transforms.ToTensor(), #转换为tensor\n",
    "        # transforms.Normalize(mean, std) #标准化\n",
    "    ]) #数据增强\n",
    "\n",
    "transforms_eval = transforms.Compose([\n",
    "        # resize\n",
    "        transforms.Resize((IMAGE_SIZE, IMAGE_SIZE)),\n",
    "        transforms.ToTensor(),\n",
    "        transforms.Normalize(mean, std)\n",
    "    ])\n",
    "# ToTensor还将图像的维度从[height, width, channels]转换为[channels, height, width]。\n",
    "train_ds = Cifar10Dataset(\"train\", transforms_train)\n",
    "eval_ds = Cifar10Dataset(\"eval\", transforms_eval)"
   ],
   "outputs": [],
   "execution_count": 5
  },
  {
   "cell_type": "code",
   "source": [
    "train_ds[0][0].shape # 图片的shape,输入"
   ],
   "metadata": {
    "collapsed": false,
    "ExecuteTime": {
     "end_time": "2025-01-25T04:56:18.171927Z",
     "start_time": "2025-01-25T04:56:18.134839Z"
    }
   },
   "outputs": [
    {
     "data": {
      "text/plain": [
       "torch.Size([3, 32, 32])"
      ]
     },
     "execution_count": 6,
     "metadata": {},
     "output_type": "execute_result"
    }
   ],
   "execution_count": 6
  },
  {
   "cell_type": "code",
   "source": [
    "print(train_ds.idx_to_label)  # 类别映射为idx\n",
    "train_ds.label_to_idx # idx映射为类别"
   ],
   "metadata": {
    "collapsed": false,
    "ExecuteTime": {
     "end_time": "2025-01-25T04:56:18.176642Z",
     "start_time": "2025-01-25T04:56:18.172934Z"
    }
   },
   "outputs": [
    {
     "name": "stdout",
     "output_type": "stream",
     "text": [
      "{0: 'airplane', 1: 'automobile', 2: 'bird', 3: 'cat', 4: 'deer', 5: 'dog', 6: 'frog', 7: 'horse', 8: 'ship', 9: 'truck'}\n"
     ]
    },
    {
     "data": {
      "text/plain": [
       "{'airplane': 0,\n",
       " 'automobile': 1,\n",
       " 'bird': 2,\n",
       " 'cat': 3,\n",
       " 'deer': 4,\n",
       " 'dog': 5,\n",
       " 'frog': 6,\n",
       " 'horse': 7,\n",
       " 'ship': 8,\n",
       " 'truck': 9}"
      ]
     },
     "execution_count": 7,
     "metadata": {},
     "output_type": "execute_result"
    }
   ],
   "execution_count": 7
  },
  {
   "cell_type": "code",
   "metadata": {
    "ExecuteTime": {
     "end_time": "2025-01-25T04:56:18.180088Z",
     "start_time": "2025-01-25T04:56:18.177643Z"
    }
   },
   "source": [
    "batch_size = 64\n",
    "train_dl = DataLoader(train_ds, batch_size=batch_size, shuffle=True)   \n",
    "eval_dl = DataLoader(eval_ds, batch_size=batch_size, shuffle=False)"
   ],
   "outputs": [],
   "execution_count": 8
  },
  {
   "cell_type": "code",
   "metadata": {
    "ExecuteTime": {
     "end_time": "2025-01-25T04:56:18.182988Z",
     "start_time": "2025-01-25T04:56:18.180088Z"
    }
   },
   "source": [
    "# # 遍历train_ds得到每张图片，计算每个通道的均值和方差\n",
    "# def cal_mean_std(ds):\n",
    "#     mean = 0.\n",
    "#     std = 0.\n",
    "#     for img, _ in ds:\n",
    "#         mean += img.mean(dim=(1, 2))\n",
    "#         std += img.std(dim=(1, 2))\n",
    "#     mean /= len(ds)\n",
    "#     std /= len(ds)\n",
    "#     return mean, std\n",
    "# \n",
    "# # 经过 normalize 后 均值为0，方差为1\n",
    "# print(cal_mean_std(train_ds))"
   ],
   "outputs": [],
   "execution_count": 9
  },
  {
   "attachments": {},
   "cell_type": "markdown",
   "metadata": {},
   "source": [
    "## 定义模型"
   ]
  },
  {
   "metadata": {
    "ExecuteTime": {
     "end_time": "2025-01-25T04:56:18.186768Z",
     "start_time": "2025-01-25T04:56:18.182988Z"
    }
   },
   "cell_type": "code",
   "source": "128*3*3*3",
   "outputs": [
    {
     "data": {
      "text/plain": [
       "3456"
      ]
     },
     "execution_count": 10,
     "metadata": {},
     "output_type": "execute_result"
    }
   ],
   "execution_count": 10
  },
  {
   "cell_type": "code",
   "metadata": {
    "ExecuteTime": {
     "end_time": "2025-01-25T04:56:18.238669Z",
     "start_time": "2025-01-25T04:56:18.186768Z"
    }
   },
   "source": [
    "class CNN(nn.Module):\n",
    "    def __init__(self, num_classes):\n",
    "        super().__init__()\n",
    "        self.model = nn.Sequential(\n",
    "            # batch_size=64, MAX_IMAGE_SIZE=32\n",
    "            # (64, 3, 32, 32) -> (64, 128, 16, 16)\n",
    "            nn.Conv2d(in_channels=3, out_channels=128, kernel_size=3, padding=\"same\"), # 128*3*3*3=3456\n",
    "            nn.ReLU(),\n",
    "            nn.BatchNorm2d(128), # 批标准化，在通道数做的归一化\n",
    "            nn.Conv2d(in_channels=128, out_channels=128, kernel_size=3, padding=\"same\"), # 128*128*3*3=147456\n",
    "            nn.ReLU(),\n",
    "            nn.BatchNorm2d(128),\n",
    "            nn.MaxPool2d(kernel_size=2), #输出尺寸（128，16，16）\n",
    "            \n",
    "            # (64, 128, 16, 16) -> (64, 256, 8, 8)\n",
    "            nn.Conv2d(in_channels=128, out_channels=256, kernel_size=3, padding=\"same\"), # 128*256*3*3=294912\n",
    "            nn.ReLU(),\n",
    "            nn.BatchNorm2d(256),\n",
    "            nn.Conv2d(in_channels=256, out_channels=256, kernel_size=3, padding=\"same\"), # 256*256*3*3=589824\n",
    "            nn.ReLU(),\n",
    "            nn.BatchNorm2d(256),\n",
    "            nn.MaxPool2d(kernel_size=2),#输出尺寸（256，8，8）\n",
    "            \n",
    "            # (64, 256, 8, 8) -> (64, 512, 4, 4)\n",
    "            nn.Conv2d(in_channels=256, out_channels=512, kernel_size=3, padding=\"same\"), # 256*512*3*3=1179648\n",
    "            nn.ReLU(),\n",
    "            nn.BatchNorm2d(512),\n",
    "            nn.Conv2d(in_channels=512, out_channels=512, kernel_size=3, padding=\"same\"), # 512*512*3*3=2359296\n",
    "            nn.ReLU(),\n",
    "            nn.BatchNorm2d(512),\n",
    "            nn.MaxPool2d(kernel_size=2), #输出尺寸（512，4，4）\n",
    "            \n",
    "            nn.Flatten(), #展平 # 512 * 4 * 4 = 8192\n",
    "            nn.Linear(8192, 512), # 8192*512=4194304\n",
    "            nn.ReLU(),\n",
    "            nn.Linear(512, num_classes), # 512*10=5120\n",
    "        ) #Sequential自动连接各层，把各层的输出作为下一层的输入\n",
    "        \n",
    "    def forward(self, x):\n",
    "        return self.model(x)\n",
    "        \n",
    "for key, value in CNN(len(class_names)).named_parameters():\n",
    "    print(f\"{key:^40}paramerters num: {np.prod(value.shape)}\")"
   ],
   "outputs": [
    {
     "name": "stdout",
     "output_type": "stream",
     "text": [
      "             model.0.weight             paramerters num: 3456\n",
      "              model.0.bias              paramerters num: 128\n",
      "             model.2.weight             paramerters num: 128\n",
      "              model.2.bias              paramerters num: 128\n",
      "             model.3.weight             paramerters num: 147456\n",
      "              model.3.bias              paramerters num: 128\n",
      "             model.5.weight             paramerters num: 128\n",
      "              model.5.bias              paramerters num: 128\n",
      "             model.7.weight             paramerters num: 294912\n",
      "              model.7.bias              paramerters num: 256\n",
      "             model.9.weight             paramerters num: 256\n",
      "              model.9.bias              paramerters num: 256\n",
      "            model.10.weight             paramerters num: 589824\n",
      "             model.10.bias              paramerters num: 256\n",
      "            model.12.weight             paramerters num: 256\n",
      "             model.12.bias              paramerters num: 256\n",
      "            model.14.weight             paramerters num: 1179648\n",
      "             model.14.bias              paramerters num: 512\n",
      "            model.16.weight             paramerters num: 512\n",
      "             model.16.bias              paramerters num: 512\n",
      "            model.17.weight             paramerters num: 2359296\n",
      "             model.17.bias              paramerters num: 512\n",
      "            model.19.weight             paramerters num: 512\n",
      "             model.19.bias              paramerters num: 512\n",
      "            model.22.weight             paramerters num: 4194304\n",
      "             model.22.bias              paramerters num: 512\n",
      "            model.24.weight             paramerters num: 5120\n",
      "             model.24.bias              paramerters num: 10\n"
     ]
    }
   ],
   "execution_count": 11
  },
  {
   "cell_type": "code",
   "source": [
    "total_params = sum(p.numel() for p in CNN(len(class_names)).parameters() if p.requires_grad)\n",
    "print(f\"Total trainable parameters: {total_params}\")"
   ],
   "metadata": {
    "collapsed": false,
    "ExecuteTime": {
     "end_time": "2025-01-25T04:56:18.273416Z",
     "start_time": "2025-01-25T04:56:18.238669Z"
    }
   },
   "outputs": [
    {
     "name": "stdout",
     "output_type": "stream",
     "text": [
      "Total trainable parameters: 8779914\n"
     ]
    }
   ],
   "execution_count": 12
  },
  {
   "cell_type": "code",
   "source": [
    "512*4*4"
   ],
   "metadata": {
    "collapsed": false,
    "ExecuteTime": {
     "end_time": "2025-01-25T04:56:18.277769Z",
     "start_time": "2025-01-25T04:56:18.274415Z"
    }
   },
   "outputs": [
    {
     "data": {
      "text/plain": [
       "8192"
      ]
     },
     "execution_count": 13,
     "metadata": {},
     "output_type": "execute_result"
    }
   ],
   "execution_count": 13
  },
  {
   "metadata": {
    "ExecuteTime": {
     "end_time": "2025-01-25T04:56:18.293740Z",
     "start_time": "2025-01-25T04:56:18.278769Z"
    }
   },
   "cell_type": "code",
   "source": [
    "input_4d = torch.randn(32, 3, 64, 64)  # 32 个样本，3 个通道，图像大小为 64x64\n",
    "bn2d = nn.BatchNorm2d(3)              # 对 3 个通道进行归一化\n",
    "output_4d = bn2d(input_4d)\n",
    "output_4d.shape"
   ],
   "outputs": [
    {
     "data": {
      "text/plain": [
       "torch.Size([32, 3, 64, 64])"
      ]
     },
     "execution_count": 14,
     "metadata": {},
     "output_type": "execute_result"
    }
   ],
   "execution_count": 14
  },
  {
   "metadata": {
    "ExecuteTime": {
     "end_time": "2025-01-25T04:56:18.325251Z",
     "start_time": "2025-01-25T04:56:18.295734Z"
    }
   },
   "cell_type": "code",
   "source": "output_4d",
   "outputs": [
    {
     "data": {
      "text/plain": [
       "tensor([[[[ 4.3535e-01,  5.2153e-01,  1.4366e+00,  ..., -8.7844e-01,\n",
       "           -4.0523e-01, -3.5425e-01],\n",
       "          [-7.0962e-01,  4.0274e-02, -6.4258e-01,  ..., -9.6763e-01,\n",
       "           -1.0214e-01,  2.7622e-01],\n",
       "          [-3.5257e-01, -8.5183e-03,  1.6950e+00,  ...,  7.4276e-02,\n",
       "           -1.7149e-01,  1.1966e-01],\n",
       "          ...,\n",
       "          [-1.0431e+00, -2.0819e-01,  4.5025e-01,  ..., -1.4342e-01,\n",
       "           -8.2549e-01,  4.9515e-01],\n",
       "          [-3.7185e-01,  2.0822e-01, -3.3846e-01,  ...,  6.0669e-01,\n",
       "            9.2539e-02,  1.3463e+00],\n",
       "          [ 3.0258e-01,  3.7365e-01, -4.5398e-01,  ..., -8.7836e-01,\n",
       "           -6.1176e-01, -2.4101e+00]],\n",
       "\n",
       "         [[ 7.1858e-01, -9.2396e-01,  1.0420e+00,  ...,  3.5037e-02,\n",
       "            2.4791e-01, -8.0056e-01],\n",
       "          [-1.4339e-01,  1.1048e+00,  7.2828e-01,  ...,  2.1080e+00,\n",
       "            1.6139e+00,  2.0483e+00],\n",
       "          [ 3.7647e-01,  2.8446e-01, -2.3414e-01,  ..., -7.0744e-01,\n",
       "           -1.5227e+00, -7.0471e-01],\n",
       "          ...,\n",
       "          [-3.0316e-01, -1.9266e-01, -9.8053e-01,  ..., -2.5315e-02,\n",
       "           -3.8322e-01,  7.4548e-01],\n",
       "          [-1.5452e+00,  2.1830e-01,  2.0494e+00,  ...,  8.8793e-01,\n",
       "            2.5513e+00,  5.5088e-01],\n",
       "          [-3.5716e-01, -1.3386e+00,  7.0062e-01,  ...,  1.3942e+00,\n",
       "            1.1186e-01,  1.8918e+00]],\n",
       "\n",
       "         [[ 5.7907e-01, -6.5187e-01, -2.8299e-01,  ..., -4.2387e-01,\n",
       "            1.5210e+00, -1.9287e+00],\n",
       "          [ 3.5888e-01, -1.0780e+00, -9.6422e-01,  ..., -4.0614e-01,\n",
       "           -3.4584e-01, -8.5487e-01],\n",
       "          [-4.6497e-01, -3.7489e-01,  6.8021e-02,  ..., -1.0447e+00,\n",
       "           -1.3950e+00,  1.5783e-01],\n",
       "          ...,\n",
       "          [-6.3672e-01,  5.2481e-01, -3.3456e-01,  ...,  7.4674e-02,\n",
       "            1.6924e-01, -2.5861e+00],\n",
       "          [-1.0692e+00, -1.6443e+00,  9.1128e-01,  ..., -1.4308e-01,\n",
       "            7.5755e-01,  6.4088e-01],\n",
       "          [ 6.4564e-01, -8.5204e-01, -2.4646e-01,  ...,  1.0384e+00,\n",
       "           -2.4310e-01, -2.1255e-01]]],\n",
       "\n",
       "\n",
       "        [[[ 1.1479e+00,  1.5626e-01,  7.8563e-01,  ...,  8.6334e-01,\n",
       "           -1.0894e+00,  5.6941e-01],\n",
       "          [ 6.3117e-01,  1.5553e+00, -5.3315e-01,  ...,  2.4315e+00,\n",
       "            7.8512e-01, -8.7333e-01],\n",
       "          [-8.8839e-01, -1.1774e+00, -9.5154e-01,  ...,  2.1647e-02,\n",
       "           -6.5416e-01,  2.6908e-01],\n",
       "          ...,\n",
       "          [ 7.5198e-01, -8.9210e-01, -9.2981e-01,  ..., -1.2041e+00,\n",
       "           -9.5113e-01, -4.8153e-01],\n",
       "          [-7.3528e-01, -1.7467e+00,  1.5443e-01,  ..., -1.9132e+00,\n",
       "            8.6711e-01,  4.8136e-02],\n",
       "          [-1.6492e+00, -1.2802e+00,  6.5439e-01,  ..., -8.1650e-01,\n",
       "           -4.6804e-01, -1.1101e+00]],\n",
       "\n",
       "         [[-4.4886e-01, -6.6017e-01,  1.2164e+00,  ..., -4.6174e-01,\n",
       "            1.6108e-01,  1.2470e-02],\n",
       "          [-1.6077e-01,  9.6115e-01, -4.0521e-01,  ..., -2.7114e-01,\n",
       "           -2.3538e-01, -3.2687e-01],\n",
       "          [ 6.0535e-01, -1.5391e+00,  1.1641e+00,  ..., -3.5418e-01,\n",
       "            3.5334e-01,  7.6985e-01],\n",
       "          ...,\n",
       "          [ 4.6343e-01, -4.2740e-01, -1.0875e+00,  ..., -1.3449e+00,\n",
       "            2.0833e+00,  1.4781e+00],\n",
       "          [-3.7178e-01, -2.0991e+00,  1.3354e-01,  ..., -2.0412e+00,\n",
       "           -1.2377e+00,  1.5668e+00],\n",
       "          [-1.0524e+00,  5.5408e-01, -1.1826e+00,  ...,  9.1212e-01,\n",
       "           -1.6827e+00, -1.0317e+00]],\n",
       "\n",
       "         [[ 4.7813e-02,  6.2981e-01,  1.5581e+00,  ...,  1.2702e+00,\n",
       "           -6.4101e-01, -8.2015e-01],\n",
       "          [-1.0415e+00,  7.8641e-01, -3.7201e-01,  ..., -3.3859e-01,\n",
       "            8.8018e-01,  6.2435e-01],\n",
       "          [-1.0998e+00,  1.0182e+00, -7.2790e-01,  ...,  2.1447e+00,\n",
       "            2.8262e-01,  1.5658e+00],\n",
       "          ...,\n",
       "          [ 7.5201e-01, -1.4841e+00,  8.9217e-02,  ...,  5.5201e-01,\n",
       "           -4.8185e-01,  3.0759e-01],\n",
       "          [ 4.7282e-01,  1.5044e+00, -9.5487e-01,  ..., -7.6760e-01,\n",
       "            7.0059e-01,  1.5598e-01],\n",
       "          [-8.8553e-01,  1.4658e+00,  5.0337e-01,  ..., -1.4307e+00,\n",
       "            6.1877e-01, -3.8002e-01]]],\n",
       "\n",
       "\n",
       "        [[[-4.9999e-01, -1.8049e+00,  4.1680e-01,  ..., -1.1381e+00,\n",
       "           -1.0651e+00,  3.0126e-01],\n",
       "          [-9.8521e-01,  5.8625e-01, -1.5129e-01,  ..., -1.3205e+00,\n",
       "           -3.8483e-01,  1.2922e-01],\n",
       "          [-9.1698e-01,  3.5622e-01,  6.9542e-01,  ...,  1.0144e-01,\n",
       "            4.6170e-01,  1.9117e-01],\n",
       "          ...,\n",
       "          [ 2.8561e-01, -2.6214e-01,  6.6566e-01,  ..., -1.5683e-01,\n",
       "            8.1351e-02,  7.6469e-02],\n",
       "          [ 2.4086e+00,  5.5173e-01, -6.2032e-01,  ..., -1.2639e+00,\n",
       "           -1.6511e+00, -1.6688e+00],\n",
       "          [ 6.0167e-01,  7.2386e-01, -3.8421e-01,  ...,  1.6830e-01,\n",
       "            1.9507e+00,  5.9535e-01]],\n",
       "\n",
       "         [[-1.2752e+00,  3.1334e-01,  5.1416e-01,  ..., -1.0227e+00,\n",
       "            3.9939e-01, -9.8252e-01],\n",
       "          [-6.6393e-01,  8.2970e-01,  2.2772e-01,  ..., -1.4173e-01,\n",
       "           -9.1540e-02,  1.4014e+00],\n",
       "          [-1.1613e-01, -2.9130e-01, -1.6912e+00,  ..., -6.9730e-01,\n",
       "            1.1769e+00, -7.9298e-01],\n",
       "          ...,\n",
       "          [-2.7616e+00,  1.4982e+00, -2.6261e+00,  ...,  1.2428e-01,\n",
       "           -7.6154e-01,  8.5153e-01],\n",
       "          [ 1.2925e+00,  8.4720e-02, -8.5429e-01,  ...,  6.4812e-01,\n",
       "           -5.5407e-01,  3.0182e-01],\n",
       "          [ 7.6561e-03, -7.3616e-01, -7.6920e-02,  ...,  3.4564e-01,\n",
       "           -3.7593e-01,  1.4516e+00]],\n",
       "\n",
       "         [[ 1.2142e+00, -5.6262e-02, -2.0087e+00,  ...,  5.8243e-01,\n",
       "           -1.7997e-01, -1.1483e-01],\n",
       "          [-8.3034e-01, -3.0344e-02,  1.6846e+00,  ..., -1.6973e+00,\n",
       "            1.0664e+00, -5.8165e-02],\n",
       "          [-3.6862e-01,  2.2307e-01, -3.0392e-01,  ..., -2.3162e+00,\n",
       "           -1.7723e+00, -2.2484e-01],\n",
       "          ...,\n",
       "          [-8.9797e-01,  3.1286e-01, -2.5393e-01,  ..., -8.0428e-01,\n",
       "           -1.5489e-01, -8.1374e-01],\n",
       "          [-6.3775e-01, -7.9772e-01, -9.0372e-01,  ..., -3.0271e-03,\n",
       "           -1.5205e+00,  1.5439e-01],\n",
       "          [ 8.0771e-01,  9.3568e-01,  6.9340e-01,  ..., -1.4481e+00,\n",
       "            1.9266e-01, -5.0734e-02]]],\n",
       "\n",
       "\n",
       "        ...,\n",
       "\n",
       "\n",
       "        [[[ 6.0592e-01, -5.1465e-01, -6.0400e-02,  ...,  2.1935e-01,\n",
       "            8.4787e-01, -8.2814e-01],\n",
       "          [-1.4076e+00, -4.3875e-01, -7.9706e-01,  ...,  5.9838e-02,\n",
       "            1.0269e-01, -7.4838e-01],\n",
       "          [ 3.3660e-01,  3.9091e-02,  2.3071e-01,  ..., -3.8560e-01,\n",
       "            6.7386e-01,  2.8608e+00],\n",
       "          ...,\n",
       "          [-1.1902e+00,  1.4609e+00, -1.4806e+00,  ..., -4.5382e-01,\n",
       "           -1.9487e-01, -6.1976e-01],\n",
       "          [-1.7282e+00, -1.7396e-01,  4.4731e-01,  ..., -1.2093e+00,\n",
       "            3.2772e-01,  3.8129e-01],\n",
       "          [ 8.4886e-01, -1.4452e+00, -1.1207e+00,  ..., -1.4920e+00,\n",
       "            1.4787e-01,  8.9931e-01]],\n",
       "\n",
       "         [[-8.7040e-01,  8.4606e-02, -1.0092e+00,  ...,  2.7099e-01,\n",
       "            1.2328e+00,  2.3051e-01],\n",
       "          [-8.2966e-01, -2.2937e-01, -3.9032e-02,  ...,  5.0961e-01,\n",
       "           -1.4606e-01,  6.2167e-01],\n",
       "          [-9.9073e-01,  3.5650e-01,  1.2042e+00,  ..., -1.2918e+00,\n",
       "            2.0172e+00, -4.8993e-02],\n",
       "          ...,\n",
       "          [-2.2252e-01,  1.2733e+00,  8.5025e-01,  ..., -4.8278e-01,\n",
       "           -1.1574e+00, -3.5322e-01],\n",
       "          [ 9.1524e-02,  1.0004e+00,  2.2781e-01,  ..., -1.4215e-01,\n",
       "           -9.5727e-01, -5.5772e-01],\n",
       "          [-1.6654e+00,  7.1731e-01, -1.2648e-02,  ..., -1.1465e-01,\n",
       "            1.6524e-01, -7.1289e-01]],\n",
       "\n",
       "         [[ 1.1837e+00,  8.3608e-01,  6.7464e-01,  ..., -1.3552e+00,\n",
       "            4.0840e-01, -5.5810e-01],\n",
       "          [ 4.8912e-01,  2.0988e+00, -2.1554e-01,  ...,  2.8556e-01,\n",
       "            2.8674e+00,  1.1784e+00],\n",
       "          [ 1.0589e+00,  2.0521e+00, -2.6998e-01,  ..., -3.6568e-01,\n",
       "            2.4072e-01,  2.2728e+00],\n",
       "          ...,\n",
       "          [-3.0853e-01, -9.5083e-01,  1.4470e+00,  ..., -5.5314e-02,\n",
       "           -1.1757e+00, -3.2937e-01],\n",
       "          [ 1.2296e+00, -8.9783e-01,  3.5747e-01,  ...,  5.2937e-02,\n",
       "            1.1376e+00,  1.7352e+00],\n",
       "          [ 9.9515e-01,  5.6394e-01, -9.3271e-01,  ...,  7.4018e-01,\n",
       "           -2.7081e-01,  2.2560e+00]]],\n",
       "\n",
       "\n",
       "        [[[-4.6706e-02,  2.6778e-01,  5.7438e-01,  ..., -1.0220e+00,\n",
       "           -5.5751e-01, -7.1520e-01],\n",
       "          [ 7.9447e-01,  4.4021e-01,  1.3186e+00,  ..., -1.6879e-01,\n",
       "           -7.9275e-01,  6.0890e-01],\n",
       "          [-2.0930e+00,  6.1069e-01, -1.6890e-01,  ..., -7.2801e-01,\n",
       "           -1.8338e+00,  9.1411e-01],\n",
       "          ...,\n",
       "          [-8.6728e-01, -6.2586e-01, -3.7682e-01,  ...,  4.7269e-01,\n",
       "           -6.6333e-01,  8.0770e-01],\n",
       "          [-1.0933e+00, -5.2961e-01,  9.4445e-01,  ...,  5.2627e-01,\n",
       "           -6.7254e-01, -2.1782e-01],\n",
       "          [ 1.4387e+00, -8.4302e-02,  8.5948e-01,  ..., -1.0057e+00,\n",
       "            1.4333e+00,  9.6597e-01]],\n",
       "\n",
       "         [[ 2.0852e-01,  8.8490e-02,  1.4880e-01,  ..., -1.2227e+00,\n",
       "            6.9478e-01,  1.9719e-01],\n",
       "          [-2.8367e-01,  8.0470e-01, -7.9094e-01,  ...,  4.3015e-01,\n",
       "           -7.2485e-01,  4.2520e-01],\n",
       "          [-1.1127e+00, -2.1157e-02, -1.0097e+00,  ...,  6.8951e-01,\n",
       "           -5.8398e-01,  3.6646e-01],\n",
       "          ...,\n",
       "          [ 1.0912e-01, -8.0844e-01,  4.4971e-01,  ..., -3.0006e-01,\n",
       "            5.6949e-02, -9.7126e-01],\n",
       "          [ 4.1883e-01,  1.0558e+00,  9.1052e-01,  ...,  5.4529e-01,\n",
       "            1.0014e+00, -1.3246e+00],\n",
       "          [-4.3485e-01,  5.1587e-01,  1.6854e-01,  ..., -1.8522e-01,\n",
       "            1.0878e+00, -1.9935e-01]],\n",
       "\n",
       "         [[-1.0659e+00, -6.7872e-01,  4.2229e-01,  ...,  5.4451e-01,\n",
       "           -1.4062e+00,  8.8118e-01],\n",
       "          [-1.2202e+00,  6.4004e-01, -6.6671e-01,  ...,  2.6644e-01,\n",
       "            4.4633e-01, -2.7384e+00],\n",
       "          [ 1.5938e+00, -1.4592e+00,  3.8779e-01,  ...,  1.1460e-01,\n",
       "            2.7507e-01,  5.1656e-01],\n",
       "          ...,\n",
       "          [-1.4876e+00, -1.9979e+00, -1.9927e+00,  ..., -5.9740e-01,\n",
       "           -2.2383e-01, -9.9528e-01],\n",
       "          [ 6.0192e-01, -2.4965e+00, -4.7246e-01,  ..., -8.8963e-01,\n",
       "            2.1437e-02, -1.4580e+00],\n",
       "          [ 1.0536e+00, -7.3072e-01, -1.4248e-01,  ..., -1.8247e+00,\n",
       "            5.6328e-01,  1.0353e+00]]],\n",
       "\n",
       "\n",
       "        [[[ 2.3762e+00, -1.9611e+00,  6.9325e-01,  ...,  2.8425e-01,\n",
       "            1.3550e+00,  2.9104e-01],\n",
       "          [ 1.3599e+00,  4.7173e-01, -2.2946e-01,  ...,  8.3139e-02,\n",
       "           -2.3999e-01, -3.5411e-01],\n",
       "          [-8.2350e-01, -1.5892e+00,  1.5092e+00,  ...,  1.5655e+00,\n",
       "            9.7189e-01, -1.3868e+00],\n",
       "          ...,\n",
       "          [ 1.2152e+00,  2.8076e-01, -6.5250e-01,  ...,  1.3010e+00,\n",
       "           -4.2346e-02,  4.2395e-01],\n",
       "          [-1.0579e+00, -2.7830e-01, -2.0979e+00,  ..., -9.8877e-01,\n",
       "           -3.2777e-01,  1.2798e+00],\n",
       "          [-1.0559e+00,  3.0839e+00,  6.0242e-01,  ..., -2.7042e-01,\n",
       "            5.6529e-01, -2.2797e-01]],\n",
       "\n",
       "         [[ 6.0318e-01, -8.9129e-01,  1.8320e-01,  ..., -9.0362e-02,\n",
       "            4.2469e-01,  5.5716e-01],\n",
       "          [ 4.6785e-01, -1.0492e+00, -4.1711e-01,  ..., -6.6773e-01,\n",
       "           -1.3685e+00, -3.0871e-02],\n",
       "          [ 1.3993e+00,  5.2482e-01, -1.7313e+00,  ..., -5.3333e-01,\n",
       "            3.1422e-01,  1.8490e-01],\n",
       "          ...,\n",
       "          [ 5.1485e-02,  2.1167e-01, -5.1702e-01,  ...,  3.3848e-01,\n",
       "           -1.7829e+00,  2.2030e+00],\n",
       "          [ 1.3001e+00,  1.2089e-01,  1.0819e+00,  ..., -2.0057e+00,\n",
       "           -2.3906e-01,  2.0303e-01],\n",
       "          [-4.9201e-01, -2.2175e+00,  1.3247e+00,  ...,  4.5942e-02,\n",
       "           -2.2683e-01, -1.4724e+00]],\n",
       "\n",
       "         [[-1.1123e+00, -3.6176e-01, -1.2831e+00,  ..., -5.3264e-01,\n",
       "           -1.6513e+00,  1.7199e-01],\n",
       "          [ 7.9628e-01,  5.1486e-01,  4.4367e-01,  ...,  4.9933e-02,\n",
       "           -1.4233e+00,  3.7522e-01],\n",
       "          [ 1.2605e+00, -1.9279e-01, -6.2420e-01,  ..., -6.2919e-01,\n",
       "            1.2847e+00, -3.5656e-01],\n",
       "          ...,\n",
       "          [ 9.3317e-01,  1.3136e+00, -7.0906e-01,  ..., -6.7888e-01,\n",
       "           -5.3972e-01,  2.0984e-01],\n",
       "          [ 8.1648e-01, -1.4225e-01, -9.6354e-01,  ...,  1.2898e+00,\n",
       "           -8.5609e-01,  7.9891e-01],\n",
       "          [ 1.9537e+00,  8.2873e-01, -4.5443e-01,  ..., -1.1683e+00,\n",
       "            8.4524e-01, -1.7653e+00]]]], grad_fn=<NativeBatchNormBackward0>)"
      ]
     },
     "execution_count": 15,
     "metadata": {},
     "output_type": "execute_result"
    }
   ],
   "execution_count": 15
  },
  {
   "metadata": {
    "ExecuteTime": {
     "end_time": "2025-01-25T04:56:18.335983Z",
     "start_time": "2025-01-25T04:56:18.326249Z"
    }
   },
   "cell_type": "code",
   "source": [
    "bn2d = nn.BatchNorm2d(1)              # 对 3 个通道进行归一化\n",
    "output_4d1 = bn2d(input_4d[:, 0:1, :, :])\n",
    "output_4d1"
   ],
   "outputs": [
    {
     "data": {
      "text/plain": [
       "tensor([[[[ 0.4353,  0.5215,  1.4366,  ..., -0.8784, -0.4052, -0.3543],\n",
       "          [-0.7096,  0.0403, -0.6426,  ..., -0.9676, -0.1021,  0.2762],\n",
       "          [-0.3526, -0.0085,  1.6950,  ...,  0.0743, -0.1715,  0.1197],\n",
       "          ...,\n",
       "          [-1.0431, -0.2082,  0.4503,  ..., -0.1434, -0.8255,  0.4952],\n",
       "          [-0.3719,  0.2082, -0.3385,  ...,  0.6067,  0.0925,  1.3463],\n",
       "          [ 0.3026,  0.3737, -0.4540,  ..., -0.8784, -0.6118, -2.4101]]],\n",
       "\n",
       "\n",
       "        [[[ 1.1479,  0.1563,  0.7856,  ...,  0.8633, -1.0894,  0.5694],\n",
       "          [ 0.6312,  1.5553, -0.5332,  ...,  2.4315,  0.7851, -0.8733],\n",
       "          [-0.8884, -1.1774, -0.9515,  ...,  0.0216, -0.6542,  0.2691],\n",
       "          ...,\n",
       "          [ 0.7520, -0.8921, -0.9298,  ..., -1.2041, -0.9511, -0.4815],\n",
       "          [-0.7353, -1.7467,  0.1544,  ..., -1.9132,  0.8671,  0.0481],\n",
       "          [-1.6492, -1.2802,  0.6544,  ..., -0.8165, -0.4680, -1.1101]]],\n",
       "\n",
       "\n",
       "        [[[-0.5000, -1.8048,  0.4168,  ..., -1.1381, -1.0651,  0.3013],\n",
       "          [-0.9852,  0.5862, -0.1513,  ..., -1.3205, -0.3848,  0.1292],\n",
       "          [-0.9170,  0.3562,  0.6954,  ...,  0.1014,  0.4617,  0.1912],\n",
       "          ...,\n",
       "          [ 0.2856, -0.2621,  0.6657,  ..., -0.1568,  0.0814,  0.0765],\n",
       "          [ 2.4086,  0.5517, -0.6203,  ..., -1.2639, -1.6511, -1.6688],\n",
       "          [ 0.6017,  0.7239, -0.3842,  ...,  0.1683,  1.9507,  0.5953]]],\n",
       "\n",
       "\n",
       "        ...,\n",
       "\n",
       "\n",
       "        [[[ 0.6059, -0.5147, -0.0604,  ...,  0.2193,  0.8479, -0.8281],\n",
       "          [-1.4076, -0.4387, -0.7971,  ...,  0.0598,  0.1027, -0.7484],\n",
       "          [ 0.3366,  0.0391,  0.2307,  ..., -0.3856,  0.6739,  2.8608],\n",
       "          ...,\n",
       "          [-1.1902,  1.4609, -1.4806,  ..., -0.4538, -0.1949, -0.6198],\n",
       "          [-1.7282, -0.1740,  0.4473,  ..., -1.2093,  0.3277,  0.3813],\n",
       "          [ 0.8489, -1.4452, -1.1207,  ..., -1.4920,  0.1479,  0.8993]]],\n",
       "\n",
       "\n",
       "        [[[-0.0467,  0.2678,  0.5744,  ..., -1.0220, -0.5575, -0.7152],\n",
       "          [ 0.7945,  0.4402,  1.3186,  ..., -0.1688, -0.7927,  0.6089],\n",
       "          [-2.0930,  0.6107, -0.1689,  ..., -0.7280, -1.8338,  0.9141],\n",
       "          ...,\n",
       "          [-0.8673, -0.6259, -0.3768,  ...,  0.4727, -0.6633,  0.8077],\n",
       "          [-1.0933, -0.5296,  0.9445,  ...,  0.5263, -0.6725, -0.2178],\n",
       "          [ 1.4387, -0.0843,  0.8595,  ..., -1.0057,  1.4333,  0.9660]]],\n",
       "\n",
       "\n",
       "        [[[ 2.3762, -1.9611,  0.6933,  ...,  0.2843,  1.3550,  0.2910],\n",
       "          [ 1.3599,  0.4717, -0.2295,  ...,  0.0831, -0.2400, -0.3541],\n",
       "          [-0.8235, -1.5892,  1.5092,  ...,  1.5655,  0.9719, -1.3868],\n",
       "          ...,\n",
       "          [ 1.2152,  0.2808, -0.6525,  ...,  1.3010, -0.0423,  0.4240],\n",
       "          [-1.0579, -0.2783, -2.0979,  ..., -0.9888, -0.3278,  1.2798],\n",
       "          [-1.0559,  3.0839,  0.6024,  ..., -0.2704,  0.5653, -0.2280]]]],\n",
       "       grad_fn=<NativeBatchNormBackward0>)"
      ]
     },
     "execution_count": 16,
     "metadata": {},
     "output_type": "execute_result"
    }
   ],
   "execution_count": 16
  },
  {
   "attachments": {},
   "cell_type": "markdown",
   "metadata": {},
   "source": [
    "## 训练\n",
    "\n",
    "pytorch的训练需要自行实现，包括\n",
    "1. 定义损失函数\n",
    "2. 定义优化器\n",
    "3. 定义训练步\n",
    "4. 训练"
   ]
  },
  {
   "cell_type": "code",
   "metadata": {
    "ExecuteTime": {
     "end_time": "2025-01-25T04:56:18.425373Z",
     "start_time": "2025-01-25T04:56:18.337978Z"
    }
   },
   "source": [
    "from sklearn.metrics import accuracy_score\n",
    "\n",
    "@torch.no_grad()\n",
    "def evaluating(model, dataloader, loss_fct):\n",
    "    loss_list = []\n",
    "    pred_list = []\n",
    "    label_list = []\n",
    "    for datas, labels in dataloader:\n",
    "        datas = datas.to(device)\n",
    "        labels = labels.to(device)\n",
    "        # 前向计算\n",
    "        logits = model(datas)\n",
    "        loss = loss_fct(logits, labels)         # 验证集损失\n",
    "        loss_list.append(loss.item())\n",
    "        \n",
    "        preds = logits.argmax(axis=-1)    # 验证集预测\n",
    "        pred_list.extend(preds.cpu().numpy().tolist())\n",
    "        label_list.extend(labels.cpu().numpy().tolist())\n",
    "        \n",
    "    acc = accuracy_score(label_list, pred_list)\n",
    "    return np.mean(loss_list), acc\n"
   ],
   "outputs": [],
   "execution_count": 17
  },
  {
   "attachments": {},
   "cell_type": "markdown",
   "metadata": {},
   "source": [
    "### TensorBoard 可视化\n",
    "\n",
    "\n",
    "训练过程中可以使用如下命令启动tensorboard服务。\n",
    "\n",
    "```shell\n",
    "tensorboard \\\n",
    "    --logdir=runs \\     # log 存放路径\n",
    "    --host 0.0.0.0 \\    # ip\n",
    "    --port 8848         # 端口\n",
    "```"
   ]
  },
  {
   "cell_type": "code",
   "metadata": {
    "ExecuteTime": {
     "end_time": "2025-01-25T04:56:22.250998Z",
     "start_time": "2025-01-25T04:56:18.426370Z"
    }
   },
   "source": [
    "from torch.utils.tensorboard import SummaryWriter\n",
    "\n",
    "\n",
    "class TensorBoardCallback:\n",
    "    def __init__(self, log_dir, flush_secs=10):\n",
    "        \"\"\"\n",
    "        Args:\n",
    "            log_dir (str): dir to write log.\n",
    "            flush_secs (int, optional): write to dsk each flush_secs seconds. Defaults to 10.\n",
    "        \"\"\"\n",
    "        self.writer = SummaryWriter(log_dir=log_dir, flush_secs=flush_secs)\n",
    "\n",
    "    def draw_model(self, model, input_shape):\n",
    "        self.writer.add_graph(model, input_to_model=torch.randn(input_shape))\n",
    "        \n",
    "    def add_loss_scalars(self, step, loss, val_loss):\n",
    "        self.writer.add_scalars(\n",
    "            main_tag=\"training/loss\", \n",
    "            tag_scalar_dict={\"loss\": loss, \"val_loss\": val_loss},\n",
    "            global_step=step,\n",
    "            )\n",
    "        \n",
    "    def add_acc_scalars(self, step, acc, val_acc):\n",
    "        self.writer.add_scalars(\n",
    "            main_tag=\"training/accuracy\",\n",
    "            tag_scalar_dict={\"accuracy\": acc, \"val_accuracy\": val_acc},\n",
    "            global_step=step,\n",
    "        )\n",
    "        \n",
    "    def add_lr_scalars(self, step, learning_rate):\n",
    "        self.writer.add_scalars(\n",
    "            main_tag=\"training/learning_rate\",\n",
    "            tag_scalar_dict={\"learning_rate\": learning_rate},\n",
    "            global_step=step,\n",
    "            \n",
    "        )\n",
    "    \n",
    "    def __call__(self, step, **kwargs):\n",
    "        # add loss\n",
    "        loss = kwargs.pop(\"loss\", None)\n",
    "        val_loss = kwargs.pop(\"val_loss\", None)\n",
    "        if loss is not None and val_loss is not None:\n",
    "            self.add_loss_scalars(step, loss, val_loss)\n",
    "        # add acc\n",
    "        acc = kwargs.pop(\"acc\", None)\n",
    "        val_acc = kwargs.pop(\"val_acc\", None)\n",
    "        if acc is not None and val_acc is not None:\n",
    "            self.add_acc_scalars(step, acc, val_acc)\n",
    "        # add lr\n",
    "        learning_rate = kwargs.pop(\"lr\", None)\n",
    "        if learning_rate is not None:\n",
    "            self.add_lr_scalars(step, learning_rate)\n"
   ],
   "outputs": [],
   "execution_count": 18
  },
  {
   "attachments": {},
   "cell_type": "markdown",
   "metadata": {},
   "source": [
    "### Save Best\n"
   ]
  },
  {
   "cell_type": "code",
   "metadata": {
    "ExecuteTime": {
     "end_time": "2025-01-25T04:56:22.256325Z",
     "start_time": "2025-01-25T04:56:22.251915Z"
    }
   },
   "source": [
    "class SaveCheckpointsCallback:\n",
    "    def __init__(self, save_dir, save_step=5000, save_best_only=True):\n",
    "        \"\"\"\n",
    "        Save checkpoints each save_epoch epoch. \n",
    "        We save checkpoint by epoch in this implementation.\n",
    "        Usually, training scripts with pytorch evaluating model and save checkpoint by step.\n",
    "\n",
    "        Args:\n",
    "            save_dir (str): dir to save checkpoint\n",
    "            save_epoch (int, optional): the frequency to save checkpoint. Defaults to 1.\n",
    "            save_best_only (bool, optional): If True, only save the best model or save each model at every epoch.\n",
    "        \"\"\"\n",
    "        self.save_dir = save_dir\n",
    "        self.save_step = save_step\n",
    "        self.save_best_only = save_best_only\n",
    "        self.best_metrics = -1\n",
    "        \n",
    "        # mkdir\n",
    "        if not os.path.exists(self.save_dir):\n",
    "            os.mkdir(self.save_dir)\n",
    "        \n",
    "    def __call__(self, step, state_dict, metric=None):\n",
    "        if step % self.save_step > 0:\n",
    "            return\n",
    "        \n",
    "        if self.save_best_only:\n",
    "            assert metric is not None\n",
    "            if metric >= self.best_metrics:\n",
    "                # save checkpoints\n",
    "                torch.save(state_dict, os.path.join(self.save_dir, \"best.ckpt\"))\n",
    "                # update best metrics\n",
    "                self.best_metrics = metric\n",
    "        else:\n",
    "            torch.save(state_dict, os.path.join(self.save_dir, f\"{step}.ckpt\"))\n",
    "\n"
   ],
   "outputs": [],
   "execution_count": 19
  },
  {
   "attachments": {},
   "cell_type": "markdown",
   "metadata": {},
   "source": [
    "### Early Stop"
   ]
  },
  {
   "cell_type": "code",
   "metadata": {
    "ExecuteTime": {
     "end_time": "2025-01-25T04:56:22.261816Z",
     "start_time": "2025-01-25T04:56:22.256325Z"
    }
   },
   "source": [
    "class EarlyStopCallback:\n",
    "    def __init__(self, patience=5, min_delta=0.01):\n",
    "        \"\"\"\n",
    "\n",
    "        Args:\n",
    "            patience (int, optional): Number of epochs with no improvement after which training will be stopped.. Defaults to 5.\n",
    "            min_delta (float, optional): Minimum change in the monitored quantity to qualify as an improvement, i.e. an absolute \n",
    "                change of less than min_delta, will count as no improvement. Defaults to 0.01.\n",
    "        \"\"\"\n",
    "        self.patience = patience\n",
    "        self.min_delta = min_delta\n",
    "        self.best_metric = -1\n",
    "        self.counter = 0\n",
    "        \n",
    "    def __call__(self, metric):\n",
    "        if metric >= self.best_metric + self.min_delta:\n",
    "            # update best metric\n",
    "            self.best_metric = metric\n",
    "            # reset counter \n",
    "            self.counter = 0\n",
    "        else: \n",
    "            self.counter += 1\n",
    "            \n",
    "    @property\n",
    "    def early_stop(self):\n",
    "        return self.counter >= self.patience\n"
   ],
   "outputs": [],
   "execution_count": 20
  },
  {
   "cell_type": "code",
   "metadata": {
    "ExecuteTime": {
     "end_time": "2025-01-25T04:56:22.706980Z",
     "start_time": "2025-01-25T04:56:22.262827Z"
    }
   },
   "source": [
    "# 训练\n",
    "def training(\n",
    "    model, \n",
    "    train_loader, \n",
    "    val_loader, \n",
    "    epoch, \n",
    "    loss_fct, \n",
    "    optimizer, \n",
    "    tensorboard_callback=None,\n",
    "    save_ckpt_callback=None,\n",
    "    early_stop_callback=None,\n",
    "    eval_step=500,\n",
    "    ):\n",
    "    record_dict = {\n",
    "        \"train\": [],\n",
    "        \"val\": []\n",
    "    }\n",
    "    \n",
    "    global_step = 0\n",
    "    model.train()\n",
    "    with tqdm(total=epoch * len(train_loader)) as pbar:\n",
    "        for epoch_id in range(epoch):\n",
    "            # training\n",
    "            for datas, labels in train_loader:\n",
    "                datas = datas.to(device)\n",
    "                labels = labels.to(device)\n",
    "                # 梯度清空\n",
    "                optimizer.zero_grad()\n",
    "                # 模型前向计算\n",
    "                logits = model(datas)\n",
    "                # 计算损失\n",
    "                loss = loss_fct(logits, labels)\n",
    "                # 梯度回传\n",
    "                loss.backward()\n",
    "                # 调整优化器，包括学习率的变动等\n",
    "                optimizer.step()\n",
    "                preds = logits.argmax(axis=-1) #最大值的索引\n",
    "            \n",
    "                acc = accuracy_score(labels.cpu().numpy(), preds.cpu().numpy())     # 计算准确率\n",
    "                loss = loss.cpu().item() # 计算损失\n",
    "                # record\n",
    "                \n",
    "                record_dict[\"train\"].append({\n",
    "                    \"loss\": loss, \"acc\": acc, \"step\": global_step # 记录每一步的损失和准确率\n",
    "                })\n",
    "                \n",
    "                # evaluating\n",
    "                if global_step % eval_step == 0:\n",
    "                    model.eval()\n",
    "                    val_loss, val_acc = evaluating(model, val_loader, loss_fct)\n",
    "                    record_dict[\"val\"].append({\n",
    "                        \"loss\": val_loss, \"acc\": val_acc, \"step\": global_step\n",
    "                    })\n",
    "                    model.train()\n",
    "                    \n",
    "                    # 1. 使用 tensorboard 可视化\n",
    "                    if tensorboard_callback is not None:\n",
    "                        tensorboard_callback(\n",
    "                            global_step, \n",
    "                            loss=loss, val_loss=val_loss,\n",
    "                            acc=acc, val_acc=val_acc,\n",
    "                            lr=optimizer.param_groups[0][\"lr\"],\n",
    "                            )\n",
    "                \n",
    "                    # 2. 保存模型权重 save model checkpoint\n",
    "                    if save_ckpt_callback is not None:\n",
    "                        save_ckpt_callback(global_step, model.state_dict(), metric=val_acc)\n",
    "\n",
    "                    # 3. 早停 Early Stop\n",
    "                    if early_stop_callback is not None:\n",
    "                        early_stop_callback(val_acc)\n",
    "                        if early_stop_callback.early_stop:\n",
    "                            print(f\"Early stop at epoch {epoch_id} / global_step {global_step}\")\n",
    "                            return record_dict\n",
    "                    \n",
    "                # udate step\n",
    "                global_step += 1\n",
    "                pbar.update(1)\n",
    "                pbar.set_postfix({\"epoch\": epoch_id})\n",
    "        \n",
    "    return record_dict\n",
    "        \n",
    "\n",
    "epoch = 20\n",
    "\n",
    "model = CNN(num_classes=10)\n",
    "\n",
    "# 1. 定义损失函数 采用交叉熵损失\n",
    "loss_fct = nn.CrossEntropyLoss()\n",
    "# 2. 定义优化器 采用 adam\n",
    "# Optimizers specified in the torch.optim package\n",
    "optimizer = torch.optim.Adam(model.parameters(), lr=0.001)\n",
    "\n",
    "# 1. tensorboard 可视化\n",
    "if not os.path.exists(\"runs\"):\n",
    "    os.mkdir(\"runs\")\n",
    "tensorboard_callback = TensorBoardCallback(\"runs/cifar-10\")\n",
    "tensorboard_callback.draw_model(model, [1, 3, IMAGE_SIZE, IMAGE_SIZE])\n",
    "# 2. save best\n",
    "if not os.path.exists(\"checkpoints\"):\n",
    "    os.makedirs(\"checkpoints\")\n",
    "save_ckpt_callback = SaveCheckpointsCallback(\"checkpoints/cifar-10\", save_step=len(train_dl), save_best_only=True)\n",
    "# 3. early stop\n",
    "early_stop_callback = EarlyStopCallback(patience=5)\n",
    "\n",
    "model = model.to(device)\n"
   ],
   "outputs": [],
   "execution_count": 21
  },
  {
   "cell_type": "code",
   "source": [
    "record = training(\n",
    "    model,\n",
    "    train_dl,\n",
    "    eval_dl,\n",
    "    epoch,\n",
    "    loss_fct,\n",
    "    optimizer,\n",
    "    tensorboard_callback=tensorboard_callback,\n",
    "    save_ckpt_callback=save_ckpt_callback,\n",
    "    early_stop_callback=early_stop_callback,\n",
    "    eval_step=len(train_dl)\n",
    "    )"
   ],
   "metadata": {
    "collapsed": false,
    "ExecuteTime": {
     "end_time": "2025-01-25T05:02:54.987913Z",
     "start_time": "2025-01-25T04:56:22.707983Z"
    }
   },
   "outputs": [
    {
     "data": {
      "text/plain": [
       "  0%|          | 0/14080 [00:00<?, ?it/s]"
      ],
      "application/vnd.jupyter.widget-view+json": {
       "version_major": 2,
       "version_minor": 0,
       "model_id": "1c8a4156c9e9446f86b05fe49bff6ded"
      }
     },
     "metadata": {},
     "output_type": "display_data"
    },
    {
     "name": "stdout",
     "output_type": "stream",
     "text": [
      "Early stop at epoch 6 / global_step 4224\n"
     ]
    }
   ],
   "execution_count": 22
  },
  {
   "cell_type": "code",
   "metadata": {
    "ExecuteTime": {
     "end_time": "2025-01-25T05:02:55.189562Z",
     "start_time": "2025-01-25T05:02:54.988932Z"
    }
   },
   "source": [
    "#画线要注意的是损失是不一定在零到1之间的\n",
    "def plot_learning_curves(record_dict, sample_step=500):\n",
    "    # build DataFrame\n",
    "    train_df = pd.DataFrame(record_dict[\"train\"]).set_index(\"step\").iloc[::sample_step]\n",
    "    val_df = pd.DataFrame(record_dict[\"val\"]).set_index(\"step\")\n",
    "\n",
    "    # plot\n",
    "    fig_num = len(train_df.columns)\n",
    "    fig, axs = plt.subplots(1, fig_num, figsize=(5 * fig_num, 5))\n",
    "    for idx, item in enumerate(train_df.columns):    \n",
    "        axs[idx].plot(train_df.index, train_df[item], label=f\"train_{item}\")\n",
    "        axs[idx].plot(val_df.index, val_df[item], label=f\"val_{item}\")\n",
    "        axs[idx].grid()\n",
    "        axs[idx].legend()\n",
    "        # axs[idx].set_xticks(range(0, train_df.index[-1], 5000))\n",
    "        # axs[idx].set_xticklabels(map(lambda x: f\"{int(x/1000)}k\", range(0, train_df.index[-1], 5000)))\n",
    "        axs[idx].set_xlabel(\"step\")\n",
    "    \n",
    "    plt.show()\n",
    "\n",
    "plot_learning_curves(record, sample_step=10)  #横坐标是 steps"
   ],
   "outputs": [
    {
     "data": {
      "text/plain": [
       "<Figure size 1000x500 with 2 Axes>"
      ],
      "image/png": "[encoded data removed]"
     },
     "metadata": {},
     "output_type": "display_data"
    }
   ],
   "execution_count": 23
  },
  {
   "attachments": {},
   "cell_type": "markdown",
   "metadata": {},
   "source": [
    "# 评估"
   ]
  },
  {
   "cell_type": "code",
   "metadata": {
    "ExecuteTime": {
     "end_time": "2025-01-25T05:03:01.864899Z",
     "start_time": "2025-01-25T05:02:55.190585Z"
    }
   },
   "source": [
    "# dataload for evaluating\n",
    "\n",
    "# load checkpoints\n",
    "model.load_state_dict(torch.load(\"checkpoints/cifar-10/best.ckpt\", map_location=\"cpu\"))\n",
    "\n",
    "model.eval()\n",
    "loss, acc = evaluating(model, eval_dl, loss_fct)\n",
    "print(f\"loss:     {loss:.4f}\\naccuracy: {acc:.4f}\")"
   ],
   "outputs": [
    {
     "name": "stderr",
     "output_type": "stream",
     "text": [
      "C:\\Users\\klklklk\\AppData\\Local\\Temp\\ipykernel_17064\\1513600467.py:4: FutureWarning: You are using `torch.load` with `weights_only=False` (the current default value), which uses the default pickle module implicitly. It is possible to construct malicious pickle data which will execute arbitrary code during unpickling (See https://github.com/pytorch/pytorch/blob/main/SECURITY.md#untrusted-models for more details). In a future release, the default value for `weights_only` will be flipped to `True`. This limits the functions that could be executed during unpickling. Arbitrary objects will no longer be allowed to be loaded via this mode unless they are explicitly allowlisted by the user via `torch.serialization.add_safe_globals`. We recommend you start setting `weights_only=True` for any use case where you don't have full control of the loaded file. Please open an issue on GitHub for any issues related to this experimental feature.\n",
      "  model.load_state_dict(torch.load(\"checkpoints/cifar-10/best.ckpt\", map_location=\"cpu\"))\n"
     ]
    },
    {
     "name": "stdout",
     "output_type": "stream",
     "text": [
      "loss:     40.8752\n",
      "accuracy: 0.1492\n"
     ]
    }
   ],
   "execution_count": 24
  },
  {
   "attachments": {},
   "cell_type": "markdown",
   "metadata": {},
   "source": [
    "# 推理"
   ]
  },
  {
   "cell_type": "code",
   "metadata": {
    "ExecuteTime": {
     "end_time": "2025-01-25T05:10:51.217370Z",
     "start_time": "2025-01-25T05:03:01.865915Z"
    }
   },
   "source": [
    "# test_df\n",
    "test_ds = Cifar10Dataset(\"test\", transform=transforms_eval)\n",
    "test_dl = DataLoader(test_ds, batch_size=batch_size, shuffle=False, drop_last=False)\n",
    "\n",
    "preds_collect = [] # 预测结果收集器\n",
    "model.eval()\n",
    "for data, fake_label in tqdm(test_dl):\n",
    "    data = data.to(device=device)\n",
    "    logits = model(data) #得到预测结果\n",
    "    preds = [test_ds.idx_to_label[idx] for idx in logits.argmax(axis=-1).cpu().tolist()] # 得到预测类别，idx_to_label是id到字符串类别的映射\n",
    "    preds_collect.extend(preds)\n",
    "    \n",
    "test_df[\"label\"] = preds_collect # 增加预测类别列,比赛要求这一列是label\n",
    "test_df.head()"
   ],
   "outputs": [
    {
     "data": {
      "text/plain": [
       "  0%|          | 0/4688 [00:00<?, ?it/s]"
      ],
      "application/vnd.jupyter.widget-view+json": {
       "version_major": 2,
       "version_minor": 0,
       "model_id": "fa33ef589b1d4edbaf4e6c14b1d0403c"
      }
     },
     "metadata": {},
     "output_type": "display_data"
    },
    {
     "data": {
      "text/plain": [
       "                                      filepath class       label\n",
       "0  F:\\BaiduNetdiskDownload\\cifar-10\\test\\1.png   cat       horse\n",
       "1  F:\\BaiduNetdiskDownload\\cifar-10\\test\\2.png   cat  automobile\n",
       "2  F:\\BaiduNetdiskDownload\\cifar-10\\test\\3.png   cat  automobile\n",
       "3  F:\\BaiduNetdiskDownload\\cifar-10\\test\\4.png   cat    airplane\n",
       "4  F:\\BaiduNetdiskDownload\\cifar-10\\test\\5.png   cat    airplane"
      ],
      "text/html": [
       "<div>\n",
       "<style scoped>\n",
       "    .dataframe tbody tr th:only-of-type {\n",
       "        vertical-align: middle;\n",
       "    }\n",
       "\n",
       "    .dataframe tbody tr th {\n",
       "        vertical-align: top;\n",
       "    }\n",
       "\n",
       "    .dataframe thead th {\n",
       "        text-align: right;\n",
       "    }\n",
       "</style>\n",
       "<table border=\"1\" class=\"dataframe\">\n",
       "  <thead>\n",
       "    <tr style=\"text-align: right;\">\n",
       "      <th></th>\n",
       "      <th>filepath</th>\n",
       "      <th>class</th>\n",
       "      <th>label</th>\n",
       "    </tr>\n",
       "  </thead>\n",
       "  <tbody>\n",
       "    <tr>\n",
       "      <th>0</th>\n",
       "      <td>F:\\BaiduNetdiskDownload\\cifar-10\\test\\1.png</td>\n",
       "      <td>cat</td>\n",
       "      <td>horse</td>\n",
       "    </tr>\n",
       "    <tr>\n",
       "      <th>1</th>\n",
       "      <td>F:\\BaiduNetdiskDownload\\cifar-10\\test\\2.png</td>\n",
       "      <td>cat</td>\n",
       "      <td>automobile</td>\n",
       "    </tr>\n",
       "    <tr>\n",
       "      <th>2</th>\n",
       "      <td>F:\\BaiduNetdiskDownload\\cifar-10\\test\\3.png</td>\n",
       "      <td>cat</td>\n",
       "      <td>automobile</td>\n",
       "    </tr>\n",
       "    <tr>\n",
       "      <th>3</th>\n",
       "      <td>F:\\BaiduNetdiskDownload\\cifar-10\\test\\4.png</td>\n",
       "      <td>cat</td>\n",
       "      <td>airplane</td>\n",
       "    </tr>\n",
       "    <tr>\n",
       "      <th>4</th>\n",
       "      <td>F:\\BaiduNetdiskDownload\\cifar-10\\test\\5.png</td>\n",
       "      <td>cat</td>\n",
       "      <td>airplane</td>\n",
       "    </tr>\n",
       "  </tbody>\n",
       "</table>\n",
       "</div>"
      ]
     },
     "execution_count": 25,
     "metadata": {},
     "output_type": "execute_result"
    }
   ],
   "execution_count": 25
  },
  {
   "cell_type": "code",
   "source": [
    "64*4688"
   ],
   "metadata": {
    "collapsed": false,
    "ExecuteTime": {
     "end_time": "2025-01-25T05:10:51.223369Z",
     "start_time": "2025-01-25T05:10:51.218373Z"
    }
   },
   "outputs": [
    {
     "data": {
      "text/plain": [
       "300032"
      ]
     },
     "execution_count": 26,
     "metadata": {},
     "output_type": "execute_result"
    }
   ],
   "execution_count": 26
  },
  {
   "cell_type": "code",
   "metadata": {
    "ExecuteTime": {
     "end_time": "2025-01-25T05:10:52.075608Z",
     "start_time": "2025-01-25T05:10:51.224374Z"
    }
   },
   "source": [
    "# 导出 submission.csv\n",
    "test_df.to_csv(\"submission.csv\", index=False)"
   ],
   "outputs": [],
   "execution_count": 27
  }
 ],
 "metadata": {
  "kernelspec": {
   "display_name": "pytorch",
   "language": "python",
   "name": "python3"
  },
  "language_info": {
   "codemirror_mode": {
    "name": "ipython",
    "version": 3
   },
   "file_extension": ".py",
   "mimetype": "text/x-python",
   "name": "python",
   "nbconvert_exporter": "python",
   "pygments_lexer": "ipython3",
   "version": "3.10.8"
  },
  "orig_nbformat": 4
 },
 "nbformat": 4,
 "nbformat_minor": 2
}
