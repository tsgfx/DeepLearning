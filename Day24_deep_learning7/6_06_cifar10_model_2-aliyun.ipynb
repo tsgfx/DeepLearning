{
 "cells": [
  {
   "cell_type": "markdown",
   "metadata": {},
   "source": [
    "<font color=\"red\">注</font>: 使用 tensorboard 可视化需要安装 tensorflow (TensorBoard依赖于tensorflow库，可以任意安装tensorflow的gpu/cpu版本)\n",
    "\n",
    "```shell\n",
    "pip install tensorflow-cpu\n",
    "```"
   ]
  },
  {
   "cell_type": "code",
   "execution_count": 1,
   "metadata": {
    "ExecuteTime": {
     "end_time": "2025-01-20T07:41:29.893914Z",
     "start_time": "2025-01-20T07:41:27.487296Z"
    },
    "execution": {
     "iopub.execute_input": "2025-01-24T09:14:02.020412Z",
     "iopub.status.busy": "2025-01-24T09:14:02.019959Z",
     "iopub.status.idle": "2025-01-24T09:14:08.958358Z",
     "shell.execute_reply": "2025-01-24T09:14:08.957542Z",
     "shell.execute_reply.started": "2025-01-24T09:14:02.020380Z"
    },
    "tags": []
   },
   "outputs": [
    {
     "name": "stderr",
     "output_type": "stream",
     "text": [
      "/usr/local/lib/python3.10/site-packages/tqdm/auto.py:21: TqdmWarning: IProgress not found. Please update jupyter and ipywidgets. See https://ipywidgets.readthedocs.io/en/stable/user_install.html\n",
      "  from .autonotebook import tqdm as notebook_tqdm\n"
     ]
    },
    {
     "name": "stdout",
     "output_type": "stream",
     "text": [
      "sys.version_info(major=3, minor=10, micro=14, releaselevel='final', serial=0)\n",
      "matplotlib 3.10.0\n",
      "numpy 1.26.4\n",
      "pandas 2.2.3\n",
      "sklearn 1.6.0\n",
      "torch 2.5.1+cu124\n",
      "cuda:0\n"
     ]
    }
   ],
   "source": [
    "import matplotlib as mpl\n",
    "import matplotlib.pyplot as plt\n",
    "%matplotlib inline\n",
    "import numpy as np\n",
    "import sklearn\n",
    "import pandas as pd\n",
    "import os\n",
    "import sys\n",
    "import time\n",
    "from tqdm.auto import tqdm\n",
    "import torch\n",
    "import torch.nn as nn\n",
    "import torch.nn.functional as F\n",
    "\n",
    "print(sys.version_info)\n",
    "for module in mpl, np, pd, sklearn, torch:\n",
    "    print(module.__name__, module.__version__)\n",
    "    \n",
    "device = torch.device(\"cuda:0\") if torch.cuda.is_available() else torch.device(\"cpu\")\n",
    "print(device)\n",
    "\n",
    "seed = 42\n"
   ]
  },
  {
   "cell_type": "markdown",
   "metadata": {},
   "source": [
    "## 数据准备\n",
    "\n",
    "```shell\n",
    "$ tree -L 1 cifar-10                                    \n",
    "cifar-10\n",
    "├── sampleSubmission.csv\n",
    "├── test\n",
    "├── train\n",
    "└── trainLabels.csv\n",
    "```"
   ]
  },
  {
   "cell_type": "code",
   "execution_count": 6,
   "metadata": {
    "ExecutionIndicator": {
     "show": true
    },
    "execution": {
     "iopub.execute_input": "2025-01-24T09:15:25.679827Z",
     "iopub.status.busy": "2025-01-24T09:15:25.679313Z",
     "iopub.status.idle": "2025-01-24T09:15:33.411129Z",
     "shell.execute_reply": "2025-01-24T09:15:33.409949Z",
     "shell.execute_reply.started": "2025-01-24T09:15:25.679790Z"
    },
    "tags": []
   },
   "outputs": [
    {
     "name": "stdout",
     "output_type": "stream",
     "text": [
      "Looking in indexes: https://mirrors.cloud.aliyuncs.com/pypi/simple\n",
      "Collecting kaggle\n",
      "  Downloading https://mirrors.cloud.aliyuncs.com/pypi/packages/66/e3/c775e2213bac0ac1f1fd601d1c915d13934c5944cbff153ede6584acab50/kaggle-1.6.17.tar.gz (82 kB)\n",
      "\u001b[2K     \u001b[90m━━━━━━━━━━━━━━━━━━━━━━━━━━━━━━━━━━━━━━━━\u001b[0m \u001b[32m82.7/82.7 kB\u001b[0m \u001b[31m3.4 MB/s\u001b[0m eta \u001b[36m0:00:00\u001b[0m\n",
      "\u001b[?25h  Preparing metadata (setup.py) ... \u001b[?25ldone\n",
      "\u001b[?25hRequirement already satisfied: six>=1.10 in /usr/local/lib/python3.10/site-packages (from kaggle) (1.17.0)\n",
      "Requirement already satisfied: certifi>=2023.7.22 in /usr/local/lib/python3.10/site-packages (from kaggle) (2024.12.14)\n",
      "Requirement already satisfied: python-dateutil in /usr/local/lib/python3.10/site-packages (from kaggle) (2.9.0.post0)\n",
      "Requirement already satisfied: requests in /usr/local/lib/python3.10/site-packages (from kaggle) (2.32.3)\n",
      "Requirement already satisfied: tqdm in /usr/local/lib/python3.10/site-packages (from kaggle) (4.67.1)\n",
      "Collecting python-slugify (from kaggle)\n",
      "  Downloading https://mirrors.cloud.aliyuncs.com/pypi/packages/a4/62/02da182e544a51a5c3ccf4b03ab79df279f9c60c5e82d5e8bec7ca26ac11/python_slugify-8.0.4-py2.py3-none-any.whl (10 kB)\n",
      "Requirement already satisfied: urllib3 in /usr/local/lib/python3.10/site-packages (from kaggle) (2.3.0)\n",
      "Collecting bleach (from kaggle)\n",
      "  Downloading https://mirrors.cloud.aliyuncs.com/pypi/packages/fc/55/96142937f66150805c25c4d0f31ee4132fd33497753400734f9dfdcbdc66/bleach-6.2.0-py3-none-any.whl (163 kB)\n",
      "\u001b[2K     \u001b[90m━━━━━━━━━━━━━━━━━━━━━━━━━━━━━━━━━━━━━━━\u001b[0m \u001b[32m163.4/163.4 kB\u001b[0m \u001b[31m6.7 MB/s\u001b[0m eta \u001b[36m0:00:00\u001b[0m\n",
      "\u001b[?25hCollecting webencodings (from bleach->kaggle)\n",
      "  Downloading https://mirrors.cloud.aliyuncs.com/pypi/packages/f4/24/2a3e3df732393fed8b3ebf2ec078f05546de641fe1b667ee316ec1dcf3b7/webencodings-0.5.1-py2.py3-none-any.whl (11 kB)\n",
      "Collecting text-unidecode>=1.3 (from python-slugify->kaggle)\n",
      "  Downloading https://mirrors.cloud.aliyuncs.com/pypi/packages/a6/a5/c0b6468d3824fe3fde30dbb5e1f687b291608f9473681bbf7dabbf5a87d7/text_unidecode-1.3-py2.py3-none-any.whl (78 kB)\n",
      "\u001b[2K     \u001b[90m━━━━━━━━━━━━━━━━━━━━━━━━━━━━━━━━━━━━━━━━\u001b[0m \u001b[32m78.2/78.2 kB\u001b[0m \u001b[31m21.2 MB/s\u001b[0m eta \u001b[36m0:00:00\u001b[0m\n",
      "\u001b[?25hRequirement already satisfied: charset-normalizer<4,>=2 in /usr/local/lib/python3.10/site-packages (from requests->kaggle) (3.4.1)\n",
      "Requirement already satisfied: idna<4,>=2.5 in /usr/local/lib/python3.10/site-packages (from requests->kaggle) (3.10)\n",
      "Building wheels for collected packages: kaggle\n",
      "  Building wheel for kaggle (setup.py) ... \u001b[?25ldone\n",
      "\u001b[?25h  Created wheel for kaggle: filename=kaggle-1.6.17-py3-none-any.whl size=105800 sha256=eb5e7006b4c29a204db2fc27dac9315e3c6117a0aceb0d768818047d8fbaa7e9\n",
      "  Stored in directory: /root/.cache/pip/wheels/85/59/78/39b001621fad138a41610d830155c8b08d48649b2197e433c7\n",
      "Successfully built kaggle\n",
      "Installing collected packages: webencodings, text-unidecode, python-slugify, bleach, kaggle\n",
      "Successfully installed bleach-6.2.0 kaggle-1.6.17 python-slugify-8.0.4 text-unidecode-1.3 webencodings-0.5.1\n",
      "\u001b[33mWARNING: Running pip as the 'root' user can result in broken permissions and conflicting behaviour with the system package manager. It is recommended to use a virtual environment instead: https://pip.pypa.io/warnings/venv\u001b[0m\u001b[33m\n",
      "\u001b[0m\n",
      "\u001b[1m[\u001b[0m\u001b[34;49mnotice\u001b[0m\u001b[1;39;49m]\u001b[0m\u001b[39;49m A new release of pip is available: \u001b[0m\u001b[31;49m23.3.2\u001b[0m\u001b[39;49m -> \u001b[0m\u001b[32;49m24.3.1\u001b[0m\n",
      "\u001b[1m[\u001b[0m\u001b[34;49mnotice\u001b[0m\u001b[1;39;49m]\u001b[0m\u001b[39;49m To update, run: \u001b[0m\u001b[32;49mpip install --upgrade pip\u001b[0m\n"
     ]
    }
   ],
   "source": [
    "!pip install kaggle"
   ]
  },
  {
   "cell_type": "code",
   "execution_count": 8,
   "metadata": {
    "execution": {
     "iopub.execute_input": "2025-01-24T09:15:36.029336Z",
     "iopub.status.busy": "2025-01-24T09:15:36.028825Z",
     "iopub.status.idle": "2025-01-24T09:15:36.034625Z",
     "shell.execute_reply": "2025-01-24T09:15:36.033468Z",
     "shell.execute_reply.started": "2025-01-24T09:15:36.029302Z"
    },
    "tags": []
   },
   "outputs": [],
   "source": [
    "import json\n",
    "token = {\"username\":\"seagalgruce\",\"key\":\"63053ab267abd1e0ab583822bc9f9388\"}\n",
    "with open('/mnt/workspace/kaggle.json', 'w') as file:\n",
    "  json.dump(token, file)#json.dump类似于write"
   ]
  },
  {
   "cell_type": "code",
   "execution_count": 9,
   "metadata": {
    "execution": {
     "iopub.execute_input": "2025-01-24T09:15:38.017756Z",
     "iopub.status.busy": "2025-01-24T09:15:38.017245Z",
     "iopub.status.idle": "2025-01-24T09:15:38.926521Z",
     "shell.execute_reply": "2025-01-24T09:15:38.925383Z",
     "shell.execute_reply.started": "2025-01-24T09:15:38.017723Z"
    },
    "tags": []
   },
   "outputs": [
    {
     "name": "stdout",
     "output_type": "stream",
     "text": [
      "- path is now set to: /content\n"
     ]
    }
   ],
   "source": [
    "!mkdir -p ~/.kaggle\n",
    "!cp /mnt/workspace/kaggle.json ~/.kaggle/\n",
    "!chmod 600 ~/.kaggle/kaggle.json\n",
    "!kaggle config set -n path -v /content"
   ]
  },
  {
   "cell_type": "code",
   "execution_count": 10,
   "metadata": {
    "ExecutionIndicator": {
     "show": true
    },
    "execution": {
     "iopub.execute_input": "2025-01-24T09:15:50.211165Z",
     "iopub.status.busy": "2025-01-24T09:15:50.210633Z",
     "iopub.status.idle": "2025-01-24T09:16:34.787914Z",
     "shell.execute_reply": "2025-01-24T09:16:34.786838Z",
     "shell.execute_reply.started": "2025-01-24T09:15:50.211130Z"
    },
    "tags": []
   },
   "outputs": [
    {
     "name": "stdout",
     "output_type": "stream",
     "text": [
      "Downloading cifar-10.zip to /content/competitions/cifar-10\n",
      "100%|███████████████████████████████████████▉| 715M/715M [00:42<00:00, 17.9MB/s]\n",
      "100%|████████████████████████████████████████| 715M/715M [00:42<00:00, 17.7MB/s]\n"
     ]
    }
   ],
   "source": [
    "!kaggle competitions download -c cifar-10 #下载比赛数据集"
   ]
  },
  {
   "cell_type": "code",
   "execution_count": 11,
   "metadata": {
    "execution": {
     "iopub.execute_input": "2025-01-24T09:16:39.477731Z",
     "iopub.status.busy": "2025-01-24T09:16:39.477181Z",
     "iopub.status.idle": "2025-01-24T09:16:39.606314Z",
     "shell.execute_reply": "2025-01-24T09:16:39.605157Z",
     "shell.execute_reply.started": "2025-01-24T09:16:39.477693Z"
    },
    "tags": []
   },
   "outputs": [
    {
     "name": "stdout",
     "output_type": "stream",
     "text": [
      "cifar-10.zip\n"
     ]
    }
   ],
   "source": [
    "!ls /content/competitions/cifar-10/"
   ]
  },
  {
   "cell_type": "code",
   "execution_count": 12,
   "metadata": {
    "ExecutionIndicator": {
     "show": true
    },
    "execution": {
     "iopub.execute_input": "2025-01-24T09:16:45.367909Z",
     "iopub.status.busy": "2025-01-24T09:16:45.367342Z",
     "iopub.status.idle": "2025-01-24T09:16:50.256699Z",
     "shell.execute_reply": "2025-01-24T09:16:50.255554Z",
     "shell.execute_reply.started": "2025-01-24T09:16:45.367864Z"
    },
    "tags": []
   },
   "outputs": [
    {
     "name": "stdout",
     "output_type": "stream",
     "text": [
      "Archive:  /content/competitions/cifar-10/cifar-10.zip\n",
      "  inflating: sampleSubmission.csv    \n",
      "  inflating: test.7z                 \n",
      "  inflating: train.7z                \n",
      "  inflating: trainLabels.csv         \n"
     ]
    }
   ],
   "source": [
    "!unzip /content/competitions/cifar-10/cifar-10.zip"
   ]
  },
  {
   "cell_type": "code",
   "execution_count": 13,
   "metadata": {
    "execution": {
     "iopub.execute_input": "2025-01-24T09:17:00.254820Z",
     "iopub.status.busy": "2025-01-24T09:17:00.254255Z",
     "iopub.status.idle": "2025-01-24T09:17:00.381867Z",
     "shell.execute_reply": "2025-01-24T09:17:00.380742Z",
     "shell.execute_reply.started": "2025-01-24T09:17:00.254779Z"
    },
    "tags": []
   },
   "outputs": [
    {
     "name": "stdout",
     "output_type": "stream",
     "text": [
      "06_cifar10_model_2-aliyun.ipynb  sampleSubmission.csv  train.7z\n",
      "kaggle.json\t\t\t test.7z\t       trainLabels.csv\n"
     ]
    }
   ],
   "source": [
    "!ls"
   ]
  },
  {
   "cell_type": "code",
   "execution_count": 14,
   "metadata": {
    "ExecutionIndicator": {
     "show": true
    },
    "execution": {
     "iopub.execute_input": "2025-01-24T09:17:17.472441Z",
     "iopub.status.busy": "2025-01-24T09:17:17.471910Z",
     "iopub.status.idle": "2025-01-24T09:17:50.468672Z",
     "shell.execute_reply": "2025-01-24T09:17:50.467727Z",
     "shell.execute_reply.started": "2025-01-24T09:17:17.472399Z"
    },
    "tags": []
   },
   "outputs": [
    {
     "name": "stdout",
     "output_type": "stream",
     "text": [
      "Looking in indexes: https://mirrors.cloud.aliyuncs.com/pypi/simple\n",
      "Collecting py7zr\n",
      "  Downloading https://mirrors.cloud.aliyuncs.com/pypi/packages/d0/59/dd1750002c0f46099281116f8165247bc62dc85edad41cdd26e7b26de19d/py7zr-0.22.0-py3-none-any.whl (67 kB)\n",
      "\u001b[2K     \u001b[90m━━━━━━━━━━━━━━━━━━━━━━━━━━━━━━━━━━━━━━━━\u001b[0m \u001b[32m67.9/67.9 kB\u001b[0m \u001b[31m6.0 MB/s\u001b[0m eta \u001b[36m0:00:00\u001b[0m\n",
      "\u001b[?25hCollecting texttable (from py7zr)\n",
      "  Downloading https://mirrors.cloud.aliyuncs.com/pypi/packages/24/99/4772b8e00a136f3e01236de33b0efda31ee7077203ba5967fcc76da94d65/texttable-1.7.0-py2.py3-none-any.whl (10 kB)\n",
      "Collecting pycryptodomex>=3.16.0 (from py7zr)\n",
      "  Downloading https://mirrors.cloud.aliyuncs.com/pypi/packages/46/3f/f5bef92b11750af9e3516d4e69736eeeff20a2818d34611508bef5a7b381/pycryptodomex-3.21.0-cp36-abi3-manylinux_2_17_x86_64.manylinux2014_x86_64.whl (2.3 MB)\n",
      "\u001b[2K     \u001b[90m━━━━━━━━━━━━━━━━━━━━━━━━━━━━━━━━━━━━━━━━\u001b[0m \u001b[32m2.3/2.3 MB\u001b[0m \u001b[31m38.1 MB/s\u001b[0m eta \u001b[36m0:00:00\u001b[0ma \u001b[36m0:00:01\u001b[0m\n",
      "\u001b[?25hCollecting pyzstd>=0.15.9 (from py7zr)\n",
      "  Downloading https://mirrors.cloud.aliyuncs.com/pypi/packages/6b/3e/e4c7f449af9d19975ff5d333a58330317cf8b05fe4754106c694a29e7c25/pyzstd-0.16.2-cp310-cp310-manylinux_2_17_x86_64.manylinux2014_x86_64.whl (413 kB)\n",
      "\u001b[2K     \u001b[90m━━━━━━━━━━━━━━━━━━━━━━━━━━━━━━━━━━━━━━\u001b[0m \u001b[32m413.7/413.7 kB\u001b[0m \u001b[31m64.5 MB/s\u001b[0m eta \u001b[36m0:00:00\u001b[0m\n",
      "\u001b[?25hCollecting pyppmd<1.2.0,>=1.1.0 (from py7zr)\n",
      "  Downloading https://mirrors.cloud.aliyuncs.com/pypi/packages/8f/f7/be56704aef53490da6bbe6e2e7efff3c13383310ac71f8a82d15d84bbedb/pyppmd-1.1.1-cp310-cp310-manylinux_2_17_x86_64.manylinux2014_x86_64.whl (138 kB)\n",
      "\u001b[2K     \u001b[90m━━━━━━━━━━━━━━━━━━━━━━━━━━━━━━━━━━━━━━\u001b[0m \u001b[32m139.0/139.0 kB\u001b[0m \u001b[31m32.6 MB/s\u001b[0m eta \u001b[36m0:00:00\u001b[0m\n",
      "\u001b[?25hCollecting pybcj<1.1.0,>=1.0.0 (from py7zr)\n",
      "  Downloading https://mirrors.cloud.aliyuncs.com/pypi/packages/d0/6a/3937d0915590d91ccab40b687a1c87429b17325240e8db7e9ad828c9cae9/pybcj-1.0.3-cp310-cp310-manylinux_2_17_x86_64.manylinux2014_x86_64.whl (49 kB)\n",
      "\u001b[2K     \u001b[90m━━━━━━━━━━━━━━━━━━━━━━━━━━━━━━━━━━━━━━━━\u001b[0m \u001b[32m49.6/49.6 kB\u001b[0m \u001b[31m7.8 MB/s\u001b[0m eta \u001b[36m0:00:00\u001b[0m\n",
      "\u001b[?25hCollecting multivolumefile>=0.2.3 (from py7zr)\n",
      "  Downloading https://mirrors.cloud.aliyuncs.com/pypi/packages/22/31/ec5f46fd4c83185b806aa9c736e228cb780f13990a9cf4da0beb70025fcc/multivolumefile-0.2.3-py3-none-any.whl (17 kB)\n",
      "Collecting inflate64<1.1.0,>=1.0.0 (from py7zr)\n",
      "  Downloading https://mirrors.cloud.aliyuncs.com/pypi/packages/b3/3f/1af3164e8bda3fdce692c260f01e37c0af21c3022e7227795524505d8b21/inflate64-1.0.1-cp310-cp310-manylinux_2_17_x86_64.manylinux2014_x86_64.whl (93 kB)\n",
      "\u001b[2K     \u001b[90m━━━━━━━━━━━━━━━━━━━━━━━━━━━━━━━━━━━━━━━━\u001b[0m \u001b[32m93.3/93.3 kB\u001b[0m \u001b[31m25.4 MB/s\u001b[0m eta \u001b[36m0:00:00\u001b[0m\n",
      "\u001b[?25hCollecting brotli>=1.1.0 (from py7zr)\n",
      "  Downloading https://mirrors.cloud.aliyuncs.com/pypi/packages/d5/00/40f760cc27007912b327fe15bf6bfd8eaecbe451687f72a8abc587d503b3/Brotli-1.1.0-cp310-cp310-manylinux_2_5_x86_64.manylinux1_x86_64.manylinux_2_12_x86_64.manylinux2010_x86_64.whl (3.0 MB)\n",
      "\u001b[2K     \u001b[90m━━━━━━━━━━━━━━━━━━━━━━━━━━━━━━━━━━━━━━━━\u001b[0m \u001b[32m3.0/3.0 MB\u001b[0m \u001b[31m56.4 MB/s\u001b[0m eta \u001b[36m0:00:00\u001b[0ma \u001b[36m0:00:01\u001b[0m\n",
      "\u001b[?25hRequirement already satisfied: psutil in /usr/local/lib/python3.10/site-packages (from py7zr) (6.1.1)\n",
      "Installing collected packages: texttable, brotli, pyzstd, pyppmd, pycryptodomex, pybcj, multivolumefile, inflate64, py7zr\n",
      "Successfully installed brotli-1.1.0 inflate64-1.0.1 multivolumefile-0.2.3 py7zr-0.22.0 pybcj-1.0.3 pycryptodomex-3.21.0 pyppmd-1.1.1 pyzstd-0.16.2 texttable-1.7.0\n",
      "\u001b[33mWARNING: Running pip as the 'root' user can result in broken permissions and conflicting behaviour with the system package manager. It is recommended to use a virtual environment instead: https://pip.pypa.io/warnings/venv\u001b[0m\u001b[33m\n",
      "\u001b[0m\n",
      "\u001b[1m[\u001b[0m\u001b[34;49mnotice\u001b[0m\u001b[1;39;49m]\u001b[0m\u001b[39;49m A new release of pip is available: \u001b[0m\u001b[31;49m23.3.2\u001b[0m\u001b[39;49m -> \u001b[0m\u001b[32;49m24.3.1\u001b[0m\n",
      "\u001b[1m[\u001b[0m\u001b[34;49mnotice\u001b[0m\u001b[1;39;49m]\u001b[0m\u001b[39;49m To update, run: \u001b[0m\u001b[32;49mpip install --upgrade pip\u001b[0m\n"
     ]
    }
   ],
   "source": [
    "!pip install py7zr\n",
    "import py7zr\n",
    "a =py7zr.SevenZipFile(r'./train.7z','r')\n",
    "a.extractall(path=r'./competitions/cifar-10/')\n",
    "a.close()"
   ]
  },
  {
   "cell_type": "code",
   "execution_count": 15,
   "metadata": {
    "ExecutionIndicator": {
     "show": true
    },
    "execution": {
     "iopub.execute_input": "2025-01-24T09:21:43.553784Z",
     "iopub.status.busy": "2025-01-24T09:21:43.553244Z",
     "iopub.status.idle": "2025-01-24T09:23:59.441099Z",
     "shell.execute_reply": "2025-01-24T09:23:59.440232Z",
     "shell.execute_reply.started": "2025-01-24T09:21:43.553751Z"
    },
    "tags": []
   },
   "outputs": [],
   "source": [
    "a =py7zr.SevenZipFile(r'./test.7z','r')\n",
    "a.extractall(path=r'./competitions/cifar-10/')\n",
    "a.close()"
   ]
  },
  {
   "cell_type": "code",
   "execution_count": 16,
   "metadata": {
    "ExecutionIndicator": {
     "show": false
    },
    "execution": {
     "iopub.execute_input": "2025-01-24T09:25:21.872380Z",
     "iopub.status.busy": "2025-01-24T09:25:21.871874Z",
     "iopub.status.idle": "2025-01-24T09:25:22.128351Z",
     "shell.execute_reply": "2025-01-24T09:25:22.127094Z",
     "shell.execute_reply.started": "2025-01-24T09:25:21.872345Z"
    },
    "tags": []
   },
   "outputs": [
    {
     "name": "stdout",
     "output_type": "stream",
     "text": [
      "50000\n"
     ]
    }
   ],
   "source": [
    "!ls competitions/cifar-10/train/ |wc -l  #wc -l统计数量"
   ]
  },
  {
   "cell_type": "code",
   "execution_count": 17,
   "metadata": {
    "ExecutionIndicator": {
     "show": true
    },
    "execution": {
     "iopub.execute_input": "2025-01-24T09:25:24.131236Z",
     "iopub.status.busy": "2025-01-24T09:25:24.130677Z",
     "iopub.status.idle": "2025-01-24T09:25:25.141940Z",
     "shell.execute_reply": "2025-01-24T09:25:25.140680Z",
     "shell.execute_reply.started": "2025-01-24T09:25:24.131196Z"
    },
    "tags": []
   },
   "outputs": [
    {
     "name": "stdout",
     "output_type": "stream",
     "text": [
      "300000\n"
     ]
    }
   ],
   "source": [
    "!ls competitions/cifar-10/test/ |wc -l "
   ]
  },
  {
   "cell_type": "code",
   "execution_count": 18,
   "metadata": {
    "ExecuteTime": {
     "end_time": "2025-01-20T07:51:56.103713Z",
     "start_time": "2025-01-20T07:51:54.990355Z"
    },
    "ExecutionIndicator": {
     "show": true
    },
    "execution": {
     "iopub.execute_input": "2025-01-24T09:25:28.415351Z",
     "iopub.status.busy": "2025-01-24T09:25:28.414765Z",
     "iopub.status.idle": "2025-01-24T09:25:31.886834Z",
     "shell.execute_reply": "2025-01-24T09:25:31.886053Z",
     "shell.execute_reply.started": "2025-01-24T09:25:28.415309Z"
    },
    "tags": []
   },
   "outputs": [
    {
     "name": "stdout",
     "output_type": "stream",
     "text": [
      "[(PosixPath('competitions/cifar-10/train/1.png'), 'frog'),\n",
      " (PosixPath('competitions/cifar-10/train/2.png'), 'truck'),\n",
      " (PosixPath('competitions/cifar-10/train/3.png'), 'truck'),\n",
      " (PosixPath('competitions/cifar-10/train/4.png'), 'deer'),\n",
      " (PosixPath('competitions/cifar-10/train/5.png'), 'automobile')]\n",
      "[(PosixPath('competitions/cifar-10/test/1.png'), 'cat'),\n",
      " (PosixPath('competitions/cifar-10/test/2.png'), 'cat'),\n",
      " (PosixPath('competitions/cifar-10/test/3.png'), 'cat'),\n",
      " (PosixPath('competitions/cifar-10/test/4.png'), 'cat'),\n",
      " (PosixPath('competitions/cifar-10/test/5.png'), 'cat')]\n",
      "50000 300000\n"
     ]
    }
   ],
   "source": [
    "from pathlib import Path\n",
    "\n",
    "DATA_DIR = Path(\".\")\n",
    "DATA_DIR1 =Path(\"competitions/cifar-10/\")\n",
    "train_lables_file = DATA_DIR / \"trainLabels.csv\"\n",
    "test_csv_file = DATA_DIR / \"sampleSubmission.csv\" #测试集模板csv文件\n",
    "train_folder = DATA_DIR1 / \"train\"\n",
    "test_folder = DATA_DIR1 / \"test\"\n",
    "\n",
    "#所有的类别\n",
    "class_names = [\n",
    "    'airplane',\n",
    "    'automobile',\n",
    "    'bird',\n",
    "    'cat',\n",
    "    'deer',\n",
    "    'dog',\n",
    "    'frog',\n",
    "    'horse',\n",
    "    'ship',\n",
    "    'truck',\n",
    "]\n",
    "\n",
    "def parse_csv_file(filepath, folder): #filepath:csv文件路径，folder:图片所在文件夹\n",
    "    \"\"\"Parses csv files into (filename(path), label) format\"\"\"\n",
    "    results = []\n",
    "    #读取所有行\n",
    "    with open(filepath, 'r') as f:\n",
    "#         lines = f.readlines()  为什么加[1:]，可以试这个\n",
    "        #第一行不需要，因为第一行是标题\n",
    "        lines = f.readlines()[1:] \n",
    "    for line in lines:#依次去取每一行\n",
    "        image_id, label_str = line.strip('\\n').split(',') #图片id 和标签分离\n",
    "        image_full_path = folder / f\"{image_id}.png\"\n",
    "        results.append((image_full_path, label_str)) #得到对应图片的路径和分类\n",
    "    return results\n",
    "\n",
    "#解析对应的文件夹\n",
    "train_labels_info = parse_csv_file(train_lables_file, train_folder)\n",
    "test_csv_info = parse_csv_file(test_csv_file, test_folder)\n",
    "#打印\n",
    "import pprint\n",
    "pprint.pprint(train_labels_info[0:5])\n",
    "pprint.pprint(test_csv_info[0:5])\n",
    "print(len(train_labels_info), len(test_csv_info))"
   ]
  },
  {
   "cell_type": "code",
   "execution_count": 19,
   "metadata": {
    "ExecuteTime": {
     "end_time": "2025-01-20T07:52:54.792839Z",
     "start_time": "2025-01-20T07:52:54.757327Z"
    },
    "ExecutionIndicator": {
     "show": true
    },
    "execution": {
     "iopub.execute_input": "2025-01-24T09:25:35.246150Z",
     "iopub.status.busy": "2025-01-24T09:25:35.245658Z",
     "iopub.status.idle": "2025-01-24T09:25:35.346015Z",
     "shell.execute_reply": "2025-01-24T09:25:35.345114Z",
     "shell.execute_reply.started": "2025-01-24T09:25:35.246111Z"
    },
    "tags": []
   },
   "outputs": [
    {
     "name": "stdout",
     "output_type": "stream",
     "text": [
      "                            filepath       class\n",
      "0  competitions/cifar-10/train/1.png        frog\n",
      "1  competitions/cifar-10/train/2.png       truck\n",
      "2  competitions/cifar-10/train/3.png       truck\n",
      "3  competitions/cifar-10/train/4.png        deer\n",
      "4  competitions/cifar-10/train/5.png  automobile\n",
      "                                filepath       class\n",
      "0  competitions/cifar-10/train/45001.png       horse\n",
      "1  competitions/cifar-10/train/45002.png  automobile\n",
      "2  competitions/cifar-10/train/45003.png        deer\n",
      "3  competitions/cifar-10/train/45004.png  automobile\n",
      "4  competitions/cifar-10/train/45005.png    airplane\n",
      "                           filepath class\n",
      "0  competitions/cifar-10/test/1.png   cat\n",
      "1  competitions/cifar-10/test/2.png   cat\n",
      "2  competitions/cifar-10/test/3.png   cat\n",
      "3  competitions/cifar-10/test/4.png   cat\n",
      "4  competitions/cifar-10/test/5.png   cat\n"
     ]
    }
   ],
   "source": [
    "# train_df = pd.DataFrame(train_labels_info)\n",
    "train_df = pd.DataFrame(train_labels_info[0:45000]) # 取前45000张图片作为训练集\n",
    "valid_df = pd.DataFrame(train_labels_info[45000:]) # 取后5000张图片作为验证集\n",
    "test_df = pd.DataFrame(test_csv_info)\n",
    "\n",
    "train_df.columns = ['filepath', 'class']\n",
    "valid_df.columns = ['filepath', 'class']\n",
    "test_df.columns = ['filepath', 'class']\n",
    "\n",
    "print(train_df.head())\n",
    "print(valid_df.head())\n",
    "print(test_df.head())"
   ]
  },
  {
   "cell_type": "code",
   "execution_count": 20,
   "metadata": {
    "ExecuteTime": {
     "end_time": "2025-01-20T08:08:23.507372Z",
     "start_time": "2025-01-20T08:08:22.474521Z"
    },
    "ExecutionIndicator": {
     "show": true
    },
    "execution": {
     "iopub.execute_input": "2025-01-24T09:25:38.457678Z",
     "iopub.status.busy": "2025-01-24T09:25:38.456916Z",
     "iopub.status.idle": "2025-01-24T09:25:41.412734Z",
     "shell.execute_reply": "2025-01-24T09:25:41.411924Z",
     "shell.execute_reply.started": "2025-01-24T09:25:38.457638Z"
    },
    "tags": []
   },
   "outputs": [],
   "source": [
    "from PIL import Image\n",
    "from torch.utils.data import Dataset, DataLoader\n",
    "from torchvision import transforms\n",
    "\n",
    "class Cifar10Dataset(Dataset):\n",
    "    df_map = {\n",
    "        \"train\": train_df,\n",
    "        \"eval\": valid_df,\n",
    "        \"test\": test_df\n",
    "    }\n",
    "    label_to_idx = {label: idx for idx, label in enumerate(class_names)} # 类别映射为idx\n",
    "    idx_to_label = {idx: label for idx, label in enumerate(class_names)} # idx映射为类别,为了test测试集使用\n",
    "    def __init__(self, mode, transform=None):\n",
    "        self.df = self.df_map.get(mode, None) # 获取对应模式的df，不同字符串对应不同模式\n",
    "        if self.df is None:\n",
    "            raise ValueError(\"mode should be one of train, val, test, but got {}\".format(mode))\n",
    "        # assert self.df, \"df is None\"\n",
    "        self.transform = transform\n",
    "        \n",
    "    def __getitem__(self, index):\n",
    "        img_path, label = self.df.iloc[index] # 获取图片路径和标签\n",
    "        img = Image.open(img_path).convert('RGB')\n",
    "        # # img 转换为 channel first\n",
    "        # img = img.transpose((2, 0, 1))\n",
    "        # transform\n",
    "        img = self.transform(img) # 数据增强\n",
    "        # label 转换为 idx\n",
    "        label = self.label_to_idx[label]\n",
    "        return img, label\n",
    "    \n",
    "    def __len__(self):\n",
    "        return self.df.shape[0] # 返回df的行数,样本数\n",
    "    \n",
    "IMAGE_SIZE = 32\n",
    "mean, std = [0.4914, 0.4822, 0.4465], [0.247, 0.243, 0.261]\n",
    "\n",
    "transforms_train = transforms.Compose([\n",
    "        # resize\n",
    "        transforms.Resize((IMAGE_SIZE, IMAGE_SIZE)), #缩放\n",
    "        # random rotation 40\n",
    "        transforms.RandomRotation(40), #随机旋转\n",
    "        # horizaontal flip\n",
    "        transforms.RandomHorizontalFlip(),  #随机水平翻转\n",
    "        transforms.ToTensor(), #转换为tensor\n",
    "        # transforms.Normalize(mean, std) #标准化\n",
    "    ]) #数据增强\n",
    "\n",
    "transforms_eval = transforms.Compose([\n",
    "        # resize\n",
    "        transforms.Resize((IMAGE_SIZE, IMAGE_SIZE)),\n",
    "        transforms.ToTensor(),\n",
    "        # transforms.Normalize(mean, std)\n",
    "    ])\n",
    "# ToTensor还将图像的维度从[height, width, channels]转换为[channels, height, width]。\n",
    "train_ds = Cifar10Dataset(\"train\", transforms_train)\n",
    "eval_ds = Cifar10Dataset(\"eval\", transforms_eval)"
   ]
  },
  {
   "cell_type": "code",
   "execution_count": 21,
   "metadata": {
    "ExecutionIndicator": {
     "show": true
    },
    "execution": {
     "iopub.execute_input": "2025-01-24T09:25:43.847893Z",
     "iopub.status.busy": "2025-01-24T09:25:43.847195Z",
     "iopub.status.idle": "2025-01-24T09:25:43.916699Z",
     "shell.execute_reply": "2025-01-24T09:25:43.915809Z",
     "shell.execute_reply.started": "2025-01-24T09:25:43.847856Z"
    },
    "tags": []
   },
   "outputs": [
    {
     "data": {
      "text/plain": [
       "6"
      ]
     },
     "execution_count": 21,
     "metadata": {},
     "output_type": "execute_result"
    }
   ],
   "source": [
    "train_ds[0][1]"
   ]
  },
  {
   "cell_type": "code",
   "execution_count": 22,
   "metadata": {
    "ExecutionIndicator": {
     "show": true
    },
    "execution": {
     "iopub.execute_input": "2025-01-24T09:25:46.081041Z",
     "iopub.status.busy": "2025-01-24T09:25:46.080517Z",
     "iopub.status.idle": "2025-01-24T09:25:46.089199Z",
     "shell.execute_reply": "2025-01-24T09:25:46.088519Z",
     "shell.execute_reply.started": "2025-01-24T09:25:46.081004Z"
    },
    "tags": []
   },
   "outputs": [
    {
     "data": {
      "text/plain": [
       "250.70198"
      ]
     },
     "execution_count": 22,
     "metadata": {},
     "output_type": "execute_result"
    }
   ],
   "source": [
    "sample1=train_ds[0][0]\n",
    "np.sum(sample1[2].numpy())"
   ]
  },
  {
   "cell_type": "code",
   "execution_count": 23,
   "metadata": {
    "ExecuteTime": {
     "end_time": "2024-07-24T12:26:52.532323800Z",
     "start_time": "2024-07-24T12:26:52.525328700Z"
    },
    "collapsed": false,
    "execution": {
     "iopub.execute_input": "2025-01-24T09:25:47.934412Z",
     "iopub.status.busy": "2025-01-24T09:25:47.933904Z",
     "iopub.status.idle": "2025-01-24T09:25:47.940419Z",
     "shell.execute_reply": "2025-01-24T09:25:47.939746Z",
     "shell.execute_reply.started": "2025-01-24T09:25:47.934380Z"
    },
    "jupyter": {
     "outputs_hidden": false
    },
    "tags": []
   },
   "outputs": [
    {
     "name": "stdout",
     "output_type": "stream",
     "text": [
      "{0: 'airplane', 1: 'automobile', 2: 'bird', 3: 'cat', 4: 'deer', 5: 'dog', 6: 'frog', 7: 'horse', 8: 'ship', 9: 'truck'}\n"
     ]
    },
    {
     "data": {
      "text/plain": [
       "{'airplane': 0,\n",
       " 'automobile': 1,\n",
       " 'bird': 2,\n",
       " 'cat': 3,\n",
       " 'deer': 4,\n",
       " 'dog': 5,\n",
       " 'frog': 6,\n",
       " 'horse': 7,\n",
       " 'ship': 8,\n",
       " 'truck': 9}"
      ]
     },
     "execution_count": 23,
     "metadata": {},
     "output_type": "execute_result"
    }
   ],
   "source": [
    "print(train_ds.idx_to_label)  # 类别映射为idx\n",
    "train_ds.label_to_idx # idx映射为类别"
   ]
  },
  {
   "cell_type": "code",
   "execution_count": 24,
   "metadata": {
    "ExecuteTime": {
     "end_time": "2025-01-20T08:08:29.255263Z",
     "start_time": "2025-01-20T08:08:29.252817Z"
    },
    "execution": {
     "iopub.execute_input": "2025-01-24T09:25:50.312232Z",
     "iopub.status.busy": "2025-01-24T09:25:50.311598Z",
     "iopub.status.idle": "2025-01-24T09:25:50.317227Z",
     "shell.execute_reply": "2025-01-24T09:25:50.316469Z",
     "shell.execute_reply.started": "2025-01-24T09:25:50.312177Z"
    },
    "tags": []
   },
   "outputs": [],
   "source": [
    "batch_size = 64\n",
    "train_dl = DataLoader(train_ds, batch_size=batch_size, shuffle=True)   \n",
    "eval_dl = DataLoader(eval_ds, batch_size=batch_size, shuffle=False)"
   ]
  },
  {
   "cell_type": "code",
   "execution_count": 25,
   "metadata": {
    "execution": {
     "iopub.execute_input": "2025-01-24T09:25:52.098957Z",
     "iopub.status.busy": "2025-01-24T09:25:52.098449Z",
     "iopub.status.idle": "2025-01-24T09:25:52.240441Z",
     "shell.execute_reply": "2025-01-24T09:25:52.239269Z",
     "shell.execute_reply.started": "2025-01-24T09:25:52.098924Z"
    },
    "tags": []
   },
   "outputs": [
    {
     "name": "stdout",
     "output_type": "stream",
     "text": [
      "-rw-r--r-- 1 root root 1953 10月 19  2013 /mnt/workspace/competitions/cifar-10/train/17742.png\n"
     ]
    }
   ],
   "source": [
    "!ls -l /mnt/workspace/competitions/cifar-10/train/17742.png"
   ]
  },
  {
   "cell_type": "code",
   "execution_count": 26,
   "metadata": {
    "ExecutionIndicator": {
     "show": true
    },
    "execution": {
     "iopub.execute_input": "2025-01-24T09:25:55.154218Z",
     "iopub.status.busy": "2025-01-24T09:25:55.153640Z",
     "iopub.status.idle": "2025-01-24T09:26:25.334408Z",
     "shell.execute_reply": "2025-01-24T09:26:25.333563Z",
     "shell.execute_reply.started": "2025-01-24T09:25:55.154176Z"
    },
    "tags": []
   },
   "outputs": [
    {
     "name": "stdout",
     "output_type": "stream",
     "text": [
      "(tensor([0.4368, 0.4266, 0.3945]), tensor([0.2465, 0.2420, 0.2360]))\n"
     ]
    }
   ],
   "source": [
    "# 遍历train_ds得到每张图片，计算每个通道的均值和方差\n",
    "def cal_mean_std(ds):\n",
    "    mean = 0.\n",
    "    std = 0.\n",
    "    for img, _ in ds:\n",
    "        mean += img.mean(dim=(1, 2))\n",
    "        std += img.std(dim=(1, 2))\n",
    "    mean /= len(ds)\n",
    "    std /= len(ds)\n",
    "    return mean, std\n",
    "\n",
    "# 经过 normalize 后 均值为0，方差为1\n",
    "print(cal_mean_std(train_ds))"
   ]
  },
  {
   "cell_type": "markdown",
   "metadata": {},
   "source": [
    "## 定义模型"
   ]
  },
  {
   "cell_type": "code",
   "execution_count": 27,
   "metadata": {
    "ExecuteTime": {
     "end_time": "2024-07-23T06:49:56.579457400Z",
     "start_time": "2024-07-23T06:49:56.499468400Z"
    },
    "execution": {
     "iopub.execute_input": "2025-01-24T09:27:02.466860Z",
     "iopub.status.busy": "2025-01-24T09:27:02.466331Z",
     "iopub.status.idle": "2025-01-24T09:27:02.566400Z",
     "shell.execute_reply": "2025-01-24T09:27:02.565555Z",
     "shell.execute_reply.started": "2025-01-24T09:27:02.466823Z"
    },
    "tags": []
   },
   "outputs": [
    {
     "name": "stdout",
     "output_type": "stream",
     "text": [
      "             model.0.weight             paramerters num: 3456\n",
      "              model.0.bias              paramerters num: 128\n",
      "             model.2.weight             paramerters num: 128\n",
      "              model.2.bias              paramerters num: 128\n",
      "             model.3.weight             paramerters num: 147456\n",
      "              model.3.bias              paramerters num: 128\n",
      "             model.5.weight             paramerters num: 128\n",
      "              model.5.bias              paramerters num: 128\n",
      "             model.7.weight             paramerters num: 294912\n",
      "              model.7.bias              paramerters num: 256\n",
      "             model.9.weight             paramerters num: 256\n",
      "              model.9.bias              paramerters num: 256\n",
      "            model.10.weight             paramerters num: 589824\n",
      "             model.10.bias              paramerters num: 256\n",
      "            model.12.weight             paramerters num: 256\n",
      "             model.12.bias              paramerters num: 256\n",
      "            model.14.weight             paramerters num: 1179648\n",
      "             model.14.bias              paramerters num: 512\n",
      "            model.16.weight             paramerters num: 512\n",
      "             model.16.bias              paramerters num: 512\n",
      "            model.17.weight             paramerters num: 2359296\n",
      "             model.17.bias              paramerters num: 512\n",
      "            model.19.weight             paramerters num: 512\n",
      "             model.19.bias              paramerters num: 512\n",
      "            model.22.weight             paramerters num: 4194304\n",
      "             model.22.bias              paramerters num: 512\n",
      "            model.24.weight             paramerters num: 5120\n",
      "             model.24.bias              paramerters num: 10\n"
     ]
    }
   ],
   "source": [
    "class CNN(nn.Module):\n",
    "    def __init__(self, num_classes):\n",
    "        super().__init__()\n",
    "        self.model = nn.Sequential(\n",
    "            nn.Conv2d(in_channels=3, out_channels=128, kernel_size=3, padding=\"same\"),\n",
    "            nn.ReLU(),\n",
    "            nn.BatchNorm2d(128),# 批标准化，在通道数做的归一化\n",
    "            nn.Conv2d(in_channels=128, out_channels=128, kernel_size=3, padding=\"same\"), #输出尺寸（128，32，32）\n",
    "            nn.ReLU(),\n",
    "            nn.BatchNorm2d(128),\n",
    "            nn.MaxPool2d(kernel_size=2), #输出尺寸（128，16，16）\n",
    "            nn.Conv2d(in_channels=128, out_channels=256, kernel_size=3, padding=\"same\"),\n",
    "            nn.ReLU(),\n",
    "            nn.BatchNorm2d(256),\n",
    "            nn.Conv2d(in_channels=256, out_channels=256, kernel_size=3, padding=\"same\"), #输出尺寸（256，16，16）\n",
    "            nn.ReLU(),\n",
    "            nn.BatchNorm2d(256),\n",
    "            nn.MaxPool2d(kernel_size=2),#输出尺寸（256，8，8）\n",
    "            nn.Conv2d(in_channels=256, out_channels=512, kernel_size=3, padding=\"same\"),\n",
    "            nn.ReLU(),\n",
    "            nn.BatchNorm2d(512),\n",
    "            nn.Conv2d(in_channels=512, out_channels=512, kernel_size=3, padding=\"same\"), #输出尺寸（512，8，8）\n",
    "            nn.ReLU(),\n",
    "            nn.BatchNorm2d(512),\n",
    "            nn.MaxPool2d(kernel_size=2), #输出尺寸（512，4，4）\n",
    "            nn.Flatten(), #展平\n",
    "            nn.Linear(8192, 512),\n",
    "            nn.ReLU(),\n",
    "            nn.Linear(512, num_classes),\n",
    "        ) #Sequential自动连接各层，把各层的输出作为下一层的输入\n",
    "        \n",
    "    def forward(self, x):\n",
    "        return self.model(x)\n",
    "        \n",
    "for key, value in CNN(len(class_names)).named_parameters():\n",
    "    print(f\"{key:^40}paramerters num: {np.prod(value.shape)}\")\n",
    "    \n"
   ]
  },
  {
   "cell_type": "code",
   "execution_count": 28,
   "metadata": {
    "ExecuteTime": {
     "end_time": "2024-07-23T06:49:59.043655400Z",
     "start_time": "2024-07-23T06:49:58.976307900Z"
    },
    "collapsed": false,
    "execution": {
     "iopub.execute_input": "2025-01-24T09:27:07.536726Z",
     "iopub.status.busy": "2025-01-24T09:27:07.536203Z",
     "iopub.status.idle": "2025-01-24T09:27:07.609171Z",
     "shell.execute_reply": "2025-01-24T09:27:07.608329Z",
     "shell.execute_reply.started": "2025-01-24T09:27:07.536689Z"
    },
    "jupyter": {
     "outputs_hidden": false
    },
    "tags": []
   },
   "outputs": [
    {
     "name": "stdout",
     "output_type": "stream",
     "text": [
      "Total trainable parameters: 8779914\n"
     ]
    }
   ],
   "source": [
    "total_params = sum(p.numel() for p in CNN(len(class_names)).parameters() if p.requires_grad)\n",
    "print(f\"Total trainable parameters: {total_params}\")"
   ]
  },
  {
   "cell_type": "code",
   "execution_count": 29,
   "metadata": {
    "ExecuteTime": {
     "end_time": "2024-07-23T06:49:14.250276700Z",
     "start_time": "2024-07-23T06:49:14.242278700Z"
    },
    "collapsed": false,
    "execution": {
     "iopub.execute_input": "2025-01-24T09:27:09.841868Z",
     "iopub.status.busy": "2025-01-24T09:27:09.841353Z",
     "iopub.status.idle": "2025-01-24T09:27:09.847519Z",
     "shell.execute_reply": "2025-01-24T09:27:09.846801Z",
     "shell.execute_reply.started": "2025-01-24T09:27:09.841832Z"
    },
    "jupyter": {
     "outputs_hidden": false
    },
    "tags": []
   },
   "outputs": [
    {
     "data": {
      "text/plain": [
       "8192"
      ]
     },
     "execution_count": 29,
     "metadata": {},
     "output_type": "execute_result"
    }
   ],
   "source": [
    "512*4*4"
   ]
  },
  {
   "cell_type": "code",
   "execution_count": 30,
   "metadata": {
    "ExecuteTime": {
     "end_time": "2025-01-20T08:18:30.878296Z",
     "start_time": "2025-01-20T08:18:30.872291Z"
    },
    "execution": {
     "iopub.execute_input": "2025-01-24T09:27:11.480794Z",
     "iopub.status.busy": "2025-01-24T09:27:11.480256Z",
     "iopub.status.idle": "2025-01-24T09:27:11.497408Z",
     "shell.execute_reply": "2025-01-24T09:27:11.496720Z",
     "shell.execute_reply.started": "2025-01-24T09:27:11.480760Z"
    },
    "tags": []
   },
   "outputs": [
    {
     "data": {
      "text/plain": [
       "torch.Size([32, 3, 64, 64])"
      ]
     },
     "execution_count": 30,
     "metadata": {},
     "output_type": "execute_result"
    }
   ],
   "source": [
    "input_4d = torch.randn(32, 3, 64, 64)  # 32 个样本，3 个通道，图像大小为 64x64\n",
    "bn2d = nn.BatchNorm2d(3)              # 对 3 个通道进行归一化\n",
    "output_4d = bn2d(input_4d)\n",
    "output_4d.shape"
   ]
  },
  {
   "cell_type": "code",
   "execution_count": 31,
   "metadata": {
    "ExecuteTime": {
     "end_time": "2025-01-20T08:18:32.896417Z",
     "start_time": "2025-01-20T08:18:32.888443Z"
    },
    "execution": {
     "iopub.execute_input": "2025-01-24T09:27:13.085596Z",
     "iopub.status.busy": "2025-01-24T09:27:13.085089Z",
     "iopub.status.idle": "2025-01-24T09:27:13.112781Z",
     "shell.execute_reply": "2025-01-24T09:27:13.112078Z",
     "shell.execute_reply.started": "2025-01-24T09:27:13.085563Z"
    },
    "tags": []
   },
   "outputs": [
    {
     "data": {
      "text/plain": [
       "tensor([[[[-9.6886e-01,  1.1025e+00, -2.0371e-01,  ...,  4.2129e-01,\n",
       "            3.1420e-01,  1.5170e+00],\n",
       "          [-1.8388e+00,  2.5457e-01, -4.0196e-01,  ..., -8.7363e-01,\n",
       "           -7.5396e-02,  1.4395e+00],\n",
       "          [-1.4122e+00,  9.5005e-01, -3.9674e-01,  ..., -8.1484e-01,\n",
       "           -1.6060e-01, -8.5487e-01],\n",
       "          ...,\n",
       "          [ 9.1665e-02, -1.1885e+00, -9.7449e-01,  ..., -7.5458e-01,\n",
       "            8.0457e-01,  3.4009e-02],\n",
       "          [ 5.5346e-01, -1.4002e-01,  1.7115e+00,  ...,  3.4846e-02,\n",
       "           -5.1122e-01, -9.6639e-01],\n",
       "          [ 6.7852e-01, -3.0368e-01,  5.6167e-01,  ...,  6.6862e-01,\n",
       "            3.4022e-01,  9.0225e-01]],\n",
       "\n",
       "         [[ 7.8360e-01, -1.7453e+00, -7.7059e-01,  ..., -1.2750e+00,\n",
       "           -2.7231e-01,  2.1280e-01],\n",
       "          [ 5.2843e-02, -5.1504e-01, -1.0260e+00,  ...,  7.1043e-01,\n",
       "           -4.8486e-01, -7.9946e-01],\n",
       "          [-5.2817e-02,  1.4502e+00,  2.6421e+00,  ...,  1.0010e+00,\n",
       "            4.9616e-01,  6.2011e-01],\n",
       "          ...,\n",
       "          [ 1.7368e+00,  9.3662e-01, -6.8710e-01,  ...,  9.2387e-01,\n",
       "            7.9027e-01,  1.2200e+00],\n",
       "          [-4.6037e-01,  5.9179e-01,  1.0217e+00,  ..., -1.0067e-01,\n",
       "           -1.1901e+00, -5.6610e-01],\n",
       "          [ 2.7955e-01,  1.6999e+00, -1.8416e+00,  ..., -1.9362e-01,\n",
       "           -2.5329e-01,  3.5409e-02]],\n",
       "\n",
       "         [[-2.1673e-01, -6.3890e-01, -3.7619e-01,  ..., -2.1587e+00,\n",
       "           -4.0595e-01, -1.7047e+00],\n",
       "          [ 3.1956e-01, -1.1479e-01,  8.2469e-01,  ...,  6.4077e-01,\n",
       "           -1.3836e+00, -1.0485e+00],\n",
       "          [-1.3436e+00,  2.5601e+00, -4.3312e-01,  ..., -4.8181e-01,\n",
       "           -1.2728e+00, -1.0468e+00],\n",
       "          ...,\n",
       "          [-1.0074e+00,  2.5033e+00, -6.3304e-01,  ..., -4.0337e-01,\n",
       "           -2.7136e-01, -2.4178e+00],\n",
       "          [ 4.3816e-01,  4.4353e-01, -1.6359e+00,  ...,  7.6457e-01,\n",
       "            6.8741e-01, -1.3200e+00],\n",
       "          [-2.9337e-02, -6.5275e-01, -5.1675e-01,  ...,  5.8584e-02,\n",
       "            7.7615e-01,  1.0324e+00]]],\n",
       "\n",
       "\n",
       "        [[[-1.9404e-01,  1.5979e+00, -7.5502e-01,  ...,  8.6423e-01,\n",
       "            1.3411e-01, -4.7191e-01],\n",
       "          [-4.1093e-01,  1.3373e+00, -2.1907e+00,  ...,  3.2411e-01,\n",
       "           -8.1780e-01, -1.5144e+00],\n",
       "          [ 8.8116e-01,  1.1124e+00, -5.3765e-01,  ..., -1.7522e+00,\n",
       "           -2.5587e-01, -1.1691e+00],\n",
       "          ...,\n",
       "          [-4.0019e-01, -1.2709e+00, -6.2788e-02,  ..., -1.2547e+00,\n",
       "            1.2848e+00,  1.5831e+00],\n",
       "          [ 6.9420e-01, -3.4763e-01, -1.6730e-01,  ..., -6.9457e-01,\n",
       "            6.5150e-01,  1.4885e-01],\n",
       "          [-2.3943e-01, -8.1436e-01, -2.4060e-01,  ..., -4.7792e-01,\n",
       "           -1.4116e-01, -1.1508e+00]],\n",
       "\n",
       "         [[-2.2514e+00, -3.9333e-01,  9.0519e-01,  ...,  1.6517e-01,\n",
       "           -8.0598e-02,  9.3410e-01],\n",
       "          [-7.0118e-01,  6.6492e-01, -7.5073e-01,  ...,  2.6114e-02,\n",
       "           -2.1398e-01,  1.5062e+00],\n",
       "          [-2.9096e-01, -1.4131e+00, -2.0560e-01,  ...,  1.0888e+00,\n",
       "           -8.5988e-01, -5.1179e-01],\n",
       "          ...,\n",
       "          [-3.1263e-01,  5.3664e-01,  7.2902e-03,  ..., -1.6513e+00,\n",
       "           -6.0891e-02,  1.1719e+00],\n",
       "          [-1.8683e-01,  1.0535e+00, -2.0157e-01,  ..., -2.6085e-01,\n",
       "            5.7512e-01,  8.1527e-02],\n",
       "          [-2.7603e-02, -5.2194e-01,  5.1293e-01,  ...,  5.9325e-01,\n",
       "           -2.9969e+00,  3.5284e-01]],\n",
       "\n",
       "         [[-3.8818e-01,  4.7736e-01, -1.4406e+00,  ..., -1.8009e-01,\n",
       "            5.4544e-01,  3.8070e-01],\n",
       "          [-3.3675e-02, -7.3566e-01,  7.3144e-01,  ...,  1.5060e+00,\n",
       "           -2.7271e-01,  8.5511e-01],\n",
       "          [-1.4136e+00, -7.8181e-01,  8.2152e-01,  ...,  1.7552e-01,\n",
       "           -1.3916e-01,  7.6792e-01],\n",
       "          ...,\n",
       "          [-1.6106e+00,  2.8111e+00,  1.7584e+00,  ..., -1.2526e-01,\n",
       "           -1.0045e+00, -7.0312e-01],\n",
       "          [-2.2910e+00, -9.5213e-01,  6.0084e-01,  ...,  1.4958e-01,\n",
       "           -4.2872e-01,  1.4965e+00],\n",
       "          [-4.2856e-01,  5.6606e-01, -9.3556e-01,  ..., -3.8342e-02,\n",
       "            6.7755e-01, -2.1226e-01]]],\n",
       "\n",
       "\n",
       "        [[[ 3.7673e-01, -3.1044e-01,  8.8942e-02,  ...,  4.5038e-02,\n",
       "           -2.3666e-01,  2.1659e-01],\n",
       "          [-1.8096e-01, -4.1262e-01,  6.9059e-01,  ...,  3.3445e-02,\n",
       "           -4.5476e-02,  9.3252e-01],\n",
       "          [-1.5464e+00,  1.7464e-01,  1.7548e+00,  ...,  7.5749e-01,\n",
       "           -1.8945e+00, -1.0383e-01],\n",
       "          ...,\n",
       "          [-1.3782e-01, -2.1871e-02,  6.9985e-01,  ...,  1.4740e-01,\n",
       "           -2.1868e+00,  3.4203e-01],\n",
       "          [-1.1608e+00, -2.6981e-01, -7.9103e-01,  ..., -8.3052e-01,\n",
       "           -4.8751e-01, -5.6157e-01],\n",
       "          [-2.9536e-01,  1.5360e+00, -1.0701e-01,  ...,  2.6703e-01,\n",
       "           -1.2248e-01, -1.8821e+00]],\n",
       "\n",
       "         [[ 3.0093e-01,  1.1854e+00, -3.9440e-01,  ...,  2.9029e-01,\n",
       "            1.0934e+00,  1.5625e+00],\n",
       "          [-2.7799e+00,  5.2523e-01, -1.5665e+00,  ..., -5.9438e-01,\n",
       "            1.0247e+00, -2.4773e+00],\n",
       "          [ 9.4908e-01, -1.0762e+00, -5.6330e-01,  ...,  1.7762e+00,\n",
       "            2.8498e+00, -1.4863e+00],\n",
       "          ...,\n",
       "          [ 1.3890e+00,  1.0709e+00, -1.2913e+00,  ...,  8.0620e-02,\n",
       "            2.0055e+00,  1.1926e+00],\n",
       "          [-5.4044e-01, -5.6580e-01, -1.3548e+00,  ..., -4.8911e-01,\n",
       "           -1.4496e+00, -6.8881e-01],\n",
       "          [ 1.1747e+00, -1.3828e+00, -2.4575e+00,  ..., -8.4042e-01,\n",
       "           -2.9584e-01, -2.2602e+00]],\n",
       "\n",
       "         [[ 6.9917e-01, -1.0467e+00,  5.7853e-01,  ..., -3.6577e-01,\n",
       "           -3.5671e-01, -9.9782e-01],\n",
       "          [ 7.8650e-01, -7.2304e-01,  5.3095e-01,  ...,  1.2751e+00,\n",
       "            1.9465e-01,  1.4584e+00],\n",
       "          [ 3.6751e-01,  1.8195e+00, -7.9298e-01,  ...,  2.6697e-01,\n",
       "            7.0951e-02, -1.0808e-01],\n",
       "          ...,\n",
       "          [-2.9869e-01,  7.1093e-01, -1.5539e-01,  ..., -5.1419e-03,\n",
       "            1.1631e+00, -2.3380e+00],\n",
       "          [ 4.9927e-02,  8.2758e-01,  1.6977e+00,  ...,  5.3434e-02,\n",
       "           -8.7678e-01, -2.6155e-01],\n",
       "          [ 1.1264e-01,  4.3823e-01, -3.2160e-01,  ...,  8.6719e-01,\n",
       "            4.6018e-01,  9.0342e-01]]],\n",
       "\n",
       "\n",
       "        ...,\n",
       "\n",
       "\n",
       "        [[[-8.8320e-01,  1.7433e+00, -1.6068e+00,  ...,  4.3634e-01,\n",
       "           -7.9912e-01,  6.8900e-01],\n",
       "          [ 2.1535e+00,  1.4164e+00, -8.5180e-01,  ...,  2.2555e+00,\n",
       "            8.9543e-01,  8.6955e-02],\n",
       "          [ 1.9818e-01,  5.9900e-01, -1.4953e-01,  ..., -5.3215e-01,\n",
       "            9.9217e-01, -2.2892e-03],\n",
       "          ...,\n",
       "          [ 8.0032e-01,  1.1361e+00,  6.6475e-01,  ..., -2.4078e+00,\n",
       "           -1.6875e-01, -5.5498e-01],\n",
       "          [-9.9157e-01,  1.5119e+00,  5.3110e-01,  ..., -1.0712e+00,\n",
       "           -2.2456e-02, -7.0145e-02],\n",
       "          [ 7.4198e-01,  6.7834e-01, -2.4689e-01,  ..., -1.8861e+00,\n",
       "            4.8105e-01, -1.1647e+00]],\n",
       "\n",
       "         [[-2.4517e+00, -9.5459e-01,  1.3343e-01,  ...,  5.8327e-01,\n",
       "            4.6455e-01,  1.8398e+00],\n",
       "          [ 1.2002e+00,  9.3730e-01, -5.1252e-01,  ...,  8.0917e-03,\n",
       "            1.1564e-01,  8.3157e-01],\n",
       "          [ 6.1649e-01, -3.3189e-02,  1.7630e+00,  ...,  7.3616e-01,\n",
       "            1.1494e+00,  1.2536e+00],\n",
       "          ...,\n",
       "          [-1.0593e+00, -8.0962e-01,  1.1039e-01,  ..., -1.0501e+00,\n",
       "            2.4232e-01, -2.1970e+00],\n",
       "          [ 7.7885e-01,  1.1143e+00, -4.3924e-01,  ...,  7.8947e-02,\n",
       "           -1.6495e+00,  6.7451e-01],\n",
       "          [ 1.8801e+00, -7.0399e-01, -2.7443e-01,  ..., -2.3325e-01,\n",
       "           -5.6703e-01, -2.3776e-01]],\n",
       "\n",
       "         [[-4.5983e-01, -1.0218e+00,  1.7726e+00,  ...,  7.0055e-01,\n",
       "            1.3222e+00,  6.5524e-02],\n",
       "          [ 4.4898e-01,  4.5225e-01, -4.0494e-01,  ..., -8.2030e-01,\n",
       "            8.2044e-01,  3.7105e-01],\n",
       "          [ 5.1750e-01,  6.5466e-01,  6.3513e-01,  ..., -1.9572e+00,\n",
       "            1.8015e+00, -5.5482e-01],\n",
       "          ...,\n",
       "          [-1.6281e+00,  1.4612e+00,  1.5638e-01,  ...,  8.1075e-01,\n",
       "           -1.3227e+00, -1.8009e+00],\n",
       "          [-5.8301e-01, -1.1673e+00,  1.9031e-01,  ...,  7.6428e-01,\n",
       "           -7.6837e-01, -5.8891e-01],\n",
       "          [ 8.0944e-02, -3.1089e-01, -6.4569e-01,  ...,  5.5033e-01,\n",
       "           -6.9641e-01, -1.0556e+00]]],\n",
       "\n",
       "\n",
       "        [[[-4.3643e-01,  6.3112e-01, -9.2418e-02,  ..., -2.3758e-01,\n",
       "            5.3003e-01,  5.2915e-02],\n",
       "          [-5.9730e-02,  5.0941e-01, -1.0112e+00,  ...,  3.6248e-01,\n",
       "            8.4072e-01,  1.2830e+00],\n",
       "          [-2.3149e-01,  2.4326e-01, -1.2375e+00,  ..., -9.7248e-01,\n",
       "           -6.6342e-02,  2.4757e+00],\n",
       "          ...,\n",
       "          [ 1.8880e+00, -1.2581e+00,  2.1474e+00,  ...,  1.0722e+00,\n",
       "            3.4465e+00, -6.5004e-02],\n",
       "          [ 1.5408e-01,  1.8163e+00, -2.1059e-01,  ...,  5.3283e-01,\n",
       "           -1.2185e+00,  8.1985e-02],\n",
       "          [-1.1063e+00, -1.2679e+00, -5.3722e-01,  ...,  1.0312e+00,\n",
       "            1.6318e-01,  1.9935e+00]],\n",
       "\n",
       "         [[ 1.7888e-01, -5.5803e-01, -1.5897e+00,  ...,  1.8203e+00,\n",
       "            1.2589e+00, -7.8140e-01],\n",
       "          [-2.1474e-01, -3.6702e-02,  1.4087e+00,  ..., -2.2780e+00,\n",
       "           -6.3645e-01, -9.8482e-01],\n",
       "          [ 1.3259e+00,  4.6665e-01,  2.1976e+00,  ..., -2.9229e+00,\n",
       "            1.7434e-01,  1.5544e+00],\n",
       "          ...,\n",
       "          [-2.5414e+00,  9.0332e-01,  1.7636e-01,  ...,  5.9405e-02,\n",
       "            1.3361e+00, -1.6647e-01],\n",
       "          [ 3.0040e-01, -1.3688e-01, -7.7339e-01,  ...,  3.8426e-01,\n",
       "           -2.0844e-01, -4.7614e-01],\n",
       "          [ 1.6478e+00,  1.8260e-01,  3.3487e-01,  ..., -1.3489e-01,\n",
       "           -2.5597e-01, -1.5754e-01]],\n",
       "\n",
       "         [[-5.6566e-01, -2.9450e-02, -4.9361e-01,  ..., -2.0358e-01,\n",
       "            8.6269e-01, -6.3993e-01],\n",
       "          [-8.0628e-01,  1.9534e+00, -1.4987e+00,  ..., -9.9849e-02,\n",
       "           -6.0929e-01,  7.8153e-01],\n",
       "          [-1.8261e+00, -7.0442e-01, -2.3118e-01,  ...,  8.1925e-01,\n",
       "           -5.1587e-01, -6.6989e-01],\n",
       "          ...,\n",
       "          [ 4.9574e-01, -1.4441e-02, -4.9008e-01,  ...,  1.7275e+00,\n",
       "            5.8703e-01,  7.9628e-01],\n",
       "          [ 2.0280e-01,  9.5131e-01,  1.4393e-01,  ...,  2.4041e-01,\n",
       "           -5.3123e-01,  2.5993e-03],\n",
       "          [-1.2687e+00,  1.2300e+00,  3.2704e-01,  ...,  2.8537e-01,\n",
       "            7.0742e-01, -9.6801e-01]]],\n",
       "\n",
       "\n",
       "        [[[-1.2205e+00, -9.6796e-01,  9.6295e-01,  ...,  3.5763e-01,\n",
       "            4.6954e-01,  9.6250e-01],\n",
       "          [-4.5153e-01, -4.2466e-01, -7.8707e-01,  ...,  1.5938e+00,\n",
       "           -1.1092e+00, -3.5584e-02],\n",
       "          [-2.8887e-01,  1.5125e+00,  5.9874e-01,  ...,  1.3176e+00,\n",
       "            4.8656e-01,  3.6245e-01],\n",
       "          ...,\n",
       "          [ 3.9368e-01,  1.7646e+00, -1.0618e+00,  ...,  5.2312e-01,\n",
       "            2.1225e+00,  2.0297e+00],\n",
       "          [ 4.2565e-01, -6.2159e-01, -2.3453e-01,  ...,  5.8927e-01,\n",
       "            6.1280e-01,  9.7550e-01],\n",
       "          [ 9.0832e-01, -1.5873e+00, -4.8701e-01,  ...,  7.3130e-01,\n",
       "            1.1983e+00, -5.3964e-01]],\n",
       "\n",
       "         [[ 1.1059e+00, -6.6999e-01, -2.9067e-01,  ...,  8.3482e-01,\n",
       "           -1.1162e-01, -1.8863e+00],\n",
       "          [ 1.5806e+00,  9.6103e-01,  9.0794e-02,  ..., -3.2618e-01,\n",
       "           -1.1943e+00,  3.1420e-01],\n",
       "          [-6.1886e-01, -4.5150e-01, -5.0933e-01,  ..., -1.2031e+00,\n",
       "            2.3882e+00,  1.7172e+00],\n",
       "          ...,\n",
       "          [-1.1100e+00,  3.2405e-01,  2.7709e-01,  ...,  3.5931e-01,\n",
       "            1.3647e+00, -3.9544e-02],\n",
       "          [-1.0342e+00,  1.3800e+00,  6.3965e-01,  ..., -1.2742e+00,\n",
       "           -1.4318e+00, -1.6672e+00],\n",
       "          [-4.0861e-01,  2.2367e+00,  7.9482e-01,  ..., -8.1313e-02,\n",
       "            1.2304e+00, -1.3907e+00]],\n",
       "\n",
       "         [[-1.1798e+00,  1.5872e+00,  1.2987e+00,  ..., -2.0734e+00,\n",
       "            2.1358e-01,  9.6585e-01],\n",
       "          [ 2.6169e-02, -3.1733e-01,  4.6959e-01,  ..., -1.7924e+00,\n",
       "            8.0498e-01,  1.9475e+00],\n",
       "          [-1.1654e+00, -2.1799e-01,  3.1859e-01,  ...,  2.1992e+00,\n",
       "            6.8031e-01,  9.1149e-01],\n",
       "          ...,\n",
       "          [ 3.8737e-01,  1.4505e-01, -3.5966e-01,  ...,  1.4985e+00,\n",
       "           -5.0414e-01,  3.1080e-01],\n",
       "          [-8.3287e-01,  2.2523e+00,  1.1115e+00,  ..., -6.8658e-01,\n",
       "           -4.2335e-01, -3.3971e-01],\n",
       "          [ 7.2567e-01, -1.0360e+00, -2.6340e+00,  ..., -1.0012e+00,\n",
       "            7.9144e-01, -6.6532e-01]]]], grad_fn=<NativeBatchNormBackward0>)"
      ]
     },
     "execution_count": 31,
     "metadata": {},
     "output_type": "execute_result"
    }
   ],
   "source": [
    "output_4d"
   ]
  },
  {
   "cell_type": "code",
   "execution_count": 32,
   "metadata": {
    "ExecuteTime": {
     "end_time": "2025-01-20T08:18:50.605471Z",
     "start_time": "2025-01-20T08:18:50.598876Z"
    },
    "execution": {
     "iopub.execute_input": "2025-01-24T09:27:18.588412Z",
     "iopub.status.busy": "2025-01-24T09:27:18.587898Z",
     "iopub.status.idle": "2025-01-24T09:27:18.601207Z",
     "shell.execute_reply": "2025-01-24T09:27:18.600468Z",
     "shell.execute_reply.started": "2025-01-24T09:27:18.588378Z"
    },
    "tags": []
   },
   "outputs": [
    {
     "data": {
      "text/plain": [
       "tensor([[[[-9.6886e-01,  1.1025e+00, -2.0371e-01,  ...,  4.2129e-01,\n",
       "            3.1420e-01,  1.5170e+00],\n",
       "          [-1.8388e+00,  2.5457e-01, -4.0196e-01,  ..., -8.7363e-01,\n",
       "           -7.5396e-02,  1.4395e+00],\n",
       "          [-1.4122e+00,  9.5005e-01, -3.9674e-01,  ..., -8.1484e-01,\n",
       "           -1.6060e-01, -8.5487e-01],\n",
       "          ...,\n",
       "          [ 9.1665e-02, -1.1885e+00, -9.7449e-01,  ..., -7.5458e-01,\n",
       "            8.0457e-01,  3.4009e-02],\n",
       "          [ 5.5346e-01, -1.4002e-01,  1.7115e+00,  ...,  3.4846e-02,\n",
       "           -5.1122e-01, -9.6639e-01],\n",
       "          [ 6.7852e-01, -3.0368e-01,  5.6167e-01,  ...,  6.6862e-01,\n",
       "            3.4022e-01,  9.0225e-01]]],\n",
       "\n",
       "\n",
       "        [[[-1.9404e-01,  1.5979e+00, -7.5502e-01,  ...,  8.6423e-01,\n",
       "            1.3411e-01, -4.7191e-01],\n",
       "          [-4.1093e-01,  1.3373e+00, -2.1907e+00,  ...,  3.2411e-01,\n",
       "           -8.1780e-01, -1.5144e+00],\n",
       "          [ 8.8116e-01,  1.1124e+00, -5.3765e-01,  ..., -1.7522e+00,\n",
       "           -2.5587e-01, -1.1691e+00],\n",
       "          ...,\n",
       "          [-4.0019e-01, -1.2709e+00, -6.2788e-02,  ..., -1.2547e+00,\n",
       "            1.2848e+00,  1.5831e+00],\n",
       "          [ 6.9420e-01, -3.4763e-01, -1.6730e-01,  ..., -6.9457e-01,\n",
       "            6.5150e-01,  1.4885e-01],\n",
       "          [-2.3943e-01, -8.1436e-01, -2.4060e-01,  ..., -4.7792e-01,\n",
       "           -1.4116e-01, -1.1508e+00]]],\n",
       "\n",
       "\n",
       "        [[[ 3.7673e-01, -3.1044e-01,  8.8942e-02,  ...,  4.5038e-02,\n",
       "           -2.3666e-01,  2.1659e-01],\n",
       "          [-1.8096e-01, -4.1262e-01,  6.9059e-01,  ...,  3.3445e-02,\n",
       "           -4.5476e-02,  9.3252e-01],\n",
       "          [-1.5464e+00,  1.7464e-01,  1.7548e+00,  ...,  7.5749e-01,\n",
       "           -1.8945e+00, -1.0383e-01],\n",
       "          ...,\n",
       "          [-1.3782e-01, -2.1871e-02,  6.9985e-01,  ...,  1.4740e-01,\n",
       "           -2.1868e+00,  3.4203e-01],\n",
       "          [-1.1608e+00, -2.6981e-01, -7.9103e-01,  ..., -8.3052e-01,\n",
       "           -4.8751e-01, -5.6157e-01],\n",
       "          [-2.9536e-01,  1.5360e+00, -1.0701e-01,  ...,  2.6703e-01,\n",
       "           -1.2248e-01, -1.8821e+00]]],\n",
       "\n",
       "\n",
       "        ...,\n",
       "\n",
       "\n",
       "        [[[-8.8320e-01,  1.7433e+00, -1.6068e+00,  ...,  4.3634e-01,\n",
       "           -7.9912e-01,  6.8900e-01],\n",
       "          [ 2.1535e+00,  1.4164e+00, -8.5180e-01,  ...,  2.2555e+00,\n",
       "            8.9543e-01,  8.6955e-02],\n",
       "          [ 1.9818e-01,  5.9900e-01, -1.4953e-01,  ..., -5.3215e-01,\n",
       "            9.9217e-01, -2.2892e-03],\n",
       "          ...,\n",
       "          [ 8.0032e-01,  1.1361e+00,  6.6475e-01,  ..., -2.4078e+00,\n",
       "           -1.6875e-01, -5.5498e-01],\n",
       "          [-9.9157e-01,  1.5119e+00,  5.3110e-01,  ..., -1.0712e+00,\n",
       "           -2.2456e-02, -7.0145e-02],\n",
       "          [ 7.4198e-01,  6.7834e-01, -2.4689e-01,  ..., -1.8861e+00,\n",
       "            4.8105e-01, -1.1647e+00]]],\n",
       "\n",
       "\n",
       "        [[[-4.3643e-01,  6.3112e-01, -9.2418e-02,  ..., -2.3758e-01,\n",
       "            5.3003e-01,  5.2915e-02],\n",
       "          [-5.9730e-02,  5.0941e-01, -1.0112e+00,  ...,  3.6248e-01,\n",
       "            8.4072e-01,  1.2830e+00],\n",
       "          [-2.3149e-01,  2.4326e-01, -1.2375e+00,  ..., -9.7248e-01,\n",
       "           -6.6342e-02,  2.4757e+00],\n",
       "          ...,\n",
       "          [ 1.8880e+00, -1.2581e+00,  2.1474e+00,  ...,  1.0722e+00,\n",
       "            3.4465e+00, -6.5004e-02],\n",
       "          [ 1.5408e-01,  1.8163e+00, -2.1059e-01,  ...,  5.3283e-01,\n",
       "           -1.2185e+00,  8.1985e-02],\n",
       "          [-1.1063e+00, -1.2679e+00, -5.3722e-01,  ...,  1.0312e+00,\n",
       "            1.6318e-01,  1.9935e+00]]],\n",
       "\n",
       "\n",
       "        [[[-1.2205e+00, -9.6796e-01,  9.6295e-01,  ...,  3.5763e-01,\n",
       "            4.6954e-01,  9.6250e-01],\n",
       "          [-4.5153e-01, -4.2466e-01, -7.8707e-01,  ...,  1.5938e+00,\n",
       "           -1.1092e+00, -3.5584e-02],\n",
       "          [-2.8887e-01,  1.5125e+00,  5.9874e-01,  ...,  1.3176e+00,\n",
       "            4.8656e-01,  3.6245e-01],\n",
       "          ...,\n",
       "          [ 3.9368e-01,  1.7646e+00, -1.0618e+00,  ...,  5.2312e-01,\n",
       "            2.1225e+00,  2.0297e+00],\n",
       "          [ 4.2565e-01, -6.2159e-01, -2.3453e-01,  ...,  5.8927e-01,\n",
       "            6.1280e-01,  9.7550e-01],\n",
       "          [ 9.0832e-01, -1.5873e+00, -4.8701e-01,  ...,  7.3130e-01,\n",
       "            1.1983e+00, -5.3964e-01]]]], grad_fn=<NativeBatchNormBackward0>)"
      ]
     },
     "execution_count": 32,
     "metadata": {},
     "output_type": "execute_result"
    }
   ],
   "source": [
    "bn2d = nn.BatchNorm2d(1)              # 对 3 个通道进行归一化\n",
    "output_4d1 = bn2d(input_4d[:, 0:1, :, :])\n",
    "output_4d1"
   ]
  },
  {
   "cell_type": "markdown",
   "metadata": {},
   "source": [
    "## 训练\n",
    "\n",
    "pytorch的训练需要自行实现，包括\n",
    "1. 定义损失函数\n",
    "2. 定义优化器\n",
    "3. 定义训练步\n",
    "4. 训练"
   ]
  },
  {
   "cell_type": "code",
   "execution_count": 33,
   "metadata": {
    "ExecuteTime": {
     "end_time": "2024-07-23T06:51:47.038660500Z",
     "start_time": "2024-07-23T06:51:46.193237300Z"
    },
    "execution": {
     "iopub.execute_input": "2025-01-24T09:27:23.243263Z",
     "iopub.status.busy": "2025-01-24T09:27:23.242751Z",
     "iopub.status.idle": "2025-01-24T09:27:23.361959Z",
     "shell.execute_reply": "2025-01-24T09:27:23.361172Z",
     "shell.execute_reply.started": "2025-01-24T09:27:23.243220Z"
    },
    "tags": []
   },
   "outputs": [],
   "source": [
    "from sklearn.metrics import accuracy_score\n",
    "\n",
    "@torch.no_grad()\n",
    "def evaluating(model, dataloader, loss_fct):\n",
    "    loss_list = []\n",
    "    pred_list = []\n",
    "    label_list = []\n",
    "    for datas, labels in dataloader:\n",
    "        datas = datas.to(device)\n",
    "        labels = labels.to(device)\n",
    "        # 前向计算\n",
    "        logits = model(datas)\n",
    "        loss = loss_fct(logits, labels)         # 验证集损失\n",
    "        loss_list.append(loss.item())\n",
    "        \n",
    "        preds = logits.argmax(axis=-1)    # 验证集预测\n",
    "        pred_list.extend(preds.cpu().numpy().tolist())\n",
    "        label_list.extend(labels.cpu().numpy().tolist())\n",
    "        \n",
    "    acc = accuracy_score(label_list, pred_list)\n",
    "    return np.mean(loss_list), acc\n"
   ]
  },
  {
   "cell_type": "markdown",
   "metadata": {},
   "source": [
    "### TensorBoard 可视化\n",
    "\n",
    "\n",
    "训练过程中可以使用如下命令启动tensorboard服务。\n",
    "\n",
    "```shell\n",
    "tensorboard \\\n",
    "    --logdir=runs \\     # log 存放路径\n",
    "    --host 0.0.0.0 \\    # ip\n",
    "    --port 8848         # 端口\n",
    "```"
   ]
  },
  {
   "cell_type": "code",
   "execution_count": 39,
   "metadata": {
    "ExecuteTime": {
     "end_time": "2024-07-23T06:51:50.921239100Z",
     "start_time": "2024-07-23T06:51:49.522951600Z"
    },
    "execution": {
     "iopub.execute_input": "2025-01-24T09:28:11.954317Z",
     "iopub.status.busy": "2025-01-24T09:28:11.953544Z",
     "iopub.status.idle": "2025-01-24T09:28:11.963286Z",
     "shell.execute_reply": "2025-01-24T09:28:11.962480Z",
     "shell.execute_reply.started": "2025-01-24T09:28:11.954277Z"
    },
    "tags": []
   },
   "outputs": [],
   "source": [
    "from torch.utils.tensorboard import SummaryWriter\n",
    "\n",
    "\n",
    "class TensorBoardCallback:\n",
    "    def __init__(self, log_dir, flush_secs=10):\n",
    "        \"\"\"\n",
    "        Args:\n",
    "            log_dir (str): dir to write log.\n",
    "            flush_secs (int, optional): write to dsk each flush_secs seconds. Defaults to 10.\n",
    "        \"\"\"\n",
    "        self.writer = SummaryWriter(log_dir=log_dir, flush_secs=flush_secs)\n",
    "\n",
    "    def draw_model(self, model, input_shape):\n",
    "        self.writer.add_graph(model, input_to_model=torch.randn(input_shape))\n",
    "        \n",
    "    def add_loss_scalars(self, step, loss, val_loss):\n",
    "        self.writer.add_scalars(\n",
    "            main_tag=\"training/loss\", \n",
    "            tag_scalar_dict={\"loss\": loss, \"val_loss\": val_loss},\n",
    "            global_step=step,\n",
    "            )\n",
    "        \n",
    "    def add_acc_scalars(self, step, acc, val_acc):\n",
    "        self.writer.add_scalars(\n",
    "            main_tag=\"training/accuracy\",\n",
    "            tag_scalar_dict={\"accuracy\": acc, \"val_accuracy\": val_acc},\n",
    "            global_step=step,\n",
    "        )\n",
    "        \n",
    "    def add_lr_scalars(self, step, learning_rate):\n",
    "        self.writer.add_scalars(\n",
    "            main_tag=\"training/learning_rate\",\n",
    "            tag_scalar_dict={\"learning_rate\": learning_rate},\n",
    "            global_step=step,\n",
    "            \n",
    "        )\n",
    "    \n",
    "    def __call__(self, step, **kwargs):\n",
    "        # add loss\n",
    "        loss = kwargs.pop(\"loss\", None)\n",
    "        val_loss = kwargs.pop(\"val_loss\", None)\n",
    "        if loss is not None and val_loss is not None:\n",
    "            self.add_loss_scalars(step, loss, val_loss)\n",
    "        # add acc\n",
    "        acc = kwargs.pop(\"acc\", None)\n",
    "        val_acc = kwargs.pop(\"val_acc\", None)\n",
    "        if acc is not None and val_acc is not None:\n",
    "            self.add_acc_scalars(step, acc, val_acc)\n",
    "        # add lr\n",
    "        learning_rate = kwargs.pop(\"lr\", None)\n",
    "        if learning_rate is not None:\n",
    "            self.add_lr_scalars(step, learning_rate)\n"
   ]
  },
  {
   "cell_type": "markdown",
   "metadata": {},
   "source": [
    "### Save Best\n"
   ]
  },
  {
   "cell_type": "code",
   "execution_count": 35,
   "metadata": {
    "ExecuteTime": {
     "end_time": "2024-07-23T06:51:52.029341200Z",
     "start_time": "2024-07-23T06:51:52.023343500Z"
    },
    "execution": {
     "iopub.execute_input": "2025-01-24T09:27:28.846282Z",
     "iopub.status.busy": "2025-01-24T09:27:28.845579Z",
     "iopub.status.idle": "2025-01-24T09:27:28.853369Z",
     "shell.execute_reply": "2025-01-24T09:27:28.852527Z",
     "shell.execute_reply.started": "2025-01-24T09:27:28.846240Z"
    },
    "tags": []
   },
   "outputs": [],
   "source": [
    "class SaveCheckpointsCallback:\n",
    "    def __init__(self, save_dir, save_step=5000, save_best_only=True):\n",
    "        \"\"\"\n",
    "        Save checkpoints each save_epoch epoch. \n",
    "        We save checkpoint by epoch in this implementation.\n",
    "        Usually, training scripts with pytorch evaluating model and save checkpoint by step.\n",
    "\n",
    "        Args:\n",
    "            save_dir (str): dir to save checkpoint\n",
    "            save_epoch (int, optional): the frequency to save checkpoint. Defaults to 1.\n",
    "            save_best_only (bool, optional): If True, only save the best model or save each model at every epoch.\n",
    "        \"\"\"\n",
    "        self.save_dir = save_dir\n",
    "        self.save_step = save_step\n",
    "        self.save_best_only = save_best_only\n",
    "        self.best_metrics = -1\n",
    "        \n",
    "        # mkdir\n",
    "        if not os.path.exists(self.save_dir):\n",
    "            os.mkdir(self.save_dir)\n",
    "        \n",
    "    def __call__(self, step, state_dict, metric=None):\n",
    "        if step % self.save_step > 0:\n",
    "            return\n",
    "        \n",
    "        if self.save_best_only:\n",
    "            assert metric is not None\n",
    "            if metric >= self.best_metrics:\n",
    "                # save checkpoints\n",
    "                torch.save(state_dict, os.path.join(self.save_dir, \"best.ckpt\"))\n",
    "                # update best metrics\n",
    "                self.best_metrics = metric\n",
    "        else:\n",
    "            torch.save(state_dict, os.path.join(self.save_dir, f\"{step}.ckpt\"))\n",
    "\n"
   ]
  },
  {
   "cell_type": "markdown",
   "metadata": {},
   "source": [
    "### Early Stop"
   ]
  },
  {
   "cell_type": "code",
   "execution_count": 36,
   "metadata": {
    "ExecuteTime": {
     "end_time": "2024-07-23T06:51:56.837899700Z",
     "start_time": "2024-07-23T06:51:56.828651400Z"
    },
    "execution": {
     "iopub.execute_input": "2025-01-24T09:27:31.118230Z",
     "iopub.status.busy": "2025-01-24T09:27:31.117728Z",
     "iopub.status.idle": "2025-01-24T09:27:31.124287Z",
     "shell.execute_reply": "2025-01-24T09:27:31.123430Z",
     "shell.execute_reply.started": "2025-01-24T09:27:31.118198Z"
    },
    "tags": []
   },
   "outputs": [],
   "source": [
    "class EarlyStopCallback:\n",
    "    def __init__(self, patience=5, min_delta=0.01):\n",
    "        \"\"\"\n",
    "\n",
    "        Args:\n",
    "            patience (int, optional): Number of epochs with no improvement after which training will be stopped.. Defaults to 5.\n",
    "            min_delta (float, optional): Minimum change in the monitored quantity to qualify as an improvement, i.e. an absolute \n",
    "                change of less than min_delta, will count as no improvement. Defaults to 0.01.\n",
    "        \"\"\"\n",
    "        self.patience = patience\n",
    "        self.min_delta = min_delta\n",
    "        self.best_metric = -1\n",
    "        self.counter = 0\n",
    "        \n",
    "    def __call__(self, metric):\n",
    "        if metric >= self.best_metric + self.min_delta:\n",
    "            # update best metric\n",
    "            self.best_metric = metric\n",
    "            # reset counter \n",
    "            self.counter = 0\n",
    "        else: \n",
    "            self.counter += 1\n",
    "            \n",
    "    @property\n",
    "    def early_stop(self):\n",
    "        return self.counter >= self.patience\n"
   ]
  },
  {
   "cell_type": "code",
   "execution_count": 37,
   "metadata": {
    "ExecutionIndicator": {
     "show": true
    },
    "execution": {
     "iopub.execute_input": "2025-01-24T09:27:34.077484Z",
     "iopub.status.busy": "2025-01-24T09:27:34.076724Z",
     "iopub.status.idle": "2025-01-24T09:27:34.425795Z",
     "shell.execute_reply": "2025-01-24T09:27:34.424745Z",
     "shell.execute_reply.started": "2025-01-24T09:27:34.077451Z"
    },
    "tags": []
   },
   "outputs": [],
   "source": [
    "# 训练\n",
    "def training(\n",
    "    model, \n",
    "    train_loader, \n",
    "    val_loader, \n",
    "    epoch, \n",
    "    loss_fct, \n",
    "    optimizer, \n",
    "    tensorboard_callback=None,\n",
    "    save_ckpt_callback=None,\n",
    "    early_stop_callback=None,\n",
    "    eval_step=500,\n",
    "    ):\n",
    "    record_dict = {\n",
    "        \"train\": [],\n",
    "        \"val\": []\n",
    "    }\n",
    "    \n",
    "    global_step = 0\n",
    "    model.train()\n",
    "    with tqdm(total=epoch * len(train_loader)) as pbar:\n",
    "        for epoch_id in range(epoch):\n",
    "            # training\n",
    "            for datas, labels in train_loader:\n",
    "                datas = datas.to(device)\n",
    "                labels = labels.to(device)\n",
    "                # 梯度清空\n",
    "                optimizer.zero_grad()\n",
    "                # 模型前向计算\n",
    "                logits = model(datas)\n",
    "                # 计算损失\n",
    "                loss = loss_fct(logits, labels)\n",
    "                # 梯度回传\n",
    "                loss.backward()\n",
    "                # 调整优化器，包括学习率的变动等\n",
    "                optimizer.step()\n",
    "                preds = logits.argmax(axis=-1) #最大值的索引\n",
    "            \n",
    "                acc = accuracy_score(labels.cpu().numpy(), preds.cpu().numpy())     # 计算准确率\n",
    "                loss = loss.cpu().item() # 计算损失\n",
    "                # record\n",
    "                \n",
    "                record_dict[\"train\"].append({\n",
    "                    \"loss\": loss, \"acc\": acc, \"step\": global_step # 记录每一步的损失和准确率\n",
    "                })\n",
    "                \n",
    "                # evaluating\n",
    "                if global_step % eval_step == 0:\n",
    "                    model.eval()\n",
    "                    val_loss, val_acc = evaluating(model, val_loader, loss_fct)\n",
    "                    record_dict[\"val\"].append({\n",
    "                        \"loss\": val_loss, \"acc\": val_acc, \"step\": global_step\n",
    "                    })\n",
    "                    model.train()\n",
    "                    \n",
    "                    # 1. 使用 tensorboard 可视化\n",
    "                    if tensorboard_callback is not None:\n",
    "                        tensorboard_callback(\n",
    "                            global_step, \n",
    "                            loss=loss, val_loss=val_loss,\n",
    "                            acc=acc, val_acc=val_acc,\n",
    "                            lr=optimizer.param_groups[0][\"lr\"],\n",
    "                            )\n",
    "                \n",
    "                    # 2. 保存模型权重 save model checkpoint\n",
    "                    if save_ckpt_callback is not None:\n",
    "                        save_ckpt_callback(global_step, model.state_dict(), metric=val_acc)\n",
    "\n",
    "                    # 3. 早停 Early Stop\n",
    "                    if early_stop_callback is not None:\n",
    "                        early_stop_callback(val_acc)\n",
    "                        if early_stop_callback.early_stop:\n",
    "                            print(f\"Early stop at epoch {epoch_id} / global_step {global_step}\")\n",
    "                            return record_dict\n",
    "                    \n",
    "                # udate step\n",
    "                global_step += 1\n",
    "                pbar.update(1)\n",
    "                pbar.set_postfix({\"epoch\": epoch_id})\n",
    "        \n",
    "    return record_dict\n",
    "        \n",
    "\n",
    "epoch = 20\n",
    "\n",
    "model = CNN(num_classes=10)\n",
    "\n",
    "# 1. 定义损失函数 采用交叉熵损失\n",
    "loss_fct = nn.CrossEntropyLoss()\n",
    "# 2. 定义优化器 采用 adam\n",
    "# Optimizers specified in the torch.optim package\n",
    "optimizer = torch.optim.Adam(model.parameters(), lr=0.001)\n",
    "\n",
    "# 1. tensorboard 可视化\n",
    "if not os.path.exists(\"runs\"):\n",
    "    os.mkdir(\"runs\")\n",
    "# tensorboard_callback = TensorBoardCallback(\"runs/cifar-10\")\n",
    "# tensorboard_callback.draw_model(model, [1, 3, IMAGE_SIZE, IMAGE_SIZE])\n",
    "# 2. save best\n",
    "if not os.path.exists(\"checkpoints\"):\n",
    "    os.makedirs(\"checkpoints\")\n",
    "save_ckpt_callback = SaveCheckpointsCallback(\"checkpoints/cifar-10\", save_step=len(train_dl), save_best_only=True)\n",
    "# 3. early stop\n",
    "early_stop_callback = EarlyStopCallback(patience=5)\n",
    "\n",
    "model = model.to(device)\n"
   ]
  },
  {
   "cell_type": "code",
   "execution_count": 42,
   "metadata": {
    "ExecutionIndicator": {
     "show": true
    },
    "collapsed": false,
    "execution": {
     "iopub.execute_input": "2025-01-24T09:28:38.362099Z",
     "iopub.status.busy": "2025-01-24T09:28:38.361572Z",
     "iopub.status.idle": "2025-01-24T09:42:45.620686Z",
     "shell.execute_reply": "2025-01-24T09:42:45.619897Z",
     "shell.execute_reply.started": "2025-01-24T09:28:38.362064Z"
    },
    "jupyter": {
     "outputs_hidden": false
    },
    "tags": []
   },
   "outputs": [
    {
     "name": "stderr",
     "output_type": "stream",
     "text": [
      "100%|██████████| 14080/14080 [14:07<00:00, 16.62it/s, epoch=19]\n"
     ]
    }
   ],
   "source": [
    "record = training(\n",
    "    model,\n",
    "    train_dl,\n",
    "    eval_dl,\n",
    "    epoch,\n",
    "    loss_fct,\n",
    "    optimizer,\n",
    "    tensorboard_callback=None,\n",
    "    save_ckpt_callback=save_ckpt_callback,\n",
    "    early_stop_callback=early_stop_callback,\n",
    "    eval_step=len(train_dl)\n",
    "    )"
   ]
  },
  {
   "cell_type": "code",
   "execution_count": 50,
   "metadata": {
    "ExecutionIndicator": {
     "show": true
    },
    "execution": {
     "iopub.execute_input": "2025-01-24T09:46:42.748429Z",
     "iopub.status.busy": "2025-01-24T09:46:42.747921Z",
     "iopub.status.idle": "2025-01-24T09:46:43.029542Z",
     "shell.execute_reply": "2025-01-24T09:46:43.028586Z",
     "shell.execute_reply.started": "2025-01-24T09:46:42.748394Z"
    },
    "tags": []
   },
   "outputs": [
    {
     "data": {
      "image/png": "[encoded data removed]",
      "text/plain": [
       "<Figure size 1000x500 with 2 Axes>"
      ]
     },
     "metadata": {},
     "output_type": "display_data"
    }
   ],
   "source": [
    "# 画线要注意的是损失是不一定在零到1之间的\n",
    "def plot_learning_curves(record_dict, sample_step=500):\n",
    "    # build DataFrame\n",
    "    train_df = pd.DataFrame(record_dict[\"train\"]).set_index(\"step\").iloc[::sample_step]\n",
    "    val_df = pd.DataFrame(record_dict[\"val\"]).set_index(\"step\")\n",
    "\n",
    "    # plot\n",
    "    fig_num = len(train_df.columns)\n",
    "    fig, axs = plt.subplots(1, fig_num, figsize=(5 * fig_num, 5))\n",
    "    for idx, item in enumerate(train_df.columns):    \n",
    "        axs[idx].plot(train_df.index, train_df[item], label=f\"train_{item}\")\n",
    "        axs[idx].plot(val_df.index, val_df[item], label=f\"val_{item}\")\n",
    "        axs[idx].grid()\n",
    "        axs[idx].legend()\n",
    "        axs[idx].set_xticks(range(0, train_df.index[-1], 5000))\n",
    "        axs[idx].set_xticklabels(map(lambda x: f\"{int(x/1000)}k\", range(0, train_df.index[-1], 5000)))\n",
    "        axs[idx].set_xlabel(\"step\")\n",
    "    \n",
    "    plt.show()\n",
    "\n",
    "plot_learning_curves(record, sample_step=10)  #横坐标是 steps"
   ]
  },
  {
   "cell_type": "markdown",
   "metadata": {},
   "source": [
    "# 评估"
   ]
  },
  {
   "cell_type": "code",
   "execution_count": 44,
   "metadata": {
    "ExecutionIndicator": {
     "show": true
    },
    "execution": {
     "iopub.execute_input": "2025-01-24T09:42:45.629912Z",
     "iopub.status.busy": "2025-01-24T09:42:45.629669Z",
     "iopub.status.idle": "2025-01-24T09:42:48.464040Z",
     "shell.execute_reply": "2025-01-24T09:42:48.463225Z",
     "shell.execute_reply.started": "2025-01-24T09:42:45.629887Z"
    },
    "tags": []
   },
   "outputs": [
    {
     "name": "stderr",
     "output_type": "stream",
     "text": [
      "/tmp/ipykernel_273/4227932207.py:3: FutureWarning: You are using `torch.load` with `weights_only=False` (the current default value), which uses the default pickle module implicitly. It is possible to construct malicious pickle data which will execute arbitrary code during unpickling (See https://github.com/pytorch/pytorch/blob/main/SECURITY.md#untrusted-models for more details). In a future release, the default value for `weights_only` will be flipped to `True`. This limits the functions that could be executed during unpickling. Arbitrary objects will no longer be allowed to be loaded via this mode unless they are explicitly allowlisted by the user via `torch.serialization.add_safe_globals`. We recommend you start setting `weights_only=True` for any use case where you don't have full control of the loaded file. Please open an issue on GitHub for any issues related to this experimental feature.\n",
      "  model.load_state_dict(torch.load(\"checkpoints/cifar-10/best.ckpt\", map_location=\"cpu\"))\n"
     ]
    },
    {
     "name": "stdout",
     "output_type": "stream",
     "text": [
      "loss:     0.4380\n",
      "accuracy: 0.8714\n"
     ]
    }
   ],
   "source": [
    "# dataload for evaluating\n",
    "# load checkpoints\n",
    "model.load_state_dict(torch.load(\"checkpoints/cifar-10/best.ckpt\", map_location=\"cpu\"))\n",
    "\n",
    "model.eval()\n",
    "loss, acc = evaluating(model, eval_dl, loss_fct)\n",
    "print(f\"loss:     {loss:.4f}\\naccuracy: {acc:.4f}\")"
   ]
  },
  {
   "cell_type": "markdown",
   "metadata": {},
   "source": [
    "# 推理"
   ]
  },
  {
   "cell_type": "code",
   "execution_count": 45,
   "metadata": {
    "ExecutionIndicator": {
     "show": false
    },
    "execution": {
     "iopub.execute_input": "2025-01-24T09:42:48.465933Z",
     "iopub.status.busy": "2025-01-24T09:42:48.465578Z",
     "iopub.status.idle": "2025-01-24T09:45:36.352331Z",
     "shell.execute_reply": "2025-01-24T09:45:36.351541Z",
     "shell.execute_reply.started": "2025-01-24T09:42:48.465905Z"
    },
    "tags": []
   },
   "outputs": [
    {
     "name": "stderr",
     "output_type": "stream",
     "text": [
      "100%|██████████| 4688/4688 [02:47<00:00, 27.93it/s]\n"
     ]
    }
   ],
   "source": [
    "# test_df\n",
    "test_ds = Cifar10Dataset(\"test\", transform=transforms_eval)\n",
    "test_dl = DataLoader(test_ds, batch_size=batch_size, shuffle=False, drop_last=False)\n",
    "\n",
    "preds_collect = [] # 预测结果收集器\n",
    "model.eval()\n",
    "for data, fake_label in tqdm(test_dl):\n",
    "    data = data.to(device=device)\n",
    "    logits = model(data) #得到预测结果\n",
    "    preds = [test_ds.idx_to_label[idx] for idx in logits.argmax(axis=-1).cpu().tolist()] # 得到预测类别，idx_to_label是id到字符串类别的映射\n",
    "    preds_collect.extend(preds)\n",
    "    \n"
   ]
  },
  {
   "cell_type": "code",
   "execution_count": 51,
   "metadata": {
    "execution": {
     "iopub.execute_input": "2025-01-24T09:47:05.285154Z",
     "iopub.status.busy": "2025-01-24T09:47:05.284631Z",
     "iopub.status.idle": "2025-01-24T09:47:05.295670Z",
     "shell.execute_reply": "2025-01-24T09:47:05.294782Z",
     "shell.execute_reply.started": "2025-01-24T09:47:05.285119Z"
    },
    "tags": []
   },
   "outputs": [
    {
     "data": {
      "text/html": [
       "<div>\n",
       "<style scoped>\n",
       "    .dataframe tbody tr th:only-of-type {\n",
       "        vertical-align: middle;\n",
       "    }\n",
       "\n",
       "    .dataframe tbody tr th {\n",
       "        vertical-align: top;\n",
       "    }\n",
       "\n",
       "    .dataframe thead th {\n",
       "        text-align: right;\n",
       "    }\n",
       "</style>\n",
       "<table border=\"1\" class=\"dataframe\">\n",
       "  <thead>\n",
       "    <tr style=\"text-align: right;\">\n",
       "      <th></th>\n",
       "      <th>filepath</th>\n",
       "      <th>class</th>\n",
       "    </tr>\n",
       "  </thead>\n",
       "  <tbody>\n",
       "    <tr>\n",
       "      <th>0</th>\n",
       "      <td>competitions/cifar-10/test/1.png</td>\n",
       "      <td>cat</td>\n",
       "    </tr>\n",
       "    <tr>\n",
       "      <th>1</th>\n",
       "      <td>competitions/cifar-10/test/2.png</td>\n",
       "      <td>cat</td>\n",
       "    </tr>\n",
       "    <tr>\n",
       "      <th>2</th>\n",
       "      <td>competitions/cifar-10/test/3.png</td>\n",
       "      <td>cat</td>\n",
       "    </tr>\n",
       "    <tr>\n",
       "      <th>3</th>\n",
       "      <td>competitions/cifar-10/test/4.png</td>\n",
       "      <td>cat</td>\n",
       "    </tr>\n",
       "    <tr>\n",
       "      <th>4</th>\n",
       "      <td>competitions/cifar-10/test/5.png</td>\n",
       "      <td>cat</td>\n",
       "    </tr>\n",
       "  </tbody>\n",
       "</table>\n",
       "</div>"
      ],
      "text/plain": [
       "                           filepath class\n",
       "0  competitions/cifar-10/test/1.png   cat\n",
       "1  competitions/cifar-10/test/2.png   cat\n",
       "2  competitions/cifar-10/test/3.png   cat\n",
       "3  competitions/cifar-10/test/4.png   cat\n",
       "4  competitions/cifar-10/test/5.png   cat"
      ]
     },
     "execution_count": 51,
     "metadata": {},
     "output_type": "execute_result"
    }
   ],
   "source": [
    "test_df.head()"
   ]
  },
  {
   "cell_type": "code",
   "execution_count": 52,
   "metadata": {
    "ExecutionIndicator": {
     "show": false
    },
    "execution": {
     "iopub.execute_input": "2025-01-24T09:47:07.005356Z",
     "iopub.status.busy": "2025-01-24T09:47:07.004855Z",
     "iopub.status.idle": "2025-01-24T09:47:07.094077Z",
     "shell.execute_reply": "2025-01-24T09:47:07.093363Z",
     "shell.execute_reply.started": "2025-01-24T09:47:07.005323Z"
    },
    "tags": []
   },
   "outputs": [
    {
     "data": {
      "text/html": [
       "<div>\n",
       "<style scoped>\n",
       "    .dataframe tbody tr th:only-of-type {\n",
       "        vertical-align: middle;\n",
       "    }\n",
       "\n",
       "    .dataframe tbody tr th {\n",
       "        vertical-align: top;\n",
       "    }\n",
       "\n",
       "    .dataframe thead th {\n",
       "        text-align: right;\n",
       "    }\n",
       "</style>\n",
       "<table border=\"1\" class=\"dataframe\">\n",
       "  <thead>\n",
       "    <tr style=\"text-align: right;\">\n",
       "      <th></th>\n",
       "      <th>id</th>\n",
       "    </tr>\n",
       "  </thead>\n",
       "  <tbody>\n",
       "    <tr>\n",
       "      <th>0</th>\n",
       "      <td>1</td>\n",
       "    </tr>\n",
       "    <tr>\n",
       "      <th>1</th>\n",
       "      <td>2</td>\n",
       "    </tr>\n",
       "    <tr>\n",
       "      <th>2</th>\n",
       "      <td>3</td>\n",
       "    </tr>\n",
       "    <tr>\n",
       "      <th>3</th>\n",
       "      <td>4</td>\n",
       "    </tr>\n",
       "    <tr>\n",
       "      <th>4</th>\n",
       "      <td>5</td>\n",
       "    </tr>\n",
       "    <tr>\n",
       "      <th>...</th>\n",
       "      <td>...</td>\n",
       "    </tr>\n",
       "    <tr>\n",
       "      <th>299995</th>\n",
       "      <td>299996</td>\n",
       "    </tr>\n",
       "    <tr>\n",
       "      <th>299996</th>\n",
       "      <td>299997</td>\n",
       "    </tr>\n",
       "    <tr>\n",
       "      <th>299997</th>\n",
       "      <td>299998</td>\n",
       "    </tr>\n",
       "    <tr>\n",
       "      <th>299998</th>\n",
       "      <td>299999</td>\n",
       "    </tr>\n",
       "    <tr>\n",
       "      <th>299999</th>\n",
       "      <td>300000</td>\n",
       "    </tr>\n",
       "  </tbody>\n",
       "</table>\n",
       "<p>300000 rows × 1 columns</p>\n",
       "</div>"
      ],
      "text/plain": [
       "            id\n",
       "0            1\n",
       "1            2\n",
       "2            3\n",
       "3            4\n",
       "4            5\n",
       "...        ...\n",
       "299995  299996\n",
       "299996  299997\n",
       "299997  299998\n",
       "299998  299999\n",
       "299999  300000\n",
       "\n",
       "[300000 rows x 1 columns]"
      ]
     },
     "execution_count": 52,
     "metadata": {},
     "output_type": "execute_result"
    }
   ],
   "source": [
    "test_df1 = pd.DataFrame(list(range(1,3*10**5+1)), columns=[\"id\"])\n",
    "test_df1"
   ]
  },
  {
   "cell_type": "code",
   "execution_count": 53,
   "metadata": {
    "execution": {
     "iopub.execute_input": "2025-01-24T09:47:09.329330Z",
     "iopub.status.busy": "2025-01-24T09:47:09.328838Z",
     "iopub.status.idle": "2025-01-24T09:47:09.345769Z",
     "shell.execute_reply": "2025-01-24T09:47:09.345065Z",
     "shell.execute_reply.started": "2025-01-24T09:47:09.329295Z"
    },
    "tags": []
   },
   "outputs": [
    {
     "data": {
      "text/html": [
       "<div>\n",
       "<style scoped>\n",
       "    .dataframe tbody tr th:only-of-type {\n",
       "        vertical-align: middle;\n",
       "    }\n",
       "\n",
       "    .dataframe tbody tr th {\n",
       "        vertical-align: top;\n",
       "    }\n",
       "\n",
       "    .dataframe thead th {\n",
       "        text-align: right;\n",
       "    }\n",
       "</style>\n",
       "<table border=\"1\" class=\"dataframe\">\n",
       "  <thead>\n",
       "    <tr style=\"text-align: right;\">\n",
       "      <th></th>\n",
       "      <th>id</th>\n",
       "      <th>label</th>\n",
       "    </tr>\n",
       "  </thead>\n",
       "  <tbody>\n",
       "    <tr>\n",
       "      <th>0</th>\n",
       "      <td>1</td>\n",
       "      <td>airplane</td>\n",
       "    </tr>\n",
       "    <tr>\n",
       "      <th>1</th>\n",
       "      <td>2</td>\n",
       "      <td>airplane</td>\n",
       "    </tr>\n",
       "    <tr>\n",
       "      <th>2</th>\n",
       "      <td>3</td>\n",
       "      <td>automobile</td>\n",
       "    </tr>\n",
       "    <tr>\n",
       "      <th>3</th>\n",
       "      <td>4</td>\n",
       "      <td>ship</td>\n",
       "    </tr>\n",
       "    <tr>\n",
       "      <th>4</th>\n",
       "      <td>5</td>\n",
       "      <td>airplane</td>\n",
       "    </tr>\n",
       "  </tbody>\n",
       "</table>\n",
       "</div>"
      ],
      "text/plain": [
       "   id       label\n",
       "0   1    airplane\n",
       "1   2    airplane\n",
       "2   3  automobile\n",
       "3   4        ship\n",
       "4   5    airplane"
      ]
     },
     "execution_count": 53,
     "metadata": {},
     "output_type": "execute_result"
    }
   ],
   "source": [
    "test_df1[\"label\"] = preds_collect # 增加预测类别列,比赛要求这一列是label\n",
    "test_df1.head()"
   ]
  },
  {
   "cell_type": "code",
   "execution_count": 54,
   "metadata": {
    "execution": {
     "iopub.execute_input": "2025-01-24T09:47:11.776229Z",
     "iopub.status.busy": "2025-01-24T09:47:11.775736Z",
     "iopub.status.idle": "2025-01-24T09:47:12.020654Z",
     "shell.execute_reply": "2025-01-24T09:47:12.019830Z",
     "shell.execute_reply.started": "2025-01-24T09:47:11.776198Z"
    },
    "tags": []
   },
   "outputs": [],
   "source": [
    "# 导出 submission.csv\n",
    "test_df1.to_csv(\"submission.csv\", index=False)"
   ]
  },
  {
   "cell_type": "code",
   "execution_count": 55,
   "metadata": {
    "ExecutionIndicator": {
     "show": true
    },
    "execution": {
     "iopub.execute_input": "2025-01-24T09:47:14.068557Z",
     "iopub.status.busy": "2025-01-24T09:47:14.068068Z",
     "iopub.status.idle": "2025-01-24T09:47:14.218721Z",
     "shell.execute_reply": "2025-01-24T09:47:14.217516Z",
     "shell.execute_reply.started": "2025-01-24T09:47:14.068521Z"
    },
    "tags": []
   },
   "outputs": [
    {
     "name": "stdout",
     "output_type": "stream",
     "text": [
      "cifar-10\n"
     ]
    }
   ],
   "source": [
    "!ls checkpoints/"
   ]
  }
 ],
 "metadata": {
  "kernelspec": {
   "display_name": "Python 3 (ipykernel)",
   "language": "python",
   "name": "python3"
  },
  "language_info": {
   "codemirror_mode": {
    "name": "ipython",
    "version": 3
   },
   "file_extension": ".py",
   "mimetype": "text/x-python",
   "name": "python",
   "nbconvert_exporter": "python",
   "pygments_lexer": "ipython3",
   "version": "3.10.14"
  }
 },
 "nbformat": 4,
 "nbformat_minor": 4
}
