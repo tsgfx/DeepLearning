{
 "cells": [
  {
   "cell_type": "markdown",
   "metadata": {},
   "source": [
    "<font color=\"red\">注</font>: 使用 tensorboard 可视化需要安装 tensorflow (TensorBoard依赖于tensorflow库，可以任意安装tensorflow的gpu/cpu版本)\n",
    "\n",
    "```shell\n",
    "pip install tensorflow-cpu\n",
    "```"
   ]
  },
  {
   "cell_type": "code",
   "metadata": {
    "execution": {
     "iopub.execute_input": "2025-01-25T01:55:39.073085Z",
     "iopub.status.busy": "2025-01-25T01:55:39.072503Z",
     "iopub.status.idle": "2025-01-25T01:55:39.082442Z",
     "shell.execute_reply": "2025-01-25T01:55:39.081692Z",
     "shell.execute_reply.started": "2025-01-25T01:55:39.073045Z"
    },
    "tags": [],
    "ExecuteTime": {
     "end_time": "2025-02-05T04:56:00.427103Z",
     "start_time": "2025-02-05T04:55:56.330691Z"
    }
   },
   "source": [
    "import matplotlib as mpl\n",
    "import matplotlib.pyplot as plt\n",
    "%matplotlib inline\n",
    "import numpy as np\n",
    "import sklearn\n",
    "import pandas as pd\n",
    "import os\n",
    "import sys\n",
    "import time\n",
    "from tqdm.auto import tqdm\n",
    "import torch\n",
    "import torch.nn as nn\n",
    "import torch.nn.functional as F\n",
    "\n",
    "print(sys.version_info)\n",
    "for module in mpl, np, pd, sklearn, torch:\n",
    "    print(module.__name__, module.__version__)\n",
    "    \n",
    "device = torch.device(\"cuda:0\") if torch.cuda.is_available() else torch.device(\"cpu\")\n",
    "print(device)\n",
    "\n",
    "seed = 42\n"
   ],
   "outputs": [
    {
     "name": "stdout",
     "output_type": "stream",
     "text": [
      "sys.version_info(major=3, minor=12, micro=3, releaselevel='final', serial=0)\n",
      "matplotlib 3.10.0\n",
      "numpy 2.2.2\n",
      "pandas 2.2.3\n",
      "sklearn 1.6.1\n",
      "torch 2.6.0+cpu\n",
      "cpu\n"
     ]
    }
   ],
   "execution_count": 1
  },
  {
   "cell_type": "markdown",
   "metadata": {},
   "source": [
    "## 数据准备\n",
    "\n",
    "https://www.kaggle.com/competitions/cifar-10/data\n",
    "\n",
    "```shell\n",
    "$ tree -L 1 cifar-10                                    \n",
    "cifar-10\n",
    "├── sampleSubmission.csv\n",
    "├── test\n",
    "├── train\n",
    "└── trainLabels.csv\n",
    "```"
   ]
  },
  {
   "cell_type": "code",
   "execution_count": 2,
   "metadata": {
    "ExecutionIndicator": {
     "show": false
    },
    "execution": {
     "iopub.execute_input": "2025-01-25T01:47:20.792311Z",
     "iopub.status.busy": "2025-01-25T01:47:20.791417Z",
     "iopub.status.idle": "2025-01-25T01:47:20.796821Z",
     "shell.execute_reply": "2025-01-25T01:47:20.795642Z",
     "shell.execute_reply.started": "2025-01-25T01:47:20.792258Z"
    },
    "tags": []
   },
   "outputs": [],
   "source": [
    "# # 解压训练集\n",
    "# %pip install py7zr\n",
    "# import py7zr\n",
    "# a = py7zr.SevenZipFile(r'../input/cifar-10/train.7z','r')\n",
    "# a.extractall(path=r'./')\n",
    "# a.close()"
   ]
  },
  {
   "cell_type": "code",
   "execution_count": 3,
   "metadata": {
    "ExecutionIndicator": {
     "show": false
    },
    "execution": {
     "iopub.execute_input": "2025-01-25T01:47:20.798365Z",
     "iopub.status.busy": "2025-01-25T01:47:20.797881Z",
     "iopub.status.idle": "2025-01-25T01:47:20.931820Z",
     "shell.execute_reply": "2025-01-25T01:47:20.930695Z",
     "shell.execute_reply.started": "2025-01-25T01:47:20.798321Z"
    },
    "tags": []
   },
   "outputs": [
    {
     "name": "stdout",
     "output_type": "stream",
     "text": [
      "6_05_10_monkeys_model_2_resnet50_finetune_2_aliyun.ipynb  runs\n",
      "6_06_cifar10_model_2-aliyun.ipynb\t\t\t  sampleSubmission.csv\n",
      "6_07_new-vgg-aliyun.ipynb\t\t\t\t  submission.csv\n",
      "6_08_new_inception_net2-aliyun.ipynb\t\t\t  test\n",
      "6_09_new_resnet-aliyun.ipynb\t\t\t\t  test.7z\n",
      "checkpoints\t\t\t\t\t\t  train.7z\n",
      "competitions\t\t\t\t\t\t  trainLabels.csv\n",
      "kaggle.json\n"
     ]
    }
   ],
   "source": [
    "# 我们不运行test数据集，太多图片\n",
    "# !ls ."
   ]
  },
  {
   "cell_type": "code",
   "execution_count": 4,
   "metadata": {
    "ExecutionIndicator": {
     "show": false
    },
    "execution": {
     "iopub.execute_input": "2025-01-25T01:47:20.933748Z",
     "iopub.status.busy": "2025-01-25T01:47:20.933080Z",
     "iopub.status.idle": "2025-01-25T01:47:21.059912Z",
     "shell.execute_reply": "2025-01-25T01:47:21.058857Z",
     "shell.execute_reply.started": "2025-01-25T01:47:20.933715Z"
    },
    "tags": []
   },
   "outputs": [
    {
     "name": "stdout",
     "output_type": "stream",
     "text": [
      "mkdir: 无法创建目录 \"test\": 文件已存在\n"
     ]
    }
   ],
   "source": [
    "# !mkdir test"
   ]
  },
  {
   "cell_type": "code",
   "execution_count": 25,
   "metadata": {
    "ExecuteTime": {
     "end_time": "2024-04-29T02:50:17.556866200Z",
     "start_time": "2024-04-29T02:50:13.332056200Z"
    },
    "ExecutionIndicator": {
     "show": true
    },
    "execution": {
     "iopub.execute_input": "2025-01-25T01:55:52.363469Z",
     "iopub.status.busy": "2025-01-25T01:55:52.362793Z",
     "iopub.status.idle": "2025-01-25T01:55:54.775081Z",
     "shell.execute_reply": "2025-01-25T01:55:54.774307Z",
     "shell.execute_reply.started": "2025-01-25T01:55:52.363428Z"
    },
    "tags": []
   },
   "outputs": [
    {
     "name": "stdout",
     "output_type": "stream",
     "text": [
      "[(PosixPath('competitions/cifar-10/train/1.png'), 'frog'),\n",
      " (PosixPath('competitions/cifar-10/train/2.png'), 'truck'),\n",
      " (PosixPath('competitions/cifar-10/train/3.png'), 'truck'),\n",
      " (PosixPath('competitions/cifar-10/train/4.png'), 'deer'),\n",
      " (PosixPath('competitions/cifar-10/train/5.png'), 'automobile')]\n",
      "[(PosixPath('competitions/cifar-10/test/1.png'), 'cat'),\n",
      " (PosixPath('competitions/cifar-10/test/2.png'), 'cat'),\n",
      " (PosixPath('competitions/cifar-10/test/3.png'), 'cat'),\n",
      " (PosixPath('competitions/cifar-10/test/4.png'), 'cat'),\n",
      " (PosixPath('competitions/cifar-10/test/5.png'), 'cat')]\n",
      "50000 300000\n"
     ]
    }
   ],
   "source": [
    "# 导入所需模块\n",
    "from pathlib import Path\n",
    "import pprint  # 用于格式化打印数据\n",
    "\n",
    "# 设置数据目录\n",
    "DATA_DIR = Path(\".\")  # 当前目录\n",
    "DATA_DIR1 = Path(\"competitions/cifar-10/\")  # 数据集所在目录\n",
    "\n",
    "# 训练标签文件路径\n",
    "train_lables_file = DATA_DIR / \"trainLabels.csv\"  # 训练集标签文件\n",
    "test_csv_file = DATA_DIR / \"sampleSubmission.csv\"  # 测试集模板 CSV 文件\n",
    "\n",
    "# 图像数据文件夹路径\n",
    "train_folder = DATA_DIR1 / \"train\"  # 训练集图片所在文件夹\n",
    "test_folder = DATA_DIR1 / \"test\"  # 测试集图片所在文件夹\n",
    "\n",
    "# CIFAR-10 数据集中所有类别\n",
    "class_names = [\n",
    "    'airplane',   # 飞机\n",
    "    'automobile', # 汽车\n",
    "    'bird',       # 鸟\n",
    "    'cat',        # 猫\n",
    "    'deer',       # 鹿\n",
    "    'dog',        # 狗\n",
    "    'frog',       # 青蛙\n",
    "    'horse',      # 马\n",
    "    'ship',       # 船\n",
    "    'truck',      # 卡车\n",
    "]\n",
    "\n",
    "def parse_csv_file(filepath, folder):\n",
    "    \"\"\"\n",
    "    将 CSV 文件解析为 (图片路径, 标签) 格式的列表\n",
    "\n",
    "    参数:\n",
    "        filepath: Path 对象, CSV 文件路径\n",
    "        folder: Path 对象, 图片所在的文件夹路径\n",
    "\n",
    "    返回:\n",
    "        list: 包含 (图片路径, 标签) 的元组列表\n",
    "    \"\"\"\n",
    "    results = []\n",
    "    # 打开 CSV 文件读取内容\n",
    "    with open(filepath, 'r') as f:\n",
    "        # 读取所有行，并跳过第一行（因为第一行是表头）\n",
    "        lines = f.readlines()[1:] \n",
    "    for line in lines:  # 遍历每一行\n",
    "        # 提取图像 ID 和标签（按逗号分隔）\n",
    "        image_id, label_str = line.strip('\\n').split(',')\n",
    "        # 构建图像的完整路径\n",
    "        image_full_path = folder / f\"{image_id}.png\"\n",
    "        # 将路径和标签以元组形式保存到列表中\n",
    "        results.append((image_full_path, label_str))\n",
    "    return results\n",
    "\n",
    "# 解析训练集和测试集 CSV 文件，得到图片路径与标签的对应信息\n",
    "train_labels_info = parse_csv_file(train_lables_file, train_folder)\n",
    "test_csv_info = parse_csv_file(test_csv_file, test_folder)\n",
    "\n",
    "# 打印部分数据用于验证\n",
    "pprint.pprint(train_labels_info[0:5])  # 打印前 5 条训练集信息\n",
    "pprint.pprint(test_csv_info[0:5])     # 打印前 5 条测试集信息\n",
    "print(len(train_labels_info), len(test_csv_info))  # 打印训练集和测试集的总数据量"
   ]
  },
  {
   "cell_type": "code",
   "execution_count": 26,
   "metadata": {
    "ExecuteTime": {
     "end_time": "2024-04-29T02:50:22.471835700Z",
     "start_time": "2024-04-29T02:50:22.346907200Z"
    },
    "ExecutionIndicator": {
     "show": true
    },
    "execution": {
     "iopub.execute_input": "2025-01-25T02:03:53.614892Z",
     "iopub.status.busy": "2025-01-25T02:03:53.614216Z",
     "iopub.status.idle": "2025-01-25T02:03:53.707032Z",
     "shell.execute_reply": "2025-01-25T02:03:53.706276Z",
     "shell.execute_reply.started": "2025-01-25T02:03:53.614853Z"
    },
    "tags": []
   },
   "outputs": [
    {
     "name": "stdout",
     "output_type": "stream",
     "text": [
      "                            filepath       class\n",
      "0  competitions/cifar-10/train/1.png        frog\n",
      "1  competitions/cifar-10/train/2.png       truck\n",
      "2  competitions/cifar-10/train/3.png       truck\n",
      "3  competitions/cifar-10/train/4.png        deer\n",
      "4  competitions/cifar-10/train/5.png  automobile\n",
      "                                filepath       class\n",
      "0  competitions/cifar-10/train/45001.png       horse\n",
      "1  competitions/cifar-10/train/45002.png  automobile\n",
      "2  competitions/cifar-10/train/45003.png        deer\n",
      "3  competitions/cifar-10/train/45004.png  automobile\n",
      "4  competitions/cifar-10/train/45005.png    airplane\n",
      "                           filepath class\n",
      "0  competitions/cifar-10/test/1.png   cat\n",
      "1  competitions/cifar-10/test/2.png   cat\n",
      "2  competitions/cifar-10/test/3.png   cat\n",
      "3  competitions/cifar-10/test/4.png   cat\n",
      "4  competitions/cifar-10/test/5.png   cat\n"
     ]
    }
   ],
   "source": [
    "# train_labels_info 是训练集图片路径和标签的元组列表\n",
    "# train_df 包含前 45000 条训练数据\n",
    "train_df = pd.DataFrame(train_labels_info[0:45000])\n",
    "\n",
    "# valid_df 包含剩余的训练数据（用作验证集）\n",
    "valid_df = pd.DataFrame(train_labels_info[45000:])\n",
    "\n",
    "# test_df 包含测试集的数据\n",
    "test_df = pd.DataFrame(test_csv_info)\n",
    "\n",
    "# 为 DataFrame 添加列名\n",
    "train_df.columns = ['filepath', 'class']  # 训练集 DataFrame 包含 'filepath' 和 'class' 两列\n",
    "valid_df.columns = ['filepath', 'class']  # 验证集 DataFrame 包含 'filepath' 和 'class' 两列\n",
    "test_df.columns = ['filepath', 'class']   # 测试集 DataFrame 包含 'filepath' 和 'class' 两列\n",
    "\n",
    "# 打印训练集的前 5 行数据\n",
    "print(train_df.head())\n",
    "\n",
    "# 打印验证集的前 5 行数据\n",
    "print(valid_df.head())\n",
    "\n",
    "# 打印测试集的前 5 行数据\n",
    "print(test_df.head())"
   ]
  },
  {
   "cell_type": "code",
   "execution_count": 32,
   "metadata": {
    "ExecuteTime": {
     "end_time": "2024-04-29T02:50:31.586523100Z",
     "start_time": "2024-04-29T02:50:28.504142500Z"
    },
    "ExecutionIndicator": {
     "show": true
    },
    "execution": {
     "iopub.execute_input": "2025-01-25T02:10:49.652064Z",
     "iopub.status.busy": "2025-01-25T02:10:49.651520Z",
     "iopub.status.idle": "2025-01-25T02:10:49.663461Z",
     "shell.execute_reply": "2025-01-25T02:10:49.662511Z",
     "shell.execute_reply.started": "2025-01-25T02:10:49.652026Z"
    },
    "tags": []
   },
   "outputs": [],
   "source": [
    "from PIL import Image  # 用于加载和处理图像\n",
    "from torch.utils.data import Dataset, DataLoader  # PyTorch 数据集和数据加载器\n",
    "from torchvision import transforms  # PyTorch 提供的数据增强和转换工具\n",
    "\n",
    "# 自定义 Cifar10 数据集类\n",
    "class Cifar10Dataset(Dataset):\n",
    "    # 数据模式到数据集 DataFrame 的映射\n",
    "    df_map = {\n",
    "        \"train\": train_df,  # 训练集\n",
    "        \"eval\": valid_df,   # 验证集\n",
    "        \"test\": test_df     # 测试集\n",
    "    }\n",
    "    # 标签到索引的映射，例如 'cat' -> 3\n",
    "    label_to_idx = {label: idx for idx, label in enumerate(class_names)}\n",
    "    # 索引到标签的映射，例如 3 -> 'cat'\n",
    "    idx_to_label = {idx: label for idx, label in enumerate(class_names)}\n",
    "    \n",
    "    def __init__(self, mode, transform=None):\n",
    "        \"\"\"\n",
    "        初始化数据集\n",
    "        :param mode: 模式（train/eval/test）\n",
    "        :param transform: 图像预处理和数据增强操作\n",
    "        \"\"\"\n",
    "        # 获取对应模式的 DataFrame\n",
    "        self.df = self.df_map.get(mode, None)\n",
    "        if self.df is None:\n",
    "            raise ValueError(\"mode should be one of train, eval, test, but got {}\".format(mode))\n",
    "\n",
    "        self.transform = transform  # 保存预处理操作\n",
    "        \n",
    "    def __getitem__(self, index):\n",
    "        \"\"\"\n",
    "        获取数据集中的单个样本\n",
    "        :param index: 数据索引\n",
    "        :return: 预处理后的图像和对应标签\n",
    "        \"\"\"\n",
    "        img_path, label = self.df.iloc[index]  # 获取图像路径和标签\n",
    "        img = Image.open(img_path).convert('RGB')  # 打开图像并转换为 RGB 模式\n",
    "        img = self.transform(img)  # 对图像应用预处理和数据增强\n",
    "        label = self.label_to_idx[label]  # 将标签转换为索引\n",
    "        return img, label\n",
    "    \n",
    "    def __len__(self):\n",
    "        \"\"\"\n",
    "        返回数据集的大小\n",
    "        \"\"\"\n",
    "        return self.df.shape[0]\n",
    "\n",
    "# 图像大小\n",
    "IMAGE_SIZE = 32\n",
    "# 图像归一化的均值和标准差（根据 CIFAR-10 数据集计算）\n",
    "mean, std = [0.4914, 0.4822, 0.4465], [0.247, 0.243, 0.261]\n",
    "\n",
    "# 训练集数据增强和预处理\n",
    "transforms_train = transforms.Compose([\n",
    "    transforms.Resize((IMAGE_SIZE, IMAGE_SIZE)),  # 调整图像大小\n",
    "    transforms.RandomRotation(40),  # 随机旋转图像\n",
    "    transforms.RandomHorizontalFlip(),  # 随机水平翻转\n",
    "    transforms.ToTensor(),  # 转换为张量 (Channel, Height, Width)\n",
    "    transforms.Normalize(mean, std)  # 归一化\n",
    "])\n",
    "\n",
    "# 验证集和测试集的预处理\n",
    "transforms_eval = transforms.Compose([\n",
    "    transforms.Resize((IMAGE_SIZE, IMAGE_SIZE)),  # 调整图像大小\n",
    "    transforms.ToTensor(),  # 转换为张量\n",
    "    transforms.Normalize(mean, std)  # 归一化\n",
    "])\n",
    "\n",
    "# 创建训练集和验证集的 Dataset 对象\n",
    "train_ds = Cifar10Dataset(\"train\", transforms_train)  # 训练集\n",
    "eval_ds = Cifar10Dataset(\"eval\", transforms_eval)  # 验证集"
   ]
  },
  {
   "cell_type": "code",
   "execution_count": 33,
   "metadata": {
    "ExecuteTime": {
     "end_time": "2024-04-29T02:51:31.864180800Z",
     "start_time": "2024-04-29T02:51:31.841167400Z"
    },
    "execution": {
     "iopub.execute_input": "2025-01-25T02:10:57.921993Z",
     "iopub.status.busy": "2025-01-25T02:10:57.921324Z",
     "iopub.status.idle": "2025-01-25T02:10:57.926648Z",
     "shell.execute_reply": "2025-01-25T02:10:57.925885Z",
     "shell.execute_reply.started": "2025-01-25T02:10:57.921954Z"
    },
    "tags": []
   },
   "outputs": [],
   "source": [
    "batch_size = 64\n",
    "train_dl = DataLoader(train_ds, batch_size=batch_size, shuffle=True, num_workers=4)   \n",
    "eval_dl = DataLoader(eval_ds, batch_size=batch_size, shuffle=False, num_workers=4)"
   ]
  },
  {
   "cell_type": "code",
   "execution_count": 31,
   "metadata": {
    "ExecuteTime": {
     "end_time": "2023-12-05T09:51:19.396136500Z",
     "start_time": "2023-12-05T09:46:43.935044500Z"
    },
    "ExecutionIndicator": {
     "show": false
    },
    "execution": {
     "iopub.execute_input": "2025-01-25T02:09:41.074100Z",
     "iopub.status.busy": "2025-01-25T02:09:41.073430Z",
     "iopub.status.idle": "2025-01-25T02:10:11.426474Z",
     "shell.execute_reply": "2025-01-25T02:10:11.425715Z",
     "shell.execute_reply.started": "2025-01-25T02:09:41.074064Z"
    },
    "tags": []
   },
   "outputs": [
    {
     "name": "stdout",
     "output_type": "stream",
     "text": [
      "(tensor([0.4368, 0.4267, 0.3947]), tensor([0.2465, 0.2419, 0.2359]))\n"
     ]
    }
   ],
   "source": [
    "# # 遍历train_ds得到每张图片，计算每个通道的均值和方差\n",
    "# # 这里不需要每次都执行，只需要执行一次就可以了，所以注释掉\n",
    "# def cal_mean_std(ds):\n",
    "#     mean = 0.\n",
    "#     std = 0.\n",
    "#     for img, _ in ds:\n",
    "#         mean += img.mean(dim=(1, 2))\n",
    "#         std += img.std(dim=(1, 2))\n",
    "#     mean /= len(ds)\n",
    "#     std /= len(ds)\n",
    "#     return mean, std\n",
    "\n",
    "# # 经过 normalize 后 均值为0，方差为1\n",
    "# print(cal_mean_std(train_ds))\n",
    "# # (tensor([0.4368, 0.4267, 0.3947]), tensor([0.2465, 0.2419, 0.2359]))"
   ]
  },
  {
   "cell_type": "markdown",
   "metadata": {},
   "source": [
    "## 定义模型"
   ]
  },
  {
   "cell_type": "code",
   "execution_count": 34,
   "metadata": {
    "ExecuteTime": {
     "end_time": "2024-04-29T02:52:55.126913100Z",
     "start_time": "2024-04-29T02:52:55.080936200Z"
    },
    "ExecutionIndicator": {
     "show": false
    },
    "execution": {
     "iopub.execute_input": "2025-01-25T02:12:01.353833Z",
     "iopub.status.busy": "2025-01-25T02:12:01.353223Z",
     "iopub.status.idle": "2025-01-25T02:12:01.369300Z",
     "shell.execute_reply": "2025-01-25T02:12:01.368479Z",
     "shell.execute_reply.started": "2025-01-25T02:12:01.353794Z"
    },
    "tags": []
   },
   "outputs": [
    {
     "name": "stdout",
     "output_type": "stream",
     "text": [
      "             model.0.weight             paramerters num: 864\n",
      "              model.0.bias              paramerters num: 32\n",
      "             model.2.weight             paramerters num: 9216\n",
      "              model.2.bias              paramerters num: 32\n",
      "             model.5.weight             paramerters num: 9216\n",
      "              model.5.bias              paramerters num: 32\n",
      "             model.7.weight             paramerters num: 9216\n",
      "              model.7.bias              paramerters num: 32\n",
      "            model.10.weight             paramerters num: 9216\n",
      "             model.10.bias              paramerters num: 32\n",
      "            model.12.weight             paramerters num: 9216\n",
      "             model.12.bias              paramerters num: 32\n",
      "            model.16.weight             paramerters num: 5120\n",
      "             model.16.bias              paramerters num: 10\n"
     ]
    }
   ],
   "source": [
    "# 定义 VGG 网络模型，继承自 nn.Module\n",
    "class VGG(nn.Module):\n",
    "    def __init__(self, num_classes):\n",
    "        \"\"\"\n",
    "        初始化 VGG 模型\n",
    "        :param num_classes: 输出类别数量\n",
    "        \"\"\"\n",
    "        super().__init__()\n",
    "        # 使用 nn.Sequential 定义网络结构\n",
    "        self.model = nn.Sequential(\n",
    "            # （32, 32, 32, 32）-> (32, 32, 16, 16)\n",
    "            nn.Conv2d(in_channels=3, out_channels=32, kernel_size=3, padding=\"same\"),  # 32 * 3 * 3 * 3 = 864\n",
    "            nn.ReLU(),  # 激活函数\n",
    "            nn.Conv2d(in_channels=32, out_channels=32, kernel_size=3, padding=\"same\"),  # 32 * 32 * 3 * 3 = 9216\n",
    "            nn.ReLU(),\n",
    "            nn.MaxPool2d(kernel_size=2),  # 最大池化，输出特征图大小减半\n",
    "\n",
    "            # （32, 32, 16, 16）-> (32, 32, 8, 8)\n",
    "            nn.Conv2d(in_channels=32, out_channels=32, kernel_size=3, padding=\"same\"),  # 32 * 32 * 3 * 3 = 9216\n",
    "            nn.ReLU(),\n",
    "            nn.Conv2d(in_channels=32, out_channels=32, kernel_size=3, padding=\"same\"),  # 32 * 32 * 3 * 3 = 9216\n",
    "            nn.ReLU(),\n",
    "            nn.MaxPool2d(kernel_size=2),  # 最大池化，输出特征图大小减半\n",
    "\n",
    "            # （32, 32, 8, 8）-> (32, 32, 4, 4)\n",
    "            nn.Conv2d(in_channels=32, out_channels=32, kernel_size=3, padding=\"same\"),  # 32 * 32 * 3 * 3 = 9216\n",
    "            nn.ReLU(),\n",
    "            nn.Conv2d(in_channels=32, out_channels=32, kernel_size=3, padding=\"same\"),  # 32 * 32 * 3 * 3 = 9216\n",
    "            nn.ReLU(),\n",
    "            nn.MaxPool2d(kernel_size=2),  # 最大池化，输出特征图大小减半\n",
    "            \n",
    "            nn.Flatten(),  # 将多维张量展平为 1 维 32*4*4 = 512\n",
    "            nn.Linear(512, num_classes),  # 全连接层，将特征映射到类别数量 512 * 10 = 5120\n",
    "        )\n",
    "        self.init_weights()  # 初始化权重\n",
    "\n",
    "    def init_weights(self):\n",
    "        \"\"\"\n",
    "        初始化权重\n",
    "        - 卷积层和全连接层使用 Xavier 均匀分布初始化权重\n",
    "        - 偏置使用 0 初始化\n",
    "        \"\"\"\n",
    "        for m in self.modules():\n",
    "            if isinstance(m, (nn.Linear, nn.Conv2d)):  # 检测模块是否是 Linear 或 Conv2d\n",
    "                nn.init.xavier_uniform_(m.weight)  # 使用 Xavier 均匀分布初始化\n",
    "                nn.init.zeros_(m.bias)  # 偏置初始化为 0\n",
    "\n",
    "    def forward(self, x):\n",
    "        \"\"\"\n",
    "        前向传播\n",
    "        :param x: 输入张量\n",
    "        :return: 输出张量\n",
    "        \"\"\"\n",
    "        return self.model(x)\n",
    "\n",
    "# 打印每个参数的名称和数量\n",
    "for key, value in VGG(len(class_names)).named_parameters():\n",
    "    print(f\"{key:^40}paramerters num: {np.prod(value.shape)}\")"
   ]
  },
  {
   "cell_type": "markdown",
   "metadata": {},
   "source": [
    "## 训练\n",
    "\n",
    "pytorch的训练需要自行实现，包括\n",
    "1. 定义损失函数\n",
    "2. 定义优化器\n",
    "3. 定义训练步\n",
    "4. 训练"
   ]
  },
  {
   "cell_type": "code",
   "execution_count": 36,
   "metadata": {
    "ExecuteTime": {
     "end_time": "2024-04-29T02:53:41.778122600Z",
     "start_time": "2024-04-29T02:53:41.736145400Z"
    },
    "collapsed": false,
    "execution": {
     "iopub.execute_input": "2025-01-25T02:16:03.683993Z",
     "iopub.status.busy": "2025-01-25T02:16:03.683134Z",
     "iopub.status.idle": "2025-01-25T02:16:03.691983Z",
     "shell.execute_reply": "2025-01-25T02:16:03.691226Z",
     "shell.execute_reply.started": "2025-01-25T02:16:03.683952Z"
    },
    "jupyter": {
     "outputs_hidden": false
    },
    "tags": []
   },
   "outputs": [
    {
     "name": "stdout",
     "output_type": "stream",
     "text": [
      "Total trainable parameters: 52266\n"
     ]
    }
   ],
   "source": [
    "#模型总参数量\n",
    "total_params = sum(p.numel() for p in VGG(len(class_names)).parameters() if p.requires_grad)\n",
    "print(f\"Total trainable parameters: {total_params}\")"
   ]
  },
  {
   "cell_type": "code",
   "execution_count": 14,
   "metadata": {
    "ExecuteTime": {
     "end_time": "2023-12-05T09:51:19.650361500Z",
     "start_time": "2023-12-05T09:51:19.432189700Z"
    },
    "ExecutionIndicator": {
     "show": false
    },
    "execution": {
     "iopub.execute_input": "2025-01-25T01:47:26.935166Z",
     "iopub.status.busy": "2025-01-25T01:47:26.934828Z",
     "iopub.status.idle": "2025-01-25T01:47:27.048492Z",
     "shell.execute_reply": "2025-01-25T01:47:27.047693Z",
     "shell.execute_reply.started": "2025-01-25T01:47:26.935142Z"
    },
    "tags": []
   },
   "outputs": [],
   "source": [
    "from sklearn.metrics import accuracy_score  # 导入计算准确率的工具\n",
    "\n",
    "# 定义模型评估函数，使用 no_grad 装饰器来禁用梯度计算\n",
    "@torch.no_grad()  \n",
    "def evaluating(model, dataloader, loss_fct):\n",
    "    \"\"\"\n",
    "    用于评估模型在验证集或测试集上的表现\n",
    "    :param model: 训练好的模型\n",
    "    :param dataloader: 验证集或测试集的数据加载器\n",
    "    :param loss_fct: 损失函数，用于计算每一批次的损失\n",
    "    :return: 返回损失的平均值和准确率\n",
    "    \"\"\"\n",
    "    loss_list = []  # 用于存储每一批次的损失\n",
    "    pred_list = []  # 用于存储所有的预测值\n",
    "    label_list = []  # 用于存储所有的标签\n",
    "\n",
    "    # 遍历整个数据集\n",
    "    for datas, labels in dataloader:\n",
    "        datas = datas.to(device)  # 将数据移到指定的设备（例如GPU）\n",
    "        labels = labels.to(device)  # 将标签移到指定的设备\n",
    "        \n",
    "        # 前向传播计算预测结果\n",
    "        logits = model(datas)  # 获取模型的输出 logits\n",
    "        loss = loss_fct(logits, labels)  # 计算损失\n",
    "        loss_list.append(loss.item())  # 保存当前批次的损失值\n",
    "        \n",
    "        # 获取预测的类别\n",
    "        preds = logits.argmax(axis=-1)  # 获取预测结果，取 logits 中最大值的索引\n",
    "        pred_list.extend(preds.cpu().numpy().tolist())  # 将预测结果从 GPU 移到 CPU，再转换为 numpy 数组，最后添加到预测列表\n",
    "        label_list.extend(labels.cpu().numpy().tolist())  # 同理，将标签从 GPU 移到 CPU，再转换为 numpy 数组，添加到标签列表\n",
    "        \n",
    "    # 计算整个数据集的准确率\n",
    "    acc = accuracy_score(label_list, pred_list)  # 计算标签与预测结果之间的准确率\n",
    "    \n",
    "    # 返回平均损失和准确率\n",
    "    return np.mean(loss_list), acc"
   ]
  },
  {
   "cell_type": "markdown",
   "metadata": {},
   "source": [
    "### TensorBoard 可视化\n",
    "\n",
    "\n",
    "训练过程中可以使用如下命令启动tensorboard服务。\n",
    "\n",
    "```shell\n",
    "tensorboard \\\n",
    "    --logdir=runs \\     # log 存放路径\n",
    "    --host 0.0.0.0 \\    # ip\n",
    "    --port 8848         # 端口\n",
    "```"
   ]
  },
  {
   "cell_type": "code",
   "execution_count": 15,
   "metadata": {
    "ExecuteTime": {
     "end_time": "2023-12-05T09:51:26.334347900Z",
     "start_time": "2023-12-05T09:51:19.656342Z"
    },
    "execution": {
     "iopub.execute_input": "2025-01-25T01:47:27.050047Z",
     "iopub.status.busy": "2025-01-25T01:47:27.049505Z",
     "iopub.status.idle": "2025-01-25T01:47:27.277733Z",
     "shell.execute_reply": "2025-01-25T01:47:27.276849Z",
     "shell.execute_reply.started": "2025-01-25T01:47:27.050016Z"
    }
   },
   "outputs": [],
   "source": [
    "from torch.utils.tensorboard import SummaryWriter\n",
    "\n",
    "\n",
    "class TensorBoardCallback:\n",
    "    def __init__(self, log_dir, flush_secs=10):\n",
    "        \"\"\"\n",
    "        Args:\n",
    "            log_dir (str): dir to write log.\n",
    "            flush_secs (int, optional): write to dsk each flush_secs seconds. Defaults to 10.\n",
    "        \"\"\"\n",
    "        self.writer = SummaryWriter(log_dir=log_dir, flush_secs=flush_secs)\n",
    "\n",
    "    def draw_model(self, model, input_shape):\n",
    "        self.writer.add_graph(model, input_to_model=torch.randn(input_shape))\n",
    "        \n",
    "    def add_loss_scalars(self, step, loss, val_loss):\n",
    "        self.writer.add_scalars(\n",
    "            main_tag=\"training/loss\", \n",
    "            tag_scalar_dict={\"loss\": loss, \"val_loss\": val_loss},\n",
    "            global_step=step,\n",
    "            )\n",
    "        \n",
    "    def add_acc_scalars(self, step, acc, val_acc):\n",
    "        self.writer.add_scalars(\n",
    "            main_tag=\"training/accuracy\",\n",
    "            tag_scalar_dict={\"accuracy\": acc, \"val_accuracy\": val_acc},\n",
    "            global_step=step,\n",
    "        )\n",
    "        \n",
    "    def add_lr_scalars(self, step, learning_rate):\n",
    "        self.writer.add_scalars(\n",
    "            main_tag=\"training/learning_rate\",\n",
    "            tag_scalar_dict={\"learning_rate\": learning_rate},\n",
    "            global_step=step,\n",
    "            \n",
    "        )\n",
    "    \n",
    "    def __call__(self, step, **kwargs):\n",
    "        # add loss\n",
    "        loss = kwargs.pop(\"loss\", None)\n",
    "        val_loss = kwargs.pop(\"val_loss\", None)\n",
    "        if loss is not None and val_loss is not None:\n",
    "            self.add_loss_scalars(step, loss, val_loss)\n",
    "        # add acc\n",
    "        acc = kwargs.pop(\"acc\", None)\n",
    "        val_acc = kwargs.pop(\"val_acc\", None)\n",
    "        if acc is not None and val_acc is not None:\n",
    "            self.add_acc_scalars(step, acc, val_acc)\n",
    "        # add lr\n",
    "        learning_rate = kwargs.pop(\"lr\", None)\n",
    "        if learning_rate is not None:\n",
    "            self.add_lr_scalars(step, learning_rate)\n"
   ]
  },
  {
   "cell_type": "markdown",
   "metadata": {},
   "source": [
    "### Save Best\n"
   ]
  },
  {
   "cell_type": "code",
   "execution_count": 16,
   "metadata": {
    "ExecuteTime": {
     "end_time": "2023-12-05T09:51:26.347424300Z",
     "start_time": "2023-12-05T09:51:26.337347300Z"
    },
    "execution": {
     "iopub.execute_input": "2025-01-25T01:47:27.279586Z",
     "iopub.status.busy": "2025-01-25T01:47:27.278659Z",
     "iopub.status.idle": "2025-01-25T01:47:27.285817Z",
     "shell.execute_reply": "2025-01-25T01:47:27.285123Z",
     "shell.execute_reply.started": "2025-01-25T01:47:27.279552Z"
    }
   },
   "outputs": [],
   "source": [
    "class SaveCheckpointsCallback:\n",
    "    def __init__(self, save_dir, save_step=5000, save_best_only=True):\n",
    "        \"\"\"\n",
    "        Save checkpoints each save_epoch epoch. \n",
    "        We save checkpoint by epoch in this implementation.\n",
    "        Usually, training scripts with pytorch evaluating model and save checkpoint by step.\n",
    "\n",
    "        Args:\n",
    "            save_dir (str): dir to save checkpoint\n",
    "            save_epoch (int, optional): the frequency to save checkpoint. Defaults to 1.\n",
    "            save_best_only (bool, optional): If True, only save the best model or save each model at every epoch.\n",
    "        \"\"\"\n",
    "        self.save_dir = save_dir\n",
    "        self.save_step = save_step\n",
    "        self.save_best_only = save_best_only\n",
    "        self.best_metrics = -1\n",
    "        \n",
    "        # mkdir\n",
    "        if not os.path.exists(self.save_dir):\n",
    "            os.mkdir(self.save_dir)\n",
    "        \n",
    "    def __call__(self, step, state_dict, metric=None):\n",
    "        if step % self.save_step > 0:\n",
    "            return\n",
    "        \n",
    "        if self.save_best_only:\n",
    "            assert metric is not None\n",
    "            if metric >= self.best_metrics:\n",
    "                # save checkpoints\n",
    "                torch.save(state_dict, os.path.join(self.save_dir, \"best.ckpt\"))\n",
    "                # update best metrics\n",
    "                self.best_metrics = metric\n",
    "        else:\n",
    "            torch.save(state_dict, os.path.join(self.save_dir, f\"{step}.ckpt\"))\n",
    "\n"
   ]
  },
  {
   "cell_type": "markdown",
   "metadata": {},
   "source": [
    "### Early Stop"
   ]
  },
  {
   "cell_type": "code",
   "execution_count": 17,
   "metadata": {
    "ExecuteTime": {
     "end_time": "2023-12-05T09:51:26.371402100Z",
     "start_time": "2023-12-05T09:51:26.351411800Z"
    },
    "execution": {
     "iopub.execute_input": "2025-01-25T01:47:27.287210Z",
     "iopub.status.busy": "2025-01-25T01:47:27.286858Z",
     "iopub.status.idle": "2025-01-25T01:47:27.292551Z",
     "shell.execute_reply": "2025-01-25T01:47:27.291759Z",
     "shell.execute_reply.started": "2025-01-25T01:47:27.287183Z"
    }
   },
   "outputs": [],
   "source": [
    "class EarlyStopCallback:\n",
    "    def __init__(self, patience=5, min_delta=0.01):\n",
    "        \"\"\"\n",
    "\n",
    "        Args:\n",
    "            patience (int, optional): Number of epochs with no improvement after which training will be stopped.. Defaults to 5.\n",
    "            min_delta (float, optional): Minimum change in the monitored quantity to qualify as an improvement, i.e. an absolute \n",
    "                change of less than min_delta, will count as no improvement. Defaults to 0.01.\n",
    "        \"\"\"\n",
    "        self.patience = patience\n",
    "        self.min_delta = min_delta\n",
    "        self.best_metric = -1\n",
    "        self.counter = 0\n",
    "        \n",
    "    def __call__(self, metric):\n",
    "        if metric >= self.best_metric + self.min_delta:\n",
    "            # update best metric\n",
    "            self.best_metric = metric\n",
    "            # reset counter \n",
    "            self.counter = 0\n",
    "        else: \n",
    "            self.counter += 1\n",
    "            \n",
    "    @property\n",
    "    def early_stop(self):\n",
    "        return self.counter >= self.patience\n"
   ]
  },
  {
   "cell_type": "code",
   "execution_count": 37,
   "metadata": {
    "ExecuteTime": {
     "start_time": "2023-12-05T09:51:26.364406400Z"
    },
    "ExecutionIndicator": {
     "show": true
    },
    "execution": {
     "iopub.execute_input": "2025-01-25T02:17:32.274299Z",
     "iopub.status.busy": "2025-01-25T02:17:32.273764Z",
     "iopub.status.idle": "2025-01-25T02:19:24.906352Z",
     "shell.execute_reply": "2025-01-25T02:19:24.905071Z",
     "shell.execute_reply.started": "2025-01-25T02:17:32.274264Z"
    },
    "is_executing": true,
    "tags": []
   },
   "outputs": [
    {
     "name": "stderr",
     "output_type": "stream",
     "text": [
      "100%|██████████| 7040/7040 [01:52<00:00, 62.58it/s, epoch=9]\n"
     ]
    }
   ],
   "source": [
    "# 训练\n",
    "def training(\n",
    "    model, \n",
    "    train_loader, \n",
    "    val_loader, \n",
    "    epoch, \n",
    "    loss_fct, \n",
    "    optimizer, \n",
    "    tensorboard_callback=None,\n",
    "    save_ckpt_callback=None,\n",
    "    early_stop_callback=None,\n",
    "    eval_step=500,\n",
    "    ):\n",
    "    record_dict = {\n",
    "        \"train\": [],\n",
    "        \"val\": []\n",
    "    }\n",
    "    \n",
    "    global_step = 0\n",
    "    model.train()\n",
    "    with tqdm(total=epoch * len(train_loader)) as pbar:\n",
    "        for epoch_id in range(epoch):\n",
    "            # training\n",
    "            for datas, labels in train_loader:\n",
    "                datas = datas.to(device)\n",
    "                labels = labels.to(device)\n",
    "                # 梯度清空\n",
    "                optimizer.zero_grad()\n",
    "                # 模型前向计算\n",
    "                logits = model(datas)\n",
    "                # 计算损失\n",
    "                loss = loss_fct(logits, labels)\n",
    "                # 梯度回传\n",
    "                loss.backward()\n",
    "                # 调整优化器，包括学习率的变动等\n",
    "                optimizer.step()\n",
    "                preds = logits.argmax(axis=-1)\n",
    "            \n",
    "                acc = accuracy_score(labels.cpu().numpy(), preds.cpu().numpy())    \n",
    "                loss = loss.cpu().item()\n",
    "                # record\n",
    "                \n",
    "                record_dict[\"train\"].append({\n",
    "                    \"loss\": loss, \"acc\": acc, \"step\": global_step\n",
    "                })\n",
    "                \n",
    "                # evaluating\n",
    "                if global_step % eval_step == 0:\n",
    "                    model.eval()\n",
    "                    val_loss, val_acc = evaluating(model, val_loader, loss_fct)\n",
    "                    record_dict[\"val\"].append({\n",
    "                        \"loss\": val_loss, \"acc\": val_acc, \"step\": global_step\n",
    "                    })\n",
    "                    model.train()\n",
    "                    \n",
    "                    # 1. 使用 tensorboard 可视化\n",
    "                    if tensorboard_callback is not None:\n",
    "                        tensorboard_callback(\n",
    "                            global_step, \n",
    "                            loss=loss, val_loss=val_loss,\n",
    "                            acc=acc, val_acc=val_acc,\n",
    "                            lr=optimizer.param_groups[0][\"lr\"],\n",
    "                            )\n",
    "                \n",
    "                    # 2. 保存模型权重 save model checkpoint\n",
    "                    if save_ckpt_callback is not None:\n",
    "                        save_ckpt_callback(global_step, model.state_dict(), metric=val_acc)\n",
    "\n",
    "                    # 3. 早停 Early Stop\n",
    "                    if early_stop_callback is not None:\n",
    "                        early_stop_callback(val_acc)\n",
    "                        if early_stop_callback.early_stop:\n",
    "                            print(f\"Early stop at epoch {epoch_id} / global_step {global_step}\")\n",
    "                            return record_dict\n",
    "                    \n",
    "                # udate step\n",
    "                global_step += 1\n",
    "                pbar.update(1)\n",
    "                pbar.set_postfix({\"epoch\": epoch_id})\n",
    "        \n",
    "    return record_dict\n",
    "        \n",
    "\n",
    "epoch = 10\n",
    "\n",
    "model = VGG(num_classes=10)\n",
    "\n",
    "# 1. 定义损失函数 采用交叉熵损失\n",
    "loss_fct = nn.CrossEntropyLoss()\n",
    "# 2. 定义优化器 采用 adam\n",
    "# Optimizers specified in the torch.optim package\n",
    "#可以修改adam里边的weight_decay参数，来控制L2正则化的程度,beta1和beta2是指数衰减率\n",
    "optimizer = torch.optim.Adam(model.parameters(), lr=1e-3)\n",
    "\n",
    "# 1. tensorboard 可视化\n",
    "if not os.path.exists(\"runs\"):\n",
    "    os.mkdir(\"runs\")\n",
    "tensorboard_callback = TensorBoardCallback(\"runs/vgg\")\n",
    "tensorboard_callback.draw_model(model, [1, 3, IMAGE_SIZE, IMAGE_SIZE])\n",
    "# 2. save best\n",
    "if not os.path.exists(\"checkpoints\"):\n",
    "    os.makedirs(\"checkpoints\")\n",
    "save_ckpt_callback = SaveCheckpointsCallback(\"checkpoints/vgg\", save_step=len(train_dl), save_best_only=True)\n",
    "# 3. early stop\n",
    "early_stop_callback = EarlyStopCallback(patience=5)\n",
    "\n",
    "model = model.to(device)\n",
    "record = training(\n",
    "    model, \n",
    "    train_dl, \n",
    "    eval_dl, \n",
    "    epoch, \n",
    "    loss_fct, \n",
    "    optimizer, \n",
    "    tensorboard_callback=None,\n",
    "    save_ckpt_callback=save_ckpt_callback,\n",
    "    early_stop_callback=early_stop_callback,\n",
    "    eval_step=len(train_dl)\n",
    "    )"
   ]
  },
  {
   "cell_type": "code",
   "execution_count": 38,
   "metadata": {
    "execution": {
     "iopub.execute_input": "2025-01-25T02:20:57.951680Z",
     "iopub.status.busy": "2025-01-25T02:20:57.950969Z",
     "iopub.status.idle": "2025-01-25T02:20:58.285784Z",
     "shell.execute_reply": "2025-01-25T02:20:58.285006Z",
     "shell.execute_reply.started": "2025-01-25T02:20:57.951626Z"
    },
    "is_executing": true,
    "tags": []
   },
   "outputs": [
    {
     "data": {
      "image/png": "[encoded data removed]",
      "text/plain": [
       "<Figure size 1000x500 with 2 Axes>"
      ]
     },
     "metadata": {},
     "output_type": "display_data"
    }
   ],
   "source": [
    "#画线要注意的是损失是不一定在零到1之间的\n",
    "def plot_learning_curves(record_dict, sample_step=500):\n",
    "    # build DataFrame\n",
    "    train_df = pd.DataFrame(record_dict[\"train\"]).set_index(\"step\").iloc[::sample_step]\n",
    "    val_df = pd.DataFrame(record_dict[\"val\"]).set_index(\"step\")\n",
    "\n",
    "    # plot\n",
    "    fig_num = len(train_df.columns)\n",
    "    fig, axs = plt.subplots(1, fig_num, figsize=(5 * fig_num, 5))\n",
    "    for idx, item in enumerate(train_df.columns):    \n",
    "        axs[idx].plot(train_df.index, train_df[item], label=f\"train_{item}\")\n",
    "        axs[idx].plot(val_df.index, val_df[item], label=f\"val_{item}\")\n",
    "        axs[idx].grid()\n",
    "        axs[idx].legend()\n",
    "        # axs[idx].set_xticks(range(0, train_df.index[-1], 5000))\n",
    "        # axs[idx].set_xticklabels(map(lambda x: f\"{int(x/1000)}k\", range(0, train_df.index[-1], 5000)))\n",
    "        axs[idx].set_xlabel(\"step\")\n",
    "    \n",
    "    plt.show()\n",
    "\n",
    "plot_learning_curves(record, sample_step=100)  #横坐标是 steps"
   ]
  },
  {
   "cell_type": "markdown",
   "metadata": {},
   "source": [
    "# 评估"
   ]
  },
  {
   "cell_type": "code",
   "execution_count": 39,
   "metadata": {
    "ExecutionIndicator": {
     "show": true
    },
    "execution": {
     "iopub.execute_input": "2025-01-25T02:21:02.576444Z",
     "iopub.status.busy": "2025-01-25T02:21:02.575709Z",
     "iopub.status.idle": "2025-01-25T02:21:03.593118Z",
     "shell.execute_reply": "2025-01-25T02:21:03.592077Z",
     "shell.execute_reply.started": "2025-01-25T02:21:02.576407Z"
    },
    "is_executing": true,
    "tags": []
   },
   "outputs": [
    {
     "name": "stdout",
     "output_type": "stream",
     "text": [
      "loss:     0.8481\n",
      "accuracy: 0.7048\n"
     ]
    }
   ],
   "source": [
    "# dataload for evaluating\n",
    "\n",
    "# load checkpoints\n",
    "model.load_state_dict(torch.load(\"checkpoints/vgg/best.ckpt\", map_location=\"cpu\", weights_only=True))\n",
    "\n",
    "model.eval()\n",
    "loss, acc = evaluating(model, eval_dl, loss_fct)\n",
    "print(f\"loss:     {loss:.4f}\\naccuracy: {acc:.4f}\")"
   ]
  },
  {
   "cell_type": "markdown",
   "metadata": {},
   "source": [
    "# 推理"
   ]
  },
  {
   "cell_type": "code",
   "execution_count": 21,
   "metadata": {
    "execution": {
     "iopub.execute_input": "2025-01-25T01:49:26.777204Z",
     "iopub.status.busy": "2025-01-25T01:49:26.776778Z",
     "iopub.status.idle": "2025-01-25T01:49:26.781858Z",
     "shell.execute_reply": "2025-01-25T01:49:26.781028Z",
     "shell.execute_reply.started": "2025-01-25T01:49:26.777170Z"
    },
    "is_executing": true
   },
   "outputs": [],
   "source": [
    "# # test_df\n",
    "# test_ds = Cifar10Dataset(\"test\", transform=transforms_eval)\n",
    "# test_dl = DataLoader(test_ds, batch_size=batch_size, shuffle=False, drop_last=False)\n",
    "#\n",
    "# preds_collect = []\n",
    "# model.eval()\n",
    "# for data, fake_label in tqdm(test_dl):\n",
    "#     data = data.to(device=device)\n",
    "#     logits = model(data)\n",
    "#     preds = [test_ds.idx_to_label[idx] for idx in logits.argmax(axis=-1).cpu().tolist()]\n",
    "#     preds_collect.extend(preds)\n",
    "#\n",
    "# test_df[\"class\"] = preds_collect\n",
    "# test_df.head()"
   ]
  },
  {
   "cell_type": "code",
   "execution_count": 22,
   "metadata": {
    "execution": {
     "iopub.execute_input": "2025-01-25T01:49:26.783216Z",
     "iopub.status.busy": "2025-01-25T01:49:26.782865Z",
     "iopub.status.idle": "2025-01-25T01:49:26.786887Z",
     "shell.execute_reply": "2025-01-25T01:49:26.785862Z",
     "shell.execute_reply.started": "2025-01-25T01:49:26.783189Z"
    },
    "is_executing": true,
    "tags": []
   },
   "outputs": [],
   "source": [
    "# # 导出 submission.csv\n",
    "# test_df.to_csv(\"submission.csv\", index=False)"
   ]
  }
 ],
 "metadata": {
  "kaggle": {
   "accelerator": "gpu",
   "dataSources": [
    {
     "databundleVersionId": 46718,
     "sourceId": 3649,
     "sourceType": "competition"
    }
   ],
   "dockerImageVersionId": 30588,
   "isGpuEnabled": true,
   "isInternetEnabled": true,
   "language": "python",
   "sourceType": "notebook"
  },
  "kernelspec": {
   "display_name": "Python 3 (ipykernel)",
   "language": "python",
   "name": "python3"
  },
  "language_info": {
   "codemirror_mode": {
    "name": "ipython",
    "version": 3
   },
   "file_extension": ".py",
   "mimetype": "text/x-python",
   "name": "python",
   "nbconvert_exporter": "python",
   "pygments_lexer": "ipython3",
   "version": "3.10.14"
  }
 },
 "nbformat": 4,
 "nbformat_minor": 4
}
