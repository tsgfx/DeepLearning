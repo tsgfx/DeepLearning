{
 "cells": [
  {
   "cell_type": "code",
   "execution_count": 1,
   "metadata": {
    "ExecuteTime": {
     "end_time": "2025-01-23T08:00:33.234794Z",
     "start_time": "2025-01-23T08:00:30.839118Z"
    },
    "execution": {
     "iopub.execute_input": "2025-02-06T16:43:37.961173Z",
     "iopub.status.busy": "2025-02-06T16:43:37.960927Z",
     "iopub.status.idle": "2025-02-06T16:43:41.193523Z",
     "shell.execute_reply": "2025-02-06T16:43:41.192688Z",
     "shell.execute_reply.started": "2025-02-06T16:43:37.961145Z"
    },
    "tags": []
   },
   "outputs": [
    {
     "name": "stderr",
     "output_type": "stream",
     "text": [
      "/usr/local/lib/python3.10/site-packages/tqdm/auto.py:21: TqdmWarning: IProgress not found. Please update jupyter and ipywidgets. See https://ipywidgets.readthedocs.io/en/stable/user_install.html\n",
      "  from .autonotebook import tqdm as notebook_tqdm\n"
     ]
    },
    {
     "name": "stdout",
     "output_type": "stream",
     "text": [
      "sys.version_info(major=3, minor=10, micro=14, releaselevel='final', serial=0)\n",
      "matplotlib 3.10.0\n",
      "numpy 1.26.4\n",
      "pandas 2.2.3\n",
      "sklearn 1.6.0\n",
      "torch 2.5.1+cu124\n",
      "cuda:0\n"
     ]
    }
   ],
   "source": [
    "import matplotlib as mpl\n",
    "import matplotlib.pyplot as plt\n",
    "%matplotlib inline\n",
    "import numpy as np\n",
    "import sklearn\n",
    "import pandas as pd\n",
    "import os\n",
    "import sys\n",
    "import time\n",
    "from tqdm.auto import tqdm\n",
    "import torch\n",
    "import torch.nn as nn\n",
    "import torch.nn.functional as F\n",
    "\n",
    "print(sys.version_info)\n",
    "for module in mpl, np, pd, sklearn, torch:\n",
    "    print(module.__name__, module.__version__)\n",
    "    \n",
    "device = torch.device(\"cuda:0\") if torch.cuda.is_available() else torch.device(\"cpu\")\n",
    "print(device)\n",
    "\n",
    "seed = 42\n",
    "torch.manual_seed(seed)\n",
    "torch.cuda.manual_seed_all(seed)"
   ]
  },
  {
   "cell_type": "markdown",
   "metadata": {},
   "source": [
    "## 数据准备"
   ]
  },
  {
   "cell_type": "code",
   "execution_count": 2,
   "metadata": {
    "ExecuteTime": {
     "end_time": "2024-05-02T03:33:53.350580400Z",
     "start_time": "2024-05-02T03:33:52.447226500Z"
    },
    "ExecutionIndicator": {
     "show": true
    },
    "execution": {
     "iopub.execute_input": "2025-02-06T16:43:41.195553Z",
     "iopub.status.busy": "2025-02-06T16:43:41.195057Z",
     "iopub.status.idle": "2025-02-06T16:43:41.199049Z",
     "shell.execute_reply": "2025-02-06T16:43:41.198336Z",
     "shell.execute_reply.started": "2025-02-06T16:43:41.195522Z"
    },
    "tags": []
   },
   "outputs": [],
   "source": [
    "# !wget https://storage.googleapis.com/download.tensorflow.org/data/shakespeare.txt"
   ]
  },
  {
   "cell_type": "code",
   "execution_count": 3,
   "metadata": {
    "ExecuteTime": {
     "end_time": "2025-01-23T08:00:56.509250Z",
     "start_time": "2025-01-23T08:00:56.504813Z"
    },
    "execution": {
     "iopub.execute_input": "2025-02-06T16:43:41.200498Z",
     "iopub.status.busy": "2025-02-06T16:43:41.200187Z",
     "iopub.status.idle": "2025-02-06T16:43:41.209594Z",
     "shell.execute_reply": "2025-02-06T16:43:41.208897Z",
     "shell.execute_reply.started": "2025-02-06T16:43:41.200471Z"
    },
    "tags": []
   },
   "outputs": [
    {
     "name": "stdout",
     "output_type": "stream",
     "text": [
      "length 1115394\n",
      "First Citizen:\n",
      "Before we proceed any further, hear me speak.\n",
      "\n",
      "All:\n",
      "Speak, speak.\n",
      "\n",
      "First Citizen:\n",
      "You\n"
     ]
    }
   ],
   "source": [
    "# https://storage.googleapis.com/download.tensorflow.org/data/shakespeare.txt\n",
    "#文件已经下载好了\n",
    "with open(\"./shakespeare.txt\", \"r\", encoding=\"utf8\") as file:\n",
    "    text = file.read()\n",
    "\n",
    "print(\"length\", len(text))\n",
    "print(text[0:100])"
   ]
  },
  {
   "cell_type": "markdown",
   "metadata": {},
   "source": [
    "### 构造字典"
   ]
  },
  {
   "cell_type": "code",
   "execution_count": 4,
   "metadata": {
    "ExecuteTime": {
     "end_time": "2025-01-23T08:01:28.777548Z",
     "start_time": "2025-01-23T08:01:28.769444Z"
    },
    "execution": {
     "iopub.execute_input": "2025-02-06T16:43:41.211058Z",
     "iopub.status.busy": "2025-02-06T16:43:41.210697Z",
     "iopub.status.idle": "2025-02-06T16:43:41.235116Z",
     "shell.execute_reply": "2025-02-06T16:43:41.234234Z",
     "shell.execute_reply.started": "2025-02-06T16:43:41.211034Z"
    },
    "tags": []
   },
   "outputs": [
    {
     "name": "stdout",
     "output_type": "stream",
     "text": [
      "65\n",
      "['\\n', ' ', '!', '$', '&', \"'\", ',', '-', '.', '3', ':', ';', '?', 'A', 'B', 'C', 'D', 'E', 'F', 'G', 'H', 'I', 'J', 'K', 'L', 'M', 'N', 'O', 'P', 'Q', 'R', 'S', 'T', 'U', 'V', 'W', 'X', 'Y', 'Z', 'a', 'b', 'c', 'd', 'e', 'f', 'g', 'h', 'i', 'j', 'k', 'l', 'm', 'n', 'o', 'p', 'q', 'r', 's', 't', 'u', 'v', 'w', 'x', 'y', 'z']\n"
     ]
    }
   ],
   "source": [
    "# 1. generate vocab\n",
    "# 2. build mapping char->id\n",
    "# 3. data -> id_data  把数据都转为id\n",
    "# 4. a b c d [EOS] -> [BOS] b c d  预测下一个字符生成的模型，也就是输入是a，输出就是b\n",
    "\n",
    "#去重，留下独立字符，并排序（排序是为了好看）\n",
    "vocab = sorted(set(text))\n",
    "print(len(vocab))\n",
    "print(vocab)"
   ]
  },
  {
   "cell_type": "code",
   "execution_count": 5,
   "metadata": {
    "ExecuteTime": {
     "end_time": "2025-01-23T08:01:36.496656Z",
     "start_time": "2025-01-23T08:01:36.493637Z"
    },
    "execution": {
     "iopub.execute_input": "2025-02-06T16:43:41.236233Z",
     "iopub.status.busy": "2025-02-06T16:43:41.235930Z",
     "iopub.status.idle": "2025-02-06T16:43:41.239922Z",
     "shell.execute_reply": "2025-02-06T16:43:41.239251Z",
     "shell.execute_reply.started": "2025-02-06T16:43:41.236208Z"
    },
    "tags": []
   },
   "outputs": [
    {
     "name": "stdout",
     "output_type": "stream",
     "text": [
      "0 h\n",
      "1 o\n",
      "2 w\n"
     ]
    }
   ],
   "source": [
    "for idx,char in enumerate(['h','o','w']):\n",
    "    print(idx,char)"
   ]
  },
  {
   "cell_type": "code",
   "execution_count": 6,
   "metadata": {
    "ExecuteTime": {
     "end_time": "2025-01-23T08:01:43.290659Z",
     "start_time": "2025-01-23T08:01:43.288068Z"
    },
    "execution": {
     "iopub.execute_input": "2025-02-06T16:43:41.242762Z",
     "iopub.status.busy": "2025-02-06T16:43:41.242432Z",
     "iopub.status.idle": "2025-02-06T16:43:41.246927Z",
     "shell.execute_reply": "2025-02-06T16:43:41.246179Z",
     "shell.execute_reply.started": "2025-02-06T16:43:41.242738Z"
    },
    "tags": []
   },
   "outputs": [
    {
     "name": "stdout",
     "output_type": "stream",
     "text": [
      "{'\\n': 0, ' ': 1, '!': 2, '$': 3, '&': 4, \"'\": 5, ',': 6, '-': 7, '.': 8, '3': 9, ':': 10, ';': 11, '?': 12, 'A': 13, 'B': 14, 'C': 15, 'D': 16, 'E': 17, 'F': 18, 'G': 19, 'H': 20, 'I': 21, 'J': 22, 'K': 23, 'L': 24, 'M': 25, 'N': 26, 'O': 27, 'P': 28, 'Q': 29, 'R': 30, 'S': 31, 'T': 32, 'U': 33, 'V': 34, 'W': 35, 'X': 36, 'Y': 37, 'Z': 38, 'a': 39, 'b': 40, 'c': 41, 'd': 42, 'e': 43, 'f': 44, 'g': 45, 'h': 46, 'i': 47, 'j': 48, 'k': 49, 'l': 50, 'm': 51, 'n': 52, 'o': 53, 'p': 54, 'q': 55, 'r': 56, 's': 57, 't': 58, 'u': 59, 'v': 60, 'w': 61, 'x': 62, 'y': 63, 'z': 64}\n"
     ]
    }
   ],
   "source": [
    "#每个字符都编好号，enumerate对每一个位置编号，生成的是列表中是元组，下面字典生成式\n",
    "char2idx = {char:idx for idx, char in enumerate(vocab)}\n",
    "print(char2idx)"
   ]
  },
  {
   "cell_type": "code",
   "execution_count": 7,
   "metadata": {
    "ExecuteTime": {
     "end_time": "2025-01-23T08:02:04.850128Z",
     "start_time": "2025-01-23T08:02:04.847295Z"
    },
    "execution": {
     "iopub.execute_input": "2025-02-06T16:43:41.247927Z",
     "iopub.status.busy": "2025-02-06T16:43:41.247698Z",
     "iopub.status.idle": "2025-02-06T16:43:41.252239Z",
     "shell.execute_reply": "2025-02-06T16:43:41.251575Z",
     "shell.execute_reply.started": "2025-02-06T16:43:41.247904Z"
    },
    "tags": []
   },
   "outputs": [
    {
     "name": "stdout",
     "output_type": "stream",
     "text": [
      "['\\n' ' ' '!' '$' '&' \"'\" ',' '-' '.' '3' ':' ';' '?' 'A' 'B' 'C' 'D' 'E'\n",
      " 'F' 'G' 'H' 'I' 'J' 'K' 'L' 'M' 'N' 'O' 'P' 'Q' 'R' 'S' 'T' 'U' 'V' 'W'\n",
      " 'X' 'Y' 'Z' 'a' 'b' 'c' 'd' 'e' 'f' 'g' 'h' 'i' 'j' 'k' 'l' 'm' 'n' 'o'\n",
      " 'p' 'q' 'r' 's' 't' 'u' 'v' 'w' 'x' 'y' 'z']\n"
     ]
    }
   ],
   "source": [
    "# 把vocab从列表变为ndarray\n",
    "idx2char = np.array(vocab)\n",
    "print(idx2char)"
   ]
  },
  {
   "cell_type": "code",
   "execution_count": 8,
   "metadata": {
    "ExecuteTime": {
     "end_time": "2025-01-23T08:03:03.944020Z",
     "start_time": "2025-01-23T08:03:03.874617Z"
    },
    "execution": {
     "iopub.execute_input": "2025-02-06T16:43:41.253687Z",
     "iopub.status.busy": "2025-02-06T16:43:41.253238Z",
     "iopub.status.idle": "2025-02-06T16:43:41.398984Z",
     "shell.execute_reply": "2025-02-06T16:43:41.398162Z",
     "shell.execute_reply.started": "2025-02-06T16:43:41.253662Z"
    },
    "tags": []
   },
   "outputs": [
    {
     "name": "stdout",
     "output_type": "stream",
     "text": [
      "(1115394,)\n",
      "1115394\n",
      "[18 47 56 57 58  1 15 47 58 47]\n",
      "First Citi\n"
     ]
    }
   ],
   "source": [
    "#把字符都转换为id\n",
    "text_as_int = np.array([char2idx[c] for c in text])\n",
    "print(text_as_int.shape)\n",
    "print(len(text_as_int))\n",
    "print(text_as_int[0:10])\n",
    "print(text[0:10])"
   ]
  },
  {
   "cell_type": "code",
   "execution_count": 9,
   "metadata": {
    "ExecuteTime": {
     "end_time": "2025-01-23T08:03:33.490881Z",
     "start_time": "2025-01-23T08:03:33.487237Z"
    },
    "collapsed": false,
    "execution": {
     "iopub.execute_input": "2025-02-06T16:43:41.400119Z",
     "iopub.status.busy": "2025-02-06T16:43:41.399798Z",
     "iopub.status.idle": "2025-02-06T16:43:41.405876Z",
     "shell.execute_reply": "2025-02-06T16:43:41.405146Z",
     "shell.execute_reply.started": "2025-02-06T16:43:41.400087Z"
    },
    "jupyter": {
     "outputs_hidden": false
    }
   },
   "outputs": [
    {
     "data": {
      "text/plain": [
       "11043"
      ]
     },
     "execution_count": 9,
     "metadata": {},
     "output_type": "execute_result"
    }
   ],
   "source": [
    "1115394//101"
   ]
  },
  {
   "cell_type": "markdown",
   "metadata": {},
   "source": [
    "### 把莎士比亚文集分成一个一个的样本"
   ]
  },
  {
   "cell_type": "code",
   "execution_count": 10,
   "metadata": {
    "ExecuteTime": {
     "end_time": "2025-01-23T08:09:37.251399Z",
     "start_time": "2025-01-23T08:09:37.247840Z"
    },
    "execution": {
     "iopub.execute_input": "2025-02-06T16:43:41.407274Z",
     "iopub.status.busy": "2025-02-06T16:43:41.406974Z",
     "iopub.status.idle": "2025-02-06T16:43:41.415625Z",
     "shell.execute_reply": "2025-02-06T16:43:41.414634Z",
     "shell.execute_reply.started": "2025-02-06T16:43:41.407249Z"
    }
   },
   "outputs": [],
   "source": [
    "from torch.utils.data import Dataset, DataLoader\n",
    "\n",
    "class CharDataset(Dataset):\n",
    "    #text_as_int是字符的id列表，seq_length是每个样本的长度\n",
    "    def __init__(self, text_as_int, seq_length):\n",
    "        self.sub_len = seq_length + 1 #一个样本的长度\n",
    "        self.text_as_int = text_as_int\n",
    "        self.num_seq = len(text_as_int) // self.sub_len #样本的个数\n",
    "        \n",
    "    def __getitem__(self, index):#index是样本的索引，返回的是一个样本，比如第一个，就是0-100的字符,总计101个字符\n",
    "        return self.text_as_int[index * self.sub_len: (index + 1) * self.sub_len]\n",
    "    \n",
    "    def __len__(self): #返回样本的个数\n",
    "        return self.num_seq\n",
    "\n",
    "#batch是一个列表，列表中的每一个元素是一个样本，有101个字符，前100个是输入，后100个是输出\n",
    "def collat_fct(batch):\n",
    "    src_list = [] #输入\n",
    "    trg_list = [] #输出\n",
    "    for part in batch:\n",
    "        src_list.append(part[:-1]) #输入\n",
    "        trg_list.append(part[1:]) #输出\n",
    "        \n",
    "    src_list = np.array(src_list) #把列表转换为ndarray\n",
    "    trg_list = np.array(trg_list) #把列表转换为ndarray\n",
    "    return torch.Tensor(src_list).to(dtype=torch.int64), torch.Tensor(trg_list).to(dtype=torch.int64) #返回的是一个元组，元组中的每一个元素是一个torch.Tensor\n",
    "        \n",
    "#每个样本的长度是101，也就是100个字符+1个结束符\n",
    "train_ds = CharDataset(text_as_int, 100)\n",
    "train_dl = DataLoader(train_ds, batch_size=64, shuffle=True, collate_fn=collat_fct)"
   ]
  },
  {
   "cell_type": "code",
   "execution_count": 11,
   "metadata": {
    "ExecuteTime": {
     "end_time": "2025-01-23T08:09:39.865440Z",
     "start_time": "2025-01-23T08:09:39.859267Z"
    },
    "collapsed": false,
    "execution": {
     "iopub.execute_input": "2025-02-06T16:43:41.416807Z",
     "iopub.status.busy": "2025-02-06T16:43:41.416510Z",
     "iopub.status.idle": "2025-02-06T16:43:41.425101Z",
     "shell.execute_reply": "2025-02-06T16:43:41.424284Z",
     "shell.execute_reply.started": "2025-02-06T16:43:41.416783Z"
    },
    "jupyter": {
     "outputs_hidden": false
    }
   },
   "outputs": [
    {
     "name": "stdout",
     "output_type": "stream",
     "text": [
      "torch.Size([64, 100])\n",
      "torch.Size([64, 100])\n"
     ]
    }
   ],
   "source": [
    "for datas, labels in train_dl:\n",
    "    print(datas.shape)\n",
    "    print(labels.shape)\n",
    "    break"
   ]
  },
  {
   "cell_type": "markdown",
   "metadata": {},
   "source": []
  },
  {
   "cell_type": "markdown",
   "metadata": {},
   "source": [
    "## 定义模型"
   ]
  },
  {
   "cell_type": "code",
   "execution_count": 12,
   "metadata": {
    "ExecuteTime": {
     "end_time": "2025-01-23T08:13:43.092169Z",
     "start_time": "2025-01-23T08:13:43.083620Z"
    },
    "execution": {
     "iopub.execute_input": "2025-02-06T16:43:41.426511Z",
     "iopub.status.busy": "2025-02-06T16:43:41.426052Z",
     "iopub.status.idle": "2025-02-06T16:43:41.447523Z",
     "shell.execute_reply": "2025-02-06T16:43:41.446730Z",
     "shell.execute_reply.started": "2025-02-06T16:43:41.426470Z"
    }
   },
   "outputs": [
    {
     "name": "stdout",
     "output_type": "stream",
     "text": [
      "=================================== 一层单向 RNN ===================================\n",
      "            embedding.weight            paramerters num: 16640\n",
      "            rnn.weight_ih_l0            paramerters num: 262144\n",
      "            rnn.weight_hh_l0            paramerters num: 1048576\n",
      "             rnn.bias_ih_l0             paramerters num: 1024\n",
      "             rnn.bias_hh_l0             paramerters num: 1024\n",
      "               fc.weight                paramerters num: 66560\n",
      "                fc.bias                 paramerters num: 65\n"
     ]
    }
   ],
   "source": [
    "class CharRNN(nn.Module):\n",
    "    def __init__(self, vocab_size, embedding_dim=256, hidden_dim=1024):\n",
    "        super(CharRNN, self).__init__()\n",
    "        self.embedding = nn.Embedding(vocab_size, embedding_dim)\n",
    "        #batch_first=True,输入的数据格式是(batch_size, seq_len, embedding_dim)\n",
    "        self.rnn = nn.RNN(embedding_dim, hidden_dim, batch_first=True)\n",
    "        self.fc = nn.Linear(hidden_dim, vocab_size)\n",
    "        \n",
    "    def forward(self, x, hidden=None):\n",
    "        x = self.embedding(x) #(batch_size, seq_len) -> (batch_size, seq_len, embedding_dim) (64, 100, 256)\n",
    "        #这里和02的差异是没有只拿最后一个输出，而是把所有的输出都拿出来了\n",
    "        #(batch_size, seq_len, embedding_dim)->(batch_size, seq_len, hidden_dim)(64, 100, 1024)\n",
    "        output, hidden = self.rnn(x, hidden)\n",
    "        x = self.fc(output) #[bs, seq_len, hidden_dim]--->[bs, seq_len, vocab_size] (64, 100,65)\n",
    "        return x, hidden #x的shape是(batch_size, seq_len, vocab_size)\n",
    "    \n",
    "    \n",
    "vocab_size = len(vocab)\n",
    "\n",
    "print(\"{:=^80}\".format(\" 一层单向 RNN \"))       \n",
    "for key, value in CharRNN(vocab_size).named_parameters():\n",
    "    print(f\"{key:^40}paramerters num: {np.prod(value.shape)}\")"
   ]
  },
  {
   "cell_type": "code",
   "execution_count": 13,
   "metadata": {
    "ExecuteTime": {
     "end_time": "2025-01-23T08:15:23.555522Z",
     "start_time": "2025-01-23T08:15:23.551754Z"
    },
    "collapsed": false,
    "execution": {
     "iopub.execute_input": "2025-02-06T16:43:41.448891Z",
     "iopub.status.busy": "2025-02-06T16:43:41.448451Z",
     "iopub.status.idle": "2025-02-06T16:43:41.454993Z",
     "shell.execute_reply": "2025-02-06T16:43:41.454160Z",
     "shell.execute_reply.started": "2025-02-06T16:43:41.448851Z"
    },
    "jupyter": {
     "outputs_hidden": false
    }
   },
   "outputs": [
    {
     "name": "stdout",
     "output_type": "stream",
     "text": [
      "16640\n",
      "262144\n",
      "1048576\n"
     ]
    },
    {
     "data": {
      "text/plain": [
       "66560"
      ]
     },
     "execution_count": 13,
     "metadata": {},
     "output_type": "execute_result"
    }
   ],
   "source": [
    "print(65*256)\n",
    "print(256*1024)\n",
    "print(1024*1024)\n",
    "1024*65"
   ]
  },
  {
   "cell_type": "code",
   "execution_count": 14,
   "metadata": {
    "ExecuteTime": {
     "end_time": "2024-07-29T07:27:35.393573400Z",
     "start_time": "2024-07-29T07:27:35.327680900Z"
    },
    "collapsed": false,
    "execution": {
     "iopub.execute_input": "2025-02-06T16:43:41.456519Z",
     "iopub.status.busy": "2025-02-06T16:43:41.456036Z",
     "iopub.status.idle": "2025-02-06T16:43:41.498144Z",
     "shell.execute_reply": "2025-02-06T16:43:41.497481Z",
     "shell.execute_reply.started": "2025-02-06T16:43:41.456476Z"
    },
    "jupyter": {
     "outputs_hidden": false
    }
   },
   "outputs": [
    {
     "name": "stdout",
     "output_type": "stream",
     "text": [
      "torch.Size([3, 100])\n"
     ]
    },
    {
     "data": {
      "text/plain": [
       "torch.Size([3, 100, 65])"
      ]
     },
     "execution_count": 14,
     "metadata": {},
     "output_type": "execute_result"
    }
   ],
   "source": [
    "sample_inputs = torch.randint(0, vocab_size, (3, 100))\n",
    "print(sample_inputs.shape)\n",
    "model = CharRNN(vocab_size)\n",
    "output=model(sample_inputs)\n",
    "output[0].shape"
   ]
  },
  {
   "cell_type": "code",
   "execution_count": 15,
   "metadata": {
    "ExecuteTime": {
     "end_time": "2024-07-29T07:57:28.992008300Z",
     "start_time": "2024-07-29T07:57:28.981317Z"
    },
    "collapsed": false,
    "execution": {
     "iopub.execute_input": "2025-02-06T16:43:41.499268Z",
     "iopub.status.busy": "2025-02-06T16:43:41.498935Z",
     "iopub.status.idle": "2025-02-06T16:43:41.504224Z",
     "shell.execute_reply": "2025-02-06T16:43:41.503558Z",
     "shell.execute_reply.started": "2025-02-06T16:43:41.499242Z"
    },
    "jupyter": {
     "outputs_hidden": false
    }
   },
   "outputs": [
    {
     "data": {
      "text/plain": [
       "torch.Size([300, 65])"
      ]
     },
     "execution_count": 15,
     "metadata": {},
     "output_type": "execute_result"
    }
   ],
   "source": [
    "output[0].reshape(-1, vocab_size).shape"
   ]
  },
  {
   "cell_type": "code",
   "execution_count": 16,
   "metadata": {
    "ExecuteTime": {
     "end_time": "2024-07-29T07:26:37.116153100Z",
     "start_time": "2024-07-29T07:26:37.108972300Z"
    },
    "collapsed": false,
    "execution": {
     "iopub.execute_input": "2025-02-06T16:43:41.505304Z",
     "iopub.status.busy": "2025-02-06T16:43:41.504993Z",
     "iopub.status.idle": "2025-02-06T16:43:41.509662Z",
     "shell.execute_reply": "2025-02-06T16:43:41.508983Z",
     "shell.execute_reply.started": "2025-02-06T16:43:41.505279Z"
    },
    "jupyter": {
     "outputs_hidden": false
    }
   },
   "outputs": [
    {
     "data": {
      "text/plain": [
       "66560"
      ]
     },
     "execution_count": 16,
     "metadata": {},
     "output_type": "execute_result"
    }
   ],
   "source": [
    "\n",
    "1024*65"
   ]
  },
  {
   "cell_type": "markdown",
   "metadata": {},
   "source": [
    "## 训练"
   ]
  },
  {
   "cell_type": "code",
   "execution_count": 17,
   "metadata": {
    "ExecuteTime": {
     "end_time": "2024-07-29T07:28:19.937860300Z",
     "start_time": "2024-07-29T07:28:19.932860Z"
    },
    "execution": {
     "iopub.execute_input": "2025-02-06T16:43:41.510783Z",
     "iopub.status.busy": "2025-02-06T16:43:41.510455Z",
     "iopub.status.idle": "2025-02-06T16:43:41.516911Z",
     "shell.execute_reply": "2025-02-06T16:43:41.516246Z",
     "shell.execute_reply.started": "2025-02-06T16:43:41.510757Z"
    }
   },
   "outputs": [],
   "source": [
    "class SaveCheckpointsCallback:\n",
    "    def __init__(self, save_dir, save_step=5000, save_best_only=True):\n",
    "        \"\"\"\n",
    "        Save checkpoints each save_epoch epoch. \n",
    "        We save checkpoint by epoch in this implementation.\n",
    "        Usually, training scripts with pytorch evaluating model and save checkpoint by step.\n",
    "\n",
    "        Args:\n",
    "            save_dir (str): dir to save checkpoint\n",
    "            save_epoch (int, optional): the frequency to save checkpoint. Defaults to 1.\n",
    "            save_best_only (bool, optional): If True, only save the best model or save each model at every epoch.\n",
    "        \"\"\"\n",
    "        self.save_dir = save_dir\n",
    "        self.save_step = save_step\n",
    "        self.save_best_only = save_best_only\n",
    "        self.best_metrics = -1\n",
    "        \n",
    "        # mkdir\n",
    "        if not os.path.exists(self.save_dir):\n",
    "            os.mkdir(self.save_dir)\n",
    "        \n",
    "    def __call__(self, step, state_dict, metric=None):\n",
    "        if step % self.save_step > 0:\n",
    "            return\n",
    "        \n",
    "        if self.save_best_only:\n",
    "            assert metric is not None\n",
    "            if metric >= self.best_metrics:\n",
    "                # save checkpoints\n",
    "                torch.save(state_dict, os.path.join(self.save_dir, \"best.ckpt\"))\n",
    "                # update best metrics\n",
    "                self.best_metrics = metric\n",
    "        else:\n",
    "            torch.save(state_dict, os.path.join(self.save_dir, f\"{step}.ckpt\"))\n",
    "\n"
   ]
  },
  {
   "cell_type": "code",
   "execution_count": 18,
   "metadata": {
    "ExecuteTime": {
     "end_time": "2025-01-23T08:16:19.788186Z",
     "start_time": "2025-01-23T08:16:18.860450Z"
    },
    "execution": {
     "iopub.execute_input": "2025-02-06T16:43:41.520527Z",
     "iopub.status.busy": "2025-02-06T16:43:41.520036Z",
     "iopub.status.idle": "2025-02-06T16:43:42.824977Z",
     "shell.execute_reply": "2025-02-06T16:43:42.824139Z",
     "shell.execute_reply.started": "2025-02-06T16:43:41.520502Z"
    }
   },
   "outputs": [],
   "source": [
    "# 训练\n",
    "def training(\n",
    "    model, \n",
    "    train_loader, \n",
    "    epoch, \n",
    "    loss_fct, \n",
    "    optimizer, \n",
    "    save_ckpt_callback=None,\n",
    "    stateful=False      # 想用stateful，batch里的数据就必须连续，不能打乱\n",
    "    ):\n",
    "    record_dict = {\n",
    "        \"train\": [],\n",
    "    }\n",
    "    \n",
    "    global_step = 0\n",
    "    model.train()\n",
    "    hidden = None\n",
    "    with tqdm(total=epoch * len(train_loader)) as pbar:\n",
    "        for epoch_id in range(epoch):\n",
    "            # training\n",
    "            for datas, labels in train_loader:\n",
    "                datas = datas.to(device)\n",
    "                labels = labels.to(device)\n",
    "                # 梯度清空\n",
    "                optimizer.zero_grad()\n",
    "                # 模型前向计算,如果数据集打乱了，stateful=False，hidden就要清空\n",
    "                # 如果数据集没有打乱，stateful=True，hidden就不需要清空\n",
    "                logits, hidden = model(datas, hidden=hidden if stateful else None)\n",
    "                # 计算损失,交叉熵损失第一个参数要是二阶张量，第二个参数要是一阶张量，所以要reshape\n",
    "                loss = loss_fct(logits.reshape(-1, vocab_size), labels.reshape(-1))\n",
    "                # 梯度回传\n",
    "                loss.backward()\n",
    "                # 调整优化器，包括学习率的变动等\n",
    "                optimizer.step()\n",
    " \n",
    "                loss = loss.cpu().item()\n",
    "                # record\n",
    "                \n",
    "                record_dict[\"train\"].append({\n",
    "                    \"loss\": loss, \"step\": global_step\n",
    "                })\n",
    "   \n",
    "                # 保存模型权重 save model checkpoint\n",
    "                if save_ckpt_callback is not None:\n",
    "                    save_ckpt_callback(global_step, model.state_dict(), metric=-loss)\n",
    "                # udate step\n",
    "                global_step += 1\n",
    "                pbar.update(1)\n",
    "                pbar.set_postfix({\"epoch\": epoch_id})\n",
    "        \n",
    "    return record_dict\n",
    "        \n",
    "\n",
    "epoch = 100\n",
    "\n",
    "model = CharRNN(vocab_size=vocab_size)\n",
    "\n",
    "# 1. 定义损失函数 采用交叉熵损失 \n",
    "loss_fct = nn.CrossEntropyLoss()\n",
    "# 2. 定义优化器 采用 adam\n",
    "# Optimizers specified in the torch.optim package\n",
    "optimizer = torch.optim.Adam(model.parameters(), lr=0.001)\n",
    "\n",
    "\n",
    "# save best\n",
    "if not os.path.exists(\"checkpoints\"):\n",
    "    os.makedirs(\"checkpoints\")\n",
    "save_ckpt_callback = SaveCheckpointsCallback(\"checkpoints/text_generation\", save_step=1000, save_best_only=True)\n",
    "\n",
    "\n",
    "model = model.to(device)\n"
   ]
  },
  {
   "cell_type": "code",
   "execution_count": 19,
   "metadata": {
    "collapsed": false,
    "execution": {
     "iopub.execute_input": "2025-02-06T16:43:42.826389Z",
     "iopub.status.busy": "2025-02-06T16:43:42.825891Z",
     "iopub.status.idle": "2025-02-06T16:46:57.775345Z",
     "shell.execute_reply": "2025-02-06T16:46:57.774532Z",
     "shell.execute_reply.started": "2025-02-06T16:43:42.826360Z"
    },
    "jupyter": {
     "outputs_hidden": false
    }
   },
   "outputs": [
    {
     "name": "stderr",
     "output_type": "stream",
     "text": [
      "100%|██████████| 17300/17300 [03:14<00:00, 88.74it/s, epoch=99]\n"
     ]
    }
   ],
   "source": [
    "record = training(\n",
    "    model,\n",
    "    train_dl,\n",
    "    epoch,\n",
    "    loss_fct,\n",
    "    optimizer,\n",
    "    save_ckpt_callback=save_ckpt_callback,\n",
    "    )"
   ]
  },
  {
   "cell_type": "code",
   "execution_count": 20,
   "metadata": {
    "execution": {
     "iopub.execute_input": "2025-02-06T16:46:57.776621Z",
     "iopub.status.busy": "2025-02-06T16:46:57.776260Z",
     "iopub.status.idle": "2025-02-06T16:46:57.914856Z",
     "shell.execute_reply": "2025-02-06T16:46:57.914138Z",
     "shell.execute_reply.started": "2025-02-06T16:46:57.776593Z"
    }
   },
   "outputs": [
    {
     "data": {
      "image/png": "[encoded data removed]",
      "text/plain": [
       "<Figure size 640x480 with 1 Axes>"
      ]
     },
     "metadata": {},
     "output_type": "display_data"
    }
   ],
   "source": [
    "plt.plot([i[\"step\"] for i in record[\"train\"][::50]], [i[\"loss\"] for i in record[\"train\"][::50]], label=\"train\")\n",
    "plt.grid()\n",
    "plt.show()"
   ]
  },
  {
   "cell_type": "markdown",
   "metadata": {},
   "source": [
    "## 推理"
   ]
  },
  {
   "cell_type": "code",
   "execution_count": 21,
   "metadata": {
    "ExecuteTime": {
     "end_time": "2024-07-29T08:03:42.243597600Z",
     "start_time": "2024-07-29T08:03:42.228375900Z"
    },
    "collapsed": false,
    "execution": {
     "iopub.execute_input": "2025-02-06T16:46:57.916361Z",
     "iopub.status.busy": "2025-02-06T16:46:57.916007Z",
     "iopub.status.idle": "2025-02-06T16:46:57.932002Z",
     "shell.execute_reply": "2025-02-06T16:46:57.931335Z",
     "shell.execute_reply.started": "2025-02-06T16:46:57.916334Z"
    },
    "jupyter": {
     "outputs_hidden": false
    }
   },
   "outputs": [
    {
     "name": "stdout",
     "output_type": "stream",
     "text": [
      "tensor([0.4502, 0.5498])\n"
     ]
    }
   ],
   "source": [
    "#下面的例子是为了说明temperature\n",
    "my_tensor = torch.tensor([0.4,0.6]) #这里是logits\n",
    "\n",
    "probs1 = F.softmax(my_tensor, dim=-1)\n",
    "print(probs1)"
   ]
  },
  {
   "cell_type": "code",
   "execution_count": 22,
   "metadata": {
    "ExecuteTime": {
     "end_time": "2024-07-29T08:17:00.048904100Z",
     "start_time": "2024-07-29T08:17:00.043755800Z"
    },
    "collapsed": false,
    "execution": {
     "iopub.execute_input": "2025-02-06T16:46:57.933109Z",
     "iopub.status.busy": "2025-02-06T16:46:57.932767Z",
     "iopub.status.idle": "2025-02-06T16:46:57.938216Z",
     "shell.execute_reply": "2025-02-06T16:46:57.937364Z",
     "shell.execute_reply.started": "2025-02-06T16:46:57.933080Z"
    },
    "jupyter": {
     "outputs_hidden": false
    }
   },
   "outputs": [
    {
     "name": "stdout",
     "output_type": "stream",
     "text": [
      "tensor([0.4750, 0.5250])\n"
     ]
    }
   ],
   "source": [
    "my_tensor = torch.tensor([0.2,0.3])  #现在 temperature是2\n",
    "\n",
    "probs1 = F.softmax(my_tensor, dim=-1)\n",
    "print(probs1)"
   ]
  },
  {
   "cell_type": "code",
   "execution_count": 23,
   "metadata": {
    "ExecuteTime": {
     "end_time": "2024-07-29T08:06:39.649844900Z",
     "start_time": "2024-07-29T08:06:39.642147800Z"
    },
    "collapsed": false,
    "execution": {
     "iopub.execute_input": "2025-02-06T16:46:57.939782Z",
     "iopub.status.busy": "2025-02-06T16:46:57.939335Z",
     "iopub.status.idle": "2025-02-06T16:46:57.956591Z",
     "shell.execute_reply": "2025-02-06T16:46:57.955772Z",
     "shell.execute_reply.started": "2025-02-06T16:46:57.939741Z"
    },
    "jupyter": {
     "outputs_hidden": false
    }
   },
   "outputs": [
    {
     "name": "stdout",
     "output_type": "stream",
     "text": [
      "概率分布: tensor([0.1000, 0.4500, 0.3500, 0.1000])\n",
      "抽取的样本索引: tensor([2])\n",
      "每个样本对应的概率: tensor([0.3500])\n"
     ]
    }
   ],
   "source": [
    "import torch\n",
    "\n",
    "# 创建一个概率分布，表示每个类别被选中的概率\n",
    "# 这里我们有一个简单的四个类别的概率分布\n",
    "prob_dist = torch.tensor([0.1, 0.45, 0.35, 0.1])\n",
    "\n",
    "# 使用 multinomial 进行抽样\n",
    "# num_samples 表示要抽取的样本数量\n",
    "num_samples = 5\n",
    "\n",
    "# 抽取样本，随机抽样，概率越高，抽到的概率就越高\n",
    "samples = torch.multinomial(prob_dist, 1, replacement=True)\n",
    "\n",
    "print(\"概率分布:\", prob_dist)\n",
    "print(\"抽取的样本索引:\", samples)\n",
    "\n",
    "# 显示每个样本对应的概率\n",
    "print(\"每个样本对应的概率:\", prob_dist[samples])"
   ]
  },
  {
   "cell_type": "code",
   "execution_count": 24,
   "metadata": {
    "ExecuteTime": {
     "end_time": "2024-07-29T08:51:40.360874200Z",
     "start_time": "2024-07-29T08:51:38.070276100Z"
    },
    "execution": {
     "iopub.execute_input": "2025-02-06T16:46:57.958284Z",
     "iopub.status.busy": "2025-02-06T16:46:57.957611Z",
     "iopub.status.idle": "2025-02-06T16:46:57.967555Z",
     "shell.execute_reply": "2025-02-06T16:46:57.966742Z",
     "shell.execute_reply.started": "2025-02-06T16:46:57.958242Z"
    }
   },
   "outputs": [],
   "source": [
    "def generate_text(model, start_string, max_len=1000, temperature=1.0, stream=True):\n",
    "    # 将起始字符串转换为模型输入\n",
    "    # char2idx 是一个字典，将字符映射为索引\n",
    "    # torch.Tensor 将字符索引列表转换为张量，并调整数据类型和设备\n",
    "    # reshape(1, -1) 将输入形状调整为 [batch_size=1, seq_length]\n",
    "    input_eval = torch.Tensor([char2idx[char] for char in start_string]).to(dtype=torch.int64, device=device).reshape(1, -1)\n",
    "    \n",
    "    hidden = None  # 初始化隐藏状态\n",
    "    text_generated = []  # 用于保存生成的文本\n",
    "    model.eval()  # 将模型设置为评估模式\n",
    "    pbar = tqdm(range(max_len))  # 进度条，控制生成文本的长度\n",
    "    print(start_string, end=\"\")  # 打印起始字符串\n",
    "\n",
    "    # no_grad 是一个上下文管理器，用于指定在其中的代码块中不需要计算梯度\n",
    "    # 在这个区域内，不会记录梯度信息，用于在生成文本时不影响模型权重\n",
    "    with torch.no_grad():\n",
    "        for i in pbar:  # 控制进度条\n",
    "            # 模型前向传播，获取输出 logits 和隐藏状态 hidden\n",
    "            logits, hidden = model(input_eval, hidden=hidden)\n",
    "            \n",
    "            # 温度采样\n",
    "            # 取最后一个时间步的输出 logits，并除以温度值\n",
    "            # 温度值越高，生成的文本越随机；温度值越低，生成的文本越保守\n",
    "            logits = logits[0, -1, :] / temperature\n",
    "            \n",
    "            # 使用 softmax 将 logits 转换为概率分布\n",
    "            probs = F.softmax(logits, dim=-1)\n",
    "            \n",
    "            # 从概率分布中采样一个字符索引\n",
    "            idx = torch.multinomial(probs, 1).item()\n",
    "            \n",
    "            # 将采样得到的字符索引转换为模型输入\n",
    "            input_eval = torch.Tensor([idx]).to(dtype=torch.int64, device=device).reshape(1, -1)\n",
    "            \n",
    "            # 将生成的字符索引保存到列表中\n",
    "            text_generated.append(idx)\n",
    "            \n",
    "            # 如果 stream 为 True，则实时打印生成的字符\n",
    "            if stream:\n",
    "                print(idx2char[idx], end=\"\", flush=True)\n",
    "    \n",
    "    # 将生成的字符索引列表转换为字符串并返回\n",
    "    return \"\".join([idx2char[i] for i in text_generated])"
   ]
  },
  {
   "cell_type": "code",
   "execution_count": 25,
   "metadata": {
    "execution": {
     "iopub.execute_input": "2025-02-06T16:46:57.969027Z",
     "iopub.status.busy": "2025-02-06T16:46:57.968583Z",
     "iopub.status.idle": "2025-02-06T16:46:59.604040Z",
     "shell.execute_reply": "2025-02-06T16:46:59.603297Z",
     "shell.execute_reply.started": "2025-02-06T16:46:57.968986Z"
    }
   },
   "outputs": [
    {
     "name": "stderr",
     "output_type": "stream",
     "text": [
      "/tmp/ipykernel_460/835159976.py:2: FutureWarning: You are using `torch.load` with `weights_only=False` (the current default value), which uses the default pickle module implicitly. It is possible to construct malicious pickle data which will execute arbitrary code during unpickling (See https://github.com/pytorch/pytorch/blob/main/SECURITY.md#untrusted-models for more details). In a future release, the default value for `weights_only` will be flipped to `True`. This limits the functions that could be executed during unpickling. Arbitrary objects will no longer be allowed to be loaded via this mode unless they are explicitly allowlisted by the user via `torch.serialization.add_safe_globals`. We recommend you start setting `weights_only=True` for any use case where you don't have full control of the loaded file. Please open an issue on GitHub for any issues related to this experimental feature.\n",
      "  model.load_state_dict(torch.load(\"checkpoints/text_generation/best.ckpt\", map_location=\"cpu\"))\n",
      "  0%|          | 0/1000 [00:00<?, ?it/s]"
     ]
    },
    {
     "name": "stdout",
     "output_type": "stream",
     "text": [
      "All: I"
     ]
    },
    {
     "name": "stderr",
     "output_type": "stream",
     "text": [
      "  0%|          | 1/1000 [00:00<04:01,  4.13it/s]"
     ]
    },
    {
     "name": "stdout",
     "output_type": "stream",
     "text": [
      " cannot now a strange report of any of your sorrow's eye,\n"
     ]
    },
    {
     "name": "stderr",
     "output_type": "stream",
     "text": [
      "  6%|▌         | 59/1000 [00:00<00:04, 217.68it/s]"
     ]
    },
    {
     "name": "stdout",
     "output_type": "stream",
     "text": [
      "And be it forth to come of this.\n",
      "\n",
      "Clown:\n",
      "Alack, the vile the common of "
     ]
    },
    {
     "name": "stderr",
     "output_type": "stream",
     "text": [
      " 13%|█▎        | 130/1000 [00:00<00:02, 387.59it/s]"
     ]
    },
    {
     "name": "stdout",
     "output_type": "stream",
     "text": [
      "the sea-should success shall put\n",
      "He that runs for his propert to repen"
     ]
    },
    {
     "name": "stderr",
     "output_type": "stream",
     "text": [
      " 20%|██        | 200/1000 [00:00<00:01, 490.57it/s]"
     ]
    },
    {
     "name": "stdout",
     "output_type": "stream",
     "text": [
      "t;\n",
      "Go, crave I need of men,\n",
      "Should wish me not with me; let him not confederatio"
     ]
    },
    {
     "name": "stderr",
     "output_type": "stream",
     "text": [
      " 28%|██▊       | 280/1000 [00:00<00:01, 587.89it/s]"
     ]
    },
    {
     "name": "stdout",
     "output_type": "stream",
     "text": [
      "n of my company.\n",
      "\n",
      "KING RICHARD III:\n",
      "Why, she, my lord?\n",
      "\n",
      "KING RICHARD II"
     ]
    },
    {
     "name": "stderr",
     "output_type": "stream",
     "text": [
      " 35%|███▌      | 351/1000 [00:00<00:01, 623.56it/s]"
     ]
    },
    {
     "name": "stdout",
     "output_type": "stream",
     "text": [
      ":\n",
      "What says he?\n",
      "\n",
      "Nurse:\n",
      "What is the frowns of his majesty\n",
      "With all my house"
     ]
    },
    {
     "name": "stderr",
     "output_type": "stream",
     "text": [
      " 43%|████▎     | 426/1000 [00:00<00:00, 662.40it/s]"
     ]
    },
    {
     "name": "stdout",
     "output_type": "stream",
     "text": [
      " to assurance of his love\n",
      "Than thou must be here.\n",
      "\n",
      "Second Citizen:\n",
      "And if thou wee"
     ]
    },
    {
     "name": "stderr",
     "output_type": "stream",
     "text": [
      " 51%|█████     | 508/1000 [00:00<00:00, 708.07it/s]"
     ]
    },
    {
     "name": "stdout",
     "output_type": "stream",
     "text": [
      "p'st off the heart,\n",
      "Or else it will not be long.\n",
      "The gods be seen.\n",
      "\n",
      "First S"
     ]
    },
    {
     "name": "stderr",
     "output_type": "stream",
     "text": [
      " 58%|█████▊    | 583/1000 [00:01<00:00, 720.05it/s]"
     ]
    },
    {
     "name": "stdout",
     "output_type": "stream",
     "text": [
      "enator:\n",
      "How canst not say you hear.\n",
      "\n",
      "CLARENCE:\n",
      "And therefore has he dispat"
     ]
    },
    {
     "name": "stderr",
     "output_type": "stream",
     "text": [
      " 66%|██████▌   | 657/1000 [00:01<00:00, 707.89it/s]"
     ]
    },
    {
     "name": "stdout",
     "output_type": "stream",
     "text": [
      "ch of him,\n",
      "And leave you thus I told you stay.\n",
      "\n",
      "EDWARD:\n",
      "Now the report it"
     ]
    },
    {
     "name": "stderr",
     "output_type": "stream",
     "text": [
      " 73%|███████▎  | 730/1000 [00:01<00:00, 705.32it/s]"
     ]
    },
    {
     "name": "stdout",
     "output_type": "stream",
     "text": [
      ". My dear king,\n",
      "For fearing you would seem still will not be proud to ha"
     ]
    },
    {
     "name": "stderr",
     "output_type": "stream",
     "text": [
      " 80%|████████  | 802/1000 [00:01<00:00, 697.24it/s]"
     ]
    },
    {
     "name": "stdout",
     "output_type": "stream",
     "text": [
      "ve a stubborn and fortune enough not what the heart of heaven,\n",
      "To choose but t"
     ]
    },
    {
     "name": "stderr",
     "output_type": "stream",
     "text": [
      " 88%|████████▊ | 880/1000 [00:01<00:00, 718.97it/s]"
     ]
    },
    {
     "name": "stdout",
     "output_type": "stream",
     "text": [
      "hat the foolish women, and leave me so much some prick'd in a house of Lancast"
     ]
    },
    {
     "name": "stderr",
     "output_type": "stream",
     "text": [
      " 96%|█████████▌| 958/1000 [00:01<00:00, 735.35it/s]"
     ]
    },
    {
     "name": "stdout",
     "output_type": "stream",
     "text": [
      "er.\n",
      "\n",
      "PROSPERO:\n",
      "Thou hast lost too late!\n",
      "\n",
      "M"
     ]
    },
    {
     "name": "stderr",
     "output_type": "stream",
     "text": [
      "100%|██████████| 1000/1000 [00:01<00:00, 617.04it/s]\n"
     ]
    }
   ],
   "source": [
    "# 加载模型检查点\n",
    "model.load_state_dict(torch.load(\"checkpoints/text_generation/best.ckpt\", map_location=\"cpu\"))\n",
    "\n",
    "# 设置起始字符串\n",
    "start_string = \"All: \"\n",
    "\n",
    "# 生成文本\n",
    "res = generate_text(model, start_string, max_len=1000, temperature=0.5, stream=True)"
   ]
  },
  {
   "cell_type": "code",
   "execution_count": 26,
   "metadata": {
    "ExecutionIndicator": {
     "show": true
    },
    "execution": {
     "iopub.execute_input": "2025-02-06T16:46:59.605237Z",
     "iopub.status.busy": "2025-02-06T16:46:59.604887Z",
     "iopub.status.idle": "2025-02-06T16:46:59.609225Z",
     "shell.execute_reply": "2025-02-06T16:46:59.608517Z",
     "shell.execute_reply.started": "2025-02-06T16:46:59.605209Z"
    },
    "tags": []
   },
   "outputs": [
    {
     "name": "stdout",
     "output_type": "stream",
     "text": [
      "I cannot now a strange report of any of your sorrow's eye,\n",
      "And be it forth to come of this.\n",
      "\n",
      "Clown:\n",
      "Alack, the vile the common of the sea-should success shall put\n",
      "He that runs for his propert to repent;\n",
      "Go, crave I need of men,\n",
      "Should wish me not with me; let him not confederation of my company.\n",
      "\n",
      "KING RICHARD III:\n",
      "Why, she, my lord?\n",
      "\n",
      "KING RICHARD II:\n",
      "What says he?\n",
      "\n",
      "Nurse:\n",
      "What is the frowns of his majesty\n",
      "With all my house to assurance of his love\n",
      "Than thou must be here.\n",
      "\n",
      "Second Citizen:\n",
      "And if thou weep'st off the heart,\n",
      "Or else it will not be long.\n",
      "The gods be seen.\n",
      "\n",
      "First Senator:\n",
      "How canst not say you hear.\n",
      "\n",
      "CLARENCE:\n",
      "And therefore has he dispatch of him,\n",
      "And leave you thus I told you stay.\n",
      "\n",
      "EDWARD:\n",
      "Now the report it. My dear king,\n",
      "For fearing you would seem still will not be proud to have a stubborn and fortune enough not what the heart of heaven,\n",
      "To choose but that the foolish women, and leave me so much some prick'd in a house of Lancaster.\n",
      "\n",
      "PROSPERO:\n",
      "Thou hast lost too late!\n",
      "\n",
      "M\n"
     ]
    }
   ],
   "source": [
    "print(res)"
   ]
  }
 ],
 "metadata": {
  "kernelspec": {
   "display_name": "Python 3 (ipykernel)",
   "language": "python",
   "name": "python3"
  },
  "language_info": {
   "codemirror_mode": {
    "name": "ipython",
    "version": 3
   },
   "file_extension": ".py",
   "mimetype": "text/x-python",
   "name": "python",
   "nbconvert_exporter": "python",
   "pygments_lexer": "ipython3",
   "version": "3.10.14"
  }
 },
 "nbformat": 4,
 "nbformat_minor": 4
}
