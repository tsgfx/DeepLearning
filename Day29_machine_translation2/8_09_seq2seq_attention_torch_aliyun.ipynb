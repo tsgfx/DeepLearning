{
 "cells": [
  {
   "cell_type": "code",
   "metadata": {
    "colab": {
     "base_uri": "https://localhost:8080/"
    },
    "execution": {
     "iopub.execute_input": "2025-02-08T16:03:00.492338Z",
     "iopub.status.busy": "2025-02-08T16:03:00.492075Z",
     "iopub.status.idle": "2025-02-08T16:03:03.879079Z",
     "shell.execute_reply": "2025-02-08T16:03:03.878290Z",
     "shell.execute_reply.started": "2025-02-08T16:03:00.492301Z"
    },
    "id": "WKUPkA0TJzbW",
    "outputId": "909eba98-db9c-482f-fb6b-b20b68bce069",
    "tags": [],
    "ExecuteTime": {
     "end_time": "2025-02-10T08:56:09.059906Z",
     "start_time": "2025-02-10T08:56:04.023632Z"
    }
   },
   "source": [
    "import matplotlib as mpl\n",
    "import matplotlib.pyplot as plt\n",
    "%matplotlib inline\n",
    "import numpy as np\n",
    "import sklearn\n",
    "import pandas as pd\n",
    "import os\n",
    "import sys\n",
    "import time\n",
    "from tqdm.auto import tqdm\n",
    "import torch\n",
    "import torch.nn as nn\n",
    "import torch.nn.functional as F\n",
    "\n",
    "print(sys.version_info)\n",
    "for module in mpl, np, pd, sklearn, torch:\n",
    "    print(module.__name__, module.__version__)\n",
    "\n",
    "device = torch.device(\"cuda:0\") if torch.cuda.is_available() else torch.device(\"cpu\")\n",
    "print(device)\n",
    "\n",
    "seed = 42\n",
    "torch.manual_seed(seed)\n",
    "torch.cuda.manual_seed_all(seed)\n",
    "np.random.seed(seed)"
   ],
   "outputs": [
    {
     "name": "stdout",
     "output_type": "stream",
     "text": [
      "sys.version_info(major=3, minor=12, micro=3, releaselevel='final', serial=0)\n",
      "matplotlib 3.10.0\n",
      "numpy 2.0.2\n",
      "pandas 2.2.3\n",
      "sklearn 1.6.0\n",
      "torch 2.5.1+cu118\n",
      "cuda:0\n"
     ]
    }
   ],
   "execution_count": 1
  },
  {
   "cell_type": "code",
   "metadata": {
    "execution": {
     "iopub.execute_input": "2025-02-08T16:03:03.881245Z",
     "iopub.status.busy": "2025-02-08T16:03:03.880769Z",
     "iopub.status.idle": "2025-02-08T16:03:04.013409Z",
     "shell.execute_reply": "2025-02-08T16:03:04.012342Z",
     "shell.execute_reply.started": "2025-02-08T16:03:03.881216Z"
    },
    "tags": [],
    "ExecuteTime": {
     "end_time": "2025-02-10T08:56:09.115049Z",
     "start_time": "2025-02-10T08:56:09.061914Z"
    }
   },
   "source": [
    "!pwd"
   ],
   "outputs": [
    {
     "name": "stdout",
     "output_type": "stream",
     "text": [
      "/g/wangdao_python_short_class/DeepLearning/Day29_machine_translation2\n"
     ]
    }
   ],
   "execution_count": 2
  },
  {
   "cell_type": "markdown",
   "metadata": {
    "id": "pSNcMyqvJzbY"
   },
   "source": [
    "## 数据加载\n"
   ]
  },
  {
   "cell_type": "markdown",
   "metadata": {},
   "source": [
    "### 数据清洗"
   ]
  },
  {
   "cell_type": "code",
   "metadata": {
    "ExecutionIndicator": {
     "show": true
    },
    "colab": {
     "base_uri": "https://localhost:8080/"
    },
    "execution": {
     "iopub.execute_input": "2025-02-08T16:03:04.015127Z",
     "iopub.status.busy": "2025-02-08T16:03:04.014701Z",
     "iopub.status.idle": "2025-02-08T16:03:04.071595Z",
     "shell.execute_reply": "2025-02-08T16:03:04.070733Z",
     "shell.execute_reply.started": "2025-02-08T16:03:04.015091Z"
    },
    "id": "Dm1DrSCLJzbZ",
    "outputId": "ab7f8ef9-6119-4d2b-df23-7cc04f617802",
    "tags": [],
    "ExecuteTime": {
     "end_time": "2025-02-10T08:56:09.201675Z",
     "start_time": "2025-02-10T08:56:09.116048Z"
    }
   },
   "source": [
    "import unicodedata\n",
    "import re\n",
    "from sklearn.model_selection import train_test_split\n",
    "\n",
    "# 因为西班牙语中有一些特殊字符，我们需要将Unicode字符转换为ASCII字符，\n",
    "# 这样可以减少字符的大小，因为Unicode字符集较大。\n",
    "def unicode_to_ascii(s):\n",
    "    # 使用NFD方法进行Unicode规范化，将字符分解为基本字符和重音符号。\n",
    "    # 'Mn'表示非间距标记（如重音符号），我们通过过滤掉这些标记来去除重音。\n",
    "    return ''.join(c for c in unicodedata.normalize('NFD', s) if unicodedata.category(c) != 'Mn')\n",
    "\n",
    "# 下面我们使用一个样本来测试这个函数。\n",
    "# 在字符串前加'u'表示对字符串进行Unicode编码。\n",
    "en_sentence = u\"May I borrow this book?\"  # 英语句子\n",
    "sp_sentence = u\"¿Puedo tomar prestado este libro?\"  # 西班牙语句子\n",
    "\n",
    "# 打印转换后的句子\n",
    "print(unicode_to_ascii(en_sentence))  # 输出: May I borrow this book?\n",
    "print(unicode_to_ascii(sp_sentence))  # 输出: ¿Puedo tomar prestado este libro?"
   ],
   "outputs": [
    {
     "name": "stdout",
     "output_type": "stream",
     "text": [
      "May I borrow this book?\n",
      "¿Puedo tomar prestado este libro?\n"
     ]
    }
   ],
   "execution_count": 3
  },
  {
   "cell_type": "code",
   "metadata": {
    "ExecutionIndicator": {
     "show": true
    },
    "collapsed": false,
    "execution": {
     "iopub.execute_input": "2025-02-08T16:03:04.073472Z",
     "iopub.status.busy": "2025-02-08T16:03:04.072574Z",
     "iopub.status.idle": "2025-02-08T16:03:04.081780Z",
     "shell.execute_reply": "2025-02-08T16:03:04.080945Z",
     "shell.execute_reply.started": "2025-02-08T16:03:04.073433Z"
    },
    "jupyter": {
     "outputs_hidden": false
    },
    "tags": [],
    "ExecuteTime": {
     "end_time": "2025-02-10T08:56:09.207667Z",
     "start_time": "2025-02-10T08:56:09.202872Z"
    }
   },
   "source": [
    "def preprocess_sentence(w):\n",
    "    # 将句子转换为小写，并去掉开头和结尾的多余空格\n",
    "    # 同时调用 unicode_to_ascii 函数将特殊字符转换为 ASCII 字符\n",
    "    w = unicode_to_ascii(w.lower().strip())\n",
    "    # 在单词与标点符号之间插入空格\n",
    "    # 例如：\"he is a boy.\" => \"he is a boy . \"\n",
    "    # 参考：https://stackoverflow.com/questions/3645931/python-padding-punctuation-with-white-spaces-keeping-punctuation\n",
    "    w = re.sub(r\"([?.!,¿])\", r\" \\1 \", w)\n",
    "    # 将多个连续空格替换为单个空格\n",
    "    w = re.sub(r'[\" \"]+', \" \", w)\n",
    "    # 只保留字母和部分标点符号（a-z, A-Z, \".\", \"?\", \"!\", \",\"），其他字符替换为空格\n",
    "    w = re.sub(r\"[^a-zA-Z?.!,¿]+\", \" \", w)\n",
    "    # 去掉句子开头和结尾的空格\n",
    "    w = w.rstrip().strip()\n",
    "    return w\n",
    "\n",
    "# 测试预处理函数\n",
    "print(preprocess_sentence(en_sentence))  # 输出: may i borrow this book ?\n",
    "print(preprocess_sentence(sp_sentence))  # 输出: ¿ puedo tomar prestado este libro ?\n",
    "\n",
    "# 打印西班牙语句子的 UTF-8 编码\n",
    "# 注意：¿ 是占用两个字节的字符\n",
    "print(preprocess_sentence(sp_sentence).encode('utf-8'))  # 输出: b' \\xc2\\xbf puedo tomar prestado este libro ?'"
   ],
   "outputs": [
    {
     "name": "stdout",
     "output_type": "stream",
     "text": [
      "may i borrow this book ?\n",
      "¿ puedo tomar prestado este libro ?\n",
      "b'\\xc2\\xbf puedo tomar prestado este libro ?'\n"
     ]
    }
   ],
   "execution_count": 4
  },
  {
   "cell_type": "markdown",
   "metadata": {
    "id": "YyJksrNmJzba"
   },
   "source": [
    "### Dataset\n",
    "把英语和西班牙语分开"
   ]
  },
  {
   "cell_type": "code",
   "metadata": {
    "ExecutionIndicator": {
     "show": true
    },
    "collapsed": false,
    "execution": {
     "iopub.execute_input": "2025-02-08T16:03:04.083037Z",
     "iopub.status.busy": "2025-02-08T16:03:04.082717Z",
     "iopub.status.idle": "2025-02-08T16:03:04.087607Z",
     "shell.execute_reply": "2025-02-08T16:03:04.086791Z",
     "shell.execute_reply.started": "2025-02-08T16:03:04.083011Z"
    },
    "jupyter": {
     "outputs_hidden": false
    },
    "tags": [],
    "ExecuteTime": {
     "end_time": "2025-02-10T08:56:09.213402Z",
     "start_time": "2025-02-10T08:56:09.209778Z"
    }
   },
   "source": [
    "# 例子：使用zip\n",
    "# 定义一个包含多个子列表的列表\n",
    "a = [[1, 2], [4, 5], [7, 8]]\n",
    "# 使用 zip(*a) 对列表进行解包和重新组合\n",
    "# *a 表示将 a 中的子列表作为单独的参数传递给 zip 函数\n",
    "# zip 函数会将每个子列表中相同位置的元素组合成一个元组\n",
    "zipped = list(zip(*a))\n",
    "# 打印结果\n",
    "print(zipped)"
   ],
   "outputs": [
    {
     "name": "stdout",
     "output_type": "stream",
     "text": [
      "[(1, 4, 7), (2, 5, 8)]\n"
     ]
    }
   ],
   "execution_count": 5
  },
  {
   "cell_type": "code",
   "metadata": {
    "ExecutionIndicator": {
     "show": true
    },
    "collapsed": false,
    "execution": {
     "iopub.execute_input": "2025-02-08T16:03:04.088719Z",
     "iopub.status.busy": "2025-02-08T16:03:04.088418Z",
     "iopub.status.idle": "2025-02-08T16:03:04.096503Z",
     "shell.execute_reply": "2025-02-08T16:03:04.095742Z",
     "shell.execute_reply.started": "2025-02-08T16:03:04.088691Z"
    },
    "jupyter": {
     "outputs_hidden": false
    },
    "tags": [],
    "ExecuteTime": {
     "end_time": "2025-02-10T08:56:09.218985Z",
     "start_time": "2025-02-10T08:56:09.213402Z"
    }
   },
   "source": [
    "# 例子：np.random.choice()划分训练集和测试集\n",
    "# 生成一个大小为 100 的数组，数组中的值为 \"train\" 或 \"test\"\n",
    "# 选择 \"train\" 和 \"test\" 的概率分别为 0.9 和 0.1\n",
    "# replace=True 表示允许重复抽样\n",
    "split_index1 = np.random.choice(a=[\"train\", \"test\"], replace=True, p=[0.9, 0.1], size=100)\n",
    "# 输出生成的随机分类索引\n",
    "split_index1"
   ],
   "outputs": [
    {
     "data": {
      "text/plain": [
       "array(['train', 'test', 'train', 'train', 'train', 'train', 'train',\n",
       "       'train', 'train', 'train', 'train', 'test', 'train', 'train',\n",
       "       'train', 'train', 'train', 'train', 'train', 'train', 'train',\n",
       "       'train', 'train', 'train', 'train', 'train', 'train', 'train',\n",
       "       'train', 'train', 'train', 'train', 'train', 'test', 'test',\n",
       "       'train', 'train', 'train', 'train', 'train', 'train', 'train',\n",
       "       'train', 'test', 'train', 'train', 'train', 'train', 'train',\n",
       "       'train', 'test', 'train', 'test', 'train', 'train', 'test',\n",
       "       'train', 'train', 'train', 'train', 'train', 'train', 'train',\n",
       "       'train', 'train', 'train', 'train', 'train', 'train', 'test',\n",
       "       'train', 'train', 'train', 'train', 'train', 'train', 'train',\n",
       "       'train', 'train', 'train', 'train', 'train', 'train', 'train',\n",
       "       'train', 'train', 'train', 'train', 'train', 'train', 'train',\n",
       "       'train', 'train', 'train', 'train', 'train', 'train', 'train',\n",
       "       'train', 'train'], dtype='<U5')"
      ]
     },
     "execution_count": 6,
     "metadata": {},
     "output_type": "execute_result"
    }
   ],
   "execution_count": 6
  },
  {
   "cell_type": "code",
   "metadata": {
    "execution": {
     "iopub.execute_input": "2025-02-08T16:03:04.099280Z",
     "iopub.status.busy": "2025-02-08T16:03:04.098957Z",
     "iopub.status.idle": "2025-02-08T16:03:04.230840Z",
     "shell.execute_reply": "2025-02-08T16:03:04.229738Z",
     "shell.execute_reply.started": "2025-02-08T16:03:04.099246Z"
    },
    "tags": [],
    "ExecuteTime": {
     "end_time": "2025-02-10T08:56:09.290458Z",
     "start_time": "2025-02-10T08:56:09.218985Z"
    }
   },
   "source": [
    "!wc -l data_spa_en/spa.txt"
   ],
   "outputs": [
    {
     "name": "stdout",
     "output_type": "stream",
     "text": [
      "118964 data_spa_en/spa.txt\n"
     ]
    }
   ],
   "execution_count": 7
  },
  {
   "cell_type": "code",
   "metadata": {
    "execution": {
     "iopub.execute_input": "2025-02-08T16:03:04.233013Z",
     "iopub.status.busy": "2025-02-08T16:03:04.232436Z",
     "iopub.status.idle": "2025-02-08T16:03:04.281000Z",
     "shell.execute_reply": "2025-02-08T16:03:04.279967Z",
     "shell.execute_reply.started": "2025-02-08T16:03:04.232957Z"
    },
    "ExecuteTime": {
     "end_time": "2025-02-10T08:56:09.315083Z",
     "start_time": "2025-02-10T08:56:09.290458Z"
    }
   },
   "source": [
    "# 查看分隔符\n",
    "with open(\"./data_spa_en/spa.txt\", \"r\", encoding=\"utf-8\") as f:\n",
    "    lines = f.readlines()\n",
    "\n",
    "# 只查看前几行\n",
    "for line in lines[:5]:\n",
    "    print(repr(line))  # 用 repr() 让隐藏字符（如 \\t）可见"
   ],
   "outputs": [
    {
     "name": "stdout",
     "output_type": "stream",
     "text": [
      "'Go.\\tVe.\\n'\n",
      "'Go.\\tVete.\\n'\n",
      "'Go.\\tVaya.\\n'\n",
      "'Go.\\tVáyase.\\n'\n",
      "'Hi.\\tHola.\\n'\n"
     ]
    }
   ],
   "execution_count": 8
  },
  {
   "cell_type": "code",
   "metadata": {
    "ExecutionIndicator": {
     "show": true
    },
    "execution": {
     "iopub.execute_input": "2025-02-08T16:03:04.283011Z",
     "iopub.status.busy": "2025-02-08T16:03:04.282489Z",
     "iopub.status.idle": "2025-02-08T16:03:04.955037Z",
     "shell.execute_reply": "2025-02-08T16:03:04.954192Z",
     "shell.execute_reply.started": "2025-02-08T16:03:04.282964Z"
    },
    "id": "-VnoIKhaJzba",
    "tags": [],
    "ExecuteTime": {
     "end_time": "2025-02-10T08:56:09.627235Z",
     "start_time": "2025-02-10T08:56:09.316081Z"
    }
   },
   "source": [
    "from pathlib import Path\n",
    "from torch.utils.data import Dataset, DataLoader\n",
    "\n",
    "class LangPairDataset(Dataset):\n",
    "    fpath = Path(r\"./data_spa_en/spa.txt\")  # 数据文件路径\n",
    "    cache_path = Path(r\"./.cache/lang_pair.npy\")  # 缓存文件路径\n",
    "    split_index = np.random.choice(a=[\"train\", \"test\"], replace=True, p=[0.9, 0.1], size=118964)  # 生成 118964 个 \"train\" 或 \"test\" 标签，按 9:1 的比例划分数据集\n",
    "\n",
    "    def __init__(self, mode=\"train\", cache=False):\n",
    "        if cache or not self.cache_path.exists():  # 如果缓存不存在或者需要重新缓存，则处理数据\n",
    "            self.cache_path.parent.mkdir(parents=True, exist_ok=True)  # 创建缓存目录（如果不存在）\n",
    "            with open(self.fpath, \"r\", encoding=\"utf8\") as file:\n",
    "                lines = file.readlines()  # 读取数据文件中的所有行\n",
    "                lang_pair = [[preprocess_sentence(w) for w in l.split('\\t')] for l in lines]  # 预处理句子，并转换成 (目标语言, 源语言) 格式\n",
    "                trg, src = zip(*lang_pair)  # 拆分目标语言（英语）和源语言（西班牙语）\n",
    "                trg = np.array(trg)  # 转换为 NumPy 数组\n",
    "                src = np.array(src)  # 转换为 NumPy 数组\n",
    "                np.save(self.cache_path, {\"trg\": trg, \"src\": src})  # 以字典形式保存数据到缓存文件\n",
    "        else:\n",
    "            lang_pair = np.load(self.cache_path, allow_pickle=True).item()  # 读取缓存文件\n",
    "            trg = lang_pair[\"trg\"]  # 加载目标语言数据\n",
    "            src = lang_pair[\"src\"]  # 加载源语言数据\n",
    "\n",
    "        # 根据 split_index 进行数据划分\n",
    "        self.trg = trg[self.split_index == mode]  # 获取 mode 指定的目标语言数据\n",
    "        self.src = src[self.split_index == mode]  # 获取 mode 指定的源语言数据\n",
    "\n",
    "    # 用于数据索引\n",
    "    def __getitem__(self, index):\n",
    "        return self.src[index], self.trg[index]  # 返回源语言和目标语言句子对\n",
    "\n",
    "    # 用于数据集大小\n",
    "    def __len__(self):\n",
    "        return len(self.src)  # 返回数据集大小\n",
    "\n",
    "# 创建训练集和测试集\n",
    "train_ds = LangPairDataset(\"train\")\n",
    "test_ds = LangPairDataset(\"test\")"
   ],
   "outputs": [],
   "execution_count": 9
  },
  {
   "cell_type": "code",
   "metadata": {
    "execution": {
     "iopub.execute_input": "2025-02-08T16:03:04.956646Z",
     "iopub.status.busy": "2025-02-08T16:03:04.956153Z",
     "iopub.status.idle": "2025-02-08T16:03:04.962361Z",
     "shell.execute_reply": "2025-02-08T16:03:04.961417Z",
     "shell.execute_reply.started": "2025-02-08T16:03:04.956601Z"
    },
    "ExecuteTime": {
     "end_time": "2025-02-10T08:56:09.631774Z",
     "start_time": "2025-02-10T08:56:09.628235Z"
    }
   },
   "source": [
    "print(\"source: {}\\ntarget: {}\".format(*train_ds[-1]))\n",
    "# 打印train_ds的大小\n",
    "print(len(train_ds))\n",
    "# 打印test_ds的大小\n",
    "print(len(test_ds))"
   ],
   "outputs": [
    {
     "name": "stdout",
     "output_type": "stream",
     "text": [
      "source: si quieres sonar como un hablante nativo , debes estar dispuesto a practicar diciendo la misma frase una y otra vez de la misma manera en que un musico de banjo practica el mismo fraseo una y otra vez hasta que lo puedan tocar correctamente y en el tiempo esperado .\n",
      "target: if you want to sound like a native speaker , you must be willing to practice saying the same sentence over and over in the same way that banjo players practice the same phrase over and over until they can play it correctly and at the desired tempo .\n",
      "107259\n",
      "11705\n"
     ]
    }
   ],
   "execution_count": 10
  },
  {
   "cell_type": "markdown",
   "metadata": {},
   "source": []
  },
  {
   "cell_type": "markdown",
   "metadata": {
    "id": "9mzBlPtGJzbb"
   },
   "source": [
    "### Tokenizer\n",
    "\n",
    "这里有两种处理方式，分别对应着 encoder 和 decoder 的 word embedding 是否共享，这里实现不共享的方案。"
   ]
  },
  {
   "cell_type": "markdown",
   "metadata": {},
   "source": [
    "#### 生成词表"
   ]
  },
  {
   "cell_type": "code",
   "metadata": {
    "ExecutionIndicator": {
     "show": false
    },
    "execution": {
     "iopub.execute_input": "2025-02-08T16:03:04.964171Z",
     "iopub.status.busy": "2025-02-08T16:03:04.963624Z",
     "iopub.status.idle": "2025-02-08T16:03:05.822690Z",
     "shell.execute_reply": "2025-02-08T16:03:05.821693Z",
     "shell.execute_reply.started": "2025-02-08T16:03:04.964127Z"
    },
    "id": "fMSIczSnJzbb",
    "tags": [],
    "ExecuteTime": {
     "end_time": "2025-02-10T08:56:10.081679Z",
     "start_time": "2025-02-10T08:56:09.632772Z"
    }
   },
   "source": [
    "from collections import Counter\n",
    "\n",
    "def get_word_idx(ds, mode=\"src\", threshold=2):\n",
    "    # 载入词表，初始化特殊 token\n",
    "    word2idx = {\n",
    "        \"[PAD]\": 0,     # 填充 token\n",
    "        \"[BOS]\": 1,     # 句子起始 token\n",
    "        \"[UNK]\": 2,     # 未知 token\n",
    "        \"[EOS]\": 3,     # 句子结束 token\n",
    "    }\n",
    "    idx2word = {value: key for key, value in word2idx.items()}  # 反向词表：索引 -> 词\n",
    "    index = len(idx2word)  # 记录当前索引，方便后续添加单词\n",
    "    threshold = 1  # 设定词频阈值，出现次数低于此的 token 被舍弃\n",
    "\n",
    "    # 提取数据集中指定语言 (src 或 trg) 的所有文本\n",
    "    # `ds` 是一个数据集，其中每个元素是一个 (src, trg) 对\n",
    "    # 如果 mode 为 \"src\"，选择 pair[0]（源语言）；否则选择 pair[1]（目标语言）\n",
    "    word_list = \" \".join([pair[0 if mode == \"src\" else 1] for pair in ds]).split()\n",
    "\n",
    "    # 统计词频，Counter 是一个字典，键为单词，值为出现次数\n",
    "    counter = Counter(word_list)\n",
    "    print(\"word count:\", len(counter))  # 输出词表大小\n",
    "\n",
    "    # 遍历词频统计结果，将频率大于等于 threshold 的单词加入词表\n",
    "    for token, count in counter.items():\n",
    "        if count >= threshold:\n",
    "            word2idx[token] = index  # 词表：单词 -> 索引\n",
    "            idx2word[index] = token  # 反向词表：索引 -> 单词\n",
    "            index += 1  # 更新索引\n",
    "\n",
    "    return word2idx, idx2word  # 返回词表和反向词表\n",
    "\n",
    "# 生成源语言（西班牙语）的词表\n",
    "src_word2idx, src_idx2word = get_word_idx(train_ds, \"src\")\n",
    "# 生成目标语言（英语）的词表\n",
    "trg_word2idx, trg_idx2word = get_word_idx(train_ds, \"trg\")"
   ],
   "outputs": [
    {
     "name": "stdout",
     "output_type": "stream",
     "text": [
      "word count: 23715\n",
      "word count: 12500\n"
     ]
    }
   ],
   "execution_count": 11
  },
  {
   "cell_type": "code",
   "metadata": {
    "execution": {
     "iopub.execute_input": "2025-02-08T16:03:05.824500Z",
     "iopub.status.busy": "2025-02-08T16:03:05.823960Z",
     "iopub.status.idle": "2025-02-08T16:03:05.830689Z",
     "shell.execute_reply": "2025-02-08T16:03:05.829710Z",
     "shell.execute_reply.started": "2025-02-08T16:03:05.824454Z"
    },
    "ExecuteTime": {
     "end_time": "2025-02-10T08:56:10.086258Z",
     "start_time": "2025-02-10T08:56:10.082688Z"
    }
   },
   "source": [
    "# 查看去除低频词的词表\n",
    "print(\"src_word2idx:\", len(src_word2idx))\n",
    "print(\"src_idx2word:\", len(src_idx2word))\n",
    "print(\"trg_word2idx:\", len(trg_word2idx))\n",
    "print(\"trg_idx2word:\", len(trg_idx2word))"
   ],
   "outputs": [
    {
     "name": "stdout",
     "output_type": "stream",
     "text": [
      "src_word2idx: 23719\n",
      "src_idx2word: 23719\n",
      "trg_word2idx: 12504\n",
      "trg_idx2word: 12504\n"
     ]
    }
   ],
   "execution_count": 12
  },
  {
   "cell_type": "markdown",
   "metadata": {},
   "source": [
    "#### encode 和 decode"
   ]
  },
  {
   "cell_type": "code",
   "metadata": {
    "ExecutionIndicator": {
     "show": true
    },
    "colab": {
     "base_uri": "https://localhost:8080/"
    },
    "execution": {
     "iopub.execute_input": "2025-02-08T16:03:05.832519Z",
     "iopub.status.busy": "2025-02-08T16:03:05.832094Z",
     "iopub.status.idle": "2025-02-08T16:03:05.847443Z",
     "shell.execute_reply": "2025-02-08T16:03:05.846718Z",
     "shell.execute_reply.started": "2025-02-08T16:03:05.832476Z"
    },
    "id": "9_IjY_wIJzbb",
    "outputId": "f2bf8be3-ec47-48e2-b743-1d2dbd511adc",
    "tags": [],
    "ExecuteTime": {
     "end_time": "2025-02-10T08:56:10.094012Z",
     "start_time": "2025-02-10T08:56:10.087257Z"
    }
   },
   "source": [
    "class Tokenizer:\n",
    "    def __init__(self, word2idx, idx2word, max_length=500, pad_idx=0, bos_idx=1, eos_idx=3, unk_idx=2):\n",
    "        # 词汇表映射\n",
    "        self.word2idx = word2idx  # 词 -> 索引\n",
    "        self.idx2word = idx2word  # 索引 -> 词\n",
    "        self.max_length = max_length  # 最大序列长度\n",
    "        self.pad_idx = pad_idx  # 填充索引\n",
    "        self.bos_idx = bos_idx  # 句子起始符索引\n",
    "        self.eos_idx = eos_idx  # 句子结束符索引\n",
    "        self.unk_idx = unk_idx  # 未知词索引\n",
    "\n",
    "    def encode(self, text_list, padding_first=False, add_bos=True, add_eos=True, return_mask=False):\n",
    "        \"\"\"\n",
    "        将文本列表编码为索引序列，并进行填充。\n",
    "        参数：\n",
    "        - text_list: 输入文本的列表，每个元素是一个单词列表。\n",
    "        - padding_first: 是否将填充 [PAD] 加在序列前面，默认为 False（填充在后面）。\n",
    "        - add_bos: 是否在序列前添加 [BOS] 标记。\n",
    "        - add_eos: 是否在序列后添加 [EOS] 标记。\n",
    "        - return_mask: 是否返回填充掩码，掩码用于指示哪些部分是填充，哪些是真实 token。\n",
    "        返回：\n",
    "        - input_ids: 转换后的索引张量（torch.Tensor）。\n",
    "        - masks（可选）: 掩码张量（torch.Tensor），填充部分为 1，非填充部分为 0。\n",
    "        \"\"\"\n",
    "        max_length = min(self.max_length, add_eos + add_bos + max([len(text) for text in text_list]))  # 计算最大序列长度，在500和批次的最大值中取小者\n",
    "        indices_list = []\n",
    "\n",
    "        for text in text_list:\n",
    "            # 将文本转换为索引，若单词不在词表中则使用 unk_idx\n",
    "            indices = [self.word2idx.get(word, self.unk_idx) for word in text[:max_length - add_bos - add_eos]] # 如果word存在，则取索引，否则取unk_idx\n",
    "\n",
    "            # 添加起始符 [BOS] 和结束符 [EOS]\n",
    "            if add_bos:\n",
    "                indices = [self.bos_idx] + indices\n",
    "            if add_eos:\n",
    "                indices = indices + [self.eos_idx]\n",
    "\n",
    "            # 根据 padding_first 选择填充方式\n",
    "            if padding_first:\n",
    "                indices = [self.pad_idx] * (max_length - len(indices)) + indices\n",
    "            else:\n",
    "                indices = indices + [self.pad_idx] * (max_length - len(indices))\n",
    "\n",
    "            indices_list.append(indices)\n",
    "\n",
    "        input_ids = torch.tensor(indices_list)  # 转换为张量\n",
    "        masks = (input_ids == self.pad_idx).to(dtype=torch.int64)  # 生成掩码：填充部分为 1，非填充部分为 0\n",
    "\n",
    "        return input_ids if not return_mask else (input_ids, masks)\n",
    "\n",
    "    def decode(self, indices_list, remove_bos=True, remove_eos=True, remove_pad=True, split=False):\n",
    "        \"\"\"\n",
    "        将索引序列解码回文本。\n",
    "        参数：\n",
    "        - indices_list: 需要解码的索引列表，每个元素是一个索引序列。\n",
    "        - remove_bos: 是否移除 [BOS] 。\n",
    "        - remove_eos: 是否移除 [EOS] 。\n",
    "        - remove_pad: 是否移除 [PAD] 。\n",
    "        - split: 是否返回单词列表（True），否则返回字符串（False）。\n",
    "        返回：\n",
    "        - text_list: 解码后的文本列表。\n",
    "        \"\"\"\n",
    "        text_list = []\n",
    "\n",
    "        for indices in indices_list:\n",
    "            text = []\n",
    "            for index in indices:\n",
    "                word = self.idx2word.get(index, \"[UNK]\")  # 获取单词，如果索引不存在则替换为 [UNK]\n",
    "\n",
    "                # 根据参数决定是否移除特殊标记\n",
    "                if remove_bos and word == \"[BOS]\":\n",
    "                    continue\n",
    "                if remove_eos and word == \"[EOS]\":\n",
    "                    break\n",
    "                if remove_pad and word == \"[PAD]\":\n",
    "                    break\n",
    "\n",
    "                text.append(word)  # 添加单词\n",
    "\n",
    "            text_list.append(\" \".join(text) if not split else text)  # 连接单词形成句子\n",
    "\n",
    "        return text_list\n",
    "\n",
    "# 生成源语言（西班牙语）和目标语言（英语）的 Tokenizer\n",
    "src_tokenizer = Tokenizer(word2idx=src_word2idx, idx2word=src_idx2word)  # 源语言 tokenizer\n",
    "trg_tokenizer = Tokenizer(word2idx=trg_word2idx, idx2word=trg_idx2word)  # 目标语言 tokenizer"
   ],
   "outputs": [],
   "execution_count": 13
  },
  {
   "cell_type": "code",
   "metadata": {
    "execution": {
     "iopub.execute_input": "2025-02-08T16:03:05.848867Z",
     "iopub.status.busy": "2025-02-08T16:03:05.848286Z",
     "iopub.status.idle": "2025-02-08T16:03:05.859733Z",
     "shell.execute_reply": "2025-02-08T16:03:05.859076Z",
     "shell.execute_reply.started": "2025-02-08T16:03:05.848838Z"
    },
    "ExecuteTime": {
     "end_time": "2025-02-10T08:56:10.121987Z",
     "start_time": "2025-02-10T08:56:10.096016Z"
    }
   },
   "source": [
    "# 测试 encode 和 decode 功能\n",
    "raw_text = [\n",
    "    \"hello world\".split(),\n",
    "    \"tokenize text datas with batch\".split(),\n",
    "    \"this is a test\".split()\n",
    "]\n",
    "# 编码文本\n",
    "indices, mask = trg_tokenizer.encode(raw_text, padding_first=False, add_bos=True, add_eos=True, return_mask=True)\n",
    "# 解码索引\n",
    "decode_text = trg_tokenizer.decode(indices.tolist(), remove_bos=False, remove_eos=False, remove_pad=False)\n",
    "\n",
    "# 打印测试结果\n",
    "print('-' * 10 + \"raw text\" + '-' * 10)\n",
    "for raw in raw_text:\n",
    "    print(raw)\n",
    "\n",
    "print('-' * 10 + \"mask\" + '-' * 10)\n",
    "for m in mask:\n",
    "    print(m)\n",
    "\n",
    "print('-' * 10 + \"indices\" + '-' * 10)\n",
    "for index in indices:\n",
    "    print(index)\n",
    "\n",
    "print('-' * 10 + \"decode text\" + '-' * 10)\n",
    "for decode in decode_text:\n",
    "    print(decode)"
   ],
   "outputs": [
    {
     "name": "stdout",
     "output_type": "stream",
     "text": [
      "----------raw text----------\n",
      "['hello', 'world']\n",
      "['tokenize', 'text', 'datas', 'with', 'batch']\n",
      "['this', 'is', 'a', 'test']\n",
      "----------mask----------\n",
      "tensor([0, 0, 0, 0, 1, 1, 1])\n",
      "tensor([0, 0, 0, 0, 0, 0, 0])\n",
      "tensor([0, 0, 0, 0, 0, 0, 1])\n",
      "----------indices----------\n",
      "tensor([   1,   16, 3218,    3,    0,    0,    0])\n",
      "tensor([   1,    2, 3878,    2,  552,    2,    3])\n",
      "tensor([   1,  117,  235,  103, 2896,    3,    0])\n",
      "----------decode text----------\n",
      "[BOS] hello world [EOS] [PAD] [PAD] [PAD]\n",
      "[BOS] [UNK] text [UNK] with [UNK] [EOS]\n",
      "[BOS] this is a test [EOS] [PAD]\n"
     ]
    }
   ],
   "execution_count": 14
  },
  {
   "cell_type": "markdown",
   "metadata": {
    "id": "S8BDjaa1Jzbc"
   },
   "source": [
    "### DataLoader"
   ]
  },
  {
   "cell_type": "code",
   "metadata": {
    "ExecutionIndicator": {
     "show": true
    },
    "execution": {
     "iopub.execute_input": "2025-02-08T16:03:05.860911Z",
     "iopub.status.busy": "2025-02-08T16:03:05.860583Z",
     "iopub.status.idle": "2025-02-08T16:03:05.867911Z",
     "shell.execute_reply": "2025-02-08T16:03:05.867181Z",
     "shell.execute_reply.started": "2025-02-08T16:03:05.860886Z"
    },
    "id": "sPwlGzn8Jzbc",
    "tags": [],
    "ExecuteTime": {
     "end_time": "2025-02-10T08:56:10.127120Z",
     "start_time": "2025-02-10T08:56:10.122992Z"
    }
   },
   "source": [
    "def collate_fct(batch):\n",
    "    # 处理批次中的每个样本，将每个句子按照空格分开成词\n",
    "    src_words = [pair[0].split() for pair in batch]  # 处理源语言（如西班牙语）的句子\n",
    "    trg_words = [pair[1].split() for pair in batch]  # 处理目标语言（如英语）的句子\n",
    "\n",
    "    # 通过 tokenizer 对源语言进行编码，返回编码后的输入和掩码\n",
    "    # [PAD] [BOS] src [EOS] --> 对源语言句子进行编码，添加 [PAD]、[BOS] 和 [EOS] 标记\n",
    "    encoder_inputs, encoder_inputs_mask = src_tokenizer.encode(\n",
    "        src_words, padding_first=True, add_bos=True, add_eos=True, return_mask=True\n",
    "    )\n",
    "\n",
    "    # 通过 tokenizer 对目标语言进行编码，返回编码后的输入\n",
    "    # [BOS] trg [PAD] --> 对目标语言句子进行编码，只添加 [BOS] 标记，不添加 [EOS]，并进行填充\n",
    "    decoder_inputs = trg_tokenizer.encode(\n",
    "        trg_words, padding_first=False, add_bos=True, add_eos=False, return_mask=False\n",
    "    )\n",
    "\n",
    "    # 对目标语言的标签进行编码，返回编码后的标签和掩码\n",
    "    # trg [EOS] [PAD] --> 对目标语言句子进行编码，添加 [EOS] 和填充，没有 [BOS]\n",
    "    decoder_labels, decoder_labels_mask = trg_tokenizer.encode(\n",
    "        trg_words, padding_first=False, add_bos=False, add_eos=True, return_mask=True\n",
    "    )\n",
    "\n",
    "    # 返回一个字典，包含所有模型需要的输入和标签\n",
    "    # 将所有数据转移到设备（如 GPU）上\n",
    "    return {\n",
    "        \"encoder_inputs\": encoder_inputs.to(device=device),  # 源语言输入\n",
    "        \"encoder_inputs_mask\": encoder_inputs_mask.to(device=device),  # 源语言的掩码（padding mask），用于不计算encode时padding的注意力\n",
    "        \"decoder_inputs\": decoder_inputs.to(device=device),  # 目标语言输入\n",
    "        \"decoder_labels\": decoder_labels.to(device=device),  # 目标语言的标签（用于计算损失）\n",
    "        \"decoder_labels_mask\": decoder_labels_mask.to(device=device),  # 目标语言标签的掩码（padding mask），用于去除padding的影响，在计算loss时使用，即不计算padding的loss\n",
    "    }\n",
    "    # 返回的数据通过字典的形式进行组织，便于模型处理"
   ],
   "outputs": [],
   "execution_count": 15
  },
  {
   "cell_type": "code",
   "metadata": {
    "colab": {
     "base_uri": "https://localhost:8080/"
    },
    "execution": {
     "iopub.execute_input": "2025-02-08T16:03:05.869153Z",
     "iopub.status.busy": "2025-02-08T16:03:05.868807Z",
     "iopub.status.idle": "2025-02-08T16:03:06.163915Z",
     "shell.execute_reply": "2025-02-08T16:03:06.163136Z",
     "shell.execute_reply.started": "2025-02-08T16:03:05.869127Z"
    },
    "id": "_JsuutYAJzbc",
    "outputId": "fd68e596-ed01-4bae-d731-c27f5a758a6c",
    "tags": [],
    "ExecuteTime": {
     "end_time": "2025-02-10T08:56:10.341534Z",
     "start_time": "2025-02-10T08:56:10.128119Z"
    }
   },
   "source": [
    "# 使用 DataLoader 加载训练数据集\n",
    "sample_dl = DataLoader(\n",
    "    train_ds,         # 训练数据集\n",
    "    batch_size=64,     # 每个 batch 的样本数量\n",
    "    shuffle=True,     # 是否对数据进行随机打乱\n",
    "    collate_fn=collate_fct  # 指定数据整理（collate）函数，处理 batch 内数据格式\n",
    ")\n",
    "\n",
    "# 遍历 DataLoader 获取一个 batch 数据，一个batch有多个样本\n",
    "for batch in sample_dl:\n",
    "    # 遍历 batch 字典中的键值对，查看数据内容\n",
    "    for key, value in batch.items():\n",
    "        print(key)   # 打印数据键（如 encoder_inputs、decoder_inputs 等）\n",
    "        print(value) # 打印对应的张量数据\n",
    "    break  # 仅打印第一个 batch，避免输出过多数据"
   ],
   "outputs": [
    {
     "name": "stdout",
     "output_type": "stream",
     "text": [
      "encoder_inputs\n",
      "tensor([[   0,    0,    0,  ...,   50,    5,    3],\n",
      "        [   0,    0,    0,  ..., 3758,    5,    3],\n",
      "        [   0,    0,    0,  ..., 2997,    5,    3],\n",
      "        ...,\n",
      "        [   0,    0,    0,  ...,   50,    5,    3],\n",
      "        [   0,    0,    0,  ..., 5540,    5,    3],\n",
      "        [   0,    0,    0,  ..., 4467,    5,    3]], device='cuda:0')\n",
      "encoder_inputs_mask\n",
      "tensor([[1, 1, 1,  ..., 0, 0, 0],\n",
      "        [1, 1, 1,  ..., 0, 0, 0],\n",
      "        [1, 1, 1,  ..., 0, 0, 0],\n",
      "        ...,\n",
      "        [1, 1, 1,  ..., 0, 0, 0],\n",
      "        [1, 1, 1,  ..., 0, 0, 0],\n",
      "        [1, 1, 1,  ..., 0, 0, 0]], device='cuda:0')\n",
      "decoder_inputs\n",
      "tensor([[    1,    17,    32,   516,    30,  1088,  1577,     5,     0,     0,\n",
      "             0,     0,     0,     0,     0],\n",
      "        [    1,    47,  2976,   689,  5400,  2238,   634,    29,     5,     0,\n",
      "             0,     0,     0,     0,     0],\n",
      "        [    1,    17,  1513,   103,   576,     5,     0,     0,     0,     0,\n",
      "             0,     0,     0,     0,     0],\n",
      "        [    1,    17,   124,   103,   279,  6634,   300,  4663,   443,  4425,\n",
      "             5,     0,     0,     0,     0],\n",
      "        [    1,    91,   103,   906,     5,     0,     0,     0,     0,     0,\n",
      "             0,     0,     0,     0,     0],\n",
      "        [    1,    55,    45,  1413,    98,   207,   230,     5,     0,     0,\n",
      "             0,     0,     0,     0,     0],\n",
      "        [    1,    58,    82,  1952,    20,  2162,   271,  3218,  1348,  4118,\n",
      "             5,     0,     0,     0,     0],\n",
      "        [    1,   689,  4793,   407,  2083,   139,   689,  1911,    15,  7171,\n",
      "           456,   689,  6904,     5,     0],\n",
      "        [    1,    98,   207,  4832,  2870,   963,  3492,   313,     5,     0,\n",
      "             0,     0,     0,     0,     0],\n",
      "        [    1,    47,   405,    45,    98,   409,    49,   155,     5,     0,\n",
      "             0,     0,     0,     0,     0],\n",
      "        [    1,   807,    98,   303,    14,  3663,    17,    38,   975,     9,\n",
      "             0,     0,     0,     0,     0],\n",
      "        [    1,   220,    98,   406,   232,   191,   155,   336,   514,     9,\n",
      "             0,     0,     0,     0,     0],\n",
      "        [    1,  1054,   324,    29,    78,    47,     5,     0,     0,     0,\n",
      "             0,     0,     0,     0,     0],\n",
      "        [    1,   364,   111,   117,  2010,   519,   219,   519,    30,  2916,\n",
      "             5,     0,     0,     0,     0],\n",
      "        [    1,   185,   561,   924,   263,     5,     0,     0,     0,     0,\n",
      "             0,     0,     0,     0,     0],\n",
      "        [    1,    17,    20,   113,   124,   903,   294,   209,  2060,    17,\n",
      "           406,   232,   220,     5,     0],\n",
      "        [    1,   185,  1069,    68,   300,   443,   932,    89,   185,  1928,\n",
      "           113,  1157,     5,     0,     0],\n",
      "        [    1,    47,   235,   731,  2942,     5,     0,     0,     0,     0,\n",
      "             0,     0,     0,     0,     0],\n",
      "        [    1,   117,  2646,   235,     6,   139,   689,  1989,     5,     0,\n",
      "             0,     0,     0,     0,     0],\n",
      "        [    1,   203,   300,   100,   340,   443,  1402,     5,     0,     0,\n",
      "             0,     0,     0,     0,     0],\n",
      "        [    1,    17,    73,    26,   638,    29,     5,     0,     0,     0,\n",
      "             0,     0,     0,     0,     0],\n",
      "        [    1,    17,    73,   191,  1598,    29,  1871,     5,     0,     0,\n",
      "             0,     0,     0,     0,     0],\n",
      "        [    1,  1098,  1300,   968,   645,     5,     0,     0,     0,     0,\n",
      "             0,     0,     0,     0,     0],\n",
      "        [    1,    47,   206,   232,    26,   745,   232,    11,  5024,     5,\n",
      "             0,     0,     0,     0,     0],\n",
      "        [    1,  3629,   232,   689,  2812,  1186,     5,     0,     0,     0,\n",
      "             0,     0,     0,     0,     0],\n",
      "        [    1,  1035,  3497,  1055,     5,     0,     0,     0,     0,     0,\n",
      "             0,     0,     0,     0,     0],\n",
      "        [    1,    47,   235,   689,  1335,   473,     8,  1459,   113,   250,\n",
      "          1900,     5,     0,     0,     0],\n",
      "        [    1,   250,    98,   449,   398,    82,    43,   112,   113,   124,\n",
      "           689,  9325,  2233,     5,     0],\n",
      "        [    1,    17,   403,    98,   124,   689,   339,  1334,     5,     0,\n",
      "             0,     0,     0,     0,     0],\n",
      "        [    1,  2773,   235,  3891,   689,  3218,    78,  7499,  4025,     5,\n",
      "             0,     0,     0,     0,     0],\n",
      "        [    1,   179,   103,  3700,   839,     5,     0,     0,     0,     0,\n",
      "             0,     0,     0,     0,     0],\n",
      "        [    1,    47,   554,  2675,  1845,  3713,    58,   175,  8090,     5,\n",
      "             0,     0,     0,     0,     0],\n",
      "        [    1,    47,   807,  3210,   234,   745,   407,   431,   232,  4522,\n",
      "           111,     5,     0,     0,     0],\n",
      "        [    1,   130,   566,   363,   235,     7,     0,     0,     0,     0,\n",
      "             0,     0,     0,     0,     0],\n",
      "        [    1,   103,   560,  2473,   235,   641,   209,    98,   761,     5,\n",
      "             0,     0,     0,     0,     0],\n",
      "        [    1,  1414,   300,   100,   235,   739,  1634,     9,     0,     0,\n",
      "             0,     0,     0,     0,     0],\n",
      "        [    1,    17,  1547,   411,   232,  3004,     5,     0,     0,     0,\n",
      "             0,     0,     0,     0,     0],\n",
      "        [    1,    17,   449,   584,  1096,    29,  1779,  2756,  1985,     5,\n",
      "             0,     0,     0,     0,     0],\n",
      "        [    1,   303,    26,   102,   689,  4067,     5,     0,     0,     0,\n",
      "             0,     0,     0,     0,     0],\n",
      "        [    1, 11955,   235,   103,  1884,   234,  3682,  1697,   552,  6368,\n",
      "          1767,   300,  6008,     5,     0],\n",
      "        [    1,    17,   600,  2015,   443,  1971,     5,     0,     0,     0,\n",
      "             0,     0,     0,     0,     0],\n",
      "        [    1,    17,   572,   111,  5348,  2092,    82,  2685,    30,  3633,\n",
      "           810,   113,  2444,     5,     0],\n",
      "        [    1,    30,    20,   113,    49,  2266,  2768,    82,  6108,    30,\n",
      "            78,   103,  1023,  1567,     5],\n",
      "        [    1,   195,   171,  1652,    98,     5,     0,     0,     0,     0,\n",
      "             0,     0,     0,     0,     0],\n",
      "        [    1,     8,   766,    30,   181,   250,     9,     0,     0,     0,\n",
      "             0,     0,     0,     0,     0],\n",
      "        [    1,    17,   600,  9135,    17,   409,    49,  1941,   232,   364,\n",
      "           103,  3572,    58,  1170,     5],\n",
      "        [    1,   739,  5219,   300,   363,   235,  2548,  2174,   291,     5,\n",
      "             0,     0,     0,     0,     0],\n",
      "        [    1,    43,    73,   259,   250,  4777,     5,     0,     0,     0,\n",
      "             0,     0,     0,     0,     0],\n",
      "        [    1,    47,  3585,   689,  2781,     5,     0,     0,     0,     0,\n",
      "             0,     0,     0,     0,     0],\n",
      "        [    1,    43,    28,  1098,  3249,     5,     0,     0,     0,     0,\n",
      "             0,     0,     0,     0,     0],\n",
      "        [    1,  1413,    30,   254,    45,    82,    30,  3088,   175,  1168,\n",
      "           757,  2083,    45,     5,     0],\n",
      "        [    1,   303,    57,  1804,   689,  1186,     5,     0,     0,     0,\n",
      "             0,     0,     0,     0,     0],\n",
      "        [    1,   208,   220,    98,   406,   317,     9,     0,     0,     0,\n",
      "             0,     0,     0,     0,     0],\n",
      "        [    1,   689,  1530,   235,  3316,  5109,     5,     0,     0,     0,\n",
      "             0,     0,     0,     0,     0],\n",
      "        [    1,    57,   552,    45,    82,   303,     5,     0,     0,     0,\n",
      "             0,     0,     0,     0,     0],\n",
      "        [    1,    47,  1705,     5,     0,     0,     0,     0,     0,     0,\n",
      "             0,     0,     0,     0,     0],\n",
      "        [    1,    17,    38,   503,    29,  2671,    98,   272,     5,     0,\n",
      "             0,     0,     0,     0,     0],\n",
      "        [    1,    47,   510,   103,   279,   514,     5,     0,     0,     0,\n",
      "             0,     0,     0,     0,     0],\n",
      "        [    1,   689,   470,   407,   157,  6108,   300,   689,  5368,  3234,\n",
      "             5,     0,     0,     0,     0],\n",
      "        [    1,   634,  6188,   689,   811,     5,     0,     0,     0,     0,\n",
      "             0,     0,     0,     0,     0],\n",
      "        [    1,   208,   340,    98,   725,   232,   220,   117,  3681,     9,\n",
      "             0,     0,     0,     0,     0],\n",
      "        [    1,   673,   561,  2056,   249,   456,     5,     0,     0,     0,\n",
      "             0,     0,     0,     0,     0],\n",
      "        [    1,   689,  5563,  1002,  1575,   139,   175,  2921,     5,     0,\n",
      "             0,     0,     0,     0,     0],\n",
      "        [    1,    17,   171,  1103,   493,   689,   820,     5,     0,     0,\n",
      "             0,     0,     0,     0,     0]], device='cuda:0')\n",
      "decoder_labels\n",
      "tensor([[   17,    32,   516,    30,  1088,  1577,     5,     3,     0,     0,\n",
      "             0,     0,     0,     0,     0],\n",
      "        [   47,  2976,   689,  5400,  2238,   634,    29,     5,     3,     0,\n",
      "             0,     0,     0,     0,     0],\n",
      "        [   17,  1513,   103,   576,     5,     3,     0,     0,     0,     0,\n",
      "             0,     0,     0,     0,     0],\n",
      "        [   17,   124,   103,   279,  6634,   300,  4663,   443,  4425,     5,\n",
      "             3,     0,     0,     0,     0],\n",
      "        [   91,   103,   906,     5,     3,     0,     0,     0,     0,     0,\n",
      "             0,     0,     0,     0,     0],\n",
      "        [   55,    45,  1413,    98,   207,   230,     5,     3,     0,     0,\n",
      "             0,     0,     0,     0,     0],\n",
      "        [   58,    82,  1952,    20,  2162,   271,  3218,  1348,  4118,     5,\n",
      "             3,     0,     0,     0,     0],\n",
      "        [  689,  4793,   407,  2083,   139,   689,  1911,    15,  7171,   456,\n",
      "           689,  6904,     5,     3,     0],\n",
      "        [   98,   207,  4832,  2870,   963,  3492,   313,     5,     3,     0,\n",
      "             0,     0,     0,     0,     0],\n",
      "        [   47,   405,    45,    98,   409,    49,   155,     5,     3,     0,\n",
      "             0,     0,     0,     0,     0],\n",
      "        [  807,    98,   303,    14,  3663,    17,    38,   975,     9,     3,\n",
      "             0,     0,     0,     0,     0],\n",
      "        [  220,    98,   406,   232,   191,   155,   336,   514,     9,     3,\n",
      "             0,     0,     0,     0,     0],\n",
      "        [ 1054,   324,    29,    78,    47,     5,     3,     0,     0,     0,\n",
      "             0,     0,     0,     0,     0],\n",
      "        [  364,   111,   117,  2010,   519,   219,   519,    30,  2916,     5,\n",
      "             3,     0,     0,     0,     0],\n",
      "        [  185,   561,   924,   263,     5,     3,     0,     0,     0,     0,\n",
      "             0,     0,     0,     0,     0],\n",
      "        [   17,    20,   113,   124,   903,   294,   209,  2060,    17,   406,\n",
      "           232,   220,     5,     3,     0],\n",
      "        [  185,  1069,    68,   300,   443,   932,    89,   185,  1928,   113,\n",
      "          1157,     5,     3,     0,     0],\n",
      "        [   47,   235,   731,  2942,     5,     3,     0,     0,     0,     0,\n",
      "             0,     0,     0,     0,     0],\n",
      "        [  117,  2646,   235,     6,   139,   689,  1989,     5,     3,     0,\n",
      "             0,     0,     0,     0,     0],\n",
      "        [  203,   300,   100,   340,   443,  1402,     5,     3,     0,     0,\n",
      "             0,     0,     0,     0,     0],\n",
      "        [   17,    73,    26,   638,    29,     5,     3,     0,     0,     0,\n",
      "             0,     0,     0,     0,     0],\n",
      "        [   17,    73,   191,  1598,    29,  1871,     5,     3,     0,     0,\n",
      "             0,     0,     0,     0,     0],\n",
      "        [ 1098,  1300,   968,   645,     5,     3,     0,     0,     0,     0,\n",
      "             0,     0,     0,     0,     0],\n",
      "        [   47,   206,   232,    26,   745,   232,    11,  5024,     5,     3,\n",
      "             0,     0,     0,     0,     0],\n",
      "        [ 3629,   232,   689,  2812,  1186,     5,     3,     0,     0,     0,\n",
      "             0,     0,     0,     0,     0],\n",
      "        [ 1035,  3497,  1055,     5,     3,     0,     0,     0,     0,     0,\n",
      "             0,     0,     0,     0,     0],\n",
      "        [   47,   235,   689,  1335,   473,     8,  1459,   113,   250,  1900,\n",
      "             5,     3,     0,     0,     0],\n",
      "        [  250,    98,   449,   398,    82,    43,   112,   113,   124,   689,\n",
      "          9325,  2233,     5,     3,     0],\n",
      "        [   17,   403,    98,   124,   689,   339,  1334,     5,     3,     0,\n",
      "             0,     0,     0,     0,     0],\n",
      "        [ 2773,   235,  3891,   689,  3218,    78,  7499,  4025,     5,     3,\n",
      "             0,     0,     0,     0,     0],\n",
      "        [  179,   103,  3700,   839,     5,     3,     0,     0,     0,     0,\n",
      "             0,     0,     0,     0,     0],\n",
      "        [   47,   554,  2675,  1845,  3713,    58,   175,  8090,     5,     3,\n",
      "             0,     0,     0,     0,     0],\n",
      "        [   47,   807,  3210,   234,   745,   407,   431,   232,  4522,   111,\n",
      "             5,     3,     0,     0,     0],\n",
      "        [  130,   566,   363,   235,     7,     3,     0,     0,     0,     0,\n",
      "             0,     0,     0,     0,     0],\n",
      "        [  103,   560,  2473,   235,   641,   209,    98,   761,     5,     3,\n",
      "             0,     0,     0,     0,     0],\n",
      "        [ 1414,   300,   100,   235,   739,  1634,     9,     3,     0,     0,\n",
      "             0,     0,     0,     0,     0],\n",
      "        [   17,  1547,   411,   232,  3004,     5,     3,     0,     0,     0,\n",
      "             0,     0,     0,     0,     0],\n",
      "        [   17,   449,   584,  1096,    29,  1779,  2756,  1985,     5,     3,\n",
      "             0,     0,     0,     0,     0],\n",
      "        [  303,    26,   102,   689,  4067,     5,     3,     0,     0,     0,\n",
      "             0,     0,     0,     0,     0],\n",
      "        [11955,   235,   103,  1884,   234,  3682,  1697,   552,  6368,  1767,\n",
      "           300,  6008,     5,     3,     0],\n",
      "        [   17,   600,  2015,   443,  1971,     5,     3,     0,     0,     0,\n",
      "             0,     0,     0,     0,     0],\n",
      "        [   17,   572,   111,  5348,  2092,    82,  2685,    30,  3633,   810,\n",
      "           113,  2444,     5,     3,     0],\n",
      "        [   30,    20,   113,    49,  2266,  2768,    82,  6108,    30,    78,\n",
      "           103,  1023,  1567,     5,     3],\n",
      "        [  195,   171,  1652,    98,     5,     3,     0,     0,     0,     0,\n",
      "             0,     0,     0,     0,     0],\n",
      "        [    8,   766,    30,   181,   250,     9,     3,     0,     0,     0,\n",
      "             0,     0,     0,     0,     0],\n",
      "        [   17,   600,  9135,    17,   409,    49,  1941,   232,   364,   103,\n",
      "          3572,    58,  1170,     5,     3],\n",
      "        [  739,  5219,   300,   363,   235,  2548,  2174,   291,     5,     3,\n",
      "             0,     0,     0,     0,     0],\n",
      "        [   43,    73,   259,   250,  4777,     5,     3,     0,     0,     0,\n",
      "             0,     0,     0,     0,     0],\n",
      "        [   47,  3585,   689,  2781,     5,     3,     0,     0,     0,     0,\n",
      "             0,     0,     0,     0,     0],\n",
      "        [   43,    28,  1098,  3249,     5,     3,     0,     0,     0,     0,\n",
      "             0,     0,     0,     0,     0],\n",
      "        [ 1413,    30,   254,    45,    82,    30,  3088,   175,  1168,   757,\n",
      "          2083,    45,     5,     3,     0],\n",
      "        [  303,    57,  1804,   689,  1186,     5,     3,     0,     0,     0,\n",
      "             0,     0,     0,     0,     0],\n",
      "        [  208,   220,    98,   406,   317,     9,     3,     0,     0,     0,\n",
      "             0,     0,     0,     0,     0],\n",
      "        [  689,  1530,   235,  3316,  5109,     5,     3,     0,     0,     0,\n",
      "             0,     0,     0,     0,     0],\n",
      "        [   57,   552,    45,    82,   303,     5,     3,     0,     0,     0,\n",
      "             0,     0,     0,     0,     0],\n",
      "        [   47,  1705,     5,     3,     0,     0,     0,     0,     0,     0,\n",
      "             0,     0,     0,     0,     0],\n",
      "        [   17,    38,   503,    29,  2671,    98,   272,     5,     3,     0,\n",
      "             0,     0,     0,     0,     0],\n",
      "        [   47,   510,   103,   279,   514,     5,     3,     0,     0,     0,\n",
      "             0,     0,     0,     0,     0],\n",
      "        [  689,   470,   407,   157,  6108,   300,   689,  5368,  3234,     5,\n",
      "             3,     0,     0,     0,     0],\n",
      "        [  634,  6188,   689,   811,     5,     3,     0,     0,     0,     0,\n",
      "             0,     0,     0,     0,     0],\n",
      "        [  208,   340,    98,   725,   232,   220,   117,  3681,     9,     3,\n",
      "             0,     0,     0,     0,     0],\n",
      "        [  673,   561,  2056,   249,   456,     5,     3,     0,     0,     0,\n",
      "             0,     0,     0,     0,     0],\n",
      "        [  689,  5563,  1002,  1575,   139,   175,  2921,     5,     3,     0,\n",
      "             0,     0,     0,     0,     0],\n",
      "        [   17,   171,  1103,   493,   689,   820,     5,     3,     0,     0,\n",
      "             0,     0,     0,     0,     0]], device='cuda:0')\n",
      "decoder_labels_mask\n",
      "tensor([[0, 0, 0, 0, 0, 0, 0, 0, 1, 1, 1, 1, 1, 1, 1],\n",
      "        [0, 0, 0, 0, 0, 0, 0, 0, 0, 1, 1, 1, 1, 1, 1],\n",
      "        [0, 0, 0, 0, 0, 0, 1, 1, 1, 1, 1, 1, 1, 1, 1],\n",
      "        [0, 0, 0, 0, 0, 0, 0, 0, 0, 0, 0, 1, 1, 1, 1],\n",
      "        [0, 0, 0, 0, 0, 1, 1, 1, 1, 1, 1, 1, 1, 1, 1],\n",
      "        [0, 0, 0, 0, 0, 0, 0, 0, 1, 1, 1, 1, 1, 1, 1],\n",
      "        [0, 0, 0, 0, 0, 0, 0, 0, 0, 0, 0, 1, 1, 1, 1],\n",
      "        [0, 0, 0, 0, 0, 0, 0, 0, 0, 0, 0, 0, 0, 0, 1],\n",
      "        [0, 0, 0, 0, 0, 0, 0, 0, 0, 1, 1, 1, 1, 1, 1],\n",
      "        [0, 0, 0, 0, 0, 0, 0, 0, 0, 1, 1, 1, 1, 1, 1],\n",
      "        [0, 0, 0, 0, 0, 0, 0, 0, 0, 0, 1, 1, 1, 1, 1],\n",
      "        [0, 0, 0, 0, 0, 0, 0, 0, 0, 0, 1, 1, 1, 1, 1],\n",
      "        [0, 0, 0, 0, 0, 0, 0, 1, 1, 1, 1, 1, 1, 1, 1],\n",
      "        [0, 0, 0, 0, 0, 0, 0, 0, 0, 0, 0, 1, 1, 1, 1],\n",
      "        [0, 0, 0, 0, 0, 0, 1, 1, 1, 1, 1, 1, 1, 1, 1],\n",
      "        [0, 0, 0, 0, 0, 0, 0, 0, 0, 0, 0, 0, 0, 0, 1],\n",
      "        [0, 0, 0, 0, 0, 0, 0, 0, 0, 0, 0, 0, 0, 1, 1],\n",
      "        [0, 0, 0, 0, 0, 0, 1, 1, 1, 1, 1, 1, 1, 1, 1],\n",
      "        [0, 0, 0, 0, 0, 0, 0, 0, 0, 1, 1, 1, 1, 1, 1],\n",
      "        [0, 0, 0, 0, 0, 0, 0, 0, 1, 1, 1, 1, 1, 1, 1],\n",
      "        [0, 0, 0, 0, 0, 0, 0, 1, 1, 1, 1, 1, 1, 1, 1],\n",
      "        [0, 0, 0, 0, 0, 0, 0, 0, 1, 1, 1, 1, 1, 1, 1],\n",
      "        [0, 0, 0, 0, 0, 0, 1, 1, 1, 1, 1, 1, 1, 1, 1],\n",
      "        [0, 0, 0, 0, 0, 0, 0, 0, 0, 0, 1, 1, 1, 1, 1],\n",
      "        [0, 0, 0, 0, 0, 0, 0, 1, 1, 1, 1, 1, 1, 1, 1],\n",
      "        [0, 0, 0, 0, 0, 1, 1, 1, 1, 1, 1, 1, 1, 1, 1],\n",
      "        [0, 0, 0, 0, 0, 0, 0, 0, 0, 0, 0, 0, 1, 1, 1],\n",
      "        [0, 0, 0, 0, 0, 0, 0, 0, 0, 0, 0, 0, 0, 0, 1],\n",
      "        [0, 0, 0, 0, 0, 0, 0, 0, 0, 1, 1, 1, 1, 1, 1],\n",
      "        [0, 0, 0, 0, 0, 0, 0, 0, 0, 0, 1, 1, 1, 1, 1],\n",
      "        [0, 0, 0, 0, 0, 0, 1, 1, 1, 1, 1, 1, 1, 1, 1],\n",
      "        [0, 0, 0, 0, 0, 0, 0, 0, 0, 0, 1, 1, 1, 1, 1],\n",
      "        [0, 0, 0, 0, 0, 0, 0, 0, 0, 0, 0, 0, 1, 1, 1],\n",
      "        [0, 0, 0, 0, 0, 0, 1, 1, 1, 1, 1, 1, 1, 1, 1],\n",
      "        [0, 0, 0, 0, 0, 0, 0, 0, 0, 0, 1, 1, 1, 1, 1],\n",
      "        [0, 0, 0, 0, 0, 0, 0, 0, 1, 1, 1, 1, 1, 1, 1],\n",
      "        [0, 0, 0, 0, 0, 0, 0, 1, 1, 1, 1, 1, 1, 1, 1],\n",
      "        [0, 0, 0, 0, 0, 0, 0, 0, 0, 0, 1, 1, 1, 1, 1],\n",
      "        [0, 0, 0, 0, 0, 0, 0, 1, 1, 1, 1, 1, 1, 1, 1],\n",
      "        [0, 0, 0, 0, 0, 0, 0, 0, 0, 0, 0, 0, 0, 0, 1],\n",
      "        [0, 0, 0, 0, 0, 0, 0, 1, 1, 1, 1, 1, 1, 1, 1],\n",
      "        [0, 0, 0, 0, 0, 0, 0, 0, 0, 0, 0, 0, 0, 0, 1],\n",
      "        [0, 0, 0, 0, 0, 0, 0, 0, 0, 0, 0, 0, 0, 0, 0],\n",
      "        [0, 0, 0, 0, 0, 0, 1, 1, 1, 1, 1, 1, 1, 1, 1],\n",
      "        [0, 0, 0, 0, 0, 0, 0, 1, 1, 1, 1, 1, 1, 1, 1],\n",
      "        [0, 0, 0, 0, 0, 0, 0, 0, 0, 0, 0, 0, 0, 0, 0],\n",
      "        [0, 0, 0, 0, 0, 0, 0, 0, 0, 0, 1, 1, 1, 1, 1],\n",
      "        [0, 0, 0, 0, 0, 0, 0, 1, 1, 1, 1, 1, 1, 1, 1],\n",
      "        [0, 0, 0, 0, 0, 0, 1, 1, 1, 1, 1, 1, 1, 1, 1],\n",
      "        [0, 0, 0, 0, 0, 0, 1, 1, 1, 1, 1, 1, 1, 1, 1],\n",
      "        [0, 0, 0, 0, 0, 0, 0, 0, 0, 0, 0, 0, 0, 0, 1],\n",
      "        [0, 0, 0, 0, 0, 0, 0, 1, 1, 1, 1, 1, 1, 1, 1],\n",
      "        [0, 0, 0, 0, 0, 0, 0, 1, 1, 1, 1, 1, 1, 1, 1],\n",
      "        [0, 0, 0, 0, 0, 0, 0, 1, 1, 1, 1, 1, 1, 1, 1],\n",
      "        [0, 0, 0, 0, 0, 0, 0, 1, 1, 1, 1, 1, 1, 1, 1],\n",
      "        [0, 0, 0, 0, 1, 1, 1, 1, 1, 1, 1, 1, 1, 1, 1],\n",
      "        [0, 0, 0, 0, 0, 0, 0, 0, 0, 1, 1, 1, 1, 1, 1],\n",
      "        [0, 0, 0, 0, 0, 0, 0, 1, 1, 1, 1, 1, 1, 1, 1],\n",
      "        [0, 0, 0, 0, 0, 0, 0, 0, 0, 0, 0, 1, 1, 1, 1],\n",
      "        [0, 0, 0, 0, 0, 0, 1, 1, 1, 1, 1, 1, 1, 1, 1],\n",
      "        [0, 0, 0, 0, 0, 0, 0, 0, 0, 0, 1, 1, 1, 1, 1],\n",
      "        [0, 0, 0, 0, 0, 0, 0, 1, 1, 1, 1, 1, 1, 1, 1],\n",
      "        [0, 0, 0, 0, 0, 0, 0, 0, 0, 1, 1, 1, 1, 1, 1],\n",
      "        [0, 0, 0, 0, 0, 0, 0, 0, 1, 1, 1, 1, 1, 1, 1]], device='cuda:0')\n"
     ]
    }
   ],
   "execution_count": 16
  },
  {
   "cell_type": "markdown",
   "metadata": {
    "id": "K9JaKLR7Jzbc"
   },
   "source": [
    "## 定义模型"
   ]
  },
  {
   "cell_type": "code",
   "metadata": {
    "ExecutionIndicator": {
     "show": false
    },
    "execution": {
     "iopub.execute_input": "2025-02-08T16:03:06.165476Z",
     "iopub.status.busy": "2025-02-08T16:03:06.164877Z",
     "iopub.status.idle": "2025-02-08T16:03:06.171748Z",
     "shell.execute_reply": "2025-02-08T16:03:06.171081Z",
     "shell.execute_reply.started": "2025-02-08T16:03:06.165396Z"
    },
    "id": "CGxzT605Jzbd",
    "tags": [],
    "ExecuteTime": {
     "end_time": "2025-02-10T08:56:10.346569Z",
     "start_time": "2025-02-10T08:56:10.342532Z"
    }
   },
   "source": [
    "class Encoder(nn.Module):\n",
    "    def __init__(\n",
    "        self,\n",
    "        vocab_size,             # 词汇表大小\n",
    "        embedding_dim=256,      # 嵌入层的维度（即每个词的表示大小）\n",
    "        hidden_dim=1024,        # 隐藏层的维度（GRU中每个隐藏状态的大小）\n",
    "        num_layers=1,           # GRU层数\n",
    "    ):\n",
    "        super().__init__()\n",
    "        \n",
    "        # 嵌入层：将输入的词索引转换为词向量\n",
    "        # vocab_size：词汇表的大小，embedding_dim：词向量的维度\n",
    "        self.embedding = nn.Embedding(vocab_size, embedding_dim)\n",
    "        \n",
    "        # GRU层：用于处理序列数据\n",
    "        # embedding_dim：输入到GRU层的特征维度（即每个词的嵌入维度）\n",
    "        # hidden_dim：GRU的隐藏状态维度，影响网络的记忆容量\n",
    "        # num_layers：GRU的层数，通常在深度学习中可以通过多层GRU增加模型的表达能力\n",
    "        # batch_first=True表示输入和输出的形状是 [batch_size, sequence_length, feature_dim]\n",
    "        self.gru = nn.GRU(embedding_dim, hidden_dim, num_layers=num_layers, batch_first=True)\n",
    "\n",
    "    def forward(self, encoder_inputs):\n",
    "        \"\"\"\n",
    "        前向传播：\n",
    "        encoder_inputs.shape = [batch_size, sequence_length]\n",
    "        \"\"\"\n",
    "        # 将输入的词索引（encoder_inputs）转换为词向量（embeds）\n",
    "        embeds = self.embedding(encoder_inputs)\n",
    "        # embeds.shape = [batch_size, sequence_length, embedding_dim]\n",
    "        \n",
    "        # 将词向量输入到GRU层，得到GRU的输出（seq_output）和最后的隐藏状态（hidden）\n",
    "        seq_output, hidden = self.gru(embeds)\n",
    "        # seq_output.shape = [batch_size, sequence_length, hidden_dim]\n",
    "        # hidden.shape = [num_layers, batch_size, hidden_dim]，即每层的隐藏状态\n",
    "        \n",
    "        return seq_output, hidden"
   ],
   "outputs": [],
   "execution_count": 17
  },
  {
   "cell_type": "code",
   "metadata": {
    "collapsed": false,
    "execution": {
     "iopub.execute_input": "2025-02-08T16:03:06.173152Z",
     "iopub.status.busy": "2025-02-08T16:03:06.172576Z",
     "iopub.status.idle": "2025-02-08T16:03:06.506540Z",
     "shell.execute_reply": "2025-02-08T16:03:06.505651Z",
     "shell.execute_reply.started": "2025-02-08T16:03:06.173125Z"
    },
    "jupyter": {
     "outputs_hidden": false
    },
    "tags": [],
    "ExecuteTime": {
     "end_time": "2025-02-10T08:56:10.535528Z",
     "start_time": "2025-02-10T08:56:10.346569Z"
    }
   },
   "source": [
    "# 例子：把上面的Encoder写一个例子，看看输出的shape\n",
    "# 创建 Encoder 实例，指定词表大小、词嵌入维度、隐藏层维度和 GRU 层数\n",
    "encoder = Encoder(vocab_size=100, embedding_dim=256, hidden_dim=1024, num_layers=4)\n",
    "# 生成随机输入，模拟批量大小为 2，每个样本长度为 50 的输入序列\n",
    "encoder_inputs = torch.randint(0, 100, (2, 50))  # 词索引范围在 [0, 100) 之间\n",
    "# 前向传播，获取编码器的输出\n",
    "encoder_outputs, hidden = encoder(encoder_inputs)\n",
    "# 打印输出张量的形状\n",
    "print(encoder_outputs.shape)  # 预期形状：[batch_size, seq_len, hidden_dim] → [2, 50, 1024]\n",
    "print(hidden.shape)  # 预期形状：[num_layers, batch_size, hidden_dim] → [4, 2, 1024]\n",
    "# 打印 encoder_outputs 的最后一个时间步的输出\n",
    "print(encoder_outputs[:, -1, :])  \n",
    "# 形状：[batch_size, hidden_dim] → [2, 1024]\n",
    "# 代表最后一个时间步的编码器输出，可用于 Seq2Seq 模型的解码阶段\n",
    "# 取最后一层的隐藏状态\n",
    "print(hidden[-1, :, :])  \n",
    "# 形状：[batch_size, hidden_dim] → [2, 1024]\n",
    "# 代表 GRU 最后一层的隐藏状态，通常用于初始化解码器的隐藏状态"
   ],
   "outputs": [
    {
     "name": "stdout",
     "output_type": "stream",
     "text": [
      "torch.Size([2, 50, 1024])\n",
      "torch.Size([4, 2, 1024])\n",
      "tensor([[-0.0636,  0.0092,  0.0103,  ..., -0.0153, -0.0004, -0.0341],\n",
      "        [-0.0175,  0.0283,  0.0105,  ...,  0.0142,  0.0282, -0.0413]],\n",
      "       grad_fn=<SliceBackward0>)\n",
      "tensor([[-0.0636,  0.0092,  0.0103,  ..., -0.0153, -0.0004, -0.0341],\n",
      "        [-0.0175,  0.0283,  0.0105,  ...,  0.0142,  0.0282, -0.0413]],\n",
      "       grad_fn=<SliceBackward0>)\n"
     ]
    }
   ],
   "execution_count": 18
  },
  {
   "cell_type": "code",
   "metadata": {
    "collapsed": false,
    "execution": {
     "iopub.execute_input": "2025-02-08T16:03:06.507949Z",
     "iopub.status.busy": "2025-02-08T16:03:06.507534Z",
     "iopub.status.idle": "2025-02-08T16:03:06.513893Z",
     "shell.execute_reply": "2025-02-08T16:03:06.513228Z",
     "shell.execute_reply.started": "2025-02-08T16:03:06.507921Z"
    },
    "jupyter": {
     "outputs_hidden": false
    },
    "tags": [],
    "ExecuteTime": {
     "end_time": "2025-02-10T08:56:10.540323Z",
     "start_time": "2025-02-10T08:56:10.536526Z"
    }
   },
   "source": [
    "# 例子： unsqueeze() 增加维度\n",
    "query1 = torch.randn(2, 1024)\n",
    "query1.unsqueeze(1).shape #增加维度"
   ],
   "outputs": [
    {
     "data": {
      "text/plain": [
       "torch.Size([2, 1, 1024])"
      ]
     },
     "execution_count": 19,
     "metadata": {},
     "output_type": "execute_result"
    }
   ],
   "execution_count": 19
  },
  {
   "cell_type": "markdown",
   "metadata": {},
   "source": "## BahdanauAttention"
  },
  {
   "cell_type": "code",
   "metadata": {
    "ExecutionIndicator": {
     "show": true
    },
    "execution": {
     "iopub.execute_input": "2025-02-08T16:03:06.515346Z",
     "iopub.status.busy": "2025-02-08T16:03:06.514946Z",
     "iopub.status.idle": "2025-02-08T16:03:06.522704Z",
     "shell.execute_reply": "2025-02-08T16:03:06.521970Z",
     "shell.execute_reply.started": "2025-02-08T16:03:06.515319Z"
    },
    "id": "pTQ6Mz1OJzbd",
    "tags": [],
    "ExecuteTime": {
     "end_time": "2025-02-10T08:56:10.546165Z",
     "start_time": "2025-02-10T08:56:10.541321Z"
    }
   },
   "source": [
    "# 公式：\n",
    "# score = FC(tanh(FC(EO) + FC(H)))  # FC(EO)的FC是Wk,FC(H)的FC是Wq,最外面的FC是V \n",
    "# attention_weights = softmax(score, axis = 1)  \n",
    "# context = sum(attention_weights * EO, axis = 1)  # 对EO做加权求和，得到上下文向量\n",
    "class BahdanauAttention(nn.Module):\n",
    "    def __init__(self, hidden_dim=1024):\n",
    "        super().__init__()\n",
    "        # Q,K,V\n",
    "        self.Wq = nn.Linear(hidden_dim, hidden_dim) # 对 query（decoder 隐藏状态）进行线性变换\n",
    "        self.Wk = nn.Linear(hidden_dim, hidden_dim) # 对 keys（encoder 输出）进行线性变换\n",
    "        self.V = nn.Linear(hidden_dim, 1) # 计算注意力分数\n",
    "\n",
    "    def forward(self, query, keys, values, attn_mask=None):\n",
    "        \"\"\"\n",
    "        :param query: decoder 当前的隐藏状态, shape = [batch size, hidden_dim]\n",
    "        :param keys: encoder 的输出, shape = [batch size, sequence length, hidden_dim]\n",
    "        :param values: encoder 的输出（通常 keys 和 values 相同）, shape = [batch size, sequence length, hidden_dim]\n",
    "        :param attn_mask: encoder 输入的 mask, shape = [batch size, sequence length]\n",
    "        :return: context_vector（注意力加权求和后的上下文向量）, scores（注意力权重）\n",
    "        \"\"\"\n",
    "        # query.shape = [batch size, hidden_dim] -> 通过 unsqueeze(-2) 变为 [batch size, 1, hidden_dim]\n",
    "        # keys.shape = [batch size, sequence length, hidden_dim]\n",
    "        # values.shape = [batch size, sequence length, hidden_dim]\n",
    "        \n",
    "        # 计算注意力得分, 加性注意力机制\n",
    "        scores = self.V(F.tanh(self.Wk(keys) + self.Wq(query.unsqueeze(-2)))) \n",
    "        # scores.shape = [batch size, sequence length, 1]\n",
    "        \n",
    "        if attn_mask is not None:  # 处理 padding mask，确保 padding 部分不会影响计算\n",
    "            # mask 是一个 0/1 矩阵, 1 表示 padding 位置, 需要掩盖 (scores 设为 -inf)\n",
    "            attn_mask = (attn_mask.unsqueeze(-1)) * -1e16  # 形状调整为 [batch size, sequence length, 1]\n",
    "            scores += attn_mask  # 掩盖 padding 位置\n",
    "        \n",
    "        # 对注意力得分进行 softmax 归一化，确保权重和为 1\n",
    "        scores = F.softmax(scores, dim=-2)   # dim=-2 表示对最后一维（即 sequence length）进行 softmax\n",
    "        # scores.shape = [batch size, sequence length, 1]\n",
    "        \n",
    "        # 计算上下文向量（context vector），即对 values 进行加权求和\n",
    "        context_vector = torch.mul(scores, values).sum(dim=-2)  # [batch size, hidden_dim]\n",
    "        \n",
    "        return context_vector, scores # 返回上下文向量和注意力权重"
   ],
   "outputs": [],
   "execution_count": 20
  },
  {
   "cell_type": "code",
   "metadata": {
    "collapsed": false,
    "execution": {
     "iopub.execute_input": "2025-02-08T16:03:06.523966Z",
     "iopub.status.busy": "2025-02-08T16:03:06.523633Z",
     "iopub.status.idle": "2025-02-08T16:03:06.528682Z",
     "shell.execute_reply": "2025-02-08T16:03:06.527916Z",
     "shell.execute_reply.started": "2025-02-08T16:03:06.523941Z"
    },
    "jupyter": {
     "outputs_hidden": false
    },
    "ExecuteTime": {
     "end_time": "2025-02-10T08:56:10.551434Z",
     "start_time": "2025-02-10T08:56:10.547163Z"
    }
   },
   "source": [
    "# 例子：tensor矩阵相乘\n",
    "a = torch.randn(2, 3)\n",
    "b = torch.randn(3, 2)\n",
    "c = torch.mm(a, b) #增加维度\n",
    "print(c.shape)"
   ],
   "outputs": [
    {
     "name": "stdout",
     "output_type": "stream",
     "text": [
      "torch.Size([2, 2])\n"
     ]
    }
   ],
   "execution_count": 21
  },
  {
   "cell_type": "code",
   "metadata": {
    "collapsed": false,
    "execution": {
     "iopub.execute_input": "2025-02-08T16:03:06.533228Z",
     "iopub.status.busy": "2025-02-08T16:03:06.532878Z",
     "iopub.status.idle": "2025-02-08T16:03:06.565061Z",
     "shell.execute_reply": "2025-02-08T16:03:06.564356Z",
     "shell.execute_reply.started": "2025-02-08T16:03:06.533203Z"
    },
    "jupyter": {
     "outputs_hidden": false
    },
    "ExecuteTime": {
     "end_time": "2025-02-10T08:56:10.578089Z",
     "start_time": "2025-02-10T08:56:10.552433Z"
    }
   },
   "source": [
    "# 例子：把上面的BahdanauAttention写一个例子，看看输出的shape\n",
    "attention = BahdanauAttention(hidden_dim=1024)\n",
    "query = torch.randn(2, 1024) #Decoder的隐藏状态\n",
    "keys = torch.randn(2, 50, 1024) #EO\n",
    "values = torch.randn(2, 50, 1024) #EO\n",
    "attn_mask = torch.randint(0, 2, (2, 50))\n",
    "context_vector, scores = attention(query, keys, values, attn_mask)\n",
    "print(context_vector.shape)\n",
    "print(scores.shape)"
   ],
   "outputs": [
    {
     "name": "stdout",
     "output_type": "stream",
     "text": [
      "torch.Size([2, 1024])\n",
      "torch.Size([2, 50, 1])\n"
     ]
    }
   ],
   "execution_count": 22
  },
  {
   "cell_type": "code",
   "metadata": {
    "ExecutionIndicator": {
     "show": true
    },
    "execution": {
     "iopub.execute_input": "2025-02-08T16:03:06.566396Z",
     "iopub.status.busy": "2025-02-08T16:03:06.565932Z",
     "iopub.status.idle": "2025-02-08T16:03:06.580128Z",
     "shell.execute_reply": "2025-02-08T16:03:06.579432Z",
     "shell.execute_reply.started": "2025-02-08T16:03:06.566371Z"
    },
    "id": "6W5FeRRrJzbd",
    "tags": [],
    "ExecuteTime": {
     "end_time": "2025-02-10T08:56:10.585605Z",
     "start_time": "2025-02-10T08:56:10.579090Z"
    }
   },
   "source": [
    "class Decoder(nn.Module):\n",
    "    def __init__(\n",
    "        self,\n",
    "        vocab_size,  # 目标词汇表大小\n",
    "        embedding_dim=256,  # 词向量维度\n",
    "        hidden_dim=1024,  # GRU隐藏层维度\n",
    "        num_layers=1,  # GRU层数\n",
    "        ):\n",
    "        super(Decoder, self).__init__()\n",
    "        self.embedding = nn.Embedding(vocab_size, embedding_dim)  # 词嵌入层\n",
    "        self.gru = nn.GRU(embedding_dim + hidden_dim, hidden_dim, num_layers=num_layers, batch_first=True)\n",
    "        # GRU 采用 batch_first=True 使输入格式为 (batch_size, seq_len, input_dim)\n",
    "        self.fc = nn.Linear(hidden_dim, vocab_size)  # 线性层用于将 GRU 输出映射到词汇表大小\n",
    "        self.dropout = nn.Dropout(0.6)  # 随机失活层，防止过拟合\n",
    "        self.attention = BahdanauAttention(hidden_dim)  # Bahdanau 注意力机制，用于计算上下文向量\n",
    "\n",
    "    def forward(self, decoder_input, hidden, encoder_outputs, attn_mask=None):\n",
    "        \"\"\"\n",
    "        :param decoder_input: 当前时间步的输入，形状为 [batch_size, 1]，每个样本一个 token\n",
    "        :param hidden: 上一个时间步的隐藏状态，形状为 [batch_size, hidden_dim]\n",
    "        :param encoder_outputs: 编码器的所有时间步输出，形状为 [batch_size, seq_len, hidden_dim]\n",
    "        :param attn_mask: 注意力掩码，形状为 [batch_size, seq_len]，用于忽略 padding 位置\n",
    "        :return: logits: 预测的词分布，形状为 [batch_size, 1, vocab_size]\n",
    "                 hidden: 当前时间步的隐藏状态，形状为 [batch_size, hidden_dim]\n",
    "                 attention_score: 注意力分数，形状为 [batch_size, seq_len, 1]\n",
    "        \"\"\"\n",
    "        # 断言输入形状正确，避免错误输入导致的问题\n",
    "        assert len(decoder_input.shape) == 2 and decoder_input.shape[-1] == 1, f\"decoder_input.shape = {decoder_input.shape}\"\n",
    "        assert len(hidden.shape) == 2, f\"hidden.shape = {hidden.shape}\"\n",
    "        assert len(encoder_outputs.shape) == 3, f\"encoder_outputs.shape = {encoder_outputs.shape}\"\n",
    "\n",
    "        # 计算注意力机制的上下文向量, attn_mask是encoder_input_mask\n",
    "        context_vector, attention_score = self.attention(\n",
    "            query=hidden, keys=encoder_outputs, values=encoder_outputs, attn_mask=attn_mask)\n",
    "        # context_vector 形状: [batch_size, hidden_dim]\n",
    "\n",
    "        # 获取当前 token 的嵌入表示\n",
    "        embeds = self.embedding(decoder_input)\n",
    "        # embeds 形状: [batch_size, 1, embedding_dim]，1 代表当前时间步\n",
    "\n",
    "        # 将上下文向量与当前 token 的嵌入拼接，作为 GRU 输入\n",
    "        embeds = torch.cat([context_vector.unsqueeze(-2), embeds], dim=-1)\n",
    "        # embeds 形状: [batch_size, 1, embedding_dim + hidden_dim]\n",
    "\n",
    "        # 经过 GRU 处理，得到当前时间步的输出和隐藏状态\n",
    "        seq_output, hidden = self.gru(embeds)\n",
    "        # seq_output 形状: [batch_size, 1, hidden_dim]，hidden 形状: [batch_size, hidden_dim]\n",
    "\n",
    "        # 通过全连接层计算 logits（预测词概率分布）\n",
    "        logits = self.fc(self.dropout(seq_output))\n",
    "        # logits 形状: [batch_size, 1, vocab_size]\n",
    "\n",
    "        return logits, hidden, attention_score  # 返回预测结果、隐藏状态和注意力得分"
   ],
   "outputs": [],
   "execution_count": 23
  },
  {
   "cell_type": "code",
   "metadata": {
    "ExecutionIndicator": {
     "show": true
    },
    "execution": {
     "iopub.execute_input": "2025-02-08T16:03:06.581485Z",
     "iopub.status.busy": "2025-02-08T16:03:06.581171Z",
     "iopub.status.idle": "2025-02-08T16:03:06.777605Z",
     "shell.execute_reply": "2025-02-08T16:03:06.776762Z",
     "shell.execute_reply.started": "2025-02-08T16:03:06.581460Z"
    },
    "id": "FG-Pid9cJzbd",
    "tags": [],
    "ExecuteTime": {
     "end_time": "2025-02-10T08:56:10.593005Z",
     "start_time": "2025-02-10T08:56:10.585605Z"
    }
   },
   "source": [
    "class Sequence2Sequence(nn.Module):\n",
    "    def __init__(\n",
    "        self,\n",
    "        src_vocab_size,  # 源语言词汇表大小\n",
    "        trg_vocab_size,  # 目标语言词汇表大小\n",
    "        encoder_embedding_dim=256,  # 编码器词嵌入维度\n",
    "        encoder_hidden_dim=1024,  # 编码器隐藏层维度\n",
    "        encoder_num_layers=1,  # 编码器GRU层数\n",
    "        decoder_embedding_dim=256,  # 解码器词嵌入维度\n",
    "        decoder_hidden_dim=1024,  # 解码器隐藏层维度\n",
    "        decoder_num_layers=1,  # 解码器GRU层数\n",
    "        bos_idx=1,  # 目标语言序列的起始标记 (Begin of Sentence)\n",
    "        eos_idx=3,  # 目标语言序列的终止标记 (End of Sentence)\n",
    "        max_length=512,  # 生成序列的最大长度\n",
    "    ):\n",
    "        super(Sequence2Sequence, self).__init__()\n",
    "        self.bos_idx = bos_idx\n",
    "        self.eos_idx = eos_idx\n",
    "        self.max_length = max_length\n",
    "\n",
    "        # 初始化编码器\n",
    "        self.encoder = Encoder(\n",
    "            src_vocab_size,\n",
    "            embedding_dim=encoder_embedding_dim,\n",
    "            hidden_dim=encoder_hidden_dim,\n",
    "            num_layers=encoder_num_layers,\n",
    "        )\n",
    "\n",
    "        # 初始化解码器\n",
    "        self.decoder = Decoder(\n",
    "            trg_vocab_size,\n",
    "            embedding_dim=decoder_embedding_dim,\n",
    "            hidden_dim=decoder_hidden_dim,\n",
    "            num_layers=decoder_num_layers,\n",
    "        )\n",
    "\n",
    "    def forward(self, *, encoder_inputs, decoder_inputs, attn_mask=None):\n",
    "        \"\"\"\n",
    "        :param encoder_inputs: 编码器输入序列，形状为 [batch_size, src_seq_len]\n",
    "        :param decoder_inputs: 解码器输入序列，形状为 [batch_size, trg_seq_len]\n",
    "        :param attn_mask: 注意力掩码，形状为 [batch_size, src_seq_len]，用于忽略 padding 位置\n",
    "        :return: 预测 logits，形状为 [batch_size, trg_seq_len, vocab_size]\n",
    "                 注意力分数，形状为 [batch_size, src_seq_len, trg_seq_len]\n",
    "        \"\"\"\n",
    "        # 编码阶段，获取编码器输出和隐藏状态\n",
    "        encoder_outputs, hidden = self.encoder(encoder_inputs)\n",
    "\n",
    "        # 获取批次大小和目标序列长度\n",
    "        bs, seq_len = decoder_inputs.shape\n",
    "\n",
    "        logits_list = []  # 存储解码器的输出 logits\n",
    "        scores_list = []  # 存储注意力得分\n",
    "\n",
    "        # 逐个时间步解码（串行训练，使用教师强制）\n",
    "        for i in range(seq_len):\n",
    "            logits, hidden, score = self.decoder(\n",
    "                decoder_inputs[:, i:i+1],  # 取当前时间步的输入\n",
    "                hidden[-1],  # 取 GRU 的最后一层隐藏状态\n",
    "                encoder_outputs,\n",
    "                attn_mask=attn_mask\n",
    "            )\n",
    "            logits_list.append(logits)  # 记录解码器的输出 logits\n",
    "            scores_list.append(score)  # 记录注意力分数\n",
    "\n",
    "        # 将 logits 和注意力得分拼接，并返回\n",
    "        return torch.cat(logits_list, dim=-2), torch.cat(scores_list, dim=-1)\n",
    "\n",
    "    @torch.no_grad()  # 关闭梯度计算，提高推理效率\n",
    "    def infer(self, encoder_input, attn_mask=None):\n",
    "        \"\"\"\n",
    "        :param encoder_input: 预测阶段的编码器输入，形状为 [1, src_seq_len]\n",
    "        :param attn_mask: 注意力掩码，形状为 [1, src_seq_len]，用于忽略 padding 位置\n",
    "        :return: 预测序列列表，注意力分数张量\n",
    "        \"\"\"\n",
    "        # 编码阶段，获取编码器输出和隐藏状态\n",
    "        encoder_outputs, hidden = self.encoder(encoder_input)\n",
    "\n",
    "        # 解码阶段，初始化解码器输入，使用起始标记 <BOS>\n",
    "        decoder_input = torch.Tensor([self.bos_idx]).reshape(1, 1).to(dtype=torch.int64)  # 形状为 [1, 1]\n",
    "        pred_list = []  # 存储解码出的序列\n",
    "        score_list = []  # 存储注意力分数\n",
    "\n",
    "        # 逐步生成序列，直到终止标记 <EOS> 或达到最大长度\n",
    "        for _ in range(self.max_length):\n",
    "            logits, hidden, score = self.decoder(\n",
    "                decoder_input,\n",
    "                hidden[-1],  # 取 GRU 的最后一层隐藏状态\n",
    "                encoder_outputs,\n",
    "                attn_mask=attn_mask\n",
    "            )\n",
    "\n",
    "            # 贪心搜索 (Greedy Search): 选择概率最高的词\n",
    "            decoder_pred = logits.argmax(dim=-1)  # 形状 [1, 1]\n",
    "            decoder_input = decoder_pred  # 更新解码器输入\n",
    "            pred_list.append(decoder_pred.reshape(-1).item())  # 存储预测值\n",
    "            score_list.append(score)  # 存储注意力分数\n",
    "\n",
    "            # 如果预测到终止标记 <EOS>，则结束解码\n",
    "            if decoder_pred == self.eos_idx:\n",
    "                break\n",
    "\n",
    "        # 返回预测序列和注意力得分\n",
    "        return pred_list, torch.cat(score_list, dim=-1)"
   ],
   "outputs": [],
   "execution_count": 24
  },
  {
   "cell_type": "markdown",
   "metadata": {
    "id": "zE-vNp-xJzbe"
   },
   "source": [
    "## 训练"
   ]
  },
  {
   "cell_type": "markdown",
   "metadata": {
    "id": "o55JWSvhJzbe"
   },
   "source": [
    "### 损失函数"
   ]
  },
  {
   "cell_type": "code",
   "metadata": {
    "ExecutionIndicator": {
     "show": true
    },
    "execution": {
     "iopub.execute_input": "2025-02-08T16:03:06.778889Z",
     "iopub.status.busy": "2025-02-08T16:03:06.778594Z",
     "iopub.status.idle": "2025-02-08T16:03:06.784216Z",
     "shell.execute_reply": "2025-02-08T16:03:06.783497Z",
     "shell.execute_reply.started": "2025-02-08T16:03:06.778863Z"
    },
    "id": "c_Mmw5GAJzbe",
    "tags": [],
    "ExecuteTime": {
     "end_time": "2025-02-10T08:56:10.599072Z",
     "start_time": "2025-02-10T08:56:10.594012Z"
    }
   },
   "source": [
    "def cross_entropy_with_padding(logits, labels, padding_mask=None):\n",
    "    # logits.shape = [batch size, sequence length, num of classes]\n",
    "    # labels.shape = [batch size, sequence length]\n",
    "    # padding_mask.shape = [batch size, sequence length]\n",
    "    bs, seq_len, nc = logits.shape\n",
    "    loss = F.cross_entropy(logits.reshape(bs * seq_len, nc), labels.reshape(-1), reduction='none') #reduce=False表示不对batch求平均(现在已过时，改用reduction='none')\n",
    "    if padding_mask is None:#如果没有padding_mask，就直接求平均\n",
    "        loss = loss.mean()\n",
    "    else:\n",
    "        # 如果提供了 padding_mask，则将填充部分的损失去除后计算有效损失的均值。首先，通过将 padding_mask reshape 成一维张量，并取 1 减去得到填充掩码。这样填充部分的掩码值变为 1，非填充部分变为 0。将损失张量与填充掩码相乘，这样填充部分的损失就会变为 0。然后，计算非填充部分的损失和（sum）以及非填充部分的掩码数量（sum）作为有效损失的均值计算。(因为上面我们设计的mask的token是0，所以这里是1-padding_mask)\n",
    "        padding_mask = 1 - padding_mask.reshape(-1) # 将padding_mask reshape成一维张量，mask部分为0，非mask部分为1\n",
    "        loss = torch.mul(loss, padding_mask).sum() / padding_mask.sum()\n",
    "\n",
    "    return loss"
   ],
   "outputs": [],
   "execution_count": 25
  },
  {
   "cell_type": "markdown",
   "metadata": {
    "id": "ITY9VUiiJzbe"
   },
   "source": [
    "### Callback"
   ]
  },
  {
   "cell_type": "code",
   "metadata": {
    "execution": {
     "iopub.execute_input": "2025-02-08T16:03:06.785387Z",
     "iopub.status.busy": "2025-02-08T16:03:06.785086Z",
     "iopub.status.idle": "2025-02-08T16:03:09.237199Z",
     "shell.execute_reply": "2025-02-08T16:03:09.236369Z",
     "shell.execute_reply.started": "2025-02-08T16:03:06.785362Z"
    },
    "id": "qez1fjOPJzbe",
    "ExecuteTime": {
     "end_time": "2025-02-10T08:56:13.928570Z",
     "start_time": "2025-02-10T08:56:10.600070Z"
    }
   },
   "source": [
    "from torch.utils.tensorboard import SummaryWriter\n",
    "\n",
    "\n",
    "class TensorBoardCallback:\n",
    "    def __init__(self, log_dir, flush_secs=10):\n",
    "        \"\"\"\n",
    "        Args:\n",
    "            log_dir (str): dir to write log.\n",
    "            flush_secs (int, optional): write to dsk each flush_secs seconds. Defaults to 10.\n",
    "        \"\"\"\n",
    "        self.writer = SummaryWriter(log_dir=log_dir, flush_secs=flush_secs)\n",
    "\n",
    "    def draw_model(self, model, input_shape):\n",
    "        self.writer.add_graph(model, input_to_model=torch.randn(input_shape))\n",
    "\n",
    "    def add_loss_scalars(self, step, loss, val_loss):\n",
    "        self.writer.add_scalars(\n",
    "            main_tag=\"training/loss\",\n",
    "            tag_scalar_dict={\"loss\": loss, \"val_loss\": val_loss},\n",
    "            global_step=step,\n",
    "            )\n",
    "\n",
    "    def add_acc_scalars(self, step, acc, val_acc):\n",
    "        self.writer.add_scalars(\n",
    "            main_tag=\"training/accuracy\",\n",
    "            tag_scalar_dict={\"accuracy\": acc, \"val_accuracy\": val_acc},\n",
    "            global_step=step,\n",
    "        )\n",
    "\n",
    "    def add_lr_scalars(self, step, learning_rate):\n",
    "        self.writer.add_scalars(\n",
    "            main_tag=\"training/learning_rate\",\n",
    "            tag_scalar_dict={\"learning_rate\": learning_rate},\n",
    "            global_step=step,\n",
    "\n",
    "        )\n",
    "\n",
    "    def __call__(self, step, **kwargs):\n",
    "        # add loss\n",
    "        loss = kwargs.pop(\"loss\", None)\n",
    "        val_loss = kwargs.pop(\"val_loss\", None)\n",
    "        if loss is not None and val_loss is not None:\n",
    "            self.add_loss_scalars(step, loss, val_loss)\n",
    "        # add acc\n",
    "        acc = kwargs.pop(\"acc\", None)\n",
    "        val_acc = kwargs.pop(\"val_acc\", None)\n",
    "        if acc is not None and val_acc is not None:\n",
    "            self.add_acc_scalars(step, acc, val_acc)\n",
    "        # add lr\n",
    "        learning_rate = kwargs.pop(\"lr\", None)\n",
    "        if learning_rate is not None:\n",
    "            self.add_lr_scalars(step, learning_rate)"
   ],
   "outputs": [],
   "execution_count": 26
  },
  {
   "cell_type": "code",
   "metadata": {
    "execution": {
     "iopub.execute_input": "2025-02-08T16:03:09.238791Z",
     "iopub.status.busy": "2025-02-08T16:03:09.238213Z",
     "iopub.status.idle": "2025-02-08T16:03:09.245827Z",
     "shell.execute_reply": "2025-02-08T16:03:09.245090Z",
     "shell.execute_reply.started": "2025-02-08T16:03:09.238762Z"
    },
    "id": "wXtxS8ukJzbe",
    "ExecuteTime": {
     "end_time": "2025-02-10T08:56:13.932973Z",
     "start_time": "2025-02-10T08:56:13.928570Z"
    }
   },
   "source": [
    "class SaveCheckpointsCallback:\n",
    "    def __init__(self, save_dir, save_step=5000, save_best_only=True):\n",
    "        \"\"\"\n",
    "        Save checkpoints each save_epoch epoch.\n",
    "        We save checkpoint by epoch in this implementation.\n",
    "        Usually, training scripts with pytorch evaluating model and save checkpoint by step.\n",
    "\n",
    "        Args:\n",
    "            save_dir (str): dir to save checkpoint\n",
    "            save_epoch (int, optional): the frequency to save checkpoint. Defaults to 1.\n",
    "            save_best_only (bool, optional): If True, only save the best model or save each model at every epoch.\n",
    "        \"\"\"\n",
    "        self.save_dir = save_dir\n",
    "        self.save_step = save_step\n",
    "        self.save_best_only = save_best_only\n",
    "        self.best_metrics = - np.inf\n",
    "\n",
    "        # mkdir\n",
    "        if not os.path.exists(self.save_dir):\n",
    "            os.mkdir(self.save_dir)\n",
    "\n",
    "    def __call__(self, step, state_dict, metric=None):\n",
    "        if step % self.save_step > 0:\n",
    "            return\n",
    "\n",
    "        if self.save_best_only:\n",
    "            assert metric is not None\n",
    "            if metric >= self.best_metrics:\n",
    "                # save checkpoints\n",
    "                torch.save(state_dict, os.path.join(self.save_dir, \"best.ckpt\"))\n",
    "                # update best metrics\n",
    "                self.best_metrics = metric\n",
    "        else:\n",
    "            torch.save(state_dict, os.path.join(self.save_dir, f\"{step}.ckpt\"))"
   ],
   "outputs": [],
   "execution_count": 27
  },
  {
   "cell_type": "code",
   "metadata": {
    "execution": {
     "iopub.execute_input": "2025-02-08T16:03:09.247458Z",
     "iopub.status.busy": "2025-02-08T16:03:09.247140Z",
     "iopub.status.idle": "2025-02-08T16:03:09.253070Z",
     "shell.execute_reply": "2025-02-08T16:03:09.252274Z",
     "shell.execute_reply.started": "2025-02-08T16:03:09.247432Z"
    },
    "id": "lfzfWswRJzbe",
    "ExecuteTime": {
     "end_time": "2025-02-10T08:56:13.937764Z",
     "start_time": "2025-02-10T08:56:13.933973Z"
    }
   },
   "source": [
    "class EarlyStopCallback:\n",
    "    def __init__(self, patience=5, min_delta=0.01):\n",
    "        \"\"\"\n",
    "\n",
    "        Args:\n",
    "            patience (int, optional): Number of epochs with no improvement after which training will be stopped.. Defaults to 5.\n",
    "            min_delta (float, optional): Minimum change in the monitored quantity to qualify as an improvement, i.e. an absolute\n",
    "                change of less than min_delta, will count as no improvement. Defaults to 0.01.\n",
    "        \"\"\"\n",
    "        self.patience = patience\n",
    "        self.min_delta = min_delta\n",
    "        self.best_metric = - np.inf\n",
    "        self.counter = 0\n",
    "\n",
    "    def __call__(self, metric):\n",
    "        if metric >= self.best_metric + self.min_delta:\n",
    "            # update best metric\n",
    "            self.best_metric = metric\n",
    "            # reset counter\n",
    "            self.counter = 0\n",
    "        else:\n",
    "            self.counter += 1\n",
    "\n",
    "    @property\n",
    "    def early_stop(self):\n",
    "        return self.counter >= self.patience"
   ],
   "outputs": [],
   "execution_count": 28
  },
  {
   "cell_type": "markdown",
   "metadata": {
    "id": "F2f3S6z7Jzbf"
   },
   "source": [
    "### training & valuating"
   ]
  },
  {
   "cell_type": "code",
   "metadata": {
    "execution": {
     "iopub.execute_input": "2025-02-08T16:03:09.254690Z",
     "iopub.status.busy": "2025-02-08T16:03:09.254379Z",
     "iopub.status.idle": "2025-02-08T16:03:09.260418Z",
     "shell.execute_reply": "2025-02-08T16:03:09.259684Z",
     "shell.execute_reply.started": "2025-02-08T16:03:09.254665Z"
    },
    "id": "IOlJp26YJzbf",
    "ExecuteTime": {
     "end_time": "2025-02-10T08:56:13.942174Z",
     "start_time": "2025-02-10T08:56:13.937764Z"
    }
   },
   "source": [
    "@torch.no_grad()  # 禁用梯度计算，以节省内存并提高速度\n",
    "def evaluating(model, dataloader, loss_fct):\n",
    "    loss_list = []  # 用于存储每个batch的损失\n",
    "    for batch in dataloader:  # 遍历数据加载器中的每个batch\n",
    "        encoder_inputs = batch[\"encoder_inputs\"]  # 获取编码器输入\n",
    "        encoder_inputs_mask = batch[\"encoder_inputs_mask\"]  # 获取编码器输入的mask\n",
    "        decoder_inputs = batch[\"decoder_inputs\"]  # 获取解码器输入\n",
    "        decoder_labels = batch[\"decoder_labels\"]  # 获取解码器标签\n",
    "        decoder_labels_mask = batch[\"decoder_labels_mask\"]  # 获取解码器标签的mask\n",
    "\n",
    "        # 前向计算，获得预测的logits（即模型输出）\n",
    "        logits, _ = model(\n",
    "            encoder_inputs=encoder_inputs,\n",
    "            decoder_inputs=decoder_inputs,\n",
    "            attn_mask=encoder_inputs_mask  # 编码器的mask用于注意力机制\n",
    "        )  # model是一个seq2seq模型，返回logits和其他信息（此处未使用）\n",
    "\n",
    "        # 计算损失\n",
    "        loss = loss_fct(logits, decoder_labels, padding_mask=decoder_labels_mask)  # 根据预测结果和真实标签计算损失\n",
    "        loss_list.append(loss.cpu().item())  # 将损失添加到列表中，并转移到CPU以便后续操作\n",
    "\n",
    "    # 返回所有batch的平均损失\n",
    "    return np.mean(loss_list)"
   ],
   "outputs": [],
   "execution_count": 29
  },
  {
   "cell_type": "code",
   "metadata": {
    "colab": {
     "base_uri": "https://localhost:8080/",
     "height": 101,
     "referenced_widgets": [
      "267a9f8d838c4649b208914938b1bcff",
      "a9552c62dcb4441fbca47f89e939759d",
      "7dc472c2f73f4443a0e8437074e67476",
      "c46cefacefb54be7ad60ca93855de3ca",
      "9ebbd2d91c9849baaa85cff5b2b048e1",
      "63c6ee4650cb4a938e9f325113e259d1",
      "95d9e57c587f43e6ba5f656f2b2e5c71",
      "863e7ad581894502979884fe0e9e412e",
      "7d21bf5788794ed2b0b4dc4a98a5d2e9",
      "296304e90e43440094ba467cafb20896",
      "c3d8fddae7354c278c8e88291dbcee8d"
     ]
    },
    "execution": {
     "iopub.execute_input": "2025-02-08T16:03:09.262102Z",
     "iopub.status.busy": "2025-02-08T16:03:09.261710Z",
     "iopub.status.idle": "2025-02-08T16:03:11.146466Z",
     "shell.execute_reply": "2025-02-08T16:03:11.145598Z",
     "shell.execute_reply.started": "2025-02-08T16:03:09.262076Z"
    },
    "id": "brzx2uFHJzbf",
    "outputId": "6c482ef7-5b4c-41e8-954f-6e9d0a034d1b",
    "ExecuteTime": {
     "end_time": "2025-02-10T08:56:16.027611Z",
     "start_time": "2025-02-10T08:56:13.943173Z"
    }
   },
   "source": [
    "# 训练函数\n",
    "def training(\n",
    "    model,\n",
    "    train_loader,\n",
    "    val_loader,\n",
    "    epoch,\n",
    "    loss_fct,\n",
    "    optimizer,\n",
    "    tensorboard_callback=None,\n",
    "    save_ckpt_callback=None,\n",
    "    early_stop_callback=None,\n",
    "    eval_step=500,\n",
    "    ):\n",
    "    # 用于记录训练和验证过程中每个步骤的损失\n",
    "    record_dict = {\n",
    "        \"train\": [],\n",
    "        \"val\": []\n",
    "    }\n",
    "\n",
    "    global_step = 1  # 全局步数，用于记录训练过程中的进度\n",
    "    model.train()  # 切换到训练模式，启用 Dropout 和 BatchNorm 等层的训练行为\n",
    "    with tqdm(total=epoch * len(train_loader)) as pbar:  # 用进度条显示训练过程\n",
    "        for epoch_id in range(epoch):  # 遍历每个训练周期（epoch）\n",
    "            # 开始训练\n",
    "            for batch in train_loader:  # 遍历训练集中的每个batch\n",
    "                encoder_inputs = batch[\"encoder_inputs\"]  # 获取编码器的输入数据\n",
    "                encoder_inputs_mask = batch[\"encoder_inputs_mask\"]  # 获取编码器输入的mask\n",
    "                decoder_inputs = batch[\"decoder_inputs\"]  # 获取解码器的输入数据\n",
    "                decoder_labels = batch[\"decoder_labels\"]  # 获取解码器的标签\n",
    "                decoder_labels_mask = batch[\"decoder_labels_mask\"]  # 获取解码器标签的mask\n",
    "\n",
    "                # 清空梯度，以防止梯度累积\n",
    "                optimizer.zero_grad()\n",
    "\n",
    "                # 前向计算，获取模型的预测值\n",
    "                logits, _ = model(\n",
    "                    encoder_inputs=encoder_inputs,\n",
    "                    decoder_inputs=decoder_inputs,\n",
    "                    attn_mask=encoder_inputs_mask  # 编码器输入的mask，供注意力机制使用\n",
    "                )\n",
    "                # 计算损失，loss_fct为损失函数\n",
    "                loss = loss_fct(logits, decoder_labels, padding_mask=decoder_labels_mask)\n",
    "\n",
    "                # 反向传播，计算梯度\n",
    "                loss.backward()\n",
    "\n",
    "                # 执行优化器步骤，更新模型参数\n",
    "                optimizer.step()\n",
    "\n",
    "                # 将损失转移到CPU并获取损失值\n",
    "                loss = loss.cpu().item()\n",
    "                \n",
    "                # 记录训练过程中的损失\n",
    "                record_dict[\"train\"].append({\n",
    "                    \"loss\": loss, \"step\": global_step\n",
    "                })\n",
    "\n",
    "                # 每经过eval_step步进行一次评估\n",
    "                if global_step % eval_step == 0:\n",
    "                    model.eval()  # 切换到评估模式，禁用 Dropout 和 BatchNorm\n",
    "                    # 在验证集上计算损失\n",
    "                    val_loss = evaluating(model, val_loader, loss_fct)\n",
    "                    # 记录验证集的损失\n",
    "                    record_dict[\"val\"].append({\n",
    "                        \"loss\": val_loss, \"step\": global_step\n",
    "                    })\n",
    "                    model.train()  # 切换回训练模式\n",
    "\n",
    "                    # 1. 使用 tensorboard 可视化训练过程\n",
    "                    if tensorboard_callback is not None:\n",
    "                        tensorboard_callback(\n",
    "                            global_step,\n",
    "                            loss=loss, val_loss=val_loss,  # 记录损失\n",
    "                            lr=optimizer.param_groups[0][\"lr\"],  # 记录当前学习率\n",
    "                        )\n",
    "\n",
    "                    # 2. 保存模型权重（checkpoint）\n",
    "                    if save_ckpt_callback is not None:\n",
    "                        save_ckpt_callback(global_step, model.state_dict(), metric=-val_loss)\n",
    "\n",
    "                    # 3. 早停判断\n",
    "                    if early_stop_callback is not None:\n",
    "                        early_stop_callback(-val_loss)  # 基于负验证损失判断是否早停\n",
    "                        if early_stop_callback.early_stop:\n",
    "                            print(f\"Early stop at epoch {epoch_id} / global_step {global_step}\")\n",
    "                            return record_dict  # 如果触发早停，结束训练并返回记录\n",
    "\n",
    "                # 更新步数\n",
    "                global_step += 1\n",
    "                pbar.update(1)  # 更新进度条\n",
    "            # 更新当前epoch的进度\n",
    "            pbar.set_postfix({\"epoch\": epoch_id, \"loss\": loss, \"val_loss\": val_loss}) \n",
    "\n",
    "    return record_dict  # 返回训练和验证过程中的记录\n",
    "\n",
    "\n",
    "# 配置训练参数\n",
    "epoch = 20  # 训练周期\n",
    "batch_size = 64  # 每个batch的大小\n",
    "\n",
    "# 初始化模型\n",
    "model = Sequence2Sequence(src_vocab_size=len(src_word2idx), trg_vocab_size=len(trg_word2idx))\n",
    "train_dl = DataLoader(train_ds, batch_size=batch_size, shuffle=True, collate_fn=collate_fct)\n",
    "test_dl = DataLoader(test_ds, batch_size=batch_size, shuffle=False, collate_fn=collate_fct)\n",
    "\n",
    "# 1. 定义损失函数：交叉熵损失\n",
    "loss_fct = cross_entropy_with_padding\n",
    "\n",
    "# 2. 定义优化器：Adam优化器\n",
    "optimizer = torch.optim.Adam(model.parameters(), lr=0.001)\n",
    "\n",
    "# 1. tensorboard 可视化配置\n",
    "if not os.path.exists(\"runs\"):\n",
    "    os.mkdir(\"runs\")\n",
    "exp_name = \"translate-seq2seq\"\n",
    "tensorboard_callback = TensorBoardCallback(f\"runs/{exp_name}\")\n",
    "\n",
    "# 2. 定义保存模型权重的回调函数\n",
    "if not os.path.exists(\"checkpoints\"):\n",
    "    os.makedirs(\"checkpoints\")\n",
    "save_ckpt_callback = SaveCheckpointsCallback(\n",
    "    f\"checkpoints/{exp_name}\", save_step=200, save_best_only=True)\n",
    "\n",
    "# 3. 定义早停回调函数\n",
    "early_stop_callback = EarlyStopCallback(patience=5)\n",
    "\n",
    "# 将模型移到GPU上\n",
    "model = model.to(device)"
   ],
   "outputs": [],
   "execution_count": 30
  },
  {
   "cell_type": "code",
   "metadata": {
    "execution": {
     "iopub.execute_input": "2025-02-08T16:03:11.148105Z",
     "iopub.status.busy": "2025-02-08T16:03:11.147452Z",
     "iopub.status.idle": "2025-02-08T16:13:31.356991Z",
     "shell.execute_reply": "2025-02-08T16:13:31.356243Z",
     "shell.execute_reply.started": "2025-02-08T16:03:11.148066Z"
    },
    "tags": [],
    "ExecuteTime": {
     "end_time": "2025-02-10T09:18:45.750890Z",
     "start_time": "2025-02-10T08:56:16.027611Z"
    }
   },
   "source": [
    "# 开始训练\n",
    "record = training(\n",
    "    model,\n",
    "    train_dl,\n",
    "    test_dl,\n",
    "    epoch,\n",
    "    loss_fct,\n",
    "    optimizer,\n",
    "    tensorboard_callback=tensorboard_callback,\n",
    "    save_ckpt_callback=save_ckpt_callback,\n",
    "    early_stop_callback=early_stop_callback,\n",
    "    eval_step=200\n",
    ")"
   ],
   "outputs": [
    {
     "data": {
      "text/plain": [
       "  0%|          | 0/33520 [00:00<?, ?it/s]"
      ],
      "application/vnd.jupyter.widget-view+json": {
       "version_major": 2,
       "version_minor": 0,
       "model_id": "6ff6b266915a47c8b89e53faea5c0514"
      }
     },
     "metadata": {},
     "output_type": "display_data"
    },
    {
     "name": "stdout",
     "output_type": "stream",
     "text": [
      "Early stop at epoch 5 / global_step 9200\n"
     ]
    }
   ],
   "execution_count": 31
  },
  {
   "cell_type": "code",
   "metadata": {
    "collapsed": false,
    "execution": {
     "iopub.execute_input": "2025-02-08T16:13:31.358536Z",
     "iopub.status.busy": "2025-02-08T16:13:31.358169Z",
     "iopub.status.idle": "2025-02-08T16:13:31.363997Z",
     "shell.execute_reply": "2025-02-08T16:13:31.363298Z",
     "shell.execute_reply.started": "2025-02-08T16:13:31.358497Z"
    },
    "jupyter": {
     "outputs_hidden": false
    },
    "ExecuteTime": {
     "end_time": "2025-02-10T09:18:45.755759Z",
     "start_time": "2025-02-10T09:18:45.751892Z"
    }
   },
   "source": [
    "#计算模型参数量\n",
    "sum(i[1].numel() for i in model.named_parameters())"
   ],
   "outputs": [
    {
     "data": {
      "text/plain": [
       "35212249"
      ]
     },
     "execution_count": 32,
     "metadata": {},
     "output_type": "execute_result"
    }
   ],
   "execution_count": 32
  },
  {
   "cell_type": "code",
   "metadata": {
    "collapsed": false,
    "execution": {
     "iopub.execute_input": "2025-02-08T16:13:31.365458Z",
     "iopub.status.busy": "2025-02-08T16:13:31.365144Z",
     "iopub.status.idle": "2025-02-08T16:13:31.370857Z",
     "shell.execute_reply": "2025-02-08T16:13:31.370070Z",
     "shell.execute_reply.started": "2025-02-08T16:13:31.365433Z"
    },
    "jupyter": {
     "outputs_hidden": false
    },
    "ExecuteTime": {
     "end_time": "2025-02-10T09:18:45.761163Z",
     "start_time": "2025-02-10T09:18:45.756758Z"
    }
   },
   "source": [
    "33520/20"
   ],
   "outputs": [
    {
     "data": {
      "text/plain": [
       "1676.0"
      ]
     },
     "execution_count": 33,
     "metadata": {},
     "output_type": "execute_result"
    }
   ],
   "execution_count": 33
  },
  {
   "cell_type": "code",
   "metadata": {
    "collapsed": false,
    "execution": {
     "iopub.execute_input": "2025-02-08T16:13:31.372152Z",
     "iopub.status.busy": "2025-02-08T16:13:31.371821Z",
     "iopub.status.idle": "2025-02-08T16:13:31.377346Z",
     "shell.execute_reply": "2025-02-08T16:13:31.376530Z",
     "shell.execute_reply.started": "2025-02-08T16:13:31.372127Z"
    },
    "jupyter": {
     "outputs_hidden": false
    },
    "ExecuteTime": {
     "end_time": "2025-02-10T09:18:45.766843Z",
     "start_time": "2025-02-10T09:18:45.762173Z"
    }
   },
   "source": [
    "118964*0.9/64"
   ],
   "outputs": [
    {
     "data": {
      "text/plain": [
       "1672.93125"
      ]
     },
     "execution_count": 34,
     "metadata": {},
     "output_type": "execute_result"
    }
   ],
   "execution_count": 34
  },
  {
   "cell_type": "code",
   "metadata": {
    "colab": {
     "base_uri": "https://localhost:8080/",
     "height": 430
    },
    "execution": {
     "iopub.execute_input": "2025-02-08T16:13:31.378599Z",
     "iopub.status.busy": "2025-02-08T16:13:31.378296Z",
     "iopub.status.idle": "2025-02-08T16:13:31.531056Z",
     "shell.execute_reply": "2025-02-08T16:13:31.530163Z",
     "shell.execute_reply.started": "2025-02-08T16:13:31.378574Z"
    },
    "id": "mAKeaApNJzbf",
    "outputId": "2933f0b5-29b1-47bc-a6dd-63350da513ca",
    "ExecuteTime": {
     "end_time": "2025-02-10T09:18:45.862479Z",
     "start_time": "2025-02-10T09:18:45.767851Z"
    }
   },
   "source": [
    "plt.plot([i[\"step\"] for i in record[\"train\"]], [i[\"loss\"] for i in record[\"train\"]], label=\"train\")\n",
    "plt.plot([i[\"step\"] for i in record[\"val\"]], [i[\"loss\"] for i in record[\"val\"]], label=\"val\")\n",
    "plt.grid()\n",
    "plt.show()"
   ],
   "outputs": [
    {
     "data": {
      "text/plain": [
       "<Figure size 640x480 with 1 Axes>"
      ],
      "image/png": "[encoded data removed]"
     },
     "metadata": {},
     "output_type": "display_data"
    }
   ],
   "execution_count": 35
  },
  {
   "cell_type": "markdown",
   "metadata": {
    "id": "UOSROA66Jzbg"
   },
   "source": [
    "## 推理\n",
    "\n",
    "- 翻译项目的评估指标一般是BLEU4，感兴趣的同学自行了解并实现\n",
    "- 接下来进行翻译推理，并作出注意力的热度图"
   ]
  },
  {
   "cell_type": "code",
   "metadata": {
    "ExecutionIndicator": {
     "show": true
    },
    "colab": {
     "base_uri": "https://localhost:8080/",
     "height": 875
    },
    "execution": {
     "iopub.execute_input": "2025-02-08T16:23:48.728545Z",
     "iopub.status.busy": "2025-02-08T16:23:48.727784Z",
     "iopub.status.idle": "2025-02-08T16:23:49.123856Z",
     "shell.execute_reply": "2025-02-08T16:23:49.123029Z",
     "shell.execute_reply.started": "2025-02-08T16:23:48.728506Z"
    },
    "id": "cX75BqcBJzbg",
    "outputId": "e9dcbb2c-5188-4f2e-a1ac-793fe5f40b19",
    "tags": [],
    "ExecuteTime": {
     "end_time": "2025-02-10T09:18:46.196283Z",
     "start_time": "2025-02-10T09:18:45.863479Z"
    }
   },
   "source": [
    "# 加载已保存的模型检查点，模型进行上线\n",
    "model = Sequence2Sequence(len(src_word2idx), len(trg_word2idx))\n",
    "# 载入训练时保存的模型参数，参数存储在指定路径\n",
    "model.load_state_dict(torch.load(f\"./checkpoints/translate-seq2seq/best.ckpt\", map_location=\"cpu\",weights_only=True))\n",
    "\n",
    "class Translator:\n",
    "    def __init__(self, model, src_tokenizer, trg_tokenizer):\n",
    "        \"\"\"初始化Translator类\n",
    "        \n",
    "        Args:\n",
    "            - model: 训练好的模型，用于推理和生成翻译\n",
    "            - src_tokenizer: 源语言的tokenizer，用于编码输入句子\n",
    "            - trg_tokenizer: 目标语言的tokenizer，用于解码输出句子\n",
    "        \"\"\"\n",
    "        self.model = model\n",
    "        self.model.eval()  # 将模型设置为评估模式，禁用dropout等训练时特有的机制\n",
    "        self.src_tokenizer = src_tokenizer  # 源语言tokenizer\n",
    "        self.trg_tokenizer = trg_tokenizer  # 目标语言tokenizer\n",
    "\n",
    "    def draw_attention_map(self, scores, src_words_list, trg_words_list):\n",
    "        \"\"\"绘制注意力热力图\n",
    "\n",
    "        该函数用于展示注意力分数的矩阵，可以可视化源语言和目标语言之间的注意力关系。\n",
    "\n",
    "        Args:\n",
    "            - scores (numpy.ndarray): 形状为 [source sequence length, target sequence length] 的矩阵\n",
    "            - src_words_list (list): 源语言句子的单词列表\n",
    "            - trg_words_list (list): 目标语言句子的单词列表\n",
    "        \"\"\"\n",
    "        plt.matshow(scores.T, cmap='viridis')  # 使用viridis色图显示注意力矩阵\n",
    "        ax = plt.gca()  # 获取当前的轴\n",
    "\n",
    "        # 为热图中的每个单元格添加分数值的文本\n",
    "        for i in range(scores.shape[0]):  # 遍历源语言句子的长度\n",
    "            for j in range(scores.shape[1]):  # 遍历目标语言句子的长度\n",
    "                ax.text(j, i, f'{scores[i, j]:.2f}',  # 格式化为两位小数显示\n",
    "                        ha='center', va='center', color='k')  # 设置文本的对齐方式和颜色\n",
    "\n",
    "        # 设置x轴和y轴的标签为源语言和目标语言的单词\n",
    "        plt.xticks(range(scores.shape[0]), src_words_list)\n",
    "        plt.yticks(range(scores.shape[1]), trg_words_list)\n",
    "        plt.show()  # 显示绘制的热力图\n",
    "\n",
    "    def __call__(self, sentence):\n",
    "        \"\"\"对输入句子进行翻译，并绘制注意力热力图\n",
    "\n",
    "        该方法接收一个源语言句子，进行预处理、编码、模型推理和解码，并返回翻译结果。\n",
    "\n",
    "        Args:\n",
    "            - sentence (str): 输入的源语言句子\n",
    "        \n",
    "        Returns:\n",
    "            - str: 翻译后的目标语言句子\n",
    "        \"\"\"\n",
    "        sentence = preprocess_sentence(sentence)  # 预处理输入的句子（例如去除标点符号等）\n",
    "        \n",
    "        # 使用源语言的tokenizer对句子进行编码，返回编码后的输入和attention mask\n",
    "        encoder_input, attn_mask = self.src_tokenizer.encode(\n",
    "            [sentence.split()],\n",
    "            padding_first=True,  # 在输入句子前面补齐\n",
    "            add_bos=True,  # 添加BOS (开始符)\n",
    "            add_eos=True,  # 添加EOS (结束符)\n",
    "            return_mask=True,  # 返回attention mask\n",
    "        )\n",
    "        encoder_input = torch.Tensor(encoder_input).to(dtype=torch.int64)  # 转换为Tensor并指定数据类型为int64\n",
    "\n",
    "        # 使用模型进行推理，获取预测结果和注意力分数\n",
    "        preds, scores = model.infer(encoder_input=encoder_input, attn_mask=attn_mask)\n",
    "\n",
    "        # 使用目标语言tokenizer解码预测结果，去除EOS符号\n",
    "        trg_sentence = self.trg_tokenizer.decode([preds], split=True, remove_eos=False)[0]\n",
    "\n",
    "        # 对源语言的编码id进行解码，转换为对应的文字（用于绘制注意力图）\n",
    "        src_decoded = self.src_tokenizer.decode(\n",
    "            encoder_input.tolist(),\n",
    "            split=True,\n",
    "            remove_bos=False,\n",
    "            remove_eos=False\n",
    "        )[0]\n",
    "\n",
    "        # 绘制注意力热力图\n",
    "        self.draw_attention_map(\n",
    "            scores.squeeze(0).numpy(),  # 将注意力分数转为numpy数组并去掉多余的维度\n",
    "            src_decoded,  # 源语言句子（用于绘图）\n",
    "            trg_sentence  # 目标语言句子（用于绘图）\n",
    "        )\n",
    "\n",
    "        # 返回翻译结果（去除最后的EOS符号）\n",
    "        return \" \".join(trg_sentence[:-1])  # 去掉目标语言句子中的EOS符号并返回"
   ],
   "outputs": [],
   "execution_count": 36
  },
  {
   "cell_type": "code",
   "metadata": {
    "collapsed": false,
    "execution": {
     "iopub.execute_input": "2025-02-08T16:14:12.170003Z",
     "iopub.status.busy": "2025-02-08T16:14:12.169517Z",
     "iopub.status.idle": "2025-02-08T16:14:12.404142Z",
     "shell.execute_reply": "2025-02-08T16:14:12.403345Z",
     "shell.execute_reply.started": "2025-02-08T16:14:12.169970Z"
    },
    "jupyter": {
     "outputs_hidden": false
    },
    "tags": [],
    "ExecuteTime": {
     "end_time": "2025-02-10T09:18:46.347608Z",
     "start_time": "2025-02-10T09:18:46.196283Z"
    }
   },
   "source": [
    "translator = Translator(model.cpu(), src_tokenizer, trg_tokenizer)\n",
    "translator(u'hace mucho frio aqui .')"
   ],
   "outputs": [
    {
     "data": {
      "text/plain": [
       "<Figure size 480x480 with 1 Axes>"
      ],
      "image/png": "[encoded data removed]"
     },
     "metadata": {},
     "output_type": "display_data"
    },
    {
     "data": {
      "text/plain": [
       "'it s very cold here .'"
      ]
     },
     "execution_count": 37,
     "metadata": {},
     "output_type": "execute_result"
    }
   ],
   "execution_count": 37
  },
  {
   "cell_type": "code",
   "metadata": {
    "collapsed": false,
    "execution": {
     "iopub.execute_input": "2025-02-08T16:14:14.969824Z",
     "iopub.status.busy": "2025-02-08T16:14:14.969329Z",
     "iopub.status.idle": "2025-02-08T16:14:15.166997Z",
     "shell.execute_reply": "2025-02-08T16:14:15.166074Z",
     "shell.execute_reply.started": "2025-02-08T16:14:14.969790Z"
    },
    "jupyter": {
     "outputs_hidden": false
    },
    "tags": [],
    "ExecuteTime": {
     "end_time": "2025-02-10T09:18:46.475695Z",
     "start_time": "2025-02-10T09:18:46.348608Z"
    }
   },
   "source": [
    "translator(u'esta es mi vida.')"
   ],
   "outputs": [
    {
     "data": {
      "text/plain": [
       "<Figure size 560x480 with 1 Axes>"
      ],
      "image/png": "[encoded data removed]"
     },
     "metadata": {},
     "output_type": "display_data"
    },
    {
     "data": {
      "text/plain": [
       "'this is my life .'"
      ]
     },
     "execution_count": 38,
     "metadata": {},
     "output_type": "execute_result"
    }
   ],
   "execution_count": 38
  },
  {
   "cell_type": "code",
   "metadata": {
    "execution": {
     "iopub.execute_input": "2025-02-08T16:14:26.151349Z",
     "iopub.status.busy": "2025-02-08T16:14:26.150734Z",
     "iopub.status.idle": "2025-02-08T16:23:30.211871Z",
     "shell.execute_reply": "2025-02-08T16:23:30.211091Z",
     "shell.execute_reply.started": "2025-02-08T16:14:26.151313Z"
    },
    "tags": [],
    "ExecuteTime": {
     "end_time": "2025-02-10T09:28:00.647121Z",
     "start_time": "2025-02-10T09:18:46.476701Z"
    }
   },
   "source": [
    "from tqdm import tqdm  # 导入 tqdm 库\n",
    "from nltk.translate.bleu_score import sentence_bleu\n",
    "import torch\n",
    "\n",
    "# 加载训练好的模型并进行上线\n",
    "model = Sequence2Sequence(len(src_word2idx), len(trg_word2idx))\n",
    "# 载入保存的模型参数，模型存储路径为\"./checkpoints/translate-seq2seq/best.ckpt\"，并指定设备为cpu\n",
    "model.load_state_dict(torch.load(f\"./checkpoints/translate-seq2seq/best.ckpt\", map_location=\"cpu\",weights_only=True))\n",
    "\n",
    "class Translator:\n",
    "    def __init__(self, model, src_tokenizer, trg_tokenizer):\n",
    "        \"\"\"\n",
    "        初始化翻译器类，用于对输入句子进行翻译并返回翻译结果。\n",
    "\n",
    "        Args:\n",
    "            - model: 训练好的Sequence2Sequence模型\n",
    "            - src_tokenizer: 用于源语言的tokenizer\n",
    "            - trg_tokenizer: 用于目标语言的tokenizer\n",
    "        \"\"\"\n",
    "        self.model = model  # 保存模型\n",
    "        self.model.eval()  # 设置模型为评估模式，禁用dropout等训练时特有的机制\n",
    "        self.src_tokenizer = src_tokenizer  # 保存源语言tokenizer\n",
    "        self.trg_tokenizer = trg_tokenizer  # 保存目标语言tokenizer\n",
    "\n",
    "    def __call__(self, sentence):\n",
    "        \"\"\"\n",
    "        对输入的句子进行翻译，生成目标语言句子。\n",
    "\n",
    "        Args:\n",
    "            - sentence: 输入的源语言句子\n",
    "\n",
    "        Returns:\n",
    "            - str: 生成的目标语言翻译句子\n",
    "        \"\"\"\n",
    "        sentence = preprocess_sentence(sentence)  # 预处理输入的句子，处理标点符号等\n",
    "\n",
    "        # 使用源语言tokenizer对输入句子进行编码，返回编码后的输入序列和attention mask\n",
    "        encoder_input, attn_mask = self.src_tokenizer.encode(\n",
    "            [sentence.split()],\n",
    "            padding_first=True,  # 在句子前添加padding\n",
    "            add_bos=True,  # 在句子前添加BOS（开始符号）\n",
    "            add_eos=True,  # 在句子后添加EOS（结束符号）\n",
    "            return_mask=True,  # 返回attention mask\n",
    "        )\n",
    "        \n",
    "        # 将编码后的输入序列转换为Tensor，并指定数据类型为int64\n",
    "        encoder_input = torch.Tensor(encoder_input).to(dtype=torch.int64)\n",
    "\n",
    "        # 使用模型进行推理，得到预测的目标语言句子及其对应的注意力分数\n",
    "        preds, scores = model.infer(encoder_input=encoder_input, attn_mask=attn_mask)\n",
    "\n",
    "        # 使用目标语言的tokenizer将预测的token序列解码为目标语言句子\n",
    "        trg_sentence = self.trg_tokenizer.decode([preds], split=True, remove_eos=False)[0]\n",
    "\n",
    "        # 返回生成的目标语言句子，并去除EOS符号\n",
    "        return \" \".join(trg_sentence[:-1])\n",
    "\n",
    "def evaluate_bleu_on_test_set(test_data, translator):\n",
    "    \"\"\"\n",
    "    在测试集上计算并返回模型的平均BLEU分数。\n",
    "    \n",
    "    Args:\n",
    "        - test_data: 测试数据，格式为[(src_sentence, [ref_translation1, ref_translation2, ...]), ...]\n",
    "        - translator: 已训练好的翻译器对象（Translator类的实例）\n",
    "\n",
    "    Returns:\n",
    "        - float: 平均BLEU分数\n",
    "    \"\"\"\n",
    "    total_bleu = 0.0  # 用于累加BLEU分数\n",
    "    num_samples = len(test_data)  # 测试集样本数\n",
    "\n",
    "    # 使用 tqdm 包装循环，显示进度条\n",
    "    for src_sentence, ref_translations in tqdm(test_data, desc=\"Evaluating BLEU\", total=num_samples):\n",
    "        # 使用翻译器生成候选翻译结果\n",
    "        candidate_translation = translator(src_sentence)\n",
    "\n",
    "        # 使用nltk的sentence_bleu函数计算BLEU分数\n",
    "        bleu_score = sentence_bleu([ref_translations.split()], candidate_translation.split(), weights=(1, 0, 0, 0))\n",
    "\n",
    "        # 将当前句子的BLEU分数累加到总分中\n",
    "        total_bleu += bleu_score\n",
    "\n",
    "    # 计算并返回平均BLEU分数\n",
    "    avg_bleu = total_bleu / num_samples\n",
    "    return avg_bleu\n",
    "\n",
    "# 创建翻译器实例\n",
    "translator = Translator(model.cpu(), src_tokenizer, trg_tokenizer)\n",
    "\n",
    "# 在测试集上计算BLEU分数并显示进度条\n",
    "avg_bleu = evaluate_bleu_on_test_set(test_ds, translator)\n",
    "print(f\"Average BLEU score: {avg_bleu:.4f}\")"
   ],
   "outputs": [
    {
     "name": "stderr",
     "output_type": "stream",
     "text": [
      "Evaluating BLEU:   0%|          | 0/11705 [00:00<?, ?it/s]C:\\Program Files\\Python312\\Lib\\site-packages\\nltk\\translate\\bleu_score.py:577: UserWarning: \n",
      "The hypothesis contains 0 counts of 3-gram overlaps.\n",
      "Therefore the BLEU score evaluates to 0, independently of\n",
      "how many N-gram overlaps of lower order it contains.\n",
      "Consider using lower n-gram order or use SmoothingFunction()\n",
      "  warnings.warn(_msg)\n",
      "C:\\Program Files\\Python312\\Lib\\site-packages\\nltk\\translate\\bleu_score.py:577: UserWarning: \n",
      "The hypothesis contains 0 counts of 4-gram overlaps.\n",
      "Therefore the BLEU score evaluates to 0, independently of\n",
      "how many N-gram overlaps of lower order it contains.\n",
      "Consider using lower n-gram order or use SmoothingFunction()\n",
      "  warnings.warn(_msg)\n",
      "C:\\Program Files\\Python312\\Lib\\site-packages\\nltk\\translate\\bleu_score.py:577: UserWarning: \n",
      "The hypothesis contains 0 counts of 2-gram overlaps.\n",
      "Therefore the BLEU score evaluates to 0, independently of\n",
      "how many N-gram overlaps of lower order it contains.\n",
      "Consider using lower n-gram order or use SmoothingFunction()\n",
      "  warnings.warn(_msg)\n",
      "Evaluating BLEU: 100%|██████████| 11705/11705 [09:13<00:00, 21.15it/s]"
     ]
    },
    {
     "name": "stdout",
     "output_type": "stream",
     "text": [
      "Average BLEU score: 0.7069\n"
     ]
    },
    {
     "name": "stderr",
     "output_type": "stream",
     "text": [
      "\n"
     ]
    }
   ],
   "execution_count": 39
  }
 ],
 "metadata": {
  "accelerator": "GPU",
  "colab": {
   "gpuType": "V100",
   "provenance": []
  },
  "kernelspec": {
   "display_name": "Python 3 (ipykernel)",
   "language": "python",
   "name": "python3"
  },
  "language_info": {
   "codemirror_mode": {
    "name": "ipython",
    "version": 3
   },
   "file_extension": ".py",
   "mimetype": "text/x-python",
   "name": "python",
   "nbconvert_exporter": "python",
   "pygments_lexer": "ipython3",
   "version": "3.10.14"
  },
  "widgets": {
   "application/vnd.jupyter.widget-state+json": {
    "267a9f8d838c4649b208914938b1bcff": {
     "model_module": "@jupyter-widgets/controls",
     "model_module_version": "1.5.0",
     "model_name": "HBoxModel",
     "state": {
      "_dom_classes": [],
      "_model_module": "@jupyter-widgets/controls",
      "_model_module_version": "1.5.0",
      "_model_name": "HBoxModel",
      "_view_count": null,
      "_view_module": "@jupyter-widgets/controls",
      "_view_module_version": "1.5.0",
      "_view_name": "HBoxView",
      "box_style": "",
      "children": [
       "IPY_MODEL_a9552c62dcb4441fbca47f89e939759d",
       "IPY_MODEL_7dc472c2f73f4443a0e8437074e67476",
       "IPY_MODEL_c46cefacefb54be7ad60ca93855de3ca"
      ],
      "layout": "IPY_MODEL_9ebbd2d91c9849baaa85cff5b2b048e1"
     }
    },
    "296304e90e43440094ba467cafb20896": {
     "model_module": "@jupyter-widgets/base",
     "model_module_version": "1.2.0",
     "model_name": "LayoutModel",
     "state": {
      "_model_module": "@jupyter-widgets/base",
      "_model_module_version": "1.2.0",
      "_model_name": "LayoutModel",
      "_view_count": null,
      "_view_module": "@jupyter-widgets/base",
      "_view_module_version": "1.2.0",
      "_view_name": "LayoutView",
      "align_content": null,
      "align_items": null,
      "align_self": null,
      "border": null,
      "bottom": null,
      "display": null,
      "flex": null,
      "flex_flow": null,
      "grid_area": null,
      "grid_auto_columns": null,
      "grid_auto_flow": null,
      "grid_auto_rows": null,
      "grid_column": null,
      "grid_gap": null,
      "grid_row": null,
      "grid_template_areas": null,
      "grid_template_columns": null,
      "grid_template_rows": null,
      "height": null,
      "justify_content": null,
      "justify_items": null,
      "left": null,
      "margin": null,
      "max_height": null,
      "max_width": null,
      "min_height": null,
      "min_width": null,
      "object_fit": null,
      "object_position": null,
      "order": null,
      "overflow": null,
      "overflow_x": null,
      "overflow_y": null,
      "padding": null,
      "right": null,
      "top": null,
      "visibility": null,
      "width": null
     }
    },
    "63c6ee4650cb4a938e9f325113e259d1": {
     "model_module": "@jupyter-widgets/base",
     "model_module_version": "1.2.0",
     "model_name": "LayoutModel",
     "state": {
      "_model_module": "@jupyter-widgets/base",
      "_model_module_version": "1.2.0",
      "_model_name": "LayoutModel",
      "_view_count": null,
      "_view_module": "@jupyter-widgets/base",
      "_view_module_version": "1.2.0",
      "_view_name": "LayoutView",
      "align_content": null,
      "align_items": null,
      "align_self": null,
      "border": null,
      "bottom": null,
      "display": null,
      "flex": null,
      "flex_flow": null,
      "grid_area": null,
      "grid_auto_columns": null,
      "grid_auto_flow": null,
      "grid_auto_rows": null,
      "grid_column": null,
      "grid_gap": null,
      "grid_row": null,
      "grid_template_areas": null,
      "grid_template_columns": null,
      "grid_template_rows": null,
      "height": null,
      "justify_content": null,
      "justify_items": null,
      "left": null,
      "margin": null,
      "max_height": null,
      "max_width": null,
      "min_height": null,
      "min_width": null,
      "object_fit": null,
      "object_position": null,
      "order": null,
      "overflow": null,
      "overflow_x": null,
      "overflow_y": null,
      "padding": null,
      "right": null,
      "top": null,
      "visibility": null,
      "width": null
     }
    },
    "7d21bf5788794ed2b0b4dc4a98a5d2e9": {
     "model_module": "@jupyter-widgets/controls",
     "model_module_version": "1.5.0",
     "model_name": "ProgressStyleModel",
     "state": {
      "_model_module": "@jupyter-widgets/controls",
      "_model_module_version": "1.5.0",
      "_model_name": "ProgressStyleModel",
      "_view_count": null,
      "_view_module": "@jupyter-widgets/base",
      "_view_module_version": "1.2.0",
      "_view_name": "StyleView",
      "bar_color": null,
      "description_width": ""
     }
    },
    "7dc472c2f73f4443a0e8437074e67476": {
     "model_module": "@jupyter-widgets/controls",
     "model_module_version": "1.5.0",
     "model_name": "FloatProgressModel",
     "state": {
      "_dom_classes": [],
      "_model_module": "@jupyter-widgets/controls",
      "_model_module_version": "1.5.0",
      "_model_name": "FloatProgressModel",
      "_view_count": null,
      "_view_module": "@jupyter-widgets/controls",
      "_view_module_version": "1.5.0",
      "_view_name": "ProgressView",
      "bar_style": "danger",
      "description": "",
      "description_tooltip": null,
      "layout": "IPY_MODEL_863e7ad581894502979884fe0e9e412e",
      "max": 33420,
      "min": 0,
      "orientation": "horizontal",
      "style": "IPY_MODEL_7d21bf5788794ed2b0b4dc4a98a5d2e9",
      "value": 7599
     }
    },
    "863e7ad581894502979884fe0e9e412e": {
     "model_module": "@jupyter-widgets/base",
     "model_module_version": "1.2.0",
     "model_name": "LayoutModel",
     "state": {
      "_model_module": "@jupyter-widgets/base",
      "_model_module_version": "1.2.0",
      "_model_name": "LayoutModel",
      "_view_count": null,
      "_view_module": "@jupyter-widgets/base",
      "_view_module_version": "1.2.0",
      "_view_name": "LayoutView",
      "align_content": null,
      "align_items": null,
      "align_self": null,
      "border": null,
      "bottom": null,
      "display": null,
      "flex": null,
      "flex_flow": null,
      "grid_area": null,
      "grid_auto_columns": null,
      "grid_auto_flow": null,
      "grid_auto_rows": null,
      "grid_column": null,
      "grid_gap": null,
      "grid_row": null,
      "grid_template_areas": null,
      "grid_template_columns": null,
      "grid_template_rows": null,
      "height": null,
      "justify_content": null,
      "justify_items": null,
      "left": null,
      "margin": null,
      "max_height": null,
      "max_width": null,
      "min_height": null,
      "min_width": null,
      "object_fit": null,
      "object_position": null,
      "order": null,
      "overflow": null,
      "overflow_x": null,
      "overflow_y": null,
      "padding": null,
      "right": null,
      "top": null,
      "visibility": null,
      "width": null
     }
    },
    "95d9e57c587f43e6ba5f656f2b2e5c71": {
     "model_module": "@jupyter-widgets/controls",
     "model_module_version": "1.5.0",
     "model_name": "DescriptionStyleModel",
     "state": {
      "_model_module": "@jupyter-widgets/controls",
      "_model_module_version": "1.5.0",
      "_model_name": "DescriptionStyleModel",
      "_view_count": null,
      "_view_module": "@jupyter-widgets/base",
      "_view_module_version": "1.2.0",
      "_view_name": "StyleView",
      "description_width": ""
     }
    },
    "9ebbd2d91c9849baaa85cff5b2b048e1": {
     "model_module": "@jupyter-widgets/base",
     "model_module_version": "1.2.0",
     "model_name": "LayoutModel",
     "state": {
      "_model_module": "@jupyter-widgets/base",
      "_model_module_version": "1.2.0",
      "_model_name": "LayoutModel",
      "_view_count": null,
      "_view_module": "@jupyter-widgets/base",
      "_view_module_version": "1.2.0",
      "_view_name": "LayoutView",
      "align_content": null,
      "align_items": null,
      "align_self": null,
      "border": null,
      "bottom": null,
      "display": null,
      "flex": null,
      "flex_flow": null,
      "grid_area": null,
      "grid_auto_columns": null,
      "grid_auto_flow": null,
      "grid_auto_rows": null,
      "grid_column": null,
      "grid_gap": null,
      "grid_row": null,
      "grid_template_areas": null,
      "grid_template_columns": null,
      "grid_template_rows": null,
      "height": null,
      "justify_content": null,
      "justify_items": null,
      "left": null,
      "margin": null,
      "max_height": null,
      "max_width": null,
      "min_height": null,
      "min_width": null,
      "object_fit": null,
      "object_position": null,
      "order": null,
      "overflow": null,
      "overflow_x": null,
      "overflow_y": null,
      "padding": null,
      "right": null,
      "top": null,
      "visibility": null,
      "width": null
     }
    },
    "a9552c62dcb4441fbca47f89e939759d": {
     "model_module": "@jupyter-widgets/controls",
     "model_module_version": "1.5.0",
     "model_name": "HTMLModel",
     "state": {
      "_dom_classes": [],
      "_model_module": "@jupyter-widgets/controls",
      "_model_module_version": "1.5.0",
      "_model_name": "HTMLModel",
      "_view_count": null,
      "_view_module": "@jupyter-widgets/controls",
      "_view_module_version": "1.5.0",
      "_view_name": "HTMLView",
      "description": "",
      "description_tooltip": null,
      "layout": "IPY_MODEL_63c6ee4650cb4a938e9f325113e259d1",
      "placeholder": "​",
      "style": "IPY_MODEL_95d9e57c587f43e6ba5f656f2b2e5c71",
      "value": " 23%"
     }
    },
    "c3d8fddae7354c278c8e88291dbcee8d": {
     "model_module": "@jupyter-widgets/controls",
     "model_module_version": "1.5.0",
     "model_name": "DescriptionStyleModel",
     "state": {
      "_model_module": "@jupyter-widgets/controls",
      "_model_module_version": "1.5.0",
      "_model_name": "DescriptionStyleModel",
      "_view_count": null,
      "_view_module": "@jupyter-widgets/base",
      "_view_module_version": "1.2.0",
      "_view_name": "StyleView",
      "description_width": ""
     }
    },
    "c46cefacefb54be7ad60ca93855de3ca": {
     "model_module": "@jupyter-widgets/controls",
     "model_module_version": "1.5.0",
     "model_name": "HTMLModel",
     "state": {
      "_dom_classes": [],
      "_model_module": "@jupyter-widgets/controls",
      "_model_module_version": "1.5.0",
      "_model_name": "HTMLModel",
      "_view_count": null,
      "_view_module": "@jupyter-widgets/controls",
      "_view_module_version": "1.5.0",
      "_view_name": "HTMLView",
      "description": "",
      "description_tooltip": null,
      "layout": "IPY_MODEL_296304e90e43440094ba467cafb20896",
      "placeholder": "​",
      "style": "IPY_MODEL_c3d8fddae7354c278c8e88291dbcee8d",
      "value": " 7599/33420 [09:31&lt;23:51, 18.03it/s, epoch=3, loss=1.2, val_loss=1.26]"
     }
    }
   }
  }
 },
 "nbformat": 4,
 "nbformat_minor": 4
}
