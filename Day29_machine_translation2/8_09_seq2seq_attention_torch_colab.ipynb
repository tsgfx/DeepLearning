{
  "cells": [
    {
      "cell_type": "code",
      "execution_count": 16,
      "metadata": {
        "ExecuteTime": {
          "end_time": "2025-01-25T02:48:35.013466Z",
          "start_time": "2025-01-25T02:48:26.861597Z"
        },
        "colab": {
          "base_uri": "https://localhost:8080/"
        },
        "execution": {
          "iopub.execute_input": "2025-02-07T16:34:51.753559Z",
          "iopub.status.busy": "2025-02-07T16:34:51.753286Z",
          "iopub.status.idle": "2025-02-07T16:34:54.995031Z",
          "shell.execute_reply": "2025-02-07T16:34:54.994098Z",
          "shell.execute_reply.started": "2025-02-07T16:34:51.753523Z"
        },
        "id": "WKUPkA0TJzbW",
        "outputId": "d5c2c069-d174-4205-f271-456c81a44b6d",
        "tags": []
      },
      "outputs": [
        {
          "output_type": "stream",
          "name": "stdout",
          "text": [
            "sys.version_info(major=3, minor=11, micro=11, releaselevel='final', serial=0)\n",
            "matplotlib 3.10.0\n",
            "numpy 1.26.4\n",
            "pandas 2.2.2\n",
            "sklearn 1.6.1\n",
            "torch 2.5.1+cu124\n",
            "cuda:0\n"
          ]
        }
      ],
      "source": [
        "import matplotlib as mpl\n",
        "import matplotlib.pyplot as plt\n",
        "%matplotlib inline\n",
        "import numpy as np\n",
        "import sklearn\n",
        "import pandas as pd\n",
        "import os\n",
        "import sys\n",
        "import time\n",
        "from tqdm.auto import tqdm\n",
        "import torch\n",
        "import torch.nn as nn\n",
        "import torch.nn.functional as F\n",
        "\n",
        "print(sys.version_info)\n",
        "for module in mpl, np, pd, sklearn, torch:\n",
        "    print(module.__name__, module.__version__)\n",
        "\n",
        "device = torch.device(\"cuda:0\") if torch.cuda.is_available() else torch.device(\"cpu\")\n",
        "print(device)\n",
        "\n",
        "seed = 42\n",
        "torch.manual_seed(seed)\n",
        "torch.cuda.manual_seed_all(seed)\n",
        "np.random.seed(seed)"
      ]
    },
    {
      "cell_type": "code",
      "execution_count": 17,
      "metadata": {
        "execution": {
          "iopub.execute_input": "2025-02-07T16:34:54.996964Z",
          "iopub.status.busy": "2025-02-07T16:34:54.996444Z",
          "iopub.status.idle": "2025-02-07T16:34:55.129442Z",
          "shell.execute_reply": "2025-02-07T16:34:55.128447Z",
          "shell.execute_reply.started": "2025-02-07T16:34:54.996934Z"
        },
        "tags": [],
        "colab": {
          "base_uri": "https://localhost:8080/"
        },
        "id": "m7VwqsItYJXH",
        "outputId": "d7e2cf81-9cd7-4845-ad82-6b0a4a916e93"
      },
      "outputs": [
        {
          "output_type": "stream",
          "name": "stdout",
          "text": [
            "/content\n"
          ]
        }
      ],
      "source": [
        "!pwd"
      ]
    },
    {
      "cell_type": "markdown",
      "metadata": {
        "id": "pSNcMyqvJzbY"
      },
      "source": [
        "## 数据加载"
      ]
    },
    {
      "cell_type": "code",
      "execution_count": 18,
      "metadata": {
        "ExecuteTime": {
          "end_time": "2025-01-25T02:50:25.235571Z",
          "start_time": "2025-01-25T02:50:24.947189Z"
        },
        "ExecutionIndicator": {
          "show": true
        },
        "colab": {
          "base_uri": "https://localhost:8080/"
        },
        "execution": {
          "iopub.execute_input": "2025-02-07T16:34:55.131109Z",
          "iopub.status.busy": "2025-02-07T16:34:55.130692Z",
          "iopub.status.idle": "2025-02-07T16:34:55.185883Z",
          "shell.execute_reply": "2025-02-07T16:34:55.185085Z",
          "shell.execute_reply.started": "2025-02-07T16:34:55.131077Z"
        },
        "id": "Dm1DrSCLJzbZ",
        "outputId": "7b4eff04-77cf-4fd5-b5df-2eecf801fb35",
        "tags": []
      },
      "outputs": [
        {
          "output_type": "stream",
          "name": "stdout",
          "text": [
            "May I borrow this book?\n",
            "¿Puedo tomar prestado este libro?\n"
          ]
        }
      ],
      "source": [
        "import unicodedata\n",
        "import re\n",
        "from sklearn.model_selection import train_test_split\n",
        "\n",
        "# 因为西班牙语中有一些特殊字符，我们需要将Unicode字符转换为ASCII字符，\n",
        "# 这样可以减少字符的大小，因为Unicode字符集较大。\n",
        "def unicode_to_ascii(s):\n",
        "    # 使用NFD方法进行Unicode规范化，将字符分解为基本字符和重音符号。\n",
        "    # 'Mn'表示非间距标记（如重音符号），我们通过过滤掉这些标记来去除重音。\n",
        "    return ''.join(c for c in unicodedata.normalize('NFD', s) if unicodedata.category(c) != 'Mn')\n",
        "\n",
        "# 下面我们使用一个样本来测试这个函数。\n",
        "# 在字符串前加'u'表示对字符串进行Unicode编码。\n",
        "en_sentence = u\"May I borrow this book?\"  # 英语句子\n",
        "sp_sentence = u\"¿Puedo tomar prestado este libro?\"  # 西班牙语句子\n",
        "\n",
        "# 打印转换后的句子\n",
        "print(unicode_to_ascii(en_sentence))  # 输出: May I borrow this book?\n",
        "print(unicode_to_ascii(sp_sentence))  # 输出: ¿Puedo tomar prestado este libro?"
      ]
    },
    {
      "cell_type": "code",
      "execution_count": 19,
      "metadata": {
        "ExecuteTime": {
          "end_time": "2025-01-25T03:01:53.536179Z",
          "start_time": "2025-01-25T03:01:53.531961Z"
        },
        "ExecutionIndicator": {
          "show": true
        },
        "execution": {
          "iopub.execute_input": "2025-02-07T16:34:55.187790Z",
          "iopub.status.busy": "2025-02-07T16:34:55.186780Z",
          "iopub.status.idle": "2025-02-07T16:34:55.194415Z",
          "shell.execute_reply": "2025-02-07T16:34:55.193665Z",
          "shell.execute_reply.started": "2025-02-07T16:34:55.187760Z"
        },
        "jupyter": {
          "outputs_hidden": false
        },
        "tags": [],
        "colab": {
          "base_uri": "https://localhost:8080/"
        },
        "id": "wbXGoo_8YJXL",
        "outputId": "aec5e9b1-e659-48db-df1a-a3b6befce09f"
      },
      "outputs": [
        {
          "output_type": "stream",
          "name": "stdout",
          "text": [
            "may i borrow this book ?\n",
            "¿ puedo tomar prestado este libro ?\n",
            "b'\\xc2\\xbf puedo tomar prestado este libro ?'\n"
          ]
        }
      ],
      "source": [
        "def preprocess_sentence(w):\n",
        "    # 将句子转换为小写，并去掉开头和结尾的多余空格\n",
        "    # 同时调用 unicode_to_ascii 函数将特殊字符转换为 ASCII 字符\n",
        "    w = unicode_to_ascii(w.lower().strip())\n",
        "\n",
        "    # 在单词与标点符号之间插入空格\n",
        "    # 例如：\"he is a boy.\" => \"he is a boy . \"\n",
        "    # 参考：https://stackoverflow.com/questions/3645931/python-padding-punctuation-with-white-spaces-keeping-punctuation\n",
        "    w = re.sub(r\"([?.!,¿])\", r\" \\1 \", w)\n",
        "\n",
        "    # 将多个连续空格替换为单个空格\n",
        "    w = re.sub(r'[\" \"]+', \" \", w)\n",
        "\n",
        "    # 只保留字母和部分标点符号（a-z, A-Z, \".\", \"?\", \"!\", \",\"），其他字符替换为空格\n",
        "    w = re.sub(r\"[^a-zA-Z?.!,¿]+\", \" \", w)\n",
        "\n",
        "    # 去掉句子开头和结尾的空格\n",
        "    w = w.rstrip().strip()\n",
        "\n",
        "    return w\n",
        "\n",
        "# 测试预处理函数\n",
        "print(preprocess_sentence(en_sentence))  # 输出: may i borrow this book ?\n",
        "print(preprocess_sentence(sp_sentence))  # 输出: ¿ puedo tomar prestado este libro ?\n",
        "\n",
        "# 打印西班牙语句子的 UTF-8 编码\n",
        "# 注意：¿ 是占用两个字节的字符\n",
        "print(preprocess_sentence(sp_sentence).encode('utf-8'))  # 输出: b' \\xc2\\xbf puedo tomar prestado este libro ?'"
      ]
    },
    {
      "cell_type": "markdown",
      "metadata": {
        "id": "YyJksrNmJzba"
      },
      "source": [
        "Dataset"
      ]
    },
    {
      "cell_type": "code",
      "execution_count": 20,
      "metadata": {
        "ExecuteTime": {
          "end_time": "2025-01-25T03:06:47.238421Z",
          "start_time": "2025-01-25T03:06:47.235419Z"
        },
        "ExecutionIndicator": {
          "show": true
        },
        "execution": {
          "iopub.execute_input": "2025-02-07T16:34:55.196806Z",
          "iopub.status.busy": "2025-02-07T16:34:55.196483Z",
          "iopub.status.idle": "2025-02-07T16:34:55.201245Z",
          "shell.execute_reply": "2025-02-07T16:34:55.200417Z",
          "shell.execute_reply.started": "2025-02-07T16:34:55.196778Z"
        },
        "jupyter": {
          "outputs_hidden": false
        },
        "tags": [],
        "colab": {
          "base_uri": "https://localhost:8080/"
        },
        "id": "-vclOnmkYJXL",
        "outputId": "c1317ed0-56b8-4280-e701-76e7a6a2e3cc"
      },
      "outputs": [
        {
          "output_type": "stream",
          "name": "stdout",
          "text": [
            "[(1, 4, 7), (2, 5, 8)]\n"
          ]
        }
      ],
      "source": [
        "# 定义一个包含多个子列表的列表\n",
        "a = [[1, 2], [4, 5], [7, 8]]\n",
        "\n",
        "# 使用 zip(*a) 对列表进行解包和重新组合\n",
        "# *a 表示将 a 中的子列表作为单独的参数传递给 zip 函数\n",
        "# zip 函数会将每个子列表中相同位置的元素组合成一个元组\n",
        "zipped = list(zip(*a))\n",
        "\n",
        "# 打印结果\n",
        "print(zipped)"
      ]
    },
    {
      "cell_type": "code",
      "execution_count": 21,
      "metadata": {
        "ExecuteTime": {
          "end_time": "2024-08-01T01:43:34.943623500Z",
          "start_time": "2024-08-01T01:43:34.832584300Z"
        },
        "ExecutionIndicator": {
          "show": true
        },
        "execution": {
          "iopub.execute_input": "2025-02-07T16:34:55.202349Z",
          "iopub.status.busy": "2025-02-07T16:34:55.202055Z",
          "iopub.status.idle": "2025-02-07T16:34:55.210214Z",
          "shell.execute_reply": "2025-02-07T16:34:55.209432Z",
          "shell.execute_reply.started": "2025-02-07T16:34:55.202324Z"
        },
        "jupyter": {
          "outputs_hidden": false
        },
        "tags": [],
        "colab": {
          "base_uri": "https://localhost:8080/"
        },
        "id": "aqd7BsJTYJXM",
        "outputId": "379fe676-9f65-455f-d3a4-fcef209f9caa"
      },
      "outputs": [
        {
          "output_type": "execute_result",
          "data": {
            "text/plain": [
              "array(['train', 'test', 'train', 'train', 'train', 'train', 'train',\n",
              "       'train', 'train', 'train', 'train', 'test', 'train', 'train',\n",
              "       'train', 'train', 'train', 'train', 'train', 'train', 'train',\n",
              "       'train', 'train', 'train', 'train', 'train', 'train', 'train',\n",
              "       'train', 'train', 'train', 'train', 'train', 'test', 'test',\n",
              "       'train', 'train', 'train', 'train', 'train', 'train', 'train',\n",
              "       'train', 'test', 'train', 'train', 'train', 'train', 'train',\n",
              "       'train', 'test', 'train', 'test', 'train', 'train', 'test',\n",
              "       'train', 'train', 'train', 'train', 'train', 'train', 'train',\n",
              "       'train', 'train', 'train', 'train', 'train', 'train', 'test',\n",
              "       'train', 'train', 'train', 'train', 'train', 'train', 'train',\n",
              "       'train', 'train', 'train', 'train', 'train', 'train', 'train',\n",
              "       'train', 'train', 'train', 'train', 'train', 'train', 'train',\n",
              "       'train', 'train', 'train', 'train', 'train', 'train', 'train',\n",
              "       'train', 'train'], dtype='<U5')"
            ]
          },
          "metadata": {},
          "execution_count": 21
        }
      ],
      "source": [
        "# 生成一个大小为 100 的数组，数组中的值为 \"train\" 或 \"test\"\n",
        "# 选择 \"train\" 和 \"test\" 的概率分别为 0.9 和 0.1\n",
        "# replace=True 表示允许重复抽样\n",
        "split_index1 = np.random.choice(a=[\"train\", \"test\"], replace=True, p=[0.9, 0.1], size=100)\n",
        "\n",
        "# 输出生成的随机分类索引\n",
        "split_index1"
      ]
    },
    {
      "cell_type": "code",
      "execution_count": 22,
      "metadata": {
        "execution": {
          "iopub.execute_input": "2025-02-07T16:34:55.211563Z",
          "iopub.status.busy": "2025-02-07T16:34:55.211275Z",
          "iopub.status.idle": "2025-02-07T16:34:55.342688Z",
          "shell.execute_reply": "2025-02-07T16:34:55.341645Z",
          "shell.execute_reply.started": "2025-02-07T16:34:55.211540Z"
        },
        "tags": [],
        "colab": {
          "base_uri": "https://localhost:8080/"
        },
        "id": "PTP3nvbnYJXM",
        "outputId": "840e30eb-c05a-40f9-9d75-a999a28c891e"
      },
      "outputs": [
        {
          "output_type": "stream",
          "name": "stdout",
          "text": [
            "118964 data_spa_en/spa.txt\n"
          ]
        }
      ],
      "source": [
        "!wc -l data_spa_en/spa.txt"
      ]
    },
    {
      "cell_type": "code",
      "execution_count": 23,
      "metadata": {
        "ExecuteTime": {
          "end_time": "2025-01-25T03:07:47.936697Z",
          "start_time": "2025-01-25T03:07:47.742194Z"
        },
        "ExecutionIndicator": {
          "show": true
        },
        "execution": {
          "iopub.execute_input": "2025-02-07T16:34:55.344666Z",
          "iopub.status.busy": "2025-02-07T16:34:55.344114Z",
          "iopub.status.idle": "2025-02-07T16:34:56.009304Z",
          "shell.execute_reply": "2025-02-07T16:34:56.008402Z",
          "shell.execute_reply.started": "2025-02-07T16:34:55.344630Z"
        },
        "id": "-VnoIKhaJzba",
        "tags": []
      },
      "outputs": [],
      "source": [
        "from pathlib import Path\n",
        "from torch.utils.data import Dataset, DataLoader\n",
        "\n",
        "class LangPairDataset(Dataset):\n",
        "    fpath = Path(r\"./data_spa_en/spa.txt\")  # 数据文件路径\n",
        "    cache_path = Path(r\"./.cache/lang_pair.npy\")  # 缓存文件路径\n",
        "    split_index = np.random.choice(a=[\"train\", \"test\"], replace=True, p=[0.9, 0.1], size=118964)  # 生成 118964 个 \"train\" 或 \"test\" 标签，按 9:1 的比例划分数据集\n",
        "\n",
        "    def __init__(self, mode=\"train\", cache=False):\n",
        "        if cache or not self.cache_path.exists():  # 如果缓存不存在或者需要重新缓存，则处理数据\n",
        "            self.cache_path.parent.mkdir(parents=True, exist_ok=True)  # 创建缓存目录（如果不存在）\n",
        "            with open(self.fpath, \"r\", encoding=\"utf8\") as file:\n",
        "                lines = file.readlines()  # 读取数据文件中的所有行\n",
        "                lang_pair = [[preprocess_sentence(w) for w in l.split('\\t')] for l in lines]  # 预处理句子，并转换成 (目标语言, 源语言) 格式\n",
        "                trg, src = zip(*lang_pair)  # 拆分目标语言（英语）和源语言（西班牙语）\n",
        "                trg = np.array(trg)  # 转换为 NumPy 数组\n",
        "                src = np.array(src)  # 转换为 NumPy 数组\n",
        "                np.save(self.cache_path, {\"trg\": trg, \"src\": src})  # 保存数据到缓存文件\n",
        "        else:\n",
        "            lang_pair = np.load(self.cache_path, allow_pickle=True).item()  # 读取缓存文件\n",
        "            trg = lang_pair[\"trg\"]  # 加载目标语言数据\n",
        "            src = lang_pair[\"src\"]  # 加载源语言数据\n",
        "\n",
        "        # 根据 split_index 进行数据划分\n",
        "        self.trg = trg[self.split_index == mode]  # 获取 mode 指定的目标语言数据\n",
        "        self.src = src[self.split_index == mode]  # 获取 mode 指定的源语言数据\n",
        "\n",
        "    def __getitem__(self, index):\n",
        "        return self.src[index], self.trg[index]  # 返回源语言和目标语言句子对\n",
        "\n",
        "    def __len__(self):\n",
        "        return len(self.src)  # 返回数据集大小\n",
        "\n",
        "# 创建训练集和测试集\n",
        "train_ds = LangPairDataset(\"train\")\n",
        "test_ds = LangPairDataset(\"test\")"
      ]
    },
    {
      "cell_type": "code",
      "execution_count": 24,
      "metadata": {
        "ExecuteTime": {
          "end_time": "2025-01-25T03:10:28.393450Z",
          "start_time": "2025-01-25T03:10:28.391261Z"
        },
        "colab": {
          "base_uri": "https://localhost:8080/"
        },
        "execution": {
          "iopub.execute_input": "2025-02-07T16:34:56.010737Z",
          "iopub.status.busy": "2025-02-07T16:34:56.010337Z",
          "iopub.status.idle": "2025-02-07T16:34:56.015302Z",
          "shell.execute_reply": "2025-02-07T16:34:56.014323Z",
          "shell.execute_reply.started": "2025-02-07T16:34:56.010708Z"
        },
        "id": "knue-PUkJzbb",
        "outputId": "fdcd4166-878f-4db9-fbd7-e6a919e51eab",
        "tags": []
      },
      "outputs": [
        {
          "output_type": "stream",
          "name": "stdout",
          "text": [
            "source: si quieres sonar como un hablante nativo , debes estar dispuesto a practicar diciendo la misma frase una y otra vez de la misma manera en que un musico de banjo practica el mismo fraseo una y otra vez hasta que lo puedan tocar correctamente y en el tiempo esperado .\n",
            "target: if you want to sound like a native speaker , you must be willing to practice saying the same sentence over and over in the same way that banjo players practice the same phrase over and over until they can play it correctly and at the desired tempo .\n"
          ]
        }
      ],
      "source": [
        "print(\"source: {}\\ntarget: {}\".format(*train_ds[-1]))"
      ]
    },
    {
      "cell_type": "markdown",
      "metadata": {
        "id": "9mzBlPtGJzbb"
      },
      "source": [
        "### Tokenizer\n",
        "\n",
        "这里有两种处理方式，分别对应着 encoder 和 decoder 的 word embedding 是否共享，这里实现不共享的方案。"
      ]
    },
    {
      "cell_type": "code",
      "execution_count": 25,
      "metadata": {
        "ExecuteTime": {
          "end_time": "2025-01-25T03:22:50.431544Z",
          "start_time": "2025-01-25T03:22:50.094328Z"
        },
        "ExecutionIndicator": {
          "show": false
        },
        "execution": {
          "iopub.execute_input": "2025-02-07T16:34:56.016716Z",
          "iopub.status.busy": "2025-02-07T16:34:56.016377Z",
          "iopub.status.idle": "2025-02-07T16:34:56.874625Z",
          "shell.execute_reply": "2025-02-07T16:34:56.873619Z",
          "shell.execute_reply.started": "2025-02-07T16:34:56.016690Z"
        },
        "id": "fMSIczSnJzbb",
        "tags": [],
        "colab": {
          "base_uri": "https://localhost:8080/"
        },
        "outputId": "c94531bd-c0a0-47d9-8630-b2b3ce71a48e"
      },
      "outputs": [
        {
          "output_type": "stream",
          "name": "stdout",
          "text": [
            "word count: 23715\n",
            "word count: 12500\n"
          ]
        }
      ],
      "source": [
        "from collections import Counter\n",
        "\n",
        "def get_word_idx(ds, mode=\"src\", threshold=2):\n",
        "    # 载入词表，初始化特殊 token\n",
        "    word2idx = {\n",
        "        \"[PAD]\": 0,     # 填充 token\n",
        "        \"[BOS]\": 1,     # 句子起始 token\n",
        "        \"[UNK]\": 2,     # 未知 token\n",
        "        \"[EOS]\": 3,     # 句子结束 token\n",
        "    }\n",
        "    idx2word = {value: key for key, value in word2idx.items()}  # 反向词表：索引 -> 词\n",
        "    index = len(idx2word)  # 记录当前索引，方便后续添加单词\n",
        "    threshold = 1  # 设定词频阈值，出现次数低于此的 token 被舍弃\n",
        "\n",
        "    # 提取数据集中指定语言 (src 或 trg) 的所有文本\n",
        "    # `ds` 是一个数据集，其中每个元素是一个 (src, trg) 对\n",
        "    # 如果 mode 为 \"src\"，选择 pair[0]（源语言）；否则选择 pair[1]（目标语言）\n",
        "    word_list = \" \".join([pair[0 if mode == \"src\" else 1] for pair in ds]).split()\n",
        "\n",
        "    # 统计词频，Counter 是一个字典，键为单词，值为出现次数\n",
        "    counter = Counter(word_list)\n",
        "    print(\"word count:\", len(counter))  # 输出词表大小\n",
        "\n",
        "    # 遍历词频统计结果，将频率大于等于 threshold 的单词加入词表\n",
        "    for token, count in counter.items():\n",
        "        if count >= threshold:\n",
        "            word2idx[token] = index  # 词表：单词 -> 索引\n",
        "            idx2word[index] = token  # 反向词表：索引 -> 单词\n",
        "            index += 1  # 更新索引\n",
        "\n",
        "    return word2idx, idx2word  # 返回词表和反向词表\n",
        "\n",
        "# 生成源语言（西班牙语）的词表\n",
        "src_word2idx, src_idx2word = get_word_idx(train_ds, \"src\")\n",
        "\n",
        "# 生成目标语言（英语）的词表\n",
        "trg_word2idx, trg_idx2word = get_word_idx(train_ds, \"trg\")"
      ]
    },
    {
      "cell_type": "code",
      "execution_count": 26,
      "metadata": {
        "ExecuteTime": {
          "end_time": "2024-08-01T01:43:37.573524800Z",
          "start_time": "2024-08-01T01:43:37.527552800Z"
        },
        "ExecutionIndicator": {
          "show": true
        },
        "colab": {
          "base_uri": "https://localhost:8080/"
        },
        "execution": {
          "iopub.execute_input": "2025-02-07T16:34:56.876784Z",
          "iopub.status.busy": "2025-02-07T16:34:56.876004Z",
          "iopub.status.idle": "2025-02-07T16:34:56.898459Z",
          "shell.execute_reply": "2025-02-07T16:34:56.897632Z",
          "shell.execute_reply.started": "2025-02-07T16:34:56.876735Z"
        },
        "id": "9_IjY_wIJzbb",
        "outputId": "bf0d98d0-3730-4907-b68e-c6bf2d32a52c",
        "tags": []
      },
      "outputs": [
        {
          "output_type": "stream",
          "name": "stdout",
          "text": [
            "raw text----------\n",
            "['hello', 'world']\n",
            "['tokenize', 'text', 'datas', 'with', 'batch']\n",
            "['this', 'is', 'a', 'test']\n",
            "mask----------\n",
            "tensor([0, 0, 0, 0, 1, 1, 1])\n",
            "tensor([0, 0, 0, 0, 0, 0, 0])\n",
            "tensor([0, 0, 0, 0, 0, 0, 1])\n",
            "indices----------\n",
            "tensor([   1,   16, 3218,    3,    0,    0,    0])\n",
            "tensor([   1,    2, 3878,    2,  552,    2,    3])\n",
            "tensor([   1,  117,  235,  103, 2896,    3,    0])\n",
            "decode text----------\n",
            "[BOS] hello world [EOS] [PAD] [PAD] [PAD]\n",
            "[BOS] [UNK] text [UNK] with [UNK] [EOS]\n",
            "[BOS] this is a test [EOS] [PAD]\n"
          ]
        }
      ],
      "source": [
        "import torch\n",
        "\n",
        "class Tokenizer:\n",
        "    def __init__(self, word2idx, idx2word, max_length=500, pad_idx=0, bos_idx=1, eos_idx=3, unk_idx=2):\n",
        "        # 词汇表映射\n",
        "        self.word2idx = word2idx  # 词 -> 索引\n",
        "        self.idx2word = idx2word  # 索引 -> 词\n",
        "        self.max_length = max_length  # 最大序列长度\n",
        "        self.pad_idx = pad_idx  # 填充索引\n",
        "        self.bos_idx = bos_idx  # 句子起始符索引\n",
        "        self.eos_idx = eos_idx  # 句子结束符索引\n",
        "        self.unk_idx = unk_idx  # 未知词索引\n",
        "\n",
        "    def encode(self, text_list, padding_first=False, add_bos=True, add_eos=True, return_mask=False):\n",
        "        \"\"\"\n",
        "        将文本列表编码为索引序列，并进行填充。\n",
        "\n",
        "        参数：\n",
        "        - text_list: 输入文本的列表，每个元素是一个单词列表。\n",
        "        - padding_first: 是否将填充 [PAD] 加在序列前面，默认为 False（填充在后面）。\n",
        "        - add_bos: 是否在序列前添加 [BOS] 标记。\n",
        "        - add_eos: 是否在序列后添加 [EOS] 标记。\n",
        "        - return_mask: 是否返回填充掩码，掩码用于指示哪些部分是填充，哪些是真实 token。\n",
        "\n",
        "        返回：\n",
        "        - input_ids: 转换后的索引张量（torch.Tensor）。\n",
        "        - masks（可选）: 掩码张量（torch.Tensor），填充部分为 1，非填充部分为 0。\n",
        "        \"\"\"\n",
        "        max_length = min(self.max_length, add_eos + add_bos + max([len(text) for text in text_list]))  # 计算最大序列长度\n",
        "        indices_list = []\n",
        "\n",
        "        for text in text_list:\n",
        "            # 将文本转换为索引，若单词不在词表中则使用 unk_idx\n",
        "            indices = [self.word2idx.get(word, self.unk_idx) for word in text[:max_length - add_bos - add_eos]]\n",
        "\n",
        "            # 添加起始符 [BOS] 和结束符 [EOS]\n",
        "            if add_bos:\n",
        "                indices = [self.bos_idx] + indices\n",
        "            if add_eos:\n",
        "                indices = indices + [self.eos_idx]\n",
        "\n",
        "            # 根据 padding_first 选择填充方式\n",
        "            if padding_first:\n",
        "                indices = [self.pad_idx] * (max_length - len(indices)) + indices\n",
        "            else:\n",
        "                indices = indices + [self.pad_idx] * (max_length - len(indices))\n",
        "\n",
        "            indices_list.append(indices)\n",
        "\n",
        "        input_ids = torch.tensor(indices_list)  # 转换为张量\n",
        "        masks = (input_ids == self.pad_idx).to(dtype=torch.int64)  # 生成掩码：填充部分为 1，非填充部分为 0\n",
        "\n",
        "        return input_ids if not return_mask else (input_ids, masks)\n",
        "\n",
        "    def decode(self, indices_list, remove_bos=True, remove_eos=True, remove_pad=True, split=False):\n",
        "        \"\"\"\n",
        "        将索引序列解码回文本。\n",
        "\n",
        "        参数：\n",
        "        - indices_list: 需要解码的索引列表，每个元素是一个索引序列。\n",
        "        - remove_bos: 是否移除 [BOS] 。\n",
        "        - remove_eos: 是否移除 [EOS] 。\n",
        "        - remove_pad: 是否移除 [PAD] 。\n",
        "        - split: 是否返回单词列表（True），否则返回字符串（False）。\n",
        "\n",
        "        返回：\n",
        "        - text_list: 解码后的文本列表。\n",
        "        \"\"\"\n",
        "        text_list = []\n",
        "\n",
        "        for indices in indices_list:\n",
        "            text = []\n",
        "            for index in indices:\n",
        "                word = self.idx2word.get(index, \"[UNK]\")  # 获取单词，如果索引不存在则替换为 [UNK]\n",
        "\n",
        "                # 根据参数决定是否移除特殊标记\n",
        "                if remove_bos and word == \"[BOS]\":\n",
        "                    continue\n",
        "                if remove_eos and word == \"[EOS]\":\n",
        "                    break\n",
        "                if remove_pad and word == \"[PAD]\":\n",
        "                    break\n",
        "\n",
        "                text.append(word)  # 添加单词\n",
        "\n",
        "            text_list.append(\" \".join(text) if not split else text)  # 连接单词形成句子\n",
        "\n",
        "        return text_list\n",
        "\n",
        "# 生成源语言（西班牙语）和目标语言（英语）的 Tokenizer\n",
        "src_tokenizer = Tokenizer(word2idx=src_word2idx, idx2word=src_idx2word)  # 源语言 tokenizer\n",
        "trg_tokenizer = Tokenizer(word2idx=trg_word2idx, idx2word=trg_idx2word)  # 目标语言 tokenizer\n",
        "\n",
        "# 测试 encode 和 decode 功能\n",
        "raw_text = [\n",
        "    \"hello world\".split(),\n",
        "    \"tokenize text datas with batch\".split(),\n",
        "    \"this is a test\".split()\n",
        "]\n",
        "\n",
        "# 编码文本\n",
        "indices, mask = trg_tokenizer.encode(raw_text, padding_first=False, add_bos=True, add_eos=True, return_mask=True)\n",
        "\n",
        "# 解码索引\n",
        "decode_text = trg_tokenizer.decode(indices.tolist(), remove_bos=False, remove_eos=False, remove_pad=False)\n",
        "\n",
        "# 打印测试结果\n",
        "print(\"raw text\" + '-' * 10)\n",
        "for raw in raw_text:\n",
        "    print(raw)\n",
        "\n",
        "print(\"mask\" + '-' * 10)\n",
        "for m in mask:\n",
        "    print(m)\n",
        "\n",
        "print(\"indices\" + '-' * 10)\n",
        "for index in indices:\n",
        "    print(index)\n",
        "\n",
        "print(\"decode text\" + '-' * 10)\n",
        "for decode in decode_text:\n",
        "    print(decode)"
      ]
    },
    {
      "cell_type": "markdown",
      "metadata": {
        "id": "S8BDjaa1Jzbc"
      },
      "source": [
        "### DataLoader"
      ]
    },
    {
      "cell_type": "code",
      "execution_count": 27,
      "metadata": {
        "ExecuteTime": {
          "end_time": "2024-08-01T01:43:37.581540600Z",
          "start_time": "2024-08-01T01:43:37.573524800Z"
        },
        "ExecutionIndicator": {
          "show": true
        },
        "execution": {
          "iopub.execute_input": "2025-02-07T16:34:56.900136Z",
          "iopub.status.busy": "2025-02-07T16:34:56.899568Z",
          "iopub.status.idle": "2025-02-07T16:34:56.907637Z",
          "shell.execute_reply": "2025-02-07T16:34:56.906633Z",
          "shell.execute_reply.started": "2025-02-07T16:34:56.900092Z"
        },
        "id": "sPwlGzn8Jzbc",
        "tags": []
      },
      "outputs": [],
      "source": [
        "def collate_fct(batch):\n",
        "    # 处理批次中的每个样本，将每个句子按照空格分开成词\n",
        "    src_words = [pair[0].split() for pair in batch]  # 处理源语言（如西班牙语）的句子\n",
        "    trg_words = [pair[1].split() for pair in batch]  # 处理目标语言（如英语）的句子\n",
        "\n",
        "    # 通过 tokenizer 对源语言进行编码，返回编码后的输入和掩码\n",
        "    # [PAD] [BOS] src [EOS] --> 对源语言句子进行编码，添加 [PAD]、[BOS] 和 [EOS] 标记\n",
        "    encoder_inputs, encoder_inputs_mask = src_tokenizer.encode(\n",
        "        src_words, padding_first=True, add_bos=True, add_eos=True, return_mask=True\n",
        "    )\n",
        "\n",
        "    # 通过 tokenizer 对目标语言进行编码，返回编码后的输入\n",
        "    # [BOS] trg [PAD] --> 对目标语言句子进行编码，只添加 [BOS] 标记，不添加 [EOS]，并进行填充\n",
        "    decoder_inputs = trg_tokenizer.encode(\n",
        "        trg_words, padding_first=False, add_bos=True, add_eos=False, return_mask=False\n",
        "    )\n",
        "\n",
        "    # 对目标语言的标签进行编码，返回编码后的标签和掩码\n",
        "    # trg [EOS] [PAD] --> 对目标语言句子进行编码，添加 [EOS] 和填充\n",
        "    decoder_labels, decoder_labels_mask = trg_tokenizer.encode(\n",
        "        trg_words, padding_first=False, add_bos=False, add_eos=True, return_mask=True\n",
        "    )\n",
        "\n",
        "    # 返回一个字典，包含所有模型需要的输入和标签\n",
        "    # 将所有数据转移到设备（如 GPU）上\n",
        "    return {\n",
        "        \"encoder_inputs\": encoder_inputs.to(device=device),  # 源语言输入\n",
        "        \"encoder_inputs_mask\": encoder_inputs_mask.to(device=device),  # 源语言的掩码（padding mask）\n",
        "        \"decoder_inputs\": decoder_inputs.to(device=device),  # 目标语言输入\n",
        "        \"decoder_labels\": decoder_labels.to(device=device),  # 目标语言的标签（用于计算损失）\n",
        "        \"decoder_labels_mask\": decoder_labels_mask.to(device=device),  # 目标语言标签的掩码（padding mask），用于去除padding的影响，在计算loss时使用，即不计算padding的loss\n",
        "    }\n",
        "    # 返回的数据通过字典的形式进行组织，便于模型处理"
      ]
    },
    {
      "cell_type": "code",
      "execution_count": 28,
      "metadata": {
        "ExecuteTime": {
          "end_time": "2024-08-01T01:43:37.647635800Z",
          "start_time": "2024-08-01T01:43:37.580542500Z"
        },
        "colab": {
          "base_uri": "https://localhost:8080/"
        },
        "execution": {
          "iopub.execute_input": "2025-02-07T16:34:56.909118Z",
          "iopub.status.busy": "2025-02-07T16:34:56.908679Z",
          "iopub.status.idle": "2025-02-07T16:34:57.138597Z",
          "shell.execute_reply": "2025-02-07T16:34:57.137643Z",
          "shell.execute_reply.started": "2025-02-07T16:34:56.909077Z"
        },
        "id": "_JsuutYAJzbc",
        "outputId": "768e2abc-9543-433b-fc24-be8cb7167ffd",
        "tags": []
      },
      "outputs": [
        {
          "output_type": "stream",
          "name": "stdout",
          "text": [
            "encoder_inputs\n",
            "tensor([[   0,    1,   55,   67, 1056,  306,   50,    5,    3],\n",
            "        [   1,   92, 5604,   50, 2622,  489, 3758,    5,    3]],\n",
            "       device='cuda:0')\n",
            "encoder_inputs_mask\n",
            "tensor([[1, 0, 0, 0, 0, 0, 0, 0, 0],\n",
            "        [0, 0, 0, 0, 0, 0, 0, 0, 0]], device='cuda:0')\n",
            "decoder_inputs\n",
            "tensor([[   1,   17,   32,  516,   30, 1088, 1577,    5,    0],\n",
            "        [   1,   47, 2976,  689, 5400, 2238,  634,   29,    5]],\n",
            "       device='cuda:0')\n",
            "decoder_labels\n",
            "tensor([[  17,   32,  516,   30, 1088, 1577,    5,    3,    0],\n",
            "        [  47, 2976,  689, 5400, 2238,  634,   29,    5,    3]],\n",
            "       device='cuda:0')\n",
            "decoder_labels_mask\n",
            "tensor([[0, 0, 0, 0, 0, 0, 0, 0, 1],\n",
            "        [0, 0, 0, 0, 0, 0, 0, 0, 0]], device='cuda:0')\n"
          ]
        }
      ],
      "source": [
        "sample_dl = DataLoader(train_ds, batch_size=2, shuffle=True, collate_fn=collate_fct)\n",
        "\n",
        "for batch in sample_dl:\n",
        "    for key, value in batch.items():\n",
        "        print(key)\n",
        "        print(value)\n",
        "    break"
      ]
    },
    {
      "cell_type": "markdown",
      "metadata": {
        "id": "K9JaKLR7Jzbc"
      },
      "source": [
        "## 定义模型"
      ]
    },
    {
      "cell_type": "code",
      "execution_count": 29,
      "metadata": {
        "ExecuteTime": {
          "end_time": "2024-08-01T01:43:37.663622200Z",
          "start_time": "2024-08-01T01:43:37.612142500Z"
        },
        "ExecutionIndicator": {
          "show": false
        },
        "execution": {
          "iopub.execute_input": "2025-02-07T16:34:57.144378Z",
          "iopub.status.busy": "2025-02-07T16:34:57.144016Z",
          "iopub.status.idle": "2025-02-07T16:34:57.150556Z",
          "shell.execute_reply": "2025-02-07T16:34:57.149804Z",
          "shell.execute_reply.started": "2025-02-07T16:34:57.144350Z"
        },
        "id": "CGxzT605Jzbd",
        "tags": []
      },
      "outputs": [],
      "source": [
        "class Encoder(nn.Module):\n",
        "    def __init__(\n",
        "        self,\n",
        "        vocab_size,             # 词汇表大小\n",
        "        embedding_dim=256,      # 嵌入层的维度（即每个词的表示大小）\n",
        "        hidden_dim=1024,        # 隐藏层的维度（GRU中每个隐藏状态的大小）\n",
        "        num_layers=1,           # GRU层数\n",
        "    ):\n",
        "        super().__init__()\n",
        "\n",
        "        # 嵌入层：将输入的词索引转换为词向量\n",
        "        # vocab_size：词汇表的大小，embedding_dim：词向量的维度\n",
        "        self.embedding = nn.Embedding(vocab_size, embedding_dim)\n",
        "\n",
        "        # GRU层：用于处理序列数据\n",
        "        # embedding_dim：输入到GRU层的特征维度（即每个词的嵌入维度）\n",
        "        # hidden_dim：GRU的隐藏状态维度，影响网络的记忆容量\n",
        "        # num_layers：GRU的层数，通常在深度学习中可以通过多层GRU增加模型的表达能力\n",
        "        # batch_first=True表示输入和输出的形状是 [batch_size, sequence_length, feature_dim]\n",
        "        self.gru = nn.GRU(embedding_dim, hidden_dim, num_layers=num_layers, batch_first=True)\n",
        "\n",
        "    def forward(self, encoder_inputs):\n",
        "        \"\"\"\n",
        "        前向传播：\n",
        "        encoder_inputs.shape = [batch_size, sequence_length]\n",
        "        \"\"\"\n",
        "        # 将输入的词索引（encoder_inputs）转换为词向量（embeds）\n",
        "        embeds = self.embedding(encoder_inputs)\n",
        "        # embeds.shape = [batch_size, sequence_length, embedding_dim]\n",
        "\n",
        "        # 将词向量输入到GRU层，得到GRU的输出（seq_output）和最后的隐藏状态（hidden）\n",
        "        seq_output, hidden = self.gru(embeds)\n",
        "        # seq_output.shape = [batch_size, sequence_length, hidden_dim]\n",
        "        # hidden.shape = [num_layers, batch_size, hidden_dim]，即每层的隐藏状态\n",
        "\n",
        "        return seq_output, hidden\n"
      ]
    },
    {
      "cell_type": "code",
      "execution_count": 30,
      "metadata": {
        "ExecuteTime": {
          "end_time": "2024-08-01T02:19:55.960154200Z",
          "start_time": "2024-08-01T02:19:55.426284200Z"
        },
        "execution": {
          "iopub.execute_input": "2025-02-07T16:34:57.152136Z",
          "iopub.status.busy": "2025-02-07T16:34:57.151809Z",
          "iopub.status.idle": "2025-02-07T16:34:57.476995Z",
          "shell.execute_reply": "2025-02-07T16:34:57.476036Z",
          "shell.execute_reply.started": "2025-02-07T16:34:57.152110Z"
        },
        "jupyter": {
          "outputs_hidden": false
        },
        "tags": [],
        "colab": {
          "base_uri": "https://localhost:8080/"
        },
        "id": "-VzgHYb1YJXP",
        "outputId": "1199f8c6-01e6-45bf-ab73-203dd2fc858e"
      },
      "outputs": [
        {
          "output_type": "stream",
          "name": "stdout",
          "text": [
            "torch.Size([2, 50, 1024])\n",
            "torch.Size([4, 2, 1024])\n",
            "tensor([[-0.0636,  0.0092,  0.0103,  ..., -0.0153, -0.0004, -0.0341],\n",
            "        [-0.0175,  0.0283,  0.0105,  ...,  0.0142,  0.0282, -0.0413]],\n",
            "       grad_fn=<SliceBackward0>)\n",
            "tensor([[-0.0636,  0.0092,  0.0103,  ..., -0.0153, -0.0004, -0.0341],\n",
            "        [-0.0175,  0.0283,  0.0105,  ...,  0.0142,  0.0282, -0.0413]],\n",
            "       grad_fn=<SliceBackward0>)\n"
          ]
        }
      ],
      "source": [
        "#把上面的Encoder写一个例子，看看输出的shape\n",
        "encoder = Encoder(vocab_size=100, embedding_dim=256, hidden_dim=1024, num_layers=4)\n",
        "encoder_inputs = torch.randint(0, 100, (2, 50))\n",
        "encoder_outputs, hidden = encoder(encoder_inputs)\n",
        "print(encoder_outputs.shape)\n",
        "print(hidden.shape)\n",
        "print(encoder_outputs[:,-1,:])\n",
        "print(hidden[-1,:,:]) #取最后一层的hidden"
      ]
    },
    {
      "cell_type": "code",
      "execution_count": 31,
      "metadata": {
        "ExecuteTime": {
          "end_time": "2024-05-06T01:57:05.054653Z",
          "start_time": "2024-05-06T01:57:04.982694100Z"
        },
        "execution": {
          "iopub.execute_input": "2025-02-07T16:34:57.478725Z",
          "iopub.status.busy": "2025-02-07T16:34:57.478200Z",
          "iopub.status.idle": "2025-02-07T16:34:57.485460Z",
          "shell.execute_reply": "2025-02-07T16:34:57.484553Z",
          "shell.execute_reply.started": "2025-02-07T16:34:57.478681Z"
        },
        "jupyter": {
          "outputs_hidden": false
        },
        "tags": [],
        "colab": {
          "base_uri": "https://localhost:8080/"
        },
        "id": "YE3kXOjuYJXP",
        "outputId": "2234adde-cd70-4f78-f028-ec9551d53c8a"
      },
      "outputs": [
        {
          "output_type": "execute_result",
          "data": {
            "text/plain": [
              "torch.Size([2, 1, 1024])"
            ]
          },
          "metadata": {},
          "execution_count": 31
        }
      ],
      "source": [
        "query1 = torch.randn(2, 1024)\n",
        "query1.unsqueeze(1).shape #增加维度"
      ]
    },
    {
      "cell_type": "markdown",
      "metadata": {
        "id": "qh8U84uAYJXP"
      },
      "source": [
        "## BahdanauAttention公式\n",
        "score = FC(tanh(FC(EO) + FC(H)))  # FC(EO)的FC是Wk,FC(H)的FC是Wq,最外面的FC是V\n",
        "\n",
        "attention_weights = softmax(score, axis = 1)  \n",
        "\n",
        "context = sum(attention_weights * EO, axis = 1)  # 对EO做加权求和，得到上下文向量"
      ]
    },
    {
      "cell_type": "code",
      "execution_count": 32,
      "metadata": {
        "ExecuteTime": {
          "end_time": "2024-08-01T02:19:58.695774900Z",
          "start_time": "2024-08-01T02:19:58.676428200Z"
        },
        "ExecutionIndicator": {
          "show": true
        },
        "execution": {
          "iopub.execute_input": "2025-02-07T16:34:57.487288Z",
          "iopub.status.busy": "2025-02-07T16:34:57.486720Z",
          "iopub.status.idle": "2025-02-07T16:34:57.495861Z",
          "shell.execute_reply": "2025-02-07T16:34:57.495011Z",
          "shell.execute_reply.started": "2025-02-07T16:34:57.487244Z"
        },
        "id": "pTQ6Mz1OJzbd",
        "tags": []
      },
      "outputs": [],
      "source": [
        "class BahdanauAttention(nn.Module):\n",
        "    def __init__(self, hidden_dim=1024):\n",
        "        super().__init__()\n",
        "        self.Wk = nn.Linear(hidden_dim, hidden_dim) # 对 keys（encoder 输出）进行线性变换\n",
        "        self.Wq = nn.Linear(hidden_dim, hidden_dim) # 对 query（decoder 隐藏状态）进行线性变换\n",
        "        self.V = nn.Linear(hidden_dim, 1) # 计算注意力分数\n",
        "\n",
        "    def forward(self, query, keys, values, attn_mask=None):\n",
        "        \"\"\"\n",
        "        :param query: decoder 当前的隐藏状态, shape = [batch size, hidden_dim]\n",
        "        :param keys: encoder 的输出, shape = [batch size, sequence length, hidden_dim]\n",
        "        :param values: encoder 的输出（通常 keys 和 values 相同）, shape = [batch size, sequence length, hidden_dim]\n",
        "        :param attn_mask: encoder 输入的 mask, shape = [batch size, sequence length]\n",
        "        :return: context_vector（注意力加权求和后的上下文向量）, scores（注意力权重）\n",
        "        \"\"\"\n",
        "        # query.shape = [batch size, hidden_dim] -> 通过 unsqueeze(-2) 变为 [batch size, 1, hidden_dim]\n",
        "        # keys.shape = [batch size, sequence length, hidden_dim]\n",
        "        # values.shape = [batch size, sequence length, hidden_dim]\n",
        "\n",
        "        # 计算注意力得分\n",
        "        scores = self.V(F.tanh(self.Wk(keys) + self.Wq(query.unsqueeze(-2))))\n",
        "        # scores.shape = [batch size, sequence length, 1]\n",
        "\n",
        "        if attn_mask is not None:  # 处理 padding mask，确保 padding 部分不会影响计算\n",
        "            # mask 是一个 0/1 矩阵, 1 表示 padding 位置, 需要掩盖 (scores 设为 -inf)\n",
        "            attn_mask = (attn_mask.unsqueeze(-1)) * -1e16  # 形状调整为 [batch size, sequence length, 1]\n",
        "            scores += attn_mask  # 掩盖 padding 位置\n",
        "\n",
        "        # 对注意力得分进行 softmax 归一化，确保权重和为 1\n",
        "        scores = F.softmax(scores, dim=-2)\n",
        "        # scores.shape = [batch size, sequence length, 1]\n",
        "\n",
        "        # 计算上下文向量（context vector），即对 values 进行加权求和\n",
        "        context_vector = torch.mul(scores, values).sum(dim=-2)  # [batch size, hidden_dim]\n",
        "\n",
        "        return context_vector, scores # 返回上下文向量和注意力权重"
      ]
    },
    {
      "cell_type": "code",
      "execution_count": 33,
      "metadata": {
        "ExecuteTime": {
          "end_time": "2024-05-06T01:57:05.161598600Z",
          "start_time": "2024-05-06T01:57:05.041662700Z"
        },
        "execution": {
          "iopub.execute_input": "2025-02-07T16:34:57.497515Z",
          "iopub.status.busy": "2025-02-07T16:34:57.496921Z",
          "iopub.status.idle": "2025-02-07T16:34:57.502911Z",
          "shell.execute_reply": "2025-02-07T16:34:57.502052Z",
          "shell.execute_reply.started": "2025-02-07T16:34:57.497472Z"
        },
        "jupyter": {
          "outputs_hidden": false
        },
        "colab": {
          "base_uri": "https://localhost:8080/"
        },
        "id": "daY9xgwiYJXQ",
        "outputId": "83e99ecf-1a84-4a7b-d4ea-64a3536e213a"
      },
      "outputs": [
        {
          "output_type": "stream",
          "name": "stdout",
          "text": [
            "torch.Size([2, 2])\n"
          ]
        }
      ],
      "source": [
        "#tensor矩阵相乘\n",
        "a = torch.randn(2, 3)\n",
        "b = torch.randn(3, 2)\n",
        "c = torch.mm(a, b) #增加维度\n",
        "print(c.shape)"
      ]
    },
    {
      "cell_type": "code",
      "execution_count": 34,
      "metadata": {
        "ExecuteTime": {
          "end_time": "2024-08-01T02:49:32.095682500Z",
          "start_time": "2024-08-01T02:49:32.051271600Z"
        },
        "execution": {
          "iopub.execute_input": "2025-02-07T16:34:57.504385Z",
          "iopub.status.busy": "2025-02-07T16:34:57.503946Z",
          "iopub.status.idle": "2025-02-07T16:34:57.537441Z",
          "shell.execute_reply": "2025-02-07T16:34:57.536642Z",
          "shell.execute_reply.started": "2025-02-07T16:34:57.504343Z"
        },
        "jupyter": {
          "outputs_hidden": false
        },
        "colab": {
          "base_uri": "https://localhost:8080/"
        },
        "id": "8LtFxmuvYJXQ",
        "outputId": "64915008-2a05-4cf1-e359-5d2a6aeac305"
      },
      "outputs": [
        {
          "output_type": "stream",
          "name": "stdout",
          "text": [
            "torch.Size([2, 1024])\n",
            "torch.Size([2, 50, 1])\n"
          ]
        }
      ],
      "source": [
        "#把上面的BahdanauAttention写一个例子，看看输出的shape\n",
        "attention = BahdanauAttention(hidden_dim=1024)\n",
        "query = torch.randn(2, 1024) #Decoder的隐藏状态\n",
        "keys = torch.randn(2, 50, 1024) #EO\n",
        "values = torch.randn(2, 50, 1024) #EO\n",
        "attn_mask = torch.randint(0, 2, (2, 50))\n",
        "context_vector, scores = attention(query, keys, values, attn_mask)\n",
        "print(context_vector.shape)\n",
        "print(scores.shape)"
      ]
    },
    {
      "cell_type": "code",
      "execution_count": 35,
      "metadata": {
        "ExecuteTime": {
          "end_time": "2024-08-01T03:02:48.940488500Z",
          "start_time": "2024-08-01T03:02:48.937601400Z"
        },
        "ExecutionIndicator": {
          "show": true
        },
        "execution": {
          "iopub.execute_input": "2025-02-07T16:34:57.539153Z",
          "iopub.status.busy": "2025-02-07T16:34:57.538449Z",
          "iopub.status.idle": "2025-02-07T16:34:57.549386Z",
          "shell.execute_reply": "2025-02-07T16:34:57.548664Z",
          "shell.execute_reply.started": "2025-02-07T16:34:57.539111Z"
        },
        "id": "6W5FeRRrJzbd",
        "tags": []
      },
      "outputs": [],
      "source": [
        "class Decoder(nn.Module):\n",
        "    def __init__(\n",
        "        self,\n",
        "        vocab_size,  # 目标词汇表大小\n",
        "        embedding_dim=256,  # 词向量维度\n",
        "        hidden_dim=1024,  # GRU隐藏层维度\n",
        "        num_layers=1,  # GRU层数\n",
        "        ):\n",
        "        super(Decoder, self).__init__()\n",
        "        self.embedding = nn.Embedding(vocab_size, embedding_dim)  # 词嵌入层\n",
        "        self.gru = nn.GRU(embedding_dim + hidden_dim, hidden_dim, num_layers=num_layers, batch_first=True)\n",
        "        # GRU 采用 batch_first=True 使输入格式为 (batch_size, seq_len, input_dim)\n",
        "        self.fc = nn.Linear(hidden_dim, vocab_size)  # 线性层用于将 GRU 输出映射到词汇表大小\n",
        "        self.dropout = nn.Dropout(0.6)  # 随机失活层，防止过拟合\n",
        "        self.attention = BahdanauAttention(hidden_dim)  # Bahdanau 注意力机制，用于计算上下文向量\n",
        "\n",
        "    def forward(self, decoder_input, hidden, encoder_outputs, attn_mask=None):\n",
        "        \"\"\"\n",
        "        :param decoder_input: 当前时间步的输入，形状为 [batch_size, 1]，每个样本一个 token\n",
        "        :param hidden: 上一个时间步的隐藏状态，形状为 [batch_size, hidden_dim]\n",
        "        :param encoder_outputs: 编码器的所有时间步输出，形状为 [batch_size, seq_len, hidden_dim]\n",
        "        :param attn_mask: 注意力掩码，形状为 [batch_size, seq_len]，用于忽略 padding 位置\n",
        "        :return: logits: 预测的词分布，形状为 [batch_size, 1, vocab_size]\n",
        "                 hidden: 当前时间步的隐藏状态，形状为 [batch_size, hidden_dim]\n",
        "                 attention_score: 注意力分数，形状为 [batch_size, seq_len, 1]\n",
        "        \"\"\"\n",
        "        # 断言输入形状正确，避免错误输入导致的问题\n",
        "        assert len(decoder_input.shape) == 2 and decoder_input.shape[-1] == 1, f\"decoder_input.shape = {decoder_input.shape}\"\n",
        "        assert len(hidden.shape) == 2, f\"hidden.shape = {hidden.shape}\"\n",
        "        assert len(encoder_outputs.shape) == 3, f\"encoder_outputs.shape = {encoder_outputs.shape}\"\n",
        "\n",
        "        # 计算注意力机制的上下文向量\n",
        "        context_vector, attention_score = self.attention(\n",
        "            query=hidden, keys=encoder_outputs, values=encoder_outputs, attn_mask=attn_mask)\n",
        "        # context_vector 形状: [batch_size, hidden_dim]\n",
        "\n",
        "        # 获取当前 token 的嵌入表示\n",
        "        embeds = self.embedding(decoder_input)\n",
        "        # embeds 形状: [batch_size, 1, embedding_dim]，1 代表当前时间步\n",
        "\n",
        "        # 将上下文向量与当前 token 的嵌入拼接，作为 GRU 输入\n",
        "        embeds = torch.cat([context_vector.unsqueeze(-2), embeds], dim=-1)\n",
        "        # embeds 形状: [batch_size, 1, embedding_dim + hidden_dim]\n",
        "\n",
        "        # 经过 GRU 处理，得到当前时间步的输出和隐藏状态\n",
        "        seq_output, hidden = self.gru(embeds)\n",
        "        # seq_output 形状: [batch_size, 1, hidden_dim]，hidden 形状: [batch_size, hidden_dim]\n",
        "\n",
        "        # 通过全连接层计算 logits（预测词概率分布）\n",
        "        logits = self.fc(self.dropout(seq_output))\n",
        "        # logits 形状: [batch_size, 1, vocab_size]\n",
        "\n",
        "        return logits, hidden, attention_score  # 返回预测结果、隐藏状态和注意力得分"
      ]
    },
    {
      "cell_type": "code",
      "execution_count": 36,
      "metadata": {
        "ExecuteTime": {
          "end_time": "2024-08-01T03:26:47.631513900Z",
          "start_time": "2024-08-01T03:26:47.613513600Z"
        },
        "ExecutionIndicator": {
          "show": true
        },
        "execution": {
          "iopub.execute_input": "2025-02-07T16:34:57.550829Z",
          "iopub.status.busy": "2025-02-07T16:34:57.550406Z",
          "iopub.status.idle": "2025-02-07T16:34:57.563842Z",
          "shell.execute_reply": "2025-02-07T16:34:57.563152Z",
          "shell.execute_reply.started": "2025-02-07T16:34:57.550803Z"
        },
        "id": "FG-Pid9cJzbd",
        "tags": []
      },
      "outputs": [],
      "source": [
        "class Sequence2Sequence(nn.Module):\n",
        "    def __init__(\n",
        "        self,\n",
        "        src_vocab_size,  # 源语言词汇表大小\n",
        "        trg_vocab_size,  # 目标语言词汇表大小\n",
        "        encoder_embedding_dim=256,  # 编码器词嵌入维度\n",
        "        encoder_hidden_dim=1024,  # 编码器隐藏层维度\n",
        "        encoder_num_layers=1,  # 编码器GRU层数\n",
        "        decoder_embedding_dim=256,  # 解码器词嵌入维度\n",
        "        decoder_hidden_dim=1024,  # 解码器隐藏层维度\n",
        "        decoder_num_layers=1,  # 解码器GRU层数\n",
        "        bos_idx=1,  # 目标语言序列的起始标记 (Begin of Sentence)\n",
        "        eos_idx=3,  # 目标语言序列的终止标记 (End of Sentence)\n",
        "        max_length=512,  # 生成序列的最大长度\n",
        "    ):\n",
        "        super(Sequence2Sequence, self).__init__()\n",
        "        self.bos_idx = bos_idx\n",
        "        self.eos_idx = eos_idx\n",
        "        self.max_length = max_length\n",
        "\n",
        "        # 初始化编码器\n",
        "        self.encoder = Encoder(\n",
        "            src_vocab_size,\n",
        "            embedding_dim=encoder_embedding_dim,\n",
        "            hidden_dim=encoder_hidden_dim,\n",
        "            num_layers=encoder_num_layers,\n",
        "        )\n",
        "\n",
        "        # 初始化解码器\n",
        "        self.decoder = Decoder(\n",
        "            trg_vocab_size,\n",
        "            embedding_dim=decoder_embedding_dim,\n",
        "            hidden_dim=decoder_hidden_dim,\n",
        "            num_layers=decoder_num_layers,\n",
        "        )\n",
        "\n",
        "    def forward(self, *, encoder_inputs, decoder_inputs, attn_mask=None):\n",
        "        \"\"\"\n",
        "        :param encoder_inputs: 编码器输入序列，形状为 [batch_size, src_seq_len]\n",
        "        :param decoder_inputs: 解码器输入序列，形状为 [batch_size, trg_seq_len]\n",
        "        :param attn_mask: 注意力掩码，形状为 [batch_size, src_seq_len]，用于忽略 padding 位置\n",
        "        :return: 预测 logits，形状为 [batch_size, trg_seq_len, vocab_size]\n",
        "                 注意力分数，形状为 [batch_size, src_seq_len, trg_seq_len]\n",
        "        \"\"\"\n",
        "        # 编码阶段，获取编码器输出和隐藏状态\n",
        "        encoder_outputs, hidden = self.encoder(encoder_inputs)\n",
        "\n",
        "        # 获取批次大小和目标序列长度\n",
        "        bs, seq_len = decoder_inputs.shape\n",
        "\n",
        "        logits_list = []  # 存储解码器的输出 logits\n",
        "        scores_list = []  # 存储注意力得分\n",
        "\n",
        "        # 逐个时间步解码（串行训练，使用教师强制）\n",
        "        for i in range(seq_len):\n",
        "            logits, hidden, score = self.decoder(\n",
        "                decoder_inputs[:, i:i+1],  # 取当前时间步的输入\n",
        "                hidden[-1],  # 取 GRU 的最后一层隐藏状态\n",
        "                encoder_outputs,\n",
        "                attn_mask=attn_mask\n",
        "            )\n",
        "            logits_list.append(logits)  # 记录解码器的输出 logits\n",
        "            scores_list.append(score)  # 记录注意力分数\n",
        "\n",
        "        # 将 logits 和注意力得分拼接，并返回\n",
        "        return torch.cat(logits_list, dim=-2), torch.cat(scores_list, dim=-1)\n",
        "\n",
        "    @torch.no_grad()  # 关闭梯度计算，提高推理效率\n",
        "    def infer(self, encoder_input, attn_mask=None):\n",
        "        \"\"\"\n",
        "        :param encoder_input: 预测阶段的编码器输入，形状为 [1, src_seq_len]\n",
        "        :param attn_mask: 注意力掩码，形状为 [1, src_seq_len]，用于忽略 padding 位置\n",
        "        :return: 预测序列列表，注意力分数张量\n",
        "        \"\"\"\n",
        "        # 编码阶段，获取编码器输出和隐藏状态\n",
        "        encoder_outputs, hidden = self.encoder(encoder_input)\n",
        "\n",
        "        # 解码阶段，初始化解码器输入，使用起始标记 <BOS>\n",
        "        decoder_input = torch.Tensor([self.bos_idx]).reshape(1, 1).to(dtype=torch.int64)  # 形状为 [1, 1]\n",
        "        pred_list = []  # 存储解码出的序列\n",
        "        score_list = []  # 存储注意力分数\n",
        "\n",
        "        # 逐步生成序列，直到终止标记 <EOS> 或达到最大长度\n",
        "        for _ in range(self.max_length):\n",
        "            logits, hidden, score = self.decoder(\n",
        "                decoder_input,\n",
        "                hidden[-1],  # 取 GRU 的最后一层隐藏状态\n",
        "                encoder_outputs,\n",
        "                attn_mask=attn_mask\n",
        "            )\n",
        "\n",
        "            # 贪心搜索 (Greedy Search): 选择概率最高的词\n",
        "            decoder_pred = logits.argmax(dim=-1)  # 形状 [1, 1]\n",
        "            decoder_input = decoder_pred  # 更新解码器输入\n",
        "            pred_list.append(decoder_pred.reshape(-1).item())  # 存储预测值\n",
        "            score_list.append(score)  # 存储注意力分数\n",
        "\n",
        "            # 如果预测到终止标记 <EOS>，则结束解码\n",
        "            if decoder_pred == self.eos_idx:\n",
        "                break\n",
        "\n",
        "        # 返回预测序列和注意力得分\n",
        "        return pred_list, torch.cat(score_list, dim=-1)"
      ]
    },
    {
      "cell_type": "markdown",
      "metadata": {
        "id": "zE-vNp-xJzbe"
      },
      "source": [
        "## 训练"
      ]
    },
    {
      "cell_type": "markdown",
      "metadata": {
        "id": "o55JWSvhJzbe"
      },
      "source": [
        "### 损失函数"
      ]
    },
    {
      "cell_type": "code",
      "execution_count": 37,
      "metadata": {
        "ExecuteTime": {
          "end_time": "2024-08-01T03:38:58.545747900Z",
          "start_time": "2024-08-01T03:38:58.543749300Z"
        },
        "execution": {
          "iopub.execute_input": "2025-02-07T16:34:57.565511Z",
          "iopub.status.busy": "2025-02-07T16:34:57.565123Z",
          "iopub.status.idle": "2025-02-07T16:34:57.570258Z",
          "shell.execute_reply": "2025-02-07T16:34:57.569551Z",
          "shell.execute_reply.started": "2025-02-07T16:34:57.565485Z"
        },
        "id": "c_Mmw5GAJzbe"
      },
      "outputs": [],
      "source": [
        "def cross_entropy_with_padding(logits, labels, padding_mask=None):\n",
        "    # logits.shape = [batch size, sequence length, num of classes]\n",
        "    # labels.shape = [batch size, sequence length]\n",
        "    # padding_mask.shape = [batch size, sequence length]\n",
        "    bs, seq_len, nc = logits.shape\n",
        "    loss = F.cross_entropy(logits.reshape(bs * seq_len, nc), labels.reshape(-1), reduce=False) # reduce=False表示不对batch求平均\n",
        "    if padding_mask is None: # 如果没有padding_mask，就直接求平均\n",
        "        loss = loss.mean()\n",
        "    else:\n",
        "        # 如果提供了 padding_mask，则将填充部分的损失去除后计算有效损失的均值。首先，通过将 padding_mask reshape 成一维张量，并取 1 减去得到填充掩码。这样填充部分的掩码值变为 1，非填充部分变为 0。将损失张量与填充掩码相乘，这样填充部分的损失就会变为 0。然后，计算非填充部分的损失和（sum）以及非填充部分的掩码数量（sum）作为有效损失的均值计算。(因为上面我们设计的mask的token是0，所以这里是1-padding_mask)\n",
        "        padding_mask = 1 - padding_mask.reshape(-1) # 将padding_mask reshape成一维张量，mask部分为0，非mask部分为1\n",
        "        loss = torch.mul(loss, padding_mask).sum() / padding_mask.sum()\n",
        "\n",
        "    return loss\n"
      ]
    },
    {
      "cell_type": "markdown",
      "metadata": {
        "id": "ITY9VUiiJzbe"
      },
      "source": [
        "### Callback"
      ]
    },
    {
      "cell_type": "code",
      "execution_count": 38,
      "metadata": {
        "ExecuteTime": {
          "end_time": "2024-08-01T06:32:47.905030900Z",
          "start_time": "2024-08-01T06:32:37.847839900Z"
        },
        "execution": {
          "iopub.execute_input": "2025-02-07T16:34:57.571725Z",
          "iopub.status.busy": "2025-02-07T16:34:57.571308Z",
          "iopub.status.idle": "2025-02-07T16:35:00.110319Z",
          "shell.execute_reply": "2025-02-07T16:35:00.109492Z",
          "shell.execute_reply.started": "2025-02-07T16:34:57.571699Z"
        },
        "id": "qez1fjOPJzbe"
      },
      "outputs": [],
      "source": [
        "from torch.utils.tensorboard import SummaryWriter\n",
        "\n",
        "\n",
        "class TensorBoardCallback:\n",
        "    def __init__(self, log_dir, flush_secs=10):\n",
        "        \"\"\"\n",
        "        Args:\n",
        "            log_dir (str): dir to write log.\n",
        "            flush_secs (int, optional): write to dsk each flush_secs seconds. Defaults to 10.\n",
        "        \"\"\"\n",
        "        self.writer = SummaryWriter(log_dir=log_dir, flush_secs=flush_secs)\n",
        "\n",
        "    def draw_model(self, model, input_shape):\n",
        "        self.writer.add_graph(model, input_to_model=torch.randn(input_shape))\n",
        "\n",
        "    def add_loss_scalars(self, step, loss, val_loss):\n",
        "        self.writer.add_scalars(\n",
        "            main_tag=\"training/loss\",\n",
        "            tag_scalar_dict={\"loss\": loss, \"val_loss\": val_loss},\n",
        "            global_step=step,\n",
        "            )\n",
        "\n",
        "    def add_acc_scalars(self, step, acc, val_acc):\n",
        "        self.writer.add_scalars(\n",
        "            main_tag=\"training/accuracy\",\n",
        "            tag_scalar_dict={\"accuracy\": acc, \"val_accuracy\": val_acc},\n",
        "            global_step=step,\n",
        "        )\n",
        "\n",
        "    def add_lr_scalars(self, step, learning_rate):\n",
        "        self.writer.add_scalars(\n",
        "            main_tag=\"training/learning_rate\",\n",
        "            tag_scalar_dict={\"learning_rate\": learning_rate},\n",
        "            global_step=step,\n",
        "\n",
        "        )\n",
        "\n",
        "    def __call__(self, step, **kwargs):\n",
        "        # add loss\n",
        "        loss = kwargs.pop(\"loss\", None)\n",
        "        val_loss = kwargs.pop(\"val_loss\", None)\n",
        "        if loss is not None and val_loss is not None:\n",
        "            self.add_loss_scalars(step, loss, val_loss)\n",
        "        # add acc\n",
        "        acc = kwargs.pop(\"acc\", None)\n",
        "        val_acc = kwargs.pop(\"val_acc\", None)\n",
        "        if acc is not None and val_acc is not None:\n",
        "            self.add_acc_scalars(step, acc, val_acc)\n",
        "        # add lr\n",
        "        learning_rate = kwargs.pop(\"lr\", None)\n",
        "        if learning_rate is not None:\n",
        "            self.add_lr_scalars(step, learning_rate)\n"
      ]
    },
    {
      "cell_type": "code",
      "execution_count": 39,
      "metadata": {
        "ExecuteTime": {
          "end_time": "2024-08-01T06:32:52.240896200Z",
          "start_time": "2024-08-01T06:32:52.234865400Z"
        },
        "execution": {
          "iopub.execute_input": "2025-02-07T16:35:00.111785Z",
          "iopub.status.busy": "2025-02-07T16:35:00.111213Z",
          "iopub.status.idle": "2025-02-07T16:35:00.118249Z",
          "shell.execute_reply": "2025-02-07T16:35:00.117572Z",
          "shell.execute_reply.started": "2025-02-07T16:35:00.111756Z"
        },
        "id": "wXtxS8ukJzbe"
      },
      "outputs": [],
      "source": [
        "class SaveCheckpointsCallback:\n",
        "    def __init__(self, save_dir, save_step=5000, save_best_only=True):\n",
        "        \"\"\"\n",
        "        Save checkpoints each save_epoch epoch.\n",
        "        We save checkpoint by epoch in this implementation.\n",
        "        Usually, training scripts with pytorch evaluating model and save checkpoint by step.\n",
        "\n",
        "        Args:\n",
        "            save_dir (str): dir to save checkpoint\n",
        "            save_epoch (int, optional): the frequency to save checkpoint. Defaults to 1.\n",
        "            save_best_only (bool, optional): If True, only save the best model or save each model at every epoch.\n",
        "        \"\"\"\n",
        "        self.save_dir = save_dir\n",
        "        self.save_step = save_step\n",
        "        self.save_best_only = save_best_only\n",
        "        self.best_metrics = - np.inf\n",
        "\n",
        "        # mkdir\n",
        "        if not os.path.exists(self.save_dir):\n",
        "            os.mkdir(self.save_dir)\n",
        "\n",
        "    def __call__(self, step, state_dict, metric=None):\n",
        "        if step % self.save_step > 0:\n",
        "            return\n",
        "\n",
        "        if self.save_best_only:\n",
        "            assert metric is not None\n",
        "            if metric >= self.best_metrics:\n",
        "                # save checkpoints\n",
        "                torch.save(state_dict, os.path.join(self.save_dir, \"best.ckpt\"))\n",
        "                # update best metrics\n",
        "                self.best_metrics = metric\n",
        "        else:\n",
        "            torch.save(state_dict, os.path.join(self.save_dir, f\"{step}.ckpt\"))\n",
        "\n"
      ]
    },
    {
      "cell_type": "code",
      "execution_count": 40,
      "metadata": {
        "ExecuteTime": {
          "end_time": "2024-08-01T06:32:56.655315900Z",
          "start_time": "2024-08-01T06:32:56.645314800Z"
        },
        "execution": {
          "iopub.execute_input": "2025-02-07T16:35:00.119640Z",
          "iopub.status.busy": "2025-02-07T16:35:00.119053Z",
          "iopub.status.idle": "2025-02-07T16:35:00.124486Z",
          "shell.execute_reply": "2025-02-07T16:35:00.123840Z",
          "shell.execute_reply.started": "2025-02-07T16:35:00.119612Z"
        },
        "id": "lfzfWswRJzbe"
      },
      "outputs": [],
      "source": [
        "class EarlyStopCallback:\n",
        "    def __init__(self, patience=5, min_delta=0.01):\n",
        "        \"\"\"\n",
        "\n",
        "        Args:\n",
        "            patience (int, optional): Number of epochs with no improvement after which training will be stopped.. Defaults to 5.\n",
        "            min_delta (float, optional): Minimum change in the monitored quantity to qualify as an improvement, i.e. an absolute\n",
        "                change of less than min_delta, will count as no improvement. Defaults to 0.01.\n",
        "        \"\"\"\n",
        "        self.patience = patience\n",
        "        self.min_delta = min_delta\n",
        "        self.best_metric = - np.inf\n",
        "        self.counter = 0\n",
        "\n",
        "    def __call__(self, metric):\n",
        "        if metric >= self.best_metric + self.min_delta:\n",
        "            # update best metric\n",
        "            self.best_metric = metric\n",
        "            # reset counter\n",
        "            self.counter = 0\n",
        "        else:\n",
        "            self.counter += 1\n",
        "\n",
        "    @property\n",
        "    def early_stop(self):\n",
        "        return self.counter >= self.patience\n"
      ]
    },
    {
      "cell_type": "markdown",
      "metadata": {
        "id": "F2f3S6z7Jzbf"
      },
      "source": [
        "### training & valuating"
      ]
    },
    {
      "cell_type": "code",
      "execution_count": 41,
      "metadata": {
        "ExecuteTime": {
          "end_time": "2024-05-06T02:18:16.897674100Z",
          "start_time": "2024-05-06T02:18:16.874685800Z"
        },
        "execution": {
          "iopub.execute_input": "2025-02-07T16:35:00.125663Z",
          "iopub.status.busy": "2025-02-07T16:35:00.125341Z",
          "iopub.status.idle": "2025-02-07T16:35:00.130673Z",
          "shell.execute_reply": "2025-02-07T16:35:00.129933Z",
          "shell.execute_reply.started": "2025-02-07T16:35:00.125637Z"
        },
        "id": "IOlJp26YJzbf"
      },
      "outputs": [],
      "source": [
        "@torch.no_grad()\n",
        "def evaluating(model, dataloader, loss_fct):\n",
        "    loss_list = []\n",
        "    for batch in dataloader:\n",
        "        encoder_inputs = batch[\"encoder_inputs\"]\n",
        "        encoder_inputs_mask = batch[\"encoder_inputs_mask\"]\n",
        "        decoder_inputs = batch[\"decoder_inputs\"]\n",
        "        decoder_labels = batch[\"decoder_labels\"]\n",
        "        decoder_labels_mask = batch[\"decoder_labels_mask\"]\n",
        "\n",
        "        # 前向计算\n",
        "        logits, _ = model(\n",
        "            encoder_inputs=encoder_inputs,\n",
        "            decoder_inputs=decoder_inputs,\n",
        "            attn_mask=encoder_inputs_mask\n",
        "            ) # model就是seq2seq模型\n",
        "        loss = loss_fct(logits, decoder_labels, padding_mask=decoder_labels_mask)         # 验证集损失\n",
        "        loss_list.append(loss.cpu().item())\n",
        "\n",
        "    return np.mean(loss_list)\n"
      ]
    },
    {
      "cell_type": "code",
      "execution_count": 42,
      "metadata": {
        "colab": {
          "base_uri": "https://localhost:8080/",
          "height": 101,
          "referenced_widgets": [
            "9f90b436308a4caaa50921657826f965",
            "67148778639242c9a7381c3aec6ac5ef",
            "49f7f9617c5f415690059f03e5f9e309",
            "af1cf9f003de439d9ccf3b1639b864a2",
            "97072808aca24558878a44ad73677431",
            "dae384bc7ca1433ba94eff9ecac6af1a",
            "889a03b94163457081409f43c8007f61",
            "ac9fe4d01b8a4b92a9949281a4a7b957",
            "c71cbd1af0c14915a3a94424813d9dbd",
            "9dad41334ca940a5b275bd61ee166ddb",
            "8b91b1ec531040a681f3fe35213a0acc"
          ]
        },
        "execution": {
          "iopub.execute_input": "2025-02-07T16:35:00.132051Z",
          "iopub.status.busy": "2025-02-07T16:35:00.131536Z",
          "iopub.status.idle": "2025-02-07T16:45:10.500088Z",
          "shell.execute_reply": "2025-02-07T16:45:10.499316Z",
          "shell.execute_reply.started": "2025-02-07T16:35:00.132025Z"
        },
        "id": "brzx2uFHJzbf",
        "outputId": "7a903c35-7b1e-4dcb-e82a-3428b82f14cd"
      },
      "outputs": [
        {
          "output_type": "display_data",
          "data": {
            "text/plain": [
              "  0%|          | 0/33520 [00:00<?, ?it/s]"
            ],
            "application/vnd.jupyter.widget-view+json": {
              "version_major": 2,
              "version_minor": 0,
              "model_id": "9f90b436308a4caaa50921657826f965"
            }
          },
          "metadata": {}
        },
        {
          "output_type": "stream",
          "name": "stderr",
          "text": [
            "/usr/local/lib/python3.11/dist-packages/torch/nn/_reduction.py:51: UserWarning: size_average and reduce args will be deprecated, please use reduction='none' instead.\n",
            "  warnings.warn(warning.format(ret))\n"
          ]
        },
        {
          "output_type": "stream",
          "name": "stdout",
          "text": [
            "Early stop at epoch 4 / global_step 7800\n"
          ]
        }
      ],
      "source": [
        "# 训练\n",
        "def training(\n",
        "    model,\n",
        "    train_loader,\n",
        "    val_loader,\n",
        "    epoch,\n",
        "    loss_fct,\n",
        "    optimizer,\n",
        "    tensorboard_callback=None,\n",
        "    save_ckpt_callback=None,\n",
        "    early_stop_callback=None,\n",
        "    eval_step=500,\n",
        "    ):\n",
        "    record_dict = {\n",
        "        \"train\": [],\n",
        "        \"val\": []\n",
        "    }\n",
        "\n",
        "    global_step = 1\n",
        "    model.train() # 切换到训练模式\n",
        "    with tqdm(total=epoch * len(train_loader)) as pbar:\n",
        "        for epoch_id in range(epoch):\n",
        "            # training\n",
        "            for batch in train_loader:\n",
        "                encoder_inputs = batch[\"encoder_inputs\"]\n",
        "                encoder_inputs_mask = batch[\"encoder_inputs_mask\"]\n",
        "                decoder_inputs = batch[\"decoder_inputs\"]\n",
        "                decoder_labels = batch[\"decoder_labels\"]\n",
        "                decoder_labels_mask = batch[\"decoder_labels_mask\"]\n",
        "\n",
        "                # 梯度清空\n",
        "                optimizer.zero_grad()\n",
        "\n",
        "                # 前向计算\n",
        "                logits, _ = model(\n",
        "                    encoder_inputs=encoder_inputs,\n",
        "                    decoder_inputs=decoder_inputs,\n",
        "                    attn_mask=encoder_inputs_mask\n",
        "                    )\n",
        "                loss = loss_fct(logits, decoder_labels, padding_mask=decoder_labels_mask)\n",
        "\n",
        "                # 梯度回传\n",
        "                loss.backward()\n",
        "\n",
        "                # 调整优化器，包括学习率的变动等\n",
        "                optimizer.step()\n",
        "\n",
        "                loss = loss.cpu().item()\n",
        "                # record\n",
        "                record_dict[\"train\"].append({\n",
        "                    \"loss\": loss, \"step\": global_step\n",
        "                })\n",
        "\n",
        "                # evaluating\n",
        "                if global_step % eval_step == 0:\n",
        "                    model.eval() # 切换到验证模式\n",
        "                    val_loss = evaluating(model, val_loader, loss_fct)\n",
        "                    record_dict[\"val\"].append({\n",
        "                        \"loss\": val_loss, \"step\": global_step\n",
        "                    })\n",
        "                    model.train() # 切换到训练模式\n",
        "\n",
        "                    # 1. 使用 tensorboard 可视化\n",
        "                    if tensorboard_callback is not None:\n",
        "                        tensorboard_callback(\n",
        "                            global_step,\n",
        "                            loss=loss, val_loss=val_loss,\n",
        "                            lr=optimizer.param_groups[0][\"lr\"],\n",
        "                            )\n",
        "\n",
        "                    # 2. 保存模型权重 save model checkpoint\n",
        "                    if save_ckpt_callback is not None:\n",
        "                        save_ckpt_callback(global_step, model.state_dict(), metric=-val_loss)\n",
        "\n",
        "                    # 3. 早停 Early Stop\n",
        "                    if early_stop_callback is not None:\n",
        "                        early_stop_callback(-val_loss)\n",
        "                        if early_stop_callback.early_stop:\n",
        "                            print(f\"Early stop at epoch {epoch_id} / global_step {global_step}\")\n",
        "                            return record_dict\n",
        "\n",
        "                # udate step\n",
        "                global_step += 1\n",
        "                pbar.update(1)\n",
        "            pbar.set_postfix({\"epoch\": epoch_id, \"loss\": loss, \"val_loss\": val_loss}) # 更新进度条\n",
        "\n",
        "    return record_dict\n",
        "\n",
        "\n",
        "epoch = 20\n",
        "batch_size = 64\n",
        "\n",
        "model = Sequence2Sequence(src_vocab_size=len(src_word2idx), trg_vocab_size=len(trg_word2idx))\n",
        "train_dl = DataLoader(train_ds, batch_size=batch_size, shuffle=True, collate_fn=collate_fct)\n",
        "test_dl = DataLoader(test_ds, batch_size=batch_size, shuffle=False, collate_fn=collate_fct)\n",
        "\n",
        "# 1. 定义损失函数 采用交叉熵损失\n",
        "loss_fct = cross_entropy_with_padding\n",
        "# 2. 定义优化器 采用 adam\n",
        "# Optimizers specified in the torch.optim package\n",
        "optimizer = torch.optim.Adam(model.parameters(), lr=0.001)\n",
        "\n",
        "# 1. tensorboard 可视化\n",
        "if not os.path.exists(\"runs\"):\n",
        "    os.mkdir(\"runs\")\n",
        "exp_name = \"translate-seq2seq\"\n",
        "tensorboard_callback = TensorBoardCallback(f\"runs/{exp_name}\")\n",
        "# tensorboard_callback.draw_model(model, [1, MAX_LENGTH])\n",
        "# 2. save best\n",
        "if not os.path.exists(\"checkpoints\"):\n",
        "    os.makedirs(\"checkpoints\")\n",
        "save_ckpt_callback = SaveCheckpointsCallback(\n",
        "    f\"checkpoints/{exp_name}\", save_step=200, save_best_only=True)\n",
        "# 3. early stop\n",
        "early_stop_callback = EarlyStopCallback(patience=5)\n",
        "\n",
        "model = model.to(device)\n",
        "\n",
        "record = training(\n",
        "    model,\n",
        "    train_dl,\n",
        "    test_dl,\n",
        "    epoch,\n",
        "    loss_fct,\n",
        "    optimizer,\n",
        "    tensorboard_callback=tensorboard_callback,\n",
        "    save_ckpt_callback=save_ckpt_callback,\n",
        "    early_stop_callback=early_stop_callback,\n",
        "    eval_step=200\n",
        "    )"
      ]
    },
    {
      "cell_type": "code",
      "execution_count": 43,
      "metadata": {
        "ExecuteTime": {
          "end_time": "2024-08-01T07:21:09.603023900Z",
          "start_time": "2024-08-01T07:21:09.587018500Z"
        },
        "execution": {
          "iopub.execute_input": "2025-02-07T16:45:10.501713Z",
          "iopub.status.busy": "2025-02-07T16:45:10.501119Z",
          "iopub.status.idle": "2025-02-07T16:45:10.507040Z",
          "shell.execute_reply": "2025-02-07T16:45:10.506357Z",
          "shell.execute_reply.started": "2025-02-07T16:45:10.501683Z"
        },
        "jupyter": {
          "outputs_hidden": false
        },
        "colab": {
          "base_uri": "https://localhost:8080/"
        },
        "id": "KYA464GfYJXR",
        "outputId": "af07a2b9-d185-4ed4-b78d-63fbd201ac79"
      },
      "outputs": [
        {
          "output_type": "execute_result",
          "data": {
            "text/plain": [
              "35212249"
            ]
          },
          "metadata": {},
          "execution_count": 43
        }
      ],
      "source": [
        "#计算模型参数量\n",
        "sum(i[1].numel() for i in model.named_parameters())"
      ]
    },
    {
      "cell_type": "code",
      "execution_count": 44,
      "metadata": {
        "ExecuteTime": {
          "end_time": "2024-08-01T06:51:34.906600900Z",
          "start_time": "2024-08-01T06:51:34.891495800Z"
        },
        "execution": {
          "iopub.execute_input": "2025-02-07T16:45:10.508130Z",
          "iopub.status.busy": "2025-02-07T16:45:10.507826Z",
          "iopub.status.idle": "2025-02-07T16:45:10.512817Z",
          "shell.execute_reply": "2025-02-07T16:45:10.512081Z",
          "shell.execute_reply.started": "2025-02-07T16:45:10.508106Z"
        },
        "jupyter": {
          "outputs_hidden": false
        },
        "colab": {
          "base_uri": "https://localhost:8080/"
        },
        "id": "ajeCiURjYJXR",
        "outputId": "90fd13b4-a6f9-44fb-af0e-9f9e19d859c4"
      },
      "outputs": [
        {
          "output_type": "execute_result",
          "data": {
            "text/plain": [
              "1676.0"
            ]
          },
          "metadata": {},
          "execution_count": 44
        }
      ],
      "source": [
        "33520/20"
      ]
    },
    {
      "cell_type": "code",
      "execution_count": 45,
      "metadata": {
        "ExecuteTime": {
          "end_time": "2024-08-01T06:50:49.447830800Z",
          "start_time": "2024-08-01T06:50:49.438888Z"
        },
        "execution": {
          "iopub.execute_input": "2025-02-07T16:45:10.513919Z",
          "iopub.status.busy": "2025-02-07T16:45:10.513608Z",
          "iopub.status.idle": "2025-02-07T16:45:10.518392Z",
          "shell.execute_reply": "2025-02-07T16:45:10.517695Z",
          "shell.execute_reply.started": "2025-02-07T16:45:10.513894Z"
        },
        "jupyter": {
          "outputs_hidden": false
        },
        "colab": {
          "base_uri": "https://localhost:8080/"
        },
        "id": "TpA2wi9gYJXX",
        "outputId": "fecdd707-d46a-42b5-801c-8f4dd3a5d0cf"
      },
      "outputs": [
        {
          "output_type": "execute_result",
          "data": {
            "text/plain": [
              "1672.93125"
            ]
          },
          "metadata": {},
          "execution_count": 45
        }
      ],
      "source": [
        "118964*0.9/64"
      ]
    },
    {
      "cell_type": "code",
      "execution_count": 46,
      "metadata": {
        "colab": {
          "base_uri": "https://localhost:8080/",
          "height": 430
        },
        "execution": {
          "iopub.execute_input": "2025-02-07T16:45:10.519498Z",
          "iopub.status.busy": "2025-02-07T16:45:10.519202Z",
          "iopub.status.idle": "2025-02-07T16:45:10.675870Z",
          "shell.execute_reply": "2025-02-07T16:45:10.675045Z",
          "shell.execute_reply.started": "2025-02-07T16:45:10.519473Z"
        },
        "id": "mAKeaApNJzbf",
        "outputId": "f052663e-7ada-4f68-cfab-fcc289ecc4b8"
      },
      "outputs": [
        {
          "output_type": "display_data",
          "data": {
            "text/plain": [
              "<Figure size 640x480 with 1 Axes>"
            ],
            "image/png": "[encoded data removed]"
          },
          "metadata": {}
        }
      ],
      "source": [
        "plt.plot([i[\"step\"] for i in record[\"train\"]], [i[\"loss\"] for i in record[\"train\"]], label=\"train\")\n",
        "plt.plot([i[\"step\"] for i in record[\"val\"]], [i[\"loss\"] for i in record[\"val\"]], label=\"val\")\n",
        "plt.grid()\n",
        "plt.show()"
      ]
    },
    {
      "cell_type": "markdown",
      "metadata": {
        "id": "UOSROA66Jzbg"
      },
      "source": [
        "## 推理\n",
        "\n",
        "- 翻译项目的评估指标一般是BLEU4，感兴趣的同学自行了解并实现\n",
        "- 接下来进行翻译推理，并作出注意力的热度图"
      ]
    },
    {
      "cell_type": "code",
      "execution_count": 47,
      "metadata": {
        "ExecutionIndicator": {
          "show": true
        },
        "execution": {
          "iopub.execute_input": "2025-02-07T16:45:10.677129Z",
          "iopub.status.busy": "2025-02-07T16:45:10.676779Z",
          "iopub.status.idle": "2025-02-07T16:45:10.836504Z",
          "shell.execute_reply": "2025-02-07T16:45:10.835439Z",
          "shell.execute_reply.started": "2025-02-07T16:45:10.677102Z"
        },
        "tags": [],
        "colab": {
          "base_uri": "https://localhost:8080/"
        },
        "id": "_it8EDnYYJXX",
        "outputId": "5e643e75-e797-4800-9e6e-7e337b6d8dc5"
      },
      "outputs": [
        {
          "output_type": "stream",
          "name": "stdout",
          "text": [
            "checkpoints  data_spa_en  runs\tsample_data\n"
          ]
        }
      ],
      "source": [
        "!ls"
      ]
    },
    {
      "cell_type": "code",
      "execution_count": 48,
      "metadata": {
        "ExecuteTime": {
          "end_time": "2024-08-01T06:54:16.682669600Z",
          "start_time": "2024-08-01T06:54:14.942826400Z"
        },
        "ExecutionIndicator": {
          "show": true
        },
        "colab": {
          "base_uri": "https://localhost:8080/"
        },
        "execution": {
          "iopub.execute_input": "2025-02-07T16:45:10.838850Z",
          "iopub.status.busy": "2025-02-07T16:45:10.838153Z",
          "iopub.status.idle": "2025-02-07T16:45:11.323934Z",
          "shell.execute_reply": "2025-02-07T16:45:11.322909Z",
          "shell.execute_reply.started": "2025-02-07T16:45:10.838813Z"
        },
        "id": "cX75BqcBJzbg",
        "outputId": "835da895-8630-4164-e17a-f6ade4d59b3d",
        "tags": []
      },
      "outputs": [
        {
          "output_type": "stream",
          "name": "stderr",
          "text": [
            "<ipython-input-48-38ecf59d1335>:3: FutureWarning: You are using `torch.load` with `weights_only=False` (the current default value), which uses the default pickle module implicitly. It is possible to construct malicious pickle data which will execute arbitrary code during unpickling (See https://github.com/pytorch/pytorch/blob/main/SECURITY.md#untrusted-models for more details). In a future release, the default value for `weights_only` will be flipped to `True`. This limits the functions that could be executed during unpickling. Arbitrary objects will no longer be allowed to be loaded via this mode unless they are explicitly allowlisted by the user via `torch.serialization.add_safe_globals`. We recommend you start setting `weights_only=True` for any use case where you don't have full control of the loaded file. Please open an issue on GitHub for any issues related to this experimental feature.\n",
            "  model.load_state_dict(torch.load(f\"./checkpoints/translate-seq2seq/best.ckpt\", map_location=\"cpu\"))\n"
          ]
        }
      ],
      "source": [
        "# load checkpoints,如何上线\n",
        "model = Sequence2Sequence(len(src_word2idx), len(trg_word2idx))\n",
        "model.load_state_dict(torch.load(f\"./checkpoints/translate-seq2seq/best.ckpt\", map_location=\"cpu\"))\n",
        "\n",
        "class Translator:\n",
        "    def __init__(self, model, src_tokenizer, trg_tokenizer):\n",
        "        self.model = model\n",
        "        self.model.eval() # 切换到验证模式\n",
        "        self.src_tokenizer = src_tokenizer\n",
        "        self.trg_tokenizer = trg_tokenizer\n",
        "\n",
        "    def draw_attention_map(self, scores, src_words_list, trg_words_list):\n",
        "        \"\"\"绘制注意力热力图\n",
        "\n",
        "        Args:\n",
        "            - scores (numpy.ndarray): shape = [source sequence length, target sequence length]\n",
        "        \"\"\"\n",
        "        plt.matshow(scores.T, cmap='viridis') # 注意力矩阵,显示注意力分数值\n",
        "        # 获取当前的轴\n",
        "        ax = plt.gca()\n",
        "\n",
        "        # 设置热图中每个单元格的分数的文本\n",
        "        for i in range(scores.shape[0]): #输入\n",
        "            for j in range(scores.shape[1]): #输出\n",
        "                ax.text(j, i, f'{scores[i, j]:.2f}',  # 格式化数字显示\n",
        "                               ha='center', va='center', color='k')\n",
        "\n",
        "        plt.xticks(range(scores.shape[0]), src_words_list)\n",
        "        plt.yticks(range(scores.shape[1]), trg_words_list)\n",
        "        plt.show()\n",
        "\n",
        "    def __call__(self, sentence):\n",
        "        sentence = preprocess_sentence(sentence) # 预处理句子，标点符号处理等\n",
        "        encoder_input, attn_mask = self.src_tokenizer.encode(\n",
        "            [sentence.split()],\n",
        "            padding_first=True,\n",
        "            add_bos=True,\n",
        "            add_eos=True,\n",
        "            return_mask=True,\n",
        "            ) # 对输入进行编码，并返回encode_piadding_mask\n",
        "        encoder_input = torch.Tensor(encoder_input).to(dtype=torch.int64) # 转换成tensor\n",
        "\n",
        "        preds, scores = model.infer(encoder_input=encoder_input, attn_mask=attn_mask) #预测\n",
        "\n",
        "        trg_sentence = self.trg_tokenizer.decode([preds], split=True, remove_eos=False)[0] #通过tokenizer转换成文字\n",
        "\n",
        "        src_decoded = self.src_tokenizer.decode(\n",
        "            encoder_input.tolist(),\n",
        "            split=True,\n",
        "            remove_bos=False,\n",
        "            remove_eos=False\n",
        "            )[0] #对输入编码id进行解码，转换成文字,为了画图\n",
        "\n",
        "        self.draw_attention_map(\n",
        "            scores.squeeze(0).numpy(),\n",
        "            src_decoded, # 注意力图的源句子\n",
        "            trg_sentence # 注意力图的目标句子\n",
        "            )\n",
        "        return \" \".join(trg_sentence[:-1])"
      ]
    },
    {
      "cell_type": "code",
      "execution_count": 49,
      "metadata": {
        "ExecuteTime": {
          "end_time": "2024-08-01T06:54:20.377291800Z",
          "start_time": "2024-08-01T06:54:19.612529200Z"
        },
        "execution": {
          "iopub.execute_input": "2025-02-07T16:45:11.325515Z",
          "iopub.status.busy": "2025-02-07T16:45:11.325149Z",
          "iopub.status.idle": "2025-02-07T16:45:11.583557Z",
          "shell.execute_reply": "2025-02-07T16:45:11.582674Z",
          "shell.execute_reply.started": "2025-02-07T16:45:11.325487Z"
        },
        "jupyter": {
          "outputs_hidden": false
        },
        "tags": [],
        "colab": {
          "base_uri": "https://localhost:8080/",
          "height": 455
        },
        "id": "A_BufuVjYJXX",
        "outputId": "906d7e7e-d428-4d3b-81ac-795c041328d1"
      },
      "outputs": [
        {
          "output_type": "display_data",
          "data": {
            "text/plain": [
              "<Figure size 480x480 with 1 Axes>"
            ],
            "image/png": "[encoded data removed]"
          },
          "metadata": {}
        },
        {
          "output_type": "execute_result",
          "data": {
            "text/plain": [
              "'it s very cold here .'"
            ],
            "application/vnd.google.colaboratory.intrinsic+json": {
              "type": "string"
            }
          },
          "metadata": {},
          "execution_count": 49
        }
      ],
      "source": [
        "translator = Translator(model.cpu(), src_tokenizer, trg_tokenizer)\n",
        "translator(u'hace mucho frio aqui .')"
      ]
    },
    {
      "cell_type": "code",
      "execution_count": 50,
      "metadata": {
        "ExecuteTime": {
          "end_time": "2024-05-06T03:11:41.298875400Z",
          "start_time": "2024-05-06T03:11:40.874116700Z"
        },
        "execution": {
          "iopub.execute_input": "2025-02-07T16:45:11.584932Z",
          "iopub.status.busy": "2025-02-07T16:45:11.584552Z",
          "iopub.status.idle": "2025-02-07T16:45:11.779225Z",
          "shell.execute_reply": "2025-02-07T16:45:11.778408Z",
          "shell.execute_reply.started": "2025-02-07T16:45:11.584904Z"
        },
        "jupyter": {
          "outputs_hidden": false
        },
        "tags": [],
        "colab": {
          "base_uri": "https://localhost:8080/",
          "height": 488
        },
        "id": "dakToVUfYJXY",
        "outputId": "c57e5737-94ac-4272-e560-0d324aabb4c2"
      },
      "outputs": [
        {
          "output_type": "display_data",
          "data": {
            "text/plain": [
              "<Figure size 560x480 with 1 Axes>"
            ],
            "image/png": "[encoded data removed]"
          },
          "metadata": {}
        },
        {
          "output_type": "execute_result",
          "data": {
            "text/plain": [
              "'this is my life .'"
            ],
            "application/vnd.google.colaboratory.intrinsic+json": {
              "type": "string"
            }
          },
          "metadata": {},
          "execution_count": 50
        }
      ],
      "source": [
        "translator(u'esta es mi vida.')"
      ]
    }
  ],
  "metadata": {
    "accelerator": "GPU",
    "colab": {
      "gpuType": "T4",
      "provenance": []
    },
    "kernelspec": {
      "display_name": "Python 3 (ipykernel)",
      "language": "python",
      "name": "python3"
    },
    "language_info": {
      "codemirror_mode": {
        "name": "ipython",
        "version": 3
      },
      "file_extension": ".py",
      "mimetype": "text/x-python",
      "name": "python",
      "nbconvert_exporter": "python",
      "pygments_lexer": "ipython3",
      "version": "3.10.14"
    },
    "widgets": {
      "application/vnd.jupyter.widget-state+json": {
        "9f90b436308a4caaa50921657826f965": {
          "model_module": "@jupyter-widgets/controls",
          "model_name": "HBoxModel",
          "model_module_version": "1.5.0",
          "state": {
            "_dom_classes": [],
            "_model_module": "@jupyter-widgets/controls",
            "_model_module_version": "1.5.0",
            "_model_name": "HBoxModel",
            "_view_count": null,
            "_view_module": "@jupyter-widgets/controls",
            "_view_module_version": "1.5.0",
            "_view_name": "HBoxView",
            "box_style": "",
            "children": [
              "IPY_MODEL_67148778639242c9a7381c3aec6ac5ef",
              "IPY_MODEL_49f7f9617c5f415690059f03e5f9e309",
              "IPY_MODEL_af1cf9f003de439d9ccf3b1639b864a2"
            ],
            "layout": "IPY_MODEL_97072808aca24558878a44ad73677431"
          }
        },
        "67148778639242c9a7381c3aec6ac5ef": {
          "model_module": "@jupyter-widgets/controls",
          "model_name": "HTMLModel",
          "model_module_version": "1.5.0",
          "state": {
            "_dom_classes": [],
            "_model_module": "@jupyter-widgets/controls",
            "_model_module_version": "1.5.0",
            "_model_name": "HTMLModel",
            "_view_count": null,
            "_view_module": "@jupyter-widgets/controls",
            "_view_module_version": "1.5.0",
            "_view_name": "HTMLView",
            "description": "",
            "description_tooltip": null,
            "layout": "IPY_MODEL_dae384bc7ca1433ba94eff9ecac6af1a",
            "placeholder": "​",
            "style": "IPY_MODEL_889a03b94163457081409f43c8007f61",
            "value": " 23%"
          }
        },
        "49f7f9617c5f415690059f03e5f9e309": {
          "model_module": "@jupyter-widgets/controls",
          "model_name": "FloatProgressModel",
          "model_module_version": "1.5.0",
          "state": {
            "_dom_classes": [],
            "_model_module": "@jupyter-widgets/controls",
            "_model_module_version": "1.5.0",
            "_model_name": "FloatProgressModel",
            "_view_count": null,
            "_view_module": "@jupyter-widgets/controls",
            "_view_module_version": "1.5.0",
            "_view_name": "ProgressView",
            "bar_style": "danger",
            "description": "",
            "description_tooltip": null,
            "layout": "IPY_MODEL_ac9fe4d01b8a4b92a9949281a4a7b957",
            "max": 33520,
            "min": 0,
            "orientation": "horizontal",
            "style": "IPY_MODEL_c71cbd1af0c14915a3a94424813d9dbd",
            "value": 7799
          }
        },
        "af1cf9f003de439d9ccf3b1639b864a2": {
          "model_module": "@jupyter-widgets/controls",
          "model_name": "HTMLModel",
          "model_module_version": "1.5.0",
          "state": {
            "_dom_classes": [],
            "_model_module": "@jupyter-widgets/controls",
            "_model_module_version": "1.5.0",
            "_model_name": "HTMLModel",
            "_view_count": null,
            "_view_module": "@jupyter-widgets/controls",
            "_view_module_version": "1.5.0",
            "_view_name": "HTMLView",
            "description": "",
            "description_tooltip": null,
            "layout": "IPY_MODEL_9dad41334ca940a5b275bd61ee166ddb",
            "placeholder": "​",
            "style": "IPY_MODEL_8b91b1ec531040a681f3fe35213a0acc",
            "value": " 7799/33520 [22:17&lt;59:27,  7.21it/s, epoch=3, loss=1.4, val_loss=1.28]"
          }
        },
        "97072808aca24558878a44ad73677431": {
          "model_module": "@jupyter-widgets/base",
          "model_name": "LayoutModel",
          "model_module_version": "1.2.0",
          "state": {
            "_model_module": "@jupyter-widgets/base",
            "_model_module_version": "1.2.0",
            "_model_name": "LayoutModel",
            "_view_count": null,
            "_view_module": "@jupyter-widgets/base",
            "_view_module_version": "1.2.0",
            "_view_name": "LayoutView",
            "align_content": null,
            "align_items": null,
            "align_self": null,
            "border": null,
            "bottom": null,
            "display": null,
            "flex": null,
            "flex_flow": null,
            "grid_area": null,
            "grid_auto_columns": null,
            "grid_auto_flow": null,
            "grid_auto_rows": null,
            "grid_column": null,
            "grid_gap": null,
            "grid_row": null,
            "grid_template_areas": null,
            "grid_template_columns": null,
            "grid_template_rows": null,
            "height": null,
            "justify_content": null,
            "justify_items": null,
            "left": null,
            "margin": null,
            "max_height": null,
            "max_width": null,
            "min_height": null,
            "min_width": null,
            "object_fit": null,
            "object_position": null,
            "order": null,
            "overflow": null,
            "overflow_x": null,
            "overflow_y": null,
            "padding": null,
            "right": null,
            "top": null,
            "visibility": null,
            "width": null
          }
        },
        "dae384bc7ca1433ba94eff9ecac6af1a": {
          "model_module": "@jupyter-widgets/base",
          "model_name": "LayoutModel",
          "model_module_version": "1.2.0",
          "state": {
            "_model_module": "@jupyter-widgets/base",
            "_model_module_version": "1.2.0",
            "_model_name": "LayoutModel",
            "_view_count": null,
            "_view_module": "@jupyter-widgets/base",
            "_view_module_version": "1.2.0",
            "_view_name": "LayoutView",
            "align_content": null,
            "align_items": null,
            "align_self": null,
            "border": null,
            "bottom": null,
            "display": null,
            "flex": null,
            "flex_flow": null,
            "grid_area": null,
            "grid_auto_columns": null,
            "grid_auto_flow": null,
            "grid_auto_rows": null,
            "grid_column": null,
            "grid_gap": null,
            "grid_row": null,
            "grid_template_areas": null,
            "grid_template_columns": null,
            "grid_template_rows": null,
            "height": null,
            "justify_content": null,
            "justify_items": null,
            "left": null,
            "margin": null,
            "max_height": null,
            "max_width": null,
            "min_height": null,
            "min_width": null,
            "object_fit": null,
            "object_position": null,
            "order": null,
            "overflow": null,
            "overflow_x": null,
            "overflow_y": null,
            "padding": null,
            "right": null,
            "top": null,
            "visibility": null,
            "width": null
          }
        },
        "889a03b94163457081409f43c8007f61": {
          "model_module": "@jupyter-widgets/controls",
          "model_name": "DescriptionStyleModel",
          "model_module_version": "1.5.0",
          "state": {
            "_model_module": "@jupyter-widgets/controls",
            "_model_module_version": "1.5.0",
            "_model_name": "DescriptionStyleModel",
            "_view_count": null,
            "_view_module": "@jupyter-widgets/base",
            "_view_module_version": "1.2.0",
            "_view_name": "StyleView",
            "description_width": ""
          }
        },
        "ac9fe4d01b8a4b92a9949281a4a7b957": {
          "model_module": "@jupyter-widgets/base",
          "model_name": "LayoutModel",
          "model_module_version": "1.2.0",
          "state": {
            "_model_module": "@jupyter-widgets/base",
            "_model_module_version": "1.2.0",
            "_model_name": "LayoutModel",
            "_view_count": null,
            "_view_module": "@jupyter-widgets/base",
            "_view_module_version": "1.2.0",
            "_view_name": "LayoutView",
            "align_content": null,
            "align_items": null,
            "align_self": null,
            "border": null,
            "bottom": null,
            "display": null,
            "flex": null,
            "flex_flow": null,
            "grid_area": null,
            "grid_auto_columns": null,
            "grid_auto_flow": null,
            "grid_auto_rows": null,
            "grid_column": null,
            "grid_gap": null,
            "grid_row": null,
            "grid_template_areas": null,
            "grid_template_columns": null,
            "grid_template_rows": null,
            "height": null,
            "justify_content": null,
            "justify_items": null,
            "left": null,
            "margin": null,
            "max_height": null,
            "max_width": null,
            "min_height": null,
            "min_width": null,
            "object_fit": null,
            "object_position": null,
            "order": null,
            "overflow": null,
            "overflow_x": null,
            "overflow_y": null,
            "padding": null,
            "right": null,
            "top": null,
            "visibility": null,
            "width": null
          }
        },
        "c71cbd1af0c14915a3a94424813d9dbd": {
          "model_module": "@jupyter-widgets/controls",
          "model_name": "ProgressStyleModel",
          "model_module_version": "1.5.0",
          "state": {
            "_model_module": "@jupyter-widgets/controls",
            "_model_module_version": "1.5.0",
            "_model_name": "ProgressStyleModel",
            "_view_count": null,
            "_view_module": "@jupyter-widgets/base",
            "_view_module_version": "1.2.0",
            "_view_name": "StyleView",
            "bar_color": null,
            "description_width": ""
          }
        },
        "9dad41334ca940a5b275bd61ee166ddb": {
          "model_module": "@jupyter-widgets/base",
          "model_name": "LayoutModel",
          "model_module_version": "1.2.0",
          "state": {
            "_model_module": "@jupyter-widgets/base",
            "_model_module_version": "1.2.0",
            "_model_name": "LayoutModel",
            "_view_count": null,
            "_view_module": "@jupyter-widgets/base",
            "_view_module_version": "1.2.0",
            "_view_name": "LayoutView",
            "align_content": null,
            "align_items": null,
            "align_self": null,
            "border": null,
            "bottom": null,
            "display": null,
            "flex": null,
            "flex_flow": null,
            "grid_area": null,
            "grid_auto_columns": null,
            "grid_auto_flow": null,
            "grid_auto_rows": null,
            "grid_column": null,
            "grid_gap": null,
            "grid_row": null,
            "grid_template_areas": null,
            "grid_template_columns": null,
            "grid_template_rows": null,
            "height": null,
            "justify_content": null,
            "justify_items": null,
            "left": null,
            "margin": null,
            "max_height": null,
            "max_width": null,
            "min_height": null,
            "min_width": null,
            "object_fit": null,
            "object_position": null,
            "order": null,
            "overflow": null,
            "overflow_x": null,
            "overflow_y": null,
            "padding": null,
            "right": null,
            "top": null,
            "visibility": null,
            "width": null
          }
        },
        "8b91b1ec531040a681f3fe35213a0acc": {
          "model_module": "@jupyter-widgets/controls",
          "model_name": "DescriptionStyleModel",
          "model_module_version": "1.5.0",
          "state": {
            "_model_module": "@jupyter-widgets/controls",
            "_model_module_version": "1.5.0",
            "_model_name": "DescriptionStyleModel",
            "_view_count": null,
            "_view_module": "@jupyter-widgets/base",
            "_view_module_version": "1.2.0",
            "_view_name": "StyleView",
            "description_width": ""
          }
        }
      }
    }
  },
  "nbformat": 4,
  "nbformat_minor": 0
}