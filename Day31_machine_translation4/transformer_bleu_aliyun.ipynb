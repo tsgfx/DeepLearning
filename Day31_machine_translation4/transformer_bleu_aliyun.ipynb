{
 "cells": [
  {
   "cell_type": "code",
   "metadata": {
    "colab": {
     "base_uri": "https://localhost:8080/"
    },
    "execution": {
     "iopub.execute_input": "2025-02-16T14:52:07.850183Z",
     "iopub.status.busy": "2025-02-16T14:52:07.849957Z",
     "iopub.status.idle": "2025-02-16T14:52:11.130047Z",
     "shell.execute_reply": "2025-02-16T14:52:11.129141Z",
     "shell.execute_reply.started": "2025-02-16T14:52:07.850155Z"
    },
    "id": "JHSdxPJuN4x7",
    "outputId": "a74dc274-dd24-4415-a3e4-1fcff4e437a2",
    "ExecuteTime": {
     "end_time": "2025-02-23T13:26:20.529768Z",
     "start_time": "2025-02-23T13:26:16.535983Z"
    }
   },
   "source": [
    "import matplotlib as mpl\n",
    "import matplotlib.pyplot as plt\n",
    "%matplotlib inline\n",
    "import numpy as np\n",
    "import sklearn\n",
    "import pandas as pd\n",
    "import os\n",
    "import sys\n",
    "import time\n",
    "from tqdm.auto import tqdm\n",
    "import torch\n",
    "import torch.nn as nn\n",
    "import torch.nn.functional as F\n",
    "\n",
    "print(sys.version_info)\n",
    "for module in mpl, np, pd, sklearn, torch:\n",
    "    print(module.__name__, module.__version__)\n",
    "\n",
    "device = torch.device(\"cuda:0\") if torch.cuda.is_available() else torch.device(\"cpu\")\n",
    "print(device)\n",
    "\n",
    "seed = 42\n",
    "torch.manual_seed(seed)\n",
    "torch.cuda.manual_seed_all(seed)\n",
    "np.random.seed(seed)"
   ],
   "outputs": [
    {
     "name": "stdout",
     "output_type": "stream",
     "text": [
      "sys.version_info(major=3, minor=12, micro=3, releaselevel='final', serial=0)\n",
      "matplotlib 3.10.0\n",
      "numpy 2.0.2\n",
      "pandas 2.2.3\n",
      "sklearn 1.6.0\n",
      "torch 2.5.1+cu118\n",
      "cuda:0\n"
     ]
    }
   ],
   "execution_count": 1
  },
  {
   "cell_type": "code",
   "metadata": {
    "colab": {
     "base_uri": "https://localhost:8080/"
    },
    "execution": {
     "iopub.execute_input": "2025-02-16T14:52:11.132700Z",
     "iopub.status.busy": "2025-02-16T14:52:11.132104Z",
     "iopub.status.idle": "2025-02-16T14:52:11.136301Z",
     "shell.execute_reply": "2025-02-16T14:52:11.135528Z",
     "shell.execute_reply.started": "2025-02-16T14:52:11.132665Z"
    },
    "id": "yQQEArYqWylq",
    "outputId": "bc80eeee-442a-4ff2-f69e-348314f84bce",
    "ExecuteTime": {
     "end_time": "2025-02-23T13:26:20.533451Z",
     "start_time": "2025-02-23T13:26:20.530766Z"
    }
   },
   "source": [
    "#挂载谷歌云盘\n",
    "# from google.colab import drive\n",
    "# drive.mount('/content/drive')"
   ],
   "outputs": [],
   "execution_count": 2
  },
  {
   "cell_type": "code",
   "metadata": {
    "execution": {
     "iopub.execute_input": "2025-02-16T14:52:11.137477Z",
     "iopub.status.busy": "2025-02-16T14:52:11.137124Z",
     "iopub.status.idle": "2025-02-16T14:52:11.141281Z",
     "shell.execute_reply": "2025-02-16T14:52:11.140372Z",
     "shell.execute_reply.started": "2025-02-16T14:52:11.137447Z"
    },
    "id": "wzS4AimwWz7f",
    "ExecuteTime": {
     "end_time": "2025-02-23T13:26:20.536551Z",
     "start_time": "2025-02-23T13:26:20.533451Z"
    }
   },
   "source": [
    "# !cp /content/drive/MyDrive/transformer-de-en/* . -r"
   ],
   "outputs": [],
   "execution_count": 3
  },
  {
   "cell_type": "markdown",
   "metadata": {
    "id": "55aNBForN4x9"
   },
   "source": [
    "## 数据加载\n",
    "\n",
    "- 采用WMT16的德语和英语平行语料库，数据集主页：[WMT16](https://www.statmt.org/wmt16/multimodal-task.html#task1)"
   ]
  },
  {
   "cell_type": "code",
   "metadata": {
    "colab": {
     "base_uri": "https://localhost:8080/"
    },
    "execution": {
     "iopub.execute_input": "2025-02-16T14:52:11.142645Z",
     "iopub.status.busy": "2025-02-16T14:52:11.142280Z",
     "iopub.status.idle": "2025-02-16T14:52:11.145974Z",
     "shell.execute_reply": "2025-02-16T14:52:11.145165Z",
     "shell.execute_reply.started": "2025-02-16T14:52:11.142607Z"
    },
    "id": "SkjBEbr1N4x-",
    "outputId": "4b9817d0-616b-41a0-ceb7-9ff6bf0f42a1",
    "ExecuteTime": {
     "end_time": "2025-02-23T13:26:20.539879Z",
     "start_time": "2025-02-23T13:26:20.536551Z"
    }
   },
   "source": [
    "#和jieba分词类似\n",
    "# !pip install sacremoses\n",
    "# !pip install subword-nmt\n",
    "# # BPE分词"
   ],
   "outputs": [],
   "execution_count": 4
  },
  {
   "cell_type": "code",
   "metadata": {
    "execution": {
     "iopub.execute_input": "2025-02-16T14:52:11.147391Z",
     "iopub.status.busy": "2025-02-16T14:52:11.146872Z",
     "iopub.status.idle": "2025-02-16T14:52:11.279554Z",
     "shell.execute_reply": "2025-02-16T14:52:11.278546Z",
     "shell.execute_reply.started": "2025-02-16T14:52:11.147346Z"
    },
    "ExecuteTime": {
     "end_time": "2025-02-23T13:26:20.563237Z",
     "start_time": "2025-02-23T13:26:20.540877Z"
    }
   },
   "source": [
    "!pwd"
   ],
   "outputs": [
    {
     "name": "stderr",
     "output_type": "stream",
     "text": [
      "'pwd' 不是内部或外部命令，也不是可运行的程序\n",
      "或批处理文件。\n"
     ]
    }
   ],
   "execution_count": 5
  },
  {
   "cell_type": "code",
   "metadata": {
    "colab": {
     "base_uri": "https://localhost:8080/"
    },
    "execution": {
     "iopub.execute_input": "2025-02-16T14:52:11.281204Z",
     "iopub.status.busy": "2025-02-16T14:52:11.280809Z",
     "iopub.status.idle": "2025-02-16T14:52:11.285262Z",
     "shell.execute_reply": "2025-02-16T14:52:11.284540Z",
     "shell.execute_reply.started": "2025-02-16T14:52:11.281171Z"
    },
    "id": "Tc8aCQX-XrGv",
    "outputId": "67964082-2737-4d47-dd66-455e4ae69660",
    "ExecuteTime": {
     "end_time": "2025-02-23T13:26:20.566156Z",
     "start_time": "2025-02-23T13:26:20.563237Z"
    }
   },
   "source": "# !sh data_multi30k.sh wmt16 wmt16_cut de en",
   "outputs": [],
   "execution_count": 6
  },
  {
   "cell_type": "markdown",
   "metadata": {
    "id": "Lvk4q0-1N4x-"
   },
   "source": [
    "Dataset"
   ]
  },
  {
   "cell_type": "code",
   "metadata": {
    "colab": {
     "base_uri": "https://localhost:8080/"
    },
    "execution": {
     "iopub.execute_input": "2025-02-16T14:52:11.289105Z",
     "iopub.status.busy": "2025-02-16T14:52:11.288579Z",
     "iopub.status.idle": "2025-02-16T14:52:11.441596Z",
     "shell.execute_reply": "2025-02-16T14:52:11.440701Z",
     "shell.execute_reply.started": "2025-02-16T14:52:11.289078Z"
    },
    "id": "zCXKEwspN4x_",
    "outputId": "3dcce6fa-932f-4b22-9dc8-398a4b402733",
    "ExecuteTime": {
     "end_time": "2025-02-23T13:26:20.600314Z",
     "start_time": "2025-02-23T13:26:20.566156Z"
    }
   },
   "source": [
    "from pathlib import Path  # 用于处理文件路径\n",
    "from torch.utils.data import Dataset, DataLoader  # 导入 PyTorch 数据集和数据加载器\n",
    "\n",
    "class LangPairDataset(Dataset):\n",
    "    \"\"\"\n",
    "    该类用于加载和处理双语数据集（如德语-英语），并可选择将数据缓存到本地，避免重复处理。\n",
    "    \"\"\"\n",
    "    def __init__(self, mode=\"train\", max_length=128, overwrite_cache=False, data_dir=\"wmt16\"):\n",
    "        \"\"\"\n",
    "        初始化数据集。\n",
    "        :param mode: 指定数据集模式（\"train\" 或 \"val\"）\n",
    "        :param max_length: 句子的最大长度，超过该长度的句子会被过滤掉\n",
    "        :param overwrite_cache: 是否覆盖缓存文件，默认为 False\n",
    "        :param data_dir: 数据存放的目录\n",
    "        \"\"\"\n",
    "        self.data_dir = Path(data_dir)  # 设定数据存储路径\n",
    "        cache_path = self.data_dir / \".cache\" / f\"de2en_{mode}_{max_length}.npy\"  # 缓存文件路径\n",
    "        \n",
    "        if overwrite_cache or not cache_path.exists():  # 如果选择覆盖缓存或缓存文件不存在\n",
    "            cache_path.parent.mkdir(parents=True, exist_ok=True)  # 创建缓存目录（如果不存在）\n",
    "            \n",
    "            # 读取源语言文件（.bpe 文件格式）\n",
    "            with open(self.data_dir / f\"{mode}_src.bpe\", \"r\", encoding=\"utf8\") as file:\n",
    "                self.src = file.readlines()  # 读取所有行，存入列表\n",
    "            \n",
    "            # 读取目标语言文件（.bpe 文件格式）\n",
    "            with open(self.data_dir / f\"{mode}_trg.bpe\", \"r\", encoding=\"utf8\") as file:\n",
    "                self.trg = file.readlines()  # 读取所有行，存入列表\n",
    "            \n",
    "            filtered_src = []  # 存放符合长度要求的源语言句子\n",
    "            filtered_trg = []  # 存放符合长度要求的目标语言句子\n",
    "            \n",
    "            # 遍历源语言和目标语言句子，进行长度过滤\n",
    "            for src, trg in zip(self.src, self.trg):\n",
    "                if len(src) <= max_length and len(trg) <= max_length:  # 只保留长度符合要求的句子\n",
    "                    filtered_src.append(src.strip())  # 去除首尾空格并添加到列表\n",
    "                    filtered_trg.append(trg.strip())\n",
    "            \n",
    "            # 转换为 NumPy 数组\n",
    "            filtered_src = np.array(filtered_src)\n",
    "            filtered_trg = np.array(filtered_trg)\n",
    "            \n",
    "            # 将过滤后的数据保存为缓存文件\n",
    "            np.save(cache_path, {\"src\": filtered_src, \"trg\": filtered_trg}, allow_pickle=True) # allow_pickle=True 为了保存字典\n",
    "            print(f\"save cache to {cache_path}\")  # 提示缓存已保存\n",
    "        \n",
    "        else:  # 如果缓存文件存在，则直接加载缓存数据\n",
    "            cache_dict = np.load(cache_path, allow_pickle=True).item()  # 读取缓存文件\n",
    "            print(f\"load {mode} dataset from {cache_path}\")  # 提示数据已加载\n",
    "            filtered_src = cache_dict[\"src\"]  # 读取源语言数据\n",
    "            filtered_trg = cache_dict[\"trg\"]  # 读取目标语言数据\n",
    "        \n",
    "        self.src = filtered_src  # 存储源语言数据\n",
    "        self.trg = filtered_trg  # 存储目标语言数据\n",
    "\n",
    "    def __getitem__(self, index):\n",
    "        \"\"\"\n",
    "        获取索引对应的源语言和目标语言句子。\n",
    "        :param index: 数据索引\n",
    "        :return: (源语言句子, 目标语言句子)\n",
    "        \"\"\"\n",
    "        return self.src[index], self.trg[index]  # 返回对应索引的数据\n",
    "\n",
    "    def __len__(self):\n",
    "        \"\"\"\n",
    "        返回数据集的大小。\n",
    "        \"\"\"\n",
    "        return len(self.src)  # 数据集大小等于源语言句子的数量\n",
    "\n",
    "# 创建训练集和验证集的数据集对象\n",
    "train_ds = LangPairDataset(\"train\")  # 训练集\n",
    "val_ds = LangPairDataset(\"val\")  # 验证集"
   ],
   "outputs": [
    {
     "name": "stdout",
     "output_type": "stream",
     "text": [
      "load train dataset from wmt16\\.cache\\de2en_train_128.npy\n",
      "load val dataset from wmt16\\.cache\\de2en_val_128.npy\n"
     ]
    }
   ],
   "execution_count": 7
  },
  {
   "cell_type": "code",
   "metadata": {
    "execution": {
     "iopub.execute_input": "2025-02-16T14:52:11.442905Z",
     "iopub.status.busy": "2025-02-16T14:52:11.442524Z",
     "iopub.status.idle": "2025-02-16T14:52:11.446414Z",
     "shell.execute_reply": "2025-02-16T14:52:11.445675Z",
     "shell.execute_reply.started": "2025-02-16T14:52:11.442874Z"
    },
    "id": "yHB9TDpDQlv2",
    "ExecuteTime": {
     "end_time": "2025-02-23T13:26:20.603238Z",
     "start_time": "2025-02-23T13:26:20.600314Z"
    }
   },
   "source": [
    "# !rm wmt16/.cache -r"
   ],
   "outputs": [],
   "execution_count": 8
  },
  {
   "cell_type": "code",
   "metadata": {
    "colab": {
     "base_uri": "https://localhost:8080/"
    },
    "execution": {
     "iopub.execute_input": "2025-02-16T14:52:11.447804Z",
     "iopub.status.busy": "2025-02-16T14:52:11.447331Z",
     "iopub.status.idle": "2025-02-16T14:52:11.452304Z",
     "shell.execute_reply": "2025-02-16T14:52:11.451360Z",
     "shell.execute_reply.started": "2025-02-16T14:52:11.447777Z"
    },
    "id": "meHHXL3MN4x_",
    "outputId": "a001c071-7021-4dff-8bc0-3e5da01d7210",
    "ExecuteTime": {
     "end_time": "2025-02-23T13:26:20.607392Z",
     "start_time": "2025-02-23T13:26:20.604252Z"
    }
   },
   "source": [
    "print(len(train_ds)) # 少了1000多个样本\n",
    "print(\"source: {}\\ntarget: {}\".format(*train_ds[-1]))"
   ],
   "outputs": [
    {
     "name": "stdout",
     "output_type": "stream",
     "text": [
      "27962\n",
      "source: ein älterer mann sitzt mit einem jungen mit einem wagen vor einer fassade .\n",
      "target: an elderly man sits outside a storefront accompanied by a young boy with a cart .\n"
     ]
    }
   ],
   "execution_count": 9
  },
  {
   "cell_type": "markdown",
   "metadata": {
    "id": "TE8gRzYQN4yA"
   },
   "source": [
    "### Tokenizer\n",
    "\n",
    "这里有两种处理方式，分别对应着 encoder 和 decoder 的 word embedding 是否共享，这里实现共享的方案"
   ]
  },
  {
   "cell_type": "code",
   "metadata": {
    "colab": {
     "base_uri": "https://localhost:8080/",
     "height": 66,
     "referenced_widgets": [
      "7190c928edb040c3a523cdd2e3f45572",
      "990741ff083d457587665d8f620b69c3",
      "00fe6a550df547cea5b1e0d84c1a3f5f",
      "fab8b1e3187841ee894b92859fa4821b",
      "f9b0d916e1a64c2a9f384e42f3d5dcab",
      "a78199650ecc47bd81f482a2671b563a",
      "673bd3773a374261a01cfc48081c27f3",
      "83f345f7424c43929d7a304cbfb6d0fe",
      "58d69d086f644e89937347e1f9261d6f",
      "8cf462fa996c41b18fb4571e0a757363",
      "434ac4c51db74681942d2d3bd869b1df"
     ]
    },
    "execution": {
     "iopub.execute_input": "2025-02-16T14:52:11.453497Z",
     "iopub.status.busy": "2025-02-16T14:52:11.453170Z",
     "iopub.status.idle": "2025-02-16T14:52:11.487851Z",
     "shell.execute_reply": "2025-02-16T14:52:11.487124Z",
     "shell.execute_reply.started": "2025-02-16T14:52:11.453471Z"
    },
    "id": "yAmlq_9YN4yA",
    "outputId": "263a89f7-9bee-4c6d-cf7a-7d82b0a81f92",
    "ExecuteTime": {
     "end_time": "2025-02-23T13:26:20.633910Z",
     "start_time": "2025-02-23T13:26:20.608391Z"
    }
   },
   "source": [
    "# 载入词表，看下词表长度，词表就像英语字典, 构建 word2idx 和 idx2word\n",
    "\n",
    "word2idx = {\n",
    "    \"[PAD]\": 0,     # 填充 token，表示句子长度不足时填充的占位符\n",
    "    \"[BOS]\": 1,     # 句子起始 token，Begin Of Sentence\n",
    "    \"[UNK]\": 2,     # 未知 token，Unknown，表示词表中未收录的词\n",
    "    \"[EOS]\": 3,     # 句子结束 token，End Of Sentence\n",
    "}\n",
    "\n",
    "# 构建索引到单词的映射，即 idx2word，方便通过索引查找对应单词\n",
    "idx2word = {value: key for key, value in word2idx.items()}\n",
    "\n",
    "# 记录当前索引的起始位置，从 4 开始（因为已有 4 个特殊 token）\n",
    "index = len(idx2word)\n",
    "\n",
    "# 设定一个阈值，只有出现次数大于等于该阈值的 token 才会加入词表\n",
    "threshold = 1  \n",
    "\n",
    "# 读取词表文件，词表文件格式为每行一个单词及其出现次数\n",
    "with open(\"wmt16/vocab\", \"r\", encoding=\"utf8\") as file:\n",
    "    for line in tqdm(file.readlines()):  # 使用 tqdm 显示进度条，适用于大词表\n",
    "        token, counts = line.strip().split()  # 按空格拆分，每行格式为 \"单词 词频\"\n",
    "        if int(counts) >= threshold:  # 只有词频大于等于 threshold 才加入词表\n",
    "            word2idx[token] = index  # 给该单词分配索引\n",
    "            idx2word[index] = token  # 反向索引表\n",
    "            index += 1  # 更新索引计数\n",
    "\n",
    "# 计算最终词表大小（即 word2idx 的键值对个数）\n",
    "vocab_size = len(word2idx)\n",
    "print(\"vocab_size: {}\".format(vocab_size))  # 打印词表大小"
   ],
   "outputs": [
    {
     "data": {
      "text/plain": [
       "  0%|          | 0/18107 [00:00<?, ?it/s]"
      ],
      "application/vnd.jupyter.widget-view+json": {
       "version_major": 2,
       "version_minor": 0,
       "model_id": "d6a1a553229f4d8a9ab042a5593986fa"
      }
     },
     "metadata": {},
     "output_type": "display_data"
    },
    {
     "name": "stdout",
     "output_type": "stream",
     "text": [
      "vocab_size: 18111\n"
     ]
    }
   ],
   "execution_count": 10
  },
  {
   "cell_type": "code",
   "metadata": {
    "colab": {
     "base_uri": "https://localhost:8080/"
    },
    "execution": {
     "iopub.execute_input": "2025-02-16T14:52:11.489116Z",
     "iopub.status.busy": "2025-02-16T14:52:11.488792Z",
     "iopub.status.idle": "2025-02-16T14:52:11.501277Z",
     "shell.execute_reply": "2025-02-16T14:52:11.500401Z",
     "shell.execute_reply.started": "2025-02-16T14:52:11.489090Z"
    },
    "id": "e_ed0jmJN4yA",
    "outputId": "407a9e69-4981-42ae-c7a9-aa4c701185ef",
    "ExecuteTime": {
     "end_time": "2025-02-23T13:26:20.641933Z",
     "start_time": "2025-02-23T13:26:20.634915Z"
    }
   },
   "source": [
    "class Tokenizer:\n",
    "    def __init__(self, word2idx, idx2word, max_length=128, pad_idx=0, bos_idx=1, eos_idx=3, unk_idx=2):\n",
    "        \"\"\"\n",
    "        初始化 Tokenizer\n",
    "\n",
    "        :param word2idx: 单词到索引的映射\n",
    "        :param idx2word: 索引到单词的映射\n",
    "        :param max_length: 句子最大长度，超过会被截断，默认 128\n",
    "        :param pad_idx: 填充 token 的索引，默认为 0（[PAD]）\n",
    "        :param bos_idx: 句子起始 token 的索引，默认为 1（[BOS]）\n",
    "        :param eos_idx: 句子结束 token 的索引，默认为 3（[EOS]）\n",
    "        :param unk_idx: 未知单词的索引，默认为 2（[UNK]）\n",
    "        \"\"\"\n",
    "        self.word2idx = word2idx\n",
    "        self.idx2word = idx2word\n",
    "        self.max_length = max_length\n",
    "        self.pad_idx = pad_idx\n",
    "        self.bos_idx = bos_idx\n",
    "        self.eos_idx = eos_idx\n",
    "        self.unk_idx = unk_idx\n",
    "\n",
    "    def encode(self, text_list, padding_first=False, add_bos=True, add_eos=True, return_mask=False):\n",
    "        \"\"\"\n",
    "        将文本列表编码为索引列表，并进行填充或截断。\n",
    "\n",
    "        :param text_list: 需要编码的文本列表（每个元素都是分词后的单词列表）\n",
    "        :param padding_first: 是否在前面填充 [PAD]，默认为 False（即填充在后面）\n",
    "        :param add_bos: 是否添加 [BOS] 作为起始符号，默认为 True\n",
    "        :param add_eos: 是否添加 [EOS] 作为结束符号，默认为 True\n",
    "        :param return_mask: 是否返回 mask（掩码），用于计算损失时忽略 [PAD] 位置\n",
    "        :return: 若 return_mask=False，则返回编码后的 input_ids；否则返回 (input_ids, masks)\n",
    "        \"\"\"\n",
    "\n",
    "        # 计算句子最大长度，确保不会超过 max_length\n",
    "        max_length = min(self.max_length, add_eos + add_bos + max([len(text) for text in text_list]))\n",
    "\n",
    "        indices_list = []  # 存放编码后的索引序列\n",
    "        for text in text_list:\n",
    "            # 将单词转换为索引，遇到未登录词（OOV）则替换为 [UNK]\n",
    "            indices = [self.word2idx.get(word, self.unk_idx) for word in text[:max_length - add_bos - add_eos]]\n",
    "\n",
    "            # 根据参数，决定是否在索引列表前后添加 [BOS] 和 [EOS]\n",
    "            if add_bos:\n",
    "                indices = [self.bos_idx] + indices\n",
    "            if add_eos:\n",
    "                indices = indices + [self.eos_idx]\n",
    "\n",
    "            # 进行填充（padding），使所有句子长度一致\n",
    "            if padding_first:\n",
    "                # 在前面填充 [PAD]\n",
    "                indices = [self.pad_idx] * (max_length - len(indices)) + indices\n",
    "            else:\n",
    "                # 在后面填充 [PAD]\n",
    "                indices = indices + [self.pad_idx] * (max_length - len(indices))\n",
    "\n",
    "            indices_list.append(indices)  # 加入到结果列表\n",
    "\n",
    "        # 转换为 PyTorch 张量\n",
    "        input_ids = torch.tensor(indices_list)\n",
    "\n",
    "        # 生成 mask，填充部分（[PAD]）标记为 1，其余部分标记为 0\n",
    "        masks = (input_ids == self.pad_idx).to(dtype=torch.int64)\n",
    "\n",
    "        # 返回编码后的 input_ids，或 (input_ids, masks)\n",
    "        return input_ids if not return_mask else (input_ids, masks)\n",
    "\n",
    "    def decode(self, indices_list, remove_bos=True, remove_eos=True, remove_pad=True, split=False):\n",
    "        \"\"\"\n",
    "        将索引列表解码回文本列表。\n",
    "\n",
    "        :param indices_list: 需要解码的索引列表（可包含多个句子）\n",
    "        :param remove_bos: 是否移除 [BOS] 令牌，默认为 True\n",
    "        :param remove_eos: 是否移除 [EOS] 令牌，默认为 True\n",
    "        :param remove_pad: 是否移除 [PAD] 令牌，默认为 True\n",
    "        :param split: 是否返回分词后的列表，默认为 False（即返回拼接后的字符串）\n",
    "        :return: 处理后的文本列表\n",
    "        \"\"\"\n",
    "        text_list = []  # 存放解码后的文本\n",
    "        for indices in indices_list:\n",
    "            text = []  # 存放当前句子的单词\n",
    "            for index in indices:\n",
    "                word = self.idx2word.get(index, \"[UNK]\")  # 通过索引获取单词，未知索引替换为 [UNK]\n",
    "\n",
    "                # 按参数决定是否移除特殊 token\n",
    "                if remove_bos and word == \"[BOS]\":\n",
    "                    continue\n",
    "                if remove_eos and word == \"[EOS]\":\n",
    "                    break  # [EOS] 之后的内容无需处理，直接跳出循环\n",
    "                if remove_pad and word == \"[PAD]\":\n",
    "                    break  # [PAD] 之后的内容无需处理，直接跳出循环\n",
    "\n",
    "                text.append(word)  # 添加单词到当前句子\n",
    "\n",
    "            # 根据 split 参数决定返回格式：\n",
    "            # - 若 split=False，则返回完整的句子字符串（单词以空格拼接）\n",
    "            # - 若 split=True，则返回单词列表\n",
    "            text_list.append(\" \".join(text) if not split else text)\n",
    "\n",
    "        return text_list  # 返回解码后的文本列表\n",
    "\n",
    "# 创建 Tokenizer 实例\n",
    "tokenizer = Tokenizer(word2idx=word2idx, idx2word=idx2word)"
   ],
   "outputs": [],
   "execution_count": 11
  },
  {
   "cell_type": "code",
   "metadata": {
    "execution": {
     "iopub.execute_input": "2025-02-16T14:52:11.502704Z",
     "iopub.status.busy": "2025-02-16T14:52:11.502387Z",
     "iopub.status.idle": "2025-02-16T14:52:11.512058Z",
     "shell.execute_reply": "2025-02-16T14:52:11.511367Z",
     "shell.execute_reply.started": "2025-02-16T14:52:11.502678Z"
    },
    "ExecuteTime": {
     "end_time": "2025-02-23T13:26:20.648920Z",
     "start_time": "2025-02-23T13:26:20.641933Z"
    }
   },
   "source": [
    "# 例子：准备输入数据，模拟分词后的文本列表\n",
    "raw_text = [\n",
    "    \"hello world\".split(),\n",
    "    \"tokenize text datas with batch\".split(),\n",
    "    \"this is a test\".split()\n",
    "]\n",
    "\n",
    "# 对输入文本进行编码\n",
    "indices = tokenizer.encode(raw_text, padding_first=False, add_bos=True, add_eos=True)\n",
    "\n",
    "# 对编码结果进行解码\n",
    "decode_text = tokenizer.decode(indices.tolist(), remove_bos=False, remove_eos=False, remove_pad=False)\n",
    "\n",
    "# 打印原始文本\n",
    "print(\"raw text\")\n",
    "for raw in raw_text:\n",
    "    print(raw)\n",
    "\n",
    "# 打印编码后的索引序列\n",
    "print(\"indices\")\n",
    "for index in indices:\n",
    "    print(index)\n",
    "\n",
    "# 打印解码后的文本\n",
    "print(\"decode text\")\n",
    "for decode in decode_text:\n",
    "    print(decode)"
   ],
   "outputs": [
    {
     "name": "stdout",
     "output_type": "stream",
     "text": [
      "raw text\n",
      "['hello', 'world']\n",
      "['tokenize', 'text', 'datas', 'with', 'batch']\n",
      "['this', 'is', 'a', 'test']\n",
      "indices\n",
      "tensor([   1, 9458, 3522,    3,    0,    0,    0])\n",
      "tensor([   1,    2, 5463,    2,   22,    2,    3])\n",
      "tensor([   1,  385,   18,    5, 5699,    3,    0])\n",
      "decode text\n",
      "[BOS] hello world [EOS] [PAD] [PAD] [PAD]\n",
      "[BOS] [UNK] text [UNK] with [UNK] [EOS]\n",
      "[BOS] this is a test [EOS] [PAD]\n"
     ]
    }
   ],
   "execution_count": 12
  },
  {
   "cell_type": "code",
   "metadata": {
    "collapsed": false,
    "execution": {
     "iopub.execute_input": "2025-02-16T14:52:11.513360Z",
     "iopub.status.busy": "2025-02-16T14:52:11.513066Z",
     "iopub.status.idle": "2025-02-16T14:52:11.517445Z",
     "shell.execute_reply": "2025-02-16T14:52:11.516638Z",
     "shell.execute_reply.started": "2025-02-16T14:52:11.513334Z"
    },
    "jupyter": {
     "outputs_hidden": false
    },
    "ExecuteTime": {
     "end_time": "2025-02-23T13:26:20.652917Z",
     "start_time": "2025-02-23T13:26:20.649919Z"
    }
   },
   "source": [
    "# 例子：检查 train_ds 数据集中源语言 (i) 和目标语言 (j) 句子的长度\n",
    "for i,j in train_ds:\n",
    "    print(len(i))\n",
    "    print(len(j))\n",
    "    break"
   ],
   "outputs": [
    {
     "name": "stdout",
     "output_type": "stream",
     "text": [
      "66\n",
      "54\n"
     ]
    }
   ],
   "execution_count": 13
  },
  {
   "cell_type": "markdown",
   "metadata": {
    "id": "ftcEnnKxN4yB"
   },
   "source": [
    "### Transformer Batch Sampler\n",
    "\n",
    "> Sentence pairs were batched together by approximate sequence length. Each training batch contained a set of sentence pairs containing approximately 25000 source tokens and 25000 target tokens\n",
    "句子按照序列长度差不多的分到一个批次。 每个训练批次包含一组句子对，其中包含大约 25000 个源标记和 25000 个目标标记"
   ]
  },
  {
   "cell_type": "code",
   "metadata": {
    "execution": {
     "iopub.execute_input": "2025-02-16T14:52:11.518973Z",
     "iopub.status.busy": "2025-02-16T14:52:11.518698Z",
     "iopub.status.idle": "2025-02-16T14:52:11.527158Z",
     "shell.execute_reply": "2025-02-16T14:52:11.526454Z",
     "shell.execute_reply.started": "2025-02-16T14:52:11.518947Z"
    },
    "id": "qP8nznIuN4yB",
    "ExecuteTime": {
     "end_time": "2025-02-23T13:26:20.660809Z",
     "start_time": "2025-02-23T13:26:20.654920Z"
    }
   },
   "source": [
    "# 动态划分batch\n",
    "class SampleInfo:  # 下面的 info 对象\n",
    "    def __init__(self, i, lens):\n",
    "        \"\"\"\n",
    "        记录文本对的序号和长度信息\n",
    "        输入：\n",
    "            - i (int): 文本对的序号。\n",
    "            - lens (list): 文本对源语言和目标语言的长度\n",
    "        \"\"\"\n",
    "        self.i = i  # 记录当前文本对的序号\n",
    "        # 计算当前样本的最大长度，+1 是为了考虑填补在文本前后的特殊词元\n",
    "        self.max_len = max(lens[0], lens[1]) + 1\n",
    "        # 计算源语言文本的长度（包含特殊词元）\n",
    "        self.src_len = lens[0] + 1\n",
    "        # 计算目标语言文本的长度（包含特殊词元）\n",
    "        self.trg_len = lens[1] + 1\n",
    "\n",
    "# 一个批量生成器，根据词元数目的限制来控制批量的大小。\n",
    "# 它会根据传入的样本信息，在不超过设定大小的情况下，逐步构建批量。\n",
    "class TokenBatchCreator:\n",
    "    def __init__(self, batch_size):\n",
    "        \"\"\"\n",
    "        参数:\n",
    "        batch_size (int): 用于限制批量的大小。\n",
    "        \n",
    "        功能:\n",
    "        - 初始化一个空的批量列表 `_batch`，用于存储当前批次的样本。\n",
    "        - 设定 `max_len` 初始值为 -1，用于记录当前批量中最长样本的长度。\n",
    "        - 存储传入的 `batch_size`，用于限制当前批次的最大 token 数量。\n",
    "        \"\"\"\n",
    "        self._batch = []  # 当前批次存储的样本列表\n",
    "        self.max_len = -1  # 当前批次最大样本长度，初始值设为 -1\n",
    "        self._batch_size = batch_size  # 批量大小的限制，例如 4096\n",
    "\n",
    "    def append(self, info: SampleInfo):\n",
    "        \"\"\"\n",
    "        向当前批量中添加一个样本，并控制批量大小。\n",
    "        \n",
    "        参数:\n",
    "        - info (SampleInfo): 需要添加的样本信息对象，包含文本对的长度信息。\n",
    "\n",
    "        逻辑:\n",
    "        1. 计算当前样本的长度 `cur_len`。\n",
    "        2. 更新当前批量的最大样本长度 `max_len`。\n",
    "        3. 检查如果当前批量的 token 数量（`max_len * 样本数`）超过 `_batch_size`：\n",
    "           - 返回当前批量（表示该批量已经满了）。\n",
    "           - 清空 `_batch` 并将当前样本作为新批量的第一个样本。\n",
    "           - `max_len` 设为当前样本的长度。\n",
    "        4. 否则，将该样本添加到当前批量，并更新 `max_len`。\n",
    "\n",
    "        返回:\n",
    "        - 如果批量已满，则返回当前批量，并开启新的批量存储新样本。\n",
    "        - 如果批量未满，则返回 `None`。\n",
    "        \"\"\"\n",
    "        cur_len = info.max_len  # 当前样本的最大长度\n",
    "        max_len = max(self.max_len, cur_len)  # 更新当前批量的最大样本长度\n",
    "\n",
    "        # 计算当前批量的 token 数量（最大长度 * 样本数），如果超过 batch_size，则返回当前批量\n",
    "        if max_len * (len(self._batch) + 1) > self._batch_size:\n",
    "            self._batch, result = [], self._batch  # 保存当前批量，并清空 `_batch`\n",
    "            self._batch.append(info)  # 将当前样本作为新批量的第一个样本\n",
    "            self.max_len = cur_len  # 设定新批量的最大样本长度\n",
    "            return result  # 返回已满的批量\n",
    "        else:\n",
    "            self.max_len = max_len  # 更新最大样本长度\n",
    "            self._batch.append(info)  # 添加样本到当前批量\n",
    "            return None  # 当前批量未满，返回 None\n",
    "\n",
    "    @property # @property装饰器可以让方法像属性一样被调用\n",
    "    def batch(self):\n",
    "        \"\"\"返回当前批量中存储的样本列表\"\"\"\n",
    "        return self._batch"
   ],
   "outputs": [],
   "execution_count": 14
  },
  {
   "cell_type": "code",
   "metadata": {
    "execution": {
     "iopub.execute_input": "2025-02-16T14:52:11.528720Z",
     "iopub.status.busy": "2025-02-16T14:52:11.528289Z",
     "iopub.status.idle": "2025-02-16T14:52:11.801760Z",
     "shell.execute_reply": "2025-02-16T14:52:11.800843Z",
     "shell.execute_reply.started": "2025-02-16T14:52:11.528694Z"
    },
    "id": "_Vtc0gXEN4yB",
    "ExecuteTime": {
     "end_time": "2025-02-23T13:26:20.709767Z",
     "start_time": "2025-02-23T13:26:20.661809Z"
    }
   },
   "source": [
    "from torch.utils.data import BatchSampler\n",
    "\n",
    "class TransformerBatchSampler(BatchSampler): # 继承自 BatchSampler\n",
    "    def __init__(self,\n",
    "                 dataset,\n",
    "                 batch_size,\n",
    "                 shuffle_batch=False,\n",
    "                 clip_last_batch=False,\n",
    "                 seed=0):\n",
    "        \"\"\"\n",
    "        Transformer 训练的批量采样器，用于根据 token 数量进行批量划分。\n",
    "        \n",
    "        输入:\n",
    "            - dataset: 数据集，包含多个文本对，每个文本对包含源语言和目标语言的文本。\n",
    "            - batch_size: 设定的批量大小（以 token 计算）。\n",
    "            用于随机的参数：\n",
    "            - shuffle_batch: 是否对生成的批次进行洗牌（即打乱批次的顺序）。\n",
    "            - clip_last_batch: 是否丢弃最后一个未达到 batch_size 的批次。\n",
    "            - seed: 随机种子，用于确保每次运行的洗牌结果相同。\n",
    "        \n",
    "        逻辑:\n",
    "        1. 记录传入的参数，初始化随机数生成器（用于洗牌）。\n",
    "        2. 遍历数据集中的每个样本，计算其源语言和目标语言的 token 长度。\n",
    "        3. 创建 `SampleInfo` 对象，存储每个样本的索引及长度信息，并存入 `_sample_infos` 列表。\n",
    "        \"\"\"\n",
    "\n",
    "        self._dataset = dataset  # 数据集:train_ds\n",
    "        self._batch_size = batch_size  # 设定的最大批量大小（以 token 数量计算） 假设为4096\n",
    "        self._shuffle_batch = shuffle_batch  # 是否对批次顺序进行随机洗牌\n",
    "        self._clip_last_batch = clip_last_batch  # 是否裁剪最后不足 batch_size 的批次\n",
    "        self._seed = seed  # 随机种子，确保每次打乱的顺序一致\n",
    "\n",
    "        # 初始化 NumPy 随机数生成器\n",
    "        self._random = np.random\n",
    "        self._random.seed(seed)\n",
    "\n",
    "        # 存储所有样本的信息\n",
    "        self._sample_infos = []  \n",
    "        \n",
    "        # 遍历数据集，计算每个样本的源语言和目标语言长度，并存入 SampleInfo 对象\n",
    "        for i, data in enumerate(self._dataset): # enumerate() 函数用于遍历数据集，返回索引和数据\n",
    "            lens = [len(data[0]), len(data[1])]  # 计算源语言和目标语言的长度\n",
    "            self._sample_infos.append(SampleInfo(i, lens))  # 记录样本的索引和长度信息\n",
    "\n",
    "    def __iter__(self):\n",
    "        \"\"\"\n",
    "        生成批量索引，用于训练数据的采样。\n",
    "        \n",
    "        逻辑:\n",
    "        1. 先按样本的源语言长度排序，若相同再按目标语言长度排序，使得相似长度的样本聚合在一起，减少填充（padding）。\n",
    "        2. 依次将样本放入 `TokenBatchCreator` 进行分批，保证每批的 token 数量不超过 batch_size。\n",
    "        3. 若 `clip_last_batch` 为 False，则保留最后不足 batch_size 的批次。\n",
    "        4. 若 `shuffle_batch` 为 True，则打乱所有批次的顺序。\n",
    "        5. 逐个返回批次，每个批次包含多个样本的索引，表示数据集中哪些样本属于该批次。\n",
    "\n",
    "        返回:\n",
    "        - 迭代器，每次返回一个批次的样本索引列表（如 [0,1,2,...,83]）。\n",
    "        \"\"\"\n",
    "\n",
    "        # 按照 (src_len, trg_len) 进行排序，使得相似长度的样本排列在一起，减少填充需求\n",
    "        infos = sorted(self._sample_infos, key=lambda x: (x.src_len, x.trg_len))\n",
    "\n",
    "        batch_infos = []  # 存储所有批次的信息\n",
    "        batch_creator = TokenBatchCreator(self._batch_size)  # 初始化批量生成器\n",
    "\n",
    "        # 遍历排序后的样本信息，并放入批量生成器\n",
    "        for info in infos:\n",
    "            batch = batch_creator.append(info)  # 添加样本到当前批次\n",
    "            if batch is not None:\n",
    "                batch_infos.append(batch)  # 当前批次已满，存储该批次\n",
    "\n",
    "        # 处理最后一个批次\n",
    "        if not self._clip_last_batch and len(batch_creator.batch) != 0:\n",
    "            batch_infos.append(batch_creator.batch)  # 将剩余样本作为最后一个批次\n",
    "\n",
    "        # 是否对批次进行洗牌（即打乱批次顺序，而不是打乱样本顺序）\n",
    "        if self._shuffle_batch:\n",
    "            self._random.shuffle(batch_infos)\n",
    "\n",
    "        self.batch_number = len(batch_infos)  # 计算总批次数量\n",
    "\n",
    "        # 依次返回每个批次的样本索引\n",
    "        for batch in batch_infos:\n",
    "            batch_indices = [info.i for info in batch]  # 提取该批次所有样本在数据集中的索引\n",
    "            yield batch_indices  # 生成该批次的索引列表\n",
    "\n",
    "    def __len__(self):\n",
    "        \"\"\"\n",
    "        返回批次数量（即数据集被划分成了多少个批次）。\n",
    "        \n",
    "        逻辑:\n",
    "        - 若 `batch_number` 已计算，则直接返回。\n",
    "        - 否则，计算数据集中样本总数与 batch_size 的比值，得到批次数量（一般情况下不会走到这个逻辑）。\n",
    "        \"\"\"\n",
    "        if hasattr(self, \"batch_number\"):\n",
    "            return self.batch_number\n",
    "\n",
    "        # 计算批次数量（一般情况下不会用到此计算逻辑）\n",
    "        batch_number = (len(self._dataset) + self._batch_size) // self._batch_size\n",
    "        return batch_number\n",
    "\n",
    "# 长度*batch_number>4096的时候，就会返回上一个batch，然后新的样本加入新的batch,具体要看TokenBatchCreator的44行代码\n",
    "sampler = TransformerBatchSampler(train_ds, batch_size=4096, shuffle_batch=True)"
   ],
   "outputs": [],
   "execution_count": 15
  },
  {
   "cell_type": "code",
   "metadata": {
    "collapsed": false,
    "execution": {
     "iopub.execute_input": "2025-02-16T14:52:11.803099Z",
     "iopub.status.busy": "2025-02-16T14:52:11.802733Z",
     "iopub.status.idle": "2025-02-16T14:52:11.848190Z",
     "shell.execute_reply": "2025-02-16T14:52:11.847245Z",
     "shell.execute_reply.started": "2025-02-16T14:52:11.803070Z"
    },
    "jupyter": {
     "outputs_hidden": false
    },
    "ExecuteTime": {
     "end_time": "2025-02-23T13:26:20.734087Z",
     "start_time": "2025-02-23T13:26:20.710770Z"
    }
   },
   "source": [
    "# 例子：打印一个批次的样本索引\n",
    "for idx, batch in enumerate(sampler):\n",
    "    print(\"第{}批量的数据中含有文本对是：{}，数量为：{}\".format(idx, batch, len(batch)))\n",
    "    if idx >= 3:\n",
    "        break"
   ],
   "outputs": [
    {
     "name": "stdout",
     "output_type": "stream",
     "text": [
      "第0批量的数据中含有文本对是：[26845, 982, 1864, 3222, 4716, 5341, 5897, 6103, 8531, 10067, 11125, 13063, 14929, 15158, 18063, 18502, 20661, 20986, 21320, 22030, 22882, 23567, 24909, 1881, 2268, 4268, 7413, 10166, 12447, 13573, 15332, 16727, 17657, 20829, 21508, 23094, 24274, 25801, 518, 2145, 4111, 4739, 4745, 7493, 7623, 8369, 8618, 8730, 9054, 9391, 9808, 10141, 10412, 11422, 13534, 15038]，数量为：56\n",
      "第1批量的数据中含有文本对是：[26442, 4512, 5035, 5744, 9615, 15349, 15924, 17523, 18557, 5893, 23488, 8119, 10028, 10369, 15787, 26183, 1414, 3099, 19840, 23914, 5354, 8006, 23772, 6689, 27235, 6203, 26078, 8993, 19012, 3375, 19795, 27173, 15729, 4701, 25842, 11235, 18198, 26926, 17825]，数量为：39\n",
      "第2批量的数据中含有文本对是：[25439, 26265, 6121, 25746, 4051, 9494, 22243, 22632, 23242, 26771, 6762, 7707, 7721, 16134, 19469, 20129, 26029, 19461, 8066, 20314, 24428, 7135, 8517, 14829, 21864, 25671, 27693, 188, 3297, 27196, 27911, 18016, 23408, 16925, 21655, 26323, 3236, 18946, 19307, 11442, 1346, 20842]，数量为：42\n",
      "第3批量的数据中含有文本对是：[560, 880, 4262, 13397, 14746, 15446, 18868, 26225, 26456, 27780, 27797, 5014, 8350, 11329, 13924, 18316, 19395, 22153, 5575, 9771, 9947, 17199, 19648, 25598, 14140, 15926, 16633, 25232, 3446, 7097, 14215, 3106, 9581, 10872, 11954, 15017, 11505, 18446, 21314, 8567, 10429, 17328, 23103, 8860, 18872, 24041, 25081, 24673, 17651, 5423, 11842, 8665, 18279, 13271, 1917, 20077, 21753, 4734, 12365, 27371, 7451, 8163, 17769, 22031, 2563, 3410, 9039, 18028]，数量为：68\n"
     ]
    }
   ],
   "execution_count": 16
  },
  {
   "cell_type": "code",
   "metadata": {
    "collapsed": false,
    "execution": {
     "iopub.execute_input": "2025-02-16T14:52:11.849837Z",
     "iopub.status.busy": "2025-02-16T14:52:11.849344Z",
     "iopub.status.idle": "2025-02-16T14:52:11.856539Z",
     "shell.execute_reply": "2025-02-16T14:52:11.855845Z",
     "shell.execute_reply.started": "2025-02-16T14:52:11.849792Z"
    },
    "jupyter": {
     "outputs_hidden": false
    },
    "ExecuteTime": {
     "end_time": "2025-02-23T13:26:20.738087Z",
     "start_time": "2025-02-23T13:26:20.735085Z"
    }
   },
   "source": [
    "len(sampler)"
   ],
   "outputs": [
    {
     "data": {
      "text/plain": [
       "527"
      ]
     },
     "execution_count": 17,
     "metadata": {},
     "output_type": "execute_result"
    }
   ],
   "execution_count": 17
  },
  {
   "cell_type": "markdown",
   "metadata": {
    "id": "Olkaw4JNN4yC"
   },
   "source": [
    "### DataLoader"
   ]
  },
  {
   "cell_type": "code",
   "metadata": {
    "execution": {
     "iopub.execute_input": "2025-02-16T14:52:11.857945Z",
     "iopub.status.busy": "2025-02-16T14:52:11.857451Z",
     "iopub.status.idle": "2025-02-16T14:52:11.865455Z",
     "shell.execute_reply": "2025-02-16T14:52:11.864590Z",
     "shell.execute_reply.started": "2025-02-16T14:52:11.857915Z"
    },
    "id": "rvvuNJIzN4yC",
    "ExecuteTime": {
     "end_time": "2025-02-23T13:26:20.742874Z",
     "start_time": "2025-02-23T13:26:20.738087Z"
    }
   },
   "source": [
    "def collate_fct(batch, tokenizer):\n",
    "    \"\"\"\n",
    "    处理一个批次的数据，将其转化为模型输入所需要的格式。\n",
    "    \n",
    "    输入：\n",
    "        - batch: 由多个样本（文本对）组成的批次。每个样本是一个包含源语言和目标语言的元组 `(src_text, trg_text)`。\n",
    "        - tokenizer: 用于对源语言和目标语言文本进行编码的分词器。\n",
    "\n",
    "    输出：\n",
    "        返回一个字典，包含处理后的 encoder 和 decoder 的输入及标签。\n",
    "    \"\"\"\n",
    "    \n",
    "    # 将批次中的每个文本对的源语言和目标语言分开，按空格分词\n",
    "    src_words = [pair[0].split() for pair in batch]  # 列表中的每个元素是源语言分词后的单词列表\n",
    "    trg_words = [pair[1].split() for pair in batch]  # 列表中的每个元素是目标语言分词后的单词列表\n",
    "\n",
    "    # 对源语言进行编码，添加 [BOS] (开始标记)、[EOS] (结束标记) 并进行填充\n",
    "    encoder_inputs, encoder_inputs_mask = tokenizer.encode(\n",
    "        src_words, \n",
    "        padding_first=False,  # 填充在序列末尾（前填充设为 False）\n",
    "        add_bos=True,         # 添加开始标记 [BOS]\n",
    "        add_eos=True,         # 添加结束标记 [EOS]\n",
    "        return_mask=True      # 返回对应的 mask（用于标识有效单词位置）\n",
    "    )\n",
    "\n",
    "    # 对目标语言进行编码，添加 [BOS] 标记，未添加 [EOS]，不返回 mask\n",
    "    decoder_inputs = tokenizer.encode(\n",
    "        trg_words, \n",
    "        padding_first=False,  # 填充在序列末尾\n",
    "        add_bos=True,         # 添加开始标记 [BOS]\n",
    "        add_eos=False,        # 不添加结束标记 [EOS]\n",
    "        return_mask=False     # 不需要返回 mask\n",
    "    )\n",
    "\n",
    "    # 对目标语言进行编码，添加 [EOS]，未添加 [BOS]，并返回 mask\n",
    "    decoder_labels, decoder_labels_mask = tokenizer.encode(\n",
    "        trg_words, \n",
    "        padding_first=False,  # 填充在序列末尾\n",
    "        add_bos=False,        # 不添加开始标记 [BOS]\n",
    "        add_eos=True,         # 添加结束标记 [EOS]\n",
    "        return_mask=True      # 返回 mask\n",
    "    )\n",
    "\n",
    "    # 将处理后的结果转移到设备（如 GPU）上\n",
    "    return {\n",
    "        \"encoder_inputs\": encoder_inputs.to(device=device),                # 源语言编码\n",
    "        \"encoder_inputs_mask\": encoder_inputs_mask.to(device=device),      # 源语言的 mask\n",
    "        \"decoder_inputs\": decoder_inputs.to(device=device),                # 目标语言编码（不包含 [EOS]）\n",
    "        \"decoder_labels\": decoder_labels.to(device=device),                # 目标语言标签（包含 [EOS]）\n",
    "        \"decoder_labels_mask\": decoder_labels_mask.to(device=device),      # 目标语言标签的 mask\n",
    "    }"
   ],
   "outputs": [],
   "execution_count": 18
  },
  {
   "cell_type": "code",
   "metadata": {
    "colab": {
     "base_uri": "https://localhost:8080/"
    },
    "execution": {
     "iopub.execute_input": "2025-02-16T14:52:11.867143Z",
     "iopub.status.busy": "2025-02-16T14:52:11.866688Z",
     "iopub.status.idle": "2025-02-16T14:52:11.966540Z",
     "shell.execute_reply": "2025-02-16T14:52:11.965811Z",
     "shell.execute_reply.started": "2025-02-16T14:52:11.867097Z"
    },
    "id": "5p79gPo5N4yC",
    "outputId": "2b1d43ae-a2ed-4333-8274-50c62c2fc6c9",
    "ExecuteTime": {
     "end_time": "2025-02-23T13:26:20.789645Z",
     "start_time": "2025-02-23T13:26:20.742874Z"
    }
   },
   "source": [
    "from functools import partial  # 固定collate_fct的tokenizer参数\n",
    "\n",
    "# 创建一个 TransformerBatchSampler 实例，用于控制批量采样的行为。\n",
    "# batch_size: 批量大小，指定每个批次中的样本数（这里设为128）。\n",
    "# shuffle_batch: 是否打乱批次，设为True表示打乱批次顺序。\n",
    "# https://pytorch.org/docs/stable/data.html#torch.utils.data.DataLoader\n",
    "# 可以调大batch_size,来看最终的bleu，如果GPU内存不够，可以减小batch_size\n",
    "sampler = TransformerBatchSampler(train_ds, batch_size=256, shuffle_batch=False)\n",
    "\n",
    "# 使用 DataLoader 创建一个数据加载器，管理数据的批量处理。\n",
    "# - train_ds: 数据集对象，通常是训练集。\n",
    "# - batch_sampler: 使用之前创建的 TransformerBatchSampler，来控制批量的生成。\n",
    "# - collate_fn: 批量处理函数，这里使用 partial 固定了 collate_fct 函数的 tokenizer 参数。\n",
    "# 这样可以避免每次都手动传递 tokenizer，而是将其固定为一个参数。\n",
    "sample_dl = DataLoader(train_ds, batch_sampler=sampler, collate_fn=partial(collate_fct, tokenizer=tokenizer))"
   ],
   "outputs": [],
   "execution_count": 19
  },
  {
   "cell_type": "code",
   "metadata": {
    "execution": {
     "iopub.execute_input": "2025-02-16T14:52:11.967696Z",
     "iopub.status.busy": "2025-02-16T14:52:11.967364Z",
     "iopub.status.idle": "2025-02-16T14:52:12.011087Z",
     "shell.execute_reply": "2025-02-16T14:52:12.010307Z",
     "shell.execute_reply.started": "2025-02-16T14:52:11.967669Z"
    },
    "ExecuteTime": {
     "end_time": "2025-02-23T13:26:20.816710Z",
     "start_time": "2025-02-23T13:26:20.790651Z"
    }
   },
   "source": [
    "# 例子：查看一个批次的索引列表\n",
    "for i in sampler: # 因为TransformerBatchSampler中实现了__iter__方法，所以可以直接用for循环来遍历\n",
    "    print(f\"批次的索引列表为:{i}\")\n",
    "    print(f\"批次中的样本数量为:{len(i)}\")\n",
    "    break"
   ],
   "outputs": [
    {
     "name": "stdout",
     "output_type": "stream",
     "text": [
      "批次的索引列表为:[16049, 16193, 8575, 8984]\n",
      "批次中的样本数量为:4\n"
     ]
    }
   ],
   "execution_count": 20
  },
  {
   "cell_type": "code",
   "metadata": {
    "execution": {
     "iopub.execute_input": "2025-02-16T14:52:12.012203Z",
     "iopub.status.busy": "2025-02-16T14:52:12.011894Z",
     "iopub.status.idle": "2025-02-16T14:52:12.279617Z",
     "shell.execute_reply": "2025-02-16T14:52:12.278815Z",
     "shell.execute_reply.started": "2025-02-16T14:52:12.012177Z"
    },
    "ExecuteTime": {
     "end_time": "2025-02-23T13:26:21.054085Z",
     "start_time": "2025-02-23T13:26:20.817708Z"
    }
   },
   "source": [
    "# 例子：使用 DataLoader 迭代批次\n",
    "for batch in sample_dl:  # 外层循环遍历每个批次\n",
    "    for key, value in batch.items():  # 内层循环遍历每个批次字典中的键值对\n",
    "        print(key)   # 打印批次中的键（例如 \"encoder_inputs\", \"decoder_inputs\" 等）\n",
    "        print(value) # 打印批次中的值，通常是 Tensor 或 numpy 数组\n",
    "    break  # 只打印第一个批次"
   ],
   "outputs": [
    {
     "name": "stdout",
     "output_type": "stream",
     "text": [
      "encoder_inputs\n",
      "tensor([[   1, 9771, 9771,    3,    0,    0],\n",
      "        [   1, 9771, 9771,    3,    0,    0],\n",
      "        [   1,    7,   17, 9015,    4,    3],\n",
      "        [   1,   25,   74, 2571,    4,    3]], device='cuda:0')\n",
      "encoder_inputs_mask\n",
      "tensor([[0, 0, 0, 0, 1, 1],\n",
      "        [0, 0, 0, 0, 1, 1],\n",
      "        [0, 0, 0, 0, 0, 0],\n",
      "        [0, 0, 0, 0, 0, 0]], device='cuda:0')\n",
      "decoder_inputs\n",
      "tensor([[    1,    75,  8631,   471,   300,  2038,  5790,   216,  1354, 10332,\n",
      "             4],\n",
      "        [    1,    38,   193, 10092,  3577, 10479,   130,  7302,  4187,     4,\n",
      "             0],\n",
      "        [    1,     5,    16,    18,   305,     5,  6510,     4,     0,     0,\n",
      "             0],\n",
      "        [    1,    26,   210,    18,    63,     5,  2571,     4,     0,     0,\n",
      "             0]], device='cuda:0')\n",
      "decoder_labels\n",
      "tensor([[   75,  8631,   471,   300,  2038,  5790,   216,  1354, 10332,     4,\n",
      "             3],\n",
      "        [   38,   193, 10092,  3577, 10479,   130,  7302,  4187,     4,     3,\n",
      "             0],\n",
      "        [    5,    16,    18,   305,     5,  6510,     4,     3,     0,     0,\n",
      "             0],\n",
      "        [   26,   210,    18,    63,     5,  2571,     4,     3,     0,     0,\n",
      "             0]], device='cuda:0')\n",
      "decoder_labels_mask\n",
      "tensor([[0, 0, 0, 0, 0, 0, 0, 0, 0, 0, 0],\n",
      "        [0, 0, 0, 0, 0, 0, 0, 0, 0, 0, 1],\n",
      "        [0, 0, 0, 0, 0, 0, 0, 0, 1, 1, 1],\n",
      "        [0, 0, 0, 0, 0, 0, 0, 0, 1, 1, 1]], device='cuda:0')\n"
     ]
    }
   ],
   "execution_count": 21
  },
  {
   "cell_type": "markdown",
   "metadata": {
    "id": "0AadtoM3N4yC"
   },
   "source": [
    "## 定义模型\n",
    "\n",
    "- Transformer模型由Embedding、Transformer-Block组成\n",
    "- Embedding包括：\n",
    "    - WordEmbedding\n",
    "    - PositionEmbedding\n",
    "- Transformer-Block包括：\n",
    "    - Self-Attention\n",
    "    - Cross-Attention\n",
    "    - MLP"
   ]
  },
  {
   "cell_type": "markdown",
   "metadata": {
    "id": "VTl-sSJmN4yD"
   },
   "source": [
    "### Embedding"
   ]
  },
  {
   "cell_type": "code",
   "metadata": {
    "execution": {
     "iopub.execute_input": "2025-02-16T14:52:12.285512Z",
     "iopub.status.busy": "2025-02-16T14:52:12.285126Z",
     "iopub.status.idle": "2025-02-16T14:52:12.291579Z",
     "shell.execute_reply": "2025-02-16T14:52:12.290776Z",
     "shell.execute_reply.started": "2025-02-16T14:52:12.285480Z"
    },
    "ExecuteTime": {
     "end_time": "2025-02-23T13:26:21.059785Z",
     "start_time": "2025-02-23T13:26:21.056081Z"
    }
   },
   "source": [
    "torch.arange(0, 128).unsqueeze(1).shape"
   ],
   "outputs": [
    {
     "data": {
      "text/plain": [
       "torch.Size([128, 1])"
      ]
     },
     "execution_count": 22,
     "metadata": {},
     "output_type": "execute_result"
    }
   ],
   "execution_count": 22
  },
  {
   "cell_type": "code",
   "metadata": {
    "colab": {
     "base_uri": "https://localhost:8080/",
     "height": 455
    },
    "execution": {
     "iopub.execute_input": "2025-02-16T14:52:12.292940Z",
     "iopub.status.busy": "2025-02-16T14:52:12.292523Z",
     "iopub.status.idle": "2025-02-16T14:52:12.532816Z",
     "shell.execute_reply": "2025-02-16T14:52:12.532074Z",
     "shell.execute_reply.started": "2025-02-16T14:52:12.292914Z"
    },
    "id": "y66CxrsBN4yD",
    "outputId": "c703025c-afc5-4012-d8e3-0e9d4ad253ec",
    "ExecuteTime": {
     "end_time": "2025-02-23T13:26:21.209277Z",
     "start_time": "2025-02-23T13:26:21.060784Z"
    }
   },
   "source": [
    "class TransformerEmbedding(nn.Module):\n",
    "    def __init__(self, config):\n",
    "        super().__init__()\n",
    "        # 从配置中获取超参数\n",
    "        self.vocab_size = config[\"vocab_size\"]  # 词汇表的大小\n",
    "        self.hidden_size = config[\"d_model\"]  # 词向量的维度\n",
    "        self.pad_idx = config[\"pad_idx\"]  # padding的索引\n",
    "        dropout_rate = config[\"dropout\"]  # dropout的比率\n",
    "        self.max_length = config[\"max_length\"]  # 序列的最大长度\n",
    "\n",
    "        # 初始化词嵌入层，padding_idx表示pad的词向量全为0\n",
    "        self.word_embedding = nn.Embedding(self.vocab_size, self.hidden_size, padding_idx=self.pad_idx)\n",
    "        # 初始化位置嵌入层，_weight表示直接给位置编码的权重\n",
    "        self.pos_embedding = nn.Embedding(\n",
    "            self.max_length, \n",
    "            self.hidden_size,\n",
    "            #位置编码，权重通过get_positional_encoding函数计算得到\n",
    "            _weight=self.get_positional_encoding(self.max_length, self.hidden_size), \n",
    "        )\n",
    "        self.pos_embedding.weight.requires_grad_(False)  # 位置编码的权重不需要更新\n",
    "        self.dropout = nn.Dropout(dropout_rate)  # 随机失活层\n",
    "\n",
    "    def get_word_embedding_weights(self):\n",
    "        # 获取词嵌入层的权重\n",
    "        return self.word_embedding.weight\n",
    "\n",
    "    @classmethod\n",
    "    def get_positional_encoding(self, max_length, hidden_size):\n",
    "        \"\"\"\n",
    "        计算位置编码：通过正弦和余弦函数生成位置编码矩阵\n",
    "        输入：\n",
    "            max_length: 最大序列长度\n",
    "            hidden_size: 词向量维度\n",
    "        输出：\n",
    "            pe: 位置编码矩阵\n",
    "        \"\"\"\n",
    "        # 初始化一个零矩阵，大小为(max_length, hidden_size)\n",
    "        pe = torch.zeros(max_length, hidden_size)\n",
    "        \n",
    "        # position是一个大小为(max_length, 1)的张量，包含从0到max_length-1的整数\n",
    "        position = torch.arange(0, max_length).unsqueeze(1)  # 位置信息，从0到max_length-1\n",
    "        # div_term计算每个位置的缩放因子，目的是通过对数空间进行归一化\n",
    "        div_term = torch.exp(\n",
    "            torch.arange(0, hidden_size, 2)\n",
    "            * -(torch.log(torch.Tensor([10000.0])) / hidden_size)\n",
    "        )\n",
    "        # 对位置编码矩阵进行填充\n",
    "        pe[:, 0::2] = torch.sin(position * div_term)  # 偶数列填充sin值\n",
    "        pe[:, 1::2] = torch.cos(position * div_term)  # 奇数列填充cos值\n",
    "        \n",
    "        return pe\n",
    "\n",
    "    def forward(self, input_ids):\n",
    "        \"\"\"\n",
    "        前向传播：将输入的id转换为词向量和位置编码的加和\n",
    "        输入：\n",
    "            input_ids: 形状为[batch_size, seq_len]的张量，包含输入序列的id\n",
    "        输出：\n",
    "            embeds: 形状为[batch_size, seq_len, hidden_size]的张量，词向量和位置编码的加和\n",
    "        \"\"\"\n",
    "        seq_len = input_ids.shape[1]  # 获取序列的长度\n",
    "        # 检查输入序列的长度是否超出最大长度\n",
    "        assert (\n",
    "            seq_len <= self.max_length\n",
    "        ), f\"input sequence length should no more than {self.max_length} but got {seq_len}\"\n",
    "\n",
    "        # 生成位置id\n",
    "        position_ids = torch.arange(seq_len, dtype=torch.long, device=input_ids.device)\n",
    "        position_ids = position_ids.unsqueeze(0).expand_as(input_ids)\n",
    "        # print(position_ids)  # 调试输出位置id\n",
    "\n",
    "        # 词嵌入：将input_ids转换为词向量\n",
    "        word_embeds = self.word_embedding(input_ids)\n",
    "        # 位置嵌入：将position_ids转换为位置编码\n",
    "        pos_embeds = self.pos_embedding(position_ids)\n",
    "        # 将词向量和位置编码相加\n",
    "        embeds = word_embeds + pos_embeds\n",
    "        # 使用dropout进行随机失活\n",
    "        embeds = self.dropout(embeds)\n",
    "\n",
    "        return embeds\n",
    "\n",
    "\n",
    "def plot_position_embedding(position_embedding):\n",
    "    \"\"\"\n",
    "    绘制位置编码矩阵\n",
    "    输入：\n",
    "        position_embedding: 位置编码矩阵\n",
    "    输出：\n",
    "        无\n",
    "    \"\"\"\n",
    "    plt.pcolormesh(position_embedding)  # 绘制位置编码矩阵\n",
    "    plt.xlabel('Depth')  # x轴为深度\n",
    "    plt.ylabel('Position')  # y轴为位置\n",
    "    plt.colorbar()  # 添加颜色条，表示编码值的范围\n",
    "    plt.show()  # 显示图像\n",
    "\n",
    "# 获取64个位置、128维词向量的位置编码矩阵并绘制\n",
    "position_embedding = TransformerEmbedding.get_positional_encoding(64, 128)\n",
    "plot_position_embedding(position_embedding)"
   ],
   "outputs": [
    {
     "data": {
      "text/plain": [
       "<Figure size 640x480 with 2 Axes>"
      ],
      "image/png": "[encoded data removed]"
     },
     "metadata": {},
     "output_type": "display_data"
    }
   ],
   "execution_count": 23
  },
  {
   "cell_type": "code",
   "metadata": {
    "execution": {
     "iopub.execute_input": "2025-02-16T14:52:12.534113Z",
     "iopub.status.busy": "2025-02-16T14:52:12.533747Z",
     "iopub.status.idle": "2025-02-16T14:52:12.538984Z",
     "shell.execute_reply": "2025-02-16T14:52:12.538372Z",
     "shell.execute_reply.started": "2025-02-16T14:52:12.534078Z"
    },
    "ExecuteTime": {
     "end_time": "2025-02-23T13:26:21.214404Z",
     "start_time": "2025-02-23T13:26:21.210279Z"
    }
   },
   "source": [
    "# 例子：为了理解指数对数变换\n",
    "import math\n",
    "def positional_encoding_weights(emb_size):\n",
    "    # 计算底数和指数\n",
    "    base = math.log(10000)\n",
    "    exponent = -5 / emb_size\n",
    "    \n",
    "    # 应用指数函数\n",
    "    weight = math.exp(exponent*base) \n",
    "    \n",
    "    return weight\n",
    "\n",
    "emb_size = 10  # 举例，可以替换成你需要的大小\n",
    "weight = positional_encoding_weights(emb_size)\n",
    "print(weight)"
   ],
   "outputs": [
    {
     "name": "stdout",
     "output_type": "stream",
     "text": [
      "0.009999999999999995\n"
     ]
    }
   ],
   "execution_count": 24
  },
  {
   "cell_type": "code",
   "metadata": {
    "execution": {
     "iopub.execute_input": "2025-02-16T14:52:12.540323Z",
     "iopub.status.busy": "2025-02-16T14:52:12.539987Z",
     "iopub.status.idle": "2025-02-16T14:52:12.544945Z",
     "shell.execute_reply": "2025-02-16T14:52:12.544276Z",
     "shell.execute_reply.started": "2025-02-16T14:52:12.540295Z"
    },
    "ExecuteTime": {
     "end_time": "2025-02-23T13:26:21.218863Z",
     "start_time": "2025-02-23T13:26:21.215404Z"
    }
   },
   "source": [
    "1/10000**(1/2)"
   ],
   "outputs": [
    {
     "data": {
      "text/plain": [
       "0.01"
      ]
     },
     "execution_count": 25,
     "metadata": {},
     "output_type": "execute_result"
    }
   ],
   "execution_count": 25
  },
  {
   "cell_type": "code",
   "metadata": {
    "collapsed": false,
    "execution": {
     "iopub.execute_input": "2025-02-16T14:52:12.546010Z",
     "iopub.status.busy": "2025-02-16T14:52:12.545710Z",
     "iopub.status.idle": "2025-02-16T14:52:12.553895Z",
     "shell.execute_reply": "2025-02-16T14:52:12.553259Z",
     "shell.execute_reply.started": "2025-02-16T14:52:12.545984Z"
    },
    "jupyter": {
     "outputs_hidden": false
    },
    "ExecuteTime": {
     "end_time": "2025-02-23T13:26:21.233386Z",
     "start_time": "2025-02-23T13:26:21.218863Z"
    }
   },
   "source": [
    "#例子：随机input，调用TransformerEmbedding\n",
    "config={\n",
    "    \"vocab_size\": 100,\n",
    "    \"d_model\": 128,\n",
    "    \"pad_idx\": 0,\n",
    "    \"max_length\": 64,\n",
    "    \"dropout\": 0.1,\n",
    "}\n",
    "input_ids = torch.randint(0, 100, (2, 50))\n",
    "embeds = TransformerEmbedding(config)(input_ids)\n",
    "embeds.shape"
   ],
   "outputs": [
    {
     "data": {
      "text/plain": [
       "torch.Size([2, 50, 128])"
      ]
     },
     "execution_count": 26,
     "metadata": {},
     "output_type": "execute_result"
    }
   ],
   "execution_count": 26
  },
  {
   "cell_type": "markdown",
   "metadata": {
    "id": "wXavO0SNN4yD"
   },
   "source": [
    "### Transformer Block"
   ]
  },
  {
   "cell_type": "markdown",
   "metadata": {
    "id": "HZL4mu3pN4yD"
   },
   "source": [
    "#### scaled-dot-product-attention"
   ]
  },
  {
   "cell_type": "code",
   "metadata": {
    "colab": {
     "base_uri": "https://localhost:8080/",
     "height": 970
    },
    "execution": {
     "iopub.execute_input": "2025-02-16T14:52:12.555268Z",
     "iopub.status.busy": "2025-02-16T14:52:12.554754Z",
     "iopub.status.idle": "2025-02-16T14:52:12.568538Z",
     "shell.execute_reply": "2025-02-16T14:52:12.567839Z",
     "shell.execute_reply.started": "2025-02-16T14:52:12.555241Z"
    },
    "id": "U9QwdVQYN4yD",
    "outputId": "b6ae9ac8-c71c-4a7b-fd4b-9c15e92dba2c",
    "ExecuteTime": {
     "end_time": "2025-02-23T13:26:21.243830Z",
     "start_time": "2025-02-23T13:26:21.234386Z"
    }
   },
   "source": [
    "from dataclasses import dataclass\n",
    "from typing import Optional, Tuple\n",
    "\n",
    "# 定义 AttentionOutput 数据类，用于存储多头注意力的输出\n",
    "Tensor = torch.Tensor\n",
    "@dataclass\n",
    "class AttentionOutput:\n",
    "    hidden_states: Tensor  # 注意力层的最终输出\n",
    "    attn_scores: Tensor    # 计算得到的注意力权重\n",
    "\n",
    "# 多头注意力层\n",
    "class MultiHeadAttention(nn.Module):\n",
    "    def __init__(self, config):\n",
    "        super().__init__()\n",
    "        # 获取配置中的超参数\n",
    "        self.hidden_size = config[\"d_model\"]  # 隐藏层维度（例如 512）\n",
    "        self.num_heads = config[\"num_heads\"]  # 头的数量（例如 8）\n",
    "        \n",
    "        # 断言，确保 hidden_size 可以被 num_heads 整除\n",
    "        assert (\n",
    "            self.hidden_size % self.num_heads == 0\n",
    "        ), \"Hidden size must be divisible by num_heads but got {} and {}\".format(\n",
    "            self.hidden_size, self.num_heads\n",
    "        )\n",
    "\n",
    "        # 计算每个头的维度（head_dim = hidden_size / num_heads）\n",
    "        self.head_dim = self.hidden_size // self.num_heads  \n",
    "\n",
    "        # 定义线性变换层，将输入的 query、key、value 投影到 hidden_size 维度\n",
    "        self.Wq = nn.Linear(self.hidden_size, self.hidden_size, bias=False)  # Q 投影层\n",
    "        self.Wk = nn.Linear(self.hidden_size, self.hidden_size, bias=False)  # K 投影层\n",
    "        self.Wv = nn.Linear(self.hidden_size, self.hidden_size, bias=False)  # V 投影层\n",
    "        self.Wo = nn.Linear(self.hidden_size, self.hidden_size, bias=False)  # 输出投影层\n",
    "\n",
    "    def _split_heads(self, x: Tensor) -> Tensor:\n",
    "        \"\"\"\n",
    "        将输入张量 x 拆分为多个头的形式\n",
    "        输入: x -> 形状为 [batch_size, seq_len, hidden_size]\n",
    "        输出: num_heads * head_dim = hidden_size -> [batch_size, seq_len, num_heads, head_dim] \n",
    "        \"\"\"\n",
    "        bs, seq_len, _ = x.shape  # 获取 batch_size 和序列长度\n",
    "        x = x.view(bs, seq_len, self.num_heads, self.head_dim)  # 变形，使得每个头拥有 head_dim 维度\n",
    "        return x.permute(0, 2, 1, 3)  # 交换维度，调整为 [batch_size, num_heads, seq_len, head_dim]\n",
    "\n",
    "    def _merge_heads(self, x: Tensor) -> Tensor:\n",
    "        \"\"\"\n",
    "        将多个头的注意力结果合并回一个张量\n",
    "        输入: [batch_size, num_heads, seq_len, head_dim]\n",
    "        输出: [batch_size, seq_len, hidden_size]\n",
    "        \"\"\"\n",
    "        bs, _, seq_len, _ = x.shape  # 获取 batch_size 和序列长度\n",
    "        return x.permute(0, 2, 1, 3).reshape(bs, seq_len, self.hidden_size)  # 重新排列维度并恢复原形状\n",
    "\n",
    "    def forward(self, querys, keys, values, attn_mask=None) -> AttentionOutput: # -> 表示返回值类型\n",
    "        \"\"\"\n",
    "        前向传播计算注意力机制\n",
    "        输入:\n",
    "            querys: [batch_size, seq_len, hidden_size]\n",
    "            keys:   [batch_size, seq_len, hidden_size]\n",
    "            values: [batch_size, seq_len, hidden_size]\n",
    "            attn_mask: [batch_size, 1, seq_len, seq_len] (可选)\n",
    "        输出:\n",
    "            AttentionOutput(hidden_states=[batch_size, seq_len, hidden_size], attn_scores=[batch_size, num_heads, seq_len, seq_len])\n",
    "        \"\"\"\n",
    "\n",
    "        # 线性变换获取 Q、K、V，并拆分为多个头\n",
    "        querys = self._split_heads(self.Wq(querys))  # [batch_size, num_heads, seq_len, head_dim]\n",
    "        keys = self._split_heads(self.Wk(keys))      # [batch_size, num_heads, seq_len, head_dim]\n",
    "        values = self._split_heads(self.Wv(values))  # [batch_size, num_heads, seq_len, head_dim]\n",
    "\n",
    "        # 计算 Q 和 K 之间的点积注意力分数，两个张量相乘只会对最后两个维度进行计算 [seq_len, head_dim] x [head_dim, seq_len] = [seq_len, seq_len]\n",
    "        qk_logits = torch.matmul(querys, keys.mT)  # [batch_size, num_heads, seq_len, seq_len]\n",
    "\n",
    "        # 如果提供了注意力 mask，则应用它\n",
    "        if attn_mask is not None:\n",
    "            attn_mask = attn_mask[:, :, : querys.shape[-2], : keys.shape[-2]]  # 调整 mask 尺寸\n",
    "            qk_logits += attn_mask * -1e9  # 将需要 mask 的部分赋值为负无穷\n",
    "\n",
    "        # 计算注意力权重（Softmax 归一化）\n",
    "        # dim等于那个维度，就是把那个维度给消除了，比如说shape=(2,3,4),如果dim=0,最后的结果的shape=(3,4),如果dim=1,最后的结果的shape=(2,4)，如果dim=2的话，最后的结果的shape=(2,3)\n",
    "        attn_scores = F.softmax(qk_logits / (self.head_dim**0.5), dim=-1)  # [batch_size, num_heads, seq_len, seq_len]\n",
    "\n",
    "        # 计算注意力加权求和 [seq_len, seq_len] x [seq_len, head_dim] = [seq_len, head_dim]\n",
    "        embeds = torch.matmul(attn_scores, values)  # [batch_size, num_heads, seq_len, head_dim]\n",
    "\n",
    "        # 重新合并多头的输出 [batch_size, num_heads, seq_len, hidden_dim] -> [batch_size, seq_len, hidden_size]\n",
    "        embeds = self.Wo(self._merge_heads(embeds))  # [batch_size, seq_len, hidden_size]\n",
    "\n",
    "        # 返回注意力输出\n",
    "        return AttentionOutput(hidden_states=embeds, attn_scores=attn_scores)"
   ],
   "outputs": [],
   "execution_count": 27
  },
  {
   "cell_type": "code",
   "metadata": {
    "execution": {
     "iopub.execute_input": "2025-02-16T14:52:12.569641Z",
     "iopub.status.busy": "2025-02-16T14:52:12.569325Z",
     "iopub.status.idle": "2025-02-16T14:52:12.576908Z",
     "shell.execute_reply": "2025-02-16T14:52:12.576228Z",
     "shell.execute_reply.started": "2025-02-16T14:52:12.569615Z"
    },
    "ExecuteTime": {
     "end_time": "2025-02-23T13:26:21.253492Z",
     "start_time": "2025-02-23T13:26:21.244829Z"
    }
   },
   "source": [
    "# 例子：测试 MultiHeadAttention\n",
    "mha = MultiHeadAttention({\"num_heads\": 2, \"d_model\": 2})  # 创建多头注意力实例\n",
    "query = torch.randn(2, 3, 2)  # [batch_size, seq_len, hidden_size]\n",
    "query /= query.norm(dim=-1, keepdim=True)  # 归一化\n",
    "key_value = torch.randn(2, 4, 2)  # [batch_size, seq_len, hidden_size]\n",
    "print(f'key_value.shape {key_value.shape}')  # 打印 key_value 的形状\n",
    "\n",
    "# 计算注意力\n",
    "outputs = mha(query, key_value, key_value)  \n",
    "\n",
    "# 打印最终输出的形状\n",
    "print(outputs.hidden_states.shape)  # 期待输出: [2, 3, 2]\n",
    "print(outputs.attn_scores.shape)  # 期待输出: [2, 2, 3, 4] (batch_size, num_heads, seq_len, seq_len)"
   ],
   "outputs": [
    {
     "name": "stdout",
     "output_type": "stream",
     "text": [
      "key_value.shape torch.Size([2, 4, 2])\n",
      "torch.Size([2, 3, 2])\n",
      "torch.Size([2, 2, 3, 4])\n"
     ]
    }
   ],
   "execution_count": 28
  },
  {
   "cell_type": "code",
   "metadata": {
    "execution": {
     "iopub.execute_input": "2025-02-16T14:52:12.577983Z",
     "iopub.status.busy": "2025-02-16T14:52:12.577692Z",
     "iopub.status.idle": "2025-02-16T14:52:12.583279Z",
     "shell.execute_reply": "2025-02-16T14:52:12.582620Z",
     "shell.execute_reply.started": "2025-02-16T14:52:12.577958Z"
    },
    "ExecuteTime": {
     "end_time": "2025-02-23T13:26:21.259681Z",
     "start_time": "2025-02-23T13:26:21.254491Z"
    }
   },
   "source": [
    "# 例子：生成一个随机的 2x3 张量，模拟输入数据\n",
    "x = torch.randn(2, 3)\n",
    "\n",
    "# 在最后一个维度 (-1 维，即列方向) 进行 softmax 归一化\n",
    "# softmax 作用：将输入张量转换为概率分布，使得每一行的值之和为 1\n",
    "x_softmax = F.softmax(x, dim=-1)\n",
    "\n",
    "# 打印 softmax 计算后的张量\n",
    "print(x_softmax)"
   ],
   "outputs": [
    {
     "name": "stdout",
     "output_type": "stream",
     "text": [
      "tensor([[0.7946, 0.1312, 0.0741],\n",
      "        [0.2836, 0.2315, 0.4849]])\n"
     ]
    }
   ],
   "execution_count": 29
  },
  {
   "cell_type": "code",
   "metadata": {
    "collapsed": false,
    "execution": {
     "iopub.execute_input": "2025-02-16T14:52:12.584347Z",
     "iopub.status.busy": "2025-02-16T14:52:12.584043Z",
     "iopub.status.idle": "2025-02-16T14:52:13.058818Z",
     "shell.execute_reply": "2025-02-16T14:52:13.058068Z",
     "shell.execute_reply.started": "2025-02-16T14:52:12.584321Z"
    },
    "jupyter": {
     "outputs_hidden": false
    },
    "ExecuteTime": {
     "end_time": "2025-02-23T13:26:21.466450Z",
     "start_time": "2025-02-23T13:26:21.260679Z"
    }
   },
   "source": [
    "# 例子：创建一个子图网格，其维度由 outputs.attn_scores.shape[:2] 决定\n",
    "# outputs.attn_scores.shape[:2] 代表 [batch_size, num_heads]\n",
    "# 例如，如果 outputs.attn_scores 形状为 (2, 2, 3, 4)，则创建 2x2 的子图网格\n",
    "fig, axis = plt.subplots(*outputs.attn_scores.shape[:2])\n",
    "\n",
    "# 遍历 batch 维度（i 代表 batch_size）\n",
    "for i in range(query.shape[0]):  # batch_size\n",
    "    # 遍历多头注意力维度（j 代表 num_heads）\n",
    "    for j in range(outputs.attn_scores.shape[1]):  # num_heads\n",
    "        # 在 axis[i, j] 位置绘制当前头的注意力分数热图\n",
    "        # outputs.attn_scores[i, j] 形状为 (seq_len, seq_len)\n",
    "        # detach().numpy() 将 PyTorch 张量转换为 NumPy 数组，便于可视化\n",
    "        axis[i, j].matshow(outputs.attn_scores[i, j].detach().numpy())\n",
    "\n",
    "        # 遍历行 (query 序列长度)\n",
    "        for x in range(outputs.attn_scores.shape[2]):  # seq_len (query)\n",
    "            # 遍历列 (key 序列长度)\n",
    "            for y in range(outputs.attn_scores.shape[3]):  # seq_len (key)\n",
    "                # 在热图上添加文字，显示每个 (x, y) 位置的注意力分数\n",
    "                # 格式化为两位小数，文本居中，并使用白色字体\n",
    "                axis[i, j].text(\n",
    "                    y, x, \n",
    "                    f\"{outputs.attn_scores[i, j, x, y]:.2f}\", \n",
    "                    ha=\"center\", va=\"center\", color=\"w\"\n",
    "                )\n",
    "\n",
    "# 设置图表标题\n",
    "fig.suptitle(\"multi head attention without mask\")\n",
    "\n",
    "# 显示图像\n",
    "plt.show()"
   ],
   "outputs": [
    {
     "data": {
      "text/plain": [
       "<Figure size 640x480 with 4 Axes>"
      ],
      "image/png": "[encoded data removed]"
     },
     "metadata": {},
     "output_type": "display_data"
    }
   ],
   "execution_count": 30
  },
  {
   "cell_type": "code",
   "metadata": {
    "collapsed": false,
    "execution": {
     "iopub.execute_input": "2025-02-16T14:52:13.060141Z",
     "iopub.status.busy": "2025-02-16T14:52:13.059771Z",
     "iopub.status.idle": "2025-02-16T14:52:13.386084Z",
     "shell.execute_reply": "2025-02-16T14:52:13.385201Z",
     "shell.execute_reply.started": "2025-02-16T14:52:13.060112Z"
    },
    "jupyter": {
     "outputs_hidden": false
    },
    "ExecuteTime": {
     "end_time": "2025-02-23T13:26:21.654434Z",
     "start_time": "2025-02-23T13:26:21.466450Z"
    }
   },
   "source": [
    "# 例子：构造一个手动指定的 Mask 矩阵\n",
    "# 形状为 (1, 1, 3, 4)，用于屏蔽部分注意力权重\n",
    "# 其中 1 代表被屏蔽（会被赋予 -∞ 值，使其 softmax 后趋近于 0）\n",
    "mask = torch.Tensor([\n",
    "    [0, 0, 1, 1],  # 第 1 行：屏蔽后两个位置\n",
    "    [0, 0, 0, 1],  # 第 2 行：屏蔽最后一个位置\n",
    "    [0, 0, 0, 0]   # 第 3 行：不过滤任何位置\n",
    "]).reshape(1, 1, 3, 4)  # 形状调整为 (batch_size=1, num_heads=1, query_len=3, key_len=4)\n",
    "\n",
    "# 进行带 Mask 的多头注意力计算\n",
    "outputs_masked = mha(query, key_value, key_value, mask)\n",
    "\n",
    "# 创建子图网格，其维度由 outputs_masked.attn_scores.shape[:2] 决定\n",
    "# 对应 (batch_size, num_heads)\n",
    "fig, axis = plt.subplots(*outputs_masked.attn_scores.shape[:2])\n",
    "\n",
    "# 遍历 batch 维度（i 代表 batch_size）\n",
    "for i in range(query.shape[0]):  # batch_size\n",
    "    # 遍历多头注意力维度（j 代表 num_heads）\n",
    "    for j in range(outputs_masked.attn_scores.shape[1]):  # num_heads\n",
    "        # 绘制注意力分数热图（matshow 用于可视化矩阵）\n",
    "        axis[i, j].matshow(outputs_masked.attn_scores[i, j].detach().numpy())\n",
    "\n",
    "        # 遍历 query 维度（行数）\n",
    "        for x in range(outputs_masked.attn_scores.shape[2]):  # seq_len (query)\n",
    "            # 遍历 key 维度（列数）\n",
    "            for y in range(outputs_masked.attn_scores.shape[3]):  # seq_len (key)\n",
    "                # 在热图上叠加数值，格式化为两位小数\n",
    "                axis[i, j].text(\n",
    "                    y, x,\n",
    "                    f\"{outputs_masked.attn_scores[i, j, x, y]:.2f}\",\n",
    "                    ha=\"center\", va=\"center\", color=\"w\"\n",
    "                )\n",
    "\n",
    "# 设置标题，标识该注意力计算使用了 Mask\n",
    "fig.suptitle(\"multi head attention with mask\")\n",
    "\n",
    "# 显示图像\n",
    "plt.show()"
   ],
   "outputs": [
    {
     "data": {
      "text/plain": [
       "<Figure size 640x480 with 4 Axes>"
      ],
      "image/png": "[encoded data removed]"
     },
     "metadata": {},
     "output_type": "display_data"
    }
   ],
   "execution_count": 31
  },
  {
   "cell_type": "markdown",
   "metadata": {
    "id": "GkzzrRWVN4yE"
   },
   "source": [
    "#### Transformer-Block"
   ]
  },
  {
   "cell_type": "code",
   "metadata": {
    "execution": {
     "iopub.execute_input": "2025-02-16T14:52:13.387618Z",
     "iopub.status.busy": "2025-02-16T14:52:13.387261Z",
     "iopub.status.idle": "2025-02-16T14:52:13.400473Z",
     "shell.execute_reply": "2025-02-16T14:52:13.399661Z",
     "shell.execute_reply.started": "2025-02-16T14:52:13.387589Z"
    },
    "id": "b16xpL47N4yE",
    "ExecuteTime": {
     "end_time": "2025-02-23T13:26:21.663570Z",
     "start_time": "2025-02-23T13:26:21.655435Z"
    }
   },
   "source": [
    "# @dataclass 装饰器：为TransformerBlockOutput类自动生成 __init__()、__repr__()、__eq__() 等方法。\n",
    "@dataclass\n",
    "class TransformerBlockOutput:\n",
    "    # hidden_states: Tensor：表示当前块的输出（即隐藏状态），它包含了该块计算后的结果\n",
    "    hidden_states: Tensor\n",
    "    # self_attn_scores: Tensor：表示自注意力机制计算的注意力分数（self-attention scores）\n",
    "    self_attn_scores: Tensor\n",
    "    # cross_attn_scores: Optional[Tensor] = None：表示交叉注意力机制计算的注意力分数（cross-attention scores）。这个字段是可选的，只有在有交叉注意力时才会被使用。\n",
    "    cross_attn_scores: Optional[Tensor] = None\n",
    "\n",
    "# TransformerBlock 类，继承自 nn.Module，定义了一个标准的 Transformer 编码器块。\n",
    "class TransformerBlock(nn.Module):\n",
    "    def __init__(self, config, add_cross_attention=False):\n",
    "        super().__init__()\n",
    "\n",
    "        # 从配置中获取超参数\n",
    "        self.hidden_size = config[\"d_model\"]  # 模型的隐藏层大小\n",
    "        self.num_heads = config[\"num_heads\"]  # 多头注意力机制的头数\n",
    "        dropout_rate = config[\"dropout\"]  # dropout 的比例\n",
    "        ffn_dim = config[\"dim_feedforward\"]  # 前馈神经网络（FFN）的维度\n",
    "        eps = config[\"layer_norm_eps\"]  # 层归一化的 epsilon 值\n",
    "\n",
    "        # 自注意力机制\n",
    "        self.self_atten = MultiHeadAttention(config)  # 多头自注意力\n",
    "        self.self_ln = nn.LayerNorm(self.hidden_size, eps=eps)  # 自注意力后的层归一化\n",
    "        self.self_dropout = nn.Dropout(dropout_rate)  # 自注意力后的 dropout\n",
    "\n",
    "        # 交叉注意力机制，仅在解码器中使用\n",
    "        if add_cross_attention:\n",
    "            self.cross_atten = MultiHeadAttention(config)  # 多头交叉注意力\n",
    "            self.cross_ln = nn.LayerNorm(self.hidden_size, eps=eps)  # 交叉注意力后的层归一化\n",
    "            self.cross_dropout = nn.Dropout(dropout_rate)  # 交叉注意力后的 dropout\n",
    "        else:\n",
    "            self.cross_atten = None  # 如果没有交叉注意力，则为 None\n",
    "\n",
    "        # 前馈神经网络（FFN）\n",
    "        self.ffn = nn.Sequential(\n",
    "            nn.Linear(self.hidden_size, ffn_dim),  # 输入经过一个线性层\n",
    "            nn.ReLU(),  # ReLU 激活函数\n",
    "            nn.Linear(ffn_dim, self.hidden_size),  # 输出通过另一个线性层\n",
    "        )\n",
    "        self.ffn_ln = nn.LayerNorm(self.hidden_size, eps=eps)  # FFN 输出后的层归一化\n",
    "        self.ffn_dropout = nn.Dropout(dropout_rate)  # FFN 输出后的 dropout\n",
    "\n",
    "    def forward(\n",
    "        self,\n",
    "        hidden_states,\n",
    "        attn_mask=None,\n",
    "        encoder_outputs=None,\n",
    "        cross_attn_mask=None,\n",
    "    ):\n",
    "        # 自注意力机制\n",
    "        self_atten_output = self.self_atten(\n",
    "            hidden_states, hidden_states, hidden_states, attn_mask\n",
    "        )\n",
    "        # self_atten_output 包含了 self_attn_scores 和 hidden_states\n",
    "        self_embeds = self.self_ln(\n",
    "            hidden_states + self.self_dropout(self_atten_output.hidden_states)\n",
    "        )  # 多头注意力输出后进行残差连接和层归一化\n",
    "\n",
    "        # 交叉注意力机制（仅在解码器中）\n",
    "        if self.cross_atten is not None:\n",
    "            assert encoder_outputs is not None  # 如果使用交叉注意力，必须传入 encoder 的输出\n",
    "            cross_atten_output = self.cross_atten(\n",
    "                self_embeds, encoder_outputs, encoder_outputs, cross_attn_mask\n",
    "            )  # query 是 self_embeds，key 和 value 是 encoder_outputs\n",
    "            cross_embeds = self.cross_ln(\n",
    "                self_embeds + self.cross_dropout(cross_atten_output.hidden_states)\n",
    "            )  # 交叉注意力输出后进行残差连接和层归一化\n",
    "\n",
    "        # 前馈神经网络（FFN）\n",
    "        embeds = cross_embeds if self.cross_atten is not None else self_embeds  # 如果有交叉注意力，则使用交叉注意力的输出；否则，使用自注意力输出\n",
    "        ffn_output = self.ffn(embeds)  # 前馈神经网络\n",
    "        embeds = self.ffn_ln(embeds + self.ffn_dropout(ffn_output))  # FFN 输出后进行残差连接和层归一化\n",
    "\n",
    "        # 返回包含 hidden_states（最终输出）、self_attn_scores 和 cross_attn_scores 的结果\n",
    "        return TransformerBlockOutput(\n",
    "            hidden_states=embeds,\n",
    "            self_attn_scores=self_atten_output.attn_scores,  # 返回自注意力的注意力分数\n",
    "            cross_attn_scores=cross_atten_output.attn_scores if self.cross_atten is not None else None,  # 返回交叉注意力的注意力分数（如果有交叉注意力）\n",
    "        )"
   ],
   "outputs": [],
   "execution_count": 32
  },
  {
   "cell_type": "markdown",
   "metadata": {
    "id": "tfJIGaohN4yE"
   },
   "source": [
    "#### Encoder"
   ]
  },
  {
   "cell_type": "code",
   "metadata": {
    "execution": {
     "iopub.execute_input": "2025-02-16T14:52:13.402100Z",
     "iopub.status.busy": "2025-02-16T14:52:13.401686Z",
     "iopub.status.idle": "2025-02-16T14:52:13.409852Z",
     "shell.execute_reply": "2025-02-16T14:52:13.409154Z",
     "shell.execute_reply.started": "2025-02-16T14:52:13.402073Z"
    },
    "id": "sTLabHm7N4yE",
    "ExecuteTime": {
     "end_time": "2025-02-23T13:26:21.669291Z",
     "start_time": "2025-02-23T13:26:21.664568Z"
    }
   },
   "source": [
    "from typing import List\n",
    "\n",
    "@dataclass # 定义一个dataclass类来存储TransformerEncoder的输出结果\n",
    "class TransformerEncoderOutput:\n",
    "    # 用于存储TransformerEncoder的输出结果，包含了：\n",
    "    # 1. 最后一层的隐藏状态\n",
    "    # 2. 每层的注意力分数，用于分析模型关注不同位置的程度。\n",
    "    last_hidden_states: Tensor  # 最后一层的隐藏状态输出，包含了经过所有编码层后得到的上下文信息\n",
    "    attn_scores: List[Tensor]   # 每层的自注意力分数，用于可视化模型在每一层的注意力分布\n",
    "\n",
    "# https://pytorch.org/docs/stable/generated/torch.nn.Module.html#torch.nn.Module\n",
    "class TransformerEncoder(nn.Module):\n",
    "    def __init__(self, config):\n",
    "        # 初始化Transformer编码器\n",
    "        super().__init__()\n",
    "        \n",
    "        # 从config中获取编码器的层数\n",
    "        self.num_layers = config[\"num_encoder_layers\"]  \n",
    "\n",
    "        # 使用nn.ModuleList来创建一个包含多个TransformerBlock的列表\n",
    "        # 每个TransformerBlock代表编码器中的一层\n",
    "        # ModuleList是一个可以存储多个子模块（TransformerBlock）的容器\n",
    "        # 在每一层中，输入会经过自注意力层和前馈神经网络层\n",
    "        self.layers = nn.ModuleList(\n",
    "            [TransformerBlock(config) for _ in range(self.num_layers)]  # 依据配置的层数创建每层TransformerBlock\n",
    "        )\n",
    "\n",
    "    def forward(\n",
    "        self, encoder_inputs_embeds, attn_mask=None\n",
    "    ) -> TransformerEncoderOutput:\n",
    "        # 定义前向传播函数，encoder_inputs_embeds是输入的嵌入向量，通常是经过词嵌入和位置编码后的表示\n",
    "        attn_scores = []  # 用于存储每一层计算得到的自注意力分数\n",
    "        embeds = encoder_inputs_embeds  # 将输入的嵌入向量作为编码器的第一层输入\n",
    "\n",
    "        # 遍历每一层的TransformerBlock\n",
    "        for layer in self.layers:\n",
    "            block_outputs = layer(embeds, attn_mask=attn_mask)  # 将输入传入当前层的TransformerBlock\n",
    "            \n",
    "            # 更新embeds为当前层输出的hidden_states\n",
    "            # 作为下一层TransformerBlock的输入\n",
    "            embeds = block_outputs.hidden_states \n",
    "\n",
    "            # 每层的注意力分数存储到attn_scores中\n",
    "            # 这对于后续的可视化或调试非常有用\n",
    "            attn_scores.append(block_outputs.self_attn_scores)  # 每层的自注意力分数\n",
    "\n",
    "        # 返回最后一层的隐藏状态和所有层的注意力分数\n",
    "        return TransformerEncoderOutput(\n",
    "            last_hidden_states=embeds,  # 最后一层的输出作为最终的编码结果\n",
    "            attn_scores=attn_scores  # 每层的自注意力分数\n",
    "        )"
   ],
   "outputs": [],
   "execution_count": 33
  },
  {
   "cell_type": "markdown",
   "metadata": {
    "id": "BEMNj6eBN4yE"
   },
   "source": [
    "#### Decoder"
   ]
  },
  {
   "cell_type": "code",
   "metadata": {
    "execution": {
     "iopub.execute_input": "2025-02-16T14:52:13.411620Z",
     "iopub.status.busy": "2025-02-16T14:52:13.411180Z",
     "iopub.status.idle": "2025-02-16T14:52:13.420117Z",
     "shell.execute_reply": "2025-02-16T14:52:13.419450Z",
     "shell.execute_reply.started": "2025-02-16T14:52:13.411584Z"
    },
    "id": "wCHOur-QN4yE",
    "ExecuteTime": {
     "end_time": "2025-02-23T13:26:21.675818Z",
     "start_time": "2025-02-23T13:26:21.670288Z"
    }
   },
   "source": [
    "@dataclass\n",
    "class TransformerDecoderOutput:\n",
    "    # 用于存储TransformerDecoder的输出结果，包含：\n",
    "    # 1. 最后一层的隐藏状态\n",
    "    # 2. 每层的自注意力分数\n",
    "    # 3. 每层的交叉注意力分数\n",
    "    last_hidden_states: Tensor  # 最后一层的隐藏状态，包含了经过所有解码器层后得到的上下文信息\n",
    "    self_attn_scores: List[Tensor]  # 每层的自注意力分数，用于分析解码器内部如何处理输入序列\n",
    "    cross_attn_scores: List[Tensor]  # 每层的交叉注意力分数，用于分析解码器如何与编码器的输出进行交互\n",
    "\n",
    "class TransformerDecoder(nn.Module):\n",
    "    def __init__(self, config):\n",
    "        # 初始化Transformer解码器\n",
    "        super().__init__()\n",
    "        \n",
    "        # 从config中获取解码器的层数\n",
    "        self.num_layers = config[\"num_decoder_layers\"]  \n",
    "\n",
    "        # 使用nn.ModuleList来创建一个包含多个TransformerBlock的列表\n",
    "        # 每个TransformerBlock代表解码器中的一层\n",
    "        # 在每一层中，输入会经过自注意力层和交叉注意力层，再经过前馈神经网络层\n",
    "        self.layers = nn.ModuleList(\n",
    "            [\n",
    "                TransformerBlock(config, add_cross_attention=True)  # 解码器每层都有交叉注意力机制\n",
    "                for _ in range(self.num_layers)  # 根据配置的层数创建每层TransformerBlock\n",
    "            ]\n",
    "        )\n",
    "\n",
    "    def forward(self, decoder_inputs_embeds, encoder_outputs, attn_mask=None, cross_attn_mask=None,) -> TransformerDecoderOutput:\n",
    "        # 定义前向传播函数，接受解码器的输入嵌入向量、编码器输出以及相应的注意力掩码\n",
    "        self_attn_scores = []  # 用于存储每一层计算得到的自注意力分数\n",
    "        cross_attn_scores = []  # 用于存储每一层计算得到的交叉注意力分数\n",
    "        embeds = decoder_inputs_embeds  # 将解码器输入的嵌入向量作为第一层输入\n",
    "\n",
    "        # 遍历每一层的TransformerBlock\n",
    "        for layer in self.layers:\n",
    "            # 通过当前的TransformerBlock进行前向传播\n",
    "            block_outputs = layer(\n",
    "                embeds,\n",
    "                attn_mask=attn_mask,  # 自注意力的掩码，用于在注意力计算时屏蔽一些无关的位置\n",
    "                encoder_outputs=encoder_outputs,  # 编码器的输出，用于交叉注意力\n",
    "                cross_attn_mask=cross_attn_mask,  # 交叉注意力的掩码，用于屏蔽编码器的无关位置\n",
    "            )\n",
    "            # 更新embeds为当前层输出的hidden_states，作为下一层TransformerBlock的输入\n",
    "            embeds = block_outputs.hidden_states \n",
    "\n",
    "            # 每层的自注意力分数存储到self_attn_scores列表中, 用于画图\n",
    "            self_attn_scores.append(block_outputs.self_attn_scores)\n",
    "            # 每层的交叉注意力分数存储到cross_attn_scores列表中, 用于画图\n",
    "            cross_attn_scores.append(block_outputs.cross_attn_scores)\n",
    "\n",
    "        # 返回最后一层的隐藏状态和每层的自注意力、交叉注意力分数\n",
    "        return TransformerDecoderOutput(\n",
    "            last_hidden_states=embeds,  # 最后一层的输出作为最终的解码器输出\n",
    "            self_attn_scores=self_attn_scores,  # 每层的自注意力分数\n",
    "            cross_attn_scores=cross_attn_scores,  # 每层的交叉注意力分数\n",
    "        )"
   ],
   "outputs": [],
   "execution_count": 34
  },
  {
   "cell_type": "markdown",
   "metadata": {
    "id": "zPrvXAXtN4yF"
   },
   "source": [
    "#### mask\n",
    "\n",
    "- mask实际上大类上只有两种\n",
    "    1. `padding_mask`：mask掉`pad_idx`，不计算损失\n",
    "    2. `attention_mask`：mask掉`pad_idx`，不计算注意力分数\n",
    "- Decoder的`attention_mask`和Encoder有一定的区别：\n",
    "    - Encoder可以同时看见序列所有信息，故只mask掉`pad_idx`\n",
    "    - Decoder只能看到在自身之前的序列的信息，故要额外mask掉自身之后的序列"
   ]
  },
  {
   "cell_type": "code",
   "metadata": {
    "colab": {
     "base_uri": "https://localhost:8080/"
    },
    "execution": {
     "iopub.execute_input": "2025-02-16T14:52:13.421276Z",
     "iopub.status.busy": "2025-02-16T14:52:13.420974Z",
     "iopub.status.idle": "2025-02-16T14:52:13.427716Z",
     "shell.execute_reply": "2025-02-16T14:52:13.426896Z",
     "shell.execute_reply.started": "2025-02-16T14:52:13.421250Z"
    },
    "id": "D2N9VmcAWLn1",
    "outputId": "560b8af9-c854-4fd7-df3e-86e9eb9045cc",
    "ExecuteTime": {
     "end_time": "2025-02-23T13:26:21.682275Z",
     "start_time": "2025-02-23T13:26:21.676821Z"
    }
   },
   "source": [
    "# 例子： 生成下三角的pad_mask\n",
    "(torch.triu(torch.ones(5, 5)) == 0).transpose(-1,-2)"
   ],
   "outputs": [
    {
     "data": {
      "text/plain": [
       "tensor([[False,  True,  True,  True,  True],\n",
       "        [False, False,  True,  True,  True],\n",
       "        [False, False, False,  True,  True],\n",
       "        [False, False, False, False,  True],\n",
       "        [False, False, False, False, False]])"
      ]
     },
     "execution_count": 35,
     "metadata": {},
     "output_type": "execute_result"
    }
   ],
   "execution_count": 35
  },
  {
   "cell_type": "code",
   "metadata": {
    "colab": {
     "base_uri": "https://localhost:8080/",
     "height": 426
    },
    "execution": {
     "iopub.execute_input": "2025-02-16T14:52:13.429232Z",
     "iopub.status.busy": "2025-02-16T14:52:13.428804Z",
     "iopub.status.idle": "2025-02-16T14:52:13.634368Z",
     "shell.execute_reply": "2025-02-16T14:52:13.633548Z",
     "shell.execute_reply.started": "2025-02-16T14:52:13.429192Z"
    },
    "id": "QxpSYOsaN4yF",
    "outputId": "1022d3c3-c72e-4798-b998-c71c6690b94e",
    "ExecuteTime": {
     "end_time": "2025-02-23T13:26:21.801389Z",
     "start_time": "2025-02-23T13:26:21.683273Z"
    }
   },
   "source": [
    "def generate_square_subsequent_mask(sz: int) -> Tensor:\n",
    "    \"\"\"\n",
    "    生成一个方形的后续掩码（Subsequent Mask）。\n",
    "    被屏蔽（mask）的部分填充为 True，未屏蔽的部分填充为 False。\n",
    "    \"\"\"\n",
    "    # torch.ones(sz, sz): 创建一个 sz × sz 的全 1 矩阵\n",
    "    # torch.triu(...): 取得上三角部分（主对角线以上部分为 1，以下部分为 0）\n",
    "    mask = (torch.triu(torch.ones(sz, sz)) == 0).transpose(-1, -2).bool()\n",
    "    \n",
    "    return mask\n",
    "\n",
    "plt.matshow(generate_square_subsequent_mask(16))  # 生成 16x16 的掩码并可视化\n",
    "plt.colorbar()  # 显示颜色条\n",
    "plt.xlabel(\"keys\")  # x 轴代表键（key）\n",
    "plt.ylabel(\"querys\")  # y 轴代表查询（query）\n",
    "plt.title(\"1 means mask while 0 means unmask\")  # 标题：1 表示掩码，0 表示未被掩码\n",
    "plt.show()  # 展示掩码矩阵"
   ],
   "outputs": [
    {
     "data": {
      "text/plain": [
       "<Figure size 480x480 with 2 Axes>"
      ],
      "image/png": "[encoded data removed]"
     },
     "metadata": {},
     "output_type": "display_data"
    }
   ],
   "execution_count": 36
  },
  {
   "cell_type": "code",
   "metadata": {
    "colab": {
     "base_uri": "https://localhost:8080/",
     "height": 960
    },
    "execution": {
     "iopub.execute_input": "2025-02-16T14:52:13.635989Z",
     "iopub.status.busy": "2025-02-16T14:52:13.635607Z",
     "iopub.status.idle": "2025-02-16T14:52:14.305667Z",
     "shell.execute_reply": "2025-02-16T14:52:14.304906Z",
     "shell.execute_reply.started": "2025-02-16T14:52:13.635960Z"
    },
    "id": "cPeMjXO1N4yF",
    "outputId": "e6922ce8-ba71-491f-d7a6-709a14a4b7d7",
    "ExecuteTime": {
     "end_time": "2025-02-23T13:26:22.203443Z",
     "start_time": "2025-02-23T13:26:21.802447Z"
    }
   },
   "source": [
    "# 例子：通过下面代码查看 mask（掩码）的效果\n",
    "# 输入的句子列表\n",
    "inputs_words = [\n",
    "    \"The quick brown fox jumps over the lazy dog .\",\n",
    "    \"What does the fox say ?\"\n",
    "]\n",
    "\n",
    "# 使用 tokenizer 对输入的句子进行编码，同时返回 mask\n",
    "# encode() 方法会将输入的文本转换为对应的 token ID，并返回相应的掩码（mask）\n",
    "inputs_ids, input_mask = tokenizer.encode(\n",
    "    [w.split() for w in inputs_words], return_mask=True\n",
    ")\n",
    "\n",
    "# 遍历每个输入句子，查看它们的编码和掩码效果\n",
    "for i in range(len(inputs_words)):\n",
    "    # 解码当前句子的 token ID，确保不会移除特殊 token（如BOS、EOS、PAD）\n",
    "    decode_text = tokenizer.decode(\n",
    "        inputs_ids[i: i+1].tolist(),\n",
    "        remove_bos=False,  # 不移除句首（BOS）\n",
    "        remove_eos=False,  # 不移除句尾（EOS）\n",
    "        remove_pad=False,  # 不移除填充（PAD）\n",
    "        split=True  # 以列表形式返回\n",
    "    )[0]\n",
    "\n",
    "    print(decode_text)  # 打印解码后的文本\n",
    "\n",
    "    # 生成自注意力掩码（self_attn_mask）\n",
    "    # input_mask[i] 形状为 (seq_len,)，先调整形状为 (1, seq_len)\n",
    "    # 然后重复扩展 seq_len 次，使其变成 (seq_len, seq_len) 形状\n",
    "    self_attn_mask = input_mask[i].reshape(1, -1).repeat_interleave(\n",
    "        inputs_ids.shape[-1], dim=0\n",
    "    )\n",
    "\n",
    "    # 生成未来信息屏蔽掩码（look_ahead_mask）\n",
    "    # 这是 Transformer 解码器中用于防止看到未来单词的掩码\n",
    "    look_ahead_mask = generate_square_subsequent_mask(inputs_ids.shape[-1])\n",
    "\n",
    "    # 绘制掩码矩阵的可视化\n",
    "    fig, axs = plt.subplots(1, 2, figsize=(10, 5))  # 创建 1 行 2 列的子图\n",
    "\n",
    "    # 绘制自注意力掩码（self-attention mask）\n",
    "    axs[0].matshow(self_attn_mask)  # 绘制掩码矩阵\n",
    "    axs[0].set_title(\"self_attn_mask\")  # 设置标题\n",
    "    axs[0].set_yticks(range(len(decode_text)), decode_text, fontsize=6)  # 设置 y 轴刻度\n",
    "    axs[0].set_ylabel(\"queries\")  # y 轴标签（查询）\n",
    "    axs[0].set_xticks(range(len(decode_text)), decode_text, fontsize=6)  # 设置 x 轴刻度\n",
    "    axs[0].set_xlabel(\"keys\")  # x 轴标签（键）\n",
    "\n",
    "    # 绘制未来信息屏蔽掩码（look-ahead mask）\n",
    "    axs[1].matshow(look_ahead_mask)  # 绘制掩码矩阵\n",
    "    axs[1].set_title(\"look_ahead_mask\")  # 设置标题\n",
    "    axs[1].set_yticks(range(len(decode_text)), decode_text, fontsize=6)  # 设置 y 轴刻度\n",
    "    axs[1].set_ylabel(\"queries\")  # y 轴标签（查询）\n",
    "    axs[1].set_xticks(range(len(decode_text)), decode_text, fontsize=6)  # 设置 x 轴刻度\n",
    "    axs[1].set_xlabel(\"keys\")  # x 轴标签（键）\n",
    "\n",
    "    plt.show()  # 显示图像\n",
    "\n",
    "    print('-' * 50)  # 分隔符，方便阅读输出结果"
   ],
   "outputs": [
    {
     "name": "stdout",
     "output_type": "stream",
     "text": [
      "['[BOS]', '[UNK]', 'quick', 'brown', '[UNK]', 'jumps', 'over', 'the', '[UNK]', 'dog', '.', '[EOS]']\n"
     ]
    },
    {
     "data": {
      "text/plain": [
       "<Figure size 1000x500 with 2 Axes>"
      ],
      "image/png": "[encoded data removed]"
     },
     "metadata": {},
     "output_type": "display_data"
    },
    {
     "name": "stdout",
     "output_type": "stream",
     "text": [
      "--------------------------------------------------\n",
      "['[BOS]', '[UNK]', 'does', 'the', '[UNK]', 'say', '?', '[EOS]', '[PAD]', '[PAD]', '[PAD]', '[PAD]']\n"
     ]
    },
    {
     "data": {
      "text/plain": [
       "<Figure size 1000x500 with 2 Axes>"
      ],
      "image/png": "[encoded data removed]"
     },
     "metadata": {},
     "output_type": "display_data"
    },
    {
     "name": "stdout",
     "output_type": "stream",
     "text": [
      "--------------------------------------------------\n"
     ]
    }
   ],
   "execution_count": 37
  },
  {
   "cell_type": "code",
   "metadata": {
    "collapsed": false,
    "execution": {
     "iopub.execute_input": "2025-02-16T14:52:14.306917Z",
     "iopub.status.busy": "2025-02-16T14:52:14.306569Z",
     "iopub.status.idle": "2025-02-16T14:52:14.312675Z",
     "shell.execute_reply": "2025-02-16T14:52:14.311851Z",
     "shell.execute_reply.started": "2025-02-16T14:52:14.306888Z"
    },
    "jupyter": {
     "outputs_hidden": false
    },
    "ExecuteTime": {
     "end_time": "2025-02-23T13:26:22.208278Z",
     "start_time": "2025-02-23T13:26:22.204445Z"
    }
   },
   "source": [
    "# 例子：我随机两个[5, 1, 1, 4]与[1, 1, 4, 4]尺寸的张量，并求和\n",
    "a = torch.randn(5, 1, 1, 4)\n",
    "b = torch.randn(1, 1, 4, 4)\n",
    "(a + b).shape"
   ],
   "outputs": [
    {
     "data": {
      "text/plain": [
       "torch.Size([5, 1, 4, 4])"
      ]
     },
     "execution_count": 38,
     "metadata": {},
     "output_type": "execute_result"
    }
   ],
   "execution_count": 38
  },
  {
   "cell_type": "markdown",
   "metadata": {
    "id": "TelCDOoEN4yF"
   },
   "source": [
    "#### Transformer Model"
   ]
  },
  {
   "cell_type": "code",
   "metadata": {
    "execution": {
     "iopub.execute_input": "2025-02-16T14:52:14.314102Z",
     "iopub.status.busy": "2025-02-16T14:52:14.313577Z",
     "iopub.status.idle": "2025-02-16T14:52:14.334051Z",
     "shell.execute_reply": "2025-02-16T14:52:14.333239Z",
     "shell.execute_reply.started": "2025-02-16T14:52:14.314075Z"
    },
    "id": "oFGNt8FPN4yF",
    "ExecuteTime": {
     "end_time": "2025-02-23T13:26:22.219323Z",
     "start_time": "2025-02-23T13:26:22.208278Z"
    }
   },
   "source": [
    "@dataclass \n",
    "class TransformerOutput:\n",
    "    logits: Tensor  # 预测的输出 logits，表示模型对每个词的概率分布\n",
    "    encoder_last_hidden_states: Tensor  # 编码器的最终隐藏状态\n",
    "    encoder_attn_scores: List[Tensor]  # 编码器的自注意力得分（用于可视化）\n",
    "    decoder_last_hidden_states: Tensor  # 解码器的最终隐藏状态\n",
    "    decoder_self_attn_scores: List[Tensor]  # 解码器的自注意力得分（用于可视化）\n",
    "    decoder_cross_attn_scores: List[Tensor]  # 解码器的交叉注意力得分（用于可视化）\n",
    "    preds: Optional[Tensor] = None  # 推理时的最终预测结果\n",
    "\n",
    "class TransformerModel(nn.Module):\n",
    "    def __init__(self, config):\n",
    "        super().__init__()\n",
    "        # 超参数（Transformer的关键参数）\n",
    "        self.hidden_size = config[\"d_model\"]  # 模型的隐藏层大小\n",
    "        self.num_encoder_layers = config[\"num_encoder_layers\"]  # 编码器层数\n",
    "        self.num_decoder_layers = config[\"num_decoder_layers\"]  # 解码器层数\n",
    "        self.pad_idx = config[\"pad_idx\"]  # PAD标记索引\n",
    "        self.bos_idx = config[\"bos_idx\"]  # 句子起始标记索引\n",
    "        self.eos_idx = config[\"eos_idx\"]  # 句子结束标记索引\n",
    "        self.vocab_size = config[\"vocab_size\"]  # 词汇表大小\n",
    "        self.dropout_rate = config[\"dropout\"]  # dropout 比例\n",
    "        self.max_length = config[\"max_length\"]  # 生成的最大句子长度\n",
    "        self.share = config[\"share_embedding\"]  # 是否共享词嵌入\n",
    "\n",
    "        # 词嵌入层\n",
    "        self.src_embedding = TransformerEmbedding(config)  # 源语言嵌入层\n",
    "        if self.share:  # 如果共享词嵌入，则目标语言的嵌入层与源语言相同\n",
    "            self.trg_embedding = self.src_embedding  # 共享参数，节省内存\n",
    "            self.linear = lambda x: torch.matmul(\n",
    "                x, self.trg_embedding.get_word_embedding_weights().T\n",
    "            )  # 输出层共享参数，使用嵌入矩阵的转置\n",
    "        else:\n",
    "            self.trg_embedding = TransformerEmbedding(config)  # 目标语言的嵌入层\n",
    "            self.linear = nn.Linear(self.hidden_size, self.vocab_size)  # 独立的输出层\n",
    "\n",
    "        # Transformer 编码器和解码器\n",
    "        self.encoder = TransformerEncoder(config)\n",
    "        self.decoder = TransformerDecoder(config)\n",
    "\n",
    "        # 初始化权重\n",
    "        self._init_weights()\n",
    "\n",
    "    def _init_weights(self):\n",
    "        \"\"\"使用 Xavier 均匀分布初始化权重\"\"\"\n",
    "        for p in self.parameters():\n",
    "            if p.dim() > 1:\n",
    "                nn.init.xavier_uniform_(p)\n",
    "\n",
    "    def generate_square_subsequent_mask(self, sz: int) -> Tensor:\n",
    "        \"\"\"\n",
    "        生成一个下三角掩码矩阵（用于自回归解码）\n",
    "        被掩码的位置填充 True，未掩码的位置填充 False\n",
    "        \"\"\"\n",
    "        mask = (torch.triu(torch.ones(sz, sz)) == 0).transpose(-1, -2).bool()\n",
    "        return mask\n",
    "\n",
    "    def forward(\n",
    "        self, encoder_inputs, decoder_inputs, encoder_inputs_mask=None\n",
    "    ) -> TransformerOutput:\n",
    "        \"\"\"\n",
    "        Transformer 模型的前向传播\n",
    "        encoder_inputs: [batch_size, src_len] 输入的源语言序列\n",
    "        decoder_inputs: [batch_size, trg_len] 输入的目标语言序列\n",
    "        encoder_inputs_mask: [batch_size, src_len] 源语言的掩码\n",
    "        \"\"\"\n",
    "        if encoder_inputs_mask is None:\n",
    "            encoder_inputs_mask = encoder_inputs.eq(self.pad_idx)  # [batch_size, src_len] pad 位置为 True\n",
    "        encoder_inputs_mask = encoder_inputs_mask.unsqueeze(1).unsqueeze(2)  # 适配多头注意力的输入形状 [batch_size, 1, 1, src_len]\n",
    "\n",
    "        # 生成解码器的掩码\n",
    "        look_ahead_mask = self.generate_square_subsequent_mask(decoder_inputs.shape[1])\n",
    "        look_ahead_mask = (\n",
    "            look_ahead_mask.unsqueeze(0).unsqueeze(0).to(decoder_inputs.device)\n",
    "        )  # 形状变换 [1, 1, trg_len, trg_len]\n",
    "        decoder_inputs_mask = decoder_inputs.eq(self.pad_idx).unsqueeze(1).unsqueeze(2)  # [batch_size, 1, 1, trg_len]\n",
    "        decoder_inputs_mask = decoder_inputs_mask + look_ahead_mask  # 组合两种掩码\n",
    "\n",
    "        # 编码\n",
    "        encoder_inputs_embeds = self.src_embedding(encoder_inputs)\n",
    "        encoder_outputs = self.encoder(encoder_inputs_embeds, encoder_inputs_mask)\n",
    "\n",
    "        # 解码\n",
    "        decoder_inputs_embeds = self.trg_embedding(decoder_inputs)\n",
    "        decoder_outputs = self.decoder(\n",
    "            decoder_inputs_embeds=decoder_inputs_embeds,\n",
    "            encoder_outputs=encoder_outputs.last_hidden_states,\n",
    "            attn_mask=decoder_inputs_mask,\n",
    "            cross_attn_mask=encoder_inputs_mask,\n",
    "        )\n",
    "\n",
    "        logits = self.linear(decoder_outputs.last_hidden_states)  # 计算最终输出的 logits\n",
    "\n",
    "        return TransformerOutput(\n",
    "            logits=logits,\n",
    "            encoder_last_hidden_states=encoder_outputs.last_hidden_states,\n",
    "            encoder_attn_scores=encoder_outputs.attn_scores,\n",
    "            decoder_last_hidden_states=decoder_outputs.last_hidden_states,\n",
    "            decoder_self_attn_scores=decoder_outputs.self_attn_scores,\n",
    "            decoder_cross_attn_scores=decoder_outputs.cross_attn_scores,\n",
    "        )\n",
    "\n",
    "    @torch.no_grad()\n",
    "    def infer(self, encoder_inputs, encoder_inputs_mask=None) -> Tensor:\n",
    "        \"\"\" Transformer 推理 \"\"\"\n",
    "        if encoder_inputs_mask is None:\n",
    "            encoder_inputs_mask = encoder_inputs.eq(self.pad_idx)\n",
    "        encoder_inputs_mask = encoder_inputs_mask.unsqueeze(1).unsqueeze(2)\n",
    "        look_ahead_mask = self.generate_square_subsequent_mask(self.max_length)\n",
    "        look_ahead_mask = look_ahead_mask.unsqueeze(0).unsqueeze(0).to(encoder_inputs.device)\n",
    "\n",
    "        # 编码过程\n",
    "        encoder_inputs_embeds = self.src_embedding(encoder_inputs)\n",
    "        encoder_outputs = self.encoder(encoder_inputs_embeds)\n",
    "\n",
    "        # 解码过程（自回归）\n",
    "        decoder_inputs = torch.Tensor([self.bos_idx] * encoder_inputs.shape[0]).reshape(-1, 1).long().to(device=encoder_inputs.device)\n",
    "        for cur_len in tqdm(range(1, self.max_length + 1)):\n",
    "            decoder_inputs_embeds = self.trg_embedding(decoder_inputs)\n",
    "            decoder_outputs = self.decoder(\n",
    "                decoder_inputs_embeds=decoder_inputs_embeds,\n",
    "                encoder_outputs=encoder_outputs.last_hidden_states,\n",
    "                attn_mask=look_ahead_mask[:, :, :cur_len, :cur_len],\n",
    "            )\n",
    "            logits = self.linear(decoder_outputs.last_hidden_states)\n",
    "            next_token = logits.argmax(dim=-1)[:, -1:]\n",
    "            decoder_inputs = torch.cat([decoder_inputs, next_token], dim=-1)\n",
    "            if all((decoder_inputs == self.eos_idx).sum(dim=-1) > 0):\n",
    "                break\n",
    "\n",
    "        return TransformerOutput(\n",
    "            preds=decoder_inputs[:, 1:],\n",
    "            logits=logits,\n",
    "            encoder_last_hidden_states=encoder_outputs.last_hidden_states,\n",
    "            encoder_attn_scores=encoder_outputs.attn_scores,\n",
    "            decoder_last_hidden_states=decoder_outputs.last_hidden_states,\n",
    "            decoder_self_attn_scores=decoder_outputs.self_attn_scores,\n",
    "            decoder_cross_attn_scores=decoder_outputs.cross_attn_scores,\n",
    "        )"
   ],
   "outputs": [],
   "execution_count": 39
  },
  {
   "cell_type": "markdown",
   "metadata": {
    "id": "kXHQ3sGTN4yG"
   },
   "source": [
    "## 训练"
   ]
  },
  {
   "cell_type": "markdown",
   "metadata": {
    "id": "OxNA8DIzN4yG"
   },
   "source": [
    "### 损失函数"
   ]
  },
  {
   "cell_type": "code",
   "metadata": {
    "execution": {
     "iopub.execute_input": "2025-02-16T14:52:14.335341Z",
     "iopub.status.busy": "2025-02-16T14:52:14.335073Z",
     "iopub.status.idle": "2025-02-16T14:52:14.341649Z",
     "shell.execute_reply": "2025-02-16T14:52:14.340814Z",
     "shell.execute_reply.started": "2025-02-16T14:52:14.335316Z"
    },
    "id": "1xzahHANN4yG",
    "ExecuteTime": {
     "end_time": "2025-02-23T13:26:22.224493Z",
     "start_time": "2025-02-23T13:26:22.220478Z"
    }
   },
   "source": [
    "class CrossEntropyWithPadding:\n",
    "    def __init__(self, config):\n",
    "        # 初始化时读取配置中的标签平滑参数\n",
    "        self.label_smoothing = config[\"label_smoothing\"]\n",
    "\n",
    "    def __call__(self, logits, labels, padding_mask=None):\n",
    "        # logits.shape = [batch size, sequence length, num of classes]\n",
    "        # labels.shape = [batch size, sequence length]\n",
    "        # padding_mask.shape = [batch size, sequence length]\n",
    "\n",
    "        bs, seq_len, nc = logits.shape  # 获取批次大小、序列长度和类别数\n",
    "        # 计算交叉熵损失\n",
    "        # 将logits调整为[batch size * sequence length, num of classes]的形状\n",
    "        # 将labels调整为一维，大小为[batch size * sequence length]\n",
    "        # 如果有标签平滑，交叉熵损失会被平滑\n",
    "        loss = F.cross_entropy(logits.reshape(bs * seq_len, nc), labels.reshape(-1), reduce=False, label_smoothing=self.label_smoothing)\n",
    "        # 如果没有padding_mask，则直接返回平均损失\n",
    "        if padding_mask is None:\n",
    "            loss = loss.mean()\n",
    "        else:\n",
    "            # 如果有padding_mask，将其调整为一维张量，mask部分为0，非mask部分为1\n",
    "            padding_mask = 1 - padding_mask.reshape(-1)\n",
    "            # 对于非padding部分的损失进行加权求和\n",
    "            # padding_mask为0的部分损失会被忽略，padding_mask为1的部分损失会参与计算\n",
    "            loss = torch.mul(loss, padding_mask).sum() / padding_mask.sum()\n",
    "\n",
    "        return loss  # 返回最终的损失值"
   ],
   "outputs": [],
   "execution_count": 40
  },
  {
   "cell_type": "markdown",
   "metadata": {
    "id": "zuBC9KqFN4yG"
   },
   "source": [
    "### 学习率衰减"
   ]
  },
  {
   "cell_type": "code",
   "metadata": {
    "collapsed": false,
    "execution": {
     "iopub.execute_input": "2025-02-16T14:52:14.342864Z",
     "iopub.status.busy": "2025-02-16T14:52:14.342546Z",
     "iopub.status.idle": "2025-02-16T14:52:14.501745Z",
     "shell.execute_reply": "2025-02-16T14:52:14.501044Z",
     "shell.execute_reply.started": "2025-02-16T14:52:14.342830Z"
    },
    "jupyter": {
     "outputs_hidden": false
    },
    "ExecuteTime": {
     "end_time": "2025-02-23T13:26:22.326671Z",
     "start_time": "2025-02-23T13:26:22.227530Z"
    }
   },
   "source": [
    "x=np.arange(1, 40000)\n",
    "plt.plot(x, x * (4000 ** (-1.5)))"
   ],
   "outputs": [
    {
     "data": {
      "text/plain": [
       "[<matplotlib.lines.Line2D at 0x22783774c80>]"
      ]
     },
     "execution_count": 41,
     "metadata": {},
     "output_type": "execute_result"
    },
    {
     "data": {
      "text/plain": [
       "<Figure size 640x480 with 1 Axes>"
      ],
      "image/png": "[encoded data removed]"
     },
     "metadata": {},
     "output_type": "display_data"
    }
   ],
   "execution_count": 41
  },
  {
   "cell_type": "code",
   "metadata": {
    "collapsed": false,
    "execution": {
     "iopub.execute_input": "2025-02-16T14:52:14.503025Z",
     "iopub.status.busy": "2025-02-16T14:52:14.502683Z",
     "iopub.status.idle": "2025-02-16T14:52:14.508129Z",
     "shell.execute_reply": "2025-02-16T14:52:14.507357Z",
     "shell.execute_reply.started": "2025-02-16T14:52:14.502996Z"
    },
    "jupyter": {
     "outputs_hidden": false
    },
    "ExecuteTime": {
     "end_time": "2025-02-23T13:26:22.330917Z",
     "start_time": "2025-02-23T13:26:22.327670Z"
    }
   },
   "source": [
    "np.sqrt(512)"
   ],
   "outputs": [
    {
     "data": {
      "text/plain": [
       "np.float64(22.627416997969522)"
      ]
     },
     "execution_count": 42,
     "metadata": {},
     "output_type": "execute_result"
    }
   ],
   "execution_count": 42
  },
  {
   "cell_type": "code",
   "metadata": {
    "colab": {
     "base_uri": "https://localhost:8080/",
     "height": 449
    },
    "execution": {
     "iopub.execute_input": "2025-02-16T14:52:14.509262Z",
     "iopub.status.busy": "2025-02-16T14:52:14.508921Z",
     "iopub.status.idle": "2025-02-16T14:52:14.647170Z",
     "shell.execute_reply": "2025-02-16T14:52:14.646456Z",
     "shell.execute_reply.started": "2025-02-16T14:52:14.509235Z"
    },
    "id": "UQPiKK4nN4yG",
    "outputId": "63cfb132-ef75-4f94-f0c8-86a2f36e09c2",
    "ExecuteTime": {
     "end_time": "2025-02-23T13:26:22.413530Z",
     "start_time": "2025-02-23T13:26:22.330917Z"
    }
   },
   "source": [
    "# NoamDecayScheduler 是一个自定义或外部定义的学习率衰减调度器类。它需要接收配置 config 作为参数，可能实现了特定的学习率衰减方案\n",
    "class NoamDecayScheduler:\n",
    "    def __init__(self, config):\n",
    "        self.d_model = config[\"d_model\"]\n",
    "        self.warmup_steps = config[\"warmup_steps\"]\n",
    "\n",
    "    def __call__(self, step):\n",
    "        step += 1\n",
    "        arg1 = step ** (-0.5) #4000步之后是arg1\n",
    "        arg2 = step * (self.warmup_steps ** (-1.5))  #4000步之前是arg2\n",
    "\n",
    "        arg3 = self.d_model ** (-0.5)\n",
    "\n",
    "        return arg3 * np.minimum(arg1, arg2)\n",
    "\n",
    "\n",
    "temp_learning_rate_schedule = NoamDecayScheduler({\"d_model\": 512, \"warmup_steps\": 4000})\n",
    "#下面是学习率的设计图\n",
    "plt.plot(temp_learning_rate_schedule(np.arange(0, 40000)))\n",
    "plt.ylabel(\"Leraning rate\")\n",
    "plt.xlabel(\"Train step\")\n",
    "plt.show()"
   ],
   "outputs": [
    {
     "data": {
      "text/plain": [
       "<Figure size 640x480 with 1 Axes>"
      ],
      "image/png": "[encoded data removed]"
     },
     "metadata": {},
     "output_type": "display_data"
    }
   ],
   "execution_count": 43
  },
  {
   "cell_type": "markdown",
   "metadata": {
    "id": "XHj_EjzlN4yW"
   },
   "source": [
    "### 优化器"
   ]
  },
  {
   "cell_type": "code",
   "metadata": {
    "execution": {
     "iopub.execute_input": "2025-02-16T14:52:14.648401Z",
     "iopub.status.busy": "2025-02-16T14:52:14.648062Z",
     "iopub.status.idle": "2025-02-16T14:52:14.653579Z",
     "shell.execute_reply": "2025-02-16T14:52:14.652924Z",
     "shell.execute_reply.started": "2025-02-16T14:52:14.648373Z"
    },
    "id": "1EVLKx2rN4yW",
    "ExecuteTime": {
     "end_time": "2025-02-23T13:26:22.417886Z",
     "start_time": "2025-02-23T13:26:22.413530Z"
    }
   },
   "source": [
    "from torch.optim.lr_scheduler import LambdaLR\n",
    "from torch.optim import Adam\n",
    "\n",
    "def get_optimizer(model, config):\n",
    "    base_lr = 0.1\n",
    "    beta1 = config[\"beta1\"] # Adam 的 beta1\n",
    "    beta2 = config[\"beta2\"] # Adam 的 beta2\n",
    "    eps = config[\"eps\"]\n",
    "    optimizer = Adam(model.parameters(), lr=base_lr, betas=(beta1, beta2), eps=eps)\n",
    "    lr_scheduler = NoamDecayScheduler(config) #config是一个字典，包含了学习率衰减的参数\n",
    "    # 使用 LambdaLR 调度器，它可以根据给定的函数 lr_lambda 调整学习率。这里将 lr_scheduler 作为函数传递给 LambdaLR，它包含了特定于模型或任务的学习率调度规则\n",
    "    scheduler = LambdaLR(optimizer, lr_lambda=lr_scheduler)\n",
    "    return optimizer, scheduler"
   ],
   "outputs": [],
   "execution_count": 44
  },
  {
   "cell_type": "markdown",
   "metadata": {
    "id": "JBhiO7O2N4yW"
   },
   "source": [
    "### Callback"
   ]
  },
  {
   "cell_type": "code",
   "metadata": {
    "execution": {
     "iopub.execute_input": "2025-02-16T14:52:14.654899Z",
     "iopub.status.busy": "2025-02-16T14:52:14.654573Z",
     "iopub.status.idle": "2025-02-16T14:52:17.061512Z",
     "shell.execute_reply": "2025-02-16T14:52:17.060654Z",
     "shell.execute_reply.started": "2025-02-16T14:52:14.654871Z"
    },
    "id": "rWFMJwBkN4yX",
    "ExecuteTime": {
     "end_time": "2025-02-23T13:26:26.083621Z",
     "start_time": "2025-02-23T13:26:22.418885Z"
    }
   },
   "source": [
    "from torch.utils.tensorboard import SummaryWriter\n",
    "\n",
    "\n",
    "class TensorBoardCallback:\n",
    "    def __init__(self, log_dir, flush_secs=10):\n",
    "        \"\"\"\n",
    "        Args:\n",
    "            log_dir (str): dir to write log.\n",
    "            flush_secs (int, optional): write to dsk each flush_secs seconds. Defaults to 10.\n",
    "        \"\"\"\n",
    "        self.writer = SummaryWriter(log_dir=log_dir, flush_secs=flush_secs)\n",
    "\n",
    "    def draw_model(self, model, input_shape):\n",
    "        self.writer.add_graph(model, input_to_model=torch.randn(input_shape))\n",
    "\n",
    "    def add_loss_scalars(self, step, loss, val_loss):\n",
    "        self.writer.add_scalars(\n",
    "            main_tag=\"training/loss\",\n",
    "            tag_scalar_dict={\"loss\": loss, \"val_loss\": val_loss},\n",
    "            global_step=step,\n",
    "            )\n",
    "\n",
    "    def add_acc_scalars(self, step, acc, val_acc):\n",
    "        self.writer.add_scalars(\n",
    "            main_tag=\"training/accuracy\",\n",
    "            tag_scalar_dict={\"accuracy\": acc, \"val_accuracy\": val_acc},\n",
    "            global_step=step,\n",
    "        )\n",
    "\n",
    "    def add_lr_scalars(self, step, learning_rate):\n",
    "        self.writer.add_scalars(\n",
    "            main_tag=\"training/learning_rate\",\n",
    "            tag_scalar_dict={\"learning_rate\": learning_rate},\n",
    "            global_step=step,\n",
    "\n",
    "        )\n",
    "\n",
    "    def __call__(self, step, **kwargs):\n",
    "        # add loss\n",
    "        loss = kwargs.pop(\"loss\", None)\n",
    "        val_loss = kwargs.pop(\"val_loss\", None)\n",
    "        if loss is not None and val_loss is not None:\n",
    "            self.add_loss_scalars(step, loss, val_loss)\n",
    "        # add acc\n",
    "        acc = kwargs.pop(\"acc\", None)\n",
    "        val_acc = kwargs.pop(\"val_acc\", None)\n",
    "        if acc is not None and val_acc is not None:\n",
    "            self.add_acc_scalars(step, acc, val_acc)\n",
    "        # add lr\n",
    "        learning_rate = kwargs.pop(\"lr\", None)\n",
    "        if learning_rate is not None:\n",
    "            self.add_lr_scalars(step, learning_rate)\n"
   ],
   "outputs": [],
   "execution_count": 45
  },
  {
   "cell_type": "code",
   "metadata": {
    "execution": {
     "iopub.execute_input": "2025-02-16T14:52:17.063065Z",
     "iopub.status.busy": "2025-02-16T14:52:17.062489Z",
     "iopub.status.idle": "2025-02-16T14:52:17.069753Z",
     "shell.execute_reply": "2025-02-16T14:52:17.068747Z",
     "shell.execute_reply.started": "2025-02-16T14:52:17.063034Z"
    },
    "id": "64y_NBHMN4yX",
    "ExecuteTime": {
     "end_time": "2025-02-23T13:26:26.088859Z",
     "start_time": "2025-02-23T13:26:26.084436Z"
    }
   },
   "source": [
    "class SaveCheckpointsCallback:\n",
    "    def __init__(self, save_dir, save_step=5000, save_best_only=True):\n",
    "        \"\"\"\n",
    "        Save checkpoints each save_epoch epoch.\n",
    "        We save checkpoint by epoch in this implementation.\n",
    "        Usually, training scripts with pytorch evaluating model and save checkpoint by step.\n",
    "\n",
    "        Args:\n",
    "            save_dir (str): dir to save checkpoint\n",
    "            save_epoch (int, optional): the frequency to save checkpoint. Defaults to 1.\n",
    "            save_best_only (bool, optional): If True, only save the best model or save each model at every epoch.\n",
    "        \"\"\"\n",
    "        self.save_dir = save_dir\n",
    "        self.save_step = save_step\n",
    "        self.save_best_only = save_best_only\n",
    "        self.best_metrics = - np.inf\n",
    "\n",
    "        # mkdir\n",
    "        if not os.path.exists(self.save_dir):\n",
    "            os.mkdir(self.save_dir)\n",
    "\n",
    "    def __call__(self, step, state_dict, metric=None):\n",
    "        if step % self.save_step > 0:\n",
    "            return\n",
    "\n",
    "        if self.save_best_only:\n",
    "            assert metric is not None\n",
    "            if metric >= self.best_metrics:\n",
    "                # save checkpoints\n",
    "                torch.save(state_dict, os.path.join(self.save_dir, \"best.ckpt\"))\n",
    "                # update best metrics\n",
    "                self.best_metrics = metric\n",
    "        else:\n",
    "            torch.save(state_dict, os.path.join(self.save_dir, f\"{step}.ckpt\"))\n",
    "\n"
   ],
   "outputs": [],
   "execution_count": 46
  },
  {
   "cell_type": "code",
   "metadata": {
    "execution": {
     "iopub.execute_input": "2025-02-16T14:52:17.071117Z",
     "iopub.status.busy": "2025-02-16T14:52:17.070786Z",
     "iopub.status.idle": "2025-02-16T14:52:17.076313Z",
     "shell.execute_reply": "2025-02-16T14:52:17.075653Z",
     "shell.execute_reply.started": "2025-02-16T14:52:17.071090Z"
    },
    "id": "Uk4PEb70N4yX",
    "ExecuteTime": {
     "end_time": "2025-02-23T13:26:26.093047Z",
     "start_time": "2025-02-23T13:26:26.088859Z"
    }
   },
   "source": [
    "class EarlyStopCallback:\n",
    "    def __init__(self, patience=5, min_delta=0.01):\n",
    "        \"\"\"\n",
    "\n",
    "        Args:\n",
    "            patience (int, optional): Number of epochs with no improvement after which training will be stopped.. Defaults to 5.\n",
    "            min_delta (float, optional): Minimum change in the monitored quantity to qualify as an improvement, i.e. an absolute\n",
    "                change of less than min_delta, will count as no improvement. Defaults to 0.01.\n",
    "        \"\"\"\n",
    "        self.patience = patience\n",
    "        self.min_delta = min_delta\n",
    "        self.best_metric = - np.inf\n",
    "        self.counter = 0\n",
    "\n",
    "    def __call__(self, metric):\n",
    "        if metric >= self.best_metric + self.min_delta:\n",
    "            # update best metric\n",
    "            self.best_metric = metric\n",
    "            # reset counter\n",
    "            self.counter = 0\n",
    "        else:\n",
    "            self.counter += 1\n",
    "\n",
    "    @property\n",
    "    def early_stop(self):\n",
    "        return self.counter >= self.patience\n"
   ],
   "outputs": [],
   "execution_count": 47
  },
  {
   "cell_type": "markdown",
   "metadata": {
    "id": "_AB84Qx1N4yX"
   },
   "source": [
    "### training & valuating"
   ]
  },
  {
   "cell_type": "code",
   "metadata": {
    "execution": {
     "iopub.execute_input": "2025-02-16T14:52:17.077546Z",
     "iopub.status.busy": "2025-02-16T14:52:17.077116Z",
     "iopub.status.idle": "2025-02-16T14:52:17.082698Z",
     "shell.execute_reply": "2025-02-16T14:52:17.081915Z",
     "shell.execute_reply.started": "2025-02-16T14:52:17.077519Z"
    },
    "id": "1mKPSFkON4yX",
    "ExecuteTime": {
     "end_time": "2025-02-23T13:26:26.096893Z",
     "start_time": "2025-02-23T13:26:26.093047Z"
    }
   },
   "source": [
    "@torch.no_grad()\n",
    "def evaluating(model, dataloader, loss_fct):\n",
    "    loss_list = []\n",
    "    for batch in dataloader:\n",
    "        encoder_inputs = batch[\"encoder_inputs\"]\n",
    "        encoder_inputs_mask = batch[\"encoder_inputs_mask\"]\n",
    "        decoder_inputs = batch[\"decoder_inputs\"]\n",
    "        decoder_labels = batch[\"decoder_labels\"]\n",
    "        decoder_labels_mask = batch[\"decoder_labels_mask\"]\n",
    "\n",
    "        # 前向计算\n",
    "        outputs = model(\n",
    "            encoder_inputs=encoder_inputs,\n",
    "            decoder_inputs=decoder_inputs,\n",
    "            encoder_inputs_mask=encoder_inputs_mask\n",
    "            )\n",
    "        logits = outputs.logits\n",
    "        loss = loss_fct(logits, decoder_labels, padding_mask=decoder_labels_mask)         # 验证集损失\n",
    "        loss_list.append(loss.cpu().item())\n",
    "\n",
    "    return np.mean(loss_list)\n"
   ],
   "outputs": [],
   "execution_count": 48
  },
  {
   "cell_type": "code",
   "metadata": {
    "execution": {
     "iopub.execute_input": "2025-02-16T14:52:17.083953Z",
     "iopub.status.busy": "2025-02-16T14:52:17.083585Z",
     "iopub.status.idle": "2025-02-16T14:52:17.094823Z",
     "shell.execute_reply": "2025-02-16T14:52:17.094130Z",
     "shell.execute_reply.started": "2025-02-16T14:52:17.083927Z"
    },
    "id": "PClBmtgWN4yY",
    "ExecuteTime": {
     "end_time": "2025-02-23T13:26:26.103576Z",
     "start_time": "2025-02-23T13:26:26.096893Z"
    }
   },
   "source": [
    "# 训练\n",
    "def training(\n",
    "    model,\n",
    "    train_loader,\n",
    "    val_loader,\n",
    "    epoch,\n",
    "    loss_fct,\n",
    "    optimizer,\n",
    "    scheduler=None,\n",
    "    tensorboard_callback=None,\n",
    "    save_ckpt_callback=None,\n",
    "    early_stop_callback=None,\n",
    "    eval_step=500,\n",
    "    ):\n",
    "    record_dict = {\n",
    "        \"train\": [],\n",
    "        \"val\": []\n",
    "    }\n",
    "\n",
    "    global_step = 1\n",
    "    model.train()\n",
    "    with tqdm(total=epoch * len(train_loader)) as pbar:\n",
    "        for epoch_id in range(epoch):\n",
    "            # training\n",
    "            for batch in train_loader:\n",
    "                encoder_inputs = batch[\"encoder_inputs\"]\n",
    "                encoder_inputs_mask = batch[\"encoder_inputs_mask\"]\n",
    "                decoder_inputs = batch[\"decoder_inputs\"]\n",
    "                decoder_labels = batch[\"decoder_labels\"]\n",
    "                decoder_labels_mask = batch[\"decoder_labels_mask\"]\n",
    "                # 梯度清空\n",
    "                optimizer.zero_grad()\n",
    "\n",
    "                # 前向计算\n",
    "                outputs = model(\n",
    "                    encoder_inputs=encoder_inputs,\n",
    "                    decoder_inputs=decoder_inputs,\n",
    "                    encoder_inputs_mask=encoder_inputs_mask\n",
    "                    )\n",
    "                logits = outputs.logits\n",
    "                loss = loss_fct(logits, decoder_labels, padding_mask=decoder_labels_mask)\n",
    "\n",
    "                # 梯度回传\n",
    "                loss.backward()\n",
    "\n",
    "                # 调整优化器，包括学习率的变动等\n",
    "                optimizer.step()\n",
    "                if scheduler is not None:\n",
    "                    scheduler.step() # 更新学习率\n",
    "\n",
    "                loss = loss.cpu().item()\n",
    "                # record\n",
    "                record_dict[\"train\"].append({\n",
    "                    \"loss\": loss, \"step\": global_step\n",
    "                })\n",
    "\n",
    "                # evaluating\n",
    "                if global_step % eval_step == 0:\n",
    "                    model.eval()\n",
    "                    val_loss = evaluating(model, val_loader, loss_fct)\n",
    "                    record_dict[\"val\"].append({\n",
    "                        \"loss\": val_loss, \"step\": global_step\n",
    "                    })\n",
    "                    model.train()\n",
    "\n",
    "                    # 1. 使用 tensorboard 可视化\n",
    "                    cur_lr = optimizer.param_groups[0][\"lr\"] if scheduler is None else scheduler.get_last_lr()[0]\n",
    "                    if tensorboard_callback is not None:\n",
    "                        tensorboard_callback(\n",
    "                            global_step,\n",
    "                            loss=loss, val_loss=val_loss,\n",
    "                            lr=cur_lr,\n",
    "                            )\n",
    "\n",
    "                    # 2. 保存模型权重 save model checkpoint\n",
    "                    if save_ckpt_callback is not None:\n",
    "                        save_ckpt_callback(global_step, model.state_dict(), metric=-val_loss)\n",
    "\n",
    "                    # 3. 早停 Early Stop\n",
    "                    if early_stop_callback is not None:\n",
    "                        early_stop_callback(-val_loss)\n",
    "                        if early_stop_callback.early_stop:\n",
    "                            print(f\"Early stop at epoch {epoch_id} / global_step {global_step}\")\n",
    "                            return record_dict\n",
    "\n",
    "                # udate step\n",
    "                global_step += 1\n",
    "                pbar.update(1)\n",
    "            pbar.set_postfix({\"epoch\": epoch_id, \"loss\": loss, \"val_loss\": val_loss})\n",
    "\n",
    "    return record_dict\n"
   ],
   "outputs": [],
   "execution_count": 49
  },
  {
   "cell_type": "code",
   "metadata": {
    "colab": {
     "base_uri": "https://localhost:8080/"
    },
    "execution": {
     "iopub.execute_input": "2025-02-16T14:52:17.096165Z",
     "iopub.status.busy": "2025-02-16T14:52:17.095804Z",
     "iopub.status.idle": "2025-02-16T14:52:17.209654Z",
     "shell.execute_reply": "2025-02-16T14:52:17.208904Z",
     "shell.execute_reply.started": "2025-02-16T14:52:17.096139Z"
    },
    "id": "khZqMS8pN4yY",
    "outputId": "2367a363-585b-4321-f7ea-cb11d9623008",
    "ExecuteTime": {
     "end_time": "2025-02-23T13:26:26.164206Z",
     "start_time": "2025-02-23T13:26:26.103576Z"
    }
   },
   "source": [
    "# 配置模型的超参数\n",
    "config = {\n",
    "    \"bos_idx\": 1,  # 句子起始标记 (Beginning of Sentence)\n",
    "    \"eos_idx\": 3,  # 句子结束标记 (End of Sentence)\n",
    "    \"pad_idx\": 0,  # 填充标记 (Padding Index)\n",
    "    \"vocab_size\": len(word2idx),  # 词汇表大小\n",
    "    \"max_length\": 128,  # 句子最大长度\n",
    "    \"d_model\": 512,  # Transformer 词向量的维度\n",
    "    \"dim_feedforward\": 2048,  # 前馈神经网络（FFN）的隐藏层大小\n",
    "    \"dropout\": 0.1,  # dropout 率，用于防止过拟合\n",
    "    \"layer_norm_eps\": 1e-6,  # 层归一化 (Layer Normalization) 时的 epsilon，防止除零错误\n",
    "    \"num_heads\": 8,  # 多头注意力机制的头数\n",
    "    \"num_decoder_layers\": 6,  # 解码器层数\n",
    "    \"num_encoder_layers\": 6,  # 编码器层数\n",
    "    \"label_smoothing\": 0.1,  # 交叉熵损失中的标签平滑系数\n",
    "    \"beta1\": 0.9,  # Adam 优化器的 beta1 参数（用于一阶矩估计）\n",
    "    \"beta2\": 0.98,  # Adam 优化器的 beta2 参数（用于二阶矩估计）\n",
    "    \"eps\": 1e-9,  # Adam 优化器的 epsilon，防止除零错误\n",
    "    \"warmup_steps\": 4_000,  # 学习率预热步数\n",
    "    \"share_embedding\": False,  # 是否在编码器和解码器之间共享词向量\n",
    "}\n",
    "\n",
    "def get_dl(dataset, batch_size, shuffle=True):\n",
    "    \"\"\"\n",
    "    获取数据加载器 (DataLoader)\n",
    "\n",
    "    参数：\n",
    "    dataset: 训练或验证数据集\n",
    "    batch_size: 批次大小\n",
    "    shuffle: 是否对批次进行随机排序（默认 True）\n",
    "\n",
    "    返回：\n",
    "    DataLoader 对象\n",
    "    \"\"\"\n",
    "    # 使用 Transformer 任务自定义的批次采样器，确保 batch 内的句子长度一致\n",
    "    sampler = TransformerBatchSampler(dataset, batch_size=batch_size, shuffle_batch=shuffle)\n",
    "    # 使用 DataLoader 进行数据加载，collate_fn 用于处理不同长度的句子\n",
    "    sample_dl = DataLoader(dataset, batch_sampler=sampler, collate_fn=partial(collate_fct, tokenizer=tokenizer))\n",
    "    return sample_dl\n",
    "\n",
    "# 构建训练集和验证集\n",
    "train_ds = LangPairDataset(\"train\", max_length=config[\"max_length\"])  # 训练数据集\n",
    "val_ds = LangPairDataset(\"val\", max_length=config[\"max_length\"])  # 验证数据集\n",
    "\n",
    "# 构建分词器（Tokenizer），用于将文本转换为索引\n",
    "tokenizer = Tokenizer(word2idx=word2idx, idx2word=idx2word, max_length=config[\"max_length\"])\n",
    "\n",
    "# 训练的批次大小\n",
    "batch_size = 2048\n",
    "\n",
    "# 创建数据加载器\n",
    "train_dl = get_dl(train_ds, batch_size=batch_size, shuffle=True)  # 训练数据加载器\n",
    "val_dl = get_dl(val_ds, batch_size=batch_size, shuffle=False)  # 验证数据加载器"
   ],
   "outputs": [
    {
     "name": "stdout",
     "output_type": "stream",
     "text": [
      "load train dataset from wmt16\\.cache\\de2en_train_128.npy\n",
      "load val dataset from wmt16\\.cache\\de2en_val_128.npy\n"
     ]
    }
   ],
   "execution_count": 50
  },
  {
   "cell_type": "code",
   "metadata": {
    "collapsed": false,
    "execution": {
     "iopub.execute_input": "2025-02-16T14:52:17.210929Z",
     "iopub.status.busy": "2025-02-16T14:52:17.210517Z",
     "iopub.status.idle": "2025-02-16T14:52:18.466975Z",
     "shell.execute_reply": "2025-02-16T14:52:18.466177Z",
     "shell.execute_reply.started": "2025-02-16T14:52:17.210898Z"
    },
    "jupyter": {
     "outputs_hidden": false
    },
    "ExecuteTime": {
     "end_time": "2025-02-23T13:26:26.764545Z",
     "start_time": "2025-02-23T13:26:26.165204Z"
    }
   },
   "source": [
    "#计算模型参数量\n",
    "model = TransformerModel(config)\n",
    "print(f\"模型参数量: {sum(p.numel() for p in model.parameters() if p.requires_grad)}\")"
   ],
   "outputs": [
    {
     "name": "stdout",
     "output_type": "stream",
     "text": [
      "模型参数量: 71938239\n"
     ]
    }
   ],
   "execution_count": 51
  },
  {
   "cell_type": "code",
   "metadata": {
    "colab": {
     "base_uri": "https://localhost:8080/"
    },
    "execution": {
     "iopub.execute_input": "2025-02-16T14:52:18.468297Z",
     "iopub.status.busy": "2025-02-16T14:52:18.467869Z",
     "iopub.status.idle": "2025-02-16T14:52:18.473708Z",
     "shell.execute_reply": "2025-02-16T14:52:18.472873Z",
     "shell.execute_reply.started": "2025-02-16T14:52:18.468263Z"
    },
    "id": "63slV04gWLn8",
    "outputId": "5c5ede03-0f6f-48d5-a177-d961886ec340",
    "ExecuteTime": {
     "end_time": "2025-02-23T13:26:26.769896Z",
     "start_time": "2025-02-23T13:26:26.765545Z"
    }
   },
   "source": [
    "config"
   ],
   "outputs": [
    {
     "data": {
      "text/plain": [
       "{'bos_idx': 1,\n",
       " 'eos_idx': 3,\n",
       " 'pad_idx': 0,\n",
       " 'vocab_size': 18111,\n",
       " 'max_length': 128,\n",
       " 'd_model': 512,\n",
       " 'dim_feedforward': 2048,\n",
       " 'dropout': 0.1,\n",
       " 'layer_norm_eps': 1e-06,\n",
       " 'num_heads': 8,\n",
       " 'num_decoder_layers': 6,\n",
       " 'num_encoder_layers': 6,\n",
       " 'label_smoothing': 0.1,\n",
       " 'beta1': 0.9,\n",
       " 'beta2': 0.98,\n",
       " 'eps': 1e-09,\n",
       " 'warmup_steps': 4000,\n",
       " 'share_embedding': False}"
      ]
     },
     "execution_count": 52,
     "metadata": {},
     "output_type": "execute_result"
    }
   ],
   "execution_count": 52
  },
  {
   "cell_type": "code",
   "metadata": {
    "colab": {
     "base_uri": "https://localhost:8080/",
     "height": 49,
     "referenced_widgets": [
      "55146ac7395840dca847e0f63aa80561",
      "abb9bc76c0ce4634bd340be20c074b8c",
      "a89d790df59245fcaf26335d4903c9b4",
      "f837255914194dc792cf1514dee03dc5",
      "46a51a1719d8444eb5877720253d3c37",
      "013d2a6b90144432bbfb15136235faba",
      "2b82e42c34804b13bc83be4c7009d4e2",
      "9233439bdd6746c28ad4a20ef47799f6",
      "0e10428326bc436e8dbc079e89570bde",
      "0fe4ed7283c04496affe727c235d31c4",
      "0c0c7229347b49ffbb9a0f7bd41199b9"
     ]
    },
    "execution": {
     "iopub.execute_input": "2025-02-16T14:52:18.474923Z",
     "iopub.status.busy": "2025-02-16T14:52:18.474570Z",
     "iopub.status.idle": "2025-02-16T14:52:21.235438Z",
     "shell.execute_reply": "2025-02-16T14:52:21.234479Z",
     "shell.execute_reply.started": "2025-02-16T14:52:18.474896Z"
    },
    "id": "tVO2zJ04N4yY",
    "outputId": "7d4079f5-65d4-4da1-9001-91aa5525250e",
    "ExecuteTime": {
     "end_time": "2025-02-23T13:26:29.189973Z",
     "start_time": "2025-02-23T13:26:26.770901Z"
    }
   },
   "source": [
    "epoch = 20\n",
    "\n",
    "# model\n",
    "model = TransformerModel(config)\n",
    "# 1. 定义损失函数 采用交叉熵损失\n",
    "loss_fct = CrossEntropyWithPadding(config)\n",
    "# 2. 定义优化器 采用 adam\n",
    "# Optimizers specified in the torch.optim package\n",
    "optimizer, scheduler = get_optimizer(model, config)\n",
    "\n",
    "# 1. tensorboard 可视化\n",
    "if not os.path.exists(\"runs\"):\n",
    "    os.mkdir(\"runs\")\n",
    "exp_name = \"translate-transformer-{}\".format(\"share\" if config[\"share_embedding\"] else \"not-share\")\n",
    "tensorboard_callback = TensorBoardCallback(f\"runs/{exp_name}\")\n",
    "# tensorboard_callback.draw_model(model, [1, MAX_LENGTH])\n",
    "# 2. save best\n",
    "if not os.path.exists(\"checkpoints\"):\n",
    "    os.makedirs(\"checkpoints\")\n",
    "save_ckpt_callback = SaveCheckpointsCallback(\n",
    "    f\"checkpoints/{exp_name}\", save_step=500, save_best_only=True)\n",
    "# 3. early stop\n",
    "early_stop_callback = EarlyStopCallback(patience=8)\n",
    "\n",
    "model = model.to(device)"
   ],
   "outputs": [],
   "execution_count": 53
  },
  {
   "cell_type": "code",
   "metadata": {
    "ExecutionIndicator": {
     "show": true
    },
    "execution": {
     "iopub.execute_input": "2025-02-16T15:02:08.107654Z",
     "iopub.status.busy": "2025-02-16T15:02:08.107127Z",
     "iopub.status.idle": "2025-02-16T15:19:27.417039Z",
     "shell.execute_reply": "2025-02-16T15:19:27.416155Z",
     "shell.execute_reply.started": "2025-02-16T15:02:08.107611Z"
    },
    "tags": [],
    "ExecuteTime": {
     "end_time": "2025-02-23T13:26:41.214761Z",
     "start_time": "2025-02-23T13:26:29.189973Z"
    }
   },
   "source": [
    "# record = training(\n",
    "#     model,\n",
    "#     train_dl,\n",
    "#     val_dl,\n",
    "#     epoch,\n",
    "#     loss_fct,\n",
    "#     optimizer,\n",
    "#     scheduler,\n",
    "#     tensorboard_callback=None,\n",
    "#     save_ckpt_callback=save_ckpt_callback,\n",
    "#     early_stop_callback=early_stop_callback,\n",
    "#     eval_step=500\n",
    "#     )\n",
    "# \n",
    "# # Training took 3.5 days on 8 P100 GPUs\n",
    "# # We trained the base models for a total of 100,000 steps or 12 hours. For our big models,(described on the bottom line of table 3), step time was 1.0 seconds. The big models were trained for 300,000 steps (3.5 days)."
   ],
   "outputs": [
    {
     "data": {
      "text/plain": [
       "  0%|          | 0/280 [00:00<?, ?it/s]"
      ],
      "application/vnd.jupyter.widget-view+json": {
       "version_major": 2,
       "version_minor": 0,
       "model_id": "b4b5703f9cbd4a67ad9fb36c9aa1c7e9"
      }
     },
     "metadata": {},
     "output_type": "display_data"
    },
    {
     "name": "stderr",
     "output_type": "stream",
     "text": [
      "C:\\Program Files\\Python312\\Lib\\site-packages\\torch\\nn\\_reduction.py:51: UserWarning: size_average and reduce args will be deprecated, please use reduction='none' instead.\n",
      "  warnings.warn(warning.format(ret))\n"
     ]
    },
    {
     "ename": "KeyboardInterrupt",
     "evalue": "",
     "output_type": "error",
     "traceback": [
      "\u001B[1;31m---------------------------------------------------------------------------\u001B[0m",
      "\u001B[1;31mKeyboardInterrupt\u001B[0m                         Traceback (most recent call last)",
      "Cell \u001B[1;32mIn[54], line 1\u001B[0m\n\u001B[1;32m----> 1\u001B[0m record \u001B[38;5;241m=\u001B[39m \u001B[43mtraining\u001B[49m\u001B[43m(\u001B[49m\n\u001B[0;32m      2\u001B[0m \u001B[43m    \u001B[49m\u001B[43mmodel\u001B[49m\u001B[43m,\u001B[49m\n\u001B[0;32m      3\u001B[0m \u001B[43m    \u001B[49m\u001B[43mtrain_dl\u001B[49m\u001B[43m,\u001B[49m\n\u001B[0;32m      4\u001B[0m \u001B[43m    \u001B[49m\u001B[43mval_dl\u001B[49m\u001B[43m,\u001B[49m\n\u001B[0;32m      5\u001B[0m \u001B[43m    \u001B[49m\u001B[43mepoch\u001B[49m\u001B[43m,\u001B[49m\n\u001B[0;32m      6\u001B[0m \u001B[43m    \u001B[49m\u001B[43mloss_fct\u001B[49m\u001B[43m,\u001B[49m\n\u001B[0;32m      7\u001B[0m \u001B[43m    \u001B[49m\u001B[43moptimizer\u001B[49m\u001B[43m,\u001B[49m\n\u001B[0;32m      8\u001B[0m \u001B[43m    \u001B[49m\u001B[43mscheduler\u001B[49m\u001B[43m,\u001B[49m\n\u001B[0;32m      9\u001B[0m \u001B[43m    \u001B[49m\u001B[43mtensorboard_callback\u001B[49m\u001B[38;5;241;43m=\u001B[39;49m\u001B[38;5;28;43;01mNone\u001B[39;49;00m\u001B[43m,\u001B[49m\n\u001B[0;32m     10\u001B[0m \u001B[43m    \u001B[49m\u001B[43msave_ckpt_callback\u001B[49m\u001B[38;5;241;43m=\u001B[39;49m\u001B[43msave_ckpt_callback\u001B[49m\u001B[43m,\u001B[49m\n\u001B[0;32m     11\u001B[0m \u001B[43m    \u001B[49m\u001B[43mearly_stop_callback\u001B[49m\u001B[38;5;241;43m=\u001B[39;49m\u001B[43mearly_stop_callback\u001B[49m\u001B[43m,\u001B[49m\n\u001B[0;32m     12\u001B[0m \u001B[43m    \u001B[49m\u001B[43meval_step\u001B[49m\u001B[38;5;241;43m=\u001B[39;49m\u001B[38;5;241;43m500\u001B[39;49m\n\u001B[0;32m     13\u001B[0m \u001B[43m    \u001B[49m\u001B[43m)\u001B[49m\n\u001B[0;32m     15\u001B[0m \u001B[38;5;66;03m# Training took 3.5 days on 8 P100 GPUs\u001B[39;00m\n\u001B[0;32m     16\u001B[0m \u001B[38;5;66;03m# We trained the base models for a total of 100,000 steps or 12 hours. For our big models,(described on the bottom line of table 3), step time was 1.0 seconds. The big models were trained for 300,000 steps (3.5 days).\u001B[39;00m\n",
      "Cell \u001B[1;32mIn[49], line 44\u001B[0m, in \u001B[0;36mtraining\u001B[1;34m(model, train_loader, val_loader, epoch, loss_fct, optimizer, scheduler, tensorboard_callback, save_ckpt_callback, early_stop_callback, eval_step)\u001B[0m\n\u001B[0;32m     41\u001B[0m loss \u001B[38;5;241m=\u001B[39m loss_fct(logits, decoder_labels, padding_mask\u001B[38;5;241m=\u001B[39mdecoder_labels_mask)\n\u001B[0;32m     43\u001B[0m \u001B[38;5;66;03m# 梯度回传\u001B[39;00m\n\u001B[1;32m---> 44\u001B[0m \u001B[43mloss\u001B[49m\u001B[38;5;241;43m.\u001B[39;49m\u001B[43mbackward\u001B[49m\u001B[43m(\u001B[49m\u001B[43m)\u001B[49m\n\u001B[0;32m     46\u001B[0m \u001B[38;5;66;03m# 调整优化器，包括学习率的变动等\u001B[39;00m\n\u001B[0;32m     47\u001B[0m optimizer\u001B[38;5;241m.\u001B[39mstep()\n",
      "File \u001B[1;32mC:\\Program Files\\Python312\\Lib\\site-packages\\torch\\_tensor.py:581\u001B[0m, in \u001B[0;36mTensor.backward\u001B[1;34m(self, gradient, retain_graph, create_graph, inputs)\u001B[0m\n\u001B[0;32m    571\u001B[0m \u001B[38;5;28;01mif\u001B[39;00m has_torch_function_unary(\u001B[38;5;28mself\u001B[39m):\n\u001B[0;32m    572\u001B[0m     \u001B[38;5;28;01mreturn\u001B[39;00m handle_torch_function(\n\u001B[0;32m    573\u001B[0m         Tensor\u001B[38;5;241m.\u001B[39mbackward,\n\u001B[0;32m    574\u001B[0m         (\u001B[38;5;28mself\u001B[39m,),\n\u001B[1;32m   (...)\u001B[0m\n\u001B[0;32m    579\u001B[0m         inputs\u001B[38;5;241m=\u001B[39minputs,\n\u001B[0;32m    580\u001B[0m     )\n\u001B[1;32m--> 581\u001B[0m \u001B[43mtorch\u001B[49m\u001B[38;5;241;43m.\u001B[39;49m\u001B[43mautograd\u001B[49m\u001B[38;5;241;43m.\u001B[39;49m\u001B[43mbackward\u001B[49m\u001B[43m(\u001B[49m\n\u001B[0;32m    582\u001B[0m \u001B[43m    \u001B[49m\u001B[38;5;28;43mself\u001B[39;49m\u001B[43m,\u001B[49m\u001B[43m \u001B[49m\u001B[43mgradient\u001B[49m\u001B[43m,\u001B[49m\u001B[43m \u001B[49m\u001B[43mretain_graph\u001B[49m\u001B[43m,\u001B[49m\u001B[43m \u001B[49m\u001B[43mcreate_graph\u001B[49m\u001B[43m,\u001B[49m\u001B[43m \u001B[49m\u001B[43minputs\u001B[49m\u001B[38;5;241;43m=\u001B[39;49m\u001B[43minputs\u001B[49m\n\u001B[0;32m    583\u001B[0m \u001B[43m\u001B[49m\u001B[43m)\u001B[49m\n",
      "File \u001B[1;32mC:\\Program Files\\Python312\\Lib\\site-packages\\torch\\autograd\\__init__.py:347\u001B[0m, in \u001B[0;36mbackward\u001B[1;34m(tensors, grad_tensors, retain_graph, create_graph, grad_variables, inputs)\u001B[0m\n\u001B[0;32m    342\u001B[0m     retain_graph \u001B[38;5;241m=\u001B[39m create_graph\n\u001B[0;32m    344\u001B[0m \u001B[38;5;66;03m# The reason we repeat the same comment below is that\u001B[39;00m\n\u001B[0;32m    345\u001B[0m \u001B[38;5;66;03m# some Python versions print out the first line of a multi-line function\u001B[39;00m\n\u001B[0;32m    346\u001B[0m \u001B[38;5;66;03m# calls in the traceback and some print out the last line\u001B[39;00m\n\u001B[1;32m--> 347\u001B[0m \u001B[43m_engine_run_backward\u001B[49m\u001B[43m(\u001B[49m\n\u001B[0;32m    348\u001B[0m \u001B[43m    \u001B[49m\u001B[43mtensors\u001B[49m\u001B[43m,\u001B[49m\n\u001B[0;32m    349\u001B[0m \u001B[43m    \u001B[49m\u001B[43mgrad_tensors_\u001B[49m\u001B[43m,\u001B[49m\n\u001B[0;32m    350\u001B[0m \u001B[43m    \u001B[49m\u001B[43mretain_graph\u001B[49m\u001B[43m,\u001B[49m\n\u001B[0;32m    351\u001B[0m \u001B[43m    \u001B[49m\u001B[43mcreate_graph\u001B[49m\u001B[43m,\u001B[49m\n\u001B[0;32m    352\u001B[0m \u001B[43m    \u001B[49m\u001B[43minputs\u001B[49m\u001B[43m,\u001B[49m\n\u001B[0;32m    353\u001B[0m \u001B[43m    \u001B[49m\u001B[43mallow_unreachable\u001B[49m\u001B[38;5;241;43m=\u001B[39;49m\u001B[38;5;28;43;01mTrue\u001B[39;49;00m\u001B[43m,\u001B[49m\n\u001B[0;32m    354\u001B[0m \u001B[43m    \u001B[49m\u001B[43maccumulate_grad\u001B[49m\u001B[38;5;241;43m=\u001B[39;49m\u001B[38;5;28;43;01mTrue\u001B[39;49;00m\u001B[43m,\u001B[49m\n\u001B[0;32m    355\u001B[0m \u001B[43m\u001B[49m\u001B[43m)\u001B[49m\n",
      "File \u001B[1;32mC:\\Program Files\\Python312\\Lib\\site-packages\\torch\\autograd\\graph.py:825\u001B[0m, in \u001B[0;36m_engine_run_backward\u001B[1;34m(t_outputs, *args, **kwargs)\u001B[0m\n\u001B[0;32m    823\u001B[0m     unregister_hooks \u001B[38;5;241m=\u001B[39m _register_logging_hooks_on_whole_graph(t_outputs)\n\u001B[0;32m    824\u001B[0m \u001B[38;5;28;01mtry\u001B[39;00m:\n\u001B[1;32m--> 825\u001B[0m     \u001B[38;5;28;01mreturn\u001B[39;00m \u001B[43mVariable\u001B[49m\u001B[38;5;241;43m.\u001B[39;49m\u001B[43m_execution_engine\u001B[49m\u001B[38;5;241;43m.\u001B[39;49m\u001B[43mrun_backward\u001B[49m\u001B[43m(\u001B[49m\u001B[43m  \u001B[49m\u001B[38;5;66;43;03m# Calls into the C++ engine to run the backward pass\u001B[39;49;00m\n\u001B[0;32m    826\u001B[0m \u001B[43m        \u001B[49m\u001B[43mt_outputs\u001B[49m\u001B[43m,\u001B[49m\u001B[43m \u001B[49m\u001B[38;5;241;43m*\u001B[39;49m\u001B[43margs\u001B[49m\u001B[43m,\u001B[49m\u001B[43m \u001B[49m\u001B[38;5;241;43m*\u001B[39;49m\u001B[38;5;241;43m*\u001B[39;49m\u001B[43mkwargs\u001B[49m\n\u001B[0;32m    827\u001B[0m \u001B[43m    \u001B[49m\u001B[43m)\u001B[49m  \u001B[38;5;66;03m# Calls into the C++ engine to run the backward pass\u001B[39;00m\n\u001B[0;32m    828\u001B[0m \u001B[38;5;28;01mfinally\u001B[39;00m:\n\u001B[0;32m    829\u001B[0m     \u001B[38;5;28;01mif\u001B[39;00m attach_logging_hooks:\n",
      "\u001B[1;31mKeyboardInterrupt\u001B[0m: "
     ]
    }
   ],
   "execution_count": 54
  },
  {
   "metadata": {
    "ExecuteTime": {
     "end_time": "2025-02-23T13:26:41.215762Z",
     "start_time": "2025-02-23T13:26:41.215762Z"
    }
   },
   "cell_type": "code",
   "source": [
    "# # prompt: 画出损失率折线图\n",
    "# import matplotlib.pyplot as plt\n",
    "# \n",
    "# # Assuming 'record' is the dictionary returned by the training function\n",
    "# train_losses = [item['loss'] for item in record['train']]\n",
    "# train_steps = [item['step'] for item in record['train']]\n",
    "# val_losses = [item['loss'] for item in record['val']]\n",
    "# val_steps = [item['step'] for item in record['val']]\n",
    "# \n",
    "# plt.figure(figsize=(10, 6))\n",
    "# plt.plot(train_steps, train_losses, label='Training Loss')\n",
    "# plt.plot(val_steps, val_losses, label='Validation Loss')\n",
    "# plt.xlabel('Training Steps')\n",
    "# plt.ylabel('Loss')\n",
    "# plt.title('Training and Validation Loss')\n",
    "# plt.legend()\n",
    "# plt.grid(True)\n",
    "# plt.show()"
   ],
   "outputs": [],
   "execution_count": null
  },
  {
   "cell_type": "markdown",
   "metadata": {
    "id": "rTjbeFlIN4yZ"
   },
   "source": [
    "## 推理\n",
    "\n",
    "- 翻译项目的评估指标一般是BLEU4，感兴趣的同学自行了解并实现\n",
    "- 接下来进行翻译推理，并作出注意力的热度图"
   ]
  },
  {
   "cell_type": "code",
   "metadata": {
    "colab": {
     "base_uri": "https://localhost:8080/"
    },
    "execution": {
     "iopub.execute_input": "2025-02-16T15:26:44.816097Z",
     "iopub.status.busy": "2025-02-16T15:26:44.815567Z",
     "iopub.status.idle": "2025-02-16T15:26:44.819857Z",
     "shell.execute_reply": "2025-02-16T15:26:44.819024Z",
     "shell.execute_reply.started": "2025-02-16T15:26:44.816059Z"
    },
    "id": "WxsjkyQgN4yZ",
    "outputId": "5ce160c2-ce7e-4bc3-d2b6-a332c7fcf6a1",
    "tags": []
   },
   "source": [
    "# !pip install Cython  # if failed to install fastBPE, try this line\n",
    "# !pip install fastBPE #分词使用\n",
    "# 在 Windows 系统上并没有 sys/mman.h 文件"
   ],
   "outputs": [],
   "execution_count": null
  },
  {
   "cell_type": "code",
   "metadata": {
    "colab": {
     "base_uri": "https://localhost:8080/",
     "height": 35
    },
    "execution": {
     "iopub.execute_input": "2025-02-16T15:26:46.272468Z",
     "iopub.status.busy": "2025-02-16T15:26:46.271953Z",
     "iopub.status.idle": "2025-02-16T15:26:46.277754Z",
     "shell.execute_reply": "2025-02-16T15:26:46.276987Z",
     "shell.execute_reply.started": "2025-02-16T15:26:46.272412Z"
    },
    "id": "f6Ry1PcAn4k1",
    "outputId": "6393524e-e5c3-4f93-dd9d-f249ca52bc05",
    "tags": [],
    "ExecuteTime": {
     "end_time": "2025-02-23T13:27:21.665120Z",
     "start_time": "2025-02-23T13:27:21.660763Z"
    }
   },
   "source": [
    "exp_name"
   ],
   "outputs": [
    {
     "data": {
      "text/plain": [
       "'translate-transformer-not-share'"
      ]
     },
     "execution_count": 55,
     "metadata": {},
     "output_type": "execute_result"
    }
   ],
   "execution_count": 55
  },
  {
   "cell_type": "code",
   "metadata": {
    "execution": {
     "iopub.execute_input": "2025-02-16T15:26:48.198291Z",
     "iopub.status.busy": "2025-02-16T15:26:48.197781Z",
     "iopub.status.idle": "2025-02-16T15:26:48.419006Z",
     "shell.execute_reply": "2025-02-16T15:26:48.418059Z",
     "shell.execute_reply.started": "2025-02-16T15:26:48.198252Z"
    },
    "id": "jT1Mqiq3N4yZ",
    "tags": [],
    "ExecuteTime": {
     "end_time": "2025-02-23T13:27:34.488314Z",
     "start_time": "2025-02-23T13:27:34.320698Z"
    }
   },
   "source": [
    "import torch\n",
    "\n",
    "state_dict = torch.load(f\"checkpoints/{exp_name}/best.ckpt\", map_location=\"cpu\", weights_only=True)\n",
    "\n",
    "# state_dict1 = torch.load(\"epoch125-step132426.ckpt\", map_location=\"cpu\")\n",
    "# state_dict = state_dict1[\"state_dict\"]\n",
    "\n",
    "# update keys by dropping `model`\n",
    "# for key in list(state_dict):\n",
    "#     state_dict[key.replace(\"model.\", \"\")] = state_dict.pop(key)\n"
   ],
   "outputs": [],
   "execution_count": 57
  },
  {
   "cell_type": "code",
   "metadata": {
    "colab": {
     "base_uri": "https://localhost:8080/"
    },
    "execution": {
     "iopub.status.busy": "2025-02-16T15:01:09.546101Z",
     "iopub.status.idle": "2025-02-16T15:01:09.546978Z",
     "shell.execute_reply": "2025-02-16T15:01:09.546716Z",
     "shell.execute_reply.started": "2025-02-16T15:01:09.546688Z"
    },
    "id": "eKwIDdjgvTlO",
    "outputId": "35979ff2-a16d-4aa4-881a-8496e39e2469"
   },
   "source": [
    "# !pip install nltk"
   ],
   "outputs": [],
   "execution_count": null
  },
  {
   "cell_type": "code",
   "metadata": {
    "execution": {
     "iopub.execute_input": "2025-02-16T15:26:53.831514Z",
     "iopub.status.busy": "2025-02-16T15:26:53.831006Z",
     "iopub.status.idle": "2025-02-16T15:26:53.995189Z",
     "shell.execute_reply": "2025-02-16T15:26:53.993768Z",
     "shell.execute_reply.started": "2025-02-16T15:26:53.831477Z"
    },
    "id": "WVksjIhL_pt9",
    "tags": []
   },
   "source": [
    "!rm -r wmt16/.cache"
   ],
   "outputs": [],
   "execution_count": null
  },
  {
   "cell_type": "code",
   "metadata": {
    "colab": {
     "base_uri": "https://localhost:8080/"
    },
    "execution": {
     "iopub.execute_input": "2025-02-16T15:26:55.158502Z",
     "iopub.status.busy": "2025-02-16T15:26:55.157888Z",
     "iopub.status.idle": "2025-02-16T15:26:55.166151Z",
     "shell.execute_reply": "2025-02-16T15:26:55.165372Z",
     "shell.execute_reply.started": "2025-02-16T15:26:55.158457Z"
    },
    "id": "2MY69-6WWSjp",
    "outputId": "911d9066-7917-4917-b5cc-d679a1c63865",
    "tags": []
   },
   "source": [
    "tokenizer.decode([[   5,   16,    6,   23,  150,   80, 8248,   35,  232,    4,    3]])"
   ],
   "outputs": [],
   "execution_count": null
  },
  {
   "cell_type": "code",
   "metadata": {
    "colab": {
     "base_uri": "https://localhost:8080/",
     "height": 101,
     "referenced_widgets": [
      "c9db4cd83b7b4f53a0fa93b8c365debd",
      "a972aba7913b48c6973ae27bff5b9d1d",
      "22aa774ab39e4fd78b0ff08d430d2b5d",
      "9a01f02fb99b4b81ac487d23bc5daf4a",
      "19f846338f6b48c9930b58575641e5b8",
      "7d293204dc1b4d97bb5ee670787c7b7d",
      "ea8fa440f320435aa75c9bef75bc3f08",
      "4e64bcb87e584beda0408a0aa5a659ae",
      "b077d7562d814df5b6d839464dd4122f",
      "5a28babf4e2e4393bdc1a093034885ab",
      "be07d518c21149d196c610fd57b1eaec"
     ]
    },
    "execution": {
     "iopub.execute_input": "2025-02-16T15:26:58.235483Z",
     "iopub.status.busy": "2025-02-16T15:26:58.234974Z",
     "iopub.status.idle": "2025-02-16T15:27:14.538399Z",
     "shell.execute_reply": "2025-02-16T15:27:14.537619Z",
     "shell.execute_reply.started": "2025-02-16T15:26:58.235446Z"
    },
    "id": "5QgodlOJfgKj",
    "outputId": "2907bad2-7cb1-4295-c8b0-77ac0dabf398",
    "tags": [],
    "ExecuteTime": {
     "end_time": "2025-02-23T13:27:45.016498Z",
     "start_time": "2025-02-23T13:27:38.432558Z"
    }
   },
   "source": [
    "from nltk.translate.bleu_score import sentence_bleu\n",
    "\n",
    "# 加载 Transformer 模型\n",
    "model = TransformerModel(config)  # 初始化 Transformer 模型\n",
    "model.load_state_dict(state_dict)  # 加载预训练模型的参数\n",
    "\n",
    "# 定义损失函数（交叉熵损失，带有标签平滑）\n",
    "loss_fct = CrossEntropyWithPadding(config)\n",
    "\n",
    "# 加载测试数据集\n",
    "test_ds = LangPairDataset(\"test\", max_length=128, data_dir=\"./wmt16\")  # 测试数据集\n",
    "test_dl = DataLoader(test_ds, batch_size=1, collate_fn=partial(collate_fct, tokenizer=tokenizer))  # 数据加载器\n",
    "\n",
    "# 迁移模型到计算设备（CPU/GPU）\n",
    "model = model.to(device)\n",
    "model.eval()  # 设置模型为评估模式，防止 dropout 或 batchnorm 影响推理\n",
    "\n",
    "# 定义数据收集字典\n",
    "collect = {}  # 用于存储测试集中的样本及其损失\n",
    "loss_collect = []  # 用于收集所有样本的损失\n",
    "\n",
    "predictions = []  # 存储所有预测结果\n",
    "answers = []  # 存储所有真实标签\n",
    "bleu_scores = []  # 存储 BLEU 评分\n",
    "\n",
    "# 遍历测试集\n",
    "for idx, batch in tqdm(enumerate(test_dl)):\n",
    "    encoder_inputs = batch[\"encoder_inputs\"]  # 编码器输入（源语言）\n",
    "    encoder_inputs_mask = batch[\"encoder_inputs_mask\"]  # 源输入的填充掩码\n",
    "    decoder_inputs = batch[\"decoder_inputs\"]  # 解码器输入（目标语言）\n",
    "    decoder_labels = batch[\"decoder_labels\"]  # 目标真实标签（用于计算损失）\n",
    "\n",
    "    # 进行前向传播，获取 Transformer 输出\n",
    "    outputs = model(\n",
    "        encoder_inputs=encoder_inputs,\n",
    "        decoder_inputs=decoder_inputs,\n",
    "        encoder_inputs_mask=encoder_inputs_mask\n",
    "    )\n",
    "\n",
    "    # 计算交叉熵损失\n",
    "    loss = loss_fct(outputs.logits, decoder_labels)\n",
    "\n",
    "    # 获取预测结果：取每个时间步上最大概率的词索引\n",
    "    preds = outputs.logits.argmax(dim=-1)  # 预测序列形状为 [1, seq_len]\n",
    "\n",
    "    # 将预测索引转换为实际的文本句子\n",
    "    preds = tokenizer.decode(preds.cpu().numpy())  # ['预测句子']\n",
    "    \n",
    "    # 将真实标签转换为文本句子\n",
    "    decoder_labels = tokenizer.decode(decoder_labels.cpu().numpy())  # ['标签句子']\n",
    "\n",
    "    # 计算 BLEU 评分，使用 1-gram 计算精确匹配\n",
    "    bleu = sentence_bleu([decoder_labels[0].split()], preds[0].split(), weights=(1, 1, 1, 1))\n",
    "    bleu_scores.append(bleu)  # 存储 BLEU 分数\n",
    "\n",
    "    # 记录样本信息，包括损失、输入、目标、预测\n",
    "    collect[idx] = {\n",
    "        \"loss\": loss.item(),  # 当前样本的损失\n",
    "        \"src_inputs\": encoder_inputs,  # 源语言输入\n",
    "        \"trg_inputs\": decoder_inputs,  # 目标语言输入\n",
    "        \"mask\": encoder_inputs_mask,  # 源语言的填充掩码\n",
    "        \"trg_labels\": decoder_labels,  # 真实目标文本\n",
    "        \"preds\": preds  # 预测文本\n",
    "    }\n",
    "\n",
    "    # 记录损失\n",
    "    loss_collect.append(loss.item())\n",
    "\n",
    "# 按照损失大小对收集的数据进行排序（从低到高）\n",
    "collect = sorted(collect.items(), key=lambda x: x[1][\"loss\"])\n",
    "\n",
    "# 输出测试集平均损失\n",
    "print(f\"testing loss: {np.array(loss_collect).mean()}\")\n",
    "\n",
    "# 计算测试集的平均 BLEU 评分\n",
    "print(f\"Average BLEU score: {sum(bleu_scores) / len(bleu_scores)}\")"
   ],
   "outputs": [
    {
     "name": "stdout",
     "output_type": "stream",
     "text": [
      "load test dataset from wmt16\\.cache\\de2en_test_128.npy\n"
     ]
    },
    {
     "data": {
      "text/plain": [
       "0it [00:00, ?it/s]"
      ],
      "application/vnd.jupyter.widget-view+json": {
       "version_major": 2,
       "version_minor": 0,
       "model_id": "6b2975fa283f4b9baddb8fd957261612"
      }
     },
     "metadata": {},
     "output_type": "display_data"
    },
    {
     "name": "stderr",
     "output_type": "stream",
     "text": [
      "C:\\Program Files\\Python312\\Lib\\site-packages\\torch\\nn\\_reduction.py:51: UserWarning: size_average and reduce args will be deprecated, please use reduction='none' instead.\n",
      "  warnings.warn(warning.format(ret))\n",
      "C:\\Program Files\\Python312\\Lib\\site-packages\\nltk\\translate\\bleu_score.py:577: UserWarning: \n",
      "The hypothesis contains 0 counts of 4-gram overlaps.\n",
      "Therefore the BLEU score evaluates to 0, independently of\n",
      "how many N-gram overlaps of lower order it contains.\n",
      "Consider using lower n-gram order or use SmoothingFunction()\n",
      "  warnings.warn(_msg)\n",
      "C:\\Program Files\\Python312\\Lib\\site-packages\\nltk\\translate\\bleu_score.py:577: UserWarning: \n",
      "The hypothesis contains 0 counts of 3-gram overlaps.\n",
      "Therefore the BLEU score evaluates to 0, independently of\n",
      "how many N-gram overlaps of lower order it contains.\n",
      "Consider using lower n-gram order or use SmoothingFunction()\n",
      "  warnings.warn(_msg)\n",
      "C:\\Program Files\\Python312\\Lib\\site-packages\\nltk\\translate\\bleu_score.py:577: UserWarning: \n",
      "The hypothesis contains 0 counts of 2-gram overlaps.\n",
      "Therefore the BLEU score evaluates to 0, independently of\n",
      "how many N-gram overlaps of lower order it contains.\n",
      "Consider using lower n-gram order or use SmoothingFunction()\n",
      "  warnings.warn(_msg)\n"
     ]
    },
    {
     "ename": "KeyboardInterrupt",
     "evalue": "",
     "output_type": "error",
     "traceback": [
      "\u001B[1;31m---------------------------------------------------------------------------\u001B[0m",
      "\u001B[1;31mKeyboardInterrupt\u001B[0m                         Traceback (most recent call last)",
      "Cell \u001B[1;32mIn[58], line 44\u001B[0m\n\u001B[0;32m     41\u001B[0m loss \u001B[38;5;241m=\u001B[39m loss_fct(outputs\u001B[38;5;241m.\u001B[39mlogits, decoder_labels)\n\u001B[0;32m     43\u001B[0m \u001B[38;5;66;03m# 获取预测结果：取每个时间步上最大概率的词索引\u001B[39;00m\n\u001B[1;32m---> 44\u001B[0m preds \u001B[38;5;241m=\u001B[39m \u001B[43moutputs\u001B[49m\u001B[38;5;241;43m.\u001B[39;49m\u001B[43mlogits\u001B[49m\u001B[38;5;241;43m.\u001B[39;49m\u001B[43margmax\u001B[49m\u001B[43m(\u001B[49m\u001B[43mdim\u001B[49m\u001B[38;5;241;43m=\u001B[39;49m\u001B[38;5;241;43m-\u001B[39;49m\u001B[38;5;241;43m1\u001B[39;49m\u001B[43m)\u001B[49m  \u001B[38;5;66;03m# 预测序列形状为 [1, seq_len]\u001B[39;00m\n\u001B[0;32m     46\u001B[0m \u001B[38;5;66;03m# 将预测索引转换为实际的文本句子\u001B[39;00m\n\u001B[0;32m     47\u001B[0m preds \u001B[38;5;241m=\u001B[39m tokenizer\u001B[38;5;241m.\u001B[39mdecode(preds\u001B[38;5;241m.\u001B[39mcpu()\u001B[38;5;241m.\u001B[39mnumpy())  \u001B[38;5;66;03m# ['预测句子']\u001B[39;00m\n",
      "\u001B[1;31mKeyboardInterrupt\u001B[0m: "
     ]
    }
   ],
   "execution_count": 58
  },
  {
   "cell_type": "code",
   "metadata": {
    "colab": {
     "base_uri": "https://localhost:8080/",
     "height": 535,
     "referenced_widgets": [
      "40f7e3754ad44b33acfe0a80b3648a3a",
      "b1e51beac50f4947a9dd235d8aa87603",
      "8cd9e9702e114ebc856f56975544ede8",
      "b7c7a718a8654956947108969557ca83",
      "20a27d1ec76f4d85b1ffe99401fbb5b7",
      "e0ddf3970b3e4248bc87d4649fa9c448",
      "d7bdde54e2534c49a207540bd258d3ae",
      "22484000400842f0b6e245dc610acbba",
      "a66a5b4ff37d4dafa4ba3081aa1359f4",
      "0b7866c29e5f4afe9b92de15f1b88c3e",
      "333e84a304184c57af1821620ae80f6a"
     ]
    },
    "execution": {
     "iopub.execute_input": "2025-02-16T15:27:19.229440Z",
     "iopub.status.busy": "2025-02-16T15:27:19.228541Z",
     "iopub.status.idle": "2025-02-16T15:27:21.600184Z",
     "shell.execute_reply": "2025-02-16T15:27:21.599363Z",
     "shell.execute_reply.started": "2025-02-16T15:27:19.229385Z"
    },
    "id": "KGSym4CbN4ya",
    "outputId": "f5e9c4c2-c92e-44e6-c83a-5cb720305428",
    "tags": [],
    "ExecuteTime": {
     "end_time": "2025-02-23T13:49:43.717932Z",
     "start_time": "2025-02-23T13:49:42.343189Z"
    }
   },
   "source": [
    "import re\n",
    "from sacremoses import MosesDetokenizer, MosesTokenizer\n",
    "import torch\n",
    "import matplotlib.pyplot as plt\n",
    "import numpy as np\n",
    "from pathlib import Path\n",
    "import subprocess\n",
    "import matplotlib\n",
    "\n",
    "# `MosesTokenizer` 和 `MosesDetokenizer` 来自 `sacremoses` 库，主要用于自然语言处理中的分词（Tokenization）和去标记化（Detokenization）。\n",
    "# `fastBPE` 用于执行 Byte Pair Encoding（BPE）分词技术，在神经机器翻译和 NLP 任务中非常常见。\n",
    "\n",
    "class Translator:\n",
    "    def __init__(self, model, src_tokenizer, trg_tokenizer, dataset_path=\"./wmt16\"):\n",
    "        \"\"\"\n",
    "        初始化翻译器类，包含 BPE 处理、分词、去标记化和模型推理功能。\n",
    "\n",
    "        参数：\n",
    "        - model: Transformer 模型对象，用于执行翻译推理\n",
    "        - src_tokenizer: 源语言的分词器\n",
    "        - trg_tokenizer: 目标语言的分词器\n",
    "        \"\"\"\n",
    "        self.dataset_path = Path(dataset_path)\n",
    "        self.vocab = self.dataset_path / \"vocab\"\n",
    "        self.bpe_rules = self.dataset_path / \"bpe.20000\"\n",
    "        \n",
    "        # 初始化 BPE 处理器，加载预训练的 BPE 词汇表\n",
    "        # self.bpe = fastBPE(\"./wmt16/bpe.20000\", \"./wmt16/vocab\")\n",
    "        # 初始化 Moses 分词器（源语言为德语 \"de\"）\n",
    "        self.mose_tokenizer = MosesTokenizer(lang=\"de\")\n",
    "        # 初始化 Moses 去标记化工具（目标语言为英语 \"en\"）\n",
    "        self.mose_detokenizer = MosesDetokenizer(lang=\"en\")\n",
    "        \n",
    "        # 存储模型并设置为评估模式\n",
    "        self.model = model\n",
    "        self.model.eval()\n",
    "        \n",
    "        # 存储源语言和目标语言的分词器\n",
    "        self.src_tokenizer = src_tokenizer\n",
    "        self.trg_tokenizer = trg_tokenizer\n",
    "        \n",
    "        # 正则表达式，用于移除 BPE 生成的 `@@` 标记\n",
    "        self.pattern = re.compile(r'(@@ )|(@@ ?$)')\n",
    "        \n",
    "    def apply_bpe(self, input_file, output_file, bpe_rules, vocab_file):\n",
    "        \"\"\"\n",
    "        使用 subword-nmt 的 apply-bpe 命令对文件进行 BPE 分词。\n",
    "        \n",
    "        :param input_file: 输入文件路径\n",
    "        :param output_file: 输出文件路径\n",
    "        :param bpe_rules: BPE 规则文件路径\n",
    "        :param vocab_file: 词汇表文件路径\n",
    "        \"\"\"\n",
    "        try:\n",
    "            subprocess.run([\n",
    "                \"subword-nmt\", \"apply-bpe\",\n",
    "                \"-c\", str(bpe_rules),\n",
    "                \"--vocabulary\", str(vocab_file),\n",
    "                \"--vocabulary-threshold\", \"50\",\n",
    "                \"-i\", str(input_file),\n",
    "                \"-o\", str(output_file)\n",
    "            ], check=True)\n",
    "        except subprocess.CalledProcessError as e:\n",
    "            raise RuntimeError(f\"Failed to apply BPE: {e}\")\n",
    "\n",
    "    def draw_attention_map(self, attn_scores, cross_attn_scores, src_words_list, trg_words_list):\n",
    "        \"\"\"\n",
    "        绘制 Transformer 模型的注意力（Attention）热力图，包括自注意力和交叉注意力。\n",
    "\n",
    "        参数：\n",
    "        - attn_scores: 自注意力分数（形状：[num_heads, trg_len, trg_len]）\n",
    "        - cross_attn_scores: 交叉注意力分数（形状：[num_heads, trg_len, src_len]）\n",
    "        - src_words_list: 源语言单词列表\n",
    "        - trg_words_list: 目标语言单词列表\n",
    "        \"\"\"\n",
    "        # 设置中文字体\n",
    "        matplotlib.rcParams['font.sans-serif'] = ['SimHei']  # 指定黑体\n",
    "        matplotlib.rcParams['axes.unicode_minus'] = False  # 解决负号显示问题\n",
    "        \n",
    "        # 确保输入张量具有正确的形状\n",
    "        assert len(attn_scores.shape) == 3, f\"attn_scores 形状应为 [num_heads, trg_len, trg_len]，但得到了 {attn_scores.shape}\"\n",
    "        attn_scores = attn_scores[:, :len(trg_words_list), :len(trg_words_list)]\n",
    "        assert len(cross_attn_scores.shape) == 3, f\"cross_attn_scores 形状应为 [num_heads, trg_len, src_len]，但得到了 {cross_attn_scores.shape}\"\n",
    "        cross_attn_scores = cross_attn_scores[:, :len(trg_words_list), :len(src_words_list)]\n",
    "\n",
    "        num_heads, trg_len, src_len = cross_attn_scores.shape\n",
    "\n",
    "        # 创建一个 10x5 的绘图窗口，并自动调整子图布局\n",
    "        fig = plt.figure(figsize=(12, 8), constrained_layout=True)\n",
    "        grid = fig.add_gridspec(trg_len, trg_len + src_len, wspace=0.1, hspace=0.1)\n",
    "\n",
    "        # 自注意力热力图\n",
    "        self_map = fig.add_subplot(grid[:, :trg_len])\n",
    "        self_map.matshow(attn_scores.mean(dim=0), cmap='viridis')\n",
    "        self_map.set_yticks(range(trg_len), trg_words_list, fontsize=10)\n",
    "        self_map.set_xticks(range(trg_len), [\"[BOS]\"] + trg_words_list[:-1], rotation=90)\n",
    "\n",
    "        # 交叉注意力热力图\n",
    "        cross_map = fig.add_subplot(grid[:, trg_len:])\n",
    "        cross_map.matshow(cross_attn_scores.mean(dim=0), cmap='viridis')\n",
    "        cross_map.set_yticks(range(trg_len), [])\n",
    "        cross_map.set_xticks(range(src_len), src_words_list, rotation=90)\n",
    "\n",
    "        plt.show()\n",
    "\n",
    "    def __call__(self, sentence_list, heads_list=None, layer_idx=-1):\n",
    "        \"\"\"\n",
    "        执行翻译任务，并可选地绘制注意力热力图。\n",
    "\n",
    "        参数：\n",
    "        - sentence_list: 需要翻译的源语言句子列表\n",
    "        - heads_list: 选择要可视化的注意力头列表（可选）\n",
    "        - layer_idx: 选择可视化 Transformer 的哪一层（默认 -1，即最后一层）\n",
    "\n",
    "        返回：\n",
    "        - 翻译后的目标语言句子列表\n",
    "        \"\"\"\n",
    "        # 将句子转换为小写并进行分词\n",
    "        sentence_list = [\" \".join(self.mose_tokenizer.tokenize(s.lower())) for s in sentence_list]\n",
    "        \n",
    "        # 将句子列表写入临时文件\n",
    "        temp_input_file = self.dataset_path / \"temp_input.txt\"\n",
    "        temp_output_file = self.dataset_path / \"temp_output.bpe\"\n",
    "        \n",
    "         # 写入英文句子\n",
    "        with open(temp_input_file, \"w\", encoding=\"utf8\") as f:\n",
    "            f.write(\"\\n\".join(sentence_list))\n",
    "            \n",
    "         # 对英文句子进行 BPE 分词\n",
    "        self.apply_bpe(temp_input_file, temp_output_file, self.bpe_rules, self.vocab)\n",
    "        \n",
    "       # 读取 BPE 分词后的结果\n",
    "        with open(temp_output_file, \"r\", encoding=\"utf8\") as f:\n",
    "            tokens_list = [line.strip().split() for line in f]\n",
    "        print(\"English tokens:\", tokens_list)\n",
    "        \n",
    "        # 编码输入序列，并添加起始标记 ([BOS]) 和结束标记 ([EOS])\n",
    "        encoder_input, attn_mask = self.src_tokenizer.encode(\n",
    "            tokens_list,\n",
    "            add_bos=True,\n",
    "            add_eos=True,\n",
    "            return_mask=True,\n",
    "        )\n",
    "        # 将编码后的输入转换为 PyTorch 张量\n",
    "        encoder_input = torch.Tensor(encoder_input).to(dtype=torch.int64)\n",
    "        # 使用 Transformer 模型进行推理\n",
    "        outputs = self.model.infer(encoder_inputs=encoder_input, encoder_inputs_mask=attn_mask)\n",
    "\n",
    "        preds = outputs.preds.numpy()\n",
    "        print(preds)\n",
    "        # 解码目标语言句子\n",
    "        trg_decoded = self.trg_tokenizer.decode(preds, split=True, remove_eos=False, remove_bos=False, remove_pad=False)\n",
    "        # 解码源语言句子\n",
    "        src_decoded = self.src_tokenizer.decode(\n",
    "            encoder_input.numpy(),\n",
    "            split=True,\n",
    "            remove_bos=False,\n",
    "            remove_eos=False\n",
    "        )\n",
    "\n",
    "        # 绘制注意力热力图\n",
    "        for attn_score, cross_attn_score, src, trg in zip(\n",
    "            outputs.decoder_self_attn_scores[layer_idx], outputs.decoder_cross_attn_scores[layer_idx], src_decoded, trg_decoded\n",
    "        ):\n",
    "            if heads_list is None:\n",
    "                self.draw_attention_map(attn_score, cross_attn_score, src, trg)\n",
    "            else:\n",
    "                self.draw_attention_maps(attn_score, cross_attn_score, src, trg, heads_list=heads_list)\n",
    "\n",
    "        # 返回翻译结果，并去除 BPE 标记\n",
    "        return [self.mose_detokenizer.tokenize(self.pattern.sub(\"\", s).split()) for s in self.trg_tokenizer.decode(preds)]\n",
    "\n",
    "# 示例输入句子列表（德语）\n",
    "sentence_list = [\n",
    "    \"婚纱好的发的时间\",  # \"Man in a small white boat on a lake.\"\n",
    "]\n",
    "# wie man sie im großen stil verteilt.\n",
    "# Ich bin ein alter mann.\n",
    "# Ich habe ein neues auto und es ist sehr schnell.\n",
    "\n",
    "# 加载 Transformer 模型\n",
    "model = TransformerModel(config)\n",
    "model.load_state_dict(state_dict)\n",
    "\n",
    "# 初始化 Translator 对象\n",
    "translator = Translator(model.cpu(), tokenizer, tokenizer)\n",
    "\n",
    "# 执行翻译\n",
    "translator(sentence_list, layer_idx=-1)"
   ],
   "outputs": [
    {
     "name": "stdout",
     "output_type": "stream",
     "text": [
      "English tokens: [['婚', '纱', '好', '的', '发', '的', '时', '间']]\n"
     ]
    },
    {
     "data": {
      "text/plain": [
       "  0%|          | 0/128 [00:00<?, ?it/s]"
      ],
      "application/vnd.jupyter.widget-view+json": {
       "version_major": 2,
       "version_minor": 0,
       "model_id": "f740b97961084770832c725ab724eb6e"
      }
     },
     "metadata": {},
     "output_type": "display_data"
    },
    {
     "name": "stdout",
     "output_type": "stream",
     "text": [
      "[[ 385   18    5  683  521  210   18  358 1868   88   46  935    4    3]]\n"
     ]
    },
    {
     "data": {
      "text/plain": [
       "<Figure size 1200x800 with 2 Axes>"
      ],
      "image/png": "[encoded data removed]"
     },
     "metadata": {},
     "output_type": "display_data"
    },
    {
     "data": {
      "text/plain": [
       "['this is a police truck that is being pulled by his home.']"
      ]
     },
     "execution_count": 63,
     "metadata": {},
     "output_type": "execute_result"
    }
   ],
   "execution_count": 63
  },
  {
   "cell_type": "code",
   "metadata": {
    "colab": {
     "base_uri": "https://localhost:8080/"
    },
    "execution": {
     "iopub.status.busy": "2025-02-16T15:01:09.554503Z",
     "iopub.status.idle": "2025-02-16T15:01:09.554868Z",
     "shell.execute_reply": "2025-02-16T15:01:09.554728Z",
     "shell.execute_reply.started": "2025-02-16T15:01:09.554712Z"
    },
    "id": "e0WkUQuUe-Cy",
    "outputId": "433e3d70-4f34-4376-e4a3-1b8834e71f88"
   },
   "source": [
    "!ls checkpoints"
   ],
   "outputs": [],
   "execution_count": null
  },
  {
   "cell_type": "code",
   "metadata": {
    "execution": {
     "iopub.status.busy": "2025-02-16T15:01:09.555859Z",
     "iopub.status.idle": "2025-02-16T15:01:09.556224Z",
     "shell.execute_reply": "2025-02-16T15:01:09.556081Z",
     "shell.execute_reply.started": "2025-02-16T15:01:09.556065Z"
    },
    "id": "_1ZLtdahywWf",
    "tags": []
   },
   "source": [
    "# prompt: 把best.ckpt复制到云盘内\n",
    "# !cp -r checkpoints/translate-transformer-not-share/best.ckpt /content/drive/MyDrive/transformer-de-en"
   ],
   "outputs": [],
   "execution_count": null
  }
 ],
 "metadata": {
  "accelerator": "GPU",
  "colab": {
   "gpuType": "T4",
   "provenance": []
  },
  "kernelspec": {
   "display_name": "Python 3 (ipykernel)",
   "language": "python",
   "name": "python3"
  },
  "language_info": {
   "codemirror_mode": {
    "name": "ipython",
    "version": 3
   },
   "file_extension": ".py",
   "mimetype": "text/x-python",
   "name": "python",
   "nbconvert_exporter": "python",
   "pygments_lexer": "ipython3",
   "version": "3.10.14"
  },
  "widgets": {
   "application/vnd.jupyter.widget-state+json": {
    "00fe6a550df547cea5b1e0d84c1a3f5f": {
     "model_module": "@jupyter-widgets/controls",
     "model_module_version": "1.5.0",
     "model_name": "FloatProgressModel",
     "state": {
      "_dom_classes": [],
      "_model_module": "@jupyter-widgets/controls",
      "_model_module_version": "1.5.0",
      "_model_name": "FloatProgressModel",
      "_view_count": null,
      "_view_module": "@jupyter-widgets/controls",
      "_view_module_version": "1.5.0",
      "_view_name": "ProgressView",
      "bar_style": "success",
      "description": "",
      "description_tooltip": null,
      "layout": "IPY_MODEL_83f345f7424c43929d7a304cbfb6d0fe",
      "max": 9714,
      "min": 0,
      "orientation": "horizontal",
      "style": "IPY_MODEL_58d69d086f644e89937347e1f9261d6f",
      "value": 9714
     }
    },
    "013d2a6b90144432bbfb15136235faba": {
     "model_module": "@jupyter-widgets/base",
     "model_module_version": "1.2.0",
     "model_name": "LayoutModel",
     "state": {
      "_model_module": "@jupyter-widgets/base",
      "_model_module_version": "1.2.0",
      "_model_name": "LayoutModel",
      "_view_count": null,
      "_view_module": "@jupyter-widgets/base",
      "_view_module_version": "1.2.0",
      "_view_name": "LayoutView",
      "align_content": null,
      "align_items": null,
      "align_self": null,
      "border": null,
      "bottom": null,
      "display": null,
      "flex": null,
      "flex_flow": null,
      "grid_area": null,
      "grid_auto_columns": null,
      "grid_auto_flow": null,
      "grid_auto_rows": null,
      "grid_column": null,
      "grid_gap": null,
      "grid_row": null,
      "grid_template_areas": null,
      "grid_template_columns": null,
      "grid_template_rows": null,
      "height": null,
      "justify_content": null,
      "justify_items": null,
      "left": null,
      "margin": null,
      "max_height": null,
      "max_width": null,
      "min_height": null,
      "min_width": null,
      "object_fit": null,
      "object_position": null,
      "order": null,
      "overflow": null,
      "overflow_x": null,
      "overflow_y": null,
      "padding": null,
      "right": null,
      "top": null,
      "visibility": null,
      "width": null
     }
    },
    "0b7866c29e5f4afe9b92de15f1b88c3e": {
     "model_module": "@jupyter-widgets/base",
     "model_module_version": "1.2.0",
     "model_name": "LayoutModel",
     "state": {
      "_model_module": "@jupyter-widgets/base",
      "_model_module_version": "1.2.0",
      "_model_name": "LayoutModel",
      "_view_count": null,
      "_view_module": "@jupyter-widgets/base",
      "_view_module_version": "1.2.0",
      "_view_name": "LayoutView",
      "align_content": null,
      "align_items": null,
      "align_self": null,
      "border": null,
      "bottom": null,
      "display": null,
      "flex": null,
      "flex_flow": null,
      "grid_area": null,
      "grid_auto_columns": null,
      "grid_auto_flow": null,
      "grid_auto_rows": null,
      "grid_column": null,
      "grid_gap": null,
      "grid_row": null,
      "grid_template_areas": null,
      "grid_template_columns": null,
      "grid_template_rows": null,
      "height": null,
      "justify_content": null,
      "justify_items": null,
      "left": null,
      "margin": null,
      "max_height": null,
      "max_width": null,
      "min_height": null,
      "min_width": null,
      "object_fit": null,
      "object_position": null,
      "order": null,
      "overflow": null,
      "overflow_x": null,
      "overflow_y": null,
      "padding": null,
      "right": null,
      "top": null,
      "visibility": null,
      "width": null
     }
    },
    "0c0c7229347b49ffbb9a0f7bd41199b9": {
     "model_module": "@jupyter-widgets/controls",
     "model_module_version": "1.5.0",
     "model_name": "DescriptionStyleModel",
     "state": {
      "_model_module": "@jupyter-widgets/controls",
      "_model_module_version": "1.5.0",
      "_model_name": "DescriptionStyleModel",
      "_view_count": null,
      "_view_module": "@jupyter-widgets/base",
      "_view_module_version": "1.2.0",
      "_view_name": "StyleView",
      "description_width": ""
     }
    },
    "0e10428326bc436e8dbc079e89570bde": {
     "model_module": "@jupyter-widgets/controls",
     "model_module_version": "1.5.0",
     "model_name": "ProgressStyleModel",
     "state": {
      "_model_module": "@jupyter-widgets/controls",
      "_model_module_version": "1.5.0",
      "_model_name": "ProgressStyleModel",
      "_view_count": null,
      "_view_module": "@jupyter-widgets/base",
      "_view_module_version": "1.2.0",
      "_view_name": "StyleView",
      "bar_color": null,
      "description_width": ""
     }
    },
    "0fe4ed7283c04496affe727c235d31c4": {
     "model_module": "@jupyter-widgets/base",
     "model_module_version": "1.2.0",
     "model_name": "LayoutModel",
     "state": {
      "_model_module": "@jupyter-widgets/base",
      "_model_module_version": "1.2.0",
      "_model_name": "LayoutModel",
      "_view_count": null,
      "_view_module": "@jupyter-widgets/base",
      "_view_module_version": "1.2.0",
      "_view_name": "LayoutView",
      "align_content": null,
      "align_items": null,
      "align_self": null,
      "border": null,
      "bottom": null,
      "display": null,
      "flex": null,
      "flex_flow": null,
      "grid_area": null,
      "grid_auto_columns": null,
      "grid_auto_flow": null,
      "grid_auto_rows": null,
      "grid_column": null,
      "grid_gap": null,
      "grid_row": null,
      "grid_template_areas": null,
      "grid_template_columns": null,
      "grid_template_rows": null,
      "height": null,
      "justify_content": null,
      "justify_items": null,
      "left": null,
      "margin": null,
      "max_height": null,
      "max_width": null,
      "min_height": null,
      "min_width": null,
      "object_fit": null,
      "object_position": null,
      "order": null,
      "overflow": null,
      "overflow_x": null,
      "overflow_y": null,
      "padding": null,
      "right": null,
      "top": null,
      "visibility": null,
      "width": null
     }
    },
    "19f846338f6b48c9930b58575641e5b8": {
     "model_module": "@jupyter-widgets/base",
     "model_module_version": "1.2.0",
     "model_name": "LayoutModel",
     "state": {
      "_model_module": "@jupyter-widgets/base",
      "_model_module_version": "1.2.0",
      "_model_name": "LayoutModel",
      "_view_count": null,
      "_view_module": "@jupyter-widgets/base",
      "_view_module_version": "1.2.0",
      "_view_name": "LayoutView",
      "align_content": null,
      "align_items": null,
      "align_self": null,
      "border": null,
      "bottom": null,
      "display": null,
      "flex": null,
      "flex_flow": null,
      "grid_area": null,
      "grid_auto_columns": null,
      "grid_auto_flow": null,
      "grid_auto_rows": null,
      "grid_column": null,
      "grid_gap": null,
      "grid_row": null,
      "grid_template_areas": null,
      "grid_template_columns": null,
      "grid_template_rows": null,
      "height": null,
      "justify_content": null,
      "justify_items": null,
      "left": null,
      "margin": null,
      "max_height": null,
      "max_width": null,
      "min_height": null,
      "min_width": null,
      "object_fit": null,
      "object_position": null,
      "order": null,
      "overflow": null,
      "overflow_x": null,
      "overflow_y": null,
      "padding": null,
      "right": null,
      "top": null,
      "visibility": null,
      "width": null
     }
    },
    "20a27d1ec76f4d85b1ffe99401fbb5b7": {
     "model_module": "@jupyter-widgets/base",
     "model_module_version": "1.2.0",
     "model_name": "LayoutModel",
     "state": {
      "_model_module": "@jupyter-widgets/base",
      "_model_module_version": "1.2.0",
      "_model_name": "LayoutModel",
      "_view_count": null,
      "_view_module": "@jupyter-widgets/base",
      "_view_module_version": "1.2.0",
      "_view_name": "LayoutView",
      "align_content": null,
      "align_items": null,
      "align_self": null,
      "border": null,
      "bottom": null,
      "display": null,
      "flex": null,
      "flex_flow": null,
      "grid_area": null,
      "grid_auto_columns": null,
      "grid_auto_flow": null,
      "grid_auto_rows": null,
      "grid_column": null,
      "grid_gap": null,
      "grid_row": null,
      "grid_template_areas": null,
      "grid_template_columns": null,
      "grid_template_rows": null,
      "height": null,
      "justify_content": null,
      "justify_items": null,
      "left": null,
      "margin": null,
      "max_height": null,
      "max_width": null,
      "min_height": null,
      "min_width": null,
      "object_fit": null,
      "object_position": null,
      "order": null,
      "overflow": null,
      "overflow_x": null,
      "overflow_y": null,
      "padding": null,
      "right": null,
      "top": null,
      "visibility": null,
      "width": null
     }
    },
    "22484000400842f0b6e245dc610acbba": {
     "model_module": "@jupyter-widgets/base",
     "model_module_version": "1.2.0",
     "model_name": "LayoutModel",
     "state": {
      "_model_module": "@jupyter-widgets/base",
      "_model_module_version": "1.2.0",
      "_model_name": "LayoutModel",
      "_view_count": null,
      "_view_module": "@jupyter-widgets/base",
      "_view_module_version": "1.2.0",
      "_view_name": "LayoutView",
      "align_content": null,
      "align_items": null,
      "align_self": null,
      "border": null,
      "bottom": null,
      "display": null,
      "flex": null,
      "flex_flow": null,
      "grid_area": null,
      "grid_auto_columns": null,
      "grid_auto_flow": null,
      "grid_auto_rows": null,
      "grid_column": null,
      "grid_gap": null,
      "grid_row": null,
      "grid_template_areas": null,
      "grid_template_columns": null,
      "grid_template_rows": null,
      "height": null,
      "justify_content": null,
      "justify_items": null,
      "left": null,
      "margin": null,
      "max_height": null,
      "max_width": null,
      "min_height": null,
      "min_width": null,
      "object_fit": null,
      "object_position": null,
      "order": null,
      "overflow": null,
      "overflow_x": null,
      "overflow_y": null,
      "padding": null,
      "right": null,
      "top": null,
      "visibility": null,
      "width": null
     }
    },
    "22aa774ab39e4fd78b0ff08d430d2b5d": {
     "model_module": "@jupyter-widgets/controls",
     "model_module_version": "1.5.0",
     "model_name": "FloatProgressModel",
     "state": {
      "_dom_classes": [],
      "_model_module": "@jupyter-widgets/controls",
      "_model_module_version": "1.5.0",
      "_model_name": "FloatProgressModel",
      "_view_count": null,
      "_view_module": "@jupyter-widgets/controls",
      "_view_module_version": "1.5.0",
      "_view_name": "ProgressView",
      "bar_style": "success",
      "description": "",
      "description_tooltip": null,
      "layout": "IPY_MODEL_4e64bcb87e584beda0408a0aa5a659ae",
      "max": 1,
      "min": 0,
      "orientation": "horizontal",
      "style": "IPY_MODEL_b077d7562d814df5b6d839464dd4122f",
      "value": 1
     }
    },
    "2b82e42c34804b13bc83be4c7009d4e2": {
     "model_module": "@jupyter-widgets/controls",
     "model_module_version": "1.5.0",
     "model_name": "DescriptionStyleModel",
     "state": {
      "_model_module": "@jupyter-widgets/controls",
      "_model_module_version": "1.5.0",
      "_model_name": "DescriptionStyleModel",
      "_view_count": null,
      "_view_module": "@jupyter-widgets/base",
      "_view_module_version": "1.2.0",
      "_view_name": "StyleView",
      "description_width": ""
     }
    },
    "333e84a304184c57af1821620ae80f6a": {
     "model_module": "@jupyter-widgets/controls",
     "model_module_version": "1.5.0",
     "model_name": "DescriptionStyleModel",
     "state": {
      "_model_module": "@jupyter-widgets/controls",
      "_model_module_version": "1.5.0",
      "_model_name": "DescriptionStyleModel",
      "_view_count": null,
      "_view_module": "@jupyter-widgets/base",
      "_view_module_version": "1.2.0",
      "_view_name": "StyleView",
      "description_width": ""
     }
    },
    "40f7e3754ad44b33acfe0a80b3648a3a": {
     "model_module": "@jupyter-widgets/controls",
     "model_module_version": "1.5.0",
     "model_name": "HBoxModel",
     "state": {
      "_dom_classes": [],
      "_model_module": "@jupyter-widgets/controls",
      "_model_module_version": "1.5.0",
      "_model_name": "HBoxModel",
      "_view_count": null,
      "_view_module": "@jupyter-widgets/controls",
      "_view_module_version": "1.5.0",
      "_view_name": "HBoxView",
      "box_style": "",
      "children": [
       "IPY_MODEL_b1e51beac50f4947a9dd235d8aa87603",
       "IPY_MODEL_8cd9e9702e114ebc856f56975544ede8",
       "IPY_MODEL_b7c7a718a8654956947108969557ca83"
      ],
      "layout": "IPY_MODEL_20a27d1ec76f4d85b1ffe99401fbb5b7"
     }
    },
    "434ac4c51db74681942d2d3bd869b1df": {
     "model_module": "@jupyter-widgets/controls",
     "model_module_version": "1.5.0",
     "model_name": "DescriptionStyleModel",
     "state": {
      "_model_module": "@jupyter-widgets/controls",
      "_model_module_version": "1.5.0",
      "_model_name": "DescriptionStyleModel",
      "_view_count": null,
      "_view_module": "@jupyter-widgets/base",
      "_view_module_version": "1.2.0",
      "_view_name": "StyleView",
      "description_width": ""
     }
    },
    "46a51a1719d8444eb5877720253d3c37": {
     "model_module": "@jupyter-widgets/base",
     "model_module_version": "1.2.0",
     "model_name": "LayoutModel",
     "state": {
      "_model_module": "@jupyter-widgets/base",
      "_model_module_version": "1.2.0",
      "_model_name": "LayoutModel",
      "_view_count": null,
      "_view_module": "@jupyter-widgets/base",
      "_view_module_version": "1.2.0",
      "_view_name": "LayoutView",
      "align_content": null,
      "align_items": null,
      "align_self": null,
      "border": null,
      "bottom": null,
      "display": null,
      "flex": null,
      "flex_flow": null,
      "grid_area": null,
      "grid_auto_columns": null,
      "grid_auto_flow": null,
      "grid_auto_rows": null,
      "grid_column": null,
      "grid_gap": null,
      "grid_row": null,
      "grid_template_areas": null,
      "grid_template_columns": null,
      "grid_template_rows": null,
      "height": null,
      "justify_content": null,
      "justify_items": null,
      "left": null,
      "margin": null,
      "max_height": null,
      "max_width": null,
      "min_height": null,
      "min_width": null,
      "object_fit": null,
      "object_position": null,
      "order": null,
      "overflow": null,
      "overflow_x": null,
      "overflow_y": null,
      "padding": null,
      "right": null,
      "top": null,
      "visibility": null,
      "width": null
     }
    },
    "4e64bcb87e584beda0408a0aa5a659ae": {
     "model_module": "@jupyter-widgets/base",
     "model_module_version": "1.2.0",
     "model_name": "LayoutModel",
     "state": {
      "_model_module": "@jupyter-widgets/base",
      "_model_module_version": "1.2.0",
      "_model_name": "LayoutModel",
      "_view_count": null,
      "_view_module": "@jupyter-widgets/base",
      "_view_module_version": "1.2.0",
      "_view_name": "LayoutView",
      "align_content": null,
      "align_items": null,
      "align_self": null,
      "border": null,
      "bottom": null,
      "display": null,
      "flex": null,
      "flex_flow": null,
      "grid_area": null,
      "grid_auto_columns": null,
      "grid_auto_flow": null,
      "grid_auto_rows": null,
      "grid_column": null,
      "grid_gap": null,
      "grid_row": null,
      "grid_template_areas": null,
      "grid_template_columns": null,
      "grid_template_rows": null,
      "height": null,
      "justify_content": null,
      "justify_items": null,
      "left": null,
      "margin": null,
      "max_height": null,
      "max_width": null,
      "min_height": null,
      "min_width": null,
      "object_fit": null,
      "object_position": null,
      "order": null,
      "overflow": null,
      "overflow_x": null,
      "overflow_y": null,
      "padding": null,
      "right": null,
      "top": null,
      "visibility": null,
      "width": "20px"
     }
    },
    "55146ac7395840dca847e0f63aa80561": {
     "model_module": "@jupyter-widgets/controls",
     "model_module_version": "1.5.0",
     "model_name": "HBoxModel",
     "state": {
      "_dom_classes": [],
      "_model_module": "@jupyter-widgets/controls",
      "_model_module_version": "1.5.0",
      "_model_name": "HBoxModel",
      "_view_count": null,
      "_view_module": "@jupyter-widgets/controls",
      "_view_module_version": "1.5.0",
      "_view_name": "HBoxView",
      "box_style": "",
      "children": [
       "IPY_MODEL_abb9bc76c0ce4634bd340be20c074b8c",
       "IPY_MODEL_a89d790df59245fcaf26335d4903c9b4",
       "IPY_MODEL_f837255914194dc792cf1514dee03dc5"
      ],
      "layout": "IPY_MODEL_46a51a1719d8444eb5877720253d3c37"
     }
    },
    "58d69d086f644e89937347e1f9261d6f": {
     "model_module": "@jupyter-widgets/controls",
     "model_module_version": "1.5.0",
     "model_name": "ProgressStyleModel",
     "state": {
      "_model_module": "@jupyter-widgets/controls",
      "_model_module_version": "1.5.0",
      "_model_name": "ProgressStyleModel",
      "_view_count": null,
      "_view_module": "@jupyter-widgets/base",
      "_view_module_version": "1.2.0",
      "_view_name": "StyleView",
      "bar_color": null,
      "description_width": ""
     }
    },
    "5a28babf4e2e4393bdc1a093034885ab": {
     "model_module": "@jupyter-widgets/base",
     "model_module_version": "1.2.0",
     "model_name": "LayoutModel",
     "state": {
      "_model_module": "@jupyter-widgets/base",
      "_model_module_version": "1.2.0",
      "_model_name": "LayoutModel",
      "_view_count": null,
      "_view_module": "@jupyter-widgets/base",
      "_view_module_version": "1.2.0",
      "_view_name": "LayoutView",
      "align_content": null,
      "align_items": null,
      "align_self": null,
      "border": null,
      "bottom": null,
      "display": null,
      "flex": null,
      "flex_flow": null,
      "grid_area": null,
      "grid_auto_columns": null,
      "grid_auto_flow": null,
      "grid_auto_rows": null,
      "grid_column": null,
      "grid_gap": null,
      "grid_row": null,
      "grid_template_areas": null,
      "grid_template_columns": null,
      "grid_template_rows": null,
      "height": null,
      "justify_content": null,
      "justify_items": null,
      "left": null,
      "margin": null,
      "max_height": null,
      "max_width": null,
      "min_height": null,
      "min_width": null,
      "object_fit": null,
      "object_position": null,
      "order": null,
      "overflow": null,
      "overflow_x": null,
      "overflow_y": null,
      "padding": null,
      "right": null,
      "top": null,
      "visibility": null,
      "width": null
     }
    },
    "673bd3773a374261a01cfc48081c27f3": {
     "model_module": "@jupyter-widgets/controls",
     "model_module_version": "1.5.0",
     "model_name": "DescriptionStyleModel",
     "state": {
      "_model_module": "@jupyter-widgets/controls",
      "_model_module_version": "1.5.0",
      "_model_name": "DescriptionStyleModel",
      "_view_count": null,
      "_view_module": "@jupyter-widgets/base",
      "_view_module_version": "1.2.0",
      "_view_name": "StyleView",
      "description_width": ""
     }
    },
    "7190c928edb040c3a523cdd2e3f45572": {
     "model_module": "@jupyter-widgets/controls",
     "model_module_version": "1.5.0",
     "model_name": "HBoxModel",
     "state": {
      "_dom_classes": [],
      "_model_module": "@jupyter-widgets/controls",
      "_model_module_version": "1.5.0",
      "_model_name": "HBoxModel",
      "_view_count": null,
      "_view_module": "@jupyter-widgets/controls",
      "_view_module_version": "1.5.0",
      "_view_name": "HBoxView",
      "box_style": "",
      "children": [
       "IPY_MODEL_990741ff083d457587665d8f620b69c3",
       "IPY_MODEL_00fe6a550df547cea5b1e0d84c1a3f5f",
       "IPY_MODEL_fab8b1e3187841ee894b92859fa4821b"
      ],
      "layout": "IPY_MODEL_f9b0d916e1a64c2a9f384e42f3d5dcab"
     }
    },
    "7d293204dc1b4d97bb5ee670787c7b7d": {
     "model_module": "@jupyter-widgets/base",
     "model_module_version": "1.2.0",
     "model_name": "LayoutModel",
     "state": {
      "_model_module": "@jupyter-widgets/base",
      "_model_module_version": "1.2.0",
      "_model_name": "LayoutModel",
      "_view_count": null,
      "_view_module": "@jupyter-widgets/base",
      "_view_module_version": "1.2.0",
      "_view_name": "LayoutView",
      "align_content": null,
      "align_items": null,
      "align_self": null,
      "border": null,
      "bottom": null,
      "display": null,
      "flex": null,
      "flex_flow": null,
      "grid_area": null,
      "grid_auto_columns": null,
      "grid_auto_flow": null,
      "grid_auto_rows": null,
      "grid_column": null,
      "grid_gap": null,
      "grid_row": null,
      "grid_template_areas": null,
      "grid_template_columns": null,
      "grid_template_rows": null,
      "height": null,
      "justify_content": null,
      "justify_items": null,
      "left": null,
      "margin": null,
      "max_height": null,
      "max_width": null,
      "min_height": null,
      "min_width": null,
      "object_fit": null,
      "object_position": null,
      "order": null,
      "overflow": null,
      "overflow_x": null,
      "overflow_y": null,
      "padding": null,
      "right": null,
      "top": null,
      "visibility": null,
      "width": null
     }
    },
    "83f345f7424c43929d7a304cbfb6d0fe": {
     "model_module": "@jupyter-widgets/base",
     "model_module_version": "1.2.0",
     "model_name": "LayoutModel",
     "state": {
      "_model_module": "@jupyter-widgets/base",
      "_model_module_version": "1.2.0",
      "_model_name": "LayoutModel",
      "_view_count": null,
      "_view_module": "@jupyter-widgets/base",
      "_view_module_version": "1.2.0",
      "_view_name": "LayoutView",
      "align_content": null,
      "align_items": null,
      "align_self": null,
      "border": null,
      "bottom": null,
      "display": null,
      "flex": null,
      "flex_flow": null,
      "grid_area": null,
      "grid_auto_columns": null,
      "grid_auto_flow": null,
      "grid_auto_rows": null,
      "grid_column": null,
      "grid_gap": null,
      "grid_row": null,
      "grid_template_areas": null,
      "grid_template_columns": null,
      "grid_template_rows": null,
      "height": null,
      "justify_content": null,
      "justify_items": null,
      "left": null,
      "margin": null,
      "max_height": null,
      "max_width": null,
      "min_height": null,
      "min_width": null,
      "object_fit": null,
      "object_position": null,
      "order": null,
      "overflow": null,
      "overflow_x": null,
      "overflow_y": null,
      "padding": null,
      "right": null,
      "top": null,
      "visibility": null,
      "width": null
     }
    },
    "8cd9e9702e114ebc856f56975544ede8": {
     "model_module": "@jupyter-widgets/controls",
     "model_module_version": "1.5.0",
     "model_name": "FloatProgressModel",
     "state": {
      "_dom_classes": [],
      "_model_module": "@jupyter-widgets/controls",
      "_model_module_version": "1.5.0",
      "_model_name": "FloatProgressModel",
      "_view_count": null,
      "_view_module": "@jupyter-widgets/controls",
      "_view_module_version": "1.5.0",
      "_view_name": "ProgressView",
      "bar_style": "danger",
      "description": "",
      "description_tooltip": null,
      "layout": "IPY_MODEL_22484000400842f0b6e245dc610acbba",
      "max": 128,
      "min": 0,
      "orientation": "horizontal",
      "style": "IPY_MODEL_a66a5b4ff37d4dafa4ba3081aa1359f4",
      "value": 12
     }
    },
    "8cf462fa996c41b18fb4571e0a757363": {
     "model_module": "@jupyter-widgets/base",
     "model_module_version": "1.2.0",
     "model_name": "LayoutModel",
     "state": {
      "_model_module": "@jupyter-widgets/base",
      "_model_module_version": "1.2.0",
      "_model_name": "LayoutModel",
      "_view_count": null,
      "_view_module": "@jupyter-widgets/base",
      "_view_module_version": "1.2.0",
      "_view_name": "LayoutView",
      "align_content": null,
      "align_items": null,
      "align_self": null,
      "border": null,
      "bottom": null,
      "display": null,
      "flex": null,
      "flex_flow": null,
      "grid_area": null,
      "grid_auto_columns": null,
      "grid_auto_flow": null,
      "grid_auto_rows": null,
      "grid_column": null,
      "grid_gap": null,
      "grid_row": null,
      "grid_template_areas": null,
      "grid_template_columns": null,
      "grid_template_rows": null,
      "height": null,
      "justify_content": null,
      "justify_items": null,
      "left": null,
      "margin": null,
      "max_height": null,
      "max_width": null,
      "min_height": null,
      "min_width": null,
      "object_fit": null,
      "object_position": null,
      "order": null,
      "overflow": null,
      "overflow_x": null,
      "overflow_y": null,
      "padding": null,
      "right": null,
      "top": null,
      "visibility": null,
      "width": null
     }
    },
    "9233439bdd6746c28ad4a20ef47799f6": {
     "model_module": "@jupyter-widgets/base",
     "model_module_version": "1.2.0",
     "model_name": "LayoutModel",
     "state": {
      "_model_module": "@jupyter-widgets/base",
      "_model_module_version": "1.2.0",
      "_model_name": "LayoutModel",
      "_view_count": null,
      "_view_module": "@jupyter-widgets/base",
      "_view_module_version": "1.2.0",
      "_view_name": "LayoutView",
      "align_content": null,
      "align_items": null,
      "align_self": null,
      "border": null,
      "bottom": null,
      "display": null,
      "flex": null,
      "flex_flow": null,
      "grid_area": null,
      "grid_auto_columns": null,
      "grid_auto_flow": null,
      "grid_auto_rows": null,
      "grid_column": null,
      "grid_gap": null,
      "grid_row": null,
      "grid_template_areas": null,
      "grid_template_columns": null,
      "grid_template_rows": null,
      "height": null,
      "justify_content": null,
      "justify_items": null,
      "left": null,
      "margin": null,
      "max_height": null,
      "max_width": null,
      "min_height": null,
      "min_width": null,
      "object_fit": null,
      "object_position": null,
      "order": null,
      "overflow": null,
      "overflow_x": null,
      "overflow_y": null,
      "padding": null,
      "right": null,
      "top": null,
      "visibility": null,
      "width": null
     }
    },
    "990741ff083d457587665d8f620b69c3": {
     "model_module": "@jupyter-widgets/controls",
     "model_module_version": "1.5.0",
     "model_name": "HTMLModel",
     "state": {
      "_dom_classes": [],
      "_model_module": "@jupyter-widgets/controls",
      "_model_module_version": "1.5.0",
      "_model_name": "HTMLModel",
      "_view_count": null,
      "_view_module": "@jupyter-widgets/controls",
      "_view_module_version": "1.5.0",
      "_view_name": "HTMLView",
      "description": "",
      "description_tooltip": null,
      "layout": "IPY_MODEL_a78199650ecc47bd81f482a2671b563a",
      "placeholder": "​",
      "style": "IPY_MODEL_673bd3773a374261a01cfc48081c27f3",
      "value": "100%"
     }
    },
    "9a01f02fb99b4b81ac487d23bc5daf4a": {
     "model_module": "@jupyter-widgets/controls",
     "model_module_version": "1.5.0",
     "model_name": "HTMLModel",
     "state": {
      "_dom_classes": [],
      "_model_module": "@jupyter-widgets/controls",
      "_model_module_version": "1.5.0",
      "_model_name": "HTMLModel",
      "_view_count": null,
      "_view_module": "@jupyter-widgets/controls",
      "_view_module_version": "1.5.0",
      "_view_name": "HTMLView",
      "description": "",
      "description_tooltip": null,
      "layout": "IPY_MODEL_5a28babf4e2e4393bdc1a093034885ab",
      "placeholder": "​",
      "style": "IPY_MODEL_be07d518c21149d196c610fd57b1eaec",
      "value": " 957/? [00:18&lt;00:00, 51.31it/s]"
     }
    },
    "a66a5b4ff37d4dafa4ba3081aa1359f4": {
     "model_module": "@jupyter-widgets/controls",
     "model_module_version": "1.5.0",
     "model_name": "ProgressStyleModel",
     "state": {
      "_model_module": "@jupyter-widgets/controls",
      "_model_module_version": "1.5.0",
      "_model_name": "ProgressStyleModel",
      "_view_count": null,
      "_view_module": "@jupyter-widgets/base",
      "_view_module_version": "1.2.0",
      "_view_name": "StyleView",
      "bar_color": null,
      "description_width": ""
     }
    },
    "a78199650ecc47bd81f482a2671b563a": {
     "model_module": "@jupyter-widgets/base",
     "model_module_version": "1.2.0",
     "model_name": "LayoutModel",
     "state": {
      "_model_module": "@jupyter-widgets/base",
      "_model_module_version": "1.2.0",
      "_model_name": "LayoutModel",
      "_view_count": null,
      "_view_module": "@jupyter-widgets/base",
      "_view_module_version": "1.2.0",
      "_view_name": "LayoutView",
      "align_content": null,
      "align_items": null,
      "align_self": null,
      "border": null,
      "bottom": null,
      "display": null,
      "flex": null,
      "flex_flow": null,
      "grid_area": null,
      "grid_auto_columns": null,
      "grid_auto_flow": null,
      "grid_auto_rows": null,
      "grid_column": null,
      "grid_gap": null,
      "grid_row": null,
      "grid_template_areas": null,
      "grid_template_columns": null,
      "grid_template_rows": null,
      "height": null,
      "justify_content": null,
      "justify_items": null,
      "left": null,
      "margin": null,
      "max_height": null,
      "max_width": null,
      "min_height": null,
      "min_width": null,
      "object_fit": null,
      "object_position": null,
      "order": null,
      "overflow": null,
      "overflow_x": null,
      "overflow_y": null,
      "padding": null,
      "right": null,
      "top": null,
      "visibility": null,
      "width": null
     }
    },
    "a89d790df59245fcaf26335d4903c9b4": {
     "model_module": "@jupyter-widgets/controls",
     "model_module_version": "1.5.0",
     "model_name": "FloatProgressModel",
     "state": {
      "_dom_classes": [],
      "_model_module": "@jupyter-widgets/controls",
      "_model_module_version": "1.5.0",
      "_model_name": "FloatProgressModel",
      "_view_count": null,
      "_view_module": "@jupyter-widgets/controls",
      "_view_module_version": "1.5.0",
      "_view_name": "ProgressView",
      "bar_style": "success",
      "description": "",
      "description_tooltip": null,
      "layout": "IPY_MODEL_9233439bdd6746c28ad4a20ef47799f6",
      "max": 280,
      "min": 0,
      "orientation": "horizontal",
      "style": "IPY_MODEL_0e10428326bc436e8dbc079e89570bde",
      "value": 280
     }
    },
    "a972aba7913b48c6973ae27bff5b9d1d": {
     "model_module": "@jupyter-widgets/controls",
     "model_module_version": "1.5.0",
     "model_name": "HTMLModel",
     "state": {
      "_dom_classes": [],
      "_model_module": "@jupyter-widgets/controls",
      "_model_module_version": "1.5.0",
      "_model_name": "HTMLModel",
      "_view_count": null,
      "_view_module": "@jupyter-widgets/controls",
      "_view_module_version": "1.5.0",
      "_view_name": "HTMLView",
      "description": "",
      "description_tooltip": null,
      "layout": "IPY_MODEL_7d293204dc1b4d97bb5ee670787c7b7d",
      "placeholder": "​",
      "style": "IPY_MODEL_ea8fa440f320435aa75c9bef75bc3f08",
      "value": ""
     }
    },
    "abb9bc76c0ce4634bd340be20c074b8c": {
     "model_module": "@jupyter-widgets/controls",
     "model_module_version": "1.5.0",
     "model_name": "HTMLModel",
     "state": {
      "_dom_classes": [],
      "_model_module": "@jupyter-widgets/controls",
      "_model_module_version": "1.5.0",
      "_model_name": "HTMLModel",
      "_view_count": null,
      "_view_module": "@jupyter-widgets/controls",
      "_view_module_version": "1.5.0",
      "_view_name": "HTMLView",
      "description": "",
      "description_tooltip": null,
      "layout": "IPY_MODEL_013d2a6b90144432bbfb15136235faba",
      "placeholder": "​",
      "style": "IPY_MODEL_2b82e42c34804b13bc83be4c7009d4e2",
      "value": ""
     }
    },
    "b077d7562d814df5b6d839464dd4122f": {
     "model_module": "@jupyter-widgets/controls",
     "model_module_version": "1.5.0",
     "model_name": "ProgressStyleModel",
     "state": {
      "_model_module": "@jupyter-widgets/controls",
      "_model_module_version": "1.5.0",
      "_model_name": "ProgressStyleModel",
      "_view_count": null,
      "_view_module": "@jupyter-widgets/base",
      "_view_module_version": "1.2.0",
      "_view_name": "StyleView",
      "bar_color": null,
      "description_width": ""
     }
    },
    "b1e51beac50f4947a9dd235d8aa87603": {
     "model_module": "@jupyter-widgets/controls",
     "model_module_version": "1.5.0",
     "model_name": "HTMLModel",
     "state": {
      "_dom_classes": [],
      "_model_module": "@jupyter-widgets/controls",
      "_model_module_version": "1.5.0",
      "_model_name": "HTMLModel",
      "_view_count": null,
      "_view_module": "@jupyter-widgets/controls",
      "_view_module_version": "1.5.0",
      "_view_name": "HTMLView",
      "description": "",
      "description_tooltip": null,
      "layout": "IPY_MODEL_e0ddf3970b3e4248bc87d4649fa9c448",
      "placeholder": "​",
      "style": "IPY_MODEL_d7bdde54e2534c49a207540bd258d3ae",
      "value": "  9%"
     }
    },
    "b7c7a718a8654956947108969557ca83": {
     "model_module": "@jupyter-widgets/controls",
     "model_module_version": "1.5.0",
     "model_name": "HTMLModel",
     "state": {
      "_dom_classes": [],
      "_model_module": "@jupyter-widgets/controls",
      "_model_module_version": "1.5.0",
      "_model_name": "HTMLModel",
      "_view_count": null,
      "_view_module": "@jupyter-widgets/controls",
      "_view_module_version": "1.5.0",
      "_view_name": "HTMLView",
      "description": "",
      "description_tooltip": null,
      "layout": "IPY_MODEL_0b7866c29e5f4afe9b92de15f1b88c3e",
      "placeholder": "​",
      "style": "IPY_MODEL_333e84a304184c57af1821620ae80f6a",
      "value": " 12/128 [00:00&lt;00:01, 73.96it/s]"
     }
    },
    "be07d518c21149d196c610fd57b1eaec": {
     "model_module": "@jupyter-widgets/controls",
     "model_module_version": "1.5.0",
     "model_name": "DescriptionStyleModel",
     "state": {
      "_model_module": "@jupyter-widgets/controls",
      "_model_module_version": "1.5.0",
      "_model_name": "DescriptionStyleModel",
      "_view_count": null,
      "_view_module": "@jupyter-widgets/base",
      "_view_module_version": "1.2.0",
      "_view_name": "StyleView",
      "description_width": ""
     }
    },
    "c9db4cd83b7b4f53a0fa93b8c365debd": {
     "model_module": "@jupyter-widgets/controls",
     "model_module_version": "1.5.0",
     "model_name": "HBoxModel",
     "state": {
      "_dom_classes": [],
      "_model_module": "@jupyter-widgets/controls",
      "_model_module_version": "1.5.0",
      "_model_name": "HBoxModel",
      "_view_count": null,
      "_view_module": "@jupyter-widgets/controls",
      "_view_module_version": "1.5.0",
      "_view_name": "HBoxView",
      "box_style": "",
      "children": [
       "IPY_MODEL_a972aba7913b48c6973ae27bff5b9d1d",
       "IPY_MODEL_22aa774ab39e4fd78b0ff08d430d2b5d",
       "IPY_MODEL_9a01f02fb99b4b81ac487d23bc5daf4a"
      ],
      "layout": "IPY_MODEL_19f846338f6b48c9930b58575641e5b8"
     }
    },
    "d7bdde54e2534c49a207540bd258d3ae": {
     "model_module": "@jupyter-widgets/controls",
     "model_module_version": "1.5.0",
     "model_name": "DescriptionStyleModel",
     "state": {
      "_model_module": "@jupyter-widgets/controls",
      "_model_module_version": "1.5.0",
      "_model_name": "DescriptionStyleModel",
      "_view_count": null,
      "_view_module": "@jupyter-widgets/base",
      "_view_module_version": "1.2.0",
      "_view_name": "StyleView",
      "description_width": ""
     }
    },
    "e0ddf3970b3e4248bc87d4649fa9c448": {
     "model_module": "@jupyter-widgets/base",
     "model_module_version": "1.2.0",
     "model_name": "LayoutModel",
     "state": {
      "_model_module": "@jupyter-widgets/base",
      "_model_module_version": "1.2.0",
      "_model_name": "LayoutModel",
      "_view_count": null,
      "_view_module": "@jupyter-widgets/base",
      "_view_module_version": "1.2.0",
      "_view_name": "LayoutView",
      "align_content": null,
      "align_items": null,
      "align_self": null,
      "border": null,
      "bottom": null,
      "display": null,
      "flex": null,
      "flex_flow": null,
      "grid_area": null,
      "grid_auto_columns": null,
      "grid_auto_flow": null,
      "grid_auto_rows": null,
      "grid_column": null,
      "grid_gap": null,
      "grid_row": null,
      "grid_template_areas": null,
      "grid_template_columns": null,
      "grid_template_rows": null,
      "height": null,
      "justify_content": null,
      "justify_items": null,
      "left": null,
      "margin": null,
      "max_height": null,
      "max_width": null,
      "min_height": null,
      "min_width": null,
      "object_fit": null,
      "object_position": null,
      "order": null,
      "overflow": null,
      "overflow_x": null,
      "overflow_y": null,
      "padding": null,
      "right": null,
      "top": null,
      "visibility": null,
      "width": null
     }
    },
    "ea8fa440f320435aa75c9bef75bc3f08": {
     "model_module": "@jupyter-widgets/controls",
     "model_module_version": "1.5.0",
     "model_name": "DescriptionStyleModel",
     "state": {
      "_model_module": "@jupyter-widgets/controls",
      "_model_module_version": "1.5.0",
      "_model_name": "DescriptionStyleModel",
      "_view_count": null,
      "_view_module": "@jupyter-widgets/base",
      "_view_module_version": "1.2.0",
      "_view_name": "StyleView",
      "description_width": ""
     }
    },
    "f837255914194dc792cf1514dee03dc5": {
     "model_module": "@jupyter-widgets/controls",
     "model_module_version": "1.5.0",
     "model_name": "HTMLModel",
     "state": {
      "_dom_classes": [],
      "_model_module": "@jupyter-widgets/controls",
      "_model_module_version": "1.5.0",
      "_model_name": "HTMLModel",
      "_view_count": null,
      "_view_module": "@jupyter-widgets/controls",
      "_view_module_version": "1.5.0",
      "_view_name": "HTMLView",
      "description": "",
      "description_tooltip": null,
      "layout": "IPY_MODEL_0fe4ed7283c04496affe727c235d31c4",
      "placeholder": "​",
      "style": "IPY_MODEL_0c0c7229347b49ffbb9a0f7bd41199b9",
      "value": " 21020/? [21:30&lt;00:00, 15.32it/s, epoch=19, loss=2.61, val_loss=3.41]"
     }
    },
    "f9b0d916e1a64c2a9f384e42f3d5dcab": {
     "model_module": "@jupyter-widgets/base",
     "model_module_version": "1.2.0",
     "model_name": "LayoutModel",
     "state": {
      "_model_module": "@jupyter-widgets/base",
      "_model_module_version": "1.2.0",
      "_model_name": "LayoutModel",
      "_view_count": null,
      "_view_module": "@jupyter-widgets/base",
      "_view_module_version": "1.2.0",
      "_view_name": "LayoutView",
      "align_content": null,
      "align_items": null,
      "align_self": null,
      "border": null,
      "bottom": null,
      "display": null,
      "flex": null,
      "flex_flow": null,
      "grid_area": null,
      "grid_auto_columns": null,
      "grid_auto_flow": null,
      "grid_auto_rows": null,
      "grid_column": null,
      "grid_gap": null,
      "grid_row": null,
      "grid_template_areas": null,
      "grid_template_columns": null,
      "grid_template_rows": null,
      "height": null,
      "justify_content": null,
      "justify_items": null,
      "left": null,
      "margin": null,
      "max_height": null,
      "max_width": null,
      "min_height": null,
      "min_width": null,
      "object_fit": null,
      "object_position": null,
      "order": null,
      "overflow": null,
      "overflow_x": null,
      "overflow_y": null,
      "padding": null,
      "right": null,
      "top": null,
      "visibility": null,
      "width": null
     }
    },
    "fab8b1e3187841ee894b92859fa4821b": {
     "model_module": "@jupyter-widgets/controls",
     "model_module_version": "1.5.0",
     "model_name": "HTMLModel",
     "state": {
      "_dom_classes": [],
      "_model_module": "@jupyter-widgets/controls",
      "_model_module_version": "1.5.0",
      "_model_name": "HTMLModel",
      "_view_count": null,
      "_view_module": "@jupyter-widgets/controls",
      "_view_module_version": "1.5.0",
      "_view_name": "HTMLView",
      "description": "",
      "description_tooltip": null,
      "layout": "IPY_MODEL_8cf462fa996c41b18fb4571e0a757363",
      "placeholder": "​",
      "style": "IPY_MODEL_434ac4c51db74681942d2d3bd869b1df",
      "value": " 9714/9714 [00:00&lt;00:00, 236744.37it/s]"
     }
    }
   }
  }
 },
 "nbformat": 4,
 "nbformat_minor": 4
}
